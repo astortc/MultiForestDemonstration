{
 "cells": [
  {
   "cell_type": "markdown",
   "metadata": {},
   "source": [
    "# MultiForest optimization notebook\n",
    "# NORWAY"
   ]
  },
  {
   "cell_type": "markdown",
   "metadata": {},
   "source": [
    "Above the code cells, there are short instructions how the users can modify the codes in the cells.<br>\n",
    "If there are no instructions, no changes should be needed for the cell by default.\n",
    "\n",
    "A detailed description is provided in the <b>README.md</b>.\n",
    "\n",
    "## Basic definitions\n",
    "Simulated forest data - name and climate scenario"
   ]
  },
  {
   "cell_type": "code",
   "execution_count": 1,
   "metadata": {},
   "outputs": [],
   "source": [
    "RCP = \"RCP45\" # NDC scenario"
   ]
  },
  {
   "cell_type": "markdown",
   "metadata": {},
   "source": [
    "Specify policy scenario:\n",
    "\n",
    "- \"FS\" -  National Forest Strategy\n",
    "- \"BDS\" - Biodiversity Strategy\n",
    "- \"BES\" - Bioeconomy Strategy"
   ]
  },
  {
   "cell_type": "code",
   "execution_count": 2,
   "metadata": {},
   "outputs": [],
   "source": [
    "scenario =\"BES\""
   ]
  },
  {
   "cell_type": "markdown",
   "metadata": {},
   "source": [
    "## Read .py class & data"
   ]
  },
  {
   "cell_type": "code",
   "execution_count": 7,
   "metadata": {},
   "outputs": [],
   "source": [
    "import wget\n",
    "import os\n",
    "import numpy as np\n",
    "import pandas as pd\n",
    "import sys"
   ]
  },
  {
   "cell_type": "code",
   "execution_count": 83,
   "metadata": {
    "scrolled": true
   },
   "outputs": [],
   "source": [
    "module_path = os.path.abspath(os.path.join('..'))\n",
    "if module_path not in sys.path:\n",
    "    sys.path.append(module_path+\"/py_class\")\n",
    "\n",
    "import multiFunctionalOptimization as MFO"
   ]
  },
  {
   "cell_type": "code",
   "execution_count": 84,
   "metadata": {},
   "outputs": [
    {
     "data": {
      "text/plain": [
       "<module 'multiFunctionalOptimization' from '/home/ubuntu/workspace/mf_optimization_demo/py_class/multiFunctionalOptimization.py'>"
      ]
     },
     "execution_count": 84,
     "metadata": {},
     "output_type": "execute_result"
    }
   ],
   "source": [
    "from importlib import reload\n",
    "reload(MFO)"
   ]
  },
  {
   "cell_type": "code",
   "execution_count": 85,
   "metadata": {},
   "outputs": [
    {
     "data": {
      "text/plain": [
       "'Using CPLEX'"
      ]
     },
     "metadata": {},
     "output_type": "display_data"
    }
   ],
   "source": [
    "mfo = MFO.MultiFunctionalOptimization(solver = 'CPLEX')"
   ]
  },
  {
   "cell_type": "markdown",
   "metadata": {},
   "source": [
    "<b>You need to \"unrar\" the file testData.rar first</b>"
   ]
  },
  {
   "cell_type": "code",
   "execution_count": 48,
   "metadata": {},
   "outputs": [
    {
     "data": {
      "text/plain": [
       "'testData.csv'"
      ]
     },
     "execution_count": 48,
     "metadata": {},
     "output_type": "execute_result"
    }
   ],
   "source": [
    "filename = \"testData.csv\"\n",
    "filename"
   ]
  },
  {
   "cell_type": "code",
   "execution_count": 49,
   "metadata": {},
   "outputs": [
    {
     "data": {
      "text/plain": [
       "'testData.csv'"
      ]
     },
     "execution_count": 49,
     "metadata": {},
     "output_type": "execute_result"
    }
   ],
   "source": [
    "filename"
   ]
  },
  {
   "cell_type": "code",
   "execution_count": 50,
   "metadata": {},
   "outputs": [
    {
     "name": "stdout",
     "output_type": "stream",
     "text": [
      "CPU times: user 1.13 s, sys: 877 ms, total: 2 s\n",
      "Wall time: 2 s\n"
     ]
    }
   ],
   "source": [
    "%%time\n",
    "mfo.readData(filename,standsEnu = \"plot_id\",delimeter = \",\",\n",
    "             areaCol = \"tsd_ha2total\", \n",
    "             sampleRatio=1) #If no sample ratio given, the ratio is assumed to be 1\n",
    "                             #0.2 means 20% of the data"
   ]
  },
  {
   "cell_type": "code",
   "execution_count": 51,
   "metadata": {},
   "outputs": [
    {
     "data": {
      "text/plain": [
       "Index(['plot_id', 'year', 'regime', 'period', 'pulp_vol_m3',\n",
       "       'harv_cost_nok_m3', 'harv_cost_u150', 'harv_cost_u200',\n",
       "       'net_increment_m3', 'is_old', 'is_broadleave', 'MiS_classified_plot',\n",
       "       'bilberry_cover_pr', 'GROT_kt_TotNor', 'vol_saw_m3', 'saw_CO2_t',\n",
       "       'vol_panels_m3', 'panels_CO2_t', 'albedo', 'is_steep_terrain',\n",
       "       'is_vernskog', 'is_city_forest', 'shan', 'class_dbh', 'ha2total',\n",
       "       'management', 'harv_net_Mnok_TotNor', 'harv_vol_Mm3_TotNor',\n",
       "       'saw_vol_Mm3_TotNor', 'pulp_vol_Mm3_TotNor', 'dead_vol_Mm3_TotNor',\n",
       "       'tsd_ha2total', 'CO2_forest_Mil_Kt_TotNor',\n",
       "       'CO2_forest_Mil_Kt_TotNor_no_albedo', 'saw_CO2_change_Kt_TotNor',\n",
       "       'saw_CO2_Kt_TotNor', 'panels_CO2_change_Kt_TotNor', 'HWP_C02_TotNor',\n",
       "       'Bilberry_ha_TotNor', 'MiS_ha', 'SawTimber_Mm3_year', 'pulp_Mm3_year',\n",
       "       'GROT_t', 'GROT_m3', 'GROT_Mm3', 'Residues_Mm3_year',\n",
       "       'harvest_demands_Mm3_year', 'regime.class', 'finalFelling', 'is_CCF',\n",
       "       'is_nomanagement', 'is_vers_or_ste', 'FinaL_versk', 'FinaL_city',\n",
       "       'High_classdbh', 'Sha_highclassdbh_Tot_Nor', 'Relative_albedo',\n",
       "       'Relative_shan', 'Relative_ha2total', 'Relative_dead_vol_Mm3_TotNor',\n",
       "       'Relative_tsd_ha2total', 'Relative_CO2_forest_Mil_Kt_TotNor',\n",
       "       'Relative_CO2_forest_Mil_Kt_TotNor_no_albedo',\n",
       "       'Relative_Bilberry_ha_TotNor', 'Relative_MiS_ha',\n",
       "       'Relative_Sha_highclassdbh_Tot_Nor'],\n",
       "      dtype='object')"
      ]
     },
     "execution_count": 51,
     "metadata": {},
     "output_type": "execute_result"
    }
   ],
   "source": [
    "mfo.data.columns"
   ]
  },
  {
   "cell_type": "code",
   "execution_count": 52,
   "metadata": {},
   "outputs": [],
   "source": [
    "mfo.finalizeData(initialTime = 2023)"
   ]
  },
  {
   "cell_type": "code",
   "execution_count": 53,
   "metadata": {},
   "outputs": [
    {
     "data": {
      "text/html": [
       "<div>\n",
       "<style scoped>\n",
       "    .dataframe tbody tr th:only-of-type {\n",
       "        vertical-align: middle;\n",
       "    }\n",
       "\n",
       "    .dataframe tbody tr th {\n",
       "        vertical-align: top;\n",
       "    }\n",
       "\n",
       "    .dataframe thead th {\n",
       "        text-align: right;\n",
       "    }\n",
       "</style>\n",
       "<table border=\"1\" class=\"dataframe\">\n",
       "  <thead>\n",
       "    <tr style=\"text-align: right;\">\n",
       "      <th></th>\n",
       "      <th></th>\n",
       "      <th></th>\n",
       "      <th>period</th>\n",
       "      <th>pulp_vol_m3</th>\n",
       "      <th>harv_cost_nok_m3</th>\n",
       "      <th>harv_cost_u150</th>\n",
       "      <th>harv_cost_u200</th>\n",
       "      <th>net_increment_m3</th>\n",
       "      <th>is_old</th>\n",
       "      <th>is_broadleave</th>\n",
       "      <th>MiS_classified_plot</th>\n",
       "      <th>bilberry_cover_pr</th>\n",
       "      <th>...</th>\n",
       "      <th>Relative_albedo</th>\n",
       "      <th>Relative_shan</th>\n",
       "      <th>Relative_ha2total</th>\n",
       "      <th>Relative_dead_vol_Mm3_TotNor</th>\n",
       "      <th>Relative_tsd_ha2total</th>\n",
       "      <th>Relative_CO2_forest_Mil_Kt_TotNor</th>\n",
       "      <th>Relative_CO2_forest_Mil_Kt_TotNor_no_albedo</th>\n",
       "      <th>Relative_Bilberry_ha_TotNor</th>\n",
       "      <th>Relative_MiS_ha</th>\n",
       "      <th>Relative_Sha_highclassdbh_Tot_Nor</th>\n",
       "    </tr>\n",
       "    <tr>\n",
       "      <th>plot_id</th>\n",
       "      <th>year</th>\n",
       "      <th>regime</th>\n",
       "      <th></th>\n",
       "      <th></th>\n",
       "      <th></th>\n",
       "      <th></th>\n",
       "      <th></th>\n",
       "      <th></th>\n",
       "      <th></th>\n",
       "      <th></th>\n",
       "      <th></th>\n",
       "      <th></th>\n",
       "      <th></th>\n",
       "      <th></th>\n",
       "      <th></th>\n",
       "      <th></th>\n",
       "      <th></th>\n",
       "      <th></th>\n",
       "      <th></th>\n",
       "      <th></th>\n",
       "      <th></th>\n",
       "      <th></th>\n",
       "      <th></th>\n",
       "    </tr>\n",
       "  </thead>\n",
       "  <tbody>\n",
       "    <tr>\n",
       "      <th rowspan=\"5\" valign=\"top\">A03187-1</th>\n",
       "      <th rowspan=\"5\" valign=\"top\">2023</th>\n",
       "      <th>SimOpt_extensive_0</th>\n",
       "      <td>t1</td>\n",
       "      <td>35612.018505</td>\n",
       "      <td>909.320021</td>\n",
       "      <td>0</td>\n",
       "      <td>0</td>\n",
       "      <td>2195.434622</td>\n",
       "      <td>0</td>\n",
       "      <td>0</td>\n",
       "      <td>0</td>\n",
       "      <td>2</td>\n",
       "      <td>...</td>\n",
       "      <td>0.000519</td>\n",
       "      <td>0.000000</td>\n",
       "      <td>0.000266</td>\n",
       "      <td>0.0</td>\n",
       "      <td>0.000266</td>\n",
       "      <td>-0.005028</td>\n",
       "      <td>-0.005667</td>\n",
       "      <td>0.000069</td>\n",
       "      <td>0.0</td>\n",
       "      <td>0.000000</td>\n",
       "    </tr>\n",
       "    <tr>\n",
       "      <th>SimOpt_extensive_1</th>\n",
       "      <td>t1</td>\n",
       "      <td>0.000000</td>\n",
       "      <td>0.000000</td>\n",
       "      <td>0</td>\n",
       "      <td>0</td>\n",
       "      <td>4592.344651</td>\n",
       "      <td>0</td>\n",
       "      <td>0</td>\n",
       "      <td>0</td>\n",
       "      <td>4</td>\n",
       "      <td>...</td>\n",
       "      <td>0.000458</td>\n",
       "      <td>0.000202</td>\n",
       "      <td>0.000266</td>\n",
       "      <td>0.0</td>\n",
       "      <td>0.000266</td>\n",
       "      <td>0.001362</td>\n",
       "      <td>0.001304</td>\n",
       "      <td>0.000138</td>\n",
       "      <td>0.0</td>\n",
       "      <td>0.000126</td>\n",
       "    </tr>\n",
       "    <tr>\n",
       "      <th>SimOpt_extensive_10</th>\n",
       "      <td>t1</td>\n",
       "      <td>0.000000</td>\n",
       "      <td>0.000000</td>\n",
       "      <td>0</td>\n",
       "      <td>0</td>\n",
       "      <td>4592.344651</td>\n",
       "      <td>0</td>\n",
       "      <td>0</td>\n",
       "      <td>0</td>\n",
       "      <td>4</td>\n",
       "      <td>...</td>\n",
       "      <td>0.000458</td>\n",
       "      <td>0.000202</td>\n",
       "      <td>0.000266</td>\n",
       "      <td>0.0</td>\n",
       "      <td>0.000266</td>\n",
       "      <td>0.001362</td>\n",
       "      <td>0.001304</td>\n",
       "      <td>0.000138</td>\n",
       "      <td>0.0</td>\n",
       "      <td>0.000126</td>\n",
       "    </tr>\n",
       "    <tr>\n",
       "      <th>SimOpt_extensive_11</th>\n",
       "      <td>t1</td>\n",
       "      <td>0.000000</td>\n",
       "      <td>0.000000</td>\n",
       "      <td>0</td>\n",
       "      <td>0</td>\n",
       "      <td>4592.344651</td>\n",
       "      <td>0</td>\n",
       "      <td>0</td>\n",
       "      <td>0</td>\n",
       "      <td>4</td>\n",
       "      <td>...</td>\n",
       "      <td>0.000458</td>\n",
       "      <td>0.000202</td>\n",
       "      <td>0.000266</td>\n",
       "      <td>0.0</td>\n",
       "      <td>0.000266</td>\n",
       "      <td>0.001362</td>\n",
       "      <td>0.001304</td>\n",
       "      <td>0.000138</td>\n",
       "      <td>0.0</td>\n",
       "      <td>0.000126</td>\n",
       "    </tr>\n",
       "    <tr>\n",
       "      <th>SimOpt_extensive_12</th>\n",
       "      <td>t1</td>\n",
       "      <td>0.000000</td>\n",
       "      <td>0.000000</td>\n",
       "      <td>0</td>\n",
       "      <td>0</td>\n",
       "      <td>4592.344651</td>\n",
       "      <td>0</td>\n",
       "      <td>0</td>\n",
       "      <td>0</td>\n",
       "      <td>4</td>\n",
       "      <td>...</td>\n",
       "      <td>0.000458</td>\n",
       "      <td>0.000202</td>\n",
       "      <td>0.000266</td>\n",
       "      <td>0.0</td>\n",
       "      <td>0.000266</td>\n",
       "      <td>0.001362</td>\n",
       "      <td>0.001304</td>\n",
       "      <td>0.000138</td>\n",
       "      <td>0.0</td>\n",
       "      <td>0.000126</td>\n",
       "    </tr>\n",
       "  </tbody>\n",
       "</table>\n",
       "<p>5 rows × 63 columns</p>\n",
       "</div>"
      ],
      "text/plain": [
       "                                  period   pulp_vol_m3  harv_cost_nok_m3  \\\n",
       "plot_id  year regime                                                       \n",
       "A03187-1 2023 SimOpt_extensive_0      t1  35612.018505        909.320021   \n",
       "              SimOpt_extensive_1      t1      0.000000          0.000000   \n",
       "              SimOpt_extensive_10     t1      0.000000          0.000000   \n",
       "              SimOpt_extensive_11     t1      0.000000          0.000000   \n",
       "              SimOpt_extensive_12     t1      0.000000          0.000000   \n",
       "\n",
       "                                   harv_cost_u150  harv_cost_u200  \\\n",
       "plot_id  year regime                                                \n",
       "A03187-1 2023 SimOpt_extensive_0                0               0   \n",
       "              SimOpt_extensive_1                0               0   \n",
       "              SimOpt_extensive_10               0               0   \n",
       "              SimOpt_extensive_11               0               0   \n",
       "              SimOpt_extensive_12               0               0   \n",
       "\n",
       "                                   net_increment_m3  is_old  is_broadleave  \\\n",
       "plot_id  year regime                                                         \n",
       "A03187-1 2023 SimOpt_extensive_0        2195.434622       0              0   \n",
       "              SimOpt_extensive_1        4592.344651       0              0   \n",
       "              SimOpt_extensive_10       4592.344651       0              0   \n",
       "              SimOpt_extensive_11       4592.344651       0              0   \n",
       "              SimOpt_extensive_12       4592.344651       0              0   \n",
       "\n",
       "                                   MiS_classified_plot  bilberry_cover_pr  \\\n",
       "plot_id  year regime                                                        \n",
       "A03187-1 2023 SimOpt_extensive_0                     0                  2   \n",
       "              SimOpt_extensive_1                     0                  4   \n",
       "              SimOpt_extensive_10                    0                  4   \n",
       "              SimOpt_extensive_11                    0                  4   \n",
       "              SimOpt_extensive_12                    0                  4   \n",
       "\n",
       "                                   ...  Relative_albedo  Relative_shan  \\\n",
       "plot_id  year regime               ...                                   \n",
       "A03187-1 2023 SimOpt_extensive_0   ...         0.000519       0.000000   \n",
       "              SimOpt_extensive_1   ...         0.000458       0.000202   \n",
       "              SimOpt_extensive_10  ...         0.000458       0.000202   \n",
       "              SimOpt_extensive_11  ...         0.000458       0.000202   \n",
       "              SimOpt_extensive_12  ...         0.000458       0.000202   \n",
       "\n",
       "                                   Relative_ha2total  \\\n",
       "plot_id  year regime                                   \n",
       "A03187-1 2023 SimOpt_extensive_0            0.000266   \n",
       "              SimOpt_extensive_1            0.000266   \n",
       "              SimOpt_extensive_10           0.000266   \n",
       "              SimOpt_extensive_11           0.000266   \n",
       "              SimOpt_extensive_12           0.000266   \n",
       "\n",
       "                                   Relative_dead_vol_Mm3_TotNor  \\\n",
       "plot_id  year regime                                              \n",
       "A03187-1 2023 SimOpt_extensive_0                            0.0   \n",
       "              SimOpt_extensive_1                            0.0   \n",
       "              SimOpt_extensive_10                           0.0   \n",
       "              SimOpt_extensive_11                           0.0   \n",
       "              SimOpt_extensive_12                           0.0   \n",
       "\n",
       "                                   Relative_tsd_ha2total  \\\n",
       "plot_id  year regime                                       \n",
       "A03187-1 2023 SimOpt_extensive_0                0.000266   \n",
       "              SimOpt_extensive_1                0.000266   \n",
       "              SimOpt_extensive_10               0.000266   \n",
       "              SimOpt_extensive_11               0.000266   \n",
       "              SimOpt_extensive_12               0.000266   \n",
       "\n",
       "                                   Relative_CO2_forest_Mil_Kt_TotNor  \\\n",
       "plot_id  year regime                                                   \n",
       "A03187-1 2023 SimOpt_extensive_0                           -0.005028   \n",
       "              SimOpt_extensive_1                            0.001362   \n",
       "              SimOpt_extensive_10                           0.001362   \n",
       "              SimOpt_extensive_11                           0.001362   \n",
       "              SimOpt_extensive_12                           0.001362   \n",
       "\n",
       "                                   Relative_CO2_forest_Mil_Kt_TotNor_no_albedo  \\\n",
       "plot_id  year regime                                                             \n",
       "A03187-1 2023 SimOpt_extensive_0                                     -0.005667   \n",
       "              SimOpt_extensive_1                                      0.001304   \n",
       "              SimOpt_extensive_10                                     0.001304   \n",
       "              SimOpt_extensive_11                                     0.001304   \n",
       "              SimOpt_extensive_12                                     0.001304   \n",
       "\n",
       "                                   Relative_Bilberry_ha_TotNor  \\\n",
       "plot_id  year regime                                             \n",
       "A03187-1 2023 SimOpt_extensive_0                      0.000069   \n",
       "              SimOpt_extensive_1                      0.000138   \n",
       "              SimOpt_extensive_10                     0.000138   \n",
       "              SimOpt_extensive_11                     0.000138   \n",
       "              SimOpt_extensive_12                     0.000138   \n",
       "\n",
       "                                   Relative_MiS_ha  \\\n",
       "plot_id  year regime                                 \n",
       "A03187-1 2023 SimOpt_extensive_0               0.0   \n",
       "              SimOpt_extensive_1               0.0   \n",
       "              SimOpt_extensive_10              0.0   \n",
       "              SimOpt_extensive_11              0.0   \n",
       "              SimOpt_extensive_12              0.0   \n",
       "\n",
       "                                   Relative_Sha_highclassdbh_Tot_Nor  \n",
       "plot_id  year regime                                                  \n",
       "A03187-1 2023 SimOpt_extensive_0                            0.000000  \n",
       "              SimOpt_extensive_1                            0.000126  \n",
       "              SimOpt_extensive_10                           0.000126  \n",
       "              SimOpt_extensive_11                           0.000126  \n",
       "              SimOpt_extensive_12                           0.000126  \n",
       "\n",
       "[5 rows x 63 columns]"
      ]
     },
     "execution_count": 53,
     "metadata": {},
     "output_type": "execute_result"
    }
   ],
   "source": [
    "mfo.initialData.head()"
   ]
  },
  {
   "cell_type": "code",
   "execution_count": 54,
   "metadata": {},
   "outputs": [
    {
     "data": {
      "text/html": [
       "<div>\n",
       "<style scoped>\n",
       "    .dataframe tbody tr th:only-of-type {\n",
       "        vertical-align: middle;\n",
       "    }\n",
       "\n",
       "    .dataframe tbody tr th {\n",
       "        vertical-align: top;\n",
       "    }\n",
       "\n",
       "    .dataframe thead th {\n",
       "        text-align: right;\n",
       "    }\n",
       "</style>\n",
       "<table border=\"1\" class=\"dataframe\">\n",
       "  <thead>\n",
       "    <tr style=\"text-align: right;\">\n",
       "      <th></th>\n",
       "      <th></th>\n",
       "      <th></th>\n",
       "      <th>period</th>\n",
       "      <th>pulp_vol_m3</th>\n",
       "      <th>harv_cost_nok_m3</th>\n",
       "      <th>harv_cost_u150</th>\n",
       "      <th>harv_cost_u200</th>\n",
       "      <th>net_increment_m3</th>\n",
       "      <th>is_old</th>\n",
       "      <th>is_broadleave</th>\n",
       "      <th>MiS_classified_plot</th>\n",
       "      <th>bilberry_cover_pr</th>\n",
       "      <th>...</th>\n",
       "      <th>Relative_Relative_albedo</th>\n",
       "      <th>Relative_Relative_shan</th>\n",
       "      <th>Relative_Relative_ha2total</th>\n",
       "      <th>Relative_Relative_dead_vol_Mm3_TotNor</th>\n",
       "      <th>Relative_Relative_tsd_ha2total</th>\n",
       "      <th>Relative_Relative_CO2_forest_Mil_Kt_TotNor</th>\n",
       "      <th>Relative_Relative_CO2_forest_Mil_Kt_TotNor_no_albedo</th>\n",
       "      <th>Relative_Relative_Bilberry_ha_TotNor</th>\n",
       "      <th>Relative_Relative_MiS_ha</th>\n",
       "      <th>Relative_Relative_Sha_highclassdbh_Tot_Nor</th>\n",
       "    </tr>\n",
       "    <tr>\n",
       "      <th>plot_id</th>\n",
       "      <th>year</th>\n",
       "      <th>regime</th>\n",
       "      <th></th>\n",
       "      <th></th>\n",
       "      <th></th>\n",
       "      <th></th>\n",
       "      <th></th>\n",
       "      <th></th>\n",
       "      <th></th>\n",
       "      <th></th>\n",
       "      <th></th>\n",
       "      <th></th>\n",
       "      <th></th>\n",
       "      <th></th>\n",
       "      <th></th>\n",
       "      <th></th>\n",
       "      <th></th>\n",
       "      <th></th>\n",
       "      <th></th>\n",
       "      <th></th>\n",
       "      <th></th>\n",
       "      <th></th>\n",
       "      <th></th>\n",
       "    </tr>\n",
       "  </thead>\n",
       "  <tbody>\n",
       "    <tr>\n",
       "      <th rowspan=\"5\" valign=\"top\">A03187-1</th>\n",
       "      <th rowspan=\"5\" valign=\"top\">2028</th>\n",
       "      <th>SimOpt_extensive_0</th>\n",
       "      <td>t2</td>\n",
       "      <td>0.00000</td>\n",
       "      <td>0.000000</td>\n",
       "      <td>0</td>\n",
       "      <td>0</td>\n",
       "      <td>0.000000</td>\n",
       "      <td>0</td>\n",
       "      <td>0</td>\n",
       "      <td>0</td>\n",
       "      <td>2</td>\n",
       "      <td>...</td>\n",
       "      <td>9.025961e-07</td>\n",
       "      <td>0.000000e+00</td>\n",
       "      <td>4.010508e-07</td>\n",
       "      <td>0.000000e+00</td>\n",
       "      <td>4.010508e-07</td>\n",
       "      <td>-3.667306e-07</td>\n",
       "      <td>-4.093759e-07</td>\n",
       "      <td>7.773096e-08</td>\n",
       "      <td>0.0</td>\n",
       "      <td>0.000000e+00</td>\n",
       "    </tr>\n",
       "    <tr>\n",
       "      <th>SimOpt_extensive_1</th>\n",
       "      <td>t2</td>\n",
       "      <td>32727.61897</td>\n",
       "      <td>909.320021</td>\n",
       "      <td>0</td>\n",
       "      <td>0</td>\n",
       "      <td>2810.612023</td>\n",
       "      <td>0</td>\n",
       "      <td>0</td>\n",
       "      <td>0</td>\n",
       "      <td>2</td>\n",
       "      <td>...</td>\n",
       "      <td>9.025961e-07</td>\n",
       "      <td>0.000000e+00</td>\n",
       "      <td>4.010508e-07</td>\n",
       "      <td>0.000000e+00</td>\n",
       "      <td>4.010508e-07</td>\n",
       "      <td>-1.846004e-06</td>\n",
       "      <td>-2.021645e-06</td>\n",
       "      <td>7.773096e-08</td>\n",
       "      <td>0.0</td>\n",
       "      <td>0.000000e+00</td>\n",
       "    </tr>\n",
       "    <tr>\n",
       "      <th>SimOpt_extensive_10</th>\n",
       "      <td>t2</td>\n",
       "      <td>0.00000</td>\n",
       "      <td>0.000000</td>\n",
       "      <td>0</td>\n",
       "      <td>0</td>\n",
       "      <td>3994.338879</td>\n",
       "      <td>0</td>\n",
       "      <td>0</td>\n",
       "      <td>0</td>\n",
       "      <td>4</td>\n",
       "      <td>...</td>\n",
       "      <td>7.912492e-07</td>\n",
       "      <td>2.396545e-07</td>\n",
       "      <td>4.010508e-07</td>\n",
       "      <td>2.977858e-08</td>\n",
       "      <td>4.010508e-07</td>\n",
       "      <td>4.211540e-07</td>\n",
       "      <td>3.723546e-07</td>\n",
       "      <td>1.554619e-07</td>\n",
       "      <td>0.0</td>\n",
       "      <td>1.166514e-07</td>\n",
       "    </tr>\n",
       "    <tr>\n",
       "      <th>SimOpt_extensive_11</th>\n",
       "      <td>t2</td>\n",
       "      <td>0.00000</td>\n",
       "      <td>0.000000</td>\n",
       "      <td>0</td>\n",
       "      <td>0</td>\n",
       "      <td>3994.338879</td>\n",
       "      <td>0</td>\n",
       "      <td>0</td>\n",
       "      <td>0</td>\n",
       "      <td>4</td>\n",
       "      <td>...</td>\n",
       "      <td>7.912492e-07</td>\n",
       "      <td>2.396545e-07</td>\n",
       "      <td>4.010508e-07</td>\n",
       "      <td>2.977858e-08</td>\n",
       "      <td>4.010508e-07</td>\n",
       "      <td>4.211540e-07</td>\n",
       "      <td>3.723546e-07</td>\n",
       "      <td>1.554619e-07</td>\n",
       "      <td>0.0</td>\n",
       "      <td>1.166514e-07</td>\n",
       "    </tr>\n",
       "    <tr>\n",
       "      <th>SimOpt_extensive_12</th>\n",
       "      <td>t2</td>\n",
       "      <td>0.00000</td>\n",
       "      <td>0.000000</td>\n",
       "      <td>0</td>\n",
       "      <td>0</td>\n",
       "      <td>3994.338879</td>\n",
       "      <td>0</td>\n",
       "      <td>0</td>\n",
       "      <td>0</td>\n",
       "      <td>4</td>\n",
       "      <td>...</td>\n",
       "      <td>7.912492e-07</td>\n",
       "      <td>2.396545e-07</td>\n",
       "      <td>4.010508e-07</td>\n",
       "      <td>2.977858e-08</td>\n",
       "      <td>4.010508e-07</td>\n",
       "      <td>4.211540e-07</td>\n",
       "      <td>3.723546e-07</td>\n",
       "      <td>1.554619e-07</td>\n",
       "      <td>0.0</td>\n",
       "      <td>1.166514e-07</td>\n",
       "    </tr>\n",
       "  </tbody>\n",
       "</table>\n",
       "<p>5 rows × 96 columns</p>\n",
       "</div>"
      ],
      "text/plain": [
       "                                  period  pulp_vol_m3  harv_cost_nok_m3  \\\n",
       "plot_id  year regime                                                      \n",
       "A03187-1 2028 SimOpt_extensive_0      t2      0.00000          0.000000   \n",
       "              SimOpt_extensive_1      t2  32727.61897        909.320021   \n",
       "              SimOpt_extensive_10     t2      0.00000          0.000000   \n",
       "              SimOpt_extensive_11     t2      0.00000          0.000000   \n",
       "              SimOpt_extensive_12     t2      0.00000          0.000000   \n",
       "\n",
       "                                   harv_cost_u150  harv_cost_u200  \\\n",
       "plot_id  year regime                                                \n",
       "A03187-1 2028 SimOpt_extensive_0                0               0   \n",
       "              SimOpt_extensive_1                0               0   \n",
       "              SimOpt_extensive_10               0               0   \n",
       "              SimOpt_extensive_11               0               0   \n",
       "              SimOpt_extensive_12               0               0   \n",
       "\n",
       "                                   net_increment_m3  is_old  is_broadleave  \\\n",
       "plot_id  year regime                                                         \n",
       "A03187-1 2028 SimOpt_extensive_0           0.000000       0              0   \n",
       "              SimOpt_extensive_1        2810.612023       0              0   \n",
       "              SimOpt_extensive_10       3994.338879       0              0   \n",
       "              SimOpt_extensive_11       3994.338879       0              0   \n",
       "              SimOpt_extensive_12       3994.338879       0              0   \n",
       "\n",
       "                                   MiS_classified_plot  bilberry_cover_pr  \\\n",
       "plot_id  year regime                                                        \n",
       "A03187-1 2028 SimOpt_extensive_0                     0                  2   \n",
       "              SimOpt_extensive_1                     0                  2   \n",
       "              SimOpt_extensive_10                    0                  4   \n",
       "              SimOpt_extensive_11                    0                  4   \n",
       "              SimOpt_extensive_12                    0                  4   \n",
       "\n",
       "                                   ...  Relative_Relative_albedo  \\\n",
       "plot_id  year regime               ...                             \n",
       "A03187-1 2028 SimOpt_extensive_0   ...              9.025961e-07   \n",
       "              SimOpt_extensive_1   ...              9.025961e-07   \n",
       "              SimOpt_extensive_10  ...              7.912492e-07   \n",
       "              SimOpt_extensive_11  ...              7.912492e-07   \n",
       "              SimOpt_extensive_12  ...              7.912492e-07   \n",
       "\n",
       "                                   Relative_Relative_shan  \\\n",
       "plot_id  year regime                                        \n",
       "A03187-1 2028 SimOpt_extensive_0             0.000000e+00   \n",
       "              SimOpt_extensive_1             0.000000e+00   \n",
       "              SimOpt_extensive_10            2.396545e-07   \n",
       "              SimOpt_extensive_11            2.396545e-07   \n",
       "              SimOpt_extensive_12            2.396545e-07   \n",
       "\n",
       "                                   Relative_Relative_ha2total  \\\n",
       "plot_id  year regime                                            \n",
       "A03187-1 2028 SimOpt_extensive_0                 4.010508e-07   \n",
       "              SimOpt_extensive_1                 4.010508e-07   \n",
       "              SimOpt_extensive_10                4.010508e-07   \n",
       "              SimOpt_extensive_11                4.010508e-07   \n",
       "              SimOpt_extensive_12                4.010508e-07   \n",
       "\n",
       "                                   Relative_Relative_dead_vol_Mm3_TotNor  \\\n",
       "plot_id  year regime                                                       \n",
       "A03187-1 2028 SimOpt_extensive_0                            0.000000e+00   \n",
       "              SimOpt_extensive_1                            0.000000e+00   \n",
       "              SimOpt_extensive_10                           2.977858e-08   \n",
       "              SimOpt_extensive_11                           2.977858e-08   \n",
       "              SimOpt_extensive_12                           2.977858e-08   \n",
       "\n",
       "                                   Relative_Relative_tsd_ha2total  \\\n",
       "plot_id  year regime                                                \n",
       "A03187-1 2028 SimOpt_extensive_0                     4.010508e-07   \n",
       "              SimOpt_extensive_1                     4.010508e-07   \n",
       "              SimOpt_extensive_10                    4.010508e-07   \n",
       "              SimOpt_extensive_11                    4.010508e-07   \n",
       "              SimOpt_extensive_12                    4.010508e-07   \n",
       "\n",
       "                                   Relative_Relative_CO2_forest_Mil_Kt_TotNor  \\\n",
       "plot_id  year regime                                                            \n",
       "A03187-1 2028 SimOpt_extensive_0                                -3.667306e-07   \n",
       "              SimOpt_extensive_1                                -1.846004e-06   \n",
       "              SimOpt_extensive_10                                4.211540e-07   \n",
       "              SimOpt_extensive_11                                4.211540e-07   \n",
       "              SimOpt_extensive_12                                4.211540e-07   \n",
       "\n",
       "                                   Relative_Relative_CO2_forest_Mil_Kt_TotNor_no_albedo  \\\n",
       "plot_id  year regime                                                                      \n",
       "A03187-1 2028 SimOpt_extensive_0                                       -4.093759e-07      \n",
       "              SimOpt_extensive_1                                       -2.021645e-06      \n",
       "              SimOpt_extensive_10                                       3.723546e-07      \n",
       "              SimOpt_extensive_11                                       3.723546e-07      \n",
       "              SimOpt_extensive_12                                       3.723546e-07      \n",
       "\n",
       "                                   Relative_Relative_Bilberry_ha_TotNor  \\\n",
       "plot_id  year regime                                                      \n",
       "A03187-1 2028 SimOpt_extensive_0                           7.773096e-08   \n",
       "              SimOpt_extensive_1                           7.773096e-08   \n",
       "              SimOpt_extensive_10                          1.554619e-07   \n",
       "              SimOpt_extensive_11                          1.554619e-07   \n",
       "              SimOpt_extensive_12                          1.554619e-07   \n",
       "\n",
       "                                   Relative_Relative_MiS_ha  \\\n",
       "plot_id  year regime                                          \n",
       "A03187-1 2028 SimOpt_extensive_0                        0.0   \n",
       "              SimOpt_extensive_1                        0.0   \n",
       "              SimOpt_extensive_10                       0.0   \n",
       "              SimOpt_extensive_11                       0.0   \n",
       "              SimOpt_extensive_12                       0.0   \n",
       "\n",
       "                                   Relative_Relative_Sha_highclassdbh_Tot_Nor  \n",
       "plot_id  year regime                                                           \n",
       "A03187-1 2028 SimOpt_extensive_0                                 0.000000e+00  \n",
       "              SimOpt_extensive_1                                 0.000000e+00  \n",
       "              SimOpt_extensive_10                                1.166514e-07  \n",
       "              SimOpt_extensive_11                                1.166514e-07  \n",
       "              SimOpt_extensive_12                                1.166514e-07  \n",
       "\n",
       "[5 rows x 96 columns]"
      ]
     },
     "execution_count": 54,
     "metadata": {},
     "output_type": "execute_result"
    }
   ],
   "source": [
    "mfo.data.head()"
   ]
  },
  {
   "cell_type": "markdown",
   "metadata": {},
   "source": [
    "## Objectives"
   ]
  },
  {
   "cell_type": "markdown",
   "metadata": {},
   "source": [
    "### NFS - Forest Strategy"
   ]
  },
  {
   "cell_type": "code",
   "execution_count": 55,
   "metadata": {},
   "outputs": [],
   "source": [
    "if scenario == 'NFS':\n",
    "    \n",
    "    wood_production_bionergy = {\n",
    "    # harvest net value - maximise\n",
    "    \"harvest_netvalue_Mnok\": [\"Maximize netvalue (MAX Millions nok/m2) min\",\n",
    "                                  \"harv_net_Mnok_TotNor\", \n",
    "                                  \"max\",\"min\",\"sum\"], \n",
    "    # GROT in plots with cost under 150 NOK   - maximise\n",
    "     \"GROTIncreaseInHarvCost150\":[\"Maximize GROT in plots with harvest cost under 150 (maX)\",\n",
    "                                  \"GROT_kt_TotNor\", \n",
    "                                  \"max\",\"min\",\"subsetSum\",\"harv_cost_u150\"],\n",
    "    }\n",
    "    \n",
    "    Biodiversity = {\n",
    "    # MIS area  - maximise\n",
    "        \"MiSIncrease\":[\"Not decreasing area of MiS classified plots (not decrease)\",\n",
    "                       \"Relative_MiS_ha\", \n",
    "                       \"max\",\"min\",\"sum\"],\n",
    "    }\n",
    "    \n",
    "    Climate_regulation = {\n",
    "    # C02 in wooden products  - maximise\n",
    "        \"CO2_HWP_kt\": [\"Co2 storage in wooden products (maximize kilotonnnes over all years)\",\n",
    "                       \"HWP_C02_TotNor\", \n",
    "                       \"max\",\"average\",\"sum\"],\n",
    "    }\n",
    "    objectives = {\n",
    "        **wood_production_bionergy,\n",
    "        **Biodiversity,\n",
    "        **Climate_regulation,\n",
    "    }\n",
    "    \n",
    "    print(\"objectives for NFS loaded\")"
   ]
  },
  {
   "cell_type": "markdown",
   "metadata": {},
   "source": [
    "### BDS - Biodiversity Strategy"
   ]
  },
  {
   "cell_type": "code",
   "execution_count": 56,
   "metadata": {},
   "outputs": [],
   "source": [
    "if scenario == 'BDS':\n",
    "    \n",
    "    wood_production = {\n",
    "    # Harvested roundwood - maximise (even flow)\n",
    "    \"Average_Harvested_V\": [\"Avergare harvested timber volume (m3 ha, evenflow) \",\n",
    "                            \"harv_vol_Mm3_TotNor\",\n",
    "                            \"max\",\"min\",\"areaWeightedAverage\"], \n",
    "     #\"harvest_netvalue_Mnok_maxSum\": [\"Netvalue of the harvested sawn timber (spruce and pine) (Millions nok/m2)\",\"harv_net_Mnok\",\n",
    "                    #\"max\",\"sum\",\"sum\"], \n",
    "    }\n",
    "    \n",
    "    Biodiversity = {\n",
    "        \n",
    "    # MIS area  - no decline\n",
    "    \"MiSIncrease\":[\"Not decreasing area of MiS classified plots (max)\",\n",
    "                   \"MiS_ha\", \n",
    "                   \"max\",\"minYearlyIncrease\",\"sum\"],\n",
    "        \n",
    "    # MIS area  - maximise\n",
    "    \"MiSMaxMin\":[\"Not decreasing area of MiS classified plots (max)\",\n",
    "                 \"Relative_MiS_ha\", \n",
    "                 \"max\",\"min\",\"sum\"],\n",
    "        \n",
    "    # deadWood  - no decline\n",
    "    \"deadWoodIncrease\":[\"Minimum yearly incrase in vol Millions m3 of dead wood (max)\",\n",
    "                        \"dead_vol_Mm3_TotNor\",\n",
    "                        \"max\",\"minYearlyIncrease\",\"sum\"],\n",
    "    # deadWood  - maximise   \n",
    "    \"deadWoodMaxMin\":[\"Minimum yearly incrase in vol Millions m3 of dead wood (max)\",\n",
    "                      \"Relative_dead_vol_Mm3_TotNor\",\n",
    "                      \"max\",\"min\",\"sum\"],\n",
    "        \n",
    "    # blueberry - no decline\n",
    "    \"blueberryIncrease\":[\"Minimum yearly incrase in area of blueberry cover(max)\",\n",
    "                         \"bilberry_cover_pr\",\n",
    "                         \"max\",\"minYearlyIncrease\",\"areaWeightedSum\"],\n",
    "        \n",
    "    # blueberry  - maximise  \n",
    "    \"blueberryMaxMin\":[\"MaxMin in area of blueberry cover (max)\",\n",
    "                       \"Relative_Bilberry_ha_TotNor\",\n",
    "                       \"max\",\"min\",\"sum\"],\n",
    "    }\n",
    "    \n",
    "    \n",
    "    Erosion_and_water = {\n",
    "    # decrease harvest in protected areas and in steep terrain - minimize\n",
    "    \"Decrease_harv_in_vernskog_or_steep\": [\"Decrease harvest in verskog ha harvested(minimize ha over all years)\",\n",
    "                                              \"FinaL_versk\",\n",
    "                                              \"min\",\"max\",\"areaWeightedSum\"],\n",
    "    }\n",
    "    \n",
    "    Recreation = {\n",
    "    # harvest in cityForest plot - minimize\n",
    "    \"harvest_in_cityForest\": [\"MinSum city forest (not decreasing)\", \n",
    "                              \"FinaL_city\",\n",
    "                              \"min\", \"max\", \"areaWeightedSum\"],\n",
    "    # plots with high Shann - maximize\n",
    "    \"ShannonIncrease\":[\"MAxMin Shanon in plots with larger dbh (not decrease)\",\n",
    "                       \"Relative_Sha_highclassdbh_Tot_Nor\", \n",
    "                       \"max\", \"min\",\"sum\"] ,\n",
    "  } \n",
    "        \n",
    "    objectives = {\n",
    "        **wood_production,\n",
    "        **Biodiversity,\n",
    "        **Erosion_and_water,\n",
    "        **Recreation,\n",
    "    }\n",
    "    \n",
    "    print(\"objectives for BDS loaded\")"
   ]
  },
  {
   "cell_type": "markdown",
   "metadata": {},
   "source": [
    "### BES - Bioeconomy Strategy"
   ]
  },
  {
   "cell_type": "code",
   "execution_count": 57,
   "metadata": {},
   "outputs": [
    {
     "name": "stdout",
     "output_type": "stream",
     "text": [
      "objectives for BES loaded\n"
     ]
    }
   ],
   "source": [
    "if scenario == 'BES':\n",
    "    \n",
    "    wood_production_bionergy = {\n",
    "    \n",
    "    # harvest net value - maximise\n",
    "    \"harvest_netvalue_Mnok\": [\"Maximize netvalue (MAX Millions nok/m2) min\",\n",
    "                                  \"harv_net_Mnok_TotNor\", \n",
    "                                  \"max\",\"min\",\"sum\"], \n",
    "        \n",
    "    # GROT in plots with cost under 200 NOK   - maximise\n",
    "     \"GROTIncreaseInHarvCost200\":[\"Maximize GROT in plots with harvest cost under 200 (maX)\",\n",
    "                                  \"GROT_kt_TotNor\", \n",
    "                                  \"max\",\"min\",\"subsetSum\",\"harv_cost_u200\"],\n",
    "    }\n",
    "    \n",
    "    Biodiversity = {\n",
    "        \n",
    "    # MIS area  - maximise\n",
    "    \"MiSMaxMin\":[\"Not decreasing area of MiS classified plots (max)\",\n",
    "                 \"Relative_MiS_ha\", \n",
    "                 \"max\",\"min\",\"sum\"],\n",
    "        \n",
    "    }\n",
    "    \n",
    "    Climate_regulation = {\n",
    "    # C02 in wooden products  - maximise\n",
    "        \"CO2_HWP_kt\": [\"Co2 storage in wooden products (maximize kilotonnnes over all years)\",\n",
    "                       \"HWP_C02_TotNor\", \n",
    "                       \"max\",\"average\",\"sum\"],\n",
    "        \n",
    "         \"CO2_in_forest\": [\" Max Co2 uptake in forest\",\n",
    "                           \"CO2_forest_Mil_Kt_TotNor_no_albedo\",\n",
    "                           \"max\",\"sum\",\"sum\"],\n",
    "    }\n",
    "    \n",
    "    \n",
    "    Recreation = {\n",
    "    # harvest in cityForest plot - minimize\n",
    "    \"harvest_in_cityForest\": [\"MinSum city forest (not decreasing)\", \n",
    "                              \"FinaL_city\",\n",
    "                              \"min\", \"max\", \"areaWeightedSum\"],\n",
    "    # plots with high Shann - maximize\n",
    "    \"ShannonIncrease\":[\"MAxMin Shanon in plots with larger dbh (not decrease)\",\n",
    "                       \"Relative_Sha_highclassdbh_Tot_Nor\", \n",
    "                       \"max\", \"min\",\"sum\"] ,\n",
    "  } \n",
    "        \n",
    "    objectives = {\n",
    "        **wood_production_bionergy,\n",
    "        **Biodiversity,\n",
    "        **Climate_regulation,\n",
    "        **Recreation,\n",
    "    }\n",
    "    \n",
    "    print(\"objectives for BES loaded\")"
   ]
  },
  {
   "cell_type": "code",
   "execution_count": 58,
   "metadata": {},
   "outputs": [
    {
     "data": {
      "text/plain": [
       "{'harvest_netvalue_Mnok': ['Maximize netvalue (MAX Millions nok/m2) min',\n",
       "  'harv_net_Mnok_TotNor',\n",
       "  'max',\n",
       "  'min',\n",
       "  'sum'],\n",
       " 'GROTIncreaseInHarvCost200': ['Maximize GROT in plots with harvest cost under 200 (maX)',\n",
       "  'GROT_kt_TotNor',\n",
       "  'max',\n",
       "  'min',\n",
       "  'subsetSum',\n",
       "  'harv_cost_u200'],\n",
       " 'MiSMaxMin': ['Not decreasing area of MiS classified plots (max)',\n",
       "  'Relative_MiS_ha',\n",
       "  'max',\n",
       "  'min',\n",
       "  'sum'],\n",
       " 'CO2_HWP_kt': ['Co2 storage in wooden products (maximize kilotonnnes over all years)',\n",
       "  'HWP_C02_TotNor',\n",
       "  'max',\n",
       "  'average',\n",
       "  'sum'],\n",
       " 'CO2_in_forest': [' Max Co2 uptake in forest',\n",
       "  'CO2_forest_Mil_Kt_TotNor_no_albedo',\n",
       "  'max',\n",
       "  'sum',\n",
       "  'sum'],\n",
       " 'harvest_in_cityForest': ['MinSum city forest (not decreasing)',\n",
       "  'FinaL_city',\n",
       "  'min',\n",
       "  'max',\n",
       "  'areaWeightedSum'],\n",
       " 'ShannonIncrease': ['MAxMin Shanon in plots with larger dbh (not decrease)',\n",
       "  'Relative_Sha_highclassdbh_Tot_Nor',\n",
       "  'max',\n",
       "  'min',\n",
       "  'sum']}"
      ]
     },
     "execution_count": 58,
     "metadata": {},
     "output_type": "execute_result"
    }
   ],
   "source": [
    "objectives"
   ]
  },
  {
   "cell_type": "code",
   "execution_count": 59,
   "metadata": {},
   "outputs": [
    {
     "data": {
      "text/plain": [
       "7"
      ]
     },
     "execution_count": 59,
     "metadata": {},
     "output_type": "execute_result"
    }
   ],
   "source": [
    "len(objectives)"
   ]
  },
  {
   "cell_type": "code",
   "execution_count": 60,
   "metadata": {},
   "outputs": [
    {
     "data": {
      "text/plain": [
       "dict_keys(['harvest_netvalue_Mnok', 'GROTIncreaseInHarvCost200', 'MiSMaxMin', 'CO2_HWP_kt', 'CO2_in_forest', 'harvest_in_cityForest', 'ShannonIncrease'])"
      ]
     },
     "execution_count": 60,
     "metadata": {},
     "output_type": "execute_result"
    }
   ],
   "source": [
    "objectives.keys()"
   ]
  },
  {
   "cell_type": "code",
   "execution_count": 61,
   "metadata": {},
   "outputs": [
    {
     "data": {
      "text/plain": [
       "Index(['period', 'pulp_vol_m3', 'harv_cost_nok_m3', 'harv_cost_u150',\n",
       "       'harv_cost_u200', 'net_increment_m3', 'is_old', 'is_broadleave',\n",
       "       'MiS_classified_plot', 'bilberry_cover_pr', 'GROT_kt_TotNor',\n",
       "       'vol_saw_m3', 'saw_CO2_t', 'vol_panels_m3', 'panels_CO2_t', 'albedo',\n",
       "       'is_steep_terrain', 'is_vernskog', 'is_city_forest', 'shan',\n",
       "       'class_dbh', 'ha2total', 'management', 'harv_net_Mnok_TotNor',\n",
       "       'harv_vol_Mm3_TotNor', 'saw_vol_Mm3_TotNor', 'pulp_vol_Mm3_TotNor',\n",
       "       'dead_vol_Mm3_TotNor', 'tsd_ha2total', 'CO2_forest_Mil_Kt_TotNor',\n",
       "       'CO2_forest_Mil_Kt_TotNor_no_albedo', 'saw_CO2_change_Kt_TotNor',\n",
       "       'saw_CO2_Kt_TotNor', 'panels_CO2_change_Kt_TotNor', 'HWP_C02_TotNor',\n",
       "       'Bilberry_ha_TotNor', 'MiS_ha', 'SawTimber_Mm3_year', 'pulp_Mm3_year',\n",
       "       'GROT_t', 'GROT_m3', 'GROT_Mm3', 'Residues_Mm3_year',\n",
       "       'harvest_demands_Mm3_year', 'regime.class', 'finalFelling', 'is_CCF',\n",
       "       'is_nomanagement', 'is_vers_or_ste', 'FinaL_versk', 'FinaL_city',\n",
       "       'High_classdbh', 'Sha_highclassdbh_Tot_Nor', 'Relative_albedo',\n",
       "       'Relative_shan', 'Relative_ha2total', 'Relative_dead_vol_Mm3_TotNor',\n",
       "       'Relative_tsd_ha2total', 'Relative_CO2_forest_Mil_Kt_TotNor',\n",
       "       'Relative_CO2_forest_Mil_Kt_TotNor_no_albedo',\n",
       "       'Relative_Bilberry_ha_TotNor', 'Relative_MiS_ha',\n",
       "       'Relative_Sha_highclassdbh_Tot_Nor', 'Relative_pulp_vol_m3',\n",
       "       'Relative_harv_cost_nok_m3', 'Relative_net_increment_m3',\n",
       "       'Relative_GROT_kt_TotNor', 'Relative_vol_saw_m3', 'Relative_saw_CO2_t',\n",
       "       'Relative_vol_panels_m3', 'Relative_panels_CO2_t',\n",
       "       'Relative_harv_net_Mnok_TotNor', 'Relative_harv_vol_Mm3_TotNor',\n",
       "       'Relative_saw_vol_Mm3_TotNor', 'Relative_pulp_vol_Mm3_TotNor',\n",
       "       'Relative_saw_CO2_change_Kt_TotNor', 'Relative_saw_CO2_Kt_TotNor',\n",
       "       'Relative_panels_CO2_change_Kt_TotNor', 'Relative_HWP_C02_TotNor',\n",
       "       'Relative_SawTimber_Mm3_year', 'Relative_pulp_Mm3_year',\n",
       "       'Relative_GROT_t', 'Relative_GROT_m3', 'Relative_GROT_Mm3',\n",
       "       'Relative_Residues_Mm3_year', 'Relative_harvest_demands_Mm3_year',\n",
       "       'Relative_Relative_albedo', 'Relative_Relative_shan',\n",
       "       'Relative_Relative_ha2total', 'Relative_Relative_dead_vol_Mm3_TotNor',\n",
       "       'Relative_Relative_tsd_ha2total',\n",
       "       'Relative_Relative_CO2_forest_Mil_Kt_TotNor',\n",
       "       'Relative_Relative_CO2_forest_Mil_Kt_TotNor_no_albedo',\n",
       "       'Relative_Relative_Bilberry_ha_TotNor', 'Relative_Relative_MiS_ha',\n",
       "       'Relative_Relative_Sha_highclassdbh_Tot_Nor'],\n",
       "      dtype='object')"
      ]
     },
     "execution_count": 61,
     "metadata": {},
     "output_type": "execute_result"
    }
   ],
   "source": [
    "mfo.data.columns"
   ]
  },
  {
   "cell_type": "code",
   "execution_count": 62,
   "metadata": {
    "scrolled": true
   },
   "outputs": [
    {
     "data": {
      "text/plain": [
       "'Defining objectives'"
      ]
     },
     "metadata": {},
     "output_type": "display_data"
    },
    {
     "data": {
      "text/plain": [
       "'Aggregating stand wise'"
      ]
     },
     "metadata": {},
     "output_type": "display_data"
    },
    {
     "name": "stderr",
     "output_type": "stream",
     "text": [
      "100%|██████████| 7/7 [01:04<00:00,  9.16s/it]\n"
     ]
    },
    {
     "data": {
      "text/plain": [
       "'Aggregating year wise'"
      ]
     },
     "metadata": {},
     "output_type": "display_data"
    },
    {
     "name": "stdout",
     "output_type": "stream",
     "text": [
      "100%|██████████| 7/7 [00:00<00:00, 4028.56it/s]\n"
     ]
    },
    {
     "data": {
      "text/plain": [
       "'Objectives added'"
      ]
     },
     "metadata": {},
     "output_type": "display_data"
    }
   ],
   "source": [
    "mfo.defineObjectives(objectives)"
   ]
  },
  {
   "cell_type": "markdown",
   "metadata": {},
   "source": [
    "# GLOBIOM"
   ]
  },
  {
   "cell_type": "code",
   "execution_count": 63,
   "metadata": {},
   "outputs": [],
   "source": [
    "import pandas as pd"
   ]
  },
  {
   "cell_type": "code",
   "execution_count": 64,
   "metadata": {},
   "outputs": [],
   "source": [
    "demands = pd.read_csv('globiomNDC_all.csv') "
   ]
  },
  {
   "cell_type": "code",
   "execution_count": 65,
   "metadata": {},
   "outputs": [],
   "source": [
    "Globiom_dem = demands[\"Globiom_demands\"]*5\n",
    "Globiom_dem = Globiom_dem.to_list()"
   ]
  },
  {
   "cell_type": "code",
   "execution_count": 66,
   "metadata": {},
   "outputs": [],
   "source": [
    "mfo.addGlobiomTargets(\n",
    "    {\n",
    "    \n",
    "    \"GHarvDemands\": Globiom_dem\n",
    "    },\n",
    "    {\n",
    "         #'saw_vol_Mm3_TotNor', 'pulp_vol_Mm3_TotNor'\n",
    "        \n",
    "        #Log is converted primarily into log, and sencondary into pulp; no transferrate, both are volumes under bark\n",
    "        \"harv_vol_Mm3_TotNor\":\n",
    "            {\"GHarvDemands\":[1,\"primary\"]},\n",
    "            \n",
    "                          \n",
    "    },exactMatching=True\n",
    "    \n",
    ")"
   ]
  },
  {
   "cell_type": "markdown",
   "metadata": {},
   "source": [
    "## Define Enabled Constrains"
   ]
  },
  {
   "cell_type": "code",
   "execution_count": 67,
   "metadata": {},
   "outputs": [],
   "source": [
    "constraints = {\n",
    "    \"TotalHarvestDec\": [\"Species reduction\",\n",
    "                   \"Max harvest reduction 10%\", \"harv_vol_Mm3_TotNor\",1, 0.10]}"
   ]
  },
  {
   "cell_type": "code",
   "execution_count": 78,
   "metadata": {},
   "outputs": [],
   "source": [
    "#mfo.defineConstraints(constraints)"
   ]
  },
  {
   "cell_type": "markdown",
   "metadata": {},
   "source": [
    "## Calculate objective ranges"
   ]
  },
  {
   "cell_type": "code",
   "execution_count": 69,
   "metadata": {},
   "outputs": [
    {
     "data": {
      "text/html": [
       "<div>\n",
       "<style scoped>\n",
       "    .dataframe tbody tr th:only-of-type {\n",
       "        vertical-align: middle;\n",
       "    }\n",
       "\n",
       "    .dataframe tbody tr th {\n",
       "        vertical-align: top;\n",
       "    }\n",
       "\n",
       "    .dataframe thead th {\n",
       "        text-align: right;\n",
       "    }\n",
       "</style>\n",
       "<table border=\"1\" class=\"dataframe\">\n",
       "  <thead>\n",
       "    <tr style=\"text-align: right;\">\n",
       "      <th></th>\n",
       "      <th></th>\n",
       "      <th></th>\n",
       "      <th>period</th>\n",
       "      <th>pulp_vol_m3</th>\n",
       "      <th>harv_cost_nok_m3</th>\n",
       "      <th>harv_cost_u150</th>\n",
       "      <th>harv_cost_u200</th>\n",
       "      <th>net_increment_m3</th>\n",
       "      <th>is_old</th>\n",
       "      <th>is_broadleave</th>\n",
       "      <th>MiS_classified_plot</th>\n",
       "      <th>bilberry_cover_pr</th>\n",
       "      <th>...</th>\n",
       "      <th>Relative_Relative_albedo</th>\n",
       "      <th>Relative_Relative_shan</th>\n",
       "      <th>Relative_Relative_ha2total</th>\n",
       "      <th>Relative_Relative_dead_vol_Mm3_TotNor</th>\n",
       "      <th>Relative_Relative_tsd_ha2total</th>\n",
       "      <th>Relative_Relative_CO2_forest_Mil_Kt_TotNor</th>\n",
       "      <th>Relative_Relative_CO2_forest_Mil_Kt_TotNor_no_albedo</th>\n",
       "      <th>Relative_Relative_Bilberry_ha_TotNor</th>\n",
       "      <th>Relative_Relative_MiS_ha</th>\n",
       "      <th>Relative_Relative_Sha_highclassdbh_Tot_Nor</th>\n",
       "    </tr>\n",
       "    <tr>\n",
       "      <th>plot_id</th>\n",
       "      <th>year</th>\n",
       "      <th>regime</th>\n",
       "      <th></th>\n",
       "      <th></th>\n",
       "      <th></th>\n",
       "      <th></th>\n",
       "      <th></th>\n",
       "      <th></th>\n",
       "      <th></th>\n",
       "      <th></th>\n",
       "      <th></th>\n",
       "      <th></th>\n",
       "      <th></th>\n",
       "      <th></th>\n",
       "      <th></th>\n",
       "      <th></th>\n",
       "      <th></th>\n",
       "      <th></th>\n",
       "      <th></th>\n",
       "      <th></th>\n",
       "      <th></th>\n",
       "      <th></th>\n",
       "      <th></th>\n",
       "    </tr>\n",
       "  </thead>\n",
       "  <tbody>\n",
       "    <tr>\n",
       "      <th rowspan=\"5\" valign=\"top\">A03187-1</th>\n",
       "      <th rowspan=\"5\" valign=\"top\">2028</th>\n",
       "      <th>SimOpt_extensive_0</th>\n",
       "      <td>t2</td>\n",
       "      <td>0.00000</td>\n",
       "      <td>0.000000</td>\n",
       "      <td>0</td>\n",
       "      <td>0</td>\n",
       "      <td>0.000000</td>\n",
       "      <td>0</td>\n",
       "      <td>0</td>\n",
       "      <td>0</td>\n",
       "      <td>2</td>\n",
       "      <td>...</td>\n",
       "      <td>9.025961e-07</td>\n",
       "      <td>0.000000e+00</td>\n",
       "      <td>4.010508e-07</td>\n",
       "      <td>0.000000e+00</td>\n",
       "      <td>4.010508e-07</td>\n",
       "      <td>-3.667306e-07</td>\n",
       "      <td>-4.093759e-07</td>\n",
       "      <td>7.773096e-08</td>\n",
       "      <td>0.000000</td>\n",
       "      <td>0.000000e+00</td>\n",
       "    </tr>\n",
       "    <tr>\n",
       "      <th>SimOpt_extensive_1</th>\n",
       "      <td>t2</td>\n",
       "      <td>32727.61897</td>\n",
       "      <td>909.320021</td>\n",
       "      <td>0</td>\n",
       "      <td>0</td>\n",
       "      <td>2810.612023</td>\n",
       "      <td>0</td>\n",
       "      <td>0</td>\n",
       "      <td>0</td>\n",
       "      <td>2</td>\n",
       "      <td>...</td>\n",
       "      <td>9.025961e-07</td>\n",
       "      <td>0.000000e+00</td>\n",
       "      <td>4.010508e-07</td>\n",
       "      <td>0.000000e+00</td>\n",
       "      <td>4.010508e-07</td>\n",
       "      <td>-1.846004e-06</td>\n",
       "      <td>-2.021645e-06</td>\n",
       "      <td>7.773096e-08</td>\n",
       "      <td>0.000000</td>\n",
       "      <td>0.000000e+00</td>\n",
       "    </tr>\n",
       "    <tr>\n",
       "      <th>SimOpt_extensive_10</th>\n",
       "      <td>t2</td>\n",
       "      <td>0.00000</td>\n",
       "      <td>0.000000</td>\n",
       "      <td>0</td>\n",
       "      <td>0</td>\n",
       "      <td>3994.338879</td>\n",
       "      <td>0</td>\n",
       "      <td>0</td>\n",
       "      <td>0</td>\n",
       "      <td>4</td>\n",
       "      <td>...</td>\n",
       "      <td>7.912492e-07</td>\n",
       "      <td>2.396545e-07</td>\n",
       "      <td>4.010508e-07</td>\n",
       "      <td>2.977858e-08</td>\n",
       "      <td>4.010508e-07</td>\n",
       "      <td>4.211540e-07</td>\n",
       "      <td>3.723546e-07</td>\n",
       "      <td>1.554619e-07</td>\n",
       "      <td>0.000000</td>\n",
       "      <td>1.166514e-07</td>\n",
       "    </tr>\n",
       "    <tr>\n",
       "      <th>SimOpt_extensive_11</th>\n",
       "      <td>t2</td>\n",
       "      <td>0.00000</td>\n",
       "      <td>0.000000</td>\n",
       "      <td>0</td>\n",
       "      <td>0</td>\n",
       "      <td>3994.338879</td>\n",
       "      <td>0</td>\n",
       "      <td>0</td>\n",
       "      <td>0</td>\n",
       "      <td>4</td>\n",
       "      <td>...</td>\n",
       "      <td>7.912492e-07</td>\n",
       "      <td>2.396545e-07</td>\n",
       "      <td>4.010508e-07</td>\n",
       "      <td>2.977858e-08</td>\n",
       "      <td>4.010508e-07</td>\n",
       "      <td>4.211540e-07</td>\n",
       "      <td>3.723546e-07</td>\n",
       "      <td>1.554619e-07</td>\n",
       "      <td>0.000000</td>\n",
       "      <td>1.166514e-07</td>\n",
       "    </tr>\n",
       "    <tr>\n",
       "      <th>SimOpt_extensive_12</th>\n",
       "      <td>t2</td>\n",
       "      <td>0.00000</td>\n",
       "      <td>0.000000</td>\n",
       "      <td>0</td>\n",
       "      <td>0</td>\n",
       "      <td>3994.338879</td>\n",
       "      <td>0</td>\n",
       "      <td>0</td>\n",
       "      <td>0</td>\n",
       "      <td>4</td>\n",
       "      <td>...</td>\n",
       "      <td>7.912492e-07</td>\n",
       "      <td>2.396545e-07</td>\n",
       "      <td>4.010508e-07</td>\n",
       "      <td>2.977858e-08</td>\n",
       "      <td>4.010508e-07</td>\n",
       "      <td>4.211540e-07</td>\n",
       "      <td>3.723546e-07</td>\n",
       "      <td>1.554619e-07</td>\n",
       "      <td>0.000000</td>\n",
       "      <td>1.166514e-07</td>\n",
       "    </tr>\n",
       "    <tr>\n",
       "      <th>...</th>\n",
       "      <th>...</th>\n",
       "      <th>...</th>\n",
       "      <td>...</td>\n",
       "      <td>...</td>\n",
       "      <td>...</td>\n",
       "      <td>...</td>\n",
       "      <td>...</td>\n",
       "      <td>...</td>\n",
       "      <td>...</td>\n",
       "      <td>...</td>\n",
       "      <td>...</td>\n",
       "      <td>...</td>\n",
       "      <td>...</td>\n",
       "      <td>...</td>\n",
       "      <td>...</td>\n",
       "      <td>...</td>\n",
       "      <td>...</td>\n",
       "      <td>...</td>\n",
       "      <td>...</td>\n",
       "      <td>...</td>\n",
       "      <td>...</td>\n",
       "      <td>...</td>\n",
       "      <td>...</td>\n",
       "    </tr>\n",
       "    <tr>\n",
       "      <th rowspan=\"5\" valign=\"top\">H08221-0</th>\n",
       "      <th rowspan=\"2\" valign=\"top\">2093</th>\n",
       "      <th>SimOpt_extensive_long_0</th>\n",
       "      <td>t15</td>\n",
       "      <td>0.00000</td>\n",
       "      <td>0.000000</td>\n",
       "      <td>0</td>\n",
       "      <td>0</td>\n",
       "      <td>0.000000</td>\n",
       "      <td>0</td>\n",
       "      <td>0</td>\n",
       "      <td>0</td>\n",
       "      <td>2</td>\n",
       "      <td>...</td>\n",
       "      <td>1.088301e-06</td>\n",
       "      <td>0.000000e+00</td>\n",
       "      <td>7.303183e-06</td>\n",
       "      <td>1.803647e-06</td>\n",
       "      <td>7.303183e-06</td>\n",
       "      <td>-4.654305e-06</td>\n",
       "      <td>-4.606389e-06</td>\n",
       "      <td>1.415490e-06</td>\n",
       "      <td>0.000000</td>\n",
       "      <td>0.000000e+00</td>\n",
       "    </tr>\n",
       "    <tr>\n",
       "      <th>SimOpt_no_management_0</th>\n",
       "      <td>t15</td>\n",
       "      <td>0.00000</td>\n",
       "      <td>0.000000</td>\n",
       "      <td>0</td>\n",
       "      <td>0</td>\n",
       "      <td>-25382.949604</td>\n",
       "      <td>0</td>\n",
       "      <td>0</td>\n",
       "      <td>0</td>\n",
       "      <td>3</td>\n",
       "      <td>...</td>\n",
       "      <td>9.494990e-07</td>\n",
       "      <td>7.122338e-07</td>\n",
       "      <td>7.303183e-06</td>\n",
       "      <td>6.141842e-06</td>\n",
       "      <td>7.303183e-06</td>\n",
       "      <td>1.351492e-06</td>\n",
       "      <td>1.020937e-06</td>\n",
       "      <td>2.123235e-06</td>\n",
       "      <td>0.000000</td>\n",
       "      <td>6.313058e-06</td>\n",
       "    </tr>\n",
       "    <tr>\n",
       "      <th rowspan=\"3\" valign=\"top\">2098</th>\n",
       "      <th>SimOpt_extensive_0</th>\n",
       "      <td>t16</td>\n",
       "      <td>0.00000</td>\n",
       "      <td>0.000000</td>\n",
       "      <td>0</td>\n",
       "      <td>0</td>\n",
       "      <td>142467.765186</td>\n",
       "      <td>0</td>\n",
       "      <td>1</td>\n",
       "      <td>1</td>\n",
       "      <td>2</td>\n",
       "      <td>...</td>\n",
       "      <td>9.681839e-07</td>\n",
       "      <td>9.791785e-07</td>\n",
       "      <td>7.303183e-06</td>\n",
       "      <td>5.496034e-07</td>\n",
       "      <td>7.303183e-06</td>\n",
       "      <td>1.769237e-05</td>\n",
       "      <td>1.786760e-05</td>\n",
       "      <td>1.415490e-06</td>\n",
       "      <td>0.000012</td>\n",
       "      <td>8.679187e-06</td>\n",
       "    </tr>\n",
       "    <tr>\n",
       "      <th>SimOpt_extensive_long_0</th>\n",
       "      <td>t16</td>\n",
       "      <td>0.00000</td>\n",
       "      <td>0.000000</td>\n",
       "      <td>0</td>\n",
       "      <td>0</td>\n",
       "      <td>0.000000</td>\n",
       "      <td>0</td>\n",
       "      <td>0</td>\n",
       "      <td>0</td>\n",
       "      <td>2</td>\n",
       "      <td>...</td>\n",
       "      <td>1.047881e-06</td>\n",
       "      <td>0.000000e+00</td>\n",
       "      <td>7.303183e-06</td>\n",
       "      <td>1.803647e-06</td>\n",
       "      <td>7.303183e-06</td>\n",
       "      <td>-5.412060e-06</td>\n",
       "      <td>-4.050062e-06</td>\n",
       "      <td>1.415490e-06</td>\n",
       "      <td>0.000000</td>\n",
       "      <td>0.000000e+00</td>\n",
       "    </tr>\n",
       "    <tr>\n",
       "      <th>SimOpt_no_management_0</th>\n",
       "      <td>t16</td>\n",
       "      <td>0.00000</td>\n",
       "      <td>0.000000</td>\n",
       "      <td>0</td>\n",
       "      <td>0</td>\n",
       "      <td>18267.237080</td>\n",
       "      <td>0</td>\n",
       "      <td>0</td>\n",
       "      <td>0</td>\n",
       "      <td>3</td>\n",
       "      <td>...</td>\n",
       "      <td>9.384406e-07</td>\n",
       "      <td>7.228733e-07</td>\n",
       "      <td>7.303183e-06</td>\n",
       "      <td>6.927970e-06</td>\n",
       "      <td>7.303183e-06</td>\n",
       "      <td>2.640400e-06</td>\n",
       "      <td>3.143965e-06</td>\n",
       "      <td>2.123235e-06</td>\n",
       "      <td>0.000000</td>\n",
       "      <td>6.407364e-06</td>\n",
       "    </tr>\n",
       "  </tbody>\n",
       "</table>\n",
       "<p>748275 rows × 96 columns</p>\n",
       "</div>"
      ],
      "text/plain": [
       "                                      period  pulp_vol_m3  harv_cost_nok_m3  \\\n",
       "plot_id  year regime                                                          \n",
       "A03187-1 2028 SimOpt_extensive_0          t2      0.00000          0.000000   \n",
       "              SimOpt_extensive_1          t2  32727.61897        909.320021   \n",
       "              SimOpt_extensive_10         t2      0.00000          0.000000   \n",
       "              SimOpt_extensive_11         t2      0.00000          0.000000   \n",
       "              SimOpt_extensive_12         t2      0.00000          0.000000   \n",
       "...                                      ...          ...               ...   \n",
       "H08221-0 2093 SimOpt_extensive_long_0    t15      0.00000          0.000000   \n",
       "              SimOpt_no_management_0     t15      0.00000          0.000000   \n",
       "         2098 SimOpt_extensive_0         t16      0.00000          0.000000   \n",
       "              SimOpt_extensive_long_0    t16      0.00000          0.000000   \n",
       "              SimOpt_no_management_0     t16      0.00000          0.000000   \n",
       "\n",
       "                                       harv_cost_u150  harv_cost_u200  \\\n",
       "plot_id  year regime                                                    \n",
       "A03187-1 2028 SimOpt_extensive_0                    0               0   \n",
       "              SimOpt_extensive_1                    0               0   \n",
       "              SimOpt_extensive_10                   0               0   \n",
       "              SimOpt_extensive_11                   0               0   \n",
       "              SimOpt_extensive_12                   0               0   \n",
       "...                                               ...             ...   \n",
       "H08221-0 2093 SimOpt_extensive_long_0               0               0   \n",
       "              SimOpt_no_management_0                0               0   \n",
       "         2098 SimOpt_extensive_0                    0               0   \n",
       "              SimOpt_extensive_long_0               0               0   \n",
       "              SimOpt_no_management_0                0               0   \n",
       "\n",
       "                                       net_increment_m3  is_old  \\\n",
       "plot_id  year regime                                              \n",
       "A03187-1 2028 SimOpt_extensive_0               0.000000       0   \n",
       "              SimOpt_extensive_1            2810.612023       0   \n",
       "              SimOpt_extensive_10           3994.338879       0   \n",
       "              SimOpt_extensive_11           3994.338879       0   \n",
       "              SimOpt_extensive_12           3994.338879       0   \n",
       "...                                                 ...     ...   \n",
       "H08221-0 2093 SimOpt_extensive_long_0          0.000000       0   \n",
       "              SimOpt_no_management_0      -25382.949604       0   \n",
       "         2098 SimOpt_extensive_0          142467.765186       0   \n",
       "              SimOpt_extensive_long_0          0.000000       0   \n",
       "              SimOpt_no_management_0       18267.237080       0   \n",
       "\n",
       "                                       is_broadleave  MiS_classified_plot  \\\n",
       "plot_id  year regime                                                        \n",
       "A03187-1 2028 SimOpt_extensive_0                   0                    0   \n",
       "              SimOpt_extensive_1                   0                    0   \n",
       "              SimOpt_extensive_10                  0                    0   \n",
       "              SimOpt_extensive_11                  0                    0   \n",
       "              SimOpt_extensive_12                  0                    0   \n",
       "...                                              ...                  ...   \n",
       "H08221-0 2093 SimOpt_extensive_long_0              0                    0   \n",
       "              SimOpt_no_management_0               0                    0   \n",
       "         2098 SimOpt_extensive_0                   1                    1   \n",
       "              SimOpt_extensive_long_0              0                    0   \n",
       "              SimOpt_no_management_0               0                    0   \n",
       "\n",
       "                                       bilberry_cover_pr  ...  \\\n",
       "plot_id  year regime                                      ...   \n",
       "A03187-1 2028 SimOpt_extensive_0                       2  ...   \n",
       "              SimOpt_extensive_1                       2  ...   \n",
       "              SimOpt_extensive_10                      4  ...   \n",
       "              SimOpt_extensive_11                      4  ...   \n",
       "              SimOpt_extensive_12                      4  ...   \n",
       "...                                                  ...  ...   \n",
       "H08221-0 2093 SimOpt_extensive_long_0                  2  ...   \n",
       "              SimOpt_no_management_0                   3  ...   \n",
       "         2098 SimOpt_extensive_0                       2  ...   \n",
       "              SimOpt_extensive_long_0                  2  ...   \n",
       "              SimOpt_no_management_0                   3  ...   \n",
       "\n",
       "                                       Relative_Relative_albedo  \\\n",
       "plot_id  year regime                                              \n",
       "A03187-1 2028 SimOpt_extensive_0                   9.025961e-07   \n",
       "              SimOpt_extensive_1                   9.025961e-07   \n",
       "              SimOpt_extensive_10                  7.912492e-07   \n",
       "              SimOpt_extensive_11                  7.912492e-07   \n",
       "              SimOpt_extensive_12                  7.912492e-07   \n",
       "...                                                         ...   \n",
       "H08221-0 2093 SimOpt_extensive_long_0              1.088301e-06   \n",
       "              SimOpt_no_management_0               9.494990e-07   \n",
       "         2098 SimOpt_extensive_0                   9.681839e-07   \n",
       "              SimOpt_extensive_long_0              1.047881e-06   \n",
       "              SimOpt_no_management_0               9.384406e-07   \n",
       "\n",
       "                                       Relative_Relative_shan  \\\n",
       "plot_id  year regime                                            \n",
       "A03187-1 2028 SimOpt_extensive_0                 0.000000e+00   \n",
       "              SimOpt_extensive_1                 0.000000e+00   \n",
       "              SimOpt_extensive_10                2.396545e-07   \n",
       "              SimOpt_extensive_11                2.396545e-07   \n",
       "              SimOpt_extensive_12                2.396545e-07   \n",
       "...                                                       ...   \n",
       "H08221-0 2093 SimOpt_extensive_long_0            0.000000e+00   \n",
       "              SimOpt_no_management_0             7.122338e-07   \n",
       "         2098 SimOpt_extensive_0                 9.791785e-07   \n",
       "              SimOpt_extensive_long_0            0.000000e+00   \n",
       "              SimOpt_no_management_0             7.228733e-07   \n",
       "\n",
       "                                       Relative_Relative_ha2total  \\\n",
       "plot_id  year regime                                                \n",
       "A03187-1 2028 SimOpt_extensive_0                     4.010508e-07   \n",
       "              SimOpt_extensive_1                     4.010508e-07   \n",
       "              SimOpt_extensive_10                    4.010508e-07   \n",
       "              SimOpt_extensive_11                    4.010508e-07   \n",
       "              SimOpt_extensive_12                    4.010508e-07   \n",
       "...                                                           ...   \n",
       "H08221-0 2093 SimOpt_extensive_long_0                7.303183e-06   \n",
       "              SimOpt_no_management_0                 7.303183e-06   \n",
       "         2098 SimOpt_extensive_0                     7.303183e-06   \n",
       "              SimOpt_extensive_long_0                7.303183e-06   \n",
       "              SimOpt_no_management_0                 7.303183e-06   \n",
       "\n",
       "                                       Relative_Relative_dead_vol_Mm3_TotNor  \\\n",
       "plot_id  year regime                                                           \n",
       "A03187-1 2028 SimOpt_extensive_0                                0.000000e+00   \n",
       "              SimOpt_extensive_1                                0.000000e+00   \n",
       "              SimOpt_extensive_10                               2.977858e-08   \n",
       "              SimOpt_extensive_11                               2.977858e-08   \n",
       "              SimOpt_extensive_12                               2.977858e-08   \n",
       "...                                                                      ...   \n",
       "H08221-0 2093 SimOpt_extensive_long_0                           1.803647e-06   \n",
       "              SimOpt_no_management_0                            6.141842e-06   \n",
       "         2098 SimOpt_extensive_0                                5.496034e-07   \n",
       "              SimOpt_extensive_long_0                           1.803647e-06   \n",
       "              SimOpt_no_management_0                            6.927970e-06   \n",
       "\n",
       "                                       Relative_Relative_tsd_ha2total  \\\n",
       "plot_id  year regime                                                    \n",
       "A03187-1 2028 SimOpt_extensive_0                         4.010508e-07   \n",
       "              SimOpt_extensive_1                         4.010508e-07   \n",
       "              SimOpt_extensive_10                        4.010508e-07   \n",
       "              SimOpt_extensive_11                        4.010508e-07   \n",
       "              SimOpt_extensive_12                        4.010508e-07   \n",
       "...                                                               ...   \n",
       "H08221-0 2093 SimOpt_extensive_long_0                    7.303183e-06   \n",
       "              SimOpt_no_management_0                     7.303183e-06   \n",
       "         2098 SimOpt_extensive_0                         7.303183e-06   \n",
       "              SimOpt_extensive_long_0                    7.303183e-06   \n",
       "              SimOpt_no_management_0                     7.303183e-06   \n",
       "\n",
       "                                       Relative_Relative_CO2_forest_Mil_Kt_TotNor  \\\n",
       "plot_id  year regime                                                                \n",
       "A03187-1 2028 SimOpt_extensive_0                                    -3.667306e-07   \n",
       "              SimOpt_extensive_1                                    -1.846004e-06   \n",
       "              SimOpt_extensive_10                                    4.211540e-07   \n",
       "              SimOpt_extensive_11                                    4.211540e-07   \n",
       "              SimOpt_extensive_12                                    4.211540e-07   \n",
       "...                                                                           ...   \n",
       "H08221-0 2093 SimOpt_extensive_long_0                               -4.654305e-06   \n",
       "              SimOpt_no_management_0                                 1.351492e-06   \n",
       "         2098 SimOpt_extensive_0                                     1.769237e-05   \n",
       "              SimOpt_extensive_long_0                               -5.412060e-06   \n",
       "              SimOpt_no_management_0                                 2.640400e-06   \n",
       "\n",
       "                                       Relative_Relative_CO2_forest_Mil_Kt_TotNor_no_albedo  \\\n",
       "plot_id  year regime                                                                          \n",
       "A03187-1 2028 SimOpt_extensive_0                                           -4.093759e-07      \n",
       "              SimOpt_extensive_1                                           -2.021645e-06      \n",
       "              SimOpt_extensive_10                                           3.723546e-07      \n",
       "              SimOpt_extensive_11                                           3.723546e-07      \n",
       "              SimOpt_extensive_12                                           3.723546e-07      \n",
       "...                                                                                  ...      \n",
       "H08221-0 2093 SimOpt_extensive_long_0                                      -4.606389e-06      \n",
       "              SimOpt_no_management_0                                        1.020937e-06      \n",
       "         2098 SimOpt_extensive_0                                            1.786760e-05      \n",
       "              SimOpt_extensive_long_0                                      -4.050062e-06      \n",
       "              SimOpt_no_management_0                                        3.143965e-06      \n",
       "\n",
       "                                       Relative_Relative_Bilberry_ha_TotNor  \\\n",
       "plot_id  year regime                                                          \n",
       "A03187-1 2028 SimOpt_extensive_0                               7.773096e-08   \n",
       "              SimOpt_extensive_1                               7.773096e-08   \n",
       "              SimOpt_extensive_10                              1.554619e-07   \n",
       "              SimOpt_extensive_11                              1.554619e-07   \n",
       "              SimOpt_extensive_12                              1.554619e-07   \n",
       "...                                                                     ...   \n",
       "H08221-0 2093 SimOpt_extensive_long_0                          1.415490e-06   \n",
       "              SimOpt_no_management_0                           2.123235e-06   \n",
       "         2098 SimOpt_extensive_0                               1.415490e-06   \n",
       "              SimOpt_extensive_long_0                          1.415490e-06   \n",
       "              SimOpt_no_management_0                           2.123235e-06   \n",
       "\n",
       "                                       Relative_Relative_MiS_ha  \\\n",
       "plot_id  year regime                                              \n",
       "A03187-1 2028 SimOpt_extensive_0                       0.000000   \n",
       "              SimOpt_extensive_1                       0.000000   \n",
       "              SimOpt_extensive_10                      0.000000   \n",
       "              SimOpt_extensive_11                      0.000000   \n",
       "              SimOpt_extensive_12                      0.000000   \n",
       "...                                                         ...   \n",
       "H08221-0 2093 SimOpt_extensive_long_0                  0.000000   \n",
       "              SimOpt_no_management_0                   0.000000   \n",
       "         2098 SimOpt_extensive_0                       0.000012   \n",
       "              SimOpt_extensive_long_0                  0.000000   \n",
       "              SimOpt_no_management_0                   0.000000   \n",
       "\n",
       "                                       Relative_Relative_Sha_highclassdbh_Tot_Nor  \n",
       "plot_id  year regime                                                               \n",
       "A03187-1 2028 SimOpt_extensive_0                                     0.000000e+00  \n",
       "              SimOpt_extensive_1                                     0.000000e+00  \n",
       "              SimOpt_extensive_10                                    1.166514e-07  \n",
       "              SimOpt_extensive_11                                    1.166514e-07  \n",
       "              SimOpt_extensive_12                                    1.166514e-07  \n",
       "...                                                                           ...  \n",
       "H08221-0 2093 SimOpt_extensive_long_0                                0.000000e+00  \n",
       "              SimOpt_no_management_0                                 6.313058e-06  \n",
       "         2098 SimOpt_extensive_0                                     8.679187e-06  \n",
       "              SimOpt_extensive_long_0                                0.000000e+00  \n",
       "              SimOpt_no_management_0                                 6.407364e-06  \n",
       "\n",
       "[748275 rows x 96 columns]"
      ]
     },
     "execution_count": 69,
     "metadata": {},
     "output_type": "execute_result"
    }
   ],
   "source": [
    "mfo.data"
   ]
  },
  {
   "cell_type": "markdown",
   "metadata": {},
   "source": [
    "You can run the following function twice to improve ranges accuracy.\n",
    "\n",
    "Especially, if some objectives get as lowerbounds 0:s, then it makes sense to reoptimize"
   ]
  },
  {
   "cell_type": "code",
   "execution_count": 70,
   "metadata": {
    "scrolled": false
   },
   "outputs": [
    {
     "data": {
      "text/plain": [
       "'Calculating objective ranges'"
      ]
     },
     "metadata": {},
     "output_type": "display_data"
    },
    {
     "name": "stdout",
     "output_type": "stream",
     "text": [
      "\r",
      "  0%|          | 0/8 [00:00<?, ?it/s]"
     ]
    },
    {
     "data": {
      "text/plain": [
       "'Optimizing for Maximize netvalue (MAX Millions nok/m2) min'"
      ]
     },
     "metadata": {},
     "output_type": "display_data"
    },
    {
     "data": {
      "text/plain": [
       "'Found an optimal solution in 0 seconds'"
      ]
     },
     "metadata": {},
     "output_type": "display_data"
    },
    {
     "data": {
      "text/plain": [
       "'Objective values are:'"
      ]
     },
     "metadata": {},
     "output_type": "display_data"
    },
    {
     "data": {
      "text/plain": [
       "'Maximize netvalue (MAX Millions nok/m2) min'"
      ]
     },
     "metadata": {},
     "output_type": "display_data"
    },
    {
     "data": {
      "text/plain": [
       "4501.226477720805"
      ]
     },
     "metadata": {},
     "output_type": "display_data"
    },
    {
     "data": {
      "text/plain": [
       "'Maximize GROT in plots with harvest cost under 200 (maX)'"
      ]
     },
     "metadata": {},
     "output_type": "display_data"
    },
    {
     "data": {
      "text/plain": [
       "1076.0580763785827"
      ]
     },
     "metadata": {},
     "output_type": "display_data"
    },
    {
     "data": {
      "text/plain": [
       "'Not decreasing area of MiS classified plots (max)'"
      ]
     },
     "metadata": {},
     "output_type": "display_data"
    },
    {
     "data": {
      "text/plain": [
       "0.01606455604232082"
      ]
     },
     "metadata": {},
     "output_type": "display_data"
    },
    {
     "data": {
      "text/plain": [
       "'Co2 storage in wooden products (maximize kilotonnnes over all years)'"
      ]
     },
     "metadata": {},
     "output_type": "display_data"
    },
    {
     "data": {
      "text/plain": [
       "36040.87423404045"
      ]
     },
     "metadata": {},
     "output_type": "display_data"
    },
    {
     "data": {
      "text/plain": [
       "' Max Co2 uptake in forest'"
      ]
     },
     "metadata": {},
     "output_type": "display_data"
    },
    {
     "data": {
      "text/plain": [
       "-58.06659894855243"
      ]
     },
     "metadata": {},
     "output_type": "display_data"
    },
    {
     "data": {
      "text/plain": [
       "'MinSum city forest (not decreasing)'"
      ]
     },
     "metadata": {},
     "output_type": "display_data"
    },
    {
     "data": {
      "text/plain": [
       "25.901741682467506"
      ]
     },
     "metadata": {},
     "output_type": "display_data"
    },
    {
     "data": {
      "text/plain": [
       "'MAxMin Shanon in plots with larger dbh (not decrease)'"
      ]
     },
     "metadata": {},
     "output_type": "display_data"
    },
    {
     "data": {
      "text/plain": [
       "0.01654589100000975"
      ]
     },
     "metadata": {},
     "output_type": "display_data"
    },
    {
     "data": {
      "text/plain": [
       "'Relative meeting of globiom target for GHarvDemands'"
      ]
     },
     "metadata": {},
     "output_type": "display_data"
    },
    {
     "data": {
      "text/plain": [
       "64.07760707833532"
      ]
     },
     "metadata": {},
     "output_type": "display_data"
    },
    {
     "name": "stdout",
     "output_type": "stream",
     "text": [
      "\r",
      " 12%|█▎        | 1/8 [00:02<00:18,  2.67s/it]"
     ]
    },
    {
     "data": {
      "text/plain": [
       "'Optimizing for Maximize GROT in plots with harvest cost under 200 (maX)'"
      ]
     },
     "metadata": {},
     "output_type": "display_data"
    },
    {
     "data": {
      "text/plain": [
       "'Found an optimal solution in 0 seconds'"
      ]
     },
     "metadata": {},
     "output_type": "display_data"
    },
    {
     "data": {
      "text/plain": [
       "'Objective values are:'"
      ]
     },
     "metadata": {},
     "output_type": "display_data"
    },
    {
     "data": {
      "text/plain": [
       "'Maximize netvalue (MAX Millions nok/m2) min'"
      ]
     },
     "metadata": {},
     "output_type": "display_data"
    },
    {
     "data": {
      "text/plain": [
       "1671.3875294883983"
      ]
     },
     "metadata": {},
     "output_type": "display_data"
    },
    {
     "data": {
      "text/plain": [
       "'Maximize GROT in plots with harvest cost under 200 (maX)'"
      ]
     },
     "metadata": {},
     "output_type": "display_data"
    },
    {
     "data": {
      "text/plain": [
       "3141.1176958830956"
      ]
     },
     "metadata": {},
     "output_type": "display_data"
    },
    {
     "data": {
      "text/plain": [
       "'Not decreasing area of MiS classified plots (max)'"
      ]
     },
     "metadata": {},
     "output_type": "display_data"
    },
    {
     "data": {
      "text/plain": [
       "0.014092516529725185"
      ]
     },
     "metadata": {},
     "output_type": "display_data"
    },
    {
     "data": {
      "text/plain": [
       "'Co2 storage in wooden products (maximize kilotonnnes over all years)'"
      ]
     },
     "metadata": {},
     "output_type": "display_data"
    },
    {
     "data": {
      "text/plain": [
       "40496.16498633284"
      ]
     },
     "metadata": {},
     "output_type": "display_data"
    },
    {
     "data": {
      "text/plain": [
       "' Max Co2 uptake in forest'"
      ]
     },
     "metadata": {},
     "output_type": "display_data"
    },
    {
     "data": {
      "text/plain": [
       "1.3208057581199328"
      ]
     },
     "metadata": {},
     "output_type": "display_data"
    },
    {
     "data": {
      "text/plain": [
       "'MinSum city forest (not decreasing)'"
      ]
     },
     "metadata": {},
     "output_type": "display_data"
    },
    {
     "data": {
      "text/plain": [
       "23.887537195149946"
      ]
     },
     "metadata": {},
     "output_type": "display_data"
    },
    {
     "data": {
      "text/plain": [
       "'MAxMin Shanon in plots with larger dbh (not decrease)'"
      ]
     },
     "metadata": {},
     "output_type": "display_data"
    },
    {
     "data": {
      "text/plain": [
       "0.015441748998991736"
      ]
     },
     "metadata": {},
     "output_type": "display_data"
    },
    {
     "data": {
      "text/plain": [
       "'Relative meeting of globiom target for GHarvDemands'"
      ]
     },
     "metadata": {},
     "output_type": "display_data"
    },
    {
     "data": {
      "text/plain": [
       "67.83673232744336"
      ]
     },
     "metadata": {},
     "output_type": "display_data"
    },
    {
     "name": "stdout",
     "output_type": "stream",
     "text": [
      "\r",
      " 25%|██▌       | 2/8 [00:05<00:16,  2.72s/it]"
     ]
    },
    {
     "data": {
      "text/plain": [
       "'Optimizing for Not decreasing area of MiS classified plots (max)'"
      ]
     },
     "metadata": {},
     "output_type": "display_data"
    },
    {
     "data": {
      "text/plain": [
       "'Found an optimal solution in 0 seconds'"
      ]
     },
     "metadata": {},
     "output_type": "display_data"
    },
    {
     "data": {
      "text/plain": [
       "'Objective values are:'"
      ]
     },
     "metadata": {},
     "output_type": "display_data"
    },
    {
     "data": {
      "text/plain": [
       "'Maximize netvalue (MAX Millions nok/m2) min'"
      ]
     },
     "metadata": {},
     "output_type": "display_data"
    },
    {
     "data": {
      "text/plain": [
       "520.888608716157"
      ]
     },
     "metadata": {},
     "output_type": "display_data"
    },
    {
     "data": {
      "text/plain": [
       "'Maximize GROT in plots with harvest cost under 200 (maX)'"
      ]
     },
     "metadata": {},
     "output_type": "display_data"
    },
    {
     "data": {
      "text/plain": [
       "843.8751001439332"
      ]
     },
     "metadata": {},
     "output_type": "display_data"
    },
    {
     "data": {
      "text/plain": [
       "'Not decreasing area of MiS classified plots (max)'"
      ]
     },
     "metadata": {},
     "output_type": "display_data"
    },
    {
     "data": {
      "text/plain": [
       "0.03019687546292817"
      ]
     },
     "metadata": {},
     "output_type": "display_data"
    },
    {
     "data": {
      "text/plain": [
       "'Co2 storage in wooden products (maximize kilotonnnes over all years)'"
      ]
     },
     "metadata": {},
     "output_type": "display_data"
    },
    {
     "data": {
      "text/plain": [
       "36785.03908649546"
      ]
     },
     "metadata": {},
     "output_type": "display_data"
    },
    {
     "data": {
      "text/plain": [
       "' Max Co2 uptake in forest'"
      ]
     },
     "metadata": {},
     "output_type": "display_data"
    },
    {
     "data": {
      "text/plain": [
       "33.39053149137962"
      ]
     },
     "metadata": {},
     "output_type": "display_data"
    },
    {
     "data": {
      "text/plain": [
       "'MinSum city forest (not decreasing)'"
      ]
     },
     "metadata": {},
     "output_type": "display_data"
    },
    {
     "data": {
      "text/plain": [
       "27.668006599999984"
      ]
     },
     "metadata": {},
     "output_type": "display_data"
    },
    {
     "data": {
      "text/plain": [
       "'MAxMin Shanon in plots with larger dbh (not decrease)'"
      ]
     },
     "metadata": {},
     "output_type": "display_data"
    },
    {
     "data": {
      "text/plain": [
       "0.01965312585508923"
      ]
     },
     "metadata": {},
     "output_type": "display_data"
    },
    {
     "data": {
      "text/plain": [
       "'Relative meeting of globiom target for GHarvDemands'"
      ]
     },
     "metadata": {},
     "output_type": "display_data"
    },
    {
     "data": {
      "text/plain": [
       "66.60354720460667"
      ]
     },
     "metadata": {},
     "output_type": "display_data"
    },
    {
     "name": "stdout",
     "output_type": "stream",
     "text": [
      "\r",
      " 38%|███▊      | 3/8 [00:08<00:13,  2.67s/it]"
     ]
    },
    {
     "data": {
      "text/plain": [
       "'Optimizing for Co2 storage in wooden products (maximize kilotonnnes over all years)'"
      ]
     },
     "metadata": {},
     "output_type": "display_data"
    },
    {
     "data": {
      "text/plain": [
       "'Found an optimal solution in 0 seconds'"
      ]
     },
     "metadata": {},
     "output_type": "display_data"
    },
    {
     "data": {
      "text/plain": [
       "'Objective values are:'"
      ]
     },
     "metadata": {},
     "output_type": "display_data"
    },
    {
     "data": {
      "text/plain": [
       "'Maximize netvalue (MAX Millions nok/m2) min'"
      ]
     },
     "metadata": {},
     "output_type": "display_data"
    },
    {
     "data": {
      "text/plain": [
       "475.23570555045234"
      ]
     },
     "metadata": {},
     "output_type": "display_data"
    },
    {
     "data": {
      "text/plain": [
       "'Maximize GROT in plots with harvest cost under 200 (maX)'"
      ]
     },
     "metadata": {},
     "output_type": "display_data"
    },
    {
     "data": {
      "text/plain": [
       "119.90890594912987"
      ]
     },
     "metadata": {},
     "output_type": "display_data"
    },
    {
     "data": {
      "text/plain": [
       "'Not decreasing area of MiS classified plots (max)'"
      ]
     },
     "metadata": {},
     "output_type": "display_data"
    },
    {
     "data": {
      "text/plain": [
       "0.01745748758187219"
      ]
     },
     "metadata": {},
     "output_type": "display_data"
    },
    {
     "data": {
      "text/plain": [
       "'Co2 storage in wooden products (maximize kilotonnnes over all years)'"
      ]
     },
     "metadata": {},
     "output_type": "display_data"
    },
    {
     "data": {
      "text/plain": [
       "66271.92907105085"
      ]
     },
     "metadata": {},
     "output_type": "display_data"
    },
    {
     "data": {
      "text/plain": [
       "' Max Co2 uptake in forest'"
      ]
     },
     "metadata": {},
     "output_type": "display_data"
    },
    {
     "data": {
      "text/plain": [
       "-11.07118737023777"
      ]
     },
     "metadata": {},
     "output_type": "display_data"
    },
    {
     "data": {
      "text/plain": [
       "'MinSum city forest (not decreasing)'"
      ]
     },
     "metadata": {},
     "output_type": "display_data"
    },
    {
     "data": {
      "text/plain": [
       "83.18426740000011"
      ]
     },
     "metadata": {},
     "output_type": "display_data"
    },
    {
     "data": {
      "text/plain": [
       "'MAxMin Shanon in plots with larger dbh (not decrease)'"
      ]
     },
     "metadata": {},
     "output_type": "display_data"
    },
    {
     "data": {
      "text/plain": [
       "0.018390503047223065"
      ]
     },
     "metadata": {},
     "output_type": "display_data"
    },
    {
     "data": {
      "text/plain": [
       "'Relative meeting of globiom target for GHarvDemands'"
      ]
     },
     "metadata": {},
     "output_type": "display_data"
    },
    {
     "data": {
      "text/plain": [
       "78.66180666156478"
      ]
     },
     "metadata": {},
     "output_type": "display_data"
    },
    {
     "name": "stdout",
     "output_type": "stream",
     "text": [
      "\r",
      " 50%|█████     | 4/8 [00:10<00:10,  2.63s/it]"
     ]
    },
    {
     "data": {
      "text/plain": [
       "'Optimizing for  Max Co2 uptake in forest'"
      ]
     },
     "metadata": {},
     "output_type": "display_data"
    },
    {
     "data": {
      "text/plain": [
       "'Found an optimal solution in 0 seconds'"
      ]
     },
     "metadata": {},
     "output_type": "display_data"
    },
    {
     "data": {
      "text/plain": [
       "'Objective values are:'"
      ]
     },
     "metadata": {},
     "output_type": "display_data"
    },
    {
     "data": {
      "text/plain": [
       "'Maximize netvalue (MAX Millions nok/m2) min'"
      ]
     },
     "metadata": {},
     "output_type": "display_data"
    },
    {
     "data": {
      "text/plain": [
       "-96.16689197217983"
      ]
     },
     "metadata": {},
     "output_type": "display_data"
    },
    {
     "data": {
      "text/plain": [
       "'Maximize GROT in plots with harvest cost under 200 (maX)'"
      ]
     },
     "metadata": {},
     "output_type": "display_data"
    },
    {
     "data": {
      "text/plain": [
       "9.241174044258539"
      ]
     },
     "metadata": {},
     "output_type": "display_data"
    },
    {
     "data": {
      "text/plain": [
       "'Not decreasing area of MiS classified plots (max)'"
      ]
     },
     "metadata": {},
     "output_type": "display_data"
    },
    {
     "data": {
      "text/plain": [
       "0.02446925900109363"
      ]
     },
     "metadata": {},
     "output_type": "display_data"
    },
    {
     "data": {
      "text/plain": [
       "'Co2 storage in wooden products (maximize kilotonnnes over all years)'"
      ]
     },
     "metadata": {},
     "output_type": "display_data"
    },
    {
     "data": {
      "text/plain": [
       "16347.83747372287"
      ]
     },
     "metadata": {},
     "output_type": "display_data"
    },
    {
     "data": {
      "text/plain": [
       "' Max Co2 uptake in forest'"
      ]
     },
     "metadata": {},
     "output_type": "display_data"
    },
    {
     "data": {
      "text/plain": [
       "761.5702892247258"
      ]
     },
     "metadata": {},
     "output_type": "display_data"
    },
    {
     "data": {
      "text/plain": [
       "'MinSum city forest (not decreasing)'"
      ]
     },
     "metadata": {},
     "output_type": "display_data"
    },
    {
     "data": {
      "text/plain": [
       "2.7938377999999995"
      ]
     },
     "metadata": {},
     "output_type": "display_data"
    },
    {
     "data": {
      "text/plain": [
       "'MAxMin Shanon in plots with larger dbh (not decrease)'"
      ]
     },
     "metadata": {},
     "output_type": "display_data"
    },
    {
     "data": {
      "text/plain": [
       "0.030023460533633254"
      ]
     },
     "metadata": {},
     "output_type": "display_data"
    },
    {
     "data": {
      "text/plain": [
       "'Relative meeting of globiom target for GHarvDemands'"
      ]
     },
     "metadata": {},
     "output_type": "display_data"
    },
    {
     "data": {
      "text/plain": [
       "84.27502080790725"
      ]
     },
     "metadata": {},
     "output_type": "display_data"
    },
    {
     "name": "stdout",
     "output_type": "stream",
     "text": [
      "\r",
      " 62%|██████▎   | 5/8 [00:13<00:07,  2.63s/it]"
     ]
    },
    {
     "data": {
      "text/plain": [
       "'Optimizing for MinSum city forest (not decreasing)'"
      ]
     },
     "metadata": {},
     "output_type": "display_data"
    },
    {
     "data": {
      "text/plain": [
       "'Found an optimal solution in 0 seconds'"
      ]
     },
     "metadata": {},
     "output_type": "display_data"
    },
    {
     "data": {
      "text/plain": [
       "'Objective values are:'"
      ]
     },
     "metadata": {},
     "output_type": "display_data"
    },
    {
     "data": {
      "text/plain": [
       "'Maximize netvalue (MAX Millions nok/m2) min'"
      ]
     },
     "metadata": {},
     "output_type": "display_data"
    },
    {
     "data": {
      "text/plain": [
       "175.02879478703684"
      ]
     },
     "metadata": {},
     "output_type": "display_data"
    },
    {
     "data": {
      "text/plain": [
       "'Maximize GROT in plots with harvest cost under 200 (maX)'"
      ]
     },
     "metadata": {},
     "output_type": "display_data"
    },
    {
     "data": {
      "text/plain": [
       "75.42088809178135"
      ]
     },
     "metadata": {},
     "output_type": "display_data"
    },
    {
     "data": {
      "text/plain": [
       "'Not decreasing area of MiS classified plots (max)'"
      ]
     },
     "metadata": {},
     "output_type": "display_data"
    },
    {
     "data": {
      "text/plain": [
       "0.011966592688910163"
      ]
     },
     "metadata": {},
     "output_type": "display_data"
    },
    {
     "data": {
      "text/plain": [
       "'Co2 storage in wooden products (maximize kilotonnnes over all years)'"
      ]
     },
     "metadata": {},
     "output_type": "display_data"
    },
    {
     "data": {
      "text/plain": [
       "35272.18030447494"
      ]
     },
     "metadata": {},
     "output_type": "display_data"
    },
    {
     "data": {
      "text/plain": [
       "' Max Co2 uptake in forest'"
      ]
     },
     "metadata": {},
     "output_type": "display_data"
    },
    {
     "data": {
      "text/plain": [
       "176.0678976606514"
      ]
     },
     "metadata": {},
     "output_type": "display_data"
    },
    {
     "data": {
      "text/plain": [
       "'MinSum city forest (not decreasing)'"
      ]
     },
     "metadata": {},
     "output_type": "display_data"
    },
    {
     "data": {
      "text/plain": [
       "0.0"
      ]
     },
     "metadata": {},
     "output_type": "display_data"
    },
    {
     "data": {
      "text/plain": [
       "'MAxMin Shanon in plots with larger dbh (not decrease)'"
      ]
     },
     "metadata": {},
     "output_type": "display_data"
    },
    {
     "data": {
      "text/plain": [
       "0.015654628000296954"
      ]
     },
     "metadata": {},
     "output_type": "display_data"
    },
    {
     "data": {
      "text/plain": [
       "'Relative meeting of globiom target for GHarvDemands'"
      ]
     },
     "metadata": {},
     "output_type": "display_data"
    },
    {
     "data": {
      "text/plain": [
       "82.81633519774805"
      ]
     },
     "metadata": {},
     "output_type": "display_data"
    },
    {
     "name": "stdout",
     "output_type": "stream",
     "text": [
      "\r",
      " 75%|███████▌  | 6/8 [00:15<00:05,  2.66s/it]"
     ]
    },
    {
     "data": {
      "text/plain": [
       "'Optimizing for MAxMin Shanon in plots with larger dbh (not decrease)'"
      ]
     },
     "metadata": {},
     "output_type": "display_data"
    },
    {
     "data": {
      "text/plain": [
       "'Found an optimal solution in 1 seconds'"
      ]
     },
     "metadata": {},
     "output_type": "display_data"
    },
    {
     "data": {
      "text/plain": [
       "'Objective values are:'"
      ]
     },
     "metadata": {},
     "output_type": "display_data"
    },
    {
     "data": {
      "text/plain": [
       "'Maximize netvalue (MAX Millions nok/m2) min'"
      ]
     },
     "metadata": {},
     "output_type": "display_data"
    },
    {
     "data": {
      "text/plain": [
       "122.20191600195284"
      ]
     },
     "metadata": {},
     "output_type": "display_data"
    },
    {
     "data": {
      "text/plain": [
       "'Maximize GROT in plots with harvest cost under 200 (maX)'"
      ]
     },
     "metadata": {},
     "output_type": "display_data"
    },
    {
     "data": {
      "text/plain": [
       "402.4063136974876"
      ]
     },
     "metadata": {},
     "output_type": "display_data"
    },
    {
     "data": {
      "text/plain": [
       "'Not decreasing area of MiS classified plots (max)'"
      ]
     },
     "metadata": {},
     "output_type": "display_data"
    },
    {
     "data": {
      "text/plain": [
       "0.02658569284831697"
      ]
     },
     "metadata": {},
     "output_type": "display_data"
    },
    {
     "data": {
      "text/plain": [
       "'Co2 storage in wooden products (maximize kilotonnnes over all years)'"
      ]
     },
     "metadata": {},
     "output_type": "display_data"
    },
    {
     "data": {
      "text/plain": [
       "24066.781530098688"
      ]
     },
     "metadata": {},
     "output_type": "display_data"
    },
    {
     "data": {
      "text/plain": [
       "' Max Co2 uptake in forest'"
      ]
     },
     "metadata": {},
     "output_type": "display_data"
    },
    {
     "data": {
      "text/plain": [
       "354.1356857351227"
      ]
     },
     "metadata": {},
     "output_type": "display_data"
    },
    {
     "data": {
      "text/plain": [
       "'MinSum city forest (not decreasing)'"
      ]
     },
     "metadata": {},
     "output_type": "display_data"
    },
    {
     "data": {
      "text/plain": [
       "11.175351199999998"
      ]
     },
     "metadata": {},
     "output_type": "display_data"
    },
    {
     "data": {
      "text/plain": [
       "'MAxMin Shanon in plots with larger dbh (not decrease)'"
      ]
     },
     "metadata": {},
     "output_type": "display_data"
    },
    {
     "data": {
      "text/plain": [
       "0.036379481978631834"
      ]
     },
     "metadata": {},
     "output_type": "display_data"
    },
    {
     "data": {
      "text/plain": [
       "'Relative meeting of globiom target for GHarvDemands'"
      ]
     },
     "metadata": {},
     "output_type": "display_data"
    },
    {
     "data": {
      "text/plain": [
       "74.32745366891076"
      ]
     },
     "metadata": {},
     "output_type": "display_data"
    },
    {
     "name": "stdout",
     "output_type": "stream",
     "text": [
      "\r",
      " 88%|████████▊ | 7/8 [00:19<00:02,  2.87s/it]"
     ]
    },
    {
     "data": {
      "text/plain": [
       "'Optimizing for Relative meeting of globiom target for GHarvDemands'"
      ]
     },
     "metadata": {},
     "output_type": "display_data"
    },
    {
     "data": {
      "text/plain": [
       "'Found an optimal solution in 0 seconds'"
      ]
     },
     "metadata": {},
     "output_type": "display_data"
    },
    {
     "data": {
      "text/plain": [
       "'Objective values are:'"
      ]
     },
     "metadata": {},
     "output_type": "display_data"
    },
    {
     "data": {
      "text/plain": [
       "'Maximize netvalue (MAX Millions nok/m2) min'"
      ]
     },
     "metadata": {},
     "output_type": "display_data"
    },
    {
     "data": {
      "text/plain": [
       "688.2939647414014"
      ]
     },
     "metadata": {},
     "output_type": "display_data"
    },
    {
     "data": {
      "text/plain": [
       "'Maximize GROT in plots with harvest cost under 200 (maX)'"
      ]
     },
     "metadata": {},
     "output_type": "display_data"
    },
    {
     "data": {
      "text/plain": [
       "1007.3663569160553"
      ]
     },
     "metadata": {},
     "output_type": "display_data"
    },
    {
     "data": {
      "text/plain": [
       "'Not decreasing area of MiS classified plots (max)'"
      ]
     },
     "metadata": {},
     "output_type": "display_data"
    },
    {
     "data": {
      "text/plain": [
       "0.010011588891608412"
      ]
     },
     "metadata": {},
     "output_type": "display_data"
    },
    {
     "data": {
      "text/plain": [
       "'Co2 storage in wooden products (maximize kilotonnnes over all years)'"
      ]
     },
     "metadata": {},
     "output_type": "display_data"
    },
    {
     "data": {
      "text/plain": [
       "40751.45561341983"
      ]
     },
     "metadata": {},
     "output_type": "display_data"
    },
    {
     "data": {
      "text/plain": [
       "' Max Co2 uptake in forest'"
      ]
     },
     "metadata": {},
     "output_type": "display_data"
    },
    {
     "data": {
      "text/plain": [
       "-157.06456691586362"
      ]
     },
     "metadata": {},
     "output_type": "display_data"
    },
    {
     "data": {
      "text/plain": [
       "'MinSum city forest (not decreasing)'"
      ]
     },
     "metadata": {},
     "output_type": "display_data"
    },
    {
     "data": {
      "text/plain": [
       "31.903825199999986"
      ]
     },
     "metadata": {},
     "output_type": "display_data"
    },
    {
     "data": {
      "text/plain": [
       "'MAxMin Shanon in plots with larger dbh (not decrease)'"
      ]
     },
     "metadata": {},
     "output_type": "display_data"
    },
    {
     "data": {
      "text/plain": [
       "0.01130860941904961"
      ]
     },
     "metadata": {},
     "output_type": "display_data"
    },
    {
     "data": {
      "text/plain": [
       "'Relative meeting of globiom target for GHarvDemands'"
      ]
     },
     "metadata": {},
     "output_type": "display_data"
    },
    {
     "data": {
      "text/plain": [
       "52.02125090303836"
      ]
     },
     "metadata": {},
     "output_type": "display_data"
    },
    {
     "name": "stdout",
     "output_type": "stream",
     "text": [
      "100%|██████████| 8/8 [00:21<00:00,  2.75s/it]\n",
      "CPU times: user 23.2 s, sys: 7.21 s, total: 30.4 s\n",
      "Wall time: 22 s\n"
     ]
    }
   ],
   "source": [
    "%%time\n",
    "mfo.calculateObjectiveRanges(debug=True)"
   ]
  },
  {
   "cell_type": "code",
   "execution_count": 71,
   "metadata": {},
   "outputs": [
    {
     "data": {
      "text/plain": [
       "{'harvest_netvalue_Mnok': (-96.16689197217983, 4501.226477720805),\n",
       " 'GROTIncreaseInHarvCost200': (9.241174044258539, 3141.1176958830956),\n",
       " 'MiSMaxMin': (0.010011588891608412, 0.03019687546292817),\n",
       " 'CO2_HWP_kt': (16347.83747372287, 66271.92907105085),\n",
       " 'CO2_in_forest': (-157.06456691586362, 761.5702892247258),\n",
       " 'harvest_in_cityForest': (0.0, 83.18426740000011),\n",
       " 'ShannonIncrease': (0.01130860941904961, 0.036379481978631834),\n",
       " 'GlobiomTargetForGHarvDemands': (52.02125090303836, 84.27502080790725)}"
      ]
     },
     "execution_count": 71,
     "metadata": {},
     "output_type": "execute_result"
    }
   ],
   "source": [
    "mfo.objectiveRanges"
   ]
  },
  {
   "cell_type": "markdown",
   "metadata": {},
   "source": [
    "## Show GUI"
   ]
  },
  {
   "cell_type": "markdown",
   "metadata": {},
   "source": [
    "- If \"Enabled constraints\" should be considered, start with ticking box \"NO ClearCut on...\" and push \"Change constraints\"\n",
    "- Epsilon constraints are only considered if sliders are moved and button \"Set epsilon constraints\" is pushed\n",
    "- By pushing \"OPTIMIZE\" an optimal solution under the given constraints and reference points is searched\n",
    "\n",
    "<b>SEE example figure below for scenario BES</b>"
   ]
  },
  {
   "cell_type": "markdown",
   "metadata": {},
   "source": [
    "![image](./NORGUIExample.png)"
   ]
  },
  {
   "cell_type": "code",
   "execution_count": 72,
   "metadata": {
    "scrolled": false
   },
   "outputs": [
    {
     "data": {
      "text/html": [
       "<style>\n",
       "            .widget-label { min-width: 60% !important; }\n",
       "        </style>"
      ],
      "text/plain": [
       "<IPython.core.display.HTML object>"
      ]
     },
     "metadata": {},
     "output_type": "display_data"
    },
    {
     "data": {
      "text/html": [
       "<h2>Epsilon constraint values</h2>"
      ],
      "text/plain": [
       "<IPython.core.display.HTML object>"
      ]
     },
     "metadata": {},
     "output_type": "display_data"
    },
    {
     "data": {
      "application/vnd.jupyter.widget-view+json": {
       "model_id": "3c94f39fc68a49febdc71c3b90b03f5b",
       "version_major": 2,
       "version_minor": 0
      },
      "text/plain": [
       "interactive(children=(FloatSlider(value=-96.16689197217983, description='Maximize netvalue (MAX Millions nok/m…"
      ]
     },
     "metadata": {},
     "output_type": "display_data"
    },
    {
     "data": {
      "text/html": [
       "<h2>Reference point</h2>"
      ],
      "text/plain": [
       "<IPython.core.display.HTML object>"
      ]
     },
     "metadata": {},
     "output_type": "display_data"
    },
    {
     "data": {
      "application/vnd.jupyter.widget-view+json": {
       "model_id": "236f5486eb2d4565bb77ee320c0c4611",
       "version_major": 2,
       "version_minor": 0
      },
      "text/plain": [
       "interactive(children=(FloatSlider(value=2202.5297928743125, description='Maximize netvalue (MAX Millions nok/m…"
      ]
     },
     "metadata": {},
     "output_type": "display_data"
    },
    {
     "data": {
      "text/html": [
       "<h2>Enabled constraints</h2>"
      ],
      "text/plain": [
       "<IPython.core.display.HTML object>"
      ]
     },
     "metadata": {},
     "output_type": "display_data"
    },
    {
     "data": {
      "application/vnd.jupyter.widget-view+json": {
       "model_id": "2f43a28a5b5c4a9793d63ef95b78661c",
       "version_major": 2,
       "version_minor": 0
      },
      "text/plain": [
       "interactive(children=(Checkbox(value=False, description='Max harvest reduction 10%'), Button(description='Chan…"
      ]
     },
     "metadata": {},
     "output_type": "display_data"
    },
    {
     "data": {
      "application/vnd.jupyter.widget-view+json": {
       "model_id": "c4de8f9eb85644f7aefe2d6c0e2a5ca4",
       "version_major": 2,
       "version_minor": 0
      },
      "text/plain": [
       "Button(description='Print solution', style=ButtonStyle())"
      ]
     },
     "metadata": {},
     "output_type": "display_data"
    }
   ],
   "source": [
    "mfo.showGUI(debug=True)"
   ]
  },
  {
   "cell_type": "markdown",
   "metadata": {},
   "source": [
    "## Visualization of optimal solution"
   ]
  },
  {
   "cell_type": "code",
   "execution_count": 73,
   "metadata": {},
   "outputs": [],
   "source": [
    "regimeAmounts = {regime:0 for regime in mfo.regimes}\n",
    "for key in mfo.regimesDecision.keys():\n",
    "    regimeAmounts[key[1]] +=mfo.regimesDecision[key].solution_value()*mfo.standAreas.loc[key[0],\"tsd_ha2total\"]/mfo.standAreas[\"tsd_ha2total\"].sum()"
   ]
  },
  {
   "cell_type": "code",
   "execution_count": 74,
   "metadata": {
    "scrolled": false
   },
   "outputs": [
    {
     "name": "stdout",
     "output_type": "stream",
     "text": [
      "Populating the interactive namespace from numpy and matplotlib\n"
     ]
    }
   ],
   "source": [
    "%pylab notebook"
   ]
  },
  {
   "cell_type": "code",
   "execution_count": 75,
   "metadata": {
    "scrolled": true
   },
   "outputs": [
    {
     "data": {
      "text/plain": [
       "[0.16758349159264194,\n",
       " 0.009573201503755535,\n",
       " 0.006394825252985126,\n",
       " 0.007773064209510513,\n",
       " 0.0110253876644233,\n",
       " 0.016421574699618132,\n",
       " 0.0,\n",
       " 0.0002820558405588832,\n",
       " 0.0,\n",
       " 0.0,\n",
       " 0.0,\n",
       " 0.0197557250219098,\n",
       " 0.009796810615994979,\n",
       " 0.02810486334966111,\n",
       " 0.026399253112425768,\n",
       " 0.006125215369124054,\n",
       " 0.022580566892760702,\n",
       " 0.01691054775857677,\n",
       " 0.003284992405698275,\n",
       " 0.18044881756109643,\n",
       " 0.013259303833543628,\n",
       " 0.0022902979206289938,\n",
       " 0.00227105430839103,\n",
       " 0.0014040749130834014,\n",
       " 0.002716399859350667,\n",
       " 0.0,\n",
       " 0.0,\n",
       " 0.0,\n",
       " 0.0,\n",
       " 0.0,\n",
       " 0.014907056446326838,\n",
       " 0.009536726172068796,\n",
       " 0.009468301858969052,\n",
       " 0.008358716572809332,\n",
       " 0.0044088978769244655,\n",
       " 0.004627903714941749,\n",
       " 0.0029294508287115036,\n",
       " 0.00026631371170104576,\n",
       " 0.03432953625425855,\n",
       " 0.12665530354635754,\n",
       " 0.10212585435632493,\n",
       " 0.012137950384911245,\n",
       " 0.003195764540412549,\n",
       " 0.0011717803314846014,\n",
       " 0.001065254846804183,\n",
       " 0.001065254846804183,\n",
       " 0.001065254846804183,\n",
       " 0.0,\n",
       " 0.0,\n",
       " 0.0,\n",
       " 0.0,\n",
       " 0.0,\n",
       " 0.005326274234020916,\n",
       " 0.0036218664791342224,\n",
       " 0.004101231160196105,\n",
       " 0.003195764540412549,\n",
       " 0.002509039622944877,\n",
       " 0.002130509693608366,\n",
       " 0.0,\n",
       " 0.0,\n",
       " 0.016456504047220752,\n",
       " 0.0,\n",
       " 0.0005326274234020915,\n",
       " 0.0,\n",
       " 0.0,\n",
       " 0.0,\n",
       " 0.00026631371170104576,\n",
       " 0.0,\n",
       " 0.0,\n",
       " 0.0,\n",
       " 0.009747081848258277,\n",
       " 0.011451489603144974,\n",
       " 0.004043961020804734,\n",
       " 0.0026631371170104576,\n",
       " 0.0008038219765762855,\n",
       " 0.0029245699872383554,\n",
       " 0.0026631371170104576,\n",
       " 0.0,\n",
       " 0.001065254846804183,\n",
       " 0.0,\n",
       " 0.0005326274234020915,\n",
       " 0.0006036139178184656,\n",
       " 0.002379099653233247,\n",
       " 0.0,\n",
       " 0.0,\n",
       " 0.0,\n",
       " 0.0,\n",
       " 0.0,\n",
       " 0.0,\n",
       " 0.0005326274234020915,\n",
       " 0.003195764540412549,\n",
       " 0.0,\n",
       " 0.0,\n",
       " 0.003195764540412549,\n",
       " 0.0005326274234020915,\n",
       " 0.000319576454041255,\n",
       " 0.01438094043185648,\n",
       " 0.003089239055732131,\n",
       " 0.006018689884443636]"
      ]
     },
     "execution_count": 75,
     "metadata": {},
     "output_type": "execute_result"
    }
   ],
   "source": [
    "[val for val in regimeAmounts.values()]"
   ]
  },
  {
   "cell_type": "code",
   "execution_count": 76,
   "metadata": {
    "scrolled": false
   },
   "outputs": [
    {
     "data": {
      "application/javascript": [
       "/* Put everything inside the global mpl namespace */\n",
       "window.mpl = {};\n",
       "\n",
       "\n",
       "mpl.get_websocket_type = function() {\n",
       "    if (typeof(WebSocket) !== 'undefined') {\n",
       "        return WebSocket;\n",
       "    } else if (typeof(MozWebSocket) !== 'undefined') {\n",
       "        return MozWebSocket;\n",
       "    } else {\n",
       "        alert('Your browser does not have WebSocket support. ' +\n",
       "              'Please try Chrome, Safari or Firefox ≥ 6. ' +\n",
       "              'Firefox 4 and 5 are also supported but you ' +\n",
       "              'have to enable WebSockets in about:config.');\n",
       "    };\n",
       "}\n",
       "\n",
       "mpl.figure = function(figure_id, websocket, ondownload, parent_element) {\n",
       "    this.id = figure_id;\n",
       "\n",
       "    this.ws = websocket;\n",
       "\n",
       "    this.supports_binary = (this.ws.binaryType != undefined);\n",
       "\n",
       "    if (!this.supports_binary) {\n",
       "        var warnings = document.getElementById(\"mpl-warnings\");\n",
       "        if (warnings) {\n",
       "            warnings.style.display = 'block';\n",
       "            warnings.textContent = (\n",
       "                \"This browser does not support binary websocket messages. \" +\n",
       "                    \"Performance may be slow.\");\n",
       "        }\n",
       "    }\n",
       "\n",
       "    this.imageObj = new Image();\n",
       "\n",
       "    this.context = undefined;\n",
       "    this.message = undefined;\n",
       "    this.canvas = undefined;\n",
       "    this.rubberband_canvas = undefined;\n",
       "    this.rubberband_context = undefined;\n",
       "    this.format_dropdown = undefined;\n",
       "\n",
       "    this.image_mode = 'full';\n",
       "\n",
       "    this.root = $('<div/>');\n",
       "    this._root_extra_style(this.root)\n",
       "    this.root.attr('style', 'display: inline-block');\n",
       "\n",
       "    $(parent_element).append(this.root);\n",
       "\n",
       "    this._init_header(this);\n",
       "    this._init_canvas(this);\n",
       "    this._init_toolbar(this);\n",
       "\n",
       "    var fig = this;\n",
       "\n",
       "    this.waiting = false;\n",
       "\n",
       "    this.ws.onopen =  function () {\n",
       "            fig.send_message(\"supports_binary\", {value: fig.supports_binary});\n",
       "            fig.send_message(\"send_image_mode\", {});\n",
       "            if (mpl.ratio != 1) {\n",
       "                fig.send_message(\"set_dpi_ratio\", {'dpi_ratio': mpl.ratio});\n",
       "            }\n",
       "            fig.send_message(\"refresh\", {});\n",
       "        }\n",
       "\n",
       "    this.imageObj.onload = function() {\n",
       "            if (fig.image_mode == 'full') {\n",
       "                // Full images could contain transparency (where diff images\n",
       "                // almost always do), so we need to clear the canvas so that\n",
       "                // there is no ghosting.\n",
       "                fig.context.clearRect(0, 0, fig.canvas.width, fig.canvas.height);\n",
       "            }\n",
       "            fig.context.drawImage(fig.imageObj, 0, 0);\n",
       "        };\n",
       "\n",
       "    this.imageObj.onunload = function() {\n",
       "        fig.ws.close();\n",
       "    }\n",
       "\n",
       "    this.ws.onmessage = this._make_on_message_function(this);\n",
       "\n",
       "    this.ondownload = ondownload;\n",
       "}\n",
       "\n",
       "mpl.figure.prototype._init_header = function() {\n",
       "    var titlebar = $(\n",
       "        '<div class=\"ui-dialog-titlebar ui-widget-header ui-corner-all ' +\n",
       "        'ui-helper-clearfix\"/>');\n",
       "    var titletext = $(\n",
       "        '<div class=\"ui-dialog-title\" style=\"width: 100%; ' +\n",
       "        'text-align: center; padding: 3px;\"/>');\n",
       "    titlebar.append(titletext)\n",
       "    this.root.append(titlebar);\n",
       "    this.header = titletext[0];\n",
       "}\n",
       "\n",
       "\n",
       "\n",
       "mpl.figure.prototype._canvas_extra_style = function(canvas_div) {\n",
       "\n",
       "}\n",
       "\n",
       "\n",
       "mpl.figure.prototype._root_extra_style = function(canvas_div) {\n",
       "\n",
       "}\n",
       "\n",
       "mpl.figure.prototype._init_canvas = function() {\n",
       "    var fig = this;\n",
       "\n",
       "    var canvas_div = $('<div/>');\n",
       "\n",
       "    canvas_div.attr('style', 'position: relative; clear: both; outline: 0');\n",
       "\n",
       "    function canvas_keyboard_event(event) {\n",
       "        return fig.key_event(event, event['data']);\n",
       "    }\n",
       "\n",
       "    canvas_div.keydown('key_press', canvas_keyboard_event);\n",
       "    canvas_div.keyup('key_release', canvas_keyboard_event);\n",
       "    this.canvas_div = canvas_div\n",
       "    this._canvas_extra_style(canvas_div)\n",
       "    this.root.append(canvas_div);\n",
       "\n",
       "    var canvas = $('<canvas/>');\n",
       "    canvas.addClass('mpl-canvas');\n",
       "    canvas.attr('style', \"left: 0; top: 0; z-index: 0; outline: 0\")\n",
       "\n",
       "    this.canvas = canvas[0];\n",
       "    this.context = canvas[0].getContext(\"2d\");\n",
       "\n",
       "    var backingStore = this.context.backingStorePixelRatio ||\n",
       "\tthis.context.webkitBackingStorePixelRatio ||\n",
       "\tthis.context.mozBackingStorePixelRatio ||\n",
       "\tthis.context.msBackingStorePixelRatio ||\n",
       "\tthis.context.oBackingStorePixelRatio ||\n",
       "\tthis.context.backingStorePixelRatio || 1;\n",
       "\n",
       "    mpl.ratio = (window.devicePixelRatio || 1) / backingStore;\n",
       "\n",
       "    var rubberband = $('<canvas/>');\n",
       "    rubberband.attr('style', \"position: absolute; left: 0; top: 0; z-index: 1;\")\n",
       "\n",
       "    var pass_mouse_events = true;\n",
       "\n",
       "    canvas_div.resizable({\n",
       "        start: function(event, ui) {\n",
       "            pass_mouse_events = false;\n",
       "        },\n",
       "        resize: function(event, ui) {\n",
       "            fig.request_resize(ui.size.width, ui.size.height);\n",
       "        },\n",
       "        stop: function(event, ui) {\n",
       "            pass_mouse_events = true;\n",
       "            fig.request_resize(ui.size.width, ui.size.height);\n",
       "        },\n",
       "    });\n",
       "\n",
       "    function mouse_event_fn(event) {\n",
       "        if (pass_mouse_events)\n",
       "            return fig.mouse_event(event, event['data']);\n",
       "    }\n",
       "\n",
       "    rubberband.mousedown('button_press', mouse_event_fn);\n",
       "    rubberband.mouseup('button_release', mouse_event_fn);\n",
       "    // Throttle sequential mouse events to 1 every 20ms.\n",
       "    rubberband.mousemove('motion_notify', mouse_event_fn);\n",
       "\n",
       "    rubberband.mouseenter('figure_enter', mouse_event_fn);\n",
       "    rubberband.mouseleave('figure_leave', mouse_event_fn);\n",
       "\n",
       "    canvas_div.on(\"wheel\", function (event) {\n",
       "        event = event.originalEvent;\n",
       "        event['data'] = 'scroll'\n",
       "        if (event.deltaY < 0) {\n",
       "            event.step = 1;\n",
       "        } else {\n",
       "            event.step = -1;\n",
       "        }\n",
       "        mouse_event_fn(event);\n",
       "    });\n",
       "\n",
       "    canvas_div.append(canvas);\n",
       "    canvas_div.append(rubberband);\n",
       "\n",
       "    this.rubberband = rubberband;\n",
       "    this.rubberband_canvas = rubberband[0];\n",
       "    this.rubberband_context = rubberband[0].getContext(\"2d\");\n",
       "    this.rubberband_context.strokeStyle = \"#000000\";\n",
       "\n",
       "    this._resize_canvas = function(width, height) {\n",
       "        // Keep the size of the canvas, canvas container, and rubber band\n",
       "        // canvas in synch.\n",
       "        canvas_div.css('width', width)\n",
       "        canvas_div.css('height', height)\n",
       "\n",
       "        canvas.attr('width', width * mpl.ratio);\n",
       "        canvas.attr('height', height * mpl.ratio);\n",
       "        canvas.attr('style', 'width: ' + width + 'px; height: ' + height + 'px;');\n",
       "\n",
       "        rubberband.attr('width', width);\n",
       "        rubberband.attr('height', height);\n",
       "    }\n",
       "\n",
       "    // Set the figure to an initial 600x600px, this will subsequently be updated\n",
       "    // upon first draw.\n",
       "    this._resize_canvas(600, 600);\n",
       "\n",
       "    // Disable right mouse context menu.\n",
       "    $(this.rubberband_canvas).bind(\"contextmenu\",function(e){\n",
       "        return false;\n",
       "    });\n",
       "\n",
       "    function set_focus () {\n",
       "        canvas.focus();\n",
       "        canvas_div.focus();\n",
       "    }\n",
       "\n",
       "    window.setTimeout(set_focus, 100);\n",
       "}\n",
       "\n",
       "mpl.figure.prototype._init_toolbar = function() {\n",
       "    var fig = this;\n",
       "\n",
       "    var nav_element = $('<div/>');\n",
       "    nav_element.attr('style', 'width: 100%');\n",
       "    this.root.append(nav_element);\n",
       "\n",
       "    // Define a callback function for later on.\n",
       "    function toolbar_event(event) {\n",
       "        return fig.toolbar_button_onclick(event['data']);\n",
       "    }\n",
       "    function toolbar_mouse_event(event) {\n",
       "        return fig.toolbar_button_onmouseover(event['data']);\n",
       "    }\n",
       "\n",
       "    for(var toolbar_ind in mpl.toolbar_items) {\n",
       "        var name = mpl.toolbar_items[toolbar_ind][0];\n",
       "        var tooltip = mpl.toolbar_items[toolbar_ind][1];\n",
       "        var image = mpl.toolbar_items[toolbar_ind][2];\n",
       "        var method_name = mpl.toolbar_items[toolbar_ind][3];\n",
       "\n",
       "        if (!name) {\n",
       "            // put a spacer in here.\n",
       "            continue;\n",
       "        }\n",
       "        var button = $('<button/>');\n",
       "        button.addClass('ui-button ui-widget ui-state-default ui-corner-all ' +\n",
       "                        'ui-button-icon-only');\n",
       "        button.attr('role', 'button');\n",
       "        button.attr('aria-disabled', 'false');\n",
       "        button.click(method_name, toolbar_event);\n",
       "        button.mouseover(tooltip, toolbar_mouse_event);\n",
       "\n",
       "        var icon_img = $('<span/>');\n",
       "        icon_img.addClass('ui-button-icon-primary ui-icon');\n",
       "        icon_img.addClass(image);\n",
       "        icon_img.addClass('ui-corner-all');\n",
       "\n",
       "        var tooltip_span = $('<span/>');\n",
       "        tooltip_span.addClass('ui-button-text');\n",
       "        tooltip_span.html(tooltip);\n",
       "\n",
       "        button.append(icon_img);\n",
       "        button.append(tooltip_span);\n",
       "\n",
       "        nav_element.append(button);\n",
       "    }\n",
       "\n",
       "    var fmt_picker_span = $('<span/>');\n",
       "\n",
       "    var fmt_picker = $('<select/>');\n",
       "    fmt_picker.addClass('mpl-toolbar-option ui-widget ui-widget-content');\n",
       "    fmt_picker_span.append(fmt_picker);\n",
       "    nav_element.append(fmt_picker_span);\n",
       "    this.format_dropdown = fmt_picker[0];\n",
       "\n",
       "    for (var ind in mpl.extensions) {\n",
       "        var fmt = mpl.extensions[ind];\n",
       "        var option = $(\n",
       "            '<option/>', {selected: fmt === mpl.default_extension}).html(fmt);\n",
       "        fmt_picker.append(option);\n",
       "    }\n",
       "\n",
       "    // Add hover states to the ui-buttons\n",
       "    $( \".ui-button\" ).hover(\n",
       "        function() { $(this).addClass(\"ui-state-hover\");},\n",
       "        function() { $(this).removeClass(\"ui-state-hover\");}\n",
       "    );\n",
       "\n",
       "    var status_bar = $('<span class=\"mpl-message\"/>');\n",
       "    nav_element.append(status_bar);\n",
       "    this.message = status_bar[0];\n",
       "}\n",
       "\n",
       "mpl.figure.prototype.request_resize = function(x_pixels, y_pixels) {\n",
       "    // Request matplotlib to resize the figure. Matplotlib will then trigger a resize in the client,\n",
       "    // which will in turn request a refresh of the image.\n",
       "    this.send_message('resize', {'width': x_pixels, 'height': y_pixels});\n",
       "}\n",
       "\n",
       "mpl.figure.prototype.send_message = function(type, properties) {\n",
       "    properties['type'] = type;\n",
       "    properties['figure_id'] = this.id;\n",
       "    this.ws.send(JSON.stringify(properties));\n",
       "}\n",
       "\n",
       "mpl.figure.prototype.send_draw_message = function() {\n",
       "    if (!this.waiting) {\n",
       "        this.waiting = true;\n",
       "        this.ws.send(JSON.stringify({type: \"draw\", figure_id: this.id}));\n",
       "    }\n",
       "}\n",
       "\n",
       "\n",
       "mpl.figure.prototype.handle_save = function(fig, msg) {\n",
       "    var format_dropdown = fig.format_dropdown;\n",
       "    var format = format_dropdown.options[format_dropdown.selectedIndex].value;\n",
       "    fig.ondownload(fig, format);\n",
       "}\n",
       "\n",
       "\n",
       "mpl.figure.prototype.handle_resize = function(fig, msg) {\n",
       "    var size = msg['size'];\n",
       "    if (size[0] != fig.canvas.width || size[1] != fig.canvas.height) {\n",
       "        fig._resize_canvas(size[0], size[1]);\n",
       "        fig.send_message(\"refresh\", {});\n",
       "    };\n",
       "}\n",
       "\n",
       "mpl.figure.prototype.handle_rubberband = function(fig, msg) {\n",
       "    var x0 = msg['x0'] / mpl.ratio;\n",
       "    var y0 = (fig.canvas.height - msg['y0']) / mpl.ratio;\n",
       "    var x1 = msg['x1'] / mpl.ratio;\n",
       "    var y1 = (fig.canvas.height - msg['y1']) / mpl.ratio;\n",
       "    x0 = Math.floor(x0) + 0.5;\n",
       "    y0 = Math.floor(y0) + 0.5;\n",
       "    x1 = Math.floor(x1) + 0.5;\n",
       "    y1 = Math.floor(y1) + 0.5;\n",
       "    var min_x = Math.min(x0, x1);\n",
       "    var min_y = Math.min(y0, y1);\n",
       "    var width = Math.abs(x1 - x0);\n",
       "    var height = Math.abs(y1 - y0);\n",
       "\n",
       "    fig.rubberband_context.clearRect(\n",
       "        0, 0, fig.canvas.width / mpl.ratio, fig.canvas.height / mpl.ratio);\n",
       "\n",
       "    fig.rubberband_context.strokeRect(min_x, min_y, width, height);\n",
       "}\n",
       "\n",
       "mpl.figure.prototype.handle_figure_label = function(fig, msg) {\n",
       "    // Updates the figure title.\n",
       "    fig.header.textContent = msg['label'];\n",
       "}\n",
       "\n",
       "mpl.figure.prototype.handle_cursor = function(fig, msg) {\n",
       "    var cursor = msg['cursor'];\n",
       "    switch(cursor)\n",
       "    {\n",
       "    case 0:\n",
       "        cursor = 'pointer';\n",
       "        break;\n",
       "    case 1:\n",
       "        cursor = 'default';\n",
       "        break;\n",
       "    case 2:\n",
       "        cursor = 'crosshair';\n",
       "        break;\n",
       "    case 3:\n",
       "        cursor = 'move';\n",
       "        break;\n",
       "    }\n",
       "    fig.rubberband_canvas.style.cursor = cursor;\n",
       "}\n",
       "\n",
       "mpl.figure.prototype.handle_message = function(fig, msg) {\n",
       "    fig.message.textContent = msg['message'];\n",
       "}\n",
       "\n",
       "mpl.figure.prototype.handle_draw = function(fig, msg) {\n",
       "    // Request the server to send over a new figure.\n",
       "    fig.send_draw_message();\n",
       "}\n",
       "\n",
       "mpl.figure.prototype.handle_image_mode = function(fig, msg) {\n",
       "    fig.image_mode = msg['mode'];\n",
       "}\n",
       "\n",
       "mpl.figure.prototype.updated_canvas_event = function() {\n",
       "    // Called whenever the canvas gets updated.\n",
       "    this.send_message(\"ack\", {});\n",
       "}\n",
       "\n",
       "// A function to construct a web socket function for onmessage handling.\n",
       "// Called in the figure constructor.\n",
       "mpl.figure.prototype._make_on_message_function = function(fig) {\n",
       "    return function socket_on_message(evt) {\n",
       "        if (evt.data instanceof Blob) {\n",
       "            /* FIXME: We get \"Resource interpreted as Image but\n",
       "             * transferred with MIME type text/plain:\" errors on\n",
       "             * Chrome.  But how to set the MIME type?  It doesn't seem\n",
       "             * to be part of the websocket stream */\n",
       "            evt.data.type = \"image/png\";\n",
       "\n",
       "            /* Free the memory for the previous frames */\n",
       "            if (fig.imageObj.src) {\n",
       "                (window.URL || window.webkitURL).revokeObjectURL(\n",
       "                    fig.imageObj.src);\n",
       "            }\n",
       "\n",
       "            fig.imageObj.src = (window.URL || window.webkitURL).createObjectURL(\n",
       "                evt.data);\n",
       "            fig.updated_canvas_event();\n",
       "            fig.waiting = false;\n",
       "            return;\n",
       "        }\n",
       "        else if (typeof evt.data === 'string' && evt.data.slice(0, 21) == \"data:image/png;base64\") {\n",
       "            fig.imageObj.src = evt.data;\n",
       "            fig.updated_canvas_event();\n",
       "            fig.waiting = false;\n",
       "            return;\n",
       "        }\n",
       "\n",
       "        var msg = JSON.parse(evt.data);\n",
       "        var msg_type = msg['type'];\n",
       "\n",
       "        // Call the  \"handle_{type}\" callback, which takes\n",
       "        // the figure and JSON message as its only arguments.\n",
       "        try {\n",
       "            var callback = fig[\"handle_\" + msg_type];\n",
       "        } catch (e) {\n",
       "            console.log(\"No handler for the '\" + msg_type + \"' message type: \", msg);\n",
       "            return;\n",
       "        }\n",
       "\n",
       "        if (callback) {\n",
       "            try {\n",
       "                // console.log(\"Handling '\" + msg_type + \"' message: \", msg);\n",
       "                callback(fig, msg);\n",
       "            } catch (e) {\n",
       "                console.log(\"Exception inside the 'handler_\" + msg_type + \"' callback:\", e, e.stack, msg);\n",
       "            }\n",
       "        }\n",
       "    };\n",
       "}\n",
       "\n",
       "// from http://stackoverflow.com/questions/1114465/getting-mouse-location-in-canvas\n",
       "mpl.findpos = function(e) {\n",
       "    //this section is from http://www.quirksmode.org/js/events_properties.html\n",
       "    var targ;\n",
       "    if (!e)\n",
       "        e = window.event;\n",
       "    if (e.target)\n",
       "        targ = e.target;\n",
       "    else if (e.srcElement)\n",
       "        targ = e.srcElement;\n",
       "    if (targ.nodeType == 3) // defeat Safari bug\n",
       "        targ = targ.parentNode;\n",
       "\n",
       "    // jQuery normalizes the pageX and pageY\n",
       "    // pageX,Y are the mouse positions relative to the document\n",
       "    // offset() returns the position of the element relative to the document\n",
       "    var x = e.pageX - $(targ).offset().left;\n",
       "    var y = e.pageY - $(targ).offset().top;\n",
       "\n",
       "    return {\"x\": x, \"y\": y};\n",
       "};\n",
       "\n",
       "/*\n",
       " * return a copy of an object with only non-object keys\n",
       " * we need this to avoid circular references\n",
       " * http://stackoverflow.com/a/24161582/3208463\n",
       " */\n",
       "function simpleKeys (original) {\n",
       "  return Object.keys(original).reduce(function (obj, key) {\n",
       "    if (typeof original[key] !== 'object')\n",
       "        obj[key] = original[key]\n",
       "    return obj;\n",
       "  }, {});\n",
       "}\n",
       "\n",
       "mpl.figure.prototype.mouse_event = function(event, name) {\n",
       "    var canvas_pos = mpl.findpos(event)\n",
       "\n",
       "    if (name === 'button_press')\n",
       "    {\n",
       "        this.canvas.focus();\n",
       "        this.canvas_div.focus();\n",
       "    }\n",
       "\n",
       "    var x = canvas_pos.x * mpl.ratio;\n",
       "    var y = canvas_pos.y * mpl.ratio;\n",
       "\n",
       "    this.send_message(name, {x: x, y: y, button: event.button,\n",
       "                             step: event.step,\n",
       "                             guiEvent: simpleKeys(event)});\n",
       "\n",
       "    /* This prevents the web browser from automatically changing to\n",
       "     * the text insertion cursor when the button is pressed.  We want\n",
       "     * to control all of the cursor setting manually through the\n",
       "     * 'cursor' event from matplotlib */\n",
       "    event.preventDefault();\n",
       "    return false;\n",
       "}\n",
       "\n",
       "mpl.figure.prototype._key_event_extra = function(event, name) {\n",
       "    // Handle any extra behaviour associated with a key event\n",
       "}\n",
       "\n",
       "mpl.figure.prototype.key_event = function(event, name) {\n",
       "\n",
       "    // Prevent repeat events\n",
       "    if (name == 'key_press')\n",
       "    {\n",
       "        if (event.which === this._key)\n",
       "            return;\n",
       "        else\n",
       "            this._key = event.which;\n",
       "    }\n",
       "    if (name == 'key_release')\n",
       "        this._key = null;\n",
       "\n",
       "    var value = '';\n",
       "    if (event.ctrlKey && event.which != 17)\n",
       "        value += \"ctrl+\";\n",
       "    if (event.altKey && event.which != 18)\n",
       "        value += \"alt+\";\n",
       "    if (event.shiftKey && event.which != 16)\n",
       "        value += \"shift+\";\n",
       "\n",
       "    value += 'k';\n",
       "    value += event.which.toString();\n",
       "\n",
       "    this._key_event_extra(event, name);\n",
       "\n",
       "    this.send_message(name, {key: value,\n",
       "                             guiEvent: simpleKeys(event)});\n",
       "    return false;\n",
       "}\n",
       "\n",
       "mpl.figure.prototype.toolbar_button_onclick = function(name) {\n",
       "    if (name == 'download') {\n",
       "        this.handle_save(this, null);\n",
       "    } else {\n",
       "        this.send_message(\"toolbar_button\", {name: name});\n",
       "    }\n",
       "};\n",
       "\n",
       "mpl.figure.prototype.toolbar_button_onmouseover = function(tooltip) {\n",
       "    this.message.textContent = tooltip;\n",
       "};\n",
       "mpl.toolbar_items = [[\"Home\", \"Reset original view\", \"fa fa-home icon-home\", \"home\"], [\"Back\", \"Back to previous view\", \"fa fa-arrow-left icon-arrow-left\", \"back\"], [\"Forward\", \"Forward to next view\", \"fa fa-arrow-right icon-arrow-right\", \"forward\"], [\"\", \"\", \"\", \"\"], [\"Pan\", \"Pan axes with left mouse, zoom with right\", \"fa fa-arrows icon-move\", \"pan\"], [\"Zoom\", \"Zoom to rectangle\", \"fa fa-square-o icon-check-empty\", \"zoom\"], [\"\", \"\", \"\", \"\"], [\"Download\", \"Download plot\", \"fa fa-floppy-o icon-save\", \"download\"]];\n",
       "\n",
       "mpl.extensions = [\"eps\", \"pdf\", \"png\", \"ps\", \"raw\", \"svg\"];\n",
       "\n",
       "mpl.default_extension = \"png\";var comm_websocket_adapter = function(comm) {\n",
       "    // Create a \"websocket\"-like object which calls the given IPython comm\n",
       "    // object with the appropriate methods. Currently this is a non binary\n",
       "    // socket, so there is still some room for performance tuning.\n",
       "    var ws = {};\n",
       "\n",
       "    ws.close = function() {\n",
       "        comm.close()\n",
       "    };\n",
       "    ws.send = function(m) {\n",
       "        //console.log('sending', m);\n",
       "        comm.send(m);\n",
       "    };\n",
       "    // Register the callback with on_msg.\n",
       "    comm.on_msg(function(msg) {\n",
       "        //console.log('receiving', msg['content']['data'], msg);\n",
       "        // Pass the mpl event to the overridden (by mpl) onmessage function.\n",
       "        ws.onmessage(msg['content']['data'])\n",
       "    });\n",
       "    return ws;\n",
       "}\n",
       "\n",
       "mpl.mpl_figure_comm = function(comm, msg) {\n",
       "    // This is the function which gets called when the mpl process\n",
       "    // starts-up an IPython Comm through the \"matplotlib\" channel.\n",
       "\n",
       "    var id = msg.content.data.id;\n",
       "    // Get hold of the div created by the display call when the Comm\n",
       "    // socket was opened in Python.\n",
       "    var element = $(\"#\" + id);\n",
       "    var ws_proxy = comm_websocket_adapter(comm)\n",
       "\n",
       "    function ondownload(figure, format) {\n",
       "        window.open(figure.imageObj.src);\n",
       "    }\n",
       "\n",
       "    var fig = new mpl.figure(id, ws_proxy,\n",
       "                           ondownload,\n",
       "                           element.get(0));\n",
       "\n",
       "    // Call onopen now - mpl needs it, as it is assuming we've passed it a real\n",
       "    // web socket which is closed, not our websocket->open comm proxy.\n",
       "    ws_proxy.onopen();\n",
       "\n",
       "    fig.parent_element = element.get(0);\n",
       "    fig.cell_info = mpl.find_output_cell(\"<div id='\" + id + \"'></div>\");\n",
       "    if (!fig.cell_info) {\n",
       "        console.error(\"Failed to find cell for figure\", id, fig);\n",
       "        return;\n",
       "    }\n",
       "\n",
       "    var output_index = fig.cell_info[2]\n",
       "    var cell = fig.cell_info[0];\n",
       "\n",
       "};\n",
       "\n",
       "mpl.figure.prototype.handle_close = function(fig, msg) {\n",
       "    var width = fig.canvas.width/mpl.ratio\n",
       "    fig.root.unbind('remove')\n",
       "\n",
       "    // Update the output cell to use the data from the current canvas.\n",
       "    fig.push_to_output();\n",
       "    var dataURL = fig.canvas.toDataURL();\n",
       "    // Re-enable the keyboard manager in IPython - without this line, in FF,\n",
       "    // the notebook keyboard shortcuts fail.\n",
       "    IPython.keyboard_manager.enable()\n",
       "    $(fig.parent_element).html('<img src=\"' + dataURL + '\" width=\"' + width + '\">');\n",
       "    fig.close_ws(fig, msg);\n",
       "}\n",
       "\n",
       "mpl.figure.prototype.close_ws = function(fig, msg){\n",
       "    fig.send_message('closing', msg);\n",
       "    // fig.ws.close()\n",
       "}\n",
       "\n",
       "mpl.figure.prototype.push_to_output = function(remove_interactive) {\n",
       "    // Turn the data on the canvas into data in the output cell.\n",
       "    var width = this.canvas.width/mpl.ratio\n",
       "    var dataURL = this.canvas.toDataURL();\n",
       "    this.cell_info[1]['text/html'] = '<img src=\"' + dataURL + '\" width=\"' + width + '\">';\n",
       "}\n",
       "\n",
       "mpl.figure.prototype.updated_canvas_event = function() {\n",
       "    // Tell IPython that the notebook contents must change.\n",
       "    IPython.notebook.set_dirty(true);\n",
       "    this.send_message(\"ack\", {});\n",
       "    var fig = this;\n",
       "    // Wait a second, then push the new image to the DOM so\n",
       "    // that it is saved nicely (might be nice to debounce this).\n",
       "    setTimeout(function () { fig.push_to_output() }, 1000);\n",
       "}\n",
       "\n",
       "mpl.figure.prototype._init_toolbar = function() {\n",
       "    var fig = this;\n",
       "\n",
       "    var nav_element = $('<div/>');\n",
       "    nav_element.attr('style', 'width: 100%');\n",
       "    this.root.append(nav_element);\n",
       "\n",
       "    // Define a callback function for later on.\n",
       "    function toolbar_event(event) {\n",
       "        return fig.toolbar_button_onclick(event['data']);\n",
       "    }\n",
       "    function toolbar_mouse_event(event) {\n",
       "        return fig.toolbar_button_onmouseover(event['data']);\n",
       "    }\n",
       "\n",
       "    for(var toolbar_ind in mpl.toolbar_items){\n",
       "        var name = mpl.toolbar_items[toolbar_ind][0];\n",
       "        var tooltip = mpl.toolbar_items[toolbar_ind][1];\n",
       "        var image = mpl.toolbar_items[toolbar_ind][2];\n",
       "        var method_name = mpl.toolbar_items[toolbar_ind][3];\n",
       "\n",
       "        if (!name) { continue; };\n",
       "\n",
       "        var button = $('<button class=\"btn btn-default\" href=\"#\" title=\"' + name + '\"><i class=\"fa ' + image + ' fa-lg\"></i></button>');\n",
       "        button.click(method_name, toolbar_event);\n",
       "        button.mouseover(tooltip, toolbar_mouse_event);\n",
       "        nav_element.append(button);\n",
       "    }\n",
       "\n",
       "    // Add the status bar.\n",
       "    var status_bar = $('<span class=\"mpl-message\" style=\"text-align:right; float: right;\"/>');\n",
       "    nav_element.append(status_bar);\n",
       "    this.message = status_bar[0];\n",
       "\n",
       "    // Add the close button to the window.\n",
       "    var buttongrp = $('<div class=\"btn-group inline pull-right\"></div>');\n",
       "    var button = $('<button class=\"btn btn-mini btn-primary\" href=\"#\" title=\"Stop Interaction\"><i class=\"fa fa-power-off icon-remove icon-large\"></i></button>');\n",
       "    button.click(function (evt) { fig.handle_close(fig, {}); } );\n",
       "    button.mouseover('Stop Interaction', toolbar_mouse_event);\n",
       "    buttongrp.append(button);\n",
       "    var titlebar = this.root.find($('.ui-dialog-titlebar'));\n",
       "    titlebar.prepend(buttongrp);\n",
       "}\n",
       "\n",
       "mpl.figure.prototype._root_extra_style = function(el){\n",
       "    var fig = this\n",
       "    el.on(\"remove\", function(){\n",
       "\tfig.close_ws(fig, {});\n",
       "    });\n",
       "}\n",
       "\n",
       "mpl.figure.prototype._canvas_extra_style = function(el){\n",
       "    // this is important to make the div 'focusable\n",
       "    el.attr('tabindex', 0)\n",
       "    // reach out to IPython and tell the keyboard manager to turn it's self\n",
       "    // off when our div gets focus\n",
       "\n",
       "    // location in version 3\n",
       "    if (IPython.notebook.keyboard_manager) {\n",
       "        IPython.notebook.keyboard_manager.register_events(el);\n",
       "    }\n",
       "    else {\n",
       "        // location in version 2\n",
       "        IPython.keyboard_manager.register_events(el);\n",
       "    }\n",
       "\n",
       "}\n",
       "\n",
       "mpl.figure.prototype._key_event_extra = function(event, name) {\n",
       "    var manager = IPython.notebook.keyboard_manager;\n",
       "    if (!manager)\n",
       "        manager = IPython.keyboard_manager;\n",
       "\n",
       "    // Check for shift+enter\n",
       "    if (event.shiftKey && event.which == 13) {\n",
       "        this.canvas_div.blur();\n",
       "        // select the cell after this one\n",
       "        var index = IPython.notebook.find_cell_index(this.cell_info[0]);\n",
       "        IPython.notebook.select(index + 1);\n",
       "    }\n",
       "}\n",
       "\n",
       "mpl.figure.prototype.handle_save = function(fig, msg) {\n",
       "    fig.ondownload(fig, null);\n",
       "}\n",
       "\n",
       "\n",
       "mpl.find_output_cell = function(html_output) {\n",
       "    // Return the cell and output element which can be found *uniquely* in the notebook.\n",
       "    // Note - this is a bit hacky, but it is done because the \"notebook_saving.Notebook\"\n",
       "    // IPython event is triggered only after the cells have been serialised, which for\n",
       "    // our purposes (turning an active figure into a static one), is too late.\n",
       "    var cells = IPython.notebook.get_cells();\n",
       "    var ncells = cells.length;\n",
       "    for (var i=0; i<ncells; i++) {\n",
       "        var cell = cells[i];\n",
       "        if (cell.cell_type === 'code'){\n",
       "            for (var j=0; j<cell.output_area.outputs.length; j++) {\n",
       "                var data = cell.output_area.outputs[j];\n",
       "                if (data.data) {\n",
       "                    // IPython >= 3 moved mimebundle to data attribute of output\n",
       "                    data = data.data;\n",
       "                }\n",
       "                if (data['text/html'] == html_output) {\n",
       "                    return [cell, data, j];\n",
       "                }\n",
       "            }\n",
       "        }\n",
       "    }\n",
       "}\n",
       "\n",
       "// Register the function which deals with the matplotlib target/channel.\n",
       "// The kernel may be null if the page has been refreshed.\n",
       "if (IPython.notebook.kernel != null) {\n",
       "    IPython.notebook.kernel.comm_manager.register_target('matplotlib', mpl.mpl_figure_comm);\n",
       "}\n"
      ],
      "text/plain": [
       "<IPython.core.display.Javascript object>"
      ]
     },
     "metadata": {},
     "output_type": "display_data"
    },
    {
     "data": {
      "text/html": [
       "<img src=\"data:image/png;base64,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\" width=\"640\">"
      ],
      "text/plain": [
       "<IPython.core.display.HTML object>"
      ]
     },
     "metadata": {},
     "output_type": "display_data"
    },
    {
     "data": {
      "text/plain": [
       "[<matplotlib.lines.Line2D at 0x7f0aafc19d90>]"
      ]
     },
     "execution_count": 76,
     "metadata": {},
     "output_type": "execute_result"
    }
   ],
   "source": [
    "plt.plot([key for key in regimeAmounts.keys()],[val for val in regimeAmounts.values()])"
   ]
  },
  {
   "cell_type": "code",
   "execution_count": 77,
   "metadata": {
    "scrolled": false
   },
   "outputs": [
    {
     "data": {
      "text/plain": [
       "([<matplotlib.axis.XTick at 0x7f0abc88f3a0>,\n",
       "  <matplotlib.axis.XTick at 0x7f0abc88f370>,\n",
       "  <matplotlib.axis.XTick at 0x7f0abc895640>,\n",
       "  <matplotlib.axis.XTick at 0x7f0abcc246d0>,\n",
       "  <matplotlib.axis.XTick at 0x7f0abcc24be0>,\n",
       "  <matplotlib.axis.XTick at 0x7f0abcc2d130>,\n",
       "  <matplotlib.axis.XTick at 0x7f0abcc2d640>,\n",
       "  <matplotlib.axis.XTick at 0x7f0abcc2db50>,\n",
       "  <matplotlib.axis.XTick at 0x7f0abcb330a0>,\n",
       "  <matplotlib.axis.XTick at 0x7f0abcb335e0>,\n",
       "  <matplotlib.axis.XTick at 0x7f0abcb33af0>,\n",
       "  <matplotlib.axis.XTick at 0x7f0abcb33730>,\n",
       "  <matplotlib.axis.XTick at 0x7f0abcc2d790>,\n",
       "  <matplotlib.axis.XTick at 0x7f0abcc24820>,\n",
       "  <matplotlib.axis.XTick at 0x7f0abcb3a1f0>,\n",
       "  <matplotlib.axis.XTick at 0x7f0abcb3a700>,\n",
       "  <matplotlib.axis.XTick at 0x7f0abcb3ac10>,\n",
       "  <matplotlib.axis.XTick at 0x7f0abcb3f160>,\n",
       "  <matplotlib.axis.XTick at 0x7f0abcb3f670>,\n",
       "  <matplotlib.axis.XTick at 0x7f0abcb3fb80>,\n",
       "  <matplotlib.axis.XTick at 0x7f0abcb450d0>,\n",
       "  <matplotlib.axis.XTick at 0x7f0abcb3f850>,\n",
       "  <matplotlib.axis.XTick at 0x7f0abcb3a8e0>,\n",
       "  <matplotlib.axis.XTick at 0x7f0abcc2d340>,\n",
       "  <matplotlib.axis.XTick at 0x7f0abcb455e0>,\n",
       "  <matplotlib.axis.XTick at 0x7f0abcb45af0>,\n",
       "  <matplotlib.axis.XTick at 0x7f0abcb4c040>,\n",
       "  <matplotlib.axis.XTick at 0x7f0abcb4c550>,\n",
       "  <matplotlib.axis.XTick at 0x7f0abcb4ca60>,\n",
       "  <matplotlib.axis.XTick at 0x7f0abcb4cf70>,\n",
       "  <matplotlib.axis.XTick at 0x7f0abcb514c0>,\n",
       "  <matplotlib.axis.XTick at 0x7f0abcb4c670>,\n",
       "  <matplotlib.axis.XTick at 0x7f0abcb45700>,\n",
       "  <matplotlib.axis.XTick at 0x7f0abcb3f3d0>,\n",
       "  <matplotlib.axis.XTick at 0x7f0abcb519d0>,\n",
       "  <matplotlib.axis.XTick at 0x7f0abcb51ee0>,\n",
       "  <matplotlib.axis.XTick at 0x7f0abcb58430>,\n",
       "  <matplotlib.axis.XTick at 0x7f0abcb58940>,\n",
       "  <matplotlib.axis.XTick at 0x7f0abcb58e50>,\n",
       "  <matplotlib.axis.XTick at 0x7f0abcb5d3a0>,\n",
       "  <matplotlib.axis.XTick at 0x7f0abcb5d8b0>,\n",
       "  <matplotlib.axis.XTick at 0x7f0abcb58550>,\n",
       "  <matplotlib.axis.XTick at 0x7f0abcb51220>,\n",
       "  <matplotlib.axis.XTick at 0x7f0abcb5d610>,\n",
       "  <matplotlib.axis.XTick at 0x7f0abcb5dd30>,\n",
       "  <matplotlib.axis.XTick at 0x7f0abcb642b0>,\n",
       "  <matplotlib.axis.XTick at 0x7f0abcb647c0>,\n",
       "  <matplotlib.axis.XTick at 0x7f0abcb64cd0>,\n",
       "  <matplotlib.axis.XTick at 0x7f0abcb69220>,\n",
       "  <matplotlib.axis.XTick at 0x7f0abcb69730>,\n",
       "  <matplotlib.axis.XTick at 0x7f0abcb64a30>,\n",
       "  <matplotlib.axis.XTick at 0x7f0abcb5da90>,\n",
       "  <matplotlib.axis.XTick at 0x7f0abcb589d0>,\n",
       "  <matplotlib.axis.XTick at 0x7f0abcb69cd0>,\n",
       "  <matplotlib.axis.XTick at 0x7f0abcb6f220>,\n",
       "  <matplotlib.axis.XTick at 0x7f0abcb6f730>,\n",
       "  <matplotlib.axis.XTick at 0x7f0abcb6fc40>,\n",
       "  <matplotlib.axis.XTick at 0x7f0abcaf5190>,\n",
       "  <matplotlib.axis.XTick at 0x7f0abcaf56a0>,\n",
       "  <matplotlib.axis.XTick at 0x7f0abcaf5bb0>,\n",
       "  <matplotlib.axis.XTick at 0x7f0abcb6f910>,\n",
       "  <matplotlib.axis.XTick at 0x7f0abcb69a60>,\n",
       "  <matplotlib.axis.XTick at 0x7f0abcaf5f10>,\n",
       "  <matplotlib.axis.XTick at 0x7f0abcafd100>,\n",
       "  <matplotlib.axis.XTick at 0x7f0abcafd610>,\n",
       "  <matplotlib.axis.XTick at 0x7f0abcafdb20>,\n",
       "  <matplotlib.axis.XTick at 0x7f0abcb01070>,\n",
       "  <matplotlib.axis.XTick at 0x7f0abcb01580>,\n",
       "  <matplotlib.axis.XTick at 0x7f0abcb01b20>,\n",
       "  <matplotlib.axis.XTick at 0x7f0abcb07100>,\n",
       "  <matplotlib.axis.XTick at 0x7f0abcb01160>,\n",
       "  <matplotlib.axis.XTick at 0x7f0abcaf53a0>,\n",
       "  <matplotlib.axis.XTick at 0x7f0abcb07280>,\n",
       "  <matplotlib.axis.XTick at 0x7f0abcb07850>,\n",
       "  <matplotlib.axis.XTick at 0x7f0abcb07df0>,\n",
       "  <matplotlib.axis.XTick at 0x7f0abcb0e3d0>,\n",
       "  <matplotlib.axis.XTick at 0x7f0abcb0e970>,\n",
       "  <matplotlib.axis.XTick at 0x7f0abcb0ef10>,\n",
       "  <matplotlib.axis.XTick at 0x7f0abcb124f0>,\n",
       "  <matplotlib.axis.XTick at 0x7f0abcb0e460>,\n",
       "  <matplotlib.axis.XTick at 0x7f0abcb07310>,\n",
       "  <matplotlib.axis.XTick at 0x7f0abcb12880>,\n",
       "  <matplotlib.axis.XTick at 0x7f0abcb12ca0>,\n",
       "  <matplotlib.axis.XTick at 0x7f0abcb18280>,\n",
       "  <matplotlib.axis.XTick at 0x7f0abcb18820>,\n",
       "  <matplotlib.axis.XTick at 0x7f0abcb18df0>,\n",
       "  <matplotlib.axis.XTick at 0x7f0abcb1d3d0>,\n",
       "  <matplotlib.axis.XTick at 0x7f0abcb1d970>,\n",
       "  <matplotlib.axis.XTick at 0x7f0abcb1df10>,\n",
       "  <matplotlib.axis.XTick at 0x7f0abcb18fd0>,\n",
       "  <matplotlib.axis.XTick at 0x7f0abcb12dc0>,\n",
       "  <matplotlib.axis.XTick at 0x7f0abcb23100>,\n",
       "  <matplotlib.axis.XTick at 0x7f0abcb236a0>,\n",
       "  <matplotlib.axis.XTick at 0x7f0abcb23c40>,\n",
       "  <matplotlib.axis.XTick at 0x7f0abcb29220>,\n",
       "  <matplotlib.axis.XTick at 0x7f0abcb297c0>,\n",
       "  <matplotlib.axis.XTick at 0x7f0abcb29d60>,\n",
       "  <matplotlib.axis.XTick at 0x7f0abcb2d340>,\n",
       "  <matplotlib.axis.XTick at 0x7f0abcb29820>],\n",
       " [Text(0, 0, 'SimOpt_extensive_0'),\n",
       "  Text(0, 0, 'SimOpt_extensive_1'),\n",
       "  Text(0, 0, 'SimOpt_extensive_10'),\n",
       "  Text(0, 0, 'SimOpt_extensive_11'),\n",
       "  Text(0, 0, 'SimOpt_extensive_12'),\n",
       "  Text(0, 0, 'SimOpt_extensive_13'),\n",
       "  Text(0, 0, 'SimOpt_extensive_14'),\n",
       "  Text(0, 0, 'SimOpt_extensive_15'),\n",
       "  Text(0, 0, 'SimOpt_extensive_16'),\n",
       "  Text(0, 0, 'SimOpt_extensive_17'),\n",
       "  Text(0, 0, 'SimOpt_extensive_18'),\n",
       "  Text(0, 0, 'SimOpt_extensive_2'),\n",
       "  Text(0, 0, 'SimOpt_extensive_3'),\n",
       "  Text(0, 0, 'SimOpt_extensive_4'),\n",
       "  Text(0, 0, 'SimOpt_extensive_5'),\n",
       "  Text(0, 0, 'SimOpt_extensive_6'),\n",
       "  Text(0, 0, 'SimOpt_extensive_7'),\n",
       "  Text(0, 0, 'SimOpt_extensive_8'),\n",
       "  Text(0, 0, 'SimOpt_extensive_9'),\n",
       "  Text(0, 0, 'SimOpt_extensive_long_0'),\n",
       "  Text(0, 0, 'SimOpt_extensive_long_1'),\n",
       "  Text(0, 0, 'SimOpt_extensive_long_10'),\n",
       "  Text(0, 0, 'SimOpt_extensive_long_11'),\n",
       "  Text(0, 0, 'SimOpt_extensive_long_12'),\n",
       "  Text(0, 0, 'SimOpt_extensive_long_13'),\n",
       "  Text(0, 0, 'SimOpt_extensive_long_14'),\n",
       "  Text(0, 0, 'SimOpt_extensive_long_15'),\n",
       "  Text(0, 0, 'SimOpt_extensive_long_16'),\n",
       "  Text(0, 0, 'SimOpt_extensive_long_17'),\n",
       "  Text(0, 0, 'SimOpt_extensive_long_18'),\n",
       "  Text(0, 0, 'SimOpt_extensive_long_2'),\n",
       "  Text(0, 0, 'SimOpt_extensive_long_3'),\n",
       "  Text(0, 0, 'SimOpt_extensive_long_4'),\n",
       "  Text(0, 0, 'SimOpt_extensive_long_5'),\n",
       "  Text(0, 0, 'SimOpt_extensive_long_6'),\n",
       "  Text(0, 0, 'SimOpt_extensive_long_7'),\n",
       "  Text(0, 0, 'SimOpt_extensive_long_8'),\n",
       "  Text(0, 0, 'SimOpt_extensive_long_9'),\n",
       "  Text(0, 0, 'SimOpt_no_management_0'),\n",
       "  Text(0, 0, 'SimOpt_int_0'),\n",
       "  Text(0, 0, 'SimOpt_int_short_0'),\n",
       "  Text(0, 0, 'SimOpt_multispecies_0'),\n",
       "  Text(0, 0, 'SimOpt_int_1'),\n",
       "  Text(0, 0, 'SimOpt_int_10'),\n",
       "  Text(0, 0, 'SimOpt_int_11'),\n",
       "  Text(0, 0, 'SimOpt_int_12'),\n",
       "  Text(0, 0, 'SimOpt_int_13'),\n",
       "  Text(0, 0, 'SimOpt_int_14'),\n",
       "  Text(0, 0, 'SimOpt_int_15'),\n",
       "  Text(0, 0, 'SimOpt_int_16'),\n",
       "  Text(0, 0, 'SimOpt_int_17'),\n",
       "  Text(0, 0, 'SimOpt_int_18'),\n",
       "  Text(0, 0, 'SimOpt_int_2'),\n",
       "  Text(0, 0, 'SimOpt_int_3'),\n",
       "  Text(0, 0, 'SimOpt_int_4'),\n",
       "  Text(0, 0, 'SimOpt_int_5'),\n",
       "  Text(0, 0, 'SimOpt_int_6'),\n",
       "  Text(0, 0, 'SimOpt_int_7'),\n",
       "  Text(0, 0, 'SimOpt_int_8'),\n",
       "  Text(0, 0, 'SimOpt_int_9'),\n",
       "  Text(0, 0, 'SimOpt_int_short_1'),\n",
       "  Text(0, 0, 'SimOpt_int_short_10'),\n",
       "  Text(0, 0, 'SimOpt_int_short_11'),\n",
       "  Text(0, 0, 'SimOpt_int_short_12'),\n",
       "  Text(0, 0, 'SimOpt_int_short_13'),\n",
       "  Text(0, 0, 'SimOpt_int_short_14'),\n",
       "  Text(0, 0, 'SimOpt_int_short_15'),\n",
       "  Text(0, 0, 'SimOpt_int_short_16'),\n",
       "  Text(0, 0, 'SimOpt_int_short_17'),\n",
       "  Text(0, 0, 'SimOpt_int_short_18'),\n",
       "  Text(0, 0, 'SimOpt_int_short_2'),\n",
       "  Text(0, 0, 'SimOpt_int_short_3'),\n",
       "  Text(0, 0, 'SimOpt_int_short_4'),\n",
       "  Text(0, 0, 'SimOpt_int_short_5'),\n",
       "  Text(0, 0, 'SimOpt_int_short_6'),\n",
       "  Text(0, 0, 'SimOpt_int_short_7'),\n",
       "  Text(0, 0, 'SimOpt_int_short_8'),\n",
       "  Text(0, 0, 'SimOpt_int_short_9'),\n",
       "  Text(0, 0, 'SimOpt_multispecies_1'),\n",
       "  Text(0, 0, 'SimOpt_multispecies_10'),\n",
       "  Text(0, 0, 'SimOpt_multispecies_11'),\n",
       "  Text(0, 0, 'SimOpt_multispecies_12'),\n",
       "  Text(0, 0, 'SimOpt_multispecies_13'),\n",
       "  Text(0, 0, 'SimOpt_multispecies_14'),\n",
       "  Text(0, 0, 'SimOpt_multispecies_15'),\n",
       "  Text(0, 0, 'SimOpt_multispecies_16'),\n",
       "  Text(0, 0, 'SimOpt_multispecies_17'),\n",
       "  Text(0, 0, 'SimOpt_multispecies_18'),\n",
       "  Text(0, 0, 'SimOpt_multispecies_2'),\n",
       "  Text(0, 0, 'SimOpt_multispecies_3'),\n",
       "  Text(0, 0, 'SimOpt_multispecies_4'),\n",
       "  Text(0, 0, 'SimOpt_multispecies_5'),\n",
       "  Text(0, 0, 'SimOpt_multispecies_6'),\n",
       "  Text(0, 0, 'SimOpt_multispecies_7'),\n",
       "  Text(0, 0, 'SimOpt_multispecies_8'),\n",
       "  Text(0, 0, 'SimOpt_multispecies_9'),\n",
       "  Text(0, 0, 'SimOpt_ccover_0'),\n",
       "  Text(0, 0, 'SimOpt_ccover_1'),\n",
       "  Text(0, 0, 'SimOpt_ccover_2')])"
      ]
     },
     "execution_count": 77,
     "metadata": {},
     "output_type": "execute_result"
    }
   ],
   "source": [
    "plt.bar(range(len(regimeAmounts)), list(regimeAmounts.values()), align='center')\n",
    "plt.xticks(range(len(regimeAmounts)), list(regimeAmounts.keys()),rotation=\"vertical\")"
   ]
  },
  {
   "cell_type": "markdown",
   "metadata": {},
   "source": [
    "## Export data as csv\n",
    "- Solution_alldata contains the optimal regime per stand AND the timely development of indicator values plus all other input columns (represented_are_by_NFIplot, region, NUTS2)\n",
    "- Solution contains only the selected optimal regime and its share (if multiple regimes per stand are selected)"
   ]
  },
  {
   "cell_type": "code",
   "execution_count": 79,
   "metadata": {},
   "outputs": [],
   "source": [
    "try:\n",
    "    os.mkdir(\"results\")\n",
    "except FileExistsError:\n",
    "    pass\n",
    "b = []\n",
    "c = []\n",
    "for key in mfo.regimesDecision.keys():\n",
    "    if mfo.regimesDecision[key].solution_value() > 0:\n",
    "        b = b+ [(key[0],x*5+2012, key[1]) for x in range(0,21)]\n",
    "        c = c+ [(key[0],key[1],mfo.regimesDecision[key].solution_value())]\n",
    "data2b = mfo.data.iloc[mfo.data.index.isin(b)]\n",
    "data2b.to_csv(\"./results/\"+scenario+\"_\"+RCP+\"_data.csv\")\n",
    "c1 = pd.DataFrame(c)\n",
    "c1.to_csv(\"./results/\"+scenario+\"_\"+RCP+\"_solutions.csv\")"
   ]
  },
  {
   "cell_type": "markdown",
   "metadata": {},
   "source": [
    "## Export objective ranges"
   ]
  },
  {
   "cell_type": "markdown",
   "metadata": {},
   "source": [
    "Save as json file"
   ]
  },
  {
   "cell_type": "code",
   "execution_count": 80,
   "metadata": {},
   "outputs": [],
   "source": [
    "import json\n",
    "mfo.objectiveRanges\n",
    "\n",
    "with open('./results/objectiveRanges_'+scenario+'_'+RCP+'.json', 'w') as json_file:\n",
    "  json.dump(mfo.objectiveRanges, json_file)"
   ]
  },
  {
   "cell_type": "markdown",
   "metadata": {},
   "source": [
    "Save as CSV."
   ]
  },
  {
   "cell_type": "code",
   "execution_count": 81,
   "metadata": {},
   "outputs": [],
   "source": [
    "import pandas\n",
    "df = pandas.read_json('./results/objectiveRanges_'+scenario+'_'+RCP+'.json')\n",
    "\n",
    "df.to_csv('./results/objectiveRanges_'+scenario+'_'+RCP+'.csv')"
   ]
  },
  {
   "cell_type": "markdown",
   "metadata": {},
   "source": [
    "## Export objective values\n",
    "The optimal solution for each objective."
   ]
  },
  {
   "cell_type": "code",
   "execution_count": 82,
   "metadata": {},
   "outputs": [],
   "source": [
    "import os\n",
    "with open(\"./results/objectiveValues_\"+scenario+\"_\"+RCP+\".csv\",\"w\") as file:\n",
    "    delim = \"\"\n",
    "    for objName in mfo.objectiveTypes.keys():\n",
    "        file.write(delim+objName)\n",
    "        delim = \",\"\n",
    "    file.write(\"\\n\")\n",
    "    delim = \"\"\n",
    "    for objName in mfo.objectiveTypes.keys():\n",
    "        file.write(delim+str(mfo.objective[objName].solution_value()))\n",
    "        delim = \",\"\n",
    "    file.write(\"\\n\")"
   ]
  },
  {
   "cell_type": "code",
   "execution_count": null,
   "metadata": {},
   "outputs": [],
   "source": []
  }
 ],
 "metadata": {
  "kernelspec": {
   "display_name": "Python 3",
   "language": "python",
   "name": "python3"
  },
  "language_info": {
   "codemirror_mode": {
    "name": "ipython",
    "version": 3
   },
   "file_extension": ".py",
   "mimetype": "text/x-python",
   "name": "python",
   "nbconvert_exporter": "python",
   "pygments_lexer": "ipython3",
   "version": "3.8.3"
  }
 },
 "nbformat": 4,
 "nbformat_minor": 2
}
