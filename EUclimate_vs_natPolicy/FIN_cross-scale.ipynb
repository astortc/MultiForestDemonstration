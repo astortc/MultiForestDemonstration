{
 "cells": [
  {
   "cell_type": "markdown",
   "metadata": {},
   "source": [
    "# Multiforest optimization notebook\n",
    "\n",
    "## FINLAND - EU climate policy vs. national policy"
   ]
  },
  {
   "cell_type": "markdown",
   "metadata": {},
   "source": [
    "Above the code cells, there are short instructions how the users can modify the codes in the cells.<br>\n",
    "If there are no instructions, no changes should be needed for the cell by default.\n",
    "\n",
    "A detailed description is provided in the <b>README.md</b>."
   ]
  },
  {
   "cell_type": "markdown",
   "metadata": {},
   "source": [
    "## Basic definitions"
   ]
  },
  {
   "cell_type": "markdown",
   "metadata": {},
   "source": [
    "Simulated forest data (climate scenario and name); sample size of data "
   ]
  },
  {
   "cell_type": "code",
   "execution_count": 1,
   "metadata": {},
   "outputs": [],
   "source": [
    "RCP = \"RCP0\"\n",
    "filename = \"rslt_\"+RCP+\"_keskisuomi_V11_smooth.zip\" # Test data from Central Finland with 2925 forest stands\n",
    "sample = 0.5 # if 1, 100% of data is used"
   ]
  },
  {
   "cell_type": "markdown",
   "metadata": {},
   "source": [
    "Specify policy scenario:\n",
    "\n",
    "* \"NFS\" - National Forest Strategy\n",
    "* \"BDS\" - Biodiversity Strategy\n",
    "* \"BES\" - Bioeconomy Strategy"
   ]
  },
  {
   "cell_type": "code",
   "execution_count": 2,
   "metadata": {},
   "outputs": [],
   "source": [
    "scenario = \"BES\""
   ]
  },
  {
   "cell_type": "markdown",
   "metadata": {},
   "source": [
    "Name definition for saved output, rule: _scenario_RCP_extension"
   ]
  },
  {
   "cell_type": "code",
   "execution_count": 3,
   "metadata": {},
   "outputs": [],
   "source": [
    "extension = \"Test_BottomUp\" # some additional info to the saved output"
   ]
  },
  {
   "cell_type": "markdown",
   "metadata": {},
   "source": [
    "## Specify \"if\" and \"which\" GLOBIOM scenario is used\n",
    "\n",
    "<b>ATTENTION:</b> each scenario relates to specific CC simulation!<br>\n",
    "Three scenarios define the perdiodic future demand for log, pulp/fuelwood, and forest residues.\n",
    "\n",
    "<b>Bottom-up</b> \n",
    "* 1.5 degrees + RCP 0 (no CC) = <b>'globiom_1p5_RCP0'</b>\n",
    "* LTS + RCP 2.6 = <b>'globiom_LTS_RCP26'</b>\n",
    "* NDC + RCP 4.5 = <b>'globiom_NDC_RCP45'</b>\n",
    "\n",
    "<b>Top-down</b> - functions <b>WITH</b> assortment transfer\n",
    "* 1.5 = <b>'globiom_1p5_RCP0_V2'</b>\n",
    "* LTS = <b>'globiom_LTS_RCP26_V2'</b>\n",
    "* NDC = <b>'globiom_NDC_RCP45_V2'</b>\n",
    "\n",
    "If <b>objectives_globiom = ' '</b>, no GLOBIOM demand objectives are considered."
   ]
  },
  {
   "cell_type": "code",
   "execution_count": 4,
   "metadata": {},
   "outputs": [],
   "source": [
    "objectives_globiom = 'globiom_1p5_RCP0'  "
   ]
  },
  {
   "cell_type": "markdown",
   "metadata": {},
   "source": [
    "## Read .py class"
   ]
  },
  {
   "cell_type": "code",
   "execution_count": 5,
   "metadata": {},
   "outputs": [],
   "source": [
    "import wget\n",
    "import os\n",
    "import pandas as pd\n",
    "import numpy as np\n",
    "import sys"
   ]
  },
  {
   "cell_type": "code",
   "execution_count": 6,
   "metadata": {},
   "outputs": [],
   "source": [
    "module_path = os.path.abspath(os.path.join('..'))\n",
    "if module_path not in sys.path:\n",
    "    sys.path.append(module_path+\"/py_class\")\n",
    "\n",
    "import multiFunctionalOptimization as MFO"
   ]
  },
  {
   "cell_type": "code",
   "execution_count": 7,
   "metadata": {},
   "outputs": [
    {
     "data": {
      "text/plain": [
       "<module 'multiFunctionalOptimization' from '/home/ubuntu/workspace/mf_optimization_demo/py_class/multiFunctionalOptimization.py'>"
      ]
     },
     "execution_count": 7,
     "metadata": {},
     "output_type": "execute_result"
    }
   ],
   "source": [
    "from importlib import reload\n",
    "reload(MFO)"
   ]
  },
  {
   "cell_type": "code",
   "execution_count": 8,
   "metadata": {},
   "outputs": [
    {
     "data": {
      "text/plain": [
       "'Using CPLEX'"
      ]
     },
     "metadata": {},
     "output_type": "display_data"
    }
   ],
   "source": [
    "mfo = MFO.MultiFunctionalOptimization(solver='CPLEX')"
   ]
  },
  {
   "cell_type": "markdown",
   "metadata": {},
   "source": [
    "## Read data"
   ]
  },
  {
   "cell_type": "code",
   "execution_count": 10,
   "metadata": {},
   "outputs": [
    {
     "name": "stdout",
     "output_type": "stream",
     "text": [
      "CPU times: user 2.13 s, sys: 1.43 s, total: 3.56 s\n",
      "Wall time: 3.56 s\n"
     ]
    }
   ],
   "source": [
    "%%time\n",
    "mfo.readData(filename,\n",
    "             # If no sample ratio given, the ratio is assumed to be 1\n",
    "             sampleRatio = sample ,\n",
    "             # Sample equally in all regions. \n",
    "             # Give the name of the column along the sampling should be equal (here region).             \n",
    "             samplingSubsets = \"region\"\n",
    "            )"
   ]
  },
  {
   "cell_type": "markdown",
   "metadata": {},
   "source": [
    "## Create some new variables in the data"
   ]
  },
  {
   "cell_type": "markdown",
   "metadata": {},
   "source": [
    "Calculate total (per stand) values from relative values"
   ]
  },
  {
   "cell_type": "markdown",
   "metadata": {},
   "source": [
    "Calculate total (per stand) values from relative values:\n",
    "* \"Relative to Area\" = simulated indicator value relate to one hectar -> scaled to represented area of NFI plot <br>\n",
    "* (\"Relative to volume\" = indicator relates to standing Volume -> scaled to the represented volume of the plot) <br>\n",
    "* (\"Absolute Value\" = takes the inticator value as it is)"
   ]
  },
  {
   "cell_type": "code",
   "execution_count": 11,
   "metadata": {},
   "outputs": [],
   "source": [
    "columnTypes = {\n",
    "    'i_Vm3':(float,\"Relative to Area\"),\n",
    "    'Harvested_V':(float,\"Relative to Area\"),\n",
    "    'Harvested_V_log_under_bark':(float,\"Relative to Area\"), \n",
    "    'Harvested_V_pulp_under_bark':(float,\"Relative to Area\"),\n",
    "    'Harvested_V_under_bark':(float,\"Relative to Area\"), \n",
    "    'Biomass':(float,\"Relative to Area\"),\n",
    "    'ALL_MARKETED_MUSHROOMS':(float,\"Relative to Area\"), \n",
    "    'BILBERRY':(float,\"Relative to Area\"), \n",
    "    'COWBERRY':(float,\"Relative to Area\"),\n",
    "    'HSI_MOOSE':(float,\"Relative to Area\"),\n",
    "    'CAPERCAILLIE':(float,\"Relative to Area\"), \n",
    "    'HAZEL_GROUSE':(float,\"Relative to Area\"), \n",
    "    'V_total_deadwood':(float,\"Relative to Area\"), \n",
    "    'N_where_D_gt_40':(float,\"Relative to Area\"),\n",
    "    'prc_V_deciduous':(float,\"Relative to Area\"),\n",
    "    'CARBON_SINK':(float,\"Relative to Area\"), \n",
    "    'Recreation':(float,\"Relative to Area\"),\n",
    "    'Scenic':(float,\"Relative to Area\")\n",
    "}"
   ]
  },
  {
   "cell_type": "code",
   "execution_count": 12,
   "metadata": {},
   "outputs": [],
   "source": [
    "mfo.calculateTotalValuesFromRelativeValues(columnTypes=columnTypes)"
   ]
  },
  {
   "cell_type": "markdown",
   "metadata": {},
   "source": [
    "List the new created columns: <br>\n",
    "* Total_... hectare value multiplied by represented area (or volume)"
   ]
  },
  {
   "cell_type": "code",
   "execution_count": 13,
   "metadata": {},
   "outputs": [
    {
     "data": {
      "text/plain": [
       "['Total_i_Vm3',\n",
       " 'Total_Harvested_V',\n",
       " 'Total_Harvested_V_log_under_bark',\n",
       " 'Total_Harvested_V_pulp_under_bark',\n",
       " 'Total_Harvested_V_under_bark',\n",
       " 'Total_Biomass',\n",
       " 'Total_ALL_MARKETED_MUSHROOMS',\n",
       " 'Total_BILBERRY',\n",
       " 'Total_COWBERRY',\n",
       " 'Total_HSI_MOOSE',\n",
       " 'Total_CAPERCAILLIE',\n",
       " 'Total_HAZEL_GROUSE',\n",
       " 'Total_V_total_deadwood',\n",
       " 'Total_N_where_D_gt_40',\n",
       " 'Total_prc_V_deciduous',\n",
       " 'Total_CARBON_SINK',\n",
       " 'Total_Recreation',\n",
       " 'Total_Scenic']"
      ]
     },
     "execution_count": 13,
     "metadata": {},
     "output_type": "execute_result"
    }
   ],
   "source": [
    "[name for name in mfo.data.columns if \"Total_\" in name and \"Relative\" not in name]"
   ]
  },
  {
   "cell_type": "markdown",
   "metadata": {},
   "source": [
    "## Create new column:\n",
    "1) Column indicating if regime is \"CCF_3, CCF_4, BAUwGTR\" (TRUE/FLASE) <br>\n",
    "Important for ES Biodiversity, allowed regimes for conservation sites."
   ]
  },
  {
   "cell_type": "markdown",
   "metadata": {},
   "source": [
    "2) Column indicating if regime is \"SA\" (TRUE/FALSE)<br>\n",
    "Important for ES Biodiversity, allowed regimes for statutory protection sites."
   ]
  },
  {
   "cell_type": "markdown",
   "metadata": {},
   "source": [
    "3) Column indicating if regime is \"BAUwT_B, BAUwT_5_B, BAUwT_15_B, BAUwT_30_B, BAUwT_GTR_B\" <br>\n",
    "Important for ES Resillience, allowed regimes for climate change adaption."
   ]
  },
  {
   "cell_type": "markdown",
   "metadata": {},
   "source": [
    "4) Column indicating if regime is within all four CCF<br>\n",
    "Important for ES Water under GLOBIOM V2 (enabled constraint -> soft target)."
   ]
  },
  {
   "cell_type": "code",
   "execution_count": 14,
   "metadata": {},
   "outputs": [],
   "source": [
    "regimeClassNames = {\"regimeClass0name\":\"CCF\",\n",
    "                    \"regimeClass1name\":\"SA\",\n",
    "                    \"regimeClass2name\":\"Broadleave\",\n",
    "                    \"regimeClass3name\":\"AllCCF\"}\n",
    "regimeClassregimes = {\"regimeClass0regimes\":[\"CCF_3\",\"CCF_4\",\"BAUwGTR\"],\n",
    "                      \"regimeClass1regimes\":[\"SA\"],\n",
    "                      \"regimeClass2regimes\":[\"BAUwT_B\", \"BAUwT_5_B\", \"BAUwT_15_B\", \"BAUwT_30_B\", \"BAUwT_GTR_B\"],\n",
    "                      \"regimeClass3regimes\":[\"CCF_1\",\"CCF_2\",\"CCF_3\",\"CCF_4\"]}"
   ]
  },
  {
   "cell_type": "code",
   "execution_count": 15,
   "metadata": {},
   "outputs": [],
   "source": [
    "mfo.addRegimeClassifications(regimeClassNames = regimeClassNames,regimeClassregimes=regimeClassregimes)"
   ]
  },
  {
   "cell_type": "markdown",
   "metadata": {},
   "source": [
    "## New column for \"soft target\" of only CCF on peat (ES Water)"
   ]
  },
  {
   "cell_type": "markdown",
   "metadata": {},
   "source": [
    "Implemented for Top-down: alternative to the enabled constraint \"only CCF on peat\", allows to explore changes when prioritizing GLOBIOM demands. "
   ]
  },
  {
   "cell_type": "code",
   "execution_count": 16,
   "metadata": {},
   "outputs": [],
   "source": [
    "# Column indicating if CCF and SA are on peat land - allowed regimes for water protection\n",
    "mfo.data['CCFonPeat'] = np.where( \n",
    "    ( (mfo.data['AllCCF_forests'] == True ) & (mfo.data['PEAT'] == 1 ) ) | \n",
    "    ( (mfo.data['SA_forests'] == True) & (mfo.data['PEAT'] == 1 ) )\n",
    "    , 1, 0\n",
    ")"
   ]
  },
  {
   "cell_type": "code",
   "execution_count": 17,
   "metadata": {},
   "outputs": [
    {
     "data": {
      "text/plain": [
       "226010.0"
      ]
     },
     "execution_count": 17,
     "metadata": {},
     "output_type": "execute_result"
    }
   ],
   "source": [
    "# Create subsample to get the total peat area\n",
    "peat = mfo.data[[\"id\",\"represented_area_by_NFIplot\",\"PEAT\"]]\n",
    "peat = peat[(peat[\"PEAT\"] == 1)]\n",
    "peat = peat.drop_duplicates(['id'])\n",
    "totalPeat = peat[\"represented_area_by_NFIplot\"].sum() / sample # divide by the sample ratio !!\n",
    "totalPeat"
   ]
  },
  {
   "cell_type": "code",
   "execution_count": 18,
   "metadata": {},
   "outputs": [
    {
     "data": {
      "text/plain": [
       "233"
      ]
     },
     "execution_count": 18,
     "metadata": {},
     "output_type": "execute_result"
    }
   ],
   "source": [
    "len(peat)"
   ]
  },
  {
   "cell_type": "code",
   "execution_count": 19,
   "metadata": {},
   "outputs": [],
   "source": [
    "# Column defining a peat stand´s area in relation to total peat area (USED for OPTIMIZATION)\n",
    "mfo.data['peatCCFArea'] = np.where(\n",
    "    (mfo.data['CCFonPeat'] == 1 ), mfo.data['represented_area_by_NFIplot'] / totalPeat, 0\n",
    ")"
   ]
  },
  {
   "cell_type": "markdown",
   "metadata": {},
   "source": [
    "## Define initial value:\n",
    "1) Define initial values; initial state is recognized by the regime \"initial_state\"\n",
    "\n",
    "2) Create new variables that describe the <b>relative change to initial situation (start year) \"Relative_\"</b>:"
   ]
  },
  {
   "cell_type": "code",
   "execution_count": 20,
   "metadata": {},
   "outputs": [],
   "source": [
    "mfo.finalizeData(initialRegime=\"initial_state\")"
   ]
  },
  {
   "cell_type": "markdown",
   "metadata": {},
   "source": [
    "New variables created:"
   ]
  },
  {
   "cell_type": "code",
   "execution_count": 21,
   "metadata": {},
   "outputs": [
    {
     "data": {
      "text/plain": [
       "['Relative_V',\n",
       " 'Relative_ALL_MARKETED_MUSHROOMS',\n",
       " 'Relative_BILBERRY',\n",
       " 'Relative_COWBERRY',\n",
       " 'Relative_HSI_MOOSE',\n",
       " 'Relative_CAPERCAILLIE',\n",
       " 'Relative_HAZEL_GROUSE',\n",
       " 'Relative_V_total_deadwood',\n",
       " 'Relative_N_where_D_gt_40',\n",
       " 'Relative_prc_V_deciduous',\n",
       " 'Relative_Recreation',\n",
       " 'Relative_Scenic',\n",
       " 'Relative_CARBON_STORAGE',\n",
       " 'Relative_Total_ALL_MARKETED_MUSHROOMS',\n",
       " 'Relative_Total_BILBERRY',\n",
       " 'Relative_Total_COWBERRY',\n",
       " 'Relative_Total_HSI_MOOSE',\n",
       " 'Relative_Total_CAPERCAILLIE',\n",
       " 'Relative_Total_HAZEL_GROUSE',\n",
       " 'Relative_Total_V_total_deadwood',\n",
       " 'Relative_Total_N_where_D_gt_40',\n",
       " 'Relative_Total_prc_V_deciduous',\n",
       " 'Relative_Total_Recreation',\n",
       " 'Relative_Total_Scenic']"
      ]
     },
     "execution_count": 21,
     "metadata": {},
     "output_type": "execute_result"
    }
   ],
   "source": [
    "[name for name in mfo.data.columns if \"Relative_\" in name]"
   ]
  },
  {
   "cell_type": "code",
   "execution_count": 22,
   "metadata": {},
   "outputs": [
    {
     "data": {
      "text/html": [
       "<div>\n",
       "<style scoped>\n",
       "    .dataframe tbody tr th:only-of-type {\n",
       "        vertical-align: middle;\n",
       "    }\n",
       "\n",
       "    .dataframe tbody tr th {\n",
       "        vertical-align: top;\n",
       "    }\n",
       "\n",
       "    .dataframe thead th {\n",
       "        text-align: right;\n",
       "    }\n",
       "</style>\n",
       "<table border=\"1\" class=\"dataframe\">\n",
       "  <thead>\n",
       "    <tr style=\"text-align: right;\">\n",
       "      <th></th>\n",
       "      <th></th>\n",
       "      <th></th>\n",
       "      <th>V</th>\n",
       "      <th>i_Vm3</th>\n",
       "      <th>Harvested_V</th>\n",
       "      <th>Harvested_V_log_under_bark</th>\n",
       "      <th>Harvested_V_pulp_under_bark</th>\n",
       "      <th>Harvested_V_under_bark</th>\n",
       "      <th>DEVEL_CLASS</th>\n",
       "      <th>Biomass</th>\n",
       "      <th>ALL_MARKETED_MUSHROOMS</th>\n",
       "      <th>BILBERRY</th>\n",
       "      <th>...</th>\n",
       "      <th>Relative_Total_BILBERRY</th>\n",
       "      <th>Relative_Total_COWBERRY</th>\n",
       "      <th>Relative_Total_HSI_MOOSE</th>\n",
       "      <th>Relative_Total_CAPERCAILLIE</th>\n",
       "      <th>Relative_Total_HAZEL_GROUSE</th>\n",
       "      <th>Relative_Total_V_total_deadwood</th>\n",
       "      <th>Relative_Total_N_where_D_gt_40</th>\n",
       "      <th>Relative_Total_prc_V_deciduous</th>\n",
       "      <th>Relative_Total_Recreation</th>\n",
       "      <th>Relative_Total_Scenic</th>\n",
       "    </tr>\n",
       "    <tr>\n",
       "      <th>id</th>\n",
       "      <th>year</th>\n",
       "      <th>regime</th>\n",
       "      <th></th>\n",
       "      <th></th>\n",
       "      <th></th>\n",
       "      <th></th>\n",
       "      <th></th>\n",
       "      <th></th>\n",
       "      <th></th>\n",
       "      <th></th>\n",
       "      <th></th>\n",
       "      <th></th>\n",
       "      <th></th>\n",
       "      <th></th>\n",
       "      <th></th>\n",
       "      <th></th>\n",
       "      <th></th>\n",
       "      <th></th>\n",
       "      <th></th>\n",
       "      <th></th>\n",
       "      <th></th>\n",
       "      <th></th>\n",
       "      <th></th>\n",
       "    </tr>\n",
       "  </thead>\n",
       "  <tbody>\n",
       "    <tr>\n",
       "      <th rowspan=\"5\" valign=\"top\">99011013</th>\n",
       "      <th rowspan=\"5\" valign=\"top\">2021</th>\n",
       "      <th>BAU</th>\n",
       "      <td>83.46</td>\n",
       "      <td>11.38</td>\n",
       "      <td>0.0</td>\n",
       "      <td>0.0</td>\n",
       "      <td>0.0</td>\n",
       "      <td>0.0</td>\n",
       "      <td>4</td>\n",
       "      <td>0.0</td>\n",
       "      <td>37.9</td>\n",
       "      <td>1.842</td>\n",
       "      <td>...</td>\n",
       "      <td>0.000186</td>\n",
       "      <td>0.00052</td>\n",
       "      <td>0.0</td>\n",
       "      <td>0.0</td>\n",
       "      <td>0.0</td>\n",
       "      <td>0.000563</td>\n",
       "      <td>0.0</td>\n",
       "      <td>0.000333</td>\n",
       "      <td>0.000533</td>\n",
       "      <td>0.000437</td>\n",
       "    </tr>\n",
       "    <tr>\n",
       "      <th>BAU_10</th>\n",
       "      <td>83.46</td>\n",
       "      <td>11.38</td>\n",
       "      <td>0.0</td>\n",
       "      <td>0.0</td>\n",
       "      <td>0.0</td>\n",
       "      <td>0.0</td>\n",
       "      <td>4</td>\n",
       "      <td>0.0</td>\n",
       "      <td>37.9</td>\n",
       "      <td>1.842</td>\n",
       "      <td>...</td>\n",
       "      <td>0.000186</td>\n",
       "      <td>0.00052</td>\n",
       "      <td>0.0</td>\n",
       "      <td>0.0</td>\n",
       "      <td>0.0</td>\n",
       "      <td>0.000563</td>\n",
       "      <td>0.0</td>\n",
       "      <td>0.000333</td>\n",
       "      <td>0.000533</td>\n",
       "      <td>0.000437</td>\n",
       "    </tr>\n",
       "    <tr>\n",
       "      <th>BAU_15</th>\n",
       "      <td>83.46</td>\n",
       "      <td>11.38</td>\n",
       "      <td>0.0</td>\n",
       "      <td>0.0</td>\n",
       "      <td>0.0</td>\n",
       "      <td>0.0</td>\n",
       "      <td>4</td>\n",
       "      <td>0.0</td>\n",
       "      <td>37.9</td>\n",
       "      <td>1.842</td>\n",
       "      <td>...</td>\n",
       "      <td>0.000186</td>\n",
       "      <td>0.00052</td>\n",
       "      <td>0.0</td>\n",
       "      <td>0.0</td>\n",
       "      <td>0.0</td>\n",
       "      <td>0.000563</td>\n",
       "      <td>0.0</td>\n",
       "      <td>0.000333</td>\n",
       "      <td>0.000533</td>\n",
       "      <td>0.000437</td>\n",
       "    </tr>\n",
       "    <tr>\n",
       "      <th>BAU_30</th>\n",
       "      <td>83.46</td>\n",
       "      <td>11.38</td>\n",
       "      <td>0.0</td>\n",
       "      <td>0.0</td>\n",
       "      <td>0.0</td>\n",
       "      <td>0.0</td>\n",
       "      <td>4</td>\n",
       "      <td>0.0</td>\n",
       "      <td>37.9</td>\n",
       "      <td>1.842</td>\n",
       "      <td>...</td>\n",
       "      <td>0.000186</td>\n",
       "      <td>0.00052</td>\n",
       "      <td>0.0</td>\n",
       "      <td>0.0</td>\n",
       "      <td>0.0</td>\n",
       "      <td>0.000563</td>\n",
       "      <td>0.0</td>\n",
       "      <td>0.000333</td>\n",
       "      <td>0.000533</td>\n",
       "      <td>0.000437</td>\n",
       "    </tr>\n",
       "    <tr>\n",
       "      <th>BAU_5</th>\n",
       "      <td>83.46</td>\n",
       "      <td>11.38</td>\n",
       "      <td>0.0</td>\n",
       "      <td>0.0</td>\n",
       "      <td>0.0</td>\n",
       "      <td>0.0</td>\n",
       "      <td>4</td>\n",
       "      <td>0.0</td>\n",
       "      <td>37.9</td>\n",
       "      <td>1.842</td>\n",
       "      <td>...</td>\n",
       "      <td>0.000186</td>\n",
       "      <td>0.00052</td>\n",
       "      <td>0.0</td>\n",
       "      <td>0.0</td>\n",
       "      <td>0.0</td>\n",
       "      <td>0.000563</td>\n",
       "      <td>0.0</td>\n",
       "      <td>0.000333</td>\n",
       "      <td>0.000533</td>\n",
       "      <td>0.000437</td>\n",
       "    </tr>\n",
       "  </tbody>\n",
       "</table>\n",
       "<p>5 rows × 78 columns</p>\n",
       "</div>"
      ],
      "text/plain": [
       "                          V  i_Vm3  Harvested_V  Harvested_V_log_under_bark  \\\n",
       "id       year regime                                                          \n",
       "99011013 2021 BAU     83.46  11.38          0.0                         0.0   \n",
       "              BAU_10  83.46  11.38          0.0                         0.0   \n",
       "              BAU_15  83.46  11.38          0.0                         0.0   \n",
       "              BAU_30  83.46  11.38          0.0                         0.0   \n",
       "              BAU_5   83.46  11.38          0.0                         0.0   \n",
       "\n",
       "                      Harvested_V_pulp_under_bark  Harvested_V_under_bark  \\\n",
       "id       year regime                                                        \n",
       "99011013 2021 BAU                             0.0                     0.0   \n",
       "              BAU_10                          0.0                     0.0   \n",
       "              BAU_15                          0.0                     0.0   \n",
       "              BAU_30                          0.0                     0.0   \n",
       "              BAU_5                           0.0                     0.0   \n",
       "\n",
       "                      DEVEL_CLASS  Biomass  ALL_MARKETED_MUSHROOMS  BILBERRY  \\\n",
       "id       year regime                                                           \n",
       "99011013 2021 BAU               4      0.0                    37.9     1.842   \n",
       "              BAU_10            4      0.0                    37.9     1.842   \n",
       "              BAU_15            4      0.0                    37.9     1.842   \n",
       "              BAU_30            4      0.0                    37.9     1.842   \n",
       "              BAU_5             4      0.0                    37.9     1.842   \n",
       "\n",
       "                      ...  Relative_Total_BILBERRY  Relative_Total_COWBERRY  \\\n",
       "id       year regime  ...                                                     \n",
       "99011013 2021 BAU     ...                 0.000186                  0.00052   \n",
       "              BAU_10  ...                 0.000186                  0.00052   \n",
       "              BAU_15  ...                 0.000186                  0.00052   \n",
       "              BAU_30  ...                 0.000186                  0.00052   \n",
       "              BAU_5   ...                 0.000186                  0.00052   \n",
       "\n",
       "                      Relative_Total_HSI_MOOSE  Relative_Total_CAPERCAILLIE  \\\n",
       "id       year regime                                                          \n",
       "99011013 2021 BAU                          0.0                          0.0   \n",
       "              BAU_10                       0.0                          0.0   \n",
       "              BAU_15                       0.0                          0.0   \n",
       "              BAU_30                       0.0                          0.0   \n",
       "              BAU_5                        0.0                          0.0   \n",
       "\n",
       "                      Relative_Total_HAZEL_GROUSE  \\\n",
       "id       year regime                                \n",
       "99011013 2021 BAU                             0.0   \n",
       "              BAU_10                          0.0   \n",
       "              BAU_15                          0.0   \n",
       "              BAU_30                          0.0   \n",
       "              BAU_5                           0.0   \n",
       "\n",
       "                      Relative_Total_V_total_deadwood  \\\n",
       "id       year regime                                    \n",
       "99011013 2021 BAU                            0.000563   \n",
       "              BAU_10                         0.000563   \n",
       "              BAU_15                         0.000563   \n",
       "              BAU_30                         0.000563   \n",
       "              BAU_5                          0.000563   \n",
       "\n",
       "                      Relative_Total_N_where_D_gt_40  \\\n",
       "id       year regime                                   \n",
       "99011013 2021 BAU                                0.0   \n",
       "              BAU_10                             0.0   \n",
       "              BAU_15                             0.0   \n",
       "              BAU_30                             0.0   \n",
       "              BAU_5                              0.0   \n",
       "\n",
       "                      Relative_Total_prc_V_deciduous  \\\n",
       "id       year regime                                   \n",
       "99011013 2021 BAU                           0.000333   \n",
       "              BAU_10                        0.000333   \n",
       "              BAU_15                        0.000333   \n",
       "              BAU_30                        0.000333   \n",
       "              BAU_5                         0.000333   \n",
       "\n",
       "                      Relative_Total_Recreation  Relative_Total_Scenic  \n",
       "id       year regime                                                    \n",
       "99011013 2021 BAU                      0.000533               0.000437  \n",
       "              BAU_10                   0.000533               0.000437  \n",
       "              BAU_15                   0.000533               0.000437  \n",
       "              BAU_30                   0.000533               0.000437  \n",
       "              BAU_5                    0.000533               0.000437  \n",
       "\n",
       "[5 rows x 78 columns]"
      ]
     },
     "execution_count": 22,
     "metadata": {},
     "output_type": "execute_result"
    }
   ],
   "source": [
    "mfo.data.head()"
   ]
  },
  {
   "cell_type": "code",
   "execution_count": 23,
   "metadata": {},
   "outputs": [
    {
     "data": {
      "text/html": [
       "<div>\n",
       "<style scoped>\n",
       "    .dataframe tbody tr th:only-of-type {\n",
       "        vertical-align: middle;\n",
       "    }\n",
       "\n",
       "    .dataframe tbody tr th {\n",
       "        vertical-align: top;\n",
       "    }\n",
       "\n",
       "    .dataframe thead th {\n",
       "        text-align: right;\n",
       "    }\n",
       "</style>\n",
       "<table border=\"1\" class=\"dataframe\">\n",
       "  <thead>\n",
       "    <tr style=\"text-align: right;\">\n",
       "      <th></th>\n",
       "      <th></th>\n",
       "      <th></th>\n",
       "      <th>V</th>\n",
       "      <th>i_Vm3</th>\n",
       "      <th>Harvested_V</th>\n",
       "      <th>Harvested_V_log_under_bark</th>\n",
       "      <th>Harvested_V_pulp_under_bark</th>\n",
       "      <th>Harvested_V_under_bark</th>\n",
       "      <th>DEVEL_CLASS</th>\n",
       "      <th>Biomass</th>\n",
       "      <th>ALL_MARKETED_MUSHROOMS</th>\n",
       "      <th>BILBERRY</th>\n",
       "      <th>...</th>\n",
       "      <th>Total_prc_V_deciduous</th>\n",
       "      <th>Total_CARBON_SINK</th>\n",
       "      <th>Total_Recreation</th>\n",
       "      <th>Total_Scenic</th>\n",
       "      <th>CCF_forests</th>\n",
       "      <th>SA_forests</th>\n",
       "      <th>Broadleave_forests</th>\n",
       "      <th>AllCCF_forests</th>\n",
       "      <th>CCFonPeat</th>\n",
       "      <th>peatCCFArea</th>\n",
       "    </tr>\n",
       "    <tr>\n",
       "      <th>id</th>\n",
       "      <th>year</th>\n",
       "      <th>regime</th>\n",
       "      <th></th>\n",
       "      <th></th>\n",
       "      <th></th>\n",
       "      <th></th>\n",
       "      <th></th>\n",
       "      <th></th>\n",
       "      <th></th>\n",
       "      <th></th>\n",
       "      <th></th>\n",
       "      <th></th>\n",
       "      <th></th>\n",
       "      <th></th>\n",
       "      <th></th>\n",
       "      <th></th>\n",
       "      <th></th>\n",
       "      <th></th>\n",
       "      <th></th>\n",
       "      <th></th>\n",
       "      <th></th>\n",
       "      <th></th>\n",
       "      <th></th>\n",
       "    </tr>\n",
       "  </thead>\n",
       "  <tbody>\n",
       "    <tr>\n",
       "      <th>99011013</th>\n",
       "      <th>2016</th>\n",
       "      <th>initial_state</th>\n",
       "      <td>27.08</td>\n",
       "      <td>0.0</td>\n",
       "      <td>0.0</td>\n",
       "      <td>0.0</td>\n",
       "      <td>0.0</td>\n",
       "      <td>0.0</td>\n",
       "      <td>3</td>\n",
       "      <td>0.0</td>\n",
       "      <td>23.37</td>\n",
       "      <td>1.223</td>\n",
       "      <td>...</td>\n",
       "      <td>5820.0</td>\n",
       "      <td>0.0</td>\n",
       "      <td>2222.270</td>\n",
       "      <td>1745.515</td>\n",
       "      <td>False</td>\n",
       "      <td>False</td>\n",
       "      <td>False</td>\n",
       "      <td>False</td>\n",
       "      <td>0</td>\n",
       "      <td>0.0</td>\n",
       "    </tr>\n",
       "    <tr>\n",
       "      <th>99011017</th>\n",
       "      <th>2016</th>\n",
       "      <th>initial_state</th>\n",
       "      <td>66.77</td>\n",
       "      <td>0.0</td>\n",
       "      <td>0.0</td>\n",
       "      <td>0.0</td>\n",
       "      <td>0.0</td>\n",
       "      <td>0.0</td>\n",
       "      <td>4</td>\n",
       "      <td>0.0</td>\n",
       "      <td>21.43</td>\n",
       "      <td>2.618</td>\n",
       "      <td>...</td>\n",
       "      <td>17460.0</td>\n",
       "      <td>0.0</td>\n",
       "      <td>2426.940</td>\n",
       "      <td>1959.400</td>\n",
       "      <td>False</td>\n",
       "      <td>False</td>\n",
       "      <td>False</td>\n",
       "      <td>False</td>\n",
       "      <td>0</td>\n",
       "      <td>0.0</td>\n",
       "    </tr>\n",
       "    <tr>\n",
       "      <th>99011021</th>\n",
       "      <th>2016</th>\n",
       "      <th>initial_state</th>\n",
       "      <td>288.89</td>\n",
       "      <td>0.0</td>\n",
       "      <td>0.0</td>\n",
       "      <td>0.0</td>\n",
       "      <td>0.0</td>\n",
       "      <td>0.0</td>\n",
       "      <td>5</td>\n",
       "      <td>0.0</td>\n",
       "      <td>15.24</td>\n",
       "      <td>5.071</td>\n",
       "      <td>...</td>\n",
       "      <td>0.0</td>\n",
       "      <td>0.0</td>\n",
       "      <td>2942.495</td>\n",
       "      <td>2955.105</td>\n",
       "      <td>False</td>\n",
       "      <td>False</td>\n",
       "      <td>False</td>\n",
       "      <td>False</td>\n",
       "      <td>0</td>\n",
       "      <td>0.0</td>\n",
       "    </tr>\n",
       "    <tr>\n",
       "      <th>99011022</th>\n",
       "      <th>2016</th>\n",
       "      <th>initial_state</th>\n",
       "      <td>129.48</td>\n",
       "      <td>0.0</td>\n",
       "      <td>0.0</td>\n",
       "      <td>0.0</td>\n",
       "      <td>0.0</td>\n",
       "      <td>0.0</td>\n",
       "      <td>5</td>\n",
       "      <td>0.0</td>\n",
       "      <td>17.74</td>\n",
       "      <td>1.948</td>\n",
       "      <td>...</td>\n",
       "      <td>39770.0</td>\n",
       "      <td>0.0</td>\n",
       "      <td>2760.620</td>\n",
       "      <td>2339.155</td>\n",
       "      <td>False</td>\n",
       "      <td>False</td>\n",
       "      <td>False</td>\n",
       "      <td>False</td>\n",
       "      <td>0</td>\n",
       "      <td>0.0</td>\n",
       "    </tr>\n",
       "    <tr>\n",
       "      <th>99011024</th>\n",
       "      <th>2016</th>\n",
       "      <th>initial_state</th>\n",
       "      <td>241.38</td>\n",
       "      <td>0.0</td>\n",
       "      <td>0.0</td>\n",
       "      <td>0.0</td>\n",
       "      <td>0.0</td>\n",
       "      <td>0.0</td>\n",
       "      <td>6</td>\n",
       "      <td>0.0</td>\n",
       "      <td>14.81</td>\n",
       "      <td>2.640</td>\n",
       "      <td>...</td>\n",
       "      <td>0.0</td>\n",
       "      <td>0.0</td>\n",
       "      <td>3095.755</td>\n",
       "      <td>2967.715</td>\n",
       "      <td>False</td>\n",
       "      <td>False</td>\n",
       "      <td>False</td>\n",
       "      <td>False</td>\n",
       "      <td>0</td>\n",
       "      <td>0.0</td>\n",
       "    </tr>\n",
       "  </tbody>\n",
       "</table>\n",
       "<p>5 rows × 54 columns</p>\n",
       "</div>"
      ],
      "text/plain": [
       "                                  V  i_Vm3  Harvested_V  \\\n",
       "id       year regime                                      \n",
       "99011013 2016 initial_state   27.08    0.0          0.0   \n",
       "99011017 2016 initial_state   66.77    0.0          0.0   \n",
       "99011021 2016 initial_state  288.89    0.0          0.0   \n",
       "99011022 2016 initial_state  129.48    0.0          0.0   \n",
       "99011024 2016 initial_state  241.38    0.0          0.0   \n",
       "\n",
       "                             Harvested_V_log_under_bark  \\\n",
       "id       year regime                                      \n",
       "99011013 2016 initial_state                         0.0   \n",
       "99011017 2016 initial_state                         0.0   \n",
       "99011021 2016 initial_state                         0.0   \n",
       "99011022 2016 initial_state                         0.0   \n",
       "99011024 2016 initial_state                         0.0   \n",
       "\n",
       "                             Harvested_V_pulp_under_bark  \\\n",
       "id       year regime                                       \n",
       "99011013 2016 initial_state                          0.0   \n",
       "99011017 2016 initial_state                          0.0   \n",
       "99011021 2016 initial_state                          0.0   \n",
       "99011022 2016 initial_state                          0.0   \n",
       "99011024 2016 initial_state                          0.0   \n",
       "\n",
       "                             Harvested_V_under_bark  DEVEL_CLASS  Biomass  \\\n",
       "id       year regime                                                        \n",
       "99011013 2016 initial_state                     0.0            3      0.0   \n",
       "99011017 2016 initial_state                     0.0            4      0.0   \n",
       "99011021 2016 initial_state                     0.0            5      0.0   \n",
       "99011022 2016 initial_state                     0.0            5      0.0   \n",
       "99011024 2016 initial_state                     0.0            6      0.0   \n",
       "\n",
       "                             ALL_MARKETED_MUSHROOMS  BILBERRY  ...  \\\n",
       "id       year regime                                           ...   \n",
       "99011013 2016 initial_state                   23.37     1.223  ...   \n",
       "99011017 2016 initial_state                   21.43     2.618  ...   \n",
       "99011021 2016 initial_state                   15.24     5.071  ...   \n",
       "99011022 2016 initial_state                   17.74     1.948  ...   \n",
       "99011024 2016 initial_state                   14.81     2.640  ...   \n",
       "\n",
       "                             Total_prc_V_deciduous  Total_CARBON_SINK  \\\n",
       "id       year regime                                                    \n",
       "99011013 2016 initial_state                 5820.0                0.0   \n",
       "99011017 2016 initial_state                17460.0                0.0   \n",
       "99011021 2016 initial_state                    0.0                0.0   \n",
       "99011022 2016 initial_state                39770.0                0.0   \n",
       "99011024 2016 initial_state                    0.0                0.0   \n",
       "\n",
       "                             Total_Recreation  Total_Scenic  CCF_forests  \\\n",
       "id       year regime                                                       \n",
       "99011013 2016 initial_state          2222.270      1745.515        False   \n",
       "99011017 2016 initial_state          2426.940      1959.400        False   \n",
       "99011021 2016 initial_state          2942.495      2955.105        False   \n",
       "99011022 2016 initial_state          2760.620      2339.155        False   \n",
       "99011024 2016 initial_state          3095.755      2967.715        False   \n",
       "\n",
       "                             SA_forests  Broadleave_forests  AllCCF_forests  \\\n",
       "id       year regime                                                          \n",
       "99011013 2016 initial_state       False               False           False   \n",
       "99011017 2016 initial_state       False               False           False   \n",
       "99011021 2016 initial_state       False               False           False   \n",
       "99011022 2016 initial_state       False               False           False   \n",
       "99011024 2016 initial_state       False               False           False   \n",
       "\n",
       "                             CCFonPeat  peatCCFArea  \n",
       "id       year regime                                 \n",
       "99011013 2016 initial_state          0          0.0  \n",
       "99011017 2016 initial_state          0          0.0  \n",
       "99011021 2016 initial_state          0          0.0  \n",
       "99011022 2016 initial_state          0          0.0  \n",
       "99011024 2016 initial_state          0          0.0  \n",
       "\n",
       "[5 rows x 54 columns]"
      ]
     },
     "execution_count": 23,
     "metadata": {},
     "output_type": "execute_result"
    }
   ],
   "source": [
    "mfo.initialData.head()"
   ]
  },
  {
   "cell_type": "markdown",
   "metadata": {},
   "source": [
    "## GLOBIOM - Bottom-up\n",
    "\n",
    "Read the targeted timber demands."
   ]
  },
  {
   "cell_type": "code",
   "execution_count": 24,
   "metadata": {},
   "outputs": [
    {
     "name": "stdout",
     "output_type": "stream",
     "text": [
      "used 1p5\n"
     ]
    }
   ],
   "source": [
    "# -----------\n",
    "# 1.5 degree scenario; matches with RCP0 (no CC)\n",
    "# -----------\n",
    "if objectives_globiom == 'globiom_1p5_RCP0':\n",
    "    \n",
    "    demands = pd.read_csv('FIN_globiom1p5_all.csv') \n",
    "\n",
    "    print(\"used 1p5\")\n",
    "    \n",
    "# -----------\n",
    "# LTS scenario, matches with RCP 2.6\n",
    "# -----------\n",
    "elif objectives_globiom == 'globiom_LTS_RCP26':\n",
    "    \n",
    "    demands = pd.read_csv('FIN_globiomLTS_all.csv') \n",
    "\n",
    "    print(\"used LTS\")\n",
    "    \n",
    "# ----------- \n",
    "# NDC scenario, matches with RCP 4.5\n",
    "# -----------\n",
    "elif objectives_globiom == 'globiom_NDC_RCP45':\n",
    "    \n",
    "    demands = pd.read_csv('FIN_globiomNDC_all.csv') \n",
    "\n",
    "    print(\"used NDC\") \n"
   ]
  },
  {
   "cell_type": "markdown",
   "metadata": {},
   "source": [
    "<b>For the Central Finland test data, national values are simply divided by 19 (number provinces in Finland).</b>"
   ]
  },
  {
   "cell_type": "code",
   "execution_count": 25,
   "metadata": {},
   "outputs": [
    {
     "name": "stdout",
     "output_type": "stream",
     "text": [
      "GLOBIOM Bottom-up loaded\n"
     ]
    }
   ],
   "source": [
    "if objectives_globiom == 'globiom_1p5_RCP0' or objectives_globiom == 'globiom_LTS_RCP26' or objectives_globiom =='globiom_NDC_RCP45' :\n",
    "    \n",
    "    sawlog = demands[\"GSawlog_uB\"] / 19 # divided by the number of provinces for test data\n",
    "    sawlog = sawlog.to_list()\n",
    "    \n",
    "    pulpfuel = demands[\"GPulpFuel_uB\"] / 19 \n",
    "    pulpfuel = pulpfuel.to_list()\n",
    "\n",
    "    residues = demands[\"GResidues\"] / 19\n",
    "    residues = residues.to_list()\n",
    "    \n",
    "    globiom = {\n",
    "    # --------------\n",
    "    # Sawlogs, millions m3/year under bark\n",
    "    # --------------\n",
    "    # max_periodicTargets_Sum_Objective\n",
    "    \"Total_Harvested_V_log_GLOBIOM\" : [\"GLOBIOM, total Sawlogs (m3/year, u. bark)\",\n",
    "                        \"Total_Harvested_V_log_under_bark\",\n",
    "                        \"max\", \"periodicTargets\", \"sum\", sawlog],\n",
    "    \n",
    "    # --------------\n",
    "    # Pulpwood (relates to pulp and fuelwood of GLOBIOM), millions m3/year under bark\n",
    "    # --------------\n",
    "    \"Total_Harvested_V_pulp_GLOBIOM\" : [\"GLOBIOM, total Pulpwood (m3/year, u. bark)\",\n",
    "                        \"Total_Harvested_V_pulp_under_bark\",\n",
    "                        \"max\", \"periodicTargets\", \"sum\", pulpfuel],\n",
    "    \n",
    "    # --------------\n",
    "    # Biomass (relates to forest residues of GLOBIOM),  millions m3/year \n",
    "    # --------------\n",
    "    \"Total_Biomass_GLOBIOM\" : [\"GLOBIOM, total Biomass (m3/year)\",\n",
    "                        \"Total_Biomass\",\n",
    "                        \"max\", \"periodicTargets\", \"sum\", residues] \n",
    "    }\n",
    "    print(\"GLOBIOM Bottom-up loaded\") \n",
    "\n",
    "else:\n",
    "    globiom = {}\n",
    "    print(\"no demands considered\")"
   ]
  },
  {
   "cell_type": "markdown",
   "metadata": {},
   "source": [
    "## Define the optimization problem for policy scenarios\n",
    "See README.md for details.\n",
    "\n",
    "<b>Objective format:</b>\n",
    "\n",
    "Unique_key :[Long human readable name, column name in data, max/min objective, year wise aggregation, stand wise aggregation (, target year )]\n",
    "\n",
    "1) \"Unique_key\" : [ (2) \"Long human readable name\", (3) \"column name\", (4) \"max/min objective\", (5) \"year wise aggregation\", (6) \"stand wise aggregation\" (, (7) target year ) ]\n",
    "\n",
    "<b>Options for \"objective\":</b> \"max\"imise or \"min\"imise it <br>\n",
    "<b>year wise aggregation:</b> \"min\" (minimum value), \"average\", \"firstYear\", \"targetYearWithSlope\",\"targetYear\",\"lastYear\" <br>\n",
    "<b>stand wise aggregation:</b> \"sum\", \"areaWeightedAverage\", \"areaWeightedSum\" <br>\n",
    "<b>targe yeart:</b> any year except the first one"
   ]
  },
  {
   "cell_type": "markdown",
   "metadata": {},
   "source": [
    "### NFS - National Forest Strategy"
   ]
  },
  {
   "cell_type": "code",
   "execution_count": 26,
   "metadata": {},
   "outputs": [],
   "source": [
    "if scenario == 'NFS':\n",
    "    \n",
    "    wood_production_bioenergy = { \n",
    "    # Increment - target 2025\n",
    "    \"Total_i_Vm3_2025\": [\"Total annual timber volume increment by 2025 (m3)\",\n",
    "                         \"Total_i_Vm3\",\n",
    "                         \"max\",\"targetYearWithSlope\",\"sum\",2025], \n",
    "    # Increment - target 2050\n",
    "    \"Total_i_Vm3_2050\": [\"Total annual timber volume increment by 2050 (m3)\",\n",
    "                         \"Total_i_Vm3\",\n",
    "                         \"max\",\"targetYearWithSlope\",\"sum\",2050], \n",
    "    # Harvested roundwood - target 2025\n",
    "    \"Total_Harvested_V_2025\" :[\"Total annual harvested timber volume by 2025 (log & pulp) (m3)\",\n",
    "                               \"Total_Harvested_V\",\n",
    "                               \"max\",\"targetYearWithSlope\",\"sum\",2025], \n",
    "    # Harvested biomass - target 2025\n",
    "    \"Total_Biomass_2025\": [\"Total annual harvested biomass volume by 2025 (m3)\",\n",
    "                           \"Total_Biomass\",\n",
    "                           \"max\",\"targetYearWithSlope\",\"sum\",2025]\n",
    "    }\n",
    "    \n",
    "    nonwood = { \n",
    "    # Bilberry - no decline, maximise it\n",
    "    \"Relative_BILBERRY\": [\"Bilberry yield (relative to 2016, max minimum over yrs)\",\n",
    "                          \"Relative_Total_BILBERRY\",\n",
    "                          \"max\",\"min\",\"sum\"],\n",
    "    # Cowberry - no decline, maximise it\n",
    "    \"Relative_COWBERRY\": [\"Cowberry yield (relative to 2016, max minimum over yrs)\",\n",
    "                          \"Relative_Total_COWBERRY\",\n",
    "                          \"max\",\"min\",\"sum\"],\n",
    "    # Mushrooms - no decline, maximise it\n",
    "    \"Relative_ALL_MARKETED_MUSHROOMS\": [\"All marketed mushroom yield (relative to 2016, max minimum over yrs)\",\n",
    "                         \"Relative_Total_ALL_MARKETED_MUSHROOMS\",\n",
    "                         \"max\",\"min\",\"sum\"]    \n",
    "    }\n",
    "    \n",
    "    game = {\n",
    "    # HSI moose - maximise  \n",
    "    \"Sum_Total_HSI_MOOSE\": [\"Total habitat index for MOOSE (max average over all years)\",\n",
    "                           \"Total_HSI_MOOSE\",\n",
    "                           \"max\",\"average\",\"sum\"],\n",
    "    # HSI hazel grouse - maximise\n",
    "    \"Sum_Total_HAZEL_GROUSE\": [\"Total habitat index for HAZEL_GROUSE (max average over yrs)\",\n",
    "                           \"Total_HAZEL_GROUSE\",\n",
    "                           \"max\",\"average\",\"sum\"],\n",
    "    # HSI capercaillie - maximise\n",
    "    \"Sum_Total_CAPERCAILLIE\": [\"Total habitat index for CAPERCAILLIE (max average over yrs)\",\n",
    "                           \"Total_CAPERCAILLIE\",\n",
    "                           \"max\",\"average\",\"sum\"]    \n",
    "    }\n",
    "    \n",
    "    biodiversity = {\n",
    "    # Dearwood - target 2025\n",
    "    \"Average_Deadwood_V_2025\": [\"Average Deadwood volume by 2025 (m3/ha)\", \n",
    "                                \"V_total_deadwood\",\n",
    "                                \"max\", \"targetYear\", \"areaWeightedAverage\", 2025], \n",
    "    # Large trees (>40 cm) - maximise\n",
    "    \"Total_N_where_D_gt_40\": [\"Total No. of trees diameter >= 40 cm  (max end value)\",\n",
    "                              \"Total_N_where_D_gt_40\",\n",
    "                              \"max\",\"lastYear\",\"sum\"],    \n",
    "    # Deciduous tree volume - maximise\n",
    "    \"Total_prc_V_deciduous\":  [\"Total %-share of deciduous trees (related to V) (max end value)\", \n",
    "                               \"Total_prc_V_deciduous\",\n",
    "                               \"max\", \"lastYear\",\"sum\"],\n",
    "    # Conservation regime - target\n",
    "    \"Ratio_CCF_forests\": [\"Ratio of BC sites in commercial forests (%, CCF_3, CCF_4 and BAUwGTR)\",\n",
    "                          \"CCF_forests\",\n",
    "                          \"max\",\"firstYear\",\"areaWeightedAverage\"]\n",
    "    }\n",
    "    \n",
    "    climate_regulation = {\n",
    "    # Carbon sink - target 2025\n",
    "    \"Total_CARBON_SINK_2025\": [\"Total sequestration in carbon dioxide by 2025 (t CO2)\",\n",
    "                               \"Total_CARBON_SINK\",\n",
    "                               \"max\",\"targetYearWithSlope\",\"sum\",2025] \n",
    "    }\n",
    "    \n",
    "    recreation = {\n",
    "    # Recreation index - maximise\n",
    "    \"Sum_Total_Recreation\" : [\"Total Recreation index (max minimum over yrs)\",\n",
    "                              \"Total_Recreation\",\n",
    "                              \"max\",\"min\",\"sum\"],\n",
    "    \n",
    "    # Scenic index - maximise\n",
    "    \"Sum_Total_Scenic\" : [\"Total Scenic index (max minimum over yrs)\",\n",
    "                          \"Total_Scenic\",\n",
    "                          \"max\",\"min\",\"sum\"]\n",
    "    }\n",
    "    \n",
    "    resilience = {\n",
    "    # CC adaption regimes - maximise\n",
    "    \"Ratio_Broadleave_forests\": [\"Ratio of adaptive management regimes (%, increasing broadleave share)\",\n",
    "                                 \"Broadleave_forests\",\n",
    "                                 \"max\",\"firstYear\",\"areaWeightedAverage\"]\n",
    "    }\n",
    "    \n",
    "    water = {\n",
    "    # Scenario BAU & MF        \n",
    "    # max_firstYear_AreaWeightedAverage\n",
    "    \"Ratio_CCF_onPeat\" : [\"Ratio of CCF on Peatland (%, all four CCF and SA)\",\n",
    "                         \"peatCCFArea\",\n",
    "                         \"max\", \"firstYear\", \"sum\"]         \n",
    "    }\n",
    "    \n",
    "    objectives = {\n",
    "              **globiom,\n",
    "              **wood_production_bioenergy,\n",
    "              **nonwood,\n",
    "              **game,\n",
    "              **biodiversity,\n",
    "              **climate_regulation,\n",
    "              **recreation,\n",
    "              **resilience,\n",
    "              **water\n",
    "    }\n",
    "    \n",
    "    print(\"objectives for NFS loaded\")"
   ]
  },
  {
   "cell_type": "markdown",
   "metadata": {},
   "source": [
    "### BDS - Biodiversity Strategy"
   ]
  },
  {
   "cell_type": "code",
   "execution_count": 27,
   "metadata": {},
   "outputs": [],
   "source": [
    "if scenario == 'BDS':\n",
    "    \n",
    "    wood_production_bioenergy = { \n",
    "    # Harvested roundwood - maximise (even flow)\n",
    "    \"Average_Harvested_V\" : [\"Average harvested timber volume (log & pulp) (m3/ha, evenflow)\",\n",
    "                             \"Harvested_V\",\n",
    "                             \"max\",\"min\",\"areaWeightedAverage\"]\n",
    "    }\n",
    "    \n",
    "    game = {\n",
    "    # HSI moose - maximise       \n",
    "    \"Sum_Total_HSI_MOOSE\": [\"Total habitat index for MOOSE (max average over all years)\",\n",
    "                           \"Total_HSI_MOOSE\",\n",
    "                           \"max\",\"average\",\"sum\"],\n",
    "    # HSI hazel grouse - maximise\n",
    "    \"Sum_Total_HAZEL_GROUSE\": [\"Total habitat index for HAZEL_GROUSE (max average over yrs)\",\n",
    "                           \"Total_HAZEL_GROUSE\",\n",
    "                           \"max\",\"average\",\"sum\"],\n",
    "    # HSI carpercaillie - maximise\n",
    "    \"Sum_Total_CAPERCAILLIE\": [\"Total habitat index for CAPERCAILLIE (max average over yrs)\",\n",
    "                           \"Total_CAPERCAILLIE\",\n",
    "                           \"max\",\"average\",\"sum\"]    \n",
    "    }\n",
    "    \n",
    "    biodiversity = {\n",
    "    # Deadwood - target 2050, increase by XX%\n",
    "    \"relative_Amount_Deadwood_2050\" : [\"Total Deadwood volume by 2050 (%, relative to 2016 values)\",\n",
    "                                       \"Relative_Total_V_total_deadwood\",\n",
    "                                       \"max\",\"targetYearWithSlope\",\"sum\",2050],\n",
    "    # Large trees - target 2050, increase by XX%\n",
    "    \"relative_N_where_D_gt_40_2050\": [\"Total No. of trees diameter >= 40 cm  by 2050 (%, relative to 2016 values)\",\n",
    "                                      \"Relative_Total_N_where_D_gt_40\",\n",
    "                                      \"max\",\"targetYear\",\"sum\",2050],\n",
    "    # Deciduous tree volume - target 2050, increase by XX% \n",
    "    \"relative_prc_V_deciduous_2050\": [\"Total share of deciduous trees by 2050 (related to V) (%, relative to 2016 values)\",\n",
    "                                      \"Relative_Total_prc_V_deciduous\",\n",
    "                                      \"max\",\"targetYearWithSlope\",\"sum\",2050],\n",
    "    # Regime SA - target\n",
    "    \"Ratio_CCF_forests\": [\"Ratio of BC sites in commercial forests (%, CCF_3, CCF_4 and BAUwGTR)\",\n",
    "                          \"CCF_forests\",\n",
    "                          \"max\",\"firstYear\",\"areaWeightedAverage\"],\n",
    "    # Conservation regimes - target\n",
    "    \"Ratio_SA_forests\": [\"Ratio of protected areas (%, SA forests)\",\n",
    "                         \"SA_forests\",\n",
    "                         \"max\",\"firstYear\",\"areaWeightedAverage\"]    \n",
    "    \n",
    "    }\n",
    "    \n",
    "    recreation = {\n",
    "    # Recreation index - maximise\n",
    "    \"Sum_Total_Recreation\" : [\"Total Recreation index (max minimum over yrs)\",\n",
    "                              \"Total_Recreation\",\n",
    "                              \"max\",\"min\",\"sum\"],\n",
    "    # Scenic indes - maximise\n",
    "    \"Sum_Total_Scenic\" : [\"Total Scenic index (max minimum over yrs)\",\n",
    "                          \"Total_Scenic\",\n",
    "                          \"max\",\"min\",\"sum\"]\n",
    "    }\n",
    "    \n",
    "    objectives = {\n",
    "                  **globiom,\n",
    "                  **wood_production_bioenergy,\n",
    "                  **game,\n",
    "                  **biodiversity,\n",
    "                  **recreation,\n",
    "                  **water\n",
    "    }\n",
    "    \n",
    "    print(\"objectives for BDS loaded\")"
   ]
  },
  {
   "cell_type": "markdown",
   "metadata": {},
   "source": [
    "### BES - Bioeconomy strategy"
   ]
  },
  {
   "cell_type": "code",
   "execution_count": 28,
   "metadata": {},
   "outputs": [
    {
     "name": "stdout",
     "output_type": "stream",
     "text": [
      "objectives for BES loaded\n"
     ]
    }
   ],
   "source": [
    "if scenario == 'BES':\n",
    "    \n",
    "    wood_production_bioenergy = { \n",
    "    # Harvested roundwood - maximise even flow\n",
    "    \"Average_Harvested_V\" : [\"Average harvested timber volume (log & pulp) (m3/ha, evenflow)\",\n",
    "                             \"Harvested_V\",\n",
    "                             \"max\",\"min\",\"areaWeightedAverage\"],\n",
    "    # Harvested biomass - maximise even flow\n",
    "    \"Biomass_Evenflow\": [\"Average harvested biomass volume (m3/ha, evenflow)\",\n",
    "                         \"Biomass\",\n",
    "                         \"max\",\"min\",\"areaWeightedAverage\"]\n",
    "    }\n",
    "    \n",
    "    biodiversity = {\n",
    "    # Deadwood - no decline (no target value)\n",
    "    \"relative_Amount_Deadwood_2050\" : [\"Total Deadwood volume by 2050 (%, relative to 2016 values)\",\n",
    "                                       \"Relative_Total_V_total_deadwood\",\n",
    "                                       \"max\",\"targetYearWithSlope\",\"sum\",2050],\n",
    "    # Large trees - no decline (no target value)\n",
    "    \"relative_N_where_D_gt_40_2050\": [\"Total No. of trees diameter >= 40 cm  by 2050 (%, relative to 2016 values)\",\n",
    "                                      \"Relative_Total_N_where_D_gt_40\",\n",
    "                                      \"max\",\"targetYear\",\"sum\",2050],\n",
    "    # Deciduous tree volume - no decline (no target value)\n",
    "    \"relative_prc_V_deciduous_2050\": [\"Total share of deciduous trees by 2050 (related to V) (%, relative to 2016 values)\",\n",
    "                                      \"Relative_Total_prc_V_deciduous\",\n",
    "                                      \"max\",\"targetYearWithSlope\",\"sum\",2050]\n",
    "    }\n",
    "    \n",
    "    recreation = {\n",
    "    # Recreation index - maximise\n",
    "    \"Sum_Total_Recreation\" : [\"Total Recreation index (max minimum over all years)\",\n",
    "                              \"Total_Recreation\",\n",
    "                              \"max\",\"min\",\"sum\"],\n",
    "    # Scenic indes - maximise\n",
    "    \"Sum_Total_Scenic\" : [\"Total Scenic index (max minimum over all years)\",\n",
    "                          \"Total_Scenic\",\n",
    "                          \"max\",\"min\",\"sum\"]\n",
    "    }\n",
    "    \n",
    "    objectives = {\n",
    "                  **globiom,\n",
    "                  **wood_production_bioenergy,\n",
    "                  **biodiversity,\n",
    "                  **recreation,\n",
    "    }\n",
    "    \n",
    "    print(\"objectives for BES loaded\")"
   ]
  },
  {
   "cell_type": "code",
   "execution_count": 29,
   "metadata": {},
   "outputs": [
    {
     "data": {
      "text/plain": [
       "10"
      ]
     },
     "execution_count": 29,
     "metadata": {},
     "output_type": "execute_result"
    }
   ],
   "source": [
    "len(objectives)"
   ]
  },
  {
   "cell_type": "code",
   "execution_count": 30,
   "metadata": {},
   "outputs": [
    {
     "data": {
      "text/plain": [
       "dict_keys(['Total_Harvested_V_log_GLOBIOM', 'Total_Harvested_V_pulp_GLOBIOM', 'Total_Biomass_GLOBIOM', 'Average_Harvested_V', 'Biomass_Evenflow', 'relative_Amount_Deadwood_2050', 'relative_N_where_D_gt_40_2050', 'relative_prc_V_deciduous_2050', 'Sum_Total_Recreation', 'Sum_Total_Scenic'])"
      ]
     },
     "execution_count": 30,
     "metadata": {},
     "output_type": "execute_result"
    }
   ],
   "source": [
    "objectives.keys()"
   ]
  },
  {
   "cell_type": "code",
   "execution_count": 31,
   "metadata": {},
   "outputs": [
    {
     "data": {
      "text/plain": [
       "Index(['V', 'i_Vm3', 'Harvested_V', 'Harvested_V_log_under_bark',\n",
       "       'Harvested_V_pulp_under_bark', 'Harvested_V_under_bark', 'DEVEL_CLASS',\n",
       "       'Biomass', 'ALL_MARKETED_MUSHROOMS', 'BILBERRY', 'COWBERRY',\n",
       "       'HSI_MOOSE', 'CAPERCAILLIE', 'HAZEL_GROUSE', 'V_total_deadwood',\n",
       "       'N_where_D_gt_40', 'prc_V_deciduous', 'PEAT', 'clearcut', 'CARBON_SINK',\n",
       "       'Recreation', 'Scenic', 'scenario', 'represented_area_by_NFIplot',\n",
       "       'region', 'NUTS2', 'protection', 'standid', 'CARBON_STORAGE', 'NFIGrid',\n",
       "       'Total_i_Vm3', 'Total_Harvested_V', 'Total_Harvested_V_log_under_bark',\n",
       "       'Total_Harvested_V_pulp_under_bark', 'Total_Harvested_V_under_bark',\n",
       "       'Total_Biomass', 'Total_ALL_MARKETED_MUSHROOMS', 'Total_BILBERRY',\n",
       "       'Total_COWBERRY', 'Total_HSI_MOOSE', 'Total_CAPERCAILLIE',\n",
       "       'Total_HAZEL_GROUSE', 'Total_V_total_deadwood', 'Total_N_where_D_gt_40',\n",
       "       'Total_prc_V_deciduous', 'Total_CARBON_SINK', 'Total_Recreation',\n",
       "       'Total_Scenic', 'CCF_forests', 'SA_forests', 'Broadleave_forests',\n",
       "       'AllCCF_forests', 'CCFonPeat', 'peatCCFArea', 'Relative_V',\n",
       "       'Relative_ALL_MARKETED_MUSHROOMS', 'Relative_BILBERRY',\n",
       "       'Relative_COWBERRY', 'Relative_HSI_MOOSE', 'Relative_CAPERCAILLIE',\n",
       "       'Relative_HAZEL_GROUSE', 'Relative_V_total_deadwood',\n",
       "       'Relative_N_where_D_gt_40', 'Relative_prc_V_deciduous',\n",
       "       'Relative_Recreation', 'Relative_Scenic', 'Relative_CARBON_STORAGE',\n",
       "       'Relative_Total_ALL_MARKETED_MUSHROOMS', 'Relative_Total_BILBERRY',\n",
       "       'Relative_Total_COWBERRY', 'Relative_Total_HSI_MOOSE',\n",
       "       'Relative_Total_CAPERCAILLIE', 'Relative_Total_HAZEL_GROUSE',\n",
       "       'Relative_Total_V_total_deadwood', 'Relative_Total_N_where_D_gt_40',\n",
       "       'Relative_Total_prc_V_deciduous', 'Relative_Total_Recreation',\n",
       "       'Relative_Total_Scenic'],\n",
       "      dtype='object')"
      ]
     },
     "execution_count": 31,
     "metadata": {},
     "output_type": "execute_result"
    }
   ],
   "source": [
    "mfo.data.columns"
   ]
  },
  {
   "cell_type": "code",
   "execution_count": 32,
   "metadata": {},
   "outputs": [
    {
     "data": {
      "text/plain": [
       "[('prc_V_deciduous', dtype('float64')),\n",
       " ('Total_prc_V_deciduous', dtype('float64')),\n",
       " ('Relative_prc_V_deciduous', dtype('float64')),\n",
       " ('Relative_Total_prc_V_deciduous', dtype('float64'))]"
      ]
     },
     "execution_count": 32,
     "metadata": {},
     "output_type": "execute_result"
    }
   ],
   "source": [
    "[(col,mfo.data.dtypes[col]) for col in mfo.data.columns if \"prc\" in col]"
   ]
  },
  {
   "cell_type": "markdown",
   "metadata": {},
   "source": [
    "## Define initial values NOT available in data, but needed for objective\n",
    "\n",
    "Examples are increment, harvests, biomass and carbon sink. They are required for the \"targetYearWithSlope\" objective, but values only occur after the first simulation period. National values are taken from the policy or forest statistics. \n",
    "\n",
    "<b>For the Central Finland test data, national values are simply divided by 19 (number of considered provinces).</b> "
   ]
  },
  {
   "cell_type": "code",
   "execution_count": 33,
   "metadata": {},
   "outputs": [],
   "source": [
    "initialValues = {\"Total_i_Vm3\":107*10**6 / 19,               # value from National Forest Policy\n",
    "                 \"Total_Harvested_V\": 72.3*10**6 / 19,       # value from National Forest Policy\n",
    "                 \"Total_Biomass\": 2.9*10**6 / 19,            # value from National Forest Policy\n",
    "                 \"Total_CARBON_SINK\" : 34.1*10**6 / 19,      # value from National Forest Policy\n",
    "                                 \n",
    "                 \"SA_forests\" : 0.106,     # from ForestStatistics 2018\n",
    "                 \"CCF_forests\" : 0.015,    # from ForestStatistics 2018\n",
    "                 \"BAUwGTR_forests\":0.015}  # from ForestStatistics 2018"
   ]
  },
  {
   "cell_type": "code",
   "execution_count": 34,
   "metadata": {
    "scrolled": true
   },
   "outputs": [
    {
     "data": {
      "text/plain": [
       "'Defining objectives'"
      ]
     },
     "metadata": {},
     "output_type": "display_data"
    },
    {
     "data": {
      "text/plain": [
       "'Aggregating stand wise'"
      ]
     },
     "metadata": {},
     "output_type": "display_data"
    },
    {
     "name": "stderr",
     "output_type": "stream",
     "text": [
      "100%|██████████| 10/10 [01:15<00:00,  7.53s/it]\n"
     ]
    },
    {
     "data": {
      "text/plain": [
       "'Aggregating year wise'"
      ]
     },
     "metadata": {},
     "output_type": "display_data"
    },
    {
     "name": "stdout",
     "output_type": "stream",
     "text": [
      "100%|██████████| 10/10 [00:00<00:00, 2907.06it/s]\n"
     ]
    },
    {
     "data": {
      "text/plain": [
       "'Objectives added'"
      ]
     },
     "metadata": {},
     "output_type": "display_data"
    }
   ],
   "source": [
    "mfo.defineObjectives(objectives,initialValues = initialValues)"
   ]
  },
  {
   "cell_type": "markdown",
   "metadata": {},
   "source": [
    "## GLOBIOM - Top-down (with option for assortment transfer)\n",
    "\n",
    "<b>Attention: Has to be run after defining the objectives!</b>\n",
    "\n",
    "Read the targeted timber demands. "
   ]
  },
  {
   "cell_type": "code",
   "execution_count": 35,
   "metadata": {},
   "outputs": [],
   "source": [
    "# -----------\n",
    "# 1.5 degree scenario; matches with RCP0 (no CC)\n",
    "# -----------\n",
    "if objectives_globiom == 'globiom_1p5_RCP0_V2':\n",
    "    \n",
    "    demands = pd.read_csv('FIN_globiom1p5_all.csv') \n",
    "\n",
    "    print(\"used 1p5\")\n",
    "    \n",
    "# -----------\n",
    "# LTS scenario, matches with RCP 2.6\n",
    "# -----------\n",
    "elif objectives_globiom == 'globiom_LTS_RCP26_V2':\n",
    "    \n",
    "    demands = pd.read_csv('FIN_globiomLTS_all.csv') \n",
    "\n",
    "    print(\"used LTS\")\n",
    "    \n",
    "# ----------- \n",
    "# NDC scenario, matches with RCP 4.5\n",
    "# -----------\n",
    "elif objectives_globiom == 'globiom_NDC_RCP45_V2':\n",
    "    \n",
    "    demands = pd.read_csv('FIN_globiomNDC_all.csv') \n",
    "\n",
    "    print(\"used NDC\")"
   ]
  },
  {
   "cell_type": "markdown",
   "metadata": {},
   "source": [
    "<b>For the Central Finland test data, national values are simply divided by 19 (number provinces in Finland).</b>"
   ]
  },
  {
   "cell_type": "code",
   "execution_count": 36,
   "metadata": {},
   "outputs": [
    {
     "name": "stdout",
     "output_type": "stream",
     "text": [
      "no demands considered\n"
     ]
    }
   ],
   "source": [
    "if objectives_globiom == 'globiom_1p5_RCP0_V2' or objectives_globiom == 'globiom_LTS_RCP26_V2' or objectives_globiom =='globiom_NDC_RCP45_V2' :\n",
    "    \n",
    "    sawlog = demands[\"GSawlog_uB\"] / 19 # divided by the number of provinces for test data\n",
    "    sawlog = sawlog.to_list()\n",
    "    \n",
    "    pulpfuel = demands[\"GPulpFuel_uB\"] / 19 \n",
    "    pulpfuel = pulpfuel.to_list()\n",
    "\n",
    "    residues = demands[\"GResidues\"] / 19 \n",
    "    residues = residues.to_list()\n",
    "    \n",
    "    mfo.addGlobiomTargets(\n",
    "        {\n",
    "        \"log\": sawlog,\n",
    "        \"pulp\": pulpfuel,\n",
    "        \"residues\": residues\n",
    "        },\n",
    "        {\n",
    "            #Log is converted primarily into log, and sencondary into pulp; no transferrate, both are volumes under bark\n",
    "            \"Total_Harvested_V_log_under_bark\":\n",
    "                {\"log\":[1,\"primary\"],\"pulp\":[1,\"secondary\"], \"residues\":[1.136,\"secondary\"]},\n",
    "                #{\"log\":[1,\"primary\"],\"pulp\":[1,\"secondary\"]}, \n",
    "                                          \n",
    "            # Pulp is converted primarily into pulp, and sencondary into residues; \n",
    "            # with transferrate 1.136, because pulp volume is under bark, residues are over bark (barkfactor = 1.136)  \n",
    "            \"Total_Harvested_V_pulp_under_bark\":\n",
    "                {\"pulp\":[1,\"primary\"], \"residues\":[1.136,\"secondary\"]}, \n",
    "            \n",
    "            \"Total_Biomass\":\n",
    "                {\"residues\":[1,\"primary\"]} #Biomass only to residues\n",
    "        }, \n",
    "        \n",
    "        # ----------------\n",
    "        # by default exactMatching is FALSE\n",
    "        # ----------------\n",
    "        # Functionality was implemented for Norway and their nationl policy scenarios\n",
    "        # NOT required for Cross-scale analysis V2\n",
    "        exactMatching=False \n",
    "        \n",
    "    )\n",
    "    \n",
    "    print(\"GLOBIOM Top-down loaded\") \n",
    "\n",
    "else:\n",
    "    globiom = {}\n",
    "    print(\"no demands considered\")"
   ]
  },
  {
   "cell_type": "markdown",
   "metadata": {},
   "source": [
    "## Define enabled constraints"
   ]
  },
  {
   "cell_type": "code",
   "execution_count": 37,
   "metadata": {},
   "outputs": [],
   "source": [
    "CCFregimes = [regime for regime in mfo.regimes if \"CCF\" in regime] + [\"SA\"]"
   ]
  },
  {
   "cell_type": "code",
   "execution_count": 38,
   "metadata": {},
   "outputs": [
    {
     "data": {
      "text/plain": [
       "['CCF_1', 'CCF_2', 'CCF_3', 'CCF_4', 'SA']"
      ]
     },
     "execution_count": 38,
     "metadata": {},
     "output_type": "execute_result"
    }
   ],
   "source": [
    "CCFregimes"
   ]
  },
  {
   "cell_type": "markdown",
   "metadata": {},
   "source": [
    "Constraint format:\n",
    "- Shortname: \"constraint type\",\"allowed regimes\",\"human readable name\",(regimes),\"column in data\")"
   ]
  },
  {
   "cell_type": "code",
   "execution_count": 39,
   "metadata": {},
   "outputs": [],
   "source": [
    "constraintTypes = {\"CCFonPeat\":[\"Allowed regimes\",\"Only CCF on peat lands\",CCFregimes,\"PEAT\"]}"
   ]
  },
  {
   "cell_type": "code",
   "execution_count": 40,
   "metadata": {},
   "outputs": [],
   "source": [
    "mfo.defineConstraints(constraintTypes)"
   ]
  },
  {
   "cell_type": "markdown",
   "metadata": {},
   "source": [
    "## Calculate objective ranges\n",
    "The ideal and anti-ideal solution for the individual objective functions."
   ]
  },
  {
   "cell_type": "code",
   "execution_count": 41,
   "metadata": {},
   "outputs": [
    {
     "data": {
      "text/html": [
       "<div>\n",
       "<style scoped>\n",
       "    .dataframe tbody tr th:only-of-type {\n",
       "        vertical-align: middle;\n",
       "    }\n",
       "\n",
       "    .dataframe tbody tr th {\n",
       "        vertical-align: top;\n",
       "    }\n",
       "\n",
       "    .dataframe thead th {\n",
       "        text-align: right;\n",
       "    }\n",
       "</style>\n",
       "<table border=\"1\" class=\"dataframe\">\n",
       "  <thead>\n",
       "    <tr style=\"text-align: right;\">\n",
       "      <th></th>\n",
       "      <th></th>\n",
       "      <th></th>\n",
       "      <th>V</th>\n",
       "      <th>i_Vm3</th>\n",
       "      <th>Harvested_V</th>\n",
       "      <th>Harvested_V_log_under_bark</th>\n",
       "      <th>Harvested_V_pulp_under_bark</th>\n",
       "      <th>Harvested_V_under_bark</th>\n",
       "      <th>DEVEL_CLASS</th>\n",
       "      <th>Biomass</th>\n",
       "      <th>ALL_MARKETED_MUSHROOMS</th>\n",
       "      <th>BILBERRY</th>\n",
       "      <th>...</th>\n",
       "      <th>Relative_Total_BILBERRY</th>\n",
       "      <th>Relative_Total_COWBERRY</th>\n",
       "      <th>Relative_Total_HSI_MOOSE</th>\n",
       "      <th>Relative_Total_CAPERCAILLIE</th>\n",
       "      <th>Relative_Total_HAZEL_GROUSE</th>\n",
       "      <th>Relative_Total_V_total_deadwood</th>\n",
       "      <th>Relative_Total_N_where_D_gt_40</th>\n",
       "      <th>Relative_Total_prc_V_deciduous</th>\n",
       "      <th>Relative_Total_Recreation</th>\n",
       "      <th>Relative_Total_Scenic</th>\n",
       "    </tr>\n",
       "    <tr>\n",
       "      <th>id</th>\n",
       "      <th>year</th>\n",
       "      <th>regime</th>\n",
       "      <th></th>\n",
       "      <th></th>\n",
       "      <th></th>\n",
       "      <th></th>\n",
       "      <th></th>\n",
       "      <th></th>\n",
       "      <th></th>\n",
       "      <th></th>\n",
       "      <th></th>\n",
       "      <th></th>\n",
       "      <th></th>\n",
       "      <th></th>\n",
       "      <th></th>\n",
       "      <th></th>\n",
       "      <th></th>\n",
       "      <th></th>\n",
       "      <th></th>\n",
       "      <th></th>\n",
       "      <th></th>\n",
       "      <th></th>\n",
       "      <th></th>\n",
       "    </tr>\n",
       "  </thead>\n",
       "  <tbody>\n",
       "    <tr>\n",
       "      <th rowspan=\"5\" valign=\"top\">99011013</th>\n",
       "      <th rowspan=\"5\" valign=\"top\">2021</th>\n",
       "      <th>BAU</th>\n",
       "      <td>83.46</td>\n",
       "      <td>11.38</td>\n",
       "      <td>0.0</td>\n",
       "      <td>0.0</td>\n",
       "      <td>0.0</td>\n",
       "      <td>0.0</td>\n",
       "      <td>4</td>\n",
       "      <td>0.0</td>\n",
       "      <td>37.90</td>\n",
       "      <td>1.842</td>\n",
       "      <td>...</td>\n",
       "      <td>0.000186</td>\n",
       "      <td>0.000520</td>\n",
       "      <td>0.0</td>\n",
       "      <td>0.0</td>\n",
       "      <td>0.0</td>\n",
       "      <td>0.000563</td>\n",
       "      <td>0.000000</td>\n",
       "      <td>0.000333</td>\n",
       "      <td>0.000533</td>\n",
       "      <td>0.000437</td>\n",
       "    </tr>\n",
       "    <tr>\n",
       "      <th>BAU_10</th>\n",
       "      <td>83.46</td>\n",
       "      <td>11.38</td>\n",
       "      <td>0.0</td>\n",
       "      <td>0.0</td>\n",
       "      <td>0.0</td>\n",
       "      <td>0.0</td>\n",
       "      <td>4</td>\n",
       "      <td>0.0</td>\n",
       "      <td>37.90</td>\n",
       "      <td>1.842</td>\n",
       "      <td>...</td>\n",
       "      <td>0.000186</td>\n",
       "      <td>0.000520</td>\n",
       "      <td>0.0</td>\n",
       "      <td>0.0</td>\n",
       "      <td>0.0</td>\n",
       "      <td>0.000563</td>\n",
       "      <td>0.000000</td>\n",
       "      <td>0.000333</td>\n",
       "      <td>0.000533</td>\n",
       "      <td>0.000437</td>\n",
       "    </tr>\n",
       "    <tr>\n",
       "      <th>BAU_15</th>\n",
       "      <td>83.46</td>\n",
       "      <td>11.38</td>\n",
       "      <td>0.0</td>\n",
       "      <td>0.0</td>\n",
       "      <td>0.0</td>\n",
       "      <td>0.0</td>\n",
       "      <td>4</td>\n",
       "      <td>0.0</td>\n",
       "      <td>37.90</td>\n",
       "      <td>1.842</td>\n",
       "      <td>...</td>\n",
       "      <td>0.000186</td>\n",
       "      <td>0.000520</td>\n",
       "      <td>0.0</td>\n",
       "      <td>0.0</td>\n",
       "      <td>0.0</td>\n",
       "      <td>0.000563</td>\n",
       "      <td>0.000000</td>\n",
       "      <td>0.000333</td>\n",
       "      <td>0.000533</td>\n",
       "      <td>0.000437</td>\n",
       "    </tr>\n",
       "    <tr>\n",
       "      <th>BAU_30</th>\n",
       "      <td>83.46</td>\n",
       "      <td>11.38</td>\n",
       "      <td>0.0</td>\n",
       "      <td>0.0</td>\n",
       "      <td>0.0</td>\n",
       "      <td>0.0</td>\n",
       "      <td>4</td>\n",
       "      <td>0.0</td>\n",
       "      <td>37.90</td>\n",
       "      <td>1.842</td>\n",
       "      <td>...</td>\n",
       "      <td>0.000186</td>\n",
       "      <td>0.000520</td>\n",
       "      <td>0.0</td>\n",
       "      <td>0.0</td>\n",
       "      <td>0.0</td>\n",
       "      <td>0.000563</td>\n",
       "      <td>0.000000</td>\n",
       "      <td>0.000333</td>\n",
       "      <td>0.000533</td>\n",
       "      <td>0.000437</td>\n",
       "    </tr>\n",
       "    <tr>\n",
       "      <th>BAU_5</th>\n",
       "      <td>83.46</td>\n",
       "      <td>11.38</td>\n",
       "      <td>0.0</td>\n",
       "      <td>0.0</td>\n",
       "      <td>0.0</td>\n",
       "      <td>0.0</td>\n",
       "      <td>4</td>\n",
       "      <td>0.0</td>\n",
       "      <td>37.90</td>\n",
       "      <td>1.842</td>\n",
       "      <td>...</td>\n",
       "      <td>0.000186</td>\n",
       "      <td>0.000520</td>\n",
       "      <td>0.0</td>\n",
       "      <td>0.0</td>\n",
       "      <td>0.0</td>\n",
       "      <td>0.000563</td>\n",
       "      <td>0.000000</td>\n",
       "      <td>0.000333</td>\n",
       "      <td>0.000533</td>\n",
       "      <td>0.000437</td>\n",
       "    </tr>\n",
       "    <tr>\n",
       "      <th>...</th>\n",
       "      <th>...</th>\n",
       "      <th>...</th>\n",
       "      <td>...</td>\n",
       "      <td>...</td>\n",
       "      <td>...</td>\n",
       "      <td>...</td>\n",
       "      <td>...</td>\n",
       "      <td>...</td>\n",
       "      <td>...</td>\n",
       "      <td>...</td>\n",
       "      <td>...</td>\n",
       "      <td>...</td>\n",
       "      <td>...</td>\n",
       "      <td>...</td>\n",
       "      <td>...</td>\n",
       "      <td>...</td>\n",
       "      <td>...</td>\n",
       "      <td>...</td>\n",
       "      <td>...</td>\n",
       "      <td>...</td>\n",
       "      <td>...</td>\n",
       "      <td>...</td>\n",
       "      <td>...</td>\n",
       "    </tr>\n",
       "    <tr>\n",
       "      <th rowspan=\"5\" valign=\"top\">99013936</th>\n",
       "      <th rowspan=\"5\" valign=\"top\">2116</th>\n",
       "      <th>CCF_1</th>\n",
       "      <td>123.14</td>\n",
       "      <td>3.36</td>\n",
       "      <td>0.0</td>\n",
       "      <td>0.0</td>\n",
       "      <td>0.0</td>\n",
       "      <td>0.0</td>\n",
       "      <td>10</td>\n",
       "      <td>0.0</td>\n",
       "      <td>12.98</td>\n",
       "      <td>19.031</td>\n",
       "      <td>...</td>\n",
       "      <td>0.001918</td>\n",
       "      <td>0.000476</td>\n",
       "      <td>0.0</td>\n",
       "      <td>0.0</td>\n",
       "      <td>0.0</td>\n",
       "      <td>0.001058</td>\n",
       "      <td>0.551194</td>\n",
       "      <td>0.000865</td>\n",
       "      <td>0.000742</td>\n",
       "      <td>0.001077</td>\n",
       "    </tr>\n",
       "    <tr>\n",
       "      <th>CCF_2</th>\n",
       "      <td>169.04</td>\n",
       "      <td>3.43</td>\n",
       "      <td>0.0</td>\n",
       "      <td>0.0</td>\n",
       "      <td>0.0</td>\n",
       "      <td>0.0</td>\n",
       "      <td>10</td>\n",
       "      <td>0.0</td>\n",
       "      <td>12.52</td>\n",
       "      <td>21.027</td>\n",
       "      <td>...</td>\n",
       "      <td>0.002119</td>\n",
       "      <td>0.000454</td>\n",
       "      <td>0.0</td>\n",
       "      <td>0.0</td>\n",
       "      <td>0.0</td>\n",
       "      <td>0.001105</td>\n",
       "      <td>0.859729</td>\n",
       "      <td>0.000832</td>\n",
       "      <td>0.000837</td>\n",
       "      <td>0.001258</td>\n",
       "    </tr>\n",
       "    <tr>\n",
       "      <th>CCF_3</th>\n",
       "      <td>116.65</td>\n",
       "      <td>2.85</td>\n",
       "      <td>0.0</td>\n",
       "      <td>0.0</td>\n",
       "      <td>0.0</td>\n",
       "      <td>0.0</td>\n",
       "      <td>10</td>\n",
       "      <td>0.0</td>\n",
       "      <td>13.01</td>\n",
       "      <td>15.431</td>\n",
       "      <td>...</td>\n",
       "      <td>0.001555</td>\n",
       "      <td>0.000491</td>\n",
       "      <td>0.0</td>\n",
       "      <td>0.0</td>\n",
       "      <td>0.0</td>\n",
       "      <td>0.001083</td>\n",
       "      <td>0.722298</td>\n",
       "      <td>0.001264</td>\n",
       "      <td>0.000765</td>\n",
       "      <td>0.001083</td>\n",
       "    </tr>\n",
       "    <tr>\n",
       "      <th>CCF_4</th>\n",
       "      <td>214.55</td>\n",
       "      <td>2.81</td>\n",
       "      <td>0.0</td>\n",
       "      <td>0.0</td>\n",
       "      <td>0.0</td>\n",
       "      <td>0.0</td>\n",
       "      <td>10</td>\n",
       "      <td>0.0</td>\n",
       "      <td>12.36</td>\n",
       "      <td>14.574</td>\n",
       "      <td>...</td>\n",
       "      <td>0.001469</td>\n",
       "      <td>0.000427</td>\n",
       "      <td>0.0</td>\n",
       "      <td>0.0</td>\n",
       "      <td>0.0</td>\n",
       "      <td>0.001088</td>\n",
       "      <td>1.463433</td>\n",
       "      <td>0.000765</td>\n",
       "      <td>0.000900</td>\n",
       "      <td>0.001274</td>\n",
       "    </tr>\n",
       "    <tr>\n",
       "      <th>SA</th>\n",
       "      <td>337.89</td>\n",
       "      <td>0.57</td>\n",
       "      <td>0.0</td>\n",
       "      <td>0.0</td>\n",
       "      <td>0.0</td>\n",
       "      <td>0.0</td>\n",
       "      <td>6</td>\n",
       "      <td>0.0</td>\n",
       "      <td>11.86</td>\n",
       "      <td>4.819</td>\n",
       "      <td>...</td>\n",
       "      <td>0.000486</td>\n",
       "      <td>0.000374</td>\n",
       "      <td>0.0</td>\n",
       "      <td>0.0</td>\n",
       "      <td>0.0</td>\n",
       "      <td>0.006069</td>\n",
       "      <td>0.000000</td>\n",
       "      <td>0.000133</td>\n",
       "      <td>0.000814</td>\n",
       "      <td>0.001281</td>\n",
       "    </tr>\n",
       "  </tbody>\n",
       "</table>\n",
       "<p>729200 rows × 78 columns</p>\n",
       "</div>"
      ],
      "text/plain": [
       "                           V  i_Vm3  Harvested_V  Harvested_V_log_under_bark  \\\n",
       "id       year regime                                                           \n",
       "99011013 2021 BAU      83.46  11.38          0.0                         0.0   \n",
       "              BAU_10   83.46  11.38          0.0                         0.0   \n",
       "              BAU_15   83.46  11.38          0.0                         0.0   \n",
       "              BAU_30   83.46  11.38          0.0                         0.0   \n",
       "              BAU_5    83.46  11.38          0.0                         0.0   \n",
       "...                      ...    ...          ...                         ...   \n",
       "99013936 2116 CCF_1   123.14   3.36          0.0                         0.0   \n",
       "              CCF_2   169.04   3.43          0.0                         0.0   \n",
       "              CCF_3   116.65   2.85          0.0                         0.0   \n",
       "              CCF_4   214.55   2.81          0.0                         0.0   \n",
       "              SA      337.89   0.57          0.0                         0.0   \n",
       "\n",
       "                      Harvested_V_pulp_under_bark  Harvested_V_under_bark  \\\n",
       "id       year regime                                                        \n",
       "99011013 2021 BAU                             0.0                     0.0   \n",
       "              BAU_10                          0.0                     0.0   \n",
       "              BAU_15                          0.0                     0.0   \n",
       "              BAU_30                          0.0                     0.0   \n",
       "              BAU_5                           0.0                     0.0   \n",
       "...                                           ...                     ...   \n",
       "99013936 2116 CCF_1                           0.0                     0.0   \n",
       "              CCF_2                           0.0                     0.0   \n",
       "              CCF_3                           0.0                     0.0   \n",
       "              CCF_4                           0.0                     0.0   \n",
       "              SA                              0.0                     0.0   \n",
       "\n",
       "                      DEVEL_CLASS  Biomass  ALL_MARKETED_MUSHROOMS  BILBERRY  \\\n",
       "id       year regime                                                           \n",
       "99011013 2021 BAU               4      0.0                   37.90     1.842   \n",
       "              BAU_10            4      0.0                   37.90     1.842   \n",
       "              BAU_15            4      0.0                   37.90     1.842   \n",
       "              BAU_30            4      0.0                   37.90     1.842   \n",
       "              BAU_5             4      0.0                   37.90     1.842   \n",
       "...                           ...      ...                     ...       ...   \n",
       "99013936 2116 CCF_1            10      0.0                   12.98    19.031   \n",
       "              CCF_2            10      0.0                   12.52    21.027   \n",
       "              CCF_3            10      0.0                   13.01    15.431   \n",
       "              CCF_4            10      0.0                   12.36    14.574   \n",
       "              SA                6      0.0                   11.86     4.819   \n",
       "\n",
       "                      ...  Relative_Total_BILBERRY  Relative_Total_COWBERRY  \\\n",
       "id       year regime  ...                                                     \n",
       "99011013 2021 BAU     ...                 0.000186                 0.000520   \n",
       "              BAU_10  ...                 0.000186                 0.000520   \n",
       "              BAU_15  ...                 0.000186                 0.000520   \n",
       "              BAU_30  ...                 0.000186                 0.000520   \n",
       "              BAU_5   ...                 0.000186                 0.000520   \n",
       "...                   ...                      ...                      ...   \n",
       "99013936 2116 CCF_1   ...                 0.001918                 0.000476   \n",
       "              CCF_2   ...                 0.002119                 0.000454   \n",
       "              CCF_3   ...                 0.001555                 0.000491   \n",
       "              CCF_4   ...                 0.001469                 0.000427   \n",
       "              SA      ...                 0.000486                 0.000374   \n",
       "\n",
       "                      Relative_Total_HSI_MOOSE  Relative_Total_CAPERCAILLIE  \\\n",
       "id       year regime                                                          \n",
       "99011013 2021 BAU                          0.0                          0.0   \n",
       "              BAU_10                       0.0                          0.0   \n",
       "              BAU_15                       0.0                          0.0   \n",
       "              BAU_30                       0.0                          0.0   \n",
       "              BAU_5                        0.0                          0.0   \n",
       "...                                        ...                          ...   \n",
       "99013936 2116 CCF_1                        0.0                          0.0   \n",
       "              CCF_2                        0.0                          0.0   \n",
       "              CCF_3                        0.0                          0.0   \n",
       "              CCF_4                        0.0                          0.0   \n",
       "              SA                           0.0                          0.0   \n",
       "\n",
       "                      Relative_Total_HAZEL_GROUSE  \\\n",
       "id       year regime                                \n",
       "99011013 2021 BAU                             0.0   \n",
       "              BAU_10                          0.0   \n",
       "              BAU_15                          0.0   \n",
       "              BAU_30                          0.0   \n",
       "              BAU_5                           0.0   \n",
       "...                                           ...   \n",
       "99013936 2116 CCF_1                           0.0   \n",
       "              CCF_2                           0.0   \n",
       "              CCF_3                           0.0   \n",
       "              CCF_4                           0.0   \n",
       "              SA                              0.0   \n",
       "\n",
       "                      Relative_Total_V_total_deadwood  \\\n",
       "id       year regime                                    \n",
       "99011013 2021 BAU                            0.000563   \n",
       "              BAU_10                         0.000563   \n",
       "              BAU_15                         0.000563   \n",
       "              BAU_30                         0.000563   \n",
       "              BAU_5                          0.000563   \n",
       "...                                               ...   \n",
       "99013936 2116 CCF_1                          0.001058   \n",
       "              CCF_2                          0.001105   \n",
       "              CCF_3                          0.001083   \n",
       "              CCF_4                          0.001088   \n",
       "              SA                             0.006069   \n",
       "\n",
       "                      Relative_Total_N_where_D_gt_40  \\\n",
       "id       year regime                                   \n",
       "99011013 2021 BAU                           0.000000   \n",
       "              BAU_10                        0.000000   \n",
       "              BAU_15                        0.000000   \n",
       "              BAU_30                        0.000000   \n",
       "              BAU_5                         0.000000   \n",
       "...                                              ...   \n",
       "99013936 2116 CCF_1                         0.551194   \n",
       "              CCF_2                         0.859729   \n",
       "              CCF_3                         0.722298   \n",
       "              CCF_4                         1.463433   \n",
       "              SA                            0.000000   \n",
       "\n",
       "                      Relative_Total_prc_V_deciduous  \\\n",
       "id       year regime                                   \n",
       "99011013 2021 BAU                           0.000333   \n",
       "              BAU_10                        0.000333   \n",
       "              BAU_15                        0.000333   \n",
       "              BAU_30                        0.000333   \n",
       "              BAU_5                         0.000333   \n",
       "...                                              ...   \n",
       "99013936 2116 CCF_1                         0.000865   \n",
       "              CCF_2                         0.000832   \n",
       "              CCF_3                         0.001264   \n",
       "              CCF_4                         0.000765   \n",
       "              SA                            0.000133   \n",
       "\n",
       "                      Relative_Total_Recreation  Relative_Total_Scenic  \n",
       "id       year regime                                                    \n",
       "99011013 2021 BAU                      0.000533               0.000437  \n",
       "              BAU_10                   0.000533               0.000437  \n",
       "              BAU_15                   0.000533               0.000437  \n",
       "              BAU_30                   0.000533               0.000437  \n",
       "              BAU_5                    0.000533               0.000437  \n",
       "...                                         ...                    ...  \n",
       "99013936 2116 CCF_1                    0.000742               0.001077  \n",
       "              CCF_2                    0.000837               0.001258  \n",
       "              CCF_3                    0.000765               0.001083  \n",
       "              CCF_4                    0.000900               0.001274  \n",
       "              SA                       0.000814               0.001281  \n",
       "\n",
       "[729200 rows x 78 columns]"
      ]
     },
     "execution_count": 41,
     "metadata": {},
     "output_type": "execute_result"
    }
   ],
   "source": [
    "mfo.data"
   ]
  },
  {
   "cell_type": "code",
   "execution_count": 42,
   "metadata": {
    "scrolled": false
   },
   "outputs": [
    {
     "data": {
      "text/plain": [
       "'Calculating objective ranges'"
      ]
     },
     "metadata": {},
     "output_type": "display_data"
    },
    {
     "name": "stdout",
     "output_type": "stream",
     "text": [
      "\r",
      "  0%|          | 0/10 [00:00<?, ?it/s]"
     ]
    },
    {
     "data": {
      "text/plain": [
       "'Optimizing for GLOBIOM, total Sawlogs (m3/year, u. bark)'"
      ]
     },
     "metadata": {},
     "output_type": "display_data"
    },
    {
     "data": {
      "text/plain": [
       "'Found an optimal solution in 1 seconds'"
      ]
     },
     "metadata": {},
     "output_type": "display_data"
    },
    {
     "data": {
      "text/plain": [
       "'Objective values are:'"
      ]
     },
     "metadata": {},
     "output_type": "display_data"
    },
    {
     "data": {
      "text/plain": [
       "'GLOBIOM, total Sawlogs (m3/year, u. bark)'"
      ]
     },
     "metadata": {},
     "output_type": "display_data"
    },
    {
     "data": {
      "text/plain": [
       "1.3959345900805205"
      ]
     },
     "metadata": {},
     "output_type": "display_data"
    },
    {
     "data": {
      "text/plain": [
       "'GLOBIOM, total Pulpwood (m3/year, u. bark)'"
      ]
     },
     "metadata": {},
     "output_type": "display_data"
    },
    {
     "data": {
      "text/plain": [
       "-0.5890639718352699"
      ]
     },
     "metadata": {},
     "output_type": "display_data"
    },
    {
     "data": {
      "text/plain": [
       "'GLOBIOM, total Biomass (m3/year)'"
      ]
     },
     "metadata": {},
     "output_type": "display_data"
    },
    {
     "data": {
      "text/plain": [
       "-0.4636967858057275"
      ]
     },
     "metadata": {},
     "output_type": "display_data"
    },
    {
     "data": {
      "text/plain": [
       "'Average harvested timber volume (log & pulp) (m3/ha, evenflow)'"
      ]
     },
     "metadata": {},
     "output_type": "display_data"
    },
    {
     "data": {
      "text/plain": [
       "3.6325570052124565"
      ]
     },
     "metadata": {},
     "output_type": "display_data"
    },
    {
     "data": {
      "text/plain": [
       "'Average harvested biomass volume (m3/ha, evenflow)'"
      ]
     },
     "metadata": {},
     "output_type": "display_data"
    },
    {
     "data": {
      "text/plain": [
       "0.29925424294070047"
      ]
     },
     "metadata": {},
     "output_type": "display_data"
    },
    {
     "data": {
      "text/plain": [
       "'Total Deadwood volume by 2050 (%, relative to 2016 values)'"
      ]
     },
     "metadata": {},
     "output_type": "display_data"
    },
    {
     "data": {
      "text/plain": [
       "1.0760536675719783"
      ]
     },
     "metadata": {},
     "output_type": "display_data"
    },
    {
     "data": {
      "text/plain": [
       "'Total No. of trees diameter >= 40 cm  by 2050 (%, relative to 2016 values)'"
      ]
     },
     "metadata": {},
     "output_type": "display_data"
    },
    {
     "data": {
      "text/plain": [
       "1.6413764074502788"
      ]
     },
     "metadata": {},
     "output_type": "display_data"
    },
    {
     "data": {
      "text/plain": [
       "'Total share of deciduous trees by 2050 (related to V) (%, relative to 2016 values)'"
      ]
     },
     "metadata": {},
     "output_type": "display_data"
    },
    {
     "data": {
      "text/plain": [
       "0.7048267138904118"
      ]
     },
     "metadata": {},
     "output_type": "display_data"
    },
    {
     "data": {
      "text/plain": [
       "'Total Recreation index (max minimum over all years)'"
      ]
     },
     "metadata": {},
     "output_type": "display_data"
    },
    {
     "data": {
      "text/plain": [
       "7199568.79315393"
      ]
     },
     "metadata": {},
     "output_type": "display_data"
    },
    {
     "data": {
      "text/plain": [
       "'Total Scenic index (max minimum over all years)'"
      ]
     },
     "metadata": {},
     "output_type": "display_data"
    },
    {
     "data": {
      "text/plain": [
       "6564372.508285486"
      ]
     },
     "metadata": {},
     "output_type": "display_data"
    },
    {
     "name": "stdout",
     "output_type": "stream",
     "text": [
      "\r",
      " 10%|█         | 1/10 [00:04<00:39,  4.43s/it]"
     ]
    },
    {
     "data": {
      "text/plain": [
       "'Optimizing for GLOBIOM, total Pulpwood (m3/year, u. bark)'"
      ]
     },
     "metadata": {},
     "output_type": "display_data"
    },
    {
     "data": {
      "text/plain": [
       "'Found an optimal solution in 0 seconds'"
      ]
     },
     "metadata": {},
     "output_type": "display_data"
    },
    {
     "data": {
      "text/plain": [
       "'Objective values are:'"
      ]
     },
     "metadata": {},
     "output_type": "display_data"
    },
    {
     "data": {
      "text/plain": [
       "'GLOBIOM, total Sawlogs (m3/year, u. bark)'"
      ]
     },
     "metadata": {},
     "output_type": "display_data"
    },
    {
     "data": {
      "text/plain": [
       "0.03899959775731121"
      ]
     },
     "metadata": {},
     "output_type": "display_data"
    },
    {
     "data": {
      "text/plain": [
       "'GLOBIOM, total Pulpwood (m3/year, u. bark)'"
      ]
     },
     "metadata": {},
     "output_type": "display_data"
    },
    {
     "data": {
      "text/plain": [
       "0.025731551597798746"
      ]
     },
     "metadata": {},
     "output_type": "display_data"
    },
    {
     "data": {
      "text/plain": [
       "'GLOBIOM, total Biomass (m3/year)'"
      ]
     },
     "metadata": {},
     "output_type": "display_data"
    },
    {
     "data": {
      "text/plain": [
       "-0.36331777083606165"
      ]
     },
     "metadata": {},
     "output_type": "display_data"
    },
    {
     "data": {
      "text/plain": [
       "'Average harvested timber volume (log & pulp) (m3/ha, evenflow)'"
      ]
     },
     "metadata": {},
     "output_type": "display_data"
    },
    {
     "data": {
      "text/plain": [
       "3.732741508397245"
      ]
     },
     "metadata": {},
     "output_type": "display_data"
    },
    {
     "data": {
      "text/plain": [
       "'Average harvested biomass volume (m3/ha, evenflow)'"
      ]
     },
     "metadata": {},
     "output_type": "display_data"
    },
    {
     "data": {
      "text/plain": [
       "0.34952804607978727"
      ]
     },
     "metadata": {},
     "output_type": "display_data"
    },
    {
     "data": {
      "text/plain": [
       "'Total Deadwood volume by 2050 (%, relative to 2016 values)'"
      ]
     },
     "metadata": {},
     "output_type": "display_data"
    },
    {
     "data": {
      "text/plain": [
       "0.7919317445574043"
      ]
     },
     "metadata": {},
     "output_type": "display_data"
    },
    {
     "data": {
      "text/plain": [
       "'Total No. of trees diameter >= 40 cm  by 2050 (%, relative to 2016 values)'"
      ]
     },
     "metadata": {},
     "output_type": "display_data"
    },
    {
     "data": {
      "text/plain": [
       "0.5509838998211091"
      ]
     },
     "metadata": {},
     "output_type": "display_data"
    },
    {
     "data": {
      "text/plain": [
       "'Total share of deciduous trees by 2050 (related to V) (%, relative to 2016 values)'"
      ]
     },
     "metadata": {},
     "output_type": "display_data"
    },
    {
     "data": {
      "text/plain": [
       "0.25820650304155546"
      ]
     },
     "metadata": {},
     "output_type": "display_data"
    },
    {
     "data": {
      "text/plain": [
       "'Total Recreation index (max minimum over all years)'"
      ]
     },
     "metadata": {},
     "output_type": "display_data"
    },
    {
     "data": {
      "text/plain": [
       "6487049.304940097"
      ]
     },
     "metadata": {},
     "output_type": "display_data"
    },
    {
     "data": {
      "text/plain": [
       "'Total Scenic index (max minimum over all years)'"
      ]
     },
     "metadata": {},
     "output_type": "display_data"
    },
    {
     "data": {
      "text/plain": [
       "5752606.684948299"
      ]
     },
     "metadata": {},
     "output_type": "display_data"
    },
    {
     "name": "stdout",
     "output_type": "stream",
     "text": [
      "\r",
      " 20%|██        | 2/10 [00:08<00:34,  4.34s/it]"
     ]
    },
    {
     "data": {
      "text/plain": [
       "'Optimizing for GLOBIOM, total Biomass (m3/year)'"
      ]
     },
     "metadata": {},
     "output_type": "display_data"
    },
    {
     "data": {
      "text/plain": [
       "'Found an optimal solution in 0 seconds'"
      ]
     },
     "metadata": {},
     "output_type": "display_data"
    },
    {
     "data": {
      "text/plain": [
       "'Objective values are:'"
      ]
     },
     "metadata": {},
     "output_type": "display_data"
    },
    {
     "data": {
      "text/plain": [
       "'GLOBIOM, total Sawlogs (m3/year, u. bark)'"
      ]
     },
     "metadata": {},
     "output_type": "display_data"
    },
    {
     "data": {
      "text/plain": [
       "0.18346176902798428"
      ]
     },
     "metadata": {},
     "output_type": "display_data"
    },
    {
     "data": {
      "text/plain": [
       "'GLOBIOM, total Pulpwood (m3/year, u. bark)'"
      ]
     },
     "metadata": {},
     "output_type": "display_data"
    },
    {
     "data": {
      "text/plain": [
       "-0.5616833475759679"
      ]
     },
     "metadata": {},
     "output_type": "display_data"
    },
    {
     "data": {
      "text/plain": [
       "'GLOBIOM, total Biomass (m3/year)'"
      ]
     },
     "metadata": {},
     "output_type": "display_data"
    },
    {
     "data": {
      "text/plain": [
       "0.33877833500486176"
      ]
     },
     "metadata": {},
     "output_type": "display_data"
    },
    {
     "data": {
      "text/plain": [
       "'Average harvested timber volume (log & pulp) (m3/ha, evenflow)'"
      ]
     },
     "metadata": {},
     "output_type": "display_data"
    },
    {
     "data": {
      "text/plain": [
       "2.4519513175073975"
      ]
     },
     "metadata": {},
     "output_type": "display_data"
    },
    {
     "data": {
      "text/plain": [
       "'Average harvested biomass volume (m3/ha, evenflow)'"
      ]
     },
     "metadata": {},
     "output_type": "display_data"
    },
    {
     "data": {
      "text/plain": [
       "0.3776152805801575"
      ]
     },
     "metadata": {},
     "output_type": "display_data"
    },
    {
     "data": {
      "text/plain": [
       "'Total Deadwood volume by 2050 (%, relative to 2016 values)'"
      ]
     },
     "metadata": {},
     "output_type": "display_data"
    },
    {
     "data": {
      "text/plain": [
       "0.9321643278374252"
      ]
     },
     "metadata": {},
     "output_type": "display_data"
    },
    {
     "data": {
      "text/plain": [
       "'Total No. of trees diameter >= 40 cm  by 2050 (%, relative to 2016 values)'"
      ]
     },
     "metadata": {},
     "output_type": "display_data"
    },
    {
     "data": {
      "text/plain": [
       "3.3853519941071237"
      ]
     },
     "metadata": {},
     "output_type": "display_data"
    },
    {
     "data": {
      "text/plain": [
       "'Total share of deciduous trees by 2050 (related to V) (%, relative to 2016 values)'"
      ]
     },
     "metadata": {},
     "output_type": "display_data"
    },
    {
     "data": {
      "text/plain": [
       "-0.020876770499041797"
      ]
     },
     "metadata": {},
     "output_type": "display_data"
    },
    {
     "data": {
      "text/plain": [
       "'Total Recreation index (max minimum over all years)'"
      ]
     },
     "metadata": {},
     "output_type": "display_data"
    },
    {
     "data": {
      "text/plain": [
       "6845416.171219567"
      ]
     },
     "metadata": {},
     "output_type": "display_data"
    },
    {
     "data": {
      "text/plain": [
       "'Total Scenic index (max minimum over all years)'"
      ]
     },
     "metadata": {},
     "output_type": "display_data"
    },
    {
     "data": {
      "text/plain": [
       "6130135.089035448"
      ]
     },
     "metadata": {},
     "output_type": "display_data"
    },
    {
     "name": "stdout",
     "output_type": "stream",
     "text": [
      "\r",
      " 30%|███       | 3/10 [00:13<00:32,  4.58s/it]"
     ]
    },
    {
     "data": {
      "text/plain": [
       "'Optimizing for Average harvested timber volume (log & pulp) (m3/ha, evenflow)'"
      ]
     },
     "metadata": {},
     "output_type": "display_data"
    },
    {
     "data": {
      "text/plain": [
       "'Found an optimal solution in 0 seconds'"
      ]
     },
     "metadata": {},
     "output_type": "display_data"
    },
    {
     "data": {
      "text/plain": [
       "'Objective values are:'"
      ]
     },
     "metadata": {},
     "output_type": "display_data"
    },
    {
     "data": {
      "text/plain": [
       "'GLOBIOM, total Sawlogs (m3/year, u. bark)'"
      ]
     },
     "metadata": {},
     "output_type": "display_data"
    },
    {
     "data": {
      "text/plain": [
       "0.8722238739244308"
      ]
     },
     "metadata": {},
     "output_type": "display_data"
    },
    {
     "data": {
      "text/plain": [
       "'GLOBIOM, total Pulpwood (m3/year, u. bark)'"
      ]
     },
     "metadata": {},
     "output_type": "display_data"
    },
    {
     "data": {
      "text/plain": [
       "-0.4059187963456543"
      ]
     },
     "metadata": {},
     "output_type": "display_data"
    },
    {
     "data": {
      "text/plain": [
       "'GLOBIOM, total Biomass (m3/year)'"
      ]
     },
     "metadata": {},
     "output_type": "display_data"
    },
    {
     "data": {
      "text/plain": [
       "-0.27271869436186236"
      ]
     },
     "metadata": {},
     "output_type": "display_data"
    },
    {
     "data": {
      "text/plain": [
       "'Average harvested timber volume (log & pulp) (m3/ha, evenflow)'"
      ]
     },
     "metadata": {},
     "output_type": "display_data"
    },
    {
     "data": {
      "text/plain": [
       "5.255166734639608"
      ]
     },
     "metadata": {},
     "output_type": "display_data"
    },
    {
     "data": {
      "text/plain": [
       "'Average harvested biomass volume (m3/ha, evenflow)'"
      ]
     },
     "metadata": {},
     "output_type": "display_data"
    },
    {
     "data": {
      "text/plain": [
       "0.4267318391647683"
      ]
     },
     "metadata": {},
     "output_type": "display_data"
    },
    {
     "data": {
      "text/plain": [
       "'Total Deadwood volume by 2050 (%, relative to 2016 values)'"
      ]
     },
     "metadata": {},
     "output_type": "display_data"
    },
    {
     "data": {
      "text/plain": [
       "0.8592117221780102"
      ]
     },
     "metadata": {},
     "output_type": "display_data"
    },
    {
     "data": {
      "text/plain": [
       "'Total No. of trees diameter >= 40 cm  by 2050 (%, relative to 2016 values)'"
      ]
     },
     "metadata": {},
     "output_type": "display_data"
    },
    {
     "data": {
      "text/plain": [
       "0.06555824476481112"
      ]
     },
     "metadata": {},
     "output_type": "display_data"
    },
    {
     "data": {
      "text/plain": [
       "'Total share of deciduous trees by 2050 (related to V) (%, relative to 2016 values)'"
      ]
     },
     "metadata": {},
     "output_type": "display_data"
    },
    {
     "data": {
      "text/plain": [
       "0.39985129668111474"
      ]
     },
     "metadata": {},
     "output_type": "display_data"
    },
    {
     "data": {
      "text/plain": [
       "'Total Recreation index (max minimum over all years)'"
      ]
     },
     "metadata": {},
     "output_type": "display_data"
    },
    {
     "data": {
      "text/plain": [
       "6868043.93280845"
      ]
     },
     "metadata": {},
     "output_type": "display_data"
    },
    {
     "data": {
      "text/plain": [
       "'Total Scenic index (max minimum over all years)'"
      ]
     },
     "metadata": {},
     "output_type": "display_data"
    },
    {
     "data": {
      "text/plain": [
       "6160511.434190472"
      ]
     },
     "metadata": {},
     "output_type": "display_data"
    },
    {
     "name": "stdout",
     "output_type": "stream",
     "text": [
      "\r",
      " 40%|████      | 4/10 [00:17<00:26,  4.43s/it]"
     ]
    },
    {
     "data": {
      "text/plain": [
       "'Optimizing for Average harvested biomass volume (m3/ha, evenflow)'"
      ]
     },
     "metadata": {},
     "output_type": "display_data"
    },
    {
     "data": {
      "text/plain": [
       "'Found an optimal solution in 0 seconds'"
      ]
     },
     "metadata": {},
     "output_type": "display_data"
    },
    {
     "data": {
      "text/plain": [
       "'Objective values are:'"
      ]
     },
     "metadata": {},
     "output_type": "display_data"
    },
    {
     "data": {
      "text/plain": [
       "'GLOBIOM, total Sawlogs (m3/year, u. bark)'"
      ]
     },
     "metadata": {},
     "output_type": "display_data"
    },
    {
     "data": {
      "text/plain": [
       "0.3357145791807479"
      ]
     },
     "metadata": {},
     "output_type": "display_data"
    },
    {
     "data": {
      "text/plain": [
       "'GLOBIOM, total Pulpwood (m3/year, u. bark)'"
      ]
     },
     "metadata": {},
     "output_type": "display_data"
    },
    {
     "data": {
      "text/plain": [
       "-0.4614224752461549"
      ]
     },
     "metadata": {},
     "output_type": "display_data"
    },
    {
     "data": {
      "text/plain": [
       "'GLOBIOM, total Biomass (m3/year)'"
      ]
     },
     "metadata": {},
     "output_type": "display_data"
    },
    {
     "data": {
      "text/plain": [
       "0.11448198294993583"
      ]
     },
     "metadata": {},
     "output_type": "display_data"
    },
    {
     "data": {
      "text/plain": [
       "'Average harvested timber volume (log & pulp) (m3/ha, evenflow)'"
      ]
     },
     "metadata": {},
     "output_type": "display_data"
    },
    {
     "data": {
      "text/plain": [
       "3.8881759296451808"
      ]
     },
     "metadata": {},
     "output_type": "display_data"
    },
    {
     "data": {
      "text/plain": [
       "'Average harvested biomass volume (m3/ha, evenflow)'"
      ]
     },
     "metadata": {},
     "output_type": "display_data"
    },
    {
     "data": {
      "text/plain": [
       "0.6874345624189703"
      ]
     },
     "metadata": {},
     "output_type": "display_data"
    },
    {
     "data": {
      "text/plain": [
       "'Total Deadwood volume by 2050 (%, relative to 2016 values)'"
      ]
     },
     "metadata": {},
     "output_type": "display_data"
    },
    {
     "data": {
      "text/plain": [
       "0.8272901536269917"
      ]
     },
     "metadata": {},
     "output_type": "display_data"
    },
    {
     "data": {
      "text/plain": [
       "'Total No. of trees diameter >= 40 cm  by 2050 (%, relative to 2016 values)'"
      ]
     },
     "metadata": {},
     "output_type": "display_data"
    },
    {
     "data": {
      "text/plain": [
       "3.4006103335788698"
      ]
     },
     "metadata": {},
     "output_type": "display_data"
    },
    {
     "data": {
      "text/plain": [
       "'Total share of deciduous trees by 2050 (related to V) (%, relative to 2016 values)'"
      ]
     },
     "metadata": {},
     "output_type": "display_data"
    },
    {
     "data": {
      "text/plain": [
       "0.02510929764718428"
      ]
     },
     "metadata": {},
     "output_type": "display_data"
    },
    {
     "data": {
      "text/plain": [
       "'Total Recreation index (max minimum over all years)'"
      ]
     },
     "metadata": {},
     "output_type": "display_data"
    },
    {
     "data": {
      "text/plain": [
       "6720859.148695274"
      ]
     },
     "metadata": {},
     "output_type": "display_data"
    },
    {
     "data": {
      "text/plain": [
       "'Total Scenic index (max minimum over all years)'"
      ]
     },
     "metadata": {},
     "output_type": "display_data"
    },
    {
     "data": {
      "text/plain": [
       "6003352.033404024"
      ]
     },
     "metadata": {},
     "output_type": "display_data"
    },
    {
     "name": "stdout",
     "output_type": "stream",
     "text": [
      "\r",
      " 50%|█████     | 5/10 [00:22<00:22,  4.45s/it]"
     ]
    },
    {
     "data": {
      "text/plain": [
       "'Optimizing for Total Deadwood volume by 2050 (%, relative to 2016 values)'"
      ]
     },
     "metadata": {},
     "output_type": "display_data"
    },
    {
     "data": {
      "text/plain": [
       "'Found an optimal solution in 0 seconds'"
      ]
     },
     "metadata": {},
     "output_type": "display_data"
    },
    {
     "data": {
      "text/plain": [
       "'Objective values are:'"
      ]
     },
     "metadata": {},
     "output_type": "display_data"
    },
    {
     "data": {
      "text/plain": [
       "'GLOBIOM, total Sawlogs (m3/year, u. bark)'"
      ]
     },
     "metadata": {},
     "output_type": "display_data"
    },
    {
     "data": {
      "text/plain": [
       "-1.0"
      ]
     },
     "metadata": {},
     "output_type": "display_data"
    },
    {
     "data": {
      "text/plain": [
       "'GLOBIOM, total Pulpwood (m3/year, u. bark)'"
      ]
     },
     "metadata": {},
     "output_type": "display_data"
    },
    {
     "data": {
      "text/plain": [
       "-0.9942770211375027"
      ]
     },
     "metadata": {},
     "output_type": "display_data"
    },
    {
     "data": {
      "text/plain": [
       "'GLOBIOM, total Biomass (m3/year)'"
      ]
     },
     "metadata": {},
     "output_type": "display_data"
    },
    {
     "data": {
      "text/plain": [
       "-1.0"
      ]
     },
     "metadata": {},
     "output_type": "display_data"
    },
    {
     "data": {
      "text/plain": [
       "'Average harvested timber volume (log & pulp) (m3/ha, evenflow)'"
      ]
     },
     "metadata": {},
     "output_type": "display_data"
    },
    {
     "data": {
      "text/plain": [
       "0.011292749658002737"
      ]
     },
     "metadata": {},
     "output_type": "display_data"
    },
    {
     "data": {
      "text/plain": [
       "'Average harvested biomass volume (m3/ha, evenflow)'"
      ]
     },
     "metadata": {},
     "output_type": "display_data"
    },
    {
     "data": {
      "text/plain": [
       "0.0"
      ]
     },
     "metadata": {},
     "output_type": "display_data"
    },
    {
     "data": {
      "text/plain": [
       "'Total Deadwood volume by 2050 (%, relative to 2016 values)'"
      ]
     },
     "metadata": {},
     "output_type": "display_data"
    },
    {
     "data": {
      "text/plain": [
       "4.280764167116563"
      ]
     },
     "metadata": {},
     "output_type": "display_data"
    },
    {
     "data": {
      "text/plain": [
       "'Total No. of trees diameter >= 40 cm  by 2050 (%, relative to 2016 values)'"
      ]
     },
     "metadata": {},
     "output_type": "display_data"
    },
    {
     "data": {
      "text/plain": [
       "2.2386614753235823"
      ]
     },
     "metadata": {},
     "output_type": "display_data"
    },
    {
     "data": {
      "text/plain": [
       "'Total share of deciduous trees by 2050 (related to V) (%, relative to 2016 values)'"
      ]
     },
     "metadata": {},
     "output_type": "display_data"
    },
    {
     "data": {
      "text/plain": [
       "0.45862309919143057"
      ]
     },
     "metadata": {},
     "output_type": "display_data"
    },
    {
     "data": {
      "text/plain": [
       "'Total Recreation index (max minimum over all years)'"
      ]
     },
     "metadata": {},
     "output_type": "display_data"
    },
    {
     "data": {
      "text/plain": [
       "7501264.140000018"
      ]
     },
     "metadata": {},
     "output_type": "display_data"
    },
    {
     "data": {
      "text/plain": [
       "'Total Scenic index (max minimum over all years)'"
      ]
     },
     "metadata": {},
     "output_type": "display_data"
    },
    {
     "data": {
      "text/plain": [
       "6875111.680000008"
      ]
     },
     "metadata": {},
     "output_type": "display_data"
    },
    {
     "name": "stdout",
     "output_type": "stream",
     "text": [
      "\r",
      " 60%|██████    | 6/10 [00:26<00:17,  4.39s/it]"
     ]
    },
    {
     "data": {
      "text/plain": [
       "'Optimizing for Total No. of trees diameter >= 40 cm  by 2050 (%, relative to 2016 values)'"
      ]
     },
     "metadata": {},
     "output_type": "display_data"
    },
    {
     "data": {
      "text/plain": [
       "'Found an optimal solution in 0 seconds'"
      ]
     },
     "metadata": {},
     "output_type": "display_data"
    },
    {
     "data": {
      "text/plain": [
       "'Objective values are:'"
      ]
     },
     "metadata": {},
     "output_type": "display_data"
    },
    {
     "data": {
      "text/plain": [
       "'GLOBIOM, total Sawlogs (m3/year, u. bark)'"
      ]
     },
     "metadata": {},
     "output_type": "display_data"
    },
    {
     "data": {
      "text/plain": [
       "-0.5267328079089131"
      ]
     },
     "metadata": {},
     "output_type": "display_data"
    },
    {
     "data": {
      "text/plain": [
       "'GLOBIOM, total Pulpwood (m3/year, u. bark)'"
      ]
     },
     "metadata": {},
     "output_type": "display_data"
    },
    {
     "data": {
      "text/plain": [
       "-0.783785639357593"
      ]
     },
     "metadata": {},
     "output_type": "display_data"
    },
    {
     "data": {
      "text/plain": [
       "'GLOBIOM, total Biomass (m3/year)'"
      ]
     },
     "metadata": {},
     "output_type": "display_data"
    },
    {
     "data": {
      "text/plain": [
       "-0.7718695748449956"
      ]
     },
     "metadata": {},
     "output_type": "display_data"
    },
    {
     "data": {
      "text/plain": [
       "'Average harvested timber volume (log & pulp) (m3/ha, evenflow)'"
      ]
     },
     "metadata": {},
     "output_type": "display_data"
    },
    {
     "data": {
      "text/plain": [
       "1.3556155950752395"
      ]
     },
     "metadata": {},
     "output_type": "display_data"
    },
    {
     "data": {
      "text/plain": [
       "'Average harvested biomass volume (m3/ha, evenflow)'"
      ]
     },
     "metadata": {},
     "output_type": "display_data"
    },
    {
     "data": {
      "text/plain": [
       "0.10323529411764702"
      ]
     },
     "metadata": {},
     "output_type": "display_data"
    },
    {
     "data": {
      "text/plain": [
       "'Total Deadwood volume by 2050 (%, relative to 2016 values)'"
      ]
     },
     "metadata": {},
     "output_type": "display_data"
    },
    {
     "data": {
      "text/plain": [
       "1.0647521816671426"
      ]
     },
     "metadata": {},
     "output_type": "display_data"
    },
    {
     "data": {
      "text/plain": [
       "'Total No. of trees diameter >= 40 cm  by 2050 (%, relative to 2016 values)'"
      ]
     },
     "metadata": {},
     "output_type": "display_data"
    },
    {
     "data": {
      "text/plain": [
       "11.025991792065662"
      ]
     },
     "metadata": {},
     "output_type": "display_data"
    },
    {
     "data": {
      "text/plain": [
       "'Total share of deciduous trees by 2050 (related to V) (%, relative to 2016 values)'"
      ]
     },
     "metadata": {},
     "output_type": "display_data"
    },
    {
     "data": {
      "text/plain": [
       "0.9953238168125269"
      ]
     },
     "metadata": {},
     "output_type": "display_data"
    },
    {
     "data": {
      "text/plain": [
       "'Total Recreation index (max minimum over all years)'"
      ]
     },
     "metadata": {},
     "output_type": "display_data"
    },
    {
     "data": {
      "text/plain": [
       "6856095.800000001"
      ]
     },
     "metadata": {},
     "output_type": "display_data"
    },
    {
     "data": {
      "text/plain": [
       "'Total Scenic index (max minimum over all years)'"
      ]
     },
     "metadata": {},
     "output_type": "display_data"
    },
    {
     "data": {
      "text/plain": [
       "6310714.270000007"
      ]
     },
     "metadata": {},
     "output_type": "display_data"
    },
    {
     "name": "stdout",
     "output_type": "stream",
     "text": [
      "\r",
      " 70%|███████   | 7/10 [00:30<00:12,  4.23s/it]"
     ]
    },
    {
     "data": {
      "text/plain": [
       "'Optimizing for Total share of deciduous trees by 2050 (related to V) (%, relative to 2016 values)'"
      ]
     },
     "metadata": {},
     "output_type": "display_data"
    },
    {
     "data": {
      "text/plain": [
       "'Found an optimal solution in 0 seconds'"
      ]
     },
     "metadata": {},
     "output_type": "display_data"
    },
    {
     "data": {
      "text/plain": [
       "'Objective values are:'"
      ]
     },
     "metadata": {},
     "output_type": "display_data"
    },
    {
     "data": {
      "text/plain": [
       "'GLOBIOM, total Sawlogs (m3/year, u. bark)'"
      ]
     },
     "metadata": {},
     "output_type": "display_data"
    },
    {
     "data": {
      "text/plain": [
       "-0.18490961725745936"
      ]
     },
     "metadata": {},
     "output_type": "display_data"
    },
    {
     "data": {
      "text/plain": [
       "'GLOBIOM, total Pulpwood (m3/year, u. bark)'"
      ]
     },
     "metadata": {},
     "output_type": "display_data"
    },
    {
     "data": {
      "text/plain": [
       "-0.7151445958609917"
      ]
     },
     "metadata": {},
     "output_type": "display_data"
    },
    {
     "data": {
      "text/plain": [
       "'GLOBIOM, total Biomass (m3/year)'"
      ]
     },
     "metadata": {},
     "output_type": "display_data"
    },
    {
     "data": {
      "text/plain": [
       "-0.7641691877256318"
      ]
     },
     "metadata": {},
     "output_type": "display_data"
    },
    {
     "data": {
      "text/plain": [
       "'Average harvested timber volume (log & pulp) (m3/ha, evenflow)'"
      ]
     },
     "metadata": {},
     "output_type": "display_data"
    },
    {
     "data": {
      "text/plain": [
       "2.058263306884545"
      ]
     },
     "metadata": {},
     "output_type": "display_data"
    },
    {
     "data": {
      "text/plain": [
       "'Average harvested biomass volume (m3/ha, evenflow)'"
      ]
     },
     "metadata": {},
     "output_type": "display_data"
    },
    {
     "data": {
      "text/plain": [
       "0.1374623803009576"
      ]
     },
     "metadata": {},
     "output_type": "display_data"
    },
    {
     "data": {
      "text/plain": [
       "'Total Deadwood volume by 2050 (%, relative to 2016 values)'"
      ]
     },
     "metadata": {},
     "output_type": "display_data"
    },
    {
     "data": {
      "text/plain": [
       "1.1446748326556155"
      ]
     },
     "metadata": {},
     "output_type": "display_data"
    },
    {
     "data": {
      "text/plain": [
       "'Total No. of trees diameter >= 40 cm  by 2050 (%, relative to 2016 values)'"
      ]
     },
     "metadata": {},
     "output_type": "display_data"
    },
    {
     "data": {
      "text/plain": [
       "1.144270230453541"
      ]
     },
     "metadata": {},
     "output_type": "display_data"
    },
    {
     "data": {
      "text/plain": [
       "'Total share of deciduous trees by 2050 (related to V) (%, relative to 2016 values)'"
      ]
     },
     "metadata": {},
     "output_type": "display_data"
    },
    {
     "data": {
      "text/plain": [
       "1.3575138569260317"
      ]
     },
     "metadata": {},
     "output_type": "display_data"
    },
    {
     "data": {
      "text/plain": [
       "'Total Recreation index (max minimum over all years)'"
      ]
     },
     "metadata": {},
     "output_type": "display_data"
    },
    {
     "data": {
      "text/plain": [
       "6820492.4211377315"
      ]
     },
     "metadata": {},
     "output_type": "display_data"
    },
    {
     "data": {
      "text/plain": [
       "'Total Scenic index (max minimum over all years)'"
      ]
     },
     "metadata": {},
     "output_type": "display_data"
    },
    {
     "data": {
      "text/plain": [
       "6244884.990822377"
      ]
     },
     "metadata": {},
     "output_type": "display_data"
    },
    {
     "name": "stdout",
     "output_type": "stream",
     "text": [
      "\r",
      " 80%|████████  | 8/10 [00:34<00:08,  4.26s/it]"
     ]
    },
    {
     "data": {
      "text/plain": [
       "'Optimizing for Total Recreation index (max minimum over all years)'"
      ]
     },
     "metadata": {},
     "output_type": "display_data"
    },
    {
     "data": {
      "text/plain": [
       "'Found an optimal solution in 1 seconds'"
      ]
     },
     "metadata": {},
     "output_type": "display_data"
    },
    {
     "data": {
      "text/plain": [
       "'Objective values are:'"
      ]
     },
     "metadata": {},
     "output_type": "display_data"
    },
    {
     "data": {
      "text/plain": [
       "'GLOBIOM, total Sawlogs (m3/year, u. bark)'"
      ]
     },
     "metadata": {},
     "output_type": "display_data"
    },
    {
     "data": {
      "text/plain": [
       "-0.8122202966958867"
      ]
     },
     "metadata": {},
     "output_type": "display_data"
    },
    {
     "data": {
      "text/plain": [
       "'GLOBIOM, total Pulpwood (m3/year, u. bark)'"
      ]
     },
     "metadata": {},
     "output_type": "display_data"
    },
    {
     "data": {
      "text/plain": [
       "-0.7578776919883767"
      ]
     },
     "metadata": {},
     "output_type": "display_data"
    },
    {
     "data": {
      "text/plain": [
       "'GLOBIOM, total Biomass (m3/year)'"
      ]
     },
     "metadata": {},
     "output_type": "display_data"
    },
    {
     "data": {
      "text/plain": [
       "-0.7060658501178041"
      ]
     },
     "metadata": {},
     "output_type": "display_data"
    },
    {
     "data": {
      "text/plain": [
       "'Average harvested timber volume (log & pulp) (m3/ha, evenflow)'"
      ]
     },
     "metadata": {},
     "output_type": "display_data"
    },
    {
     "data": {
      "text/plain": [
       "1.2492818057455533"
      ]
     },
     "metadata": {},
     "output_type": "display_data"
    },
    {
     "data": {
      "text/plain": [
       "'Average harvested biomass volume (m3/ha, evenflow)'"
      ]
     },
     "metadata": {},
     "output_type": "display_data"
    },
    {
     "data": {
      "text/plain": [
       "0.10393980848153214"
      ]
     },
     "metadata": {},
     "output_type": "display_data"
    },
    {
     "data": {
      "text/plain": [
       "'Total Deadwood volume by 2050 (%, relative to 2016 values)'"
      ]
     },
     "metadata": {},
     "output_type": "display_data"
    },
    {
     "data": {
      "text/plain": [
       "2.798060265233186"
      ]
     },
     "metadata": {},
     "output_type": "display_data"
    },
    {
     "data": {
      "text/plain": [
       "'Total No. of trees diameter >= 40 cm  by 2050 (%, relative to 2016 values)'"
      ]
     },
     "metadata": {},
     "output_type": "display_data"
    },
    {
     "data": {
      "text/plain": [
       "1.4753235820267283"
      ]
     },
     "metadata": {},
     "output_type": "display_data"
    },
    {
     "data": {
      "text/plain": [
       "'Total share of deciduous trees by 2050 (related to V) (%, relative to 2016 values)'"
      ]
     },
     "metadata": {},
     "output_type": "display_data"
    },
    {
     "data": {
      "text/plain": [
       "0.45752753797661433"
      ]
     },
     "metadata": {},
     "output_type": "display_data"
    },
    {
     "data": {
      "text/plain": [
       "'Total Recreation index (max minimum over all years)'"
      ]
     },
     "metadata": {},
     "output_type": "display_data"
    },
    {
     "data": {
      "text/plain": [
       "7693813.989999992"
      ]
     },
     "metadata": {},
     "output_type": "display_data"
    },
    {
     "data": {
      "text/plain": [
       "'Total Scenic index (max minimum over all years)'"
      ]
     },
     "metadata": {},
     "output_type": "display_data"
    },
    {
     "data": {
      "text/plain": [
       "6941226.868497999"
      ]
     },
     "metadata": {},
     "output_type": "display_data"
    },
    {
     "name": "stdout",
     "output_type": "stream",
     "text": [
      "\r",
      " 90%|█████████ | 9/10 [00:39<00:04,  4.29s/it]"
     ]
    },
    {
     "data": {
      "text/plain": [
       "'Optimizing for Total Scenic index (max minimum over all years)'"
      ]
     },
     "metadata": {},
     "output_type": "display_data"
    },
    {
     "data": {
      "text/plain": [
       "'Found an optimal solution in 0 seconds'"
      ]
     },
     "metadata": {},
     "output_type": "display_data"
    },
    {
     "data": {
      "text/plain": [
       "'Objective values are:'"
      ]
     },
     "metadata": {},
     "output_type": "display_data"
    },
    {
     "data": {
      "text/plain": [
       "'GLOBIOM, total Sawlogs (m3/year, u. bark)'"
      ]
     },
     "metadata": {},
     "output_type": "display_data"
    },
    {
     "data": {
      "text/plain": [
       "-0.8688520621468846"
      ]
     },
     "metadata": {},
     "output_type": "display_data"
    },
    {
     "data": {
      "text/plain": [
       "'GLOBIOM, total Pulpwood (m3/year, u. bark)'"
      ]
     },
     "metadata": {},
     "output_type": "display_data"
    },
    {
     "data": {
      "text/plain": [
       "-0.845356948588157"
      ]
     },
     "metadata": {},
     "output_type": "display_data"
    },
    {
     "data": {
      "text/plain": [
       "'GLOBIOM, total Biomass (m3/year)'"
      ]
     },
     "metadata": {},
     "output_type": "display_data"
    },
    {
     "data": {
      "text/plain": [
       "-0.7794538394313724"
      ]
     },
     "metadata": {},
     "output_type": "display_data"
    },
    {
     "data": {
      "text/plain": [
       "'Average harvested timber volume (log & pulp) (m3/ha, evenflow)'"
      ]
     },
     "metadata": {},
     "output_type": "display_data"
    },
    {
     "data": {
      "text/plain": [
       "0.9039183878819345"
      ]
     },
     "metadata": {},
     "output_type": "display_data"
    },
    {
     "data": {
      "text/plain": [
       "'Average harvested biomass volume (m3/ha, evenflow)'"
      ]
     },
     "metadata": {},
     "output_type": "display_data"
    },
    {
     "data": {
      "text/plain": [
       "0.07689582924448773"
      ]
     },
     "metadata": {},
     "output_type": "display_data"
    },
    {
     "data": {
      "text/plain": [
       "'Total Deadwood volume by 2050 (%, relative to 2016 values)'"
      ]
     },
     "metadata": {},
     "output_type": "display_data"
    },
    {
     "data": {
      "text/plain": [
       "2.9653731225709974"
      ]
     },
     "metadata": {},
     "output_type": "display_data"
    },
    {
     "data": {
      "text/plain": [
       "'Total No. of trees diameter >= 40 cm  by 2050 (%, relative to 2016 values)'"
      ]
     },
     "metadata": {},
     "output_type": "display_data"
    },
    {
     "data": {
      "text/plain": [
       "1.2706513732505524"
      ]
     },
     "metadata": {},
     "output_type": "display_data"
    },
    {
     "data": {
      "text/plain": [
       "'Total share of deciduous trees by 2050 (related to V) (%, relative to 2016 values)'"
      ]
     },
     "metadata": {},
     "output_type": "display_data"
    },
    {
     "data": {
      "text/plain": [
       "0.6216053280888308"
      ]
     },
     "metadata": {},
     "output_type": "display_data"
    },
    {
     "data": {
      "text/plain": [
       "'Total Recreation index (max minimum over all years)'"
      ]
     },
     "metadata": {},
     "output_type": "display_data"
    },
    {
     "data": {
      "text/plain": [
       "7655584.281456111"
      ]
     },
     "metadata": {},
     "output_type": "display_data"
    },
    {
     "data": {
      "text/plain": [
       "'Total Scenic index (max minimum over all years)'"
      ]
     },
     "metadata": {},
     "output_type": "display_data"
    },
    {
     "data": {
      "text/plain": [
       "7008228.026488221"
      ]
     },
     "metadata": {},
     "output_type": "display_data"
    },
    {
     "name": "stdout",
     "output_type": "stream",
     "text": [
      "100%|██████████| 10/10 [00:43<00:00,  4.32s/it]\n",
      "CPU times: user 43.8 s, sys: 28.1 s, total: 1min 11s\n",
      "Wall time: 43.2 s\n"
     ]
    }
   ],
   "source": [
    "%%time\n",
    "mfo.calculateObjectiveRanges(debug=True)"
   ]
  },
  {
   "cell_type": "code",
   "execution_count": 43,
   "metadata": {},
   "outputs": [
    {
     "data": {
      "text/plain": [
       "{'Total_Harvested_V_log_GLOBIOM': (-1.0, 1.3959345900805205),\n",
       " 'Total_Harvested_V_pulp_GLOBIOM': (-0.9942770211375027, 0.025731551597798746),\n",
       " 'Total_Biomass_GLOBIOM': (-1.0, 0.33877833500486176),\n",
       " 'Average_Harvested_V': (0.011292749658002737, 5.255166734639608),\n",
       " 'Biomass_Evenflow': (0.0, 0.6874345624189703),\n",
       " 'relative_Amount_Deadwood_2050': (0.7919317445574043, 4.280764167116563),\n",
       " 'relative_N_where_D_gt_40_2050': (0.06555824476481112, 11.025991792065662),\n",
       " 'relative_prc_V_deciduous_2050': (-0.020876770499041797, 1.3575138569260317),\n",
       " 'Sum_Total_Recreation': (6487049.304940097, 7693813.989999992),\n",
       " 'Sum_Total_Scenic': (5752606.684948299, 7008228.026488221)}"
      ]
     },
     "execution_count": 43,
     "metadata": {},
     "output_type": "execute_result"
    }
   ],
   "source": [
    "mfo.objectiveRanges"
   ]
  },
  {
   "cell_type": "markdown",
   "metadata": {},
   "source": [
    "## Show GUI"
   ]
  },
  {
   "cell_type": "markdown",
   "metadata": {},
   "source": [
    "* If \"Enabled constraints\" should be considered, start with ticking box \"only CCF ...\" and push \"Change constraints\"\n",
    "* Epsilon constraints are only considered if sliders are moved and button \"Set epsilon constraints\" is pushed\n",
    "* By pushing \"OPTIMIZE\" an optimal solution under the given constraints and reference points is searched\n",
    "\n",
    "<b>SEE example figure below for scenario BES and Bottom-up.</b>"
   ]
  },
  {
   "cell_type": "markdown",
   "metadata": {},
   "source": [
    "![image](./crossscaleGUI_FIN.PNG)"
   ]
  },
  {
   "cell_type": "code",
   "execution_count": 44,
   "metadata": {
    "scrolled": false
   },
   "outputs": [
    {
     "data": {
      "text/html": [
       "<style>\n",
       "            .widget-label { min-width: 60% !important; }\n",
       "        </style>"
      ],
      "text/plain": [
       "<IPython.core.display.HTML object>"
      ]
     },
     "metadata": {},
     "output_type": "display_data"
    },
    {
     "data": {
      "text/html": [
       "<h2>Epsilon constraint values</h2>"
      ],
      "text/plain": [
       "<IPython.core.display.HTML object>"
      ]
     },
     "metadata": {},
     "output_type": "display_data"
    },
    {
     "data": {
      "application/vnd.jupyter.widget-view+json": {
       "model_id": "a0462726e1124dd7ad4fc8e1c3f4d398",
       "version_major": 2,
       "version_minor": 0
      },
      "text/plain": [
       "interactive(children=(FloatSlider(value=-1.0, description='GLOBIOM, total Sawlogs (m3/year, u. bark)', layout=…"
      ]
     },
     "metadata": {},
     "output_type": "display_data"
    },
    {
     "data": {
      "text/html": [
       "<h2>Reference point</h2>"
      ],
      "text/plain": [
       "<IPython.core.display.HTML object>"
      ]
     },
     "metadata": {},
     "output_type": "display_data"
    },
    {
     "data": {
      "application/vnd.jupyter.widget-view+json": {
       "model_id": "6a062927f2b54b70843013699ab7f0ac",
       "version_major": 2,
       "version_minor": 0
      },
      "text/plain": [
       "interactive(children=(FloatSlider(value=0.19796729504026023, description='GLOBIOM, total Sawlogs (m3/year, u. …"
      ]
     },
     "metadata": {},
     "output_type": "display_data"
    },
    {
     "data": {
      "text/html": [
       "<h2>Enabled constraints</h2>"
      ],
      "text/plain": [
       "<IPython.core.display.HTML object>"
      ]
     },
     "metadata": {},
     "output_type": "display_data"
    },
    {
     "data": {
      "application/vnd.jupyter.widget-view+json": {
       "model_id": "c423db31eef34f89a37c26c190439f63",
       "version_major": 2,
       "version_minor": 0
      },
      "text/plain": [
       "interactive(children=(Checkbox(value=False, description='Only CCF on peat lands'), Button(description='Change …"
      ]
     },
     "metadata": {},
     "output_type": "display_data"
    },
    {
     "data": {
      "application/vnd.jupyter.widget-view+json": {
       "model_id": "cd26daf23a1145a79cf5f228c3fb63d2",
       "version_major": 2,
       "version_minor": 0
      },
      "text/plain": [
       "Button(description='Print solution', style=ButtonStyle())"
      ]
     },
     "metadata": {},
     "output_type": "display_data"
    }
   ],
   "source": [
    "mfo.showGUI (debug=True)"
   ]
  },
  {
   "cell_type": "markdown",
   "metadata": {},
   "source": [
    "## Visualization of optimal solution"
   ]
  },
  {
   "cell_type": "code",
   "execution_count": 45,
   "metadata": {},
   "outputs": [],
   "source": [
    "regimeAmounts = {regime:0 for regime in mfo.regimes}\n",
    "for key in mfo.regimesDecision.keys():\n",
    "    regimeAmounts[key[1]] +=mfo.regimesDecision[key].solution_value()*mfo.standAreas.loc[key[0],\"represented_area_by_NFIplot\"]/mfo.standAreas[\"represented_area_by_NFIplot\"].sum()"
   ]
  },
  {
   "cell_type": "code",
   "execution_count": 46,
   "metadata": {},
   "outputs": [
    {
     "name": "stdout",
     "output_type": "stream",
     "text": [
      "Populating the interactive namespace from numpy and matplotlib\n"
     ]
    },
    {
     "name": "stderr",
     "output_type": "stream",
     "text": [
      "/home/ubuntu/anaconda3/envs/my_env/lib/python3.8/site-packages/IPython/core/magics/pylab.py:159: UserWarning: pylab import has clobbered these variables: ['sample']\n",
      "`%matplotlib` prevents importing * from pylab and numpy\n",
      "  warn(\"pylab import has clobbered these variables: %s\"  % clobbered +\n"
     ]
    }
   ],
   "source": [
    "%pylab notebook"
   ]
  },
  {
   "cell_type": "code",
   "execution_count": 47,
   "metadata": {},
   "outputs": [],
   "source": [
    "# [val for val in regimeAmounts.values()]"
   ]
  },
  {
   "cell_type": "code",
   "execution_count": 48,
   "metadata": {},
   "outputs": [
    {
     "data": {
      "application/javascript": [
       "/* Put everything inside the global mpl namespace */\n",
       "window.mpl = {};\n",
       "\n",
       "\n",
       "mpl.get_websocket_type = function() {\n",
       "    if (typeof(WebSocket) !== 'undefined') {\n",
       "        return WebSocket;\n",
       "    } else if (typeof(MozWebSocket) !== 'undefined') {\n",
       "        return MozWebSocket;\n",
       "    } else {\n",
       "        alert('Your browser does not have WebSocket support. ' +\n",
       "              'Please try Chrome, Safari or Firefox ≥ 6. ' +\n",
       "              'Firefox 4 and 5 are also supported but you ' +\n",
       "              'have to enable WebSockets in about:config.');\n",
       "    };\n",
       "}\n",
       "\n",
       "mpl.figure = function(figure_id, websocket, ondownload, parent_element) {\n",
       "    this.id = figure_id;\n",
       "\n",
       "    this.ws = websocket;\n",
       "\n",
       "    this.supports_binary = (this.ws.binaryType != undefined);\n",
       "\n",
       "    if (!this.supports_binary) {\n",
       "        var warnings = document.getElementById(\"mpl-warnings\");\n",
       "        if (warnings) {\n",
       "            warnings.style.display = 'block';\n",
       "            warnings.textContent = (\n",
       "                \"This browser does not support binary websocket messages. \" +\n",
       "                    \"Performance may be slow.\");\n",
       "        }\n",
       "    }\n",
       "\n",
       "    this.imageObj = new Image();\n",
       "\n",
       "    this.context = undefined;\n",
       "    this.message = undefined;\n",
       "    this.canvas = undefined;\n",
       "    this.rubberband_canvas = undefined;\n",
       "    this.rubberband_context = undefined;\n",
       "    this.format_dropdown = undefined;\n",
       "\n",
       "    this.image_mode = 'full';\n",
       "\n",
       "    this.root = $('<div/>');\n",
       "    this._root_extra_style(this.root)\n",
       "    this.root.attr('style', 'display: inline-block');\n",
       "\n",
       "    $(parent_element).append(this.root);\n",
       "\n",
       "    this._init_header(this);\n",
       "    this._init_canvas(this);\n",
       "    this._init_toolbar(this);\n",
       "\n",
       "    var fig = this;\n",
       "\n",
       "    this.waiting = false;\n",
       "\n",
       "    this.ws.onopen =  function () {\n",
       "            fig.send_message(\"supports_binary\", {value: fig.supports_binary});\n",
       "            fig.send_message(\"send_image_mode\", {});\n",
       "            if (mpl.ratio != 1) {\n",
       "                fig.send_message(\"set_dpi_ratio\", {'dpi_ratio': mpl.ratio});\n",
       "            }\n",
       "            fig.send_message(\"refresh\", {});\n",
       "        }\n",
       "\n",
       "    this.imageObj.onload = function() {\n",
       "            if (fig.image_mode == 'full') {\n",
       "                // Full images could contain transparency (where diff images\n",
       "                // almost always do), so we need to clear the canvas so that\n",
       "                // there is no ghosting.\n",
       "                fig.context.clearRect(0, 0, fig.canvas.width, fig.canvas.height);\n",
       "            }\n",
       "            fig.context.drawImage(fig.imageObj, 0, 0);\n",
       "        };\n",
       "\n",
       "    this.imageObj.onunload = function() {\n",
       "        fig.ws.close();\n",
       "    }\n",
       "\n",
       "    this.ws.onmessage = this._make_on_message_function(this);\n",
       "\n",
       "    this.ondownload = ondownload;\n",
       "}\n",
       "\n",
       "mpl.figure.prototype._init_header = function() {\n",
       "    var titlebar = $(\n",
       "        '<div class=\"ui-dialog-titlebar ui-widget-header ui-corner-all ' +\n",
       "        'ui-helper-clearfix\"/>');\n",
       "    var titletext = $(\n",
       "        '<div class=\"ui-dialog-title\" style=\"width: 100%; ' +\n",
       "        'text-align: center; padding: 3px;\"/>');\n",
       "    titlebar.append(titletext)\n",
       "    this.root.append(titlebar);\n",
       "    this.header = titletext[0];\n",
       "}\n",
       "\n",
       "\n",
       "\n",
       "mpl.figure.prototype._canvas_extra_style = function(canvas_div) {\n",
       "\n",
       "}\n",
       "\n",
       "\n",
       "mpl.figure.prototype._root_extra_style = function(canvas_div) {\n",
       "\n",
       "}\n",
       "\n",
       "mpl.figure.prototype._init_canvas = function() {\n",
       "    var fig = this;\n",
       "\n",
       "    var canvas_div = $('<div/>');\n",
       "\n",
       "    canvas_div.attr('style', 'position: relative; clear: both; outline: 0');\n",
       "\n",
       "    function canvas_keyboard_event(event) {\n",
       "        return fig.key_event(event, event['data']);\n",
       "    }\n",
       "\n",
       "    canvas_div.keydown('key_press', canvas_keyboard_event);\n",
       "    canvas_div.keyup('key_release', canvas_keyboard_event);\n",
       "    this.canvas_div = canvas_div\n",
       "    this._canvas_extra_style(canvas_div)\n",
       "    this.root.append(canvas_div);\n",
       "\n",
       "    var canvas = $('<canvas/>');\n",
       "    canvas.addClass('mpl-canvas');\n",
       "    canvas.attr('style', \"left: 0; top: 0; z-index: 0; outline: 0\")\n",
       "\n",
       "    this.canvas = canvas[0];\n",
       "    this.context = canvas[0].getContext(\"2d\");\n",
       "\n",
       "    var backingStore = this.context.backingStorePixelRatio ||\n",
       "\tthis.context.webkitBackingStorePixelRatio ||\n",
       "\tthis.context.mozBackingStorePixelRatio ||\n",
       "\tthis.context.msBackingStorePixelRatio ||\n",
       "\tthis.context.oBackingStorePixelRatio ||\n",
       "\tthis.context.backingStorePixelRatio || 1;\n",
       "\n",
       "    mpl.ratio = (window.devicePixelRatio || 1) / backingStore;\n",
       "\n",
       "    var rubberband = $('<canvas/>');\n",
       "    rubberband.attr('style', \"position: absolute; left: 0; top: 0; z-index: 1;\")\n",
       "\n",
       "    var pass_mouse_events = true;\n",
       "\n",
       "    canvas_div.resizable({\n",
       "        start: function(event, ui) {\n",
       "            pass_mouse_events = false;\n",
       "        },\n",
       "        resize: function(event, ui) {\n",
       "            fig.request_resize(ui.size.width, ui.size.height);\n",
       "        },\n",
       "        stop: function(event, ui) {\n",
       "            pass_mouse_events = true;\n",
       "            fig.request_resize(ui.size.width, ui.size.height);\n",
       "        },\n",
       "    });\n",
       "\n",
       "    function mouse_event_fn(event) {\n",
       "        if (pass_mouse_events)\n",
       "            return fig.mouse_event(event, event['data']);\n",
       "    }\n",
       "\n",
       "    rubberband.mousedown('button_press', mouse_event_fn);\n",
       "    rubberband.mouseup('button_release', mouse_event_fn);\n",
       "    // Throttle sequential mouse events to 1 every 20ms.\n",
       "    rubberband.mousemove('motion_notify', mouse_event_fn);\n",
       "\n",
       "    rubberband.mouseenter('figure_enter', mouse_event_fn);\n",
       "    rubberband.mouseleave('figure_leave', mouse_event_fn);\n",
       "\n",
       "    canvas_div.on(\"wheel\", function (event) {\n",
       "        event = event.originalEvent;\n",
       "        event['data'] = 'scroll'\n",
       "        if (event.deltaY < 0) {\n",
       "            event.step = 1;\n",
       "        } else {\n",
       "            event.step = -1;\n",
       "        }\n",
       "        mouse_event_fn(event);\n",
       "    });\n",
       "\n",
       "    canvas_div.append(canvas);\n",
       "    canvas_div.append(rubberband);\n",
       "\n",
       "    this.rubberband = rubberband;\n",
       "    this.rubberband_canvas = rubberband[0];\n",
       "    this.rubberband_context = rubberband[0].getContext(\"2d\");\n",
       "    this.rubberband_context.strokeStyle = \"#000000\";\n",
       "\n",
       "    this._resize_canvas = function(width, height) {\n",
       "        // Keep the size of the canvas, canvas container, and rubber band\n",
       "        // canvas in synch.\n",
       "        canvas_div.css('width', width)\n",
       "        canvas_div.css('height', height)\n",
       "\n",
       "        canvas.attr('width', width * mpl.ratio);\n",
       "        canvas.attr('height', height * mpl.ratio);\n",
       "        canvas.attr('style', 'width: ' + width + 'px; height: ' + height + 'px;');\n",
       "\n",
       "        rubberband.attr('width', width);\n",
       "        rubberband.attr('height', height);\n",
       "    }\n",
       "\n",
       "    // Set the figure to an initial 600x600px, this will subsequently be updated\n",
       "    // upon first draw.\n",
       "    this._resize_canvas(600, 600);\n",
       "\n",
       "    // Disable right mouse context menu.\n",
       "    $(this.rubberband_canvas).bind(\"contextmenu\",function(e){\n",
       "        return false;\n",
       "    });\n",
       "\n",
       "    function set_focus () {\n",
       "        canvas.focus();\n",
       "        canvas_div.focus();\n",
       "    }\n",
       "\n",
       "    window.setTimeout(set_focus, 100);\n",
       "}\n",
       "\n",
       "mpl.figure.prototype._init_toolbar = function() {\n",
       "    var fig = this;\n",
       "\n",
       "    var nav_element = $('<div/>');\n",
       "    nav_element.attr('style', 'width: 100%');\n",
       "    this.root.append(nav_element);\n",
       "\n",
       "    // Define a callback function for later on.\n",
       "    function toolbar_event(event) {\n",
       "        return fig.toolbar_button_onclick(event['data']);\n",
       "    }\n",
       "    function toolbar_mouse_event(event) {\n",
       "        return fig.toolbar_button_onmouseover(event['data']);\n",
       "    }\n",
       "\n",
       "    for(var toolbar_ind in mpl.toolbar_items) {\n",
       "        var name = mpl.toolbar_items[toolbar_ind][0];\n",
       "        var tooltip = mpl.toolbar_items[toolbar_ind][1];\n",
       "        var image = mpl.toolbar_items[toolbar_ind][2];\n",
       "        var method_name = mpl.toolbar_items[toolbar_ind][3];\n",
       "\n",
       "        if (!name) {\n",
       "            // put a spacer in here.\n",
       "            continue;\n",
       "        }\n",
       "        var button = $('<button/>');\n",
       "        button.addClass('ui-button ui-widget ui-state-default ui-corner-all ' +\n",
       "                        'ui-button-icon-only');\n",
       "        button.attr('role', 'button');\n",
       "        button.attr('aria-disabled', 'false');\n",
       "        button.click(method_name, toolbar_event);\n",
       "        button.mouseover(tooltip, toolbar_mouse_event);\n",
       "\n",
       "        var icon_img = $('<span/>');\n",
       "        icon_img.addClass('ui-button-icon-primary ui-icon');\n",
       "        icon_img.addClass(image);\n",
       "        icon_img.addClass('ui-corner-all');\n",
       "\n",
       "        var tooltip_span = $('<span/>');\n",
       "        tooltip_span.addClass('ui-button-text');\n",
       "        tooltip_span.html(tooltip);\n",
       "\n",
       "        button.append(icon_img);\n",
       "        button.append(tooltip_span);\n",
       "\n",
       "        nav_element.append(button);\n",
       "    }\n",
       "\n",
       "    var fmt_picker_span = $('<span/>');\n",
       "\n",
       "    var fmt_picker = $('<select/>');\n",
       "    fmt_picker.addClass('mpl-toolbar-option ui-widget ui-widget-content');\n",
       "    fmt_picker_span.append(fmt_picker);\n",
       "    nav_element.append(fmt_picker_span);\n",
       "    this.format_dropdown = fmt_picker[0];\n",
       "\n",
       "    for (var ind in mpl.extensions) {\n",
       "        var fmt = mpl.extensions[ind];\n",
       "        var option = $(\n",
       "            '<option/>', {selected: fmt === mpl.default_extension}).html(fmt);\n",
       "        fmt_picker.append(option);\n",
       "    }\n",
       "\n",
       "    // Add hover states to the ui-buttons\n",
       "    $( \".ui-button\" ).hover(\n",
       "        function() { $(this).addClass(\"ui-state-hover\");},\n",
       "        function() { $(this).removeClass(\"ui-state-hover\");}\n",
       "    );\n",
       "\n",
       "    var status_bar = $('<span class=\"mpl-message\"/>');\n",
       "    nav_element.append(status_bar);\n",
       "    this.message = status_bar[0];\n",
       "}\n",
       "\n",
       "mpl.figure.prototype.request_resize = function(x_pixels, y_pixels) {\n",
       "    // Request matplotlib to resize the figure. Matplotlib will then trigger a resize in the client,\n",
       "    // which will in turn request a refresh of the image.\n",
       "    this.send_message('resize', {'width': x_pixels, 'height': y_pixels});\n",
       "}\n",
       "\n",
       "mpl.figure.prototype.send_message = function(type, properties) {\n",
       "    properties['type'] = type;\n",
       "    properties['figure_id'] = this.id;\n",
       "    this.ws.send(JSON.stringify(properties));\n",
       "}\n",
       "\n",
       "mpl.figure.prototype.send_draw_message = function() {\n",
       "    if (!this.waiting) {\n",
       "        this.waiting = true;\n",
       "        this.ws.send(JSON.stringify({type: \"draw\", figure_id: this.id}));\n",
       "    }\n",
       "}\n",
       "\n",
       "\n",
       "mpl.figure.prototype.handle_save = function(fig, msg) {\n",
       "    var format_dropdown = fig.format_dropdown;\n",
       "    var format = format_dropdown.options[format_dropdown.selectedIndex].value;\n",
       "    fig.ondownload(fig, format);\n",
       "}\n",
       "\n",
       "\n",
       "mpl.figure.prototype.handle_resize = function(fig, msg) {\n",
       "    var size = msg['size'];\n",
       "    if (size[0] != fig.canvas.width || size[1] != fig.canvas.height) {\n",
       "        fig._resize_canvas(size[0], size[1]);\n",
       "        fig.send_message(\"refresh\", {});\n",
       "    };\n",
       "}\n",
       "\n",
       "mpl.figure.prototype.handle_rubberband = function(fig, msg) {\n",
       "    var x0 = msg['x0'] / mpl.ratio;\n",
       "    var y0 = (fig.canvas.height - msg['y0']) / mpl.ratio;\n",
       "    var x1 = msg['x1'] / mpl.ratio;\n",
       "    var y1 = (fig.canvas.height - msg['y1']) / mpl.ratio;\n",
       "    x0 = Math.floor(x0) + 0.5;\n",
       "    y0 = Math.floor(y0) + 0.5;\n",
       "    x1 = Math.floor(x1) + 0.5;\n",
       "    y1 = Math.floor(y1) + 0.5;\n",
       "    var min_x = Math.min(x0, x1);\n",
       "    var min_y = Math.min(y0, y1);\n",
       "    var width = Math.abs(x1 - x0);\n",
       "    var height = Math.abs(y1 - y0);\n",
       "\n",
       "    fig.rubberband_context.clearRect(\n",
       "        0, 0, fig.canvas.width / mpl.ratio, fig.canvas.height / mpl.ratio);\n",
       "\n",
       "    fig.rubberband_context.strokeRect(min_x, min_y, width, height);\n",
       "}\n",
       "\n",
       "mpl.figure.prototype.handle_figure_label = function(fig, msg) {\n",
       "    // Updates the figure title.\n",
       "    fig.header.textContent = msg['label'];\n",
       "}\n",
       "\n",
       "mpl.figure.prototype.handle_cursor = function(fig, msg) {\n",
       "    var cursor = msg['cursor'];\n",
       "    switch(cursor)\n",
       "    {\n",
       "    case 0:\n",
       "        cursor = 'pointer';\n",
       "        break;\n",
       "    case 1:\n",
       "        cursor = 'default';\n",
       "        break;\n",
       "    case 2:\n",
       "        cursor = 'crosshair';\n",
       "        break;\n",
       "    case 3:\n",
       "        cursor = 'move';\n",
       "        break;\n",
       "    }\n",
       "    fig.rubberband_canvas.style.cursor = cursor;\n",
       "}\n",
       "\n",
       "mpl.figure.prototype.handle_message = function(fig, msg) {\n",
       "    fig.message.textContent = msg['message'];\n",
       "}\n",
       "\n",
       "mpl.figure.prototype.handle_draw = function(fig, msg) {\n",
       "    // Request the server to send over a new figure.\n",
       "    fig.send_draw_message();\n",
       "}\n",
       "\n",
       "mpl.figure.prototype.handle_image_mode = function(fig, msg) {\n",
       "    fig.image_mode = msg['mode'];\n",
       "}\n",
       "\n",
       "mpl.figure.prototype.updated_canvas_event = function() {\n",
       "    // Called whenever the canvas gets updated.\n",
       "    this.send_message(\"ack\", {});\n",
       "}\n",
       "\n",
       "// A function to construct a web socket function for onmessage handling.\n",
       "// Called in the figure constructor.\n",
       "mpl.figure.prototype._make_on_message_function = function(fig) {\n",
       "    return function socket_on_message(evt) {\n",
       "        if (evt.data instanceof Blob) {\n",
       "            /* FIXME: We get \"Resource interpreted as Image but\n",
       "             * transferred with MIME type text/plain:\" errors on\n",
       "             * Chrome.  But how to set the MIME type?  It doesn't seem\n",
       "             * to be part of the websocket stream */\n",
       "            evt.data.type = \"image/png\";\n",
       "\n",
       "            /* Free the memory for the previous frames */\n",
       "            if (fig.imageObj.src) {\n",
       "                (window.URL || window.webkitURL).revokeObjectURL(\n",
       "                    fig.imageObj.src);\n",
       "            }\n",
       "\n",
       "            fig.imageObj.src = (window.URL || window.webkitURL).createObjectURL(\n",
       "                evt.data);\n",
       "            fig.updated_canvas_event();\n",
       "            fig.waiting = false;\n",
       "            return;\n",
       "        }\n",
       "        else if (typeof evt.data === 'string' && evt.data.slice(0, 21) == \"data:image/png;base64\") {\n",
       "            fig.imageObj.src = evt.data;\n",
       "            fig.updated_canvas_event();\n",
       "            fig.waiting = false;\n",
       "            return;\n",
       "        }\n",
       "\n",
       "        var msg = JSON.parse(evt.data);\n",
       "        var msg_type = msg['type'];\n",
       "\n",
       "        // Call the  \"handle_{type}\" callback, which takes\n",
       "        // the figure and JSON message as its only arguments.\n",
       "        try {\n",
       "            var callback = fig[\"handle_\" + msg_type];\n",
       "        } catch (e) {\n",
       "            console.log(\"No handler for the '\" + msg_type + \"' message type: \", msg);\n",
       "            return;\n",
       "        }\n",
       "\n",
       "        if (callback) {\n",
       "            try {\n",
       "                // console.log(\"Handling '\" + msg_type + \"' message: \", msg);\n",
       "                callback(fig, msg);\n",
       "            } catch (e) {\n",
       "                console.log(\"Exception inside the 'handler_\" + msg_type + \"' callback:\", e, e.stack, msg);\n",
       "            }\n",
       "        }\n",
       "    };\n",
       "}\n",
       "\n",
       "// from http://stackoverflow.com/questions/1114465/getting-mouse-location-in-canvas\n",
       "mpl.findpos = function(e) {\n",
       "    //this section is from http://www.quirksmode.org/js/events_properties.html\n",
       "    var targ;\n",
       "    if (!e)\n",
       "        e = window.event;\n",
       "    if (e.target)\n",
       "        targ = e.target;\n",
       "    else if (e.srcElement)\n",
       "        targ = e.srcElement;\n",
       "    if (targ.nodeType == 3) // defeat Safari bug\n",
       "        targ = targ.parentNode;\n",
       "\n",
       "    // jQuery normalizes the pageX and pageY\n",
       "    // pageX,Y are the mouse positions relative to the document\n",
       "    // offset() returns the position of the element relative to the document\n",
       "    var x = e.pageX - $(targ).offset().left;\n",
       "    var y = e.pageY - $(targ).offset().top;\n",
       "\n",
       "    return {\"x\": x, \"y\": y};\n",
       "};\n",
       "\n",
       "/*\n",
       " * return a copy of an object with only non-object keys\n",
       " * we need this to avoid circular references\n",
       " * http://stackoverflow.com/a/24161582/3208463\n",
       " */\n",
       "function simpleKeys (original) {\n",
       "  return Object.keys(original).reduce(function (obj, key) {\n",
       "    if (typeof original[key] !== 'object')\n",
       "        obj[key] = original[key]\n",
       "    return obj;\n",
       "  }, {});\n",
       "}\n",
       "\n",
       "mpl.figure.prototype.mouse_event = function(event, name) {\n",
       "    var canvas_pos = mpl.findpos(event)\n",
       "\n",
       "    if (name === 'button_press')\n",
       "    {\n",
       "        this.canvas.focus();\n",
       "        this.canvas_div.focus();\n",
       "    }\n",
       "\n",
       "    var x = canvas_pos.x * mpl.ratio;\n",
       "    var y = canvas_pos.y * mpl.ratio;\n",
       "\n",
       "    this.send_message(name, {x: x, y: y, button: event.button,\n",
       "                             step: event.step,\n",
       "                             guiEvent: simpleKeys(event)});\n",
       "\n",
       "    /* This prevents the web browser from automatically changing to\n",
       "     * the text insertion cursor when the button is pressed.  We want\n",
       "     * to control all of the cursor setting manually through the\n",
       "     * 'cursor' event from matplotlib */\n",
       "    event.preventDefault();\n",
       "    return false;\n",
       "}\n",
       "\n",
       "mpl.figure.prototype._key_event_extra = function(event, name) {\n",
       "    // Handle any extra behaviour associated with a key event\n",
       "}\n",
       "\n",
       "mpl.figure.prototype.key_event = function(event, name) {\n",
       "\n",
       "    // Prevent repeat events\n",
       "    if (name == 'key_press')\n",
       "    {\n",
       "        if (event.which === this._key)\n",
       "            return;\n",
       "        else\n",
       "            this._key = event.which;\n",
       "    }\n",
       "    if (name == 'key_release')\n",
       "        this._key = null;\n",
       "\n",
       "    var value = '';\n",
       "    if (event.ctrlKey && event.which != 17)\n",
       "        value += \"ctrl+\";\n",
       "    if (event.altKey && event.which != 18)\n",
       "        value += \"alt+\";\n",
       "    if (event.shiftKey && event.which != 16)\n",
       "        value += \"shift+\";\n",
       "\n",
       "    value += 'k';\n",
       "    value += event.which.toString();\n",
       "\n",
       "    this._key_event_extra(event, name);\n",
       "\n",
       "    this.send_message(name, {key: value,\n",
       "                             guiEvent: simpleKeys(event)});\n",
       "    return false;\n",
       "}\n",
       "\n",
       "mpl.figure.prototype.toolbar_button_onclick = function(name) {\n",
       "    if (name == 'download') {\n",
       "        this.handle_save(this, null);\n",
       "    } else {\n",
       "        this.send_message(\"toolbar_button\", {name: name});\n",
       "    }\n",
       "};\n",
       "\n",
       "mpl.figure.prototype.toolbar_button_onmouseover = function(tooltip) {\n",
       "    this.message.textContent = tooltip;\n",
       "};\n",
       "mpl.toolbar_items = [[\"Home\", \"Reset original view\", \"fa fa-home icon-home\", \"home\"], [\"Back\", \"Back to previous view\", \"fa fa-arrow-left icon-arrow-left\", \"back\"], [\"Forward\", \"Forward to next view\", \"fa fa-arrow-right icon-arrow-right\", \"forward\"], [\"\", \"\", \"\", \"\"], [\"Pan\", \"Pan axes with left mouse, zoom with right\", \"fa fa-arrows icon-move\", \"pan\"], [\"Zoom\", \"Zoom to rectangle\", \"fa fa-square-o icon-check-empty\", \"zoom\"], [\"\", \"\", \"\", \"\"], [\"Download\", \"Download plot\", \"fa fa-floppy-o icon-save\", \"download\"]];\n",
       "\n",
       "mpl.extensions = [\"eps\", \"pdf\", \"png\", \"ps\", \"raw\", \"svg\"];\n",
       "\n",
       "mpl.default_extension = \"png\";var comm_websocket_adapter = function(comm) {\n",
       "    // Create a \"websocket\"-like object which calls the given IPython comm\n",
       "    // object with the appropriate methods. Currently this is a non binary\n",
       "    // socket, so there is still some room for performance tuning.\n",
       "    var ws = {};\n",
       "\n",
       "    ws.close = function() {\n",
       "        comm.close()\n",
       "    };\n",
       "    ws.send = function(m) {\n",
       "        //console.log('sending', m);\n",
       "        comm.send(m);\n",
       "    };\n",
       "    // Register the callback with on_msg.\n",
       "    comm.on_msg(function(msg) {\n",
       "        //console.log('receiving', msg['content']['data'], msg);\n",
       "        // Pass the mpl event to the overridden (by mpl) onmessage function.\n",
       "        ws.onmessage(msg['content']['data'])\n",
       "    });\n",
       "    return ws;\n",
       "}\n",
       "\n",
       "mpl.mpl_figure_comm = function(comm, msg) {\n",
       "    // This is the function which gets called when the mpl process\n",
       "    // starts-up an IPython Comm through the \"matplotlib\" channel.\n",
       "\n",
       "    var id = msg.content.data.id;\n",
       "    // Get hold of the div created by the display call when the Comm\n",
       "    // socket was opened in Python.\n",
       "    var element = $(\"#\" + id);\n",
       "    var ws_proxy = comm_websocket_adapter(comm)\n",
       "\n",
       "    function ondownload(figure, format) {\n",
       "        window.open(figure.imageObj.src);\n",
       "    }\n",
       "\n",
       "    var fig = new mpl.figure(id, ws_proxy,\n",
       "                           ondownload,\n",
       "                           element.get(0));\n",
       "\n",
       "    // Call onopen now - mpl needs it, as it is assuming we've passed it a real\n",
       "    // web socket which is closed, not our websocket->open comm proxy.\n",
       "    ws_proxy.onopen();\n",
       "\n",
       "    fig.parent_element = element.get(0);\n",
       "    fig.cell_info = mpl.find_output_cell(\"<div id='\" + id + \"'></div>\");\n",
       "    if (!fig.cell_info) {\n",
       "        console.error(\"Failed to find cell for figure\", id, fig);\n",
       "        return;\n",
       "    }\n",
       "\n",
       "    var output_index = fig.cell_info[2]\n",
       "    var cell = fig.cell_info[0];\n",
       "\n",
       "};\n",
       "\n",
       "mpl.figure.prototype.handle_close = function(fig, msg) {\n",
       "    var width = fig.canvas.width/mpl.ratio\n",
       "    fig.root.unbind('remove')\n",
       "\n",
       "    // Update the output cell to use the data from the current canvas.\n",
       "    fig.push_to_output();\n",
       "    var dataURL = fig.canvas.toDataURL();\n",
       "    // Re-enable the keyboard manager in IPython - without this line, in FF,\n",
       "    // the notebook keyboard shortcuts fail.\n",
       "    IPython.keyboard_manager.enable()\n",
       "    $(fig.parent_element).html('<img src=\"' + dataURL + '\" width=\"' + width + '\">');\n",
       "    fig.close_ws(fig, msg);\n",
       "}\n",
       "\n",
       "mpl.figure.prototype.close_ws = function(fig, msg){\n",
       "    fig.send_message('closing', msg);\n",
       "    // fig.ws.close()\n",
       "}\n",
       "\n",
       "mpl.figure.prototype.push_to_output = function(remove_interactive) {\n",
       "    // Turn the data on the canvas into data in the output cell.\n",
       "    var width = this.canvas.width/mpl.ratio\n",
       "    var dataURL = this.canvas.toDataURL();\n",
       "    this.cell_info[1]['text/html'] = '<img src=\"' + dataURL + '\" width=\"' + width + '\">';\n",
       "}\n",
       "\n",
       "mpl.figure.prototype.updated_canvas_event = function() {\n",
       "    // Tell IPython that the notebook contents must change.\n",
       "    IPython.notebook.set_dirty(true);\n",
       "    this.send_message(\"ack\", {});\n",
       "    var fig = this;\n",
       "    // Wait a second, then push the new image to the DOM so\n",
       "    // that it is saved nicely (might be nice to debounce this).\n",
       "    setTimeout(function () { fig.push_to_output() }, 1000);\n",
       "}\n",
       "\n",
       "mpl.figure.prototype._init_toolbar = function() {\n",
       "    var fig = this;\n",
       "\n",
       "    var nav_element = $('<div/>');\n",
       "    nav_element.attr('style', 'width: 100%');\n",
       "    this.root.append(nav_element);\n",
       "\n",
       "    // Define a callback function for later on.\n",
       "    function toolbar_event(event) {\n",
       "        return fig.toolbar_button_onclick(event['data']);\n",
       "    }\n",
       "    function toolbar_mouse_event(event) {\n",
       "        return fig.toolbar_button_onmouseover(event['data']);\n",
       "    }\n",
       "\n",
       "    for(var toolbar_ind in mpl.toolbar_items){\n",
       "        var name = mpl.toolbar_items[toolbar_ind][0];\n",
       "        var tooltip = mpl.toolbar_items[toolbar_ind][1];\n",
       "        var image = mpl.toolbar_items[toolbar_ind][2];\n",
       "        var method_name = mpl.toolbar_items[toolbar_ind][3];\n",
       "\n",
       "        if (!name) { continue; };\n",
       "\n",
       "        var button = $('<button class=\"btn btn-default\" href=\"#\" title=\"' + name + '\"><i class=\"fa ' + image + ' fa-lg\"></i></button>');\n",
       "        button.click(method_name, toolbar_event);\n",
       "        button.mouseover(tooltip, toolbar_mouse_event);\n",
       "        nav_element.append(button);\n",
       "    }\n",
       "\n",
       "    // Add the status bar.\n",
       "    var status_bar = $('<span class=\"mpl-message\" style=\"text-align:right; float: right;\"/>');\n",
       "    nav_element.append(status_bar);\n",
       "    this.message = status_bar[0];\n",
       "\n",
       "    // Add the close button to the window.\n",
       "    var buttongrp = $('<div class=\"btn-group inline pull-right\"></div>');\n",
       "    var button = $('<button class=\"btn btn-mini btn-primary\" href=\"#\" title=\"Stop Interaction\"><i class=\"fa fa-power-off icon-remove icon-large\"></i></button>');\n",
       "    button.click(function (evt) { fig.handle_close(fig, {}); } );\n",
       "    button.mouseover('Stop Interaction', toolbar_mouse_event);\n",
       "    buttongrp.append(button);\n",
       "    var titlebar = this.root.find($('.ui-dialog-titlebar'));\n",
       "    titlebar.prepend(buttongrp);\n",
       "}\n",
       "\n",
       "mpl.figure.prototype._root_extra_style = function(el){\n",
       "    var fig = this\n",
       "    el.on(\"remove\", function(){\n",
       "\tfig.close_ws(fig, {});\n",
       "    });\n",
       "}\n",
       "\n",
       "mpl.figure.prototype._canvas_extra_style = function(el){\n",
       "    // this is important to make the div 'focusable\n",
       "    el.attr('tabindex', 0)\n",
       "    // reach out to IPython and tell the keyboard manager to turn it's self\n",
       "    // off when our div gets focus\n",
       "\n",
       "    // location in version 3\n",
       "    if (IPython.notebook.keyboard_manager) {\n",
       "        IPython.notebook.keyboard_manager.register_events(el);\n",
       "    }\n",
       "    else {\n",
       "        // location in version 2\n",
       "        IPython.keyboard_manager.register_events(el);\n",
       "    }\n",
       "\n",
       "}\n",
       "\n",
       "mpl.figure.prototype._key_event_extra = function(event, name) {\n",
       "    var manager = IPython.notebook.keyboard_manager;\n",
       "    if (!manager)\n",
       "        manager = IPython.keyboard_manager;\n",
       "\n",
       "    // Check for shift+enter\n",
       "    if (event.shiftKey && event.which == 13) {\n",
       "        this.canvas_div.blur();\n",
       "        // select the cell after this one\n",
       "        var index = IPython.notebook.find_cell_index(this.cell_info[0]);\n",
       "        IPython.notebook.select(index + 1);\n",
       "    }\n",
       "}\n",
       "\n",
       "mpl.figure.prototype.handle_save = function(fig, msg) {\n",
       "    fig.ondownload(fig, null);\n",
       "}\n",
       "\n",
       "\n",
       "mpl.find_output_cell = function(html_output) {\n",
       "    // Return the cell and output element which can be found *uniquely* in the notebook.\n",
       "    // Note - this is a bit hacky, but it is done because the \"notebook_saving.Notebook\"\n",
       "    // IPython event is triggered only after the cells have been serialised, which for\n",
       "    // our purposes (turning an active figure into a static one), is too late.\n",
       "    var cells = IPython.notebook.get_cells();\n",
       "    var ncells = cells.length;\n",
       "    for (var i=0; i<ncells; i++) {\n",
       "        var cell = cells[i];\n",
       "        if (cell.cell_type === 'code'){\n",
       "            for (var j=0; j<cell.output_area.outputs.length; j++) {\n",
       "                var data = cell.output_area.outputs[j];\n",
       "                if (data.data) {\n",
       "                    // IPython >= 3 moved mimebundle to data attribute of output\n",
       "                    data = data.data;\n",
       "                }\n",
       "                if (data['text/html'] == html_output) {\n",
       "                    return [cell, data, j];\n",
       "                }\n",
       "            }\n",
       "        }\n",
       "    }\n",
       "}\n",
       "\n",
       "// Register the function which deals with the matplotlib target/channel.\n",
       "// The kernel may be null if the page has been refreshed.\n",
       "if (IPython.notebook.kernel != null) {\n",
       "    IPython.notebook.kernel.comm_manager.register_target('matplotlib', mpl.mpl_figure_comm);\n",
       "}\n"
      ],
      "text/plain": [
       "<IPython.core.display.Javascript object>"
      ]
     },
     "metadata": {},
     "output_type": "display_data"
    },
    {
     "data": {
      "text/html": [
       "<img src=\"data:image/png;base64,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\" width=\"640\">"
      ],
      "text/plain": [
       "<IPython.core.display.HTML object>"
      ]
     },
     "metadata": {},
     "output_type": "display_data"
    },
    {
     "data": {
      "text/plain": [
       "[<matplotlib.lines.Line2D at 0x7fac44f28490>]"
      ]
     },
     "execution_count": 48,
     "metadata": {},
     "output_type": "execute_result"
    }
   ],
   "source": [
    "plt.plot([key for key in regimeAmounts.keys()],[val for val in regimeAmounts.values()])"
   ]
  },
  {
   "cell_type": "code",
   "execution_count": 49,
   "metadata": {},
   "outputs": [
    {
     "data": {
      "text/plain": [
       "([<matplotlib.axis.XTick at 0x7fac44f43820>,\n",
       "  <matplotlib.axis.XTick at 0x7fac44f437f0>,\n",
       "  <matplotlib.axis.XTick at 0x7fac44f39bb0>,\n",
       "  <matplotlib.axis.XTick at 0x7fac44e53b50>,\n",
       "  <matplotlib.axis.XTick at 0x7fac44e620a0>,\n",
       "  <matplotlib.axis.XTick at 0x7fac44e625b0>,\n",
       "  <matplotlib.axis.XTick at 0x7fac44e62ac0>,\n",
       "  <matplotlib.axis.XTick at 0x7fac44e62fd0>,\n",
       "  <matplotlib.axis.XTick at 0x7fac44e67520>,\n",
       "  <matplotlib.axis.XTick at 0x7fac44e67a30>,\n",
       "  <matplotlib.axis.XTick at 0x7fac44e62820>,\n",
       "  <matplotlib.axis.XTick at 0x7fac44f13e20>,\n",
       "  <matplotlib.axis.XTick at 0x7fac44e67160>,\n",
       "  <matplotlib.axis.XTick at 0x7fac44e6e2e0>,\n",
       "  <matplotlib.axis.XTick at 0x7fac44e6e7f0>,\n",
       "  <matplotlib.axis.XTick at 0x7fac44e6ed00>,\n",
       "  <matplotlib.axis.XTick at 0x7fac44e73250>,\n",
       "  <matplotlib.axis.XTick at 0x7fac44e73760>,\n",
       "  <matplotlib.axis.XTick at 0x7fac44e73c70>,\n",
       "  <matplotlib.axis.XTick at 0x7fac44e781c0>,\n",
       "  <matplotlib.axis.XTick at 0x7fac44e73940>,\n",
       "  <matplotlib.axis.XTick at 0x7fac44e6e9d0>,\n",
       "  <matplotlib.axis.XTick at 0x7fac44f13640>,\n",
       "  <matplotlib.axis.XTick at 0x7fac44e786d0>,\n",
       "  <matplotlib.axis.XTick at 0x7fac44e78be0>,\n",
       "  <matplotlib.axis.XTick at 0x7fac44e7f130>,\n",
       "  <matplotlib.axis.XTick at 0x7fac44e7f640>,\n",
       "  <matplotlib.axis.XTick at 0x7fac44e7fb50>,\n",
       "  <matplotlib.axis.XTick at 0x7fac44e840a0>,\n",
       "  <matplotlib.axis.XTick at 0x7fac44e845b0>,\n",
       "  <matplotlib.axis.XTick at 0x7fac44e7f280>,\n",
       "  <matplotlib.axis.XTick at 0x7fac44f13a00>],\n",
       " [Text(0, 0, 'BAU'),\n",
       "  Text(0, 0, 'BAU_10'),\n",
       "  Text(0, 0, 'BAU_15'),\n",
       "  Text(0, 0, 'BAU_30'),\n",
       "  Text(0, 0, 'BAU_5'),\n",
       "  Text(0, 0, 'BAU_F'),\n",
       "  Text(0, 0, 'BAU_m5'),\n",
       "  Text(0, 0, 'BAU_m5_F'),\n",
       "  Text(0, 0, 'BAUwGTR'),\n",
       "  Text(0, 0, 'BAUwT'),\n",
       "  Text(0, 0, 'BAUwT_10'),\n",
       "  Text(0, 0, 'BAUwT_15'),\n",
       "  Text(0, 0, 'BAUwT_15_B'),\n",
       "  Text(0, 0, 'BAUwT_30'),\n",
       "  Text(0, 0, 'BAUwT_30_B'),\n",
       "  Text(0, 0, 'BAUwT_5'),\n",
       "  Text(0, 0, 'BAUwT_5_B'),\n",
       "  Text(0, 0, 'BAUwT_B'),\n",
       "  Text(0, 0, 'BAUwT_F'),\n",
       "  Text(0, 0, 'BAUwT_GTR'),\n",
       "  Text(0, 0, 'BAUwT_GTR_B'),\n",
       "  Text(0, 0, 'BAUwT_m5'),\n",
       "  Text(0, 0, 'BAUwT_m5_F'),\n",
       "  Text(0, 0, 'BAUwoT'),\n",
       "  Text(0, 0, 'BAUwoT_10'),\n",
       "  Text(0, 0, 'BAUwoT_m20'),\n",
       "  Text(0, 0, 'BAUwoT_m20_F'),\n",
       "  Text(0, 0, 'CCF_1'),\n",
       "  Text(0, 0, 'CCF_2'),\n",
       "  Text(0, 0, 'CCF_3'),\n",
       "  Text(0, 0, 'CCF_4'),\n",
       "  Text(0, 0, 'SA')])"
      ]
     },
     "execution_count": 49,
     "metadata": {},
     "output_type": "execute_result"
    }
   ],
   "source": [
    "plt.bar(range(len(regimeAmounts)), list(regimeAmounts.values()), align='center')\n",
    "plt.xticks(range(len(regimeAmounts)), list(regimeAmounts.keys()),rotation=\"vertical\")"
   ]
  },
  {
   "cell_type": "markdown",
   "metadata": {},
   "source": [
    "## Export data as csv\n",
    "\n",
    "- <b>Solution_alldata</b> contains the optimal regime per stand AND the timely development of indicator values plus all other input columns (represented_are_by_NFIplot, region, NUTS2)\n",
    "- <b>Solution</b> contains only the selected optimal regime and its share (if multiple regimes per stand are selected)\n"
   ]
  },
  {
   "cell_type": "code",
   "execution_count": 50,
   "metadata": {},
   "outputs": [],
   "source": [
    "try:\n",
    "    os.mkdir(\"results\")\n",
    "except FileExistsError:\n",
    "    pass\n",
    "b = []\n",
    "c = []\n",
    "for key in mfo.regimesDecision.keys():\n",
    "    if mfo.regimesDecision[key].solution_value() > 0:\n",
    "        b = b+ [(key[0],x*5+2016, key[1]) for x in range(0,21)]\n",
    "        c = c+ [(key[0],key[1],mfo.regimesDecision[key].solution_value())]\n",
    "data2b = mfo.data.iloc[mfo.data.index.isin(b)]\n",
    "data2b.to_csv(\"./results/solution_alldata_\"+scenario+\"_\"+RCP+\"_\"+extension+\".csv\")\n",
    "c1 = pd.DataFrame(c)\n",
    "c1.to_csv(\"./results/solution_\"+scenario+\"_\"+RCP+\"_\"+extension+\".csv\")"
   ]
  },
  {
   "cell_type": "markdown",
   "metadata": {},
   "source": [
    "## Export objective ranges "
   ]
  },
  {
   "cell_type": "markdown",
   "metadata": {},
   "source": [
    "Save as json file"
   ]
  },
  {
   "cell_type": "code",
   "execution_count": 51,
   "metadata": {},
   "outputs": [],
   "source": [
    "import json\n",
    "mfo.objectiveRanges\n",
    "\n",
    "with open('./results/objectiveRanges_'+scenario+'_'+RCP+'_'+extension+'.json', 'w') as json_file:\n",
    "  json.dump(mfo.objectiveRanges, json_file)"
   ]
  },
  {
   "cell_type": "markdown",
   "metadata": {},
   "source": [
    "Save as CSV."
   ]
  },
  {
   "cell_type": "code",
   "execution_count": 52,
   "metadata": {},
   "outputs": [],
   "source": [
    "df = pd.read_json('./results/objectiveRanges_'+scenario+'_'+RCP+'_'+extension+'.json')\n",
    "\n",
    "df.to_csv('./results/objectiveRanges_'+scenario+'_'+RCP+'_'+extension+'.csv')"
   ]
  },
  {
   "cell_type": "markdown",
   "metadata": {},
   "source": [
    "## Export objective values\n",
    "The optimal solution for each objective."
   ]
  },
  {
   "cell_type": "code",
   "execution_count": 53,
   "metadata": {},
   "outputs": [],
   "source": [
    "with open(\"./results/objectiveValues_\"+scenario+'_'+RCP+'_'+extension+\".csv\",\"w\") as file: \n",
    "    delim = \"\" \n",
    "    for objName in mfo.objectiveTypes.keys(): \n",
    "        file.write(delim+objName) \n",
    "        delim = \",\" \n",
    "    file.write(\"\\n\") \n",
    "    delim = \"\" \n",
    "    for objName in mfo.objectiveTypes.keys(): \n",
    "        file.write(delim+str(mfo.objective[objName].solution_value())) \n",
    "        delim = \",\" \n",
    "    file.write(\"\\n\")"
   ]
  },
  {
   "cell_type": "code",
   "execution_count": null,
   "metadata": {},
   "outputs": [],
   "source": []
  }
 ],
 "metadata": {
  "kernelspec": {
   "display_name": "Python 3",
   "language": "python",
   "name": "python3"
  },
  "language_info": {
   "codemirror_mode": {
    "name": "ipython",
    "version": 3
   },
   "file_extension": ".py",
   "mimetype": "text/x-python",
   "name": "python",
   "nbconvert_exporter": "python",
   "pygments_lexer": "ipython3",
   "version": "3.8.3"
  }
 },
 "nbformat": 4,
 "nbformat_minor": 2
}
