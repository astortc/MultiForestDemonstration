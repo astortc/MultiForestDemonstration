{
 "cells": [
  {
   "cell_type": "markdown",
   "metadata": {},
   "source": [
    "# MultiForest optimization notebook\n",
    "# GERMANY"
   ]
  },
  {
   "cell_type": "markdown",
   "metadata": {},
   "source": [
    "Above the code cells, there are short instructions how the users can modify the codes in the cells.<br>\n",
    "If there are no instructions, no changes should be needed for the cell by default.\n",
    "\n",
    "A detailed description is provided in the <b>README.md</b>.\n",
    "\n",
    "## Basic definitions\n",
    "Simulated forest data - name and climate scenario"
   ]
  },
  {
   "cell_type": "code",
   "execution_count": 1,
   "metadata": {},
   "outputs": [],
   "source": [
    "RCP = \"RCP0\" # no climate change"
   ]
  },
  {
   "cell_type": "markdown",
   "metadata": {},
   "source": [
    "Specify policy scenario:\n",
    "\n",
    "- \"FS\" -  National Forest Strategy\n",
    "- \"BDS\" - Biodiversity Strategy\n",
    "- \"BES\" - Bioeconomy Strategy"
   ]
  },
  {
   "cell_type": "code",
   "execution_count": 2,
   "metadata": {},
   "outputs": [],
   "source": [
    "scenario =\"BES\""
   ]
  },
  {
   "cell_type": "markdown",
   "metadata": {},
   "source": [
    "## Read the data"
   ]
  },
  {
   "cell_type": "code",
   "execution_count": 3,
   "metadata": {
    "scrolled": true
   },
   "outputs": [],
   "source": [
    "import multiFunctionalOptimization as MFO"
   ]
  },
  {
   "cell_type": "code",
   "execution_count": 4,
   "metadata": {},
   "outputs": [
    {
     "data": {
      "text/plain": [
       "<module 'multiFunctionalOptimization' from '/home/ubuntu/workspace/mf_optimization_public/multiFunctionalOptimization.py'>"
      ]
     },
     "execution_count": 4,
     "metadata": {},
     "output_type": "execute_result"
    }
   ],
   "source": [
    "from importlib import reload\n",
    "reload(MFO)"
   ]
  },
  {
   "cell_type": "code",
   "execution_count": 5,
   "metadata": {},
   "outputs": [
    {
     "data": {
      "text/plain": [
       "'Using CLP'"
      ]
     },
     "metadata": {},
     "output_type": "display_data"
    }
   ],
   "source": [
    "mfo = MFO.MultiFunctionalOptimization()"
   ]
  },
  {
   "cell_type": "code",
   "execution_count": 6,
   "metadata": {},
   "outputs": [
    {
     "data": {
      "text/plain": [
       "'rslt_RCP0_Bavaria_Germany_pause_2_V1.zip'"
      ]
     },
     "execution_count": 6,
     "metadata": {},
     "output_type": "execute_result"
    }
   ],
   "source": [
    "filename = \"rslt_\"+RCP+\"_Bavaria_Germany_pause_2_V1.zip\" # test data for Bavaria with no CC\n",
    "filename"
   ]
  },
  {
   "cell_type": "code",
   "execution_count": 7,
   "metadata": {},
   "outputs": [],
   "source": [
    "import wget\n",
    "import os\n",
    "import numpy as np\n",
    "import pandas as pd"
   ]
  },
  {
   "cell_type": "code",
   "execution_count": 8,
   "metadata": {},
   "outputs": [
    {
     "data": {
      "text/plain": [
       "'rslt_RCP0_Bavaria_Germany_pause_2_V1.zip'"
      ]
     },
     "execution_count": 8,
     "metadata": {},
     "output_type": "execute_result"
    }
   ],
   "source": [
    "filename"
   ]
  },
  {
   "cell_type": "code",
   "execution_count": 9,
   "metadata": {},
   "outputs": [],
   "source": [
    "if not filename in os.listdir(\".\"):\n",
    "    wget.download(\"https://syncandshare.lrz.de/download/MktBZ3hBbzR2UnhwcWk4YXYxcVFj/Data/\"+filename)"
   ]
  },
  {
   "cell_type": "code",
   "execution_count": 10,
   "metadata": {},
   "outputs": [
    {
     "data": {
      "text/plain": [
       "'sample size 745/3725(20%)'"
      ]
     },
     "metadata": {},
     "output_type": "display_data"
    },
    {
     "name": "stdout",
     "output_type": "stream",
     "text": [
      "CPU times: user 2.23 s, sys: 827 ms, total: 3.06 s\n",
      "Wall time: 3.06 s\n"
     ]
    }
   ],
   "source": [
    "%%time\n",
    "mfo.readData(filename,\n",
    "             sampleRatio=0.2 #If no sample ratio given, the ratio is assumed to be 1\n",
    "                             #0.2 means 20% of the data\n",
    "            ) "
   ]
  },
  {
   "cell_type": "code",
   "execution_count": 11,
   "metadata": {},
   "outputs": [
    {
     "data": {
      "text/plain": [
       "Index(['id', 'regime', 'year', 'ecoregion', 'V_strat', 'V_strat_reg',\n",
       "       'Ve_strat', 'Vm_strat', 'iV_strat', 'pct_coni', 'pct_reg_coni',\n",
       "       'pct_deci', 'pct_reg_deci', 'spruce_pct', 'spruce_reg_pct', 'fir_pct',\n",
       "       'fir_reg_pct', 'pine_pct', 'pine_reg_pct', 'larch_pct', 'larch_reg_pct',\n",
       "       'beech_pct', 'beech_reg_pct', 'oak_pct', 'oak_reg_pct',\n",
       "       'douglasfir_pct', 'douglasfir_reg_pct', 'hardbrl_pct',\n",
       "       'hardbrl_reg_pct', 'softbrl_pct', 'softbrl_reg_pct', 'spi', 'spi_reg',\n",
       "       'maxh', 'maxh_reg', 'spint', 'freq_h_0_50', 'freq_h_50_80',\n",
       "       'freq_h_80_100', 'cntlayers', 'shan_species', 'shan_species_reg',\n",
       "       'shan_height', 'volHa_dbhGR10', 'volHa_dbhGR20', 'volHa_dbhGR30',\n",
       "       'volHa_dbhGR40', 'volHa_dbhGR50', 'volHa_dbhGR60', 'volHa_dead_dbhGR30',\n",
       "       'volHa_dead_dbhGR40', 'volHa_dead_dbhGR50', 'volHa_dead_dbhGR60',\n",
       "       'sawntimber', 'industrywood', 'yieldloss', 'remaininstand',\n",
       "       'represented_area_by_NFIplot', 'region', 'NUTS2', 'clear_cut',\n",
       "       'protected', 'pnv_beech', 'pnv_spruce', 'pnv_pine', 'pnv_fir',\n",
       "       'pnv_oak', 'pnv_hardbrl', 'landtenure', 'ffh', 'V (gross harvest)',\n",
       "       'CSagbDeadMerchWood', 'CFagbHarvestResidToDeadWood', 'V (remain)',\n",
       "       'stormBBRisk', 'Biodiversity', 'RandA.ASP1.Diversity',\n",
       "       'RandA.ASP2.Deadwood', 'RandA.ASP3.DensityIntensity',\n",
       "       'RecreationAndAesthetics', 'V Sawlogs', 'V PulpWood', 'V RemainWood',\n",
       "       'V HarvestResidues', 'CFpulpWoodToEnergy', 'CFsawlogsToEnergy',\n",
       "       'CSagbLivingTotal', 'CSbgbLivingTotal', 'BalanceCarbonTotalYear',\n",
       "       'covered_area_per', 'relative_Volume', 'fuelwood'],\n",
       "      dtype='object')"
      ]
     },
     "execution_count": 11,
     "metadata": {},
     "output_type": "execute_result"
    }
   ],
   "source": [
    "mfo.data.columns"
   ]
  },
  {
   "cell_type": "markdown",
   "metadata": {},
   "source": [
    "## Create new columns"
   ]
  },
  {
   "cell_type": "code",
   "execution_count": 12,
   "metadata": {},
   "outputs": [],
   "source": [
    "mfo.data[\"HarvestedVolume\"] = (mfo.data[\"Ve_strat\"].values)*mfo.data[\"represented_area_by_NFIplot\"].values"
   ]
  },
  {
   "cell_type": "code",
   "execution_count": 13,
   "metadata": {},
   "outputs": [],
   "source": [
    "mfo.data[\"CarbonBalance\"] = (mfo.data[\"BalanceCarbonTotalYear\"].values)*mfo.data[\"represented_area_by_NFIplot\"].values"
   ]
  },
  {
   "cell_type": "code",
   "execution_count": 14,
   "metadata": {},
   "outputs": [],
   "source": [
    "mfo.data[\"AnnualIncrement\"] = mfo.data[\"iV_strat\"].values*mfo.data[\"represented_area_by_NFIplot\"].values"
   ]
  },
  {
   "cell_type": "code",
   "execution_count": 15,
   "metadata": {},
   "outputs": [],
   "source": [
    "mfo.data[\"speciesProfileIndex\"] = mfo.data[\"spi\"].values "
   ]
  },
  {
   "cell_type": "code",
   "execution_count": 16,
   "metadata": {},
   "outputs": [],
   "source": [
    "mfo.data[\"VolumeLargeTrees\"] = mfo.data[\"volHa_dbhGR60\"].values*mfo.data[\"represented_area_by_NFIplot\"].values"
   ]
  },
  {
   "cell_type": "code",
   "execution_count": 17,
   "metadata": {},
   "outputs": [],
   "source": [
    "mfo.data[\"speciesInterminglingIndex\"] = mfo.data[\"spint\"].values"
   ]
  },
  {
   "cell_type": "code",
   "execution_count": 18,
   "metadata": {},
   "outputs": [],
   "source": [
    "mfo.data[\"ShannonIndexSpecies\"] = mfo.data[\"shan_species\"].values"
   ]
  },
  {
   "cell_type": "code",
   "execution_count": 19,
   "metadata": {},
   "outputs": [],
   "source": [
    "mfo.data[\"ShannonIndexTreeHeight\"] = mfo.data[\"shan_height\"].values"
   ]
  },
  {
   "cell_type": "code",
   "execution_count": 20,
   "metadata": {},
   "outputs": [],
   "source": [
    "mfo.data[\"standingVolume\"] = mfo.data[\"V_strat\"]*mfo.data[\"represented_area_by_NFIplot\"].values"
   ]
  },
  {
   "cell_type": "code",
   "execution_count": 21,
   "metadata": {},
   "outputs": [],
   "source": [
    "mfo.data[\"noNaturalSpecies\"] = mfo.data.apply(lambda x: sum([x[name] for name in mfo.data.columns if \"pnv\" in name]),axis=1)"
   ]
  },
  {
   "cell_type": "code",
   "execution_count": 22,
   "metadata": {},
   "outputs": [],
   "source": [
    "mfo.data[\"stateForest\"] = mfo.data['landtenure'].apply(lambda x: 1 if x < 1000 else 0)"
   ]
  },
  {
   "cell_type": "code",
   "execution_count": 23,
   "metadata": {},
   "outputs": [],
   "source": [
    "mfo.data[\"SawTimber\"] = mfo.data[\"V Sawlogs\"].values*mfo.data[\"represented_area_by_NFIplot\"].values"
   ]
  },
  {
   "cell_type": "code",
   "execution_count": 24,
   "metadata": {},
   "outputs": [],
   "source": [
    "mfo.data[\"PulpWood\"] =mfo.data[\"V PulpWood\"].values*mfo.data[\"represented_area_by_NFIplot\"].values"
   ]
  },
  {
   "cell_type": "code",
   "execution_count": 25,
   "metadata": {},
   "outputs": [],
   "source": [
    "mfo.data[\"ForestResidues\"] =mfo.data[\"V HarvestResidues\"].values*mfo.data[\"represented_area_by_NFIplot\"].values"
   ]
  },
  {
   "cell_type": "code",
   "execution_count": 26,
   "metadata": {},
   "outputs": [],
   "source": [
    "mfo.data[\"Fuelwood\"] = mfo.data[\"fuelwood\"].values*mfo.data[\"represented_area_by_NFIplot\"].values"
   ]
  },
  {
   "cell_type": "code",
   "execution_count": 27,
   "metadata": {},
   "outputs": [],
   "source": [
    "mfo.data[\"energyProds\"] =mfo.data[\"CFsawlogsToEnergy\"].values*mfo.data[\"represented_area_by_NFIplot\"].values"
   ]
  },
  {
   "cell_type": "code",
   "execution_count": 28,
   "metadata": {},
   "outputs": [],
   "source": [
    "mfo.data[\"TotalLivingCarbon\"] = (mfo.data[\"CSagbLivingTotal\"].values + mfo.data[\"CSbgbLivingTotal\"].values )*mfo.data[\"represented_area_by_NFIplot\"].values"
   ]
  },
  {
   "cell_type": "code",
   "execution_count": 29,
   "metadata": {},
   "outputs": [
    {
     "name": "stderr",
     "output_type": "stream",
     "text": [
      "<ipython-input-29-a5a52783099c>:1: RuntimeWarning: invalid value encountered in true_divide\n",
      "  mfo.data[\"pnvDeviation\"] =((mfo.data[\"pnv_spruce\"].values*100/mfo.data[\"noNaturalSpecies\"].values - mfo.data[\"spruce_pct\"].values)**2 +\n",
      "<ipython-input-29-a5a52783099c>:2: RuntimeWarning: invalid value encountered in true_divide\n",
      "  (mfo.data[\"pnv_beech\"].values*100/mfo.data[\"noNaturalSpecies\"].values - mfo.data[\"beech_pct\"].values)**2 +\n",
      "<ipython-input-29-a5a52783099c>:3: RuntimeWarning: invalid value encountered in true_divide\n",
      "  (mfo.data[\"pnv_pine\"].values*100/mfo.data[\"noNaturalSpecies\"].values - mfo.data[\"pine_pct\"].values)**2+\n",
      "<ipython-input-29-a5a52783099c>:4: RuntimeWarning: invalid value encountered in true_divide\n",
      "  (mfo.data[\"pnv_fir\"].values*100/mfo.data[\"noNaturalSpecies\"].values - mfo.data[\"fir_pct\"].values)**2+\n",
      "<ipython-input-29-a5a52783099c>:5: RuntimeWarning: invalid value encountered in true_divide\n",
      "  (mfo.data[\"pnv_oak\"].values*100/mfo.data[\"noNaturalSpecies\"].values - mfo.data[\"oak_pct\"].values)**2)\n"
     ]
    }
   ],
   "source": [
    "mfo.data[\"pnvDeviation\"] =((mfo.data[\"pnv_spruce\"].values*100/mfo.data[\"noNaturalSpecies\"].values - mfo.data[\"spruce_pct\"].values)**2 + \n",
    "                      (mfo.data[\"pnv_beech\"].values*100/mfo.data[\"noNaturalSpecies\"].values - mfo.data[\"beech_pct\"].values)**2 +\n",
    "                      (mfo.data[\"pnv_pine\"].values*100/mfo.data[\"noNaturalSpecies\"].values - mfo.data[\"pine_pct\"].values)**2+\n",
    "                      (mfo.data[\"pnv_fir\"].values*100/mfo.data[\"noNaturalSpecies\"].values - mfo.data[\"fir_pct\"].values)**2+\n",
    "                      (mfo.data[\"pnv_oak\"].values*100/mfo.data[\"noNaturalSpecies\"].values - mfo.data[\"oak_pct\"].values)**2)"
   ]
  },
  {
   "cell_type": "code",
   "execution_count": 30,
   "metadata": {},
   "outputs": [],
   "source": [
    "mfo.data[\"pnvDeviation\"].replace(np.nan,0,inplace=True)"
   ]
  },
  {
   "cell_type": "code",
   "execution_count": 31,
   "metadata": {},
   "outputs": [
    {
     "data": {
      "text/plain": [
       "1205        3571.0541\n",
       "1206        2990.8556\n",
       "1207        2619.1977\n",
       "1208        2432.5947\n",
       "1209        2065.7909\n",
       "              ...    \n",
       "1119415    10000.0000\n",
       "1119416    10000.0000\n",
       "1119417    10000.0000\n",
       "1119418    10000.0000\n",
       "1119419    10000.0000\n",
       "Name: pnvDeviation, Length: 224245, dtype: float64"
      ]
     },
     "execution_count": 31,
     "metadata": {},
     "output_type": "execute_result"
    }
   ],
   "source": [
    "mfo.data[\"pnvDeviation\"]"
   ]
  },
  {
   "cell_type": "code",
   "execution_count": 32,
   "metadata": {},
   "outputs": [
    {
     "data": {
      "text/plain": [
       "NOT              14900\n",
       "BAU_0            14900\n",
       "BAU_FS1          14900\n",
       "CCF_STATE        14900\n",
       "CCF_P3_p1        14900\n",
       "CCF_P1           14900\n",
       "BAU_RR_p1        14900\n",
       "BAU_RR_p2        14900\n",
       "BAU_0_p1         14900\n",
       "CCF_P3_p2        14900\n",
       "CCF_P2           14900\n",
       "CCF_P3           14900\n",
       "BAU_1            14900\n",
       "BAU_RR           14900\n",
       "BAU_0_p2         14900\n",
       "initial_state      745\n",
       "Name: regime, dtype: int64"
      ]
     },
     "execution_count": 32,
     "metadata": {},
     "output_type": "execute_result"
    }
   ],
   "source": [
    "mfo.data[mfo.regimesEnu].value_counts()"
   ]
  },
  {
   "cell_type": "markdown",
   "metadata": {},
   "source": [
    "### add column to restrict SA¶"
   ]
  },
  {
   "cell_type": "code",
   "execution_count": 33,
   "metadata": {},
   "outputs": [],
   "source": [
    "regimeClassNames = {\"regimeClass0name\":\"CCF\",\"regimeClass1name\":\"SA\"}\n",
    "regimeClassregimes = {\"regimeClass0regimes\":[\"CCF_P3 \",\"CCF_P3_p1\",\"CCF_P3_p2\"],\"regimeClass1regimes\":[\"NOT\"]}"
   ]
  },
  {
   "cell_type": "code",
   "execution_count": 34,
   "metadata": {},
   "outputs": [],
   "source": [
    "mfo.addRegimeClassifications(regimeClassNames = regimeClassNames,regimeClassregimes=regimeClassregimes)"
   ]
  },
  {
   "cell_type": "code",
   "execution_count": 35,
   "metadata": {},
   "outputs": [],
   "source": [
    "mfo.finalizeData(initialRegime=\"initial_state\")"
   ]
  },
  {
   "cell_type": "code",
   "execution_count": 36,
   "metadata": {},
   "outputs": [
    {
     "data": {
      "text/html": [
       "<div>\n",
       "<style scoped>\n",
       "    .dataframe tbody tr th:only-of-type {\n",
       "        vertical-align: middle;\n",
       "    }\n",
       "\n",
       "    .dataframe tbody tr th {\n",
       "        vertical-align: top;\n",
       "    }\n",
       "\n",
       "    .dataframe thead th {\n",
       "        text-align: right;\n",
       "    }\n",
       "</style>\n",
       "<table border=\"1\" class=\"dataframe\">\n",
       "  <thead>\n",
       "    <tr style=\"text-align: right;\">\n",
       "      <th></th>\n",
       "      <th></th>\n",
       "      <th></th>\n",
       "      <th>ecoregion</th>\n",
       "      <th>V_strat</th>\n",
       "      <th>V_strat_reg</th>\n",
       "      <th>Ve_strat</th>\n",
       "      <th>Vm_strat</th>\n",
       "      <th>iV_strat</th>\n",
       "      <th>pct_coni</th>\n",
       "      <th>pct_reg_coni</th>\n",
       "      <th>pct_deci</th>\n",
       "      <th>pct_reg_deci</th>\n",
       "      <th>...</th>\n",
       "      <th>stateForest</th>\n",
       "      <th>SawTimber</th>\n",
       "      <th>PulpWood</th>\n",
       "      <th>ForestResidues</th>\n",
       "      <th>Fuelwood</th>\n",
       "      <th>energyProds</th>\n",
       "      <th>TotalLivingCarbon</th>\n",
       "      <th>pnvDeviation</th>\n",
       "      <th>CCF_forests</th>\n",
       "      <th>SA_forests</th>\n",
       "    </tr>\n",
       "    <tr>\n",
       "      <th>id</th>\n",
       "      <th>year</th>\n",
       "      <th>regime</th>\n",
       "      <th></th>\n",
       "      <th></th>\n",
       "      <th></th>\n",
       "      <th></th>\n",
       "      <th></th>\n",
       "      <th></th>\n",
       "      <th></th>\n",
       "      <th></th>\n",
       "      <th></th>\n",
       "      <th></th>\n",
       "      <th></th>\n",
       "      <th></th>\n",
       "      <th></th>\n",
       "      <th></th>\n",
       "      <th></th>\n",
       "      <th></th>\n",
       "      <th></th>\n",
       "      <th></th>\n",
       "      <th></th>\n",
       "      <th></th>\n",
       "      <th></th>\n",
       "    </tr>\n",
       "  </thead>\n",
       "  <tbody>\n",
       "    <tr>\n",
       "      <th>5</th>\n",
       "      <th>2012</th>\n",
       "      <th>initial_state</th>\n",
       "      <td>9.5.8</td>\n",
       "      <td>103.821299</td>\n",
       "      <td>0.0</td>\n",
       "      <td>0.0</td>\n",
       "      <td>0.0</td>\n",
       "      <td>103.821299</td>\n",
       "      <td>13.0</td>\n",
       "      <td>0.0</td>\n",
       "      <td>87.0</td>\n",
       "      <td>0.0</td>\n",
       "      <td>...</td>\n",
       "      <td>1</td>\n",
       "      <td>0.0</td>\n",
       "      <td>0.0</td>\n",
       "      <td>0.0</td>\n",
       "      <td>0.0</td>\n",
       "      <td>0.0</td>\n",
       "      <td>41248.037157</td>\n",
       "      <td>4380.6917</td>\n",
       "      <td>False</td>\n",
       "      <td>False</td>\n",
       "    </tr>\n",
       "    <tr>\n",
       "      <th>6</th>\n",
       "      <th>2012</th>\n",
       "      <th>initial_state</th>\n",
       "      <td>9.6.2</td>\n",
       "      <td>138.631058</td>\n",
       "      <td>0.0</td>\n",
       "      <td>0.0</td>\n",
       "      <td>0.0</td>\n",
       "      <td>138.631058</td>\n",
       "      <td>36.0</td>\n",
       "      <td>0.0</td>\n",
       "      <td>64.0</td>\n",
       "      <td>0.0</td>\n",
       "      <td>...</td>\n",
       "      <td>1</td>\n",
       "      <td>0.0</td>\n",
       "      <td>0.0</td>\n",
       "      <td>0.0</td>\n",
       "      <td>0.0</td>\n",
       "      <td>0.0</td>\n",
       "      <td>53294.405274</td>\n",
       "      <td>3532.1936</td>\n",
       "      <td>False</td>\n",
       "      <td>False</td>\n",
       "    </tr>\n",
       "    <tr>\n",
       "      <th>7</th>\n",
       "      <th>2012</th>\n",
       "      <th>initial_state</th>\n",
       "      <td>9.6.3</td>\n",
       "      <td>112.526600</td>\n",
       "      <td>0.0</td>\n",
       "      <td>0.0</td>\n",
       "      <td>0.0</td>\n",
       "      <td>112.526600</td>\n",
       "      <td>0.0</td>\n",
       "      <td>0.0</td>\n",
       "      <td>100.0</td>\n",
       "      <td>0.0</td>\n",
       "      <td>...</td>\n",
       "      <td>1</td>\n",
       "      <td>0.0</td>\n",
       "      <td>0.0</td>\n",
       "      <td>0.0</td>\n",
       "      <td>0.0</td>\n",
       "      <td>0.0</td>\n",
       "      <td>22696.156890</td>\n",
       "      <td>10000.0000</td>\n",
       "      <td>False</td>\n",
       "      <td>False</td>\n",
       "    </tr>\n",
       "    <tr>\n",
       "      <th>14</th>\n",
       "      <th>2012</th>\n",
       "      <th>initial_state</th>\n",
       "      <td>9.5.2</td>\n",
       "      <td>182.529020</td>\n",
       "      <td>0.0</td>\n",
       "      <td>0.0</td>\n",
       "      <td>0.0</td>\n",
       "      <td>182.529020</td>\n",
       "      <td>5.0</td>\n",
       "      <td>0.0</td>\n",
       "      <td>95.0</td>\n",
       "      <td>0.0</td>\n",
       "      <td>...</td>\n",
       "      <td>1</td>\n",
       "      <td>0.0</td>\n",
       "      <td>0.0</td>\n",
       "      <td>0.0</td>\n",
       "      <td>0.0</td>\n",
       "      <td>0.0</td>\n",
       "      <td>36610.808570</td>\n",
       "      <td>2207.9282</td>\n",
       "      <td>False</td>\n",
       "      <td>False</td>\n",
       "    </tr>\n",
       "    <tr>\n",
       "      <th>18</th>\n",
       "      <th>2012</th>\n",
       "      <th>initial_state</th>\n",
       "      <td>9.5.8</td>\n",
       "      <td>395.745146</td>\n",
       "      <td>0.0</td>\n",
       "      <td>0.0</td>\n",
       "      <td>0.0</td>\n",
       "      <td>395.745146</td>\n",
       "      <td>28.0</td>\n",
       "      <td>0.0</td>\n",
       "      <td>72.0</td>\n",
       "      <td>0.0</td>\n",
       "      <td>...</td>\n",
       "      <td>1</td>\n",
       "      <td>0.0</td>\n",
       "      <td>0.0</td>\n",
       "      <td>0.0</td>\n",
       "      <td>0.0</td>\n",
       "      <td>0.0</td>\n",
       "      <td>154026.328969</td>\n",
       "      <td>5271.9176</td>\n",
       "      <td>False</td>\n",
       "      <td>False</td>\n",
       "    </tr>\n",
       "  </tbody>\n",
       "</table>\n",
       "<p>5 rows × 109 columns</p>\n",
       "</div>"
      ],
      "text/plain": [
       "                      ecoregion     V_strat  V_strat_reg  Ve_strat  Vm_strat  \\\n",
       "id year regime                                                                 \n",
       "5  2012 initial_state     9.5.8  103.821299          0.0       0.0       0.0   \n",
       "6  2012 initial_state     9.6.2  138.631058          0.0       0.0       0.0   \n",
       "7  2012 initial_state     9.6.3  112.526600          0.0       0.0       0.0   \n",
       "14 2012 initial_state     9.5.2  182.529020          0.0       0.0       0.0   \n",
       "18 2012 initial_state     9.5.8  395.745146          0.0       0.0       0.0   \n",
       "\n",
       "                         iV_strat  pct_coni  pct_reg_coni  pct_deci  \\\n",
       "id year regime                                                        \n",
       "5  2012 initial_state  103.821299      13.0           0.0      87.0   \n",
       "6  2012 initial_state  138.631058      36.0           0.0      64.0   \n",
       "7  2012 initial_state  112.526600       0.0           0.0     100.0   \n",
       "14 2012 initial_state  182.529020       5.0           0.0      95.0   \n",
       "18 2012 initial_state  395.745146      28.0           0.0      72.0   \n",
       "\n",
       "                       pct_reg_deci  ...  stateForest  SawTimber  PulpWood  \\\n",
       "id year regime                       ...                                     \n",
       "5  2012 initial_state           0.0  ...            1        0.0       0.0   \n",
       "6  2012 initial_state           0.0  ...            1        0.0       0.0   \n",
       "7  2012 initial_state           0.0  ...            1        0.0       0.0   \n",
       "14 2012 initial_state           0.0  ...            1        0.0       0.0   \n",
       "18 2012 initial_state           0.0  ...            1        0.0       0.0   \n",
       "\n",
       "                       ForestResidues  Fuelwood  energyProds  \\\n",
       "id year regime                                                 \n",
       "5  2012 initial_state             0.0       0.0          0.0   \n",
       "6  2012 initial_state             0.0       0.0          0.0   \n",
       "7  2012 initial_state             0.0       0.0          0.0   \n",
       "14 2012 initial_state             0.0       0.0          0.0   \n",
       "18 2012 initial_state             0.0       0.0          0.0   \n",
       "\n",
       "                       TotalLivingCarbon  pnvDeviation  CCF_forests  \\\n",
       "id year regime                                                        \n",
       "5  2012 initial_state       41248.037157     4380.6917        False   \n",
       "6  2012 initial_state       53294.405274     3532.1936        False   \n",
       "7  2012 initial_state       22696.156890    10000.0000        False   \n",
       "14 2012 initial_state       36610.808570     2207.9282        False   \n",
       "18 2012 initial_state      154026.328969     5271.9176        False   \n",
       "\n",
       "                       SA_forests  \n",
       "id year regime                     \n",
       "5  2012 initial_state       False  \n",
       "6  2012 initial_state       False  \n",
       "7  2012 initial_state       False  \n",
       "14 2012 initial_state       False  \n",
       "18 2012 initial_state       False  \n",
       "\n",
       "[5 rows x 109 columns]"
      ]
     },
     "execution_count": 36,
     "metadata": {},
     "output_type": "execute_result"
    }
   ],
   "source": [
    "mfo.initialData.head()"
   ]
  },
  {
   "cell_type": "code",
   "execution_count": 37,
   "metadata": {},
   "outputs": [
    {
     "data": {
      "text/html": [
       "<div>\n",
       "<style scoped>\n",
       "    .dataframe tbody tr th:only-of-type {\n",
       "        vertical-align: middle;\n",
       "    }\n",
       "\n",
       "    .dataframe tbody tr th {\n",
       "        vertical-align: top;\n",
       "    }\n",
       "\n",
       "    .dataframe thead th {\n",
       "        text-align: right;\n",
       "    }\n",
       "</style>\n",
       "<table border=\"1\" class=\"dataframe\">\n",
       "  <thead>\n",
       "    <tr style=\"text-align: right;\">\n",
       "      <th></th>\n",
       "      <th></th>\n",
       "      <th></th>\n",
       "      <th>ecoregion</th>\n",
       "      <th>V_strat</th>\n",
       "      <th>V_strat_reg</th>\n",
       "      <th>Ve_strat</th>\n",
       "      <th>Vm_strat</th>\n",
       "      <th>iV_strat</th>\n",
       "      <th>pct_coni</th>\n",
       "      <th>pct_reg_coni</th>\n",
       "      <th>pct_deci</th>\n",
       "      <th>pct_reg_deci</th>\n",
       "      <th>...</th>\n",
       "      <th>Relative_relative_Volume</th>\n",
       "      <th>Relative_AnnualIncrement</th>\n",
       "      <th>Relative_speciesProfileIndex</th>\n",
       "      <th>Relative_VolumeLargeTrees</th>\n",
       "      <th>Relative_speciesInterminglingIndex</th>\n",
       "      <th>Relative_ShannonIndexSpecies</th>\n",
       "      <th>Relative_ShannonIndexTreeHeight</th>\n",
       "      <th>Relative_standingVolume</th>\n",
       "      <th>Relative_TotalLivingCarbon</th>\n",
       "      <th>Relative_pnvDeviation</th>\n",
       "    </tr>\n",
       "    <tr>\n",
       "      <th>id</th>\n",
       "      <th>year</th>\n",
       "      <th>regime</th>\n",
       "      <th></th>\n",
       "      <th></th>\n",
       "      <th></th>\n",
       "      <th></th>\n",
       "      <th></th>\n",
       "      <th></th>\n",
       "      <th></th>\n",
       "      <th></th>\n",
       "      <th></th>\n",
       "      <th></th>\n",
       "      <th></th>\n",
       "      <th></th>\n",
       "      <th></th>\n",
       "      <th></th>\n",
       "      <th></th>\n",
       "      <th></th>\n",
       "      <th></th>\n",
       "      <th></th>\n",
       "      <th></th>\n",
       "      <th></th>\n",
       "      <th></th>\n",
       "    </tr>\n",
       "  </thead>\n",
       "  <tbody>\n",
       "    <tr>\n",
       "      <th rowspan=\"5\" valign=\"top\">5</th>\n",
       "      <th rowspan=\"5\" valign=\"top\">2017</th>\n",
       "      <th>BAU_0</th>\n",
       "      <td>9.5.8</td>\n",
       "      <td>123.777827</td>\n",
       "      <td>1.783307</td>\n",
       "      <td>37.640707</td>\n",
       "      <td>12.521406</td>\n",
       "      <td>70.118641</td>\n",
       "      <td>15.0</td>\n",
       "      <td>15.0</td>\n",
       "      <td>85.0</td>\n",
       "      <td>85.0</td>\n",
       "      <td>...</td>\n",
       "      <td>0.001342</td>\n",
       "      <td>0.000237</td>\n",
       "      <td>0.002429</td>\n",
       "      <td>0.0</td>\n",
       "      <td>0.002601</td>\n",
       "      <td>0.002736</td>\n",
       "      <td>0.005434</td>\n",
       "      <td>0.000419</td>\n",
       "      <td>0.000470</td>\n",
       "      <td>0.000548</td>\n",
       "    </tr>\n",
       "    <tr>\n",
       "      <th>BAU_0_p1</th>\n",
       "      <td>9.5.8</td>\n",
       "      <td>123.982886</td>\n",
       "      <td>1.936835</td>\n",
       "      <td>38.548110</td>\n",
       "      <td>11.454956</td>\n",
       "      <td>70.164653</td>\n",
       "      <td>16.0</td>\n",
       "      <td>19.0</td>\n",
       "      <td>84.0</td>\n",
       "      <td>81.0</td>\n",
       "      <td>...</td>\n",
       "      <td>0.001342</td>\n",
       "      <td>0.000237</td>\n",
       "      <td>0.002448</td>\n",
       "      <td>0.0</td>\n",
       "      <td>0.002602</td>\n",
       "      <td>0.002736</td>\n",
       "      <td>0.005430</td>\n",
       "      <td>0.000419</td>\n",
       "      <td>0.000470</td>\n",
       "      <td>0.000531</td>\n",
       "    </tr>\n",
       "    <tr>\n",
       "      <th>BAU_0_p2</th>\n",
       "      <td>9.5.8</td>\n",
       "      <td>157.263836</td>\n",
       "      <td>1.484368</td>\n",
       "      <td>0.000000</td>\n",
       "      <td>12.627339</td>\n",
       "      <td>66.069876</td>\n",
       "      <td>13.0</td>\n",
       "      <td>17.0</td>\n",
       "      <td>87.0</td>\n",
       "      <td>83.0</td>\n",
       "      <td>...</td>\n",
       "      <td>0.001342</td>\n",
       "      <td>0.000223</td>\n",
       "      <td>0.002263</td>\n",
       "      <td>0.0</td>\n",
       "      <td>0.002601</td>\n",
       "      <td>0.002736</td>\n",
       "      <td>0.005435</td>\n",
       "      <td>0.000532</td>\n",
       "      <td>0.000598</td>\n",
       "      <td>0.000644</td>\n",
       "    </tr>\n",
       "    <tr>\n",
       "      <th>BAU_1</th>\n",
       "      <td>9.5.8</td>\n",
       "      <td>124.264697</td>\n",
       "      <td>1.747414</td>\n",
       "      <td>38.932245</td>\n",
       "      <td>11.080300</td>\n",
       "      <td>70.455943</td>\n",
       "      <td>16.0</td>\n",
       "      <td>12.0</td>\n",
       "      <td>84.0</td>\n",
       "      <td>88.0</td>\n",
       "      <td>...</td>\n",
       "      <td>0.001342</td>\n",
       "      <td>0.000238</td>\n",
       "      <td>0.002439</td>\n",
       "      <td>0.0</td>\n",
       "      <td>0.002602</td>\n",
       "      <td>0.002736</td>\n",
       "      <td>0.005438</td>\n",
       "      <td>0.000420</td>\n",
       "      <td>0.000471</td>\n",
       "      <td>0.000548</td>\n",
       "    </tr>\n",
       "    <tr>\n",
       "      <th>BAU_FS1</th>\n",
       "      <td>9.5.8</td>\n",
       "      <td>124.055740</td>\n",
       "      <td>1.732529</td>\n",
       "      <td>38.669887</td>\n",
       "      <td>11.379025</td>\n",
       "      <td>70.283353</td>\n",
       "      <td>16.0</td>\n",
       "      <td>12.0</td>\n",
       "      <td>84.0</td>\n",
       "      <td>88.0</td>\n",
       "      <td>...</td>\n",
       "      <td>0.001342</td>\n",
       "      <td>0.000238</td>\n",
       "      <td>0.002451</td>\n",
       "      <td>0.0</td>\n",
       "      <td>0.002601</td>\n",
       "      <td>0.002736</td>\n",
       "      <td>0.005435</td>\n",
       "      <td>0.000420</td>\n",
       "      <td>0.000470</td>\n",
       "      <td>0.000549</td>\n",
       "    </tr>\n",
       "  </tbody>\n",
       "</table>\n",
       "<p>5 rows × 159 columns</p>\n",
       "</div>"
      ],
      "text/plain": [
       "                 ecoregion     V_strat  V_strat_reg   Ve_strat   Vm_strat  \\\n",
       "id year regime                                                              \n",
       "5  2017 BAU_0        9.5.8  123.777827     1.783307  37.640707  12.521406   \n",
       "        BAU_0_p1     9.5.8  123.982886     1.936835  38.548110  11.454956   \n",
       "        BAU_0_p2     9.5.8  157.263836     1.484368   0.000000  12.627339   \n",
       "        BAU_1        9.5.8  124.264697     1.747414  38.932245  11.080300   \n",
       "        BAU_FS1      9.5.8  124.055740     1.732529  38.669887  11.379025   \n",
       "\n",
       "                   iV_strat  pct_coni  pct_reg_coni  pct_deci  pct_reg_deci  \\\n",
       "id year regime                                                                \n",
       "5  2017 BAU_0     70.118641      15.0          15.0      85.0          85.0   \n",
       "        BAU_0_p1  70.164653      16.0          19.0      84.0          81.0   \n",
       "        BAU_0_p2  66.069876      13.0          17.0      87.0          83.0   \n",
       "        BAU_1     70.455943      16.0          12.0      84.0          88.0   \n",
       "        BAU_FS1   70.283353      16.0          12.0      84.0          88.0   \n",
       "\n",
       "                  ...  Relative_relative_Volume  Relative_AnnualIncrement  \\\n",
       "id year regime    ...                                                       \n",
       "5  2017 BAU_0     ...                  0.001342                  0.000237   \n",
       "        BAU_0_p1  ...                  0.001342                  0.000237   \n",
       "        BAU_0_p2  ...                  0.001342                  0.000223   \n",
       "        BAU_1     ...                  0.001342                  0.000238   \n",
       "        BAU_FS1   ...                  0.001342                  0.000238   \n",
       "\n",
       "                  Relative_speciesProfileIndex  Relative_VolumeLargeTrees  \\\n",
       "id year regime                                                              \n",
       "5  2017 BAU_0                         0.002429                        0.0   \n",
       "        BAU_0_p1                      0.002448                        0.0   \n",
       "        BAU_0_p2                      0.002263                        0.0   \n",
       "        BAU_1                         0.002439                        0.0   \n",
       "        BAU_FS1                       0.002451                        0.0   \n",
       "\n",
       "                  Relative_speciesInterminglingIndex  \\\n",
       "id year regime                                         \n",
       "5  2017 BAU_0                               0.002601   \n",
       "        BAU_0_p1                            0.002602   \n",
       "        BAU_0_p2                            0.002601   \n",
       "        BAU_1                               0.002602   \n",
       "        BAU_FS1                             0.002601   \n",
       "\n",
       "                  Relative_ShannonIndexSpecies  \\\n",
       "id year regime                                   \n",
       "5  2017 BAU_0                         0.002736   \n",
       "        BAU_0_p1                      0.002736   \n",
       "        BAU_0_p2                      0.002736   \n",
       "        BAU_1                         0.002736   \n",
       "        BAU_FS1                       0.002736   \n",
       "\n",
       "                  Relative_ShannonIndexTreeHeight  Relative_standingVolume  \\\n",
       "id year regime                                                               \n",
       "5  2017 BAU_0                            0.005434                 0.000419   \n",
       "        BAU_0_p1                         0.005430                 0.000419   \n",
       "        BAU_0_p2                         0.005435                 0.000532   \n",
       "        BAU_1                            0.005438                 0.000420   \n",
       "        BAU_FS1                          0.005435                 0.000420   \n",
       "\n",
       "                  Relative_TotalLivingCarbon  Relative_pnvDeviation  \n",
       "id year regime                                                       \n",
       "5  2017 BAU_0                       0.000470               0.000548  \n",
       "        BAU_0_p1                    0.000470               0.000531  \n",
       "        BAU_0_p2                    0.000598               0.000644  \n",
       "        BAU_1                       0.000471               0.000548  \n",
       "        BAU_FS1                     0.000470               0.000549  \n",
       "\n",
       "[5 rows x 159 columns]"
      ]
     },
     "execution_count": 37,
     "metadata": {},
     "output_type": "execute_result"
    }
   ],
   "source": [
    "mfo.data.head()"
   ]
  },
  {
   "cell_type": "markdown",
   "metadata": {},
   "source": [
    "## Objectives"
   ]
  },
  {
   "cell_type": "markdown",
   "metadata": {},
   "source": [
    "### FS - Forest Strategy"
   ]
  },
  {
   "cell_type": "code",
   "execution_count": 38,
   "metadata": {},
   "outputs": [],
   "source": [
    "if scenario == 'FS':\n",
    "    \n",
    "    objectives_abs = {\n",
    "        \"HarvestedVolume\": [\"Sum of extracted volume (maximize, m3/ha) (4)\",\"HarvestedVolume\",\n",
    "                            \"max\",\"min\",\"areaWeightedAverage\"],\n",
    "        \"AnnualIncrement\": [\"Annual increment of standing volume (maximimze, m3/ha/year) (4)\",\"AnnualIncrement\",\n",
    "                            \"max\",\"min\",\"areaWeightedAverage\"],\n",
    "        \"CteStandingVolume\" : [\"Standing volume must be maintained ct. (4)\", \"Relative_standingVolume\",\n",
    "                             \"max\", \"minYearlyIncrease\", \"areaWeightedAverage\"],\n",
    "        \"EnergyWood\" : [\"Energy Wood for industry must be maintained ct. (3)\", \"energyProds\", \n",
    "                       \"max\", \"minYearlyIncrease\", \"sum\"],\n",
    "        \"totalCarbonBalance\" : [\"carbon balance must be constant or maximized (2)\", \"CarbonBalance\",\n",
    "                             \"max\", \"min\", \"sum\"]  \n",
    "    }\n",
    "    objectives_rel = {\n",
    "        \"speciesProfileIndex\": [\"Species profile index (Pretzsch) (maximize the mean) (2)\",\"speciesProfileIndex\",\n",
    "                             \"max\",\"average\",\"areaWeightedAverage\"],                           \n",
    "        \"ShannonIndexSpecies\": [\"Shannon index of species (maximize the mean) (2)\",\"ShannonIndexSpecies\",\n",
    "                            \"max\",\"average\",\"areaWeightedAverage\"],\n",
    "        \"RiskStormBB\" :[\"Risk of storms and Bark Beetel (minimize the maximum risk) (2)\", \"Relative_stormBBRisk\", \n",
    "                       \"min\", \"max\",\"areaWeightedAverage\"],\n",
    "        \"RecreationAsth\" : [\"Recreation and Aesthetics maximize the mean) (4)\", \"RecreationAndAesthetics\",\n",
    "                           \"max\", \"average\", \"areaWeightedAverage\"],\n",
    "        \"Biodiveristy\": [\"Biodiversity fuzzy indicator (mantain ct, evenflow) (4)\", \"Biodiversity\", \n",
    "                             \"max\", \"average\", \"areaWeightedAverage\"],\n",
    "        \"CrownCoverage\":[\"Mean Crown coverage must be maintened (minimize change, evenflow) (4)\",\"covered_area_per\",\n",
    "                         \"max\", \"min\", \"areaWeightedAverage\"],\n",
    "    }\n",
    "\n",
    "    objectives = {\n",
    "        **objectives_abs,\n",
    "        **objectives_rel,\n",
    "    }\n",
    "    "
   ]
  },
  {
   "cell_type": "markdown",
   "metadata": {},
   "source": [
    "### BDS - Biodiversity Strategy"
   ]
  },
  {
   "cell_type": "code",
   "execution_count": 39,
   "metadata": {},
   "outputs": [],
   "source": [
    "if scenario == 'BDS':\n",
    "    objectives_abs = {\n",
    "    \"totalCarbonBalance\" : [\"carbon balance must be constant or increase (4)\", \"CarbonBalance\",\n",
    "                         \"max\", \"average\", \"areaWeightedAverage\"]\n",
    "    }\n",
    "    objectives_rel = {\n",
    "    \"relative_LivingCarbon\": [\"Living carbon stored in Forests must increase by 5% by 2020 (10% relative to 2007 values) (4)\", \"Relative_TotalLivingCarbon\",\n",
    "                                \"max\",\"targetYearWithSlope\",\"sum\", 2020],\n",
    "    \"speciesProfileIndex\": [\"Species profile index (Pretzsch) (max over all years)  (4)\",\"speciesProfileIndex\",\n",
    "                         \"max\",\"average\",\"areaWeightedAverage\"],  \n",
    "    \"ShannonIndexSpecies\": [\"Shannon index of species (max over all years) (4)\",\"ShannonIndexSpecies\",\n",
    "                        \"max\",\"average\",\"areaWeightedAverage\"],\n",
    "    \"Biodiveristy\": [\"Biodiversity fuzzy indicator (maximum over all years) (4)\", \"Biodiversity\", \n",
    "                         \"max\", \"average\", \"areaWeightedAverage\"],\n",
    "\n",
    "    }\n",
    "    objectives_SA = {\n",
    " \n",
    "     \"Ratio_SA_forests\": [\"Ratio of protected areas (%, SA forests) (1)\",\n",
    "                         \"SA_forests\",\n",
    "                         \"max\",\"firstYear\",\"areaWeightedAverage\"]  \n",
    "    }\n",
    "    objectives = {\n",
    "        **objectives_SA,\n",
    "        **objectives_abs,\n",
    "        **objectives_rel,\n",
    "    }\n",
    "    objectives.update(\n",
    "        {\"pnvDeviation\": [\"deviation from potential natural vegetation (min over all years) (4)\",\"pnvDeviation\",\n",
    "        \"min\",\"max\",\"areaWeightedAverage\"],\n",
    "        }\n",
    "    )\n",
    "    "
   ]
  },
  {
   "cell_type": "markdown",
   "metadata": {},
   "source": [
    "### BES - Bioeconomy Strategy"
   ]
  },
  {
   "cell_type": "code",
   "execution_count": 40,
   "metadata": {},
   "outputs": [],
   "source": [
    "if scenario == 'BES':\n",
    "    \n",
    "    objectives_abs = {\n",
    "        \n",
    "    \"energyproducts\": [\"remaning products for energy use (maximize) (4)\", \"energyProds\",\n",
    "                        \"max\",\"min\",\"sum\"],\n",
    "    \"PulpWood\" : [\"wood products for industry (maximize)  (4)\", \"PulpWood\",\n",
    "                        \"max\",\"min\",\"sum\"],\n",
    "    \"totalCarbonBalance\" : [\"carbon balance must be constant or increase (2)\", \"CarbonBalance\",\n",
    "                         \"max\", \"average\", \"sum\"],\n",
    "    \"SawTimberProduction\" : [\"timber production max  (4)\", \"SawTimber\",\n",
    "                         \"max\", \"min\", \"sum\"],\n",
    "\n",
    "    }\n",
    "    objectives_rel = {\n",
    "        \n",
    "     \"Biodiversity\": [\"Biodiversity fuzzy indicator (maximum over all years) (1)\", \"Biodiversity\", \n",
    "                    \"max\", \"min\", \"areaWeightedAverage\"],\n",
    "     \"CrownCoverage\":[\"Mean Crown coverage must be maintened cte (1)\",\"covered_area_per\",\n",
    "                     \"max\", \"min\", \"areaWeightedAverage\"],\n",
    "    }\n",
    "    objectives = {\n",
    "        **objectives_abs,\n",
    "        **objectives_rel,\n",
    "    }\n",
    "    "
   ]
  },
  {
   "cell_type": "code",
   "execution_count": 41,
   "metadata": {},
   "outputs": [
    {
     "data": {
      "text/plain": [
       "{'energyproducts': ['remaning products for energy use (maximize) (4)',\n",
       "  'energyProds',\n",
       "  'max',\n",
       "  'min',\n",
       "  'sum'],\n",
       " 'PulpWood': ['wood products for industry (maximize)  (4)',\n",
       "  'PulpWood',\n",
       "  'max',\n",
       "  'min',\n",
       "  'sum'],\n",
       " 'totalCarbonBalance': ['carbon balance must be constant or increase (2)',\n",
       "  'CarbonBalance',\n",
       "  'max',\n",
       "  'average',\n",
       "  'sum'],\n",
       " 'SawTimberProduction': ['timber production max  (4)',\n",
       "  'SawTimber',\n",
       "  'max',\n",
       "  'min',\n",
       "  'sum'],\n",
       " 'Biodiversity': ['Biodiversity fuzzy indicator (maximum over all years) (1)',\n",
       "  'Biodiversity',\n",
       "  'max',\n",
       "  'min',\n",
       "  'areaWeightedAverage'],\n",
       " 'CrownCoverage': ['Mean Crown coverage must be maintened cte (1)',\n",
       "  'covered_area_per',\n",
       "  'max',\n",
       "  'min',\n",
       "  'areaWeightedAverage']}"
      ]
     },
     "execution_count": 41,
     "metadata": {},
     "output_type": "execute_result"
    }
   ],
   "source": [
    "objectives"
   ]
  },
  {
   "cell_type": "code",
   "execution_count": 42,
   "metadata": {
    "scrolled": true
   },
   "outputs": [
    {
     "data": {
      "text/plain": [
       "'Defining objectives'"
      ]
     },
     "metadata": {},
     "output_type": "display_data"
    },
    {
     "data": {
      "text/plain": [
       "'Aggregating stand wise'"
      ]
     },
     "metadata": {},
     "output_type": "display_data"
    },
    {
     "name": "stderr",
     "output_type": "stream",
     "text": [
      "100%|██████████| 6/6 [00:12<00:00,  2.10s/it]\n"
     ]
    },
    {
     "data": {
      "text/plain": [
       "'Aggregating year wise'"
      ]
     },
     "metadata": {},
     "output_type": "display_data"
    },
    {
     "name": "stdout",
     "output_type": "stream",
     "text": [
      "100%|██████████| 6/6 [00:00<00:00, 3531.05it/s]\n"
     ]
    },
    {
     "data": {
      "text/plain": [
       "'Objectives added'"
      ]
     },
     "metadata": {},
     "output_type": "display_data"
    }
   ],
   "source": [
    "mfo.defineObjectives(objectives)"
   ]
  },
  {
   "cell_type": "markdown",
   "metadata": {},
   "source": [
    "## Define Enabled Constrains\n"
   ]
  },
  {
   "cell_type": "code",
   "execution_count": 43,
   "metadata": {},
   "outputs": [],
   "source": [
    "NotCCregimes = [regime for regime in mfo.regimes if \"BAU\" not in regime] "
   ]
  },
  {
   "cell_type": "code",
   "execution_count": 44,
   "metadata": {},
   "outputs": [
    {
     "data": {
      "text/plain": [
       "['CCF_P1', 'CCF_P2', 'CCF_P3', 'CCF_P3_p1', 'CCF_P3_p2', 'CCF_STATE', 'NOT']"
      ]
     },
     "execution_count": 44,
     "metadata": {},
     "output_type": "execute_result"
    }
   ],
   "source": [
    "NotCCregimes"
   ]
  },
  {
   "cell_type": "markdown",
   "metadata": {},
   "source": [
    "Constraint format:\n",
    "\n",
    "- Shortname: \"constraint type\",\"allowed regimes\",\"human readable name\",(regimes),\"column in data\")"
   ]
  },
  {
   "cell_type": "code",
   "execution_count": 45,
   "metadata": {},
   "outputs": [],
   "source": [
    "constraintTypes = {\"NoCC_Prot\":[\"Allowed regimes\",\"NO CleatCut on protected land\",NotCCregimes,\"protected\"],\n",
    "                   \"NoCC_State\":[\"Allowed regimes\",\"NO CleatCut on state forest\",NotCCregimes,\"stateForest\"]}"
   ]
  },
  {
   "cell_type": "code",
   "execution_count": 46,
   "metadata": {},
   "outputs": [],
   "source": [
    "mfo.defineConstraints(constraintTypes)"
   ]
  },
  {
   "cell_type": "markdown",
   "metadata": {},
   "source": [
    "## Calculate objective ranges"
   ]
  },
  {
   "cell_type": "markdown",
   "metadata": {},
   "source": [
    "You can run the following function twice to improve ranges accuracy.\n",
    "\n",
    "Especially, if some objectives get as lowerbounds 0:s, then it makes sense to reoptimize"
   ]
  },
  {
   "cell_type": "code",
   "execution_count": 47,
   "metadata": {
    "scrolled": false
   },
   "outputs": [
    {
     "data": {
      "text/plain": [
       "'Calculating objective ranges'"
      ]
     },
     "metadata": {},
     "output_type": "display_data"
    },
    {
     "name": "stdout",
     "output_type": "stream",
     "text": [
      "\r",
      "  0%|          | 0/6 [00:00<?, ?it/s]"
     ]
    },
    {
     "data": {
      "text/plain": [
       "'Optimizing for remaning products for energy use (maximize) (4)'"
      ]
     },
     "metadata": {},
     "output_type": "display_data"
    },
    {
     "data": {
      "text/plain": [
       "'Found an optimal solution in 1 seconds'"
      ]
     },
     "metadata": {},
     "output_type": "display_data"
    },
    {
     "data": {
      "text/plain": [
       "'Objective values are:'"
      ]
     },
     "metadata": {},
     "output_type": "display_data"
    },
    {
     "data": {
      "text/plain": [
       "'remaning products for energy use (maximize) (4)'"
      ]
     },
     "metadata": {},
     "output_type": "display_data"
    },
    {
     "data": {
      "text/plain": [
       "2361212.307142573"
      ]
     },
     "metadata": {},
     "output_type": "display_data"
    },
    {
     "data": {
      "text/plain": [
       "'wood products for industry (maximize)  (4)'"
      ]
     },
     "metadata": {},
     "output_type": "display_data"
    },
    {
     "data": {
      "text/plain": [
       "0.0"
      ]
     },
     "metadata": {},
     "output_type": "display_data"
    },
    {
     "data": {
      "text/plain": [
       "'carbon balance must be constant or increase (2)'"
      ]
     },
     "metadata": {},
     "output_type": "display_data"
    },
    {
     "data": {
      "text/plain": [
       "1119353.6547069694"
      ]
     },
     "metadata": {},
     "output_type": "display_data"
    },
    {
     "data": {
      "text/plain": [
       "'timber production max  (4)'"
      ]
     },
     "metadata": {},
     "output_type": "display_data"
    },
    {
     "data": {
      "text/plain": [
       "0.0"
      ]
     },
     "metadata": {},
     "output_type": "display_data"
    },
    {
     "data": {
      "text/plain": [
       "'Biodiversity fuzzy indicator (maximum over all years) (1)'"
      ]
     },
     "metadata": {},
     "output_type": "display_data"
    },
    {
     "data": {
      "text/plain": [
       "0.0"
      ]
     },
     "metadata": {},
     "output_type": "display_data"
    },
    {
     "data": {
      "text/plain": [
       "'Mean Crown coverage must be maintened cte (1)'"
      ]
     },
     "metadata": {},
     "output_type": "display_data"
    },
    {
     "data": {
      "text/plain": [
       "0.0"
      ]
     },
     "metadata": {},
     "output_type": "display_data"
    },
    {
     "name": "stdout",
     "output_type": "stream",
     "text": [
      "\r",
      " 17%|█▋        | 1/6 [00:02<00:12,  2.52s/it]"
     ]
    },
    {
     "data": {
      "text/plain": [
       "'Optimizing for wood products for industry (maximize)  (4)'"
      ]
     },
     "metadata": {},
     "output_type": "display_data"
    },
    {
     "data": {
      "text/plain": [
       "'Found an optimal solution in 0 seconds'"
      ]
     },
     "metadata": {},
     "output_type": "display_data"
    },
    {
     "data": {
      "text/plain": [
       "'Objective values are:'"
      ]
     },
     "metadata": {},
     "output_type": "display_data"
    },
    {
     "data": {
      "text/plain": [
       "'remaning products for energy use (maximize) (4)'"
      ]
     },
     "metadata": {},
     "output_type": "display_data"
    },
    {
     "data": {
      "text/plain": [
       "0.0"
      ]
     },
     "metadata": {},
     "output_type": "display_data"
    },
    {
     "data": {
      "text/plain": [
       "'wood products for industry (maximize)  (4)'"
      ]
     },
     "metadata": {},
     "output_type": "display_data"
    },
    {
     "data": {
      "text/plain": [
       "31114853.024796322"
      ]
     },
     "metadata": {},
     "output_type": "display_data"
    },
    {
     "data": {
      "text/plain": [
       "'carbon balance must be constant or increase (2)'"
      ]
     },
     "metadata": {},
     "output_type": "display_data"
    },
    {
     "data": {
      "text/plain": [
       "-80627.01458546339"
      ]
     },
     "metadata": {},
     "output_type": "display_data"
    },
    {
     "data": {
      "text/plain": [
       "'timber production max  (4)'"
      ]
     },
     "metadata": {},
     "output_type": "display_data"
    },
    {
     "data": {
      "text/plain": [
       "0.0"
      ]
     },
     "metadata": {},
     "output_type": "display_data"
    },
    {
     "data": {
      "text/plain": [
       "'Biodiversity fuzzy indicator (maximum over all years) (1)'"
      ]
     },
     "metadata": {},
     "output_type": "display_data"
    },
    {
     "data": {
      "text/plain": [
       "0.0"
      ]
     },
     "metadata": {},
     "output_type": "display_data"
    },
    {
     "data": {
      "text/plain": [
       "'Mean Crown coverage must be maintened cte (1)'"
      ]
     },
     "metadata": {},
     "output_type": "display_data"
    },
    {
     "data": {
      "text/plain": [
       "0.0"
      ]
     },
     "metadata": {},
     "output_type": "display_data"
    },
    {
     "name": "stdout",
     "output_type": "stream",
     "text": [
      "\r",
      " 33%|███▎      | 2/6 [00:04<00:09,  2.30s/it]"
     ]
    },
    {
     "data": {
      "text/plain": [
       "'Optimizing for carbon balance must be constant or increase (2)'"
      ]
     },
     "metadata": {},
     "output_type": "display_data"
    },
    {
     "data": {
      "text/plain": [
       "'Found an optimal solution in 0 seconds'"
      ]
     },
     "metadata": {},
     "output_type": "display_data"
    },
    {
     "data": {
      "text/plain": [
       "'Objective values are:'"
      ]
     },
     "metadata": {},
     "output_type": "display_data"
    },
    {
     "data": {
      "text/plain": [
       "'remaning products for energy use (maximize) (4)'"
      ]
     },
     "metadata": {},
     "output_type": "display_data"
    },
    {
     "data": {
      "text/plain": [
       "0.0"
      ]
     },
     "metadata": {},
     "output_type": "display_data"
    },
    {
     "data": {
      "text/plain": [
       "'wood products for industry (maximize)  (4)'"
      ]
     },
     "metadata": {},
     "output_type": "display_data"
    },
    {
     "data": {
      "text/plain": [
       "0.0"
      ]
     },
     "metadata": {},
     "output_type": "display_data"
    },
    {
     "data": {
      "text/plain": [
       "'carbon balance must be constant or increase (2)'"
      ]
     },
     "metadata": {},
     "output_type": "display_data"
    },
    {
     "data": {
      "text/plain": [
       "3078344.269150001"
      ]
     },
     "metadata": {},
     "output_type": "display_data"
    },
    {
     "data": {
      "text/plain": [
       "'timber production max  (4)'"
      ]
     },
     "metadata": {},
     "output_type": "display_data"
    },
    {
     "data": {
      "text/plain": [
       "0.0"
      ]
     },
     "metadata": {},
     "output_type": "display_data"
    },
    {
     "data": {
      "text/plain": [
       "'Biodiversity fuzzy indicator (maximum over all years) (1)'"
      ]
     },
     "metadata": {},
     "output_type": "display_data"
    },
    {
     "data": {
      "text/plain": [
       "0.0"
      ]
     },
     "metadata": {},
     "output_type": "display_data"
    },
    {
     "data": {
      "text/plain": [
       "'Mean Crown coverage must be maintened cte (1)'"
      ]
     },
     "metadata": {},
     "output_type": "display_data"
    },
    {
     "data": {
      "text/plain": [
       "0.0"
      ]
     },
     "metadata": {},
     "output_type": "display_data"
    },
    {
     "name": "stdout",
     "output_type": "stream",
     "text": [
      "\r",
      " 50%|█████     | 3/6 [00:05<00:05,  1.95s/it]"
     ]
    },
    {
     "data": {
      "text/plain": [
       "'Optimizing for timber production max  (4)'"
      ]
     },
     "metadata": {},
     "output_type": "display_data"
    },
    {
     "data": {
      "text/plain": [
       "'Found an optimal solution in 1 seconds'"
      ]
     },
     "metadata": {},
     "output_type": "display_data"
    },
    {
     "data": {
      "text/plain": [
       "'Objective values are:'"
      ]
     },
     "metadata": {},
     "output_type": "display_data"
    },
    {
     "data": {
      "text/plain": [
       "'remaning products for energy use (maximize) (4)'"
      ]
     },
     "metadata": {},
     "output_type": "display_data"
    },
    {
     "data": {
      "text/plain": [
       "0.0"
      ]
     },
     "metadata": {},
     "output_type": "display_data"
    },
    {
     "data": {
      "text/plain": [
       "'wood products for industry (maximize)  (4)'"
      ]
     },
     "metadata": {},
     "output_type": "display_data"
    },
    {
     "data": {
      "text/plain": [
       "0.0"
      ]
     },
     "metadata": {},
     "output_type": "display_data"
    },
    {
     "data": {
      "text/plain": [
       "'carbon balance must be constant or increase (2)'"
      ]
     },
     "metadata": {},
     "output_type": "display_data"
    },
    {
     "data": {
      "text/plain": [
       "1048277.5373541224"
      ]
     },
     "metadata": {},
     "output_type": "display_data"
    },
    {
     "data": {
      "text/plain": [
       "'timber production max  (4)'"
      ]
     },
     "metadata": {},
     "output_type": "display_data"
    },
    {
     "data": {
      "text/plain": [
       "108956578.75617166"
      ]
     },
     "metadata": {},
     "output_type": "display_data"
    },
    {
     "data": {
      "text/plain": [
       "'Biodiversity fuzzy indicator (maximum over all years) (1)'"
      ]
     },
     "metadata": {},
     "output_type": "display_data"
    },
    {
     "data": {
      "text/plain": [
       "0.0"
      ]
     },
     "metadata": {},
     "output_type": "display_data"
    },
    {
     "data": {
      "text/plain": [
       "'Mean Crown coverage must be maintened cte (1)'"
      ]
     },
     "metadata": {},
     "output_type": "display_data"
    },
    {
     "data": {
      "text/plain": [
       "0.0"
      ]
     },
     "metadata": {},
     "output_type": "display_data"
    },
    {
     "name": "stdout",
     "output_type": "stream",
     "text": [
      "\r",
      " 67%|██████▋   | 4/6 [00:07<00:03,  1.93s/it]"
     ]
    },
    {
     "data": {
      "text/plain": [
       "'Optimizing for Biodiversity fuzzy indicator (maximum over all years) (1)'"
      ]
     },
     "metadata": {},
     "output_type": "display_data"
    },
    {
     "data": {
      "text/plain": [
       "'Found an optimal solution in 0 seconds'"
      ]
     },
     "metadata": {},
     "output_type": "display_data"
    },
    {
     "data": {
      "text/plain": [
       "'Objective values are:'"
      ]
     },
     "metadata": {},
     "output_type": "display_data"
    },
    {
     "data": {
      "text/plain": [
       "'remaning products for energy use (maximize) (4)'"
      ]
     },
     "metadata": {},
     "output_type": "display_data"
    },
    {
     "data": {
      "text/plain": [
       "0.0"
      ]
     },
     "metadata": {},
     "output_type": "display_data"
    },
    {
     "data": {
      "text/plain": [
       "'wood products for industry (maximize)  (4)'"
      ]
     },
     "metadata": {},
     "output_type": "display_data"
    },
    {
     "data": {
      "text/plain": [
       "0.0"
      ]
     },
     "metadata": {},
     "output_type": "display_data"
    },
    {
     "data": {
      "text/plain": [
       "'carbon balance must be constant or increase (2)'"
      ]
     },
     "metadata": {},
     "output_type": "display_data"
    },
    {
     "data": {
      "text/plain": [
       "1106117.75115514"
      ]
     },
     "metadata": {},
     "output_type": "display_data"
    },
    {
     "data": {
      "text/plain": [
       "'timber production max  (4)'"
      ]
     },
     "metadata": {},
     "output_type": "display_data"
    },
    {
     "data": {
      "text/plain": [
       "0.0"
      ]
     },
     "metadata": {},
     "output_type": "display_data"
    },
    {
     "data": {
      "text/plain": [
       "'Biodiversity fuzzy indicator (maximum over all years) (1)'"
      ]
     },
     "metadata": {},
     "output_type": "display_data"
    },
    {
     "data": {
      "text/plain": [
       "0.30344913449476985"
      ]
     },
     "metadata": {},
     "output_type": "display_data"
    },
    {
     "data": {
      "text/plain": [
       "'Mean Crown coverage must be maintened cte (1)'"
      ]
     },
     "metadata": {},
     "output_type": "display_data"
    },
    {
     "data": {
      "text/plain": [
       "0.0"
      ]
     },
     "metadata": {},
     "output_type": "display_data"
    },
    {
     "name": "stdout",
     "output_type": "stream",
     "text": [
      "\r",
      " 83%|████████▎ | 5/6 [00:09<00:01,  1.86s/it]"
     ]
    },
    {
     "data": {
      "text/plain": [
       "'Optimizing for Mean Crown coverage must be maintened cte (1)'"
      ]
     },
     "metadata": {},
     "output_type": "display_data"
    },
    {
     "data": {
      "text/plain": [
       "'Found an optimal solution in 0 seconds'"
      ]
     },
     "metadata": {},
     "output_type": "display_data"
    },
    {
     "data": {
      "text/plain": [
       "'Objective values are:'"
      ]
     },
     "metadata": {},
     "output_type": "display_data"
    },
    {
     "data": {
      "text/plain": [
       "'remaning products for energy use (maximize) (4)'"
      ]
     },
     "metadata": {},
     "output_type": "display_data"
    },
    {
     "data": {
      "text/plain": [
       "0.0"
      ]
     },
     "metadata": {},
     "output_type": "display_data"
    },
    {
     "data": {
      "text/plain": [
       "'wood products for industry (maximize)  (4)'"
      ]
     },
     "metadata": {},
     "output_type": "display_data"
    },
    {
     "data": {
      "text/plain": [
       "0.0"
      ]
     },
     "metadata": {},
     "output_type": "display_data"
    },
    {
     "data": {
      "text/plain": [
       "'carbon balance must be constant or increase (2)'"
      ]
     },
     "metadata": {},
     "output_type": "display_data"
    },
    {
     "data": {
      "text/plain": [
       "1436303.5855872093"
      ]
     },
     "metadata": {},
     "output_type": "display_data"
    },
    {
     "data": {
      "text/plain": [
       "'timber production max  (4)'"
      ]
     },
     "metadata": {},
     "output_type": "display_data"
    },
    {
     "data": {
      "text/plain": [
       "0.0"
      ]
     },
     "metadata": {},
     "output_type": "display_data"
    },
    {
     "data": {
      "text/plain": [
       "'Biodiversity fuzzy indicator (maximum over all years) (1)'"
      ]
     },
     "metadata": {},
     "output_type": "display_data"
    },
    {
     "data": {
      "text/plain": [
       "0.0"
      ]
     },
     "metadata": {},
     "output_type": "display_data"
    },
    {
     "data": {
      "text/plain": [
       "'Mean Crown coverage must be maintened cte (1)'"
      ]
     },
     "metadata": {},
     "output_type": "display_data"
    },
    {
     "data": {
      "text/plain": [
       "67.98506882344806"
      ]
     },
     "metadata": {},
     "output_type": "display_data"
    },
    {
     "name": "stdout",
     "output_type": "stream",
     "text": [
      "100%|██████████| 6/6 [00:10<00:00,  1.75s/it]\n",
      "CPU times: user 9.01 s, sys: 968 ms, total: 9.98 s\n",
      "Wall time: 10.5 s\n"
     ]
    }
   ],
   "source": [
    "%%time\n",
    "mfo.calculateObjectiveRanges(debug=True)"
   ]
  },
  {
   "cell_type": "code",
   "execution_count": 48,
   "metadata": {},
   "outputs": [
    {
     "data": {
      "text/plain": [
       "{'energyproducts': (0.0, 2361212.307142573),\n",
       " 'PulpWood': (0.0, 31114853.024796322),\n",
       " 'totalCarbonBalance': (-80627.01458546339, 3078344.269150001),\n",
       " 'SawTimberProduction': (0.0, 108956578.75617166),\n",
       " 'Biodiversity': (0.0, 0.30344913449476985),\n",
       " 'CrownCoverage': (0.0, 67.98506882344806)}"
      ]
     },
     "execution_count": 48,
     "metadata": {},
     "output_type": "execute_result"
    }
   ],
   "source": [
    "mfo.objectiveRanges"
   ]
  },
  {
   "cell_type": "markdown",
   "metadata": {},
   "source": [
    "## Show GUI"
   ]
  },
  {
   "cell_type": "markdown",
   "metadata": {},
   "source": [
    "- If \"Enabled constraints\" should be considered, start with ticking box \"NO ClearCut on...\" and push \"Change constraints\"\n",
    "- Epsilon constraints are only considered if sliders are moved and button \"Set epsilon constraints\" is pushed\n",
    "- By pushing \"OPTIMIZE\" an optimal solution under the given constraints and reference points is searched\n",
    "\n",
    "<b>SEE example figure below for scenario BES</b>"
   ]
  },
  {
   "cell_type": "markdown",
   "metadata": {},
   "source": [
    "![image](./MFGUIExampleGER.PNG)"
   ]
  },
  {
   "cell_type": "code",
   "execution_count": 49,
   "metadata": {
    "scrolled": false
   },
   "outputs": [
    {
     "data": {
      "text/html": [
       "<style>\n",
       "            .widget-label { min-width: 60% !important; }\n",
       "        </style>"
      ],
      "text/plain": [
       "<IPython.core.display.HTML object>"
      ]
     },
     "metadata": {},
     "output_type": "display_data"
    },
    {
     "data": {
      "text/html": [
       "<h2>Epsilon constraint values</h2>"
      ],
      "text/plain": [
       "<IPython.core.display.HTML object>"
      ]
     },
     "metadata": {},
     "output_type": "display_data"
    },
    {
     "data": {
      "application/vnd.jupyter.widget-view+json": {
       "model_id": "ee4f3aa3d4ab44da84a00d84a8f9101a",
       "version_major": 2,
       "version_minor": 0
      },
      "text/plain": [
       "interactive(children=(FloatSlider(value=0.0, description='remaning products for energy use (maximize) (4)', la…"
      ]
     },
     "metadata": {},
     "output_type": "display_data"
    },
    {
     "data": {
      "text/html": [
       "<h2>Reference point</h2>"
      ],
      "text/plain": [
       "<IPython.core.display.HTML object>"
      ]
     },
     "metadata": {},
     "output_type": "display_data"
    },
    {
     "data": {
      "application/vnd.jupyter.widget-view+json": {
       "model_id": "bf3cfab4615640d4877c6d877145d3b1",
       "version_major": 2,
       "version_minor": 0
      },
      "text/plain": [
       "interactive(children=(FloatSlider(value=1180606.1535712865, description='remaning products for energy use (max…"
      ]
     },
     "metadata": {},
     "output_type": "display_data"
    },
    {
     "data": {
      "text/html": [
       "<h2>Enabled constraints</h2>"
      ],
      "text/plain": [
       "<IPython.core.display.HTML object>"
      ]
     },
     "metadata": {},
     "output_type": "display_data"
    },
    {
     "data": {
      "application/vnd.jupyter.widget-view+json": {
       "model_id": "fc4302520929409a9e561e91d42b8b2b",
       "version_major": 2,
       "version_minor": 0
      },
      "text/plain": [
       "interactive(children=(Checkbox(value=False, description='NO CleatCut on protected land'), Checkbox(value=False…"
      ]
     },
     "metadata": {},
     "output_type": "display_data"
    },
    {
     "data": {
      "application/vnd.jupyter.widget-view+json": {
       "model_id": "555fdaeb839f436c87a869a6c9e10316",
       "version_major": 2,
       "version_minor": 0
      },
      "text/plain": [
       "Button(description='Print solution', style=ButtonStyle())"
      ]
     },
     "metadata": {},
     "output_type": "display_data"
    }
   ],
   "source": [
    "mfo.showGUI(debug=True)"
   ]
  },
  {
   "cell_type": "markdown",
   "metadata": {},
   "source": [
    "## Visualization of optimal solution"
   ]
  },
  {
   "cell_type": "code",
   "execution_count": 50,
   "metadata": {},
   "outputs": [],
   "source": [
    "regimeAmounts = {regime:0 for regime in mfo.regimes}\n",
    "for key in mfo.regimesDecision.keys():\n",
    "    regimeAmounts[key[1]] +=mfo.regimesDecision[key].solution_value()*mfo.standAreas.loc[key[0],\"represented_area_by_NFIplot\"]/mfo.standAreas[\"represented_area_by_NFIplot\"].sum()"
   ]
  },
  {
   "cell_type": "code",
   "execution_count": 51,
   "metadata": {
    "scrolled": false
   },
   "outputs": [
    {
     "name": "stdout",
     "output_type": "stream",
     "text": [
      "Populating the interactive namespace from numpy and matplotlib\n"
     ]
    }
   ],
   "source": [
    "%pylab notebook"
   ]
  },
  {
   "cell_type": "code",
   "execution_count": 52,
   "metadata": {
    "scrolled": true
   },
   "outputs": [
    {
     "data": {
      "text/plain": [
       "[0.008181740414840046,\n",
       " 0.017665689580041055,\n",
       " 0.0871816652831981,\n",
       " 0.020468534144159275,\n",
       " 0.024299599870473396,\n",
       " 0.014536307275591966,\n",
       " 0.006111974206542557,\n",
       " 0.08609590324109702,\n",
       " 0.0034483322265892943,\n",
       " 0.0031633577403190364,\n",
       " 0.00679059160938241,\n",
       " 0.11076135952060352,\n",
       " 0.31936034761938575,\n",
       " 0.0012806583809465545,\n",
       " 0.2906539388868299]"
      ]
     },
     "execution_count": 52,
     "metadata": {},
     "output_type": "execute_result"
    }
   ],
   "source": [
    "[val for val in regimeAmounts.values()]"
   ]
  },
  {
   "cell_type": "code",
   "execution_count": 53,
   "metadata": {
    "scrolled": false
   },
   "outputs": [
    {
     "data": {
      "application/javascript": [
       "/* Put everything inside the global mpl namespace */\n",
       "window.mpl = {};\n",
       "\n",
       "\n",
       "mpl.get_websocket_type = function() {\n",
       "    if (typeof(WebSocket) !== 'undefined') {\n",
       "        return WebSocket;\n",
       "    } else if (typeof(MozWebSocket) !== 'undefined') {\n",
       "        return MozWebSocket;\n",
       "    } else {\n",
       "        alert('Your browser does not have WebSocket support. ' +\n",
       "              'Please try Chrome, Safari or Firefox ≥ 6. ' +\n",
       "              'Firefox 4 and 5 are also supported but you ' +\n",
       "              'have to enable WebSockets in about:config.');\n",
       "    };\n",
       "}\n",
       "\n",
       "mpl.figure = function(figure_id, websocket, ondownload, parent_element) {\n",
       "    this.id = figure_id;\n",
       "\n",
       "    this.ws = websocket;\n",
       "\n",
       "    this.supports_binary = (this.ws.binaryType != undefined);\n",
       "\n",
       "    if (!this.supports_binary) {\n",
       "        var warnings = document.getElementById(\"mpl-warnings\");\n",
       "        if (warnings) {\n",
       "            warnings.style.display = 'block';\n",
       "            warnings.textContent = (\n",
       "                \"This browser does not support binary websocket messages. \" +\n",
       "                    \"Performance may be slow.\");\n",
       "        }\n",
       "    }\n",
       "\n",
       "    this.imageObj = new Image();\n",
       "\n",
       "    this.context = undefined;\n",
       "    this.message = undefined;\n",
       "    this.canvas = undefined;\n",
       "    this.rubberband_canvas = undefined;\n",
       "    this.rubberband_context = undefined;\n",
       "    this.format_dropdown = undefined;\n",
       "\n",
       "    this.image_mode = 'full';\n",
       "\n",
       "    this.root = $('<div/>');\n",
       "    this._root_extra_style(this.root)\n",
       "    this.root.attr('style', 'display: inline-block');\n",
       "\n",
       "    $(parent_element).append(this.root);\n",
       "\n",
       "    this._init_header(this);\n",
       "    this._init_canvas(this);\n",
       "    this._init_toolbar(this);\n",
       "\n",
       "    var fig = this;\n",
       "\n",
       "    this.waiting = false;\n",
       "\n",
       "    this.ws.onopen =  function () {\n",
       "            fig.send_message(\"supports_binary\", {value: fig.supports_binary});\n",
       "            fig.send_message(\"send_image_mode\", {});\n",
       "            if (mpl.ratio != 1) {\n",
       "                fig.send_message(\"set_dpi_ratio\", {'dpi_ratio': mpl.ratio});\n",
       "            }\n",
       "            fig.send_message(\"refresh\", {});\n",
       "        }\n",
       "\n",
       "    this.imageObj.onload = function() {\n",
       "            if (fig.image_mode == 'full') {\n",
       "                // Full images could contain transparency (where diff images\n",
       "                // almost always do), so we need to clear the canvas so that\n",
       "                // there is no ghosting.\n",
       "                fig.context.clearRect(0, 0, fig.canvas.width, fig.canvas.height);\n",
       "            }\n",
       "            fig.context.drawImage(fig.imageObj, 0, 0);\n",
       "        };\n",
       "\n",
       "    this.imageObj.onunload = function() {\n",
       "        fig.ws.close();\n",
       "    }\n",
       "\n",
       "    this.ws.onmessage = this._make_on_message_function(this);\n",
       "\n",
       "    this.ondownload = ondownload;\n",
       "}\n",
       "\n",
       "mpl.figure.prototype._init_header = function() {\n",
       "    var titlebar = $(\n",
       "        '<div class=\"ui-dialog-titlebar ui-widget-header ui-corner-all ' +\n",
       "        'ui-helper-clearfix\"/>');\n",
       "    var titletext = $(\n",
       "        '<div class=\"ui-dialog-title\" style=\"width: 100%; ' +\n",
       "        'text-align: center; padding: 3px;\"/>');\n",
       "    titlebar.append(titletext)\n",
       "    this.root.append(titlebar);\n",
       "    this.header = titletext[0];\n",
       "}\n",
       "\n",
       "\n",
       "\n",
       "mpl.figure.prototype._canvas_extra_style = function(canvas_div) {\n",
       "\n",
       "}\n",
       "\n",
       "\n",
       "mpl.figure.prototype._root_extra_style = function(canvas_div) {\n",
       "\n",
       "}\n",
       "\n",
       "mpl.figure.prototype._init_canvas = function() {\n",
       "    var fig = this;\n",
       "\n",
       "    var canvas_div = $('<div/>');\n",
       "\n",
       "    canvas_div.attr('style', 'position: relative; clear: both; outline: 0');\n",
       "\n",
       "    function canvas_keyboard_event(event) {\n",
       "        return fig.key_event(event, event['data']);\n",
       "    }\n",
       "\n",
       "    canvas_div.keydown('key_press', canvas_keyboard_event);\n",
       "    canvas_div.keyup('key_release', canvas_keyboard_event);\n",
       "    this.canvas_div = canvas_div\n",
       "    this._canvas_extra_style(canvas_div)\n",
       "    this.root.append(canvas_div);\n",
       "\n",
       "    var canvas = $('<canvas/>');\n",
       "    canvas.addClass('mpl-canvas');\n",
       "    canvas.attr('style', \"left: 0; top: 0; z-index: 0; outline: 0\")\n",
       "\n",
       "    this.canvas = canvas[0];\n",
       "    this.context = canvas[0].getContext(\"2d\");\n",
       "\n",
       "    var backingStore = this.context.backingStorePixelRatio ||\n",
       "\tthis.context.webkitBackingStorePixelRatio ||\n",
       "\tthis.context.mozBackingStorePixelRatio ||\n",
       "\tthis.context.msBackingStorePixelRatio ||\n",
       "\tthis.context.oBackingStorePixelRatio ||\n",
       "\tthis.context.backingStorePixelRatio || 1;\n",
       "\n",
       "    mpl.ratio = (window.devicePixelRatio || 1) / backingStore;\n",
       "\n",
       "    var rubberband = $('<canvas/>');\n",
       "    rubberband.attr('style', \"position: absolute; left: 0; top: 0; z-index: 1;\")\n",
       "\n",
       "    var pass_mouse_events = true;\n",
       "\n",
       "    canvas_div.resizable({\n",
       "        start: function(event, ui) {\n",
       "            pass_mouse_events = false;\n",
       "        },\n",
       "        resize: function(event, ui) {\n",
       "            fig.request_resize(ui.size.width, ui.size.height);\n",
       "        },\n",
       "        stop: function(event, ui) {\n",
       "            pass_mouse_events = true;\n",
       "            fig.request_resize(ui.size.width, ui.size.height);\n",
       "        },\n",
       "    });\n",
       "\n",
       "    function mouse_event_fn(event) {\n",
       "        if (pass_mouse_events)\n",
       "            return fig.mouse_event(event, event['data']);\n",
       "    }\n",
       "\n",
       "    rubberband.mousedown('button_press', mouse_event_fn);\n",
       "    rubberband.mouseup('button_release', mouse_event_fn);\n",
       "    // Throttle sequential mouse events to 1 every 20ms.\n",
       "    rubberband.mousemove('motion_notify', mouse_event_fn);\n",
       "\n",
       "    rubberband.mouseenter('figure_enter', mouse_event_fn);\n",
       "    rubberband.mouseleave('figure_leave', mouse_event_fn);\n",
       "\n",
       "    canvas_div.on(\"wheel\", function (event) {\n",
       "        event = event.originalEvent;\n",
       "        event['data'] = 'scroll'\n",
       "        if (event.deltaY < 0) {\n",
       "            event.step = 1;\n",
       "        } else {\n",
       "            event.step = -1;\n",
       "        }\n",
       "        mouse_event_fn(event);\n",
       "    });\n",
       "\n",
       "    canvas_div.append(canvas);\n",
       "    canvas_div.append(rubberband);\n",
       "\n",
       "    this.rubberband = rubberband;\n",
       "    this.rubberband_canvas = rubberband[0];\n",
       "    this.rubberband_context = rubberband[0].getContext(\"2d\");\n",
       "    this.rubberband_context.strokeStyle = \"#000000\";\n",
       "\n",
       "    this._resize_canvas = function(width, height) {\n",
       "        // Keep the size of the canvas, canvas container, and rubber band\n",
       "        // canvas in synch.\n",
       "        canvas_div.css('width', width)\n",
       "        canvas_div.css('height', height)\n",
       "\n",
       "        canvas.attr('width', width * mpl.ratio);\n",
       "        canvas.attr('height', height * mpl.ratio);\n",
       "        canvas.attr('style', 'width: ' + width + 'px; height: ' + height + 'px;');\n",
       "\n",
       "        rubberband.attr('width', width);\n",
       "        rubberband.attr('height', height);\n",
       "    }\n",
       "\n",
       "    // Set the figure to an initial 600x600px, this will subsequently be updated\n",
       "    // upon first draw.\n",
       "    this._resize_canvas(600, 600);\n",
       "\n",
       "    // Disable right mouse context menu.\n",
       "    $(this.rubberband_canvas).bind(\"contextmenu\",function(e){\n",
       "        return false;\n",
       "    });\n",
       "\n",
       "    function set_focus () {\n",
       "        canvas.focus();\n",
       "        canvas_div.focus();\n",
       "    }\n",
       "\n",
       "    window.setTimeout(set_focus, 100);\n",
       "}\n",
       "\n",
       "mpl.figure.prototype._init_toolbar = function() {\n",
       "    var fig = this;\n",
       "\n",
       "    var nav_element = $('<div/>');\n",
       "    nav_element.attr('style', 'width: 100%');\n",
       "    this.root.append(nav_element);\n",
       "\n",
       "    // Define a callback function for later on.\n",
       "    function toolbar_event(event) {\n",
       "        return fig.toolbar_button_onclick(event['data']);\n",
       "    }\n",
       "    function toolbar_mouse_event(event) {\n",
       "        return fig.toolbar_button_onmouseover(event['data']);\n",
       "    }\n",
       "\n",
       "    for(var toolbar_ind in mpl.toolbar_items) {\n",
       "        var name = mpl.toolbar_items[toolbar_ind][0];\n",
       "        var tooltip = mpl.toolbar_items[toolbar_ind][1];\n",
       "        var image = mpl.toolbar_items[toolbar_ind][2];\n",
       "        var method_name = mpl.toolbar_items[toolbar_ind][3];\n",
       "\n",
       "        if (!name) {\n",
       "            // put a spacer in here.\n",
       "            continue;\n",
       "        }\n",
       "        var button = $('<button/>');\n",
       "        button.addClass('ui-button ui-widget ui-state-default ui-corner-all ' +\n",
       "                        'ui-button-icon-only');\n",
       "        button.attr('role', 'button');\n",
       "        button.attr('aria-disabled', 'false');\n",
       "        button.click(method_name, toolbar_event);\n",
       "        button.mouseover(tooltip, toolbar_mouse_event);\n",
       "\n",
       "        var icon_img = $('<span/>');\n",
       "        icon_img.addClass('ui-button-icon-primary ui-icon');\n",
       "        icon_img.addClass(image);\n",
       "        icon_img.addClass('ui-corner-all');\n",
       "\n",
       "        var tooltip_span = $('<span/>');\n",
       "        tooltip_span.addClass('ui-button-text');\n",
       "        tooltip_span.html(tooltip);\n",
       "\n",
       "        button.append(icon_img);\n",
       "        button.append(tooltip_span);\n",
       "\n",
       "        nav_element.append(button);\n",
       "    }\n",
       "\n",
       "    var fmt_picker_span = $('<span/>');\n",
       "\n",
       "    var fmt_picker = $('<select/>');\n",
       "    fmt_picker.addClass('mpl-toolbar-option ui-widget ui-widget-content');\n",
       "    fmt_picker_span.append(fmt_picker);\n",
       "    nav_element.append(fmt_picker_span);\n",
       "    this.format_dropdown = fmt_picker[0];\n",
       "\n",
       "    for (var ind in mpl.extensions) {\n",
       "        var fmt = mpl.extensions[ind];\n",
       "        var option = $(\n",
       "            '<option/>', {selected: fmt === mpl.default_extension}).html(fmt);\n",
       "        fmt_picker.append(option);\n",
       "    }\n",
       "\n",
       "    // Add hover states to the ui-buttons\n",
       "    $( \".ui-button\" ).hover(\n",
       "        function() { $(this).addClass(\"ui-state-hover\");},\n",
       "        function() { $(this).removeClass(\"ui-state-hover\");}\n",
       "    );\n",
       "\n",
       "    var status_bar = $('<span class=\"mpl-message\"/>');\n",
       "    nav_element.append(status_bar);\n",
       "    this.message = status_bar[0];\n",
       "}\n",
       "\n",
       "mpl.figure.prototype.request_resize = function(x_pixels, y_pixels) {\n",
       "    // Request matplotlib to resize the figure. Matplotlib will then trigger a resize in the client,\n",
       "    // which will in turn request a refresh of the image.\n",
       "    this.send_message('resize', {'width': x_pixels, 'height': y_pixels});\n",
       "}\n",
       "\n",
       "mpl.figure.prototype.send_message = function(type, properties) {\n",
       "    properties['type'] = type;\n",
       "    properties['figure_id'] = this.id;\n",
       "    this.ws.send(JSON.stringify(properties));\n",
       "}\n",
       "\n",
       "mpl.figure.prototype.send_draw_message = function() {\n",
       "    if (!this.waiting) {\n",
       "        this.waiting = true;\n",
       "        this.ws.send(JSON.stringify({type: \"draw\", figure_id: this.id}));\n",
       "    }\n",
       "}\n",
       "\n",
       "\n",
       "mpl.figure.prototype.handle_save = function(fig, msg) {\n",
       "    var format_dropdown = fig.format_dropdown;\n",
       "    var format = format_dropdown.options[format_dropdown.selectedIndex].value;\n",
       "    fig.ondownload(fig, format);\n",
       "}\n",
       "\n",
       "\n",
       "mpl.figure.prototype.handle_resize = function(fig, msg) {\n",
       "    var size = msg['size'];\n",
       "    if (size[0] != fig.canvas.width || size[1] != fig.canvas.height) {\n",
       "        fig._resize_canvas(size[0], size[1]);\n",
       "        fig.send_message(\"refresh\", {});\n",
       "    };\n",
       "}\n",
       "\n",
       "mpl.figure.prototype.handle_rubberband = function(fig, msg) {\n",
       "    var x0 = msg['x0'] / mpl.ratio;\n",
       "    var y0 = (fig.canvas.height - msg['y0']) / mpl.ratio;\n",
       "    var x1 = msg['x1'] / mpl.ratio;\n",
       "    var y1 = (fig.canvas.height - msg['y1']) / mpl.ratio;\n",
       "    x0 = Math.floor(x0) + 0.5;\n",
       "    y0 = Math.floor(y0) + 0.5;\n",
       "    x1 = Math.floor(x1) + 0.5;\n",
       "    y1 = Math.floor(y1) + 0.5;\n",
       "    var min_x = Math.min(x0, x1);\n",
       "    var min_y = Math.min(y0, y1);\n",
       "    var width = Math.abs(x1 - x0);\n",
       "    var height = Math.abs(y1 - y0);\n",
       "\n",
       "    fig.rubberband_context.clearRect(\n",
       "        0, 0, fig.canvas.width / mpl.ratio, fig.canvas.height / mpl.ratio);\n",
       "\n",
       "    fig.rubberband_context.strokeRect(min_x, min_y, width, height);\n",
       "}\n",
       "\n",
       "mpl.figure.prototype.handle_figure_label = function(fig, msg) {\n",
       "    // Updates the figure title.\n",
       "    fig.header.textContent = msg['label'];\n",
       "}\n",
       "\n",
       "mpl.figure.prototype.handle_cursor = function(fig, msg) {\n",
       "    var cursor = msg['cursor'];\n",
       "    switch(cursor)\n",
       "    {\n",
       "    case 0:\n",
       "        cursor = 'pointer';\n",
       "        break;\n",
       "    case 1:\n",
       "        cursor = 'default';\n",
       "        break;\n",
       "    case 2:\n",
       "        cursor = 'crosshair';\n",
       "        break;\n",
       "    case 3:\n",
       "        cursor = 'move';\n",
       "        break;\n",
       "    }\n",
       "    fig.rubberband_canvas.style.cursor = cursor;\n",
       "}\n",
       "\n",
       "mpl.figure.prototype.handle_message = function(fig, msg) {\n",
       "    fig.message.textContent = msg['message'];\n",
       "}\n",
       "\n",
       "mpl.figure.prototype.handle_draw = function(fig, msg) {\n",
       "    // Request the server to send over a new figure.\n",
       "    fig.send_draw_message();\n",
       "}\n",
       "\n",
       "mpl.figure.prototype.handle_image_mode = function(fig, msg) {\n",
       "    fig.image_mode = msg['mode'];\n",
       "}\n",
       "\n",
       "mpl.figure.prototype.updated_canvas_event = function() {\n",
       "    // Called whenever the canvas gets updated.\n",
       "    this.send_message(\"ack\", {});\n",
       "}\n",
       "\n",
       "// A function to construct a web socket function for onmessage handling.\n",
       "// Called in the figure constructor.\n",
       "mpl.figure.prototype._make_on_message_function = function(fig) {\n",
       "    return function socket_on_message(evt) {\n",
       "        if (evt.data instanceof Blob) {\n",
       "            /* FIXME: We get \"Resource interpreted as Image but\n",
       "             * transferred with MIME type text/plain:\" errors on\n",
       "             * Chrome.  But how to set the MIME type?  It doesn't seem\n",
       "             * to be part of the websocket stream */\n",
       "            evt.data.type = \"image/png\";\n",
       "\n",
       "            /* Free the memory for the previous frames */\n",
       "            if (fig.imageObj.src) {\n",
       "                (window.URL || window.webkitURL).revokeObjectURL(\n",
       "                    fig.imageObj.src);\n",
       "            }\n",
       "\n",
       "            fig.imageObj.src = (window.URL || window.webkitURL).createObjectURL(\n",
       "                evt.data);\n",
       "            fig.updated_canvas_event();\n",
       "            fig.waiting = false;\n",
       "            return;\n",
       "        }\n",
       "        else if (typeof evt.data === 'string' && evt.data.slice(0, 21) == \"data:image/png;base64\") {\n",
       "            fig.imageObj.src = evt.data;\n",
       "            fig.updated_canvas_event();\n",
       "            fig.waiting = false;\n",
       "            return;\n",
       "        }\n",
       "\n",
       "        var msg = JSON.parse(evt.data);\n",
       "        var msg_type = msg['type'];\n",
       "\n",
       "        // Call the  \"handle_{type}\" callback, which takes\n",
       "        // the figure and JSON message as its only arguments.\n",
       "        try {\n",
       "            var callback = fig[\"handle_\" + msg_type];\n",
       "        } catch (e) {\n",
       "            console.log(\"No handler for the '\" + msg_type + \"' message type: \", msg);\n",
       "            return;\n",
       "        }\n",
       "\n",
       "        if (callback) {\n",
       "            try {\n",
       "                // console.log(\"Handling '\" + msg_type + \"' message: \", msg);\n",
       "                callback(fig, msg);\n",
       "            } catch (e) {\n",
       "                console.log(\"Exception inside the 'handler_\" + msg_type + \"' callback:\", e, e.stack, msg);\n",
       "            }\n",
       "        }\n",
       "    };\n",
       "}\n",
       "\n",
       "// from http://stackoverflow.com/questions/1114465/getting-mouse-location-in-canvas\n",
       "mpl.findpos = function(e) {\n",
       "    //this section is from http://www.quirksmode.org/js/events_properties.html\n",
       "    var targ;\n",
       "    if (!e)\n",
       "        e = window.event;\n",
       "    if (e.target)\n",
       "        targ = e.target;\n",
       "    else if (e.srcElement)\n",
       "        targ = e.srcElement;\n",
       "    if (targ.nodeType == 3) // defeat Safari bug\n",
       "        targ = targ.parentNode;\n",
       "\n",
       "    // jQuery normalizes the pageX and pageY\n",
       "    // pageX,Y are the mouse positions relative to the document\n",
       "    // offset() returns the position of the element relative to the document\n",
       "    var x = e.pageX - $(targ).offset().left;\n",
       "    var y = e.pageY - $(targ).offset().top;\n",
       "\n",
       "    return {\"x\": x, \"y\": y};\n",
       "};\n",
       "\n",
       "/*\n",
       " * return a copy of an object with only non-object keys\n",
       " * we need this to avoid circular references\n",
       " * http://stackoverflow.com/a/24161582/3208463\n",
       " */\n",
       "function simpleKeys (original) {\n",
       "  return Object.keys(original).reduce(function (obj, key) {\n",
       "    if (typeof original[key] !== 'object')\n",
       "        obj[key] = original[key]\n",
       "    return obj;\n",
       "  }, {});\n",
       "}\n",
       "\n",
       "mpl.figure.prototype.mouse_event = function(event, name) {\n",
       "    var canvas_pos = mpl.findpos(event)\n",
       "\n",
       "    if (name === 'button_press')\n",
       "    {\n",
       "        this.canvas.focus();\n",
       "        this.canvas_div.focus();\n",
       "    }\n",
       "\n",
       "    var x = canvas_pos.x * mpl.ratio;\n",
       "    var y = canvas_pos.y * mpl.ratio;\n",
       "\n",
       "    this.send_message(name, {x: x, y: y, button: event.button,\n",
       "                             step: event.step,\n",
       "                             guiEvent: simpleKeys(event)});\n",
       "\n",
       "    /* This prevents the web browser from automatically changing to\n",
       "     * the text insertion cursor when the button is pressed.  We want\n",
       "     * to control all of the cursor setting manually through the\n",
       "     * 'cursor' event from matplotlib */\n",
       "    event.preventDefault();\n",
       "    return false;\n",
       "}\n",
       "\n",
       "mpl.figure.prototype._key_event_extra = function(event, name) {\n",
       "    // Handle any extra behaviour associated with a key event\n",
       "}\n",
       "\n",
       "mpl.figure.prototype.key_event = function(event, name) {\n",
       "\n",
       "    // Prevent repeat events\n",
       "    if (name == 'key_press')\n",
       "    {\n",
       "        if (event.which === this._key)\n",
       "            return;\n",
       "        else\n",
       "            this._key = event.which;\n",
       "    }\n",
       "    if (name == 'key_release')\n",
       "        this._key = null;\n",
       "\n",
       "    var value = '';\n",
       "    if (event.ctrlKey && event.which != 17)\n",
       "        value += \"ctrl+\";\n",
       "    if (event.altKey && event.which != 18)\n",
       "        value += \"alt+\";\n",
       "    if (event.shiftKey && event.which != 16)\n",
       "        value += \"shift+\";\n",
       "\n",
       "    value += 'k';\n",
       "    value += event.which.toString();\n",
       "\n",
       "    this._key_event_extra(event, name);\n",
       "\n",
       "    this.send_message(name, {key: value,\n",
       "                             guiEvent: simpleKeys(event)});\n",
       "    return false;\n",
       "}\n",
       "\n",
       "mpl.figure.prototype.toolbar_button_onclick = function(name) {\n",
       "    if (name == 'download') {\n",
       "        this.handle_save(this, null);\n",
       "    } else {\n",
       "        this.send_message(\"toolbar_button\", {name: name});\n",
       "    }\n",
       "};\n",
       "\n",
       "mpl.figure.prototype.toolbar_button_onmouseover = function(tooltip) {\n",
       "    this.message.textContent = tooltip;\n",
       "};\n",
       "mpl.toolbar_items = [[\"Home\", \"Reset original view\", \"fa fa-home icon-home\", \"home\"], [\"Back\", \"Back to previous view\", \"fa fa-arrow-left icon-arrow-left\", \"back\"], [\"Forward\", \"Forward to next view\", \"fa fa-arrow-right icon-arrow-right\", \"forward\"], [\"\", \"\", \"\", \"\"], [\"Pan\", \"Pan axes with left mouse, zoom with right\", \"fa fa-arrows icon-move\", \"pan\"], [\"Zoom\", \"Zoom to rectangle\", \"fa fa-square-o icon-check-empty\", \"zoom\"], [\"\", \"\", \"\", \"\"], [\"Download\", \"Download plot\", \"fa fa-floppy-o icon-save\", \"download\"]];\n",
       "\n",
       "mpl.extensions = [\"eps\", \"pdf\", \"png\", \"ps\", \"raw\", \"svg\"];\n",
       "\n",
       "mpl.default_extension = \"png\";var comm_websocket_adapter = function(comm) {\n",
       "    // Create a \"websocket\"-like object which calls the given IPython comm\n",
       "    // object with the appropriate methods. Currently this is a non binary\n",
       "    // socket, so there is still some room for performance tuning.\n",
       "    var ws = {};\n",
       "\n",
       "    ws.close = function() {\n",
       "        comm.close()\n",
       "    };\n",
       "    ws.send = function(m) {\n",
       "        //console.log('sending', m);\n",
       "        comm.send(m);\n",
       "    };\n",
       "    // Register the callback with on_msg.\n",
       "    comm.on_msg(function(msg) {\n",
       "        //console.log('receiving', msg['content']['data'], msg);\n",
       "        // Pass the mpl event to the overridden (by mpl) onmessage function.\n",
       "        ws.onmessage(msg['content']['data'])\n",
       "    });\n",
       "    return ws;\n",
       "}\n",
       "\n",
       "mpl.mpl_figure_comm = function(comm, msg) {\n",
       "    // This is the function which gets called when the mpl process\n",
       "    // starts-up an IPython Comm through the \"matplotlib\" channel.\n",
       "\n",
       "    var id = msg.content.data.id;\n",
       "    // Get hold of the div created by the display call when the Comm\n",
       "    // socket was opened in Python.\n",
       "    var element = $(\"#\" + id);\n",
       "    var ws_proxy = comm_websocket_adapter(comm)\n",
       "\n",
       "    function ondownload(figure, format) {\n",
       "        window.open(figure.imageObj.src);\n",
       "    }\n",
       "\n",
       "    var fig = new mpl.figure(id, ws_proxy,\n",
       "                           ondownload,\n",
       "                           element.get(0));\n",
       "\n",
       "    // Call onopen now - mpl needs it, as it is assuming we've passed it a real\n",
       "    // web socket which is closed, not our websocket->open comm proxy.\n",
       "    ws_proxy.onopen();\n",
       "\n",
       "    fig.parent_element = element.get(0);\n",
       "    fig.cell_info = mpl.find_output_cell(\"<div id='\" + id + \"'></div>\");\n",
       "    if (!fig.cell_info) {\n",
       "        console.error(\"Failed to find cell for figure\", id, fig);\n",
       "        return;\n",
       "    }\n",
       "\n",
       "    var output_index = fig.cell_info[2]\n",
       "    var cell = fig.cell_info[0];\n",
       "\n",
       "};\n",
       "\n",
       "mpl.figure.prototype.handle_close = function(fig, msg) {\n",
       "    var width = fig.canvas.width/mpl.ratio\n",
       "    fig.root.unbind('remove')\n",
       "\n",
       "    // Update the output cell to use the data from the current canvas.\n",
       "    fig.push_to_output();\n",
       "    var dataURL = fig.canvas.toDataURL();\n",
       "    // Re-enable the keyboard manager in IPython - without this line, in FF,\n",
       "    // the notebook keyboard shortcuts fail.\n",
       "    IPython.keyboard_manager.enable()\n",
       "    $(fig.parent_element).html('<img src=\"' + dataURL + '\" width=\"' + width + '\">');\n",
       "    fig.close_ws(fig, msg);\n",
       "}\n",
       "\n",
       "mpl.figure.prototype.close_ws = function(fig, msg){\n",
       "    fig.send_message('closing', msg);\n",
       "    // fig.ws.close()\n",
       "}\n",
       "\n",
       "mpl.figure.prototype.push_to_output = function(remove_interactive) {\n",
       "    // Turn the data on the canvas into data in the output cell.\n",
       "    var width = this.canvas.width/mpl.ratio\n",
       "    var dataURL = this.canvas.toDataURL();\n",
       "    this.cell_info[1]['text/html'] = '<img src=\"' + dataURL + '\" width=\"' + width + '\">';\n",
       "}\n",
       "\n",
       "mpl.figure.prototype.updated_canvas_event = function() {\n",
       "    // Tell IPython that the notebook contents must change.\n",
       "    IPython.notebook.set_dirty(true);\n",
       "    this.send_message(\"ack\", {});\n",
       "    var fig = this;\n",
       "    // Wait a second, then push the new image to the DOM so\n",
       "    // that it is saved nicely (might be nice to debounce this).\n",
       "    setTimeout(function () { fig.push_to_output() }, 1000);\n",
       "}\n",
       "\n",
       "mpl.figure.prototype._init_toolbar = function() {\n",
       "    var fig = this;\n",
       "\n",
       "    var nav_element = $('<div/>');\n",
       "    nav_element.attr('style', 'width: 100%');\n",
       "    this.root.append(nav_element);\n",
       "\n",
       "    // Define a callback function for later on.\n",
       "    function toolbar_event(event) {\n",
       "        return fig.toolbar_button_onclick(event['data']);\n",
       "    }\n",
       "    function toolbar_mouse_event(event) {\n",
       "        return fig.toolbar_button_onmouseover(event['data']);\n",
       "    }\n",
       "\n",
       "    for(var toolbar_ind in mpl.toolbar_items){\n",
       "        var name = mpl.toolbar_items[toolbar_ind][0];\n",
       "        var tooltip = mpl.toolbar_items[toolbar_ind][1];\n",
       "        var image = mpl.toolbar_items[toolbar_ind][2];\n",
       "        var method_name = mpl.toolbar_items[toolbar_ind][3];\n",
       "\n",
       "        if (!name) { continue; };\n",
       "\n",
       "        var button = $('<button class=\"btn btn-default\" href=\"#\" title=\"' + name + '\"><i class=\"fa ' + image + ' fa-lg\"></i></button>');\n",
       "        button.click(method_name, toolbar_event);\n",
       "        button.mouseover(tooltip, toolbar_mouse_event);\n",
       "        nav_element.append(button);\n",
       "    }\n",
       "\n",
       "    // Add the status bar.\n",
       "    var status_bar = $('<span class=\"mpl-message\" style=\"text-align:right; float: right;\"/>');\n",
       "    nav_element.append(status_bar);\n",
       "    this.message = status_bar[0];\n",
       "\n",
       "    // Add the close button to the window.\n",
       "    var buttongrp = $('<div class=\"btn-group inline pull-right\"></div>');\n",
       "    var button = $('<button class=\"btn btn-mini btn-primary\" href=\"#\" title=\"Stop Interaction\"><i class=\"fa fa-power-off icon-remove icon-large\"></i></button>');\n",
       "    button.click(function (evt) { fig.handle_close(fig, {}); } );\n",
       "    button.mouseover('Stop Interaction', toolbar_mouse_event);\n",
       "    buttongrp.append(button);\n",
       "    var titlebar = this.root.find($('.ui-dialog-titlebar'));\n",
       "    titlebar.prepend(buttongrp);\n",
       "}\n",
       "\n",
       "mpl.figure.prototype._root_extra_style = function(el){\n",
       "    var fig = this\n",
       "    el.on(\"remove\", function(){\n",
       "\tfig.close_ws(fig, {});\n",
       "    });\n",
       "}\n",
       "\n",
       "mpl.figure.prototype._canvas_extra_style = function(el){\n",
       "    // this is important to make the div 'focusable\n",
       "    el.attr('tabindex', 0)\n",
       "    // reach out to IPython and tell the keyboard manager to turn it's self\n",
       "    // off when our div gets focus\n",
       "\n",
       "    // location in version 3\n",
       "    if (IPython.notebook.keyboard_manager) {\n",
       "        IPython.notebook.keyboard_manager.register_events(el);\n",
       "    }\n",
       "    else {\n",
       "        // location in version 2\n",
       "        IPython.keyboard_manager.register_events(el);\n",
       "    }\n",
       "\n",
       "}\n",
       "\n",
       "mpl.figure.prototype._key_event_extra = function(event, name) {\n",
       "    var manager = IPython.notebook.keyboard_manager;\n",
       "    if (!manager)\n",
       "        manager = IPython.keyboard_manager;\n",
       "\n",
       "    // Check for shift+enter\n",
       "    if (event.shiftKey && event.which == 13) {\n",
       "        this.canvas_div.blur();\n",
       "        // select the cell after this one\n",
       "        var index = IPython.notebook.find_cell_index(this.cell_info[0]);\n",
       "        IPython.notebook.select(index + 1);\n",
       "    }\n",
       "}\n",
       "\n",
       "mpl.figure.prototype.handle_save = function(fig, msg) {\n",
       "    fig.ondownload(fig, null);\n",
       "}\n",
       "\n",
       "\n",
       "mpl.find_output_cell = function(html_output) {\n",
       "    // Return the cell and output element which can be found *uniquely* in the notebook.\n",
       "    // Note - this is a bit hacky, but it is done because the \"notebook_saving.Notebook\"\n",
       "    // IPython event is triggered only after the cells have been serialised, which for\n",
       "    // our purposes (turning an active figure into a static one), is too late.\n",
       "    var cells = IPython.notebook.get_cells();\n",
       "    var ncells = cells.length;\n",
       "    for (var i=0; i<ncells; i++) {\n",
       "        var cell = cells[i];\n",
       "        if (cell.cell_type === 'code'){\n",
       "            for (var j=0; j<cell.output_area.outputs.length; j++) {\n",
       "                var data = cell.output_area.outputs[j];\n",
       "                if (data.data) {\n",
       "                    // IPython >= 3 moved mimebundle to data attribute of output\n",
       "                    data = data.data;\n",
       "                }\n",
       "                if (data['text/html'] == html_output) {\n",
       "                    return [cell, data, j];\n",
       "                }\n",
       "            }\n",
       "        }\n",
       "    }\n",
       "}\n",
       "\n",
       "// Register the function which deals with the matplotlib target/channel.\n",
       "// The kernel may be null if the page has been refreshed.\n",
       "if (IPython.notebook.kernel != null) {\n",
       "    IPython.notebook.kernel.comm_manager.register_target('matplotlib', mpl.mpl_figure_comm);\n",
       "}\n"
      ],
      "text/plain": [
       "<IPython.core.display.Javascript object>"
      ]
     },
     "metadata": {},
     "output_type": "display_data"
    },
    {
     "data": {
      "text/html": [
       "<img src=\"data:image/png;base64,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\" width=\"640\">"
      ],
      "text/plain": [
       "<IPython.core.display.HTML object>"
      ]
     },
     "metadata": {},
     "output_type": "display_data"
    },
    {
     "data": {
      "text/plain": [
       "[<matplotlib.lines.Line2D at 0x7f8cc08cbe20>]"
      ]
     },
     "execution_count": 53,
     "metadata": {},
     "output_type": "execute_result"
    }
   ],
   "source": [
    "plt.plot([key for key in regimeAmounts.keys()],[val for val in regimeAmounts.values()])"
   ]
  },
  {
   "cell_type": "code",
   "execution_count": 54,
   "metadata": {
    "scrolled": false
   },
   "outputs": [
    {
     "data": {
      "text/plain": [
       "([<matplotlib.axis.XTick at 0x7f8cc1078790>,\n",
       "  <matplotlib.axis.XTick at 0x7f8cc1078760>,\n",
       "  <matplotlib.axis.XTick at 0x7f8cc1070b20>,\n",
       "  <matplotlib.axis.XTick at 0x7f8cc0885a90>,\n",
       "  <matplotlib.axis.XTick at 0x7f8cc0885fa0>,\n",
       "  <matplotlib.axis.XTick at 0x7f8cc08954f0>,\n",
       "  <matplotlib.axis.XTick at 0x7f8cc0895a00>,\n",
       "  <matplotlib.axis.XTick at 0x7f8cc0895f10>,\n",
       "  <matplotlib.axis.XTick at 0x7f8cc089a460>,\n",
       "  <matplotlib.axis.XTick at 0x7f8cc0895700>,\n",
       "  <matplotlib.axis.XTick at 0x7f8cc176cac0>,\n",
       "  <matplotlib.axis.XTick at 0x7f8cc089a970>,\n",
       "  <matplotlib.axis.XTick at 0x7f8cc089ae80>,\n",
       "  <matplotlib.axis.XTick at 0x7f8cc089f3d0>,\n",
       "  <matplotlib.axis.XTick at 0x7f8cc089f8e0>],\n",
       " [Text(0, 0, 'BAU_0'),\n",
       "  Text(0, 0, 'BAU_0_p1'),\n",
       "  Text(0, 0, 'BAU_0_p2'),\n",
       "  Text(0, 0, 'BAU_1'),\n",
       "  Text(0, 0, 'BAU_FS1'),\n",
       "  Text(0, 0, 'BAU_RR'),\n",
       "  Text(0, 0, 'BAU_RR_p1'),\n",
       "  Text(0, 0, 'BAU_RR_p2'),\n",
       "  Text(0, 0, 'CCF_P1'),\n",
       "  Text(0, 0, 'CCF_P2'),\n",
       "  Text(0, 0, 'CCF_P3'),\n",
       "  Text(0, 0, 'CCF_P3_p1'),\n",
       "  Text(0, 0, 'CCF_P3_p2'),\n",
       "  Text(0, 0, 'CCF_STATE'),\n",
       "  Text(0, 0, 'NOT')])"
      ]
     },
     "execution_count": 54,
     "metadata": {},
     "output_type": "execute_result"
    }
   ],
   "source": [
    "plt.bar(range(len(regimeAmounts)), list(regimeAmounts.values()), align='center')\n",
    "plt.xticks(range(len(regimeAmounts)), list(regimeAmounts.keys()),rotation=\"vertical\")"
   ]
  },
  {
   "cell_type": "markdown",
   "metadata": {},
   "source": [
    "## Export data as csv\n",
    "- Solution_alldata contains the optimal regime per stand AND the timely development of indicator values plus all other input columns (represented_are_by_NFIplot, region, NUTS2)\n",
    "- Solution contains only the selected optimal regime and its share (if multiple regimes per stand are selected)"
   ]
  },
  {
   "cell_type": "code",
   "execution_count": 55,
   "metadata": {},
   "outputs": [],
   "source": [
    "try:\n",
    "    os.mkdir(\"results\")\n",
    "except FileExistsError:\n",
    "    pass\n",
    "b = []\n",
    "c = []\n",
    "for key in mfo.regimesDecision.keys():\n",
    "    if mfo.regimesDecision[key].solution_value() > 0:\n",
    "        b = b+ [(key[0],x*5+2012, key[1]) for x in range(0,21)]\n",
    "        c = c+ [(key[0],key[1],mfo.regimesDecision[key].solution_value())]\n",
    "data2b = mfo.data.iloc[mfo.data.index.isin(b)]\n",
    "data2b.to_csv(\"./results/\"+scenario+\"_\"+RCP+\"_data.csv\")\n",
    "c1 = pd.DataFrame(c)\n",
    "c1.to_csv(\"./results/\"+scenario+\"_\"+RCP+\"_solutions.csv\")"
   ]
  },
  {
   "cell_type": "markdown",
   "metadata": {},
   "source": [
    "## Export objective ranges"
   ]
  },
  {
   "cell_type": "markdown",
   "metadata": {},
   "source": [
    "Save as json file"
   ]
  },
  {
   "cell_type": "code",
   "execution_count": 56,
   "metadata": {},
   "outputs": [],
   "source": [
    "import json\n",
    "mfo.objectiveRanges\n",
    "\n",
    "with open('./results/objectiveRanges_'+scenario+'_'+RCP+'.json', 'w') as json_file:\n",
    "  json.dump(mfo.objectiveRanges, json_file)"
   ]
  },
  {
   "cell_type": "markdown",
   "metadata": {},
   "source": [
    "Save as CSV."
   ]
  },
  {
   "cell_type": "code",
   "execution_count": 57,
   "metadata": {},
   "outputs": [],
   "source": [
    "import pandas\n",
    "df = pandas.read_json('./results/objectiveRanges_'+scenario+'_'+RCP+'.json')\n",
    "\n",
    "df.to_csv('./results/objectiveRanges_'+scenario+'_'+RCP+'.csv')"
   ]
  },
  {
   "cell_type": "markdown",
   "metadata": {},
   "source": [
    "## Export objective values\n",
    "The optimal solution for each objective."
   ]
  },
  {
   "cell_type": "code",
   "execution_count": 58,
   "metadata": {},
   "outputs": [],
   "source": [
    "import os\n",
    "with open(\"./results/objectiveValues_\"+scenario+\"_\"+RCP+\".csv\",\"w\") as file:\n",
    "    delim = \"\"\n",
    "    for objName in mfo.objectiveTypes.keys():\n",
    "        file.write(delim+objName)\n",
    "        delim = \",\"\n",
    "    file.write(\"\\n\")\n",
    "    delim = \"\"\n",
    "    for objName in mfo.objectiveTypes.keys():\n",
    "        file.write(delim+str(mfo.objective[objName].solution_value()))\n",
    "        delim = \",\"\n",
    "    file.write(\"\\n\")"
   ]
  },
  {
   "cell_type": "code",
   "execution_count": null,
   "metadata": {},
   "outputs": [],
   "source": []
  }
 ],
 "metadata": {
  "kernelspec": {
   "display_name": "Python 3",
   "language": "python",
   "name": "python3"
  },
  "language_info": {
   "codemirror_mode": {
    "name": "ipython",
    "version": 3
   },
   "file_extension": ".py",
   "mimetype": "text/x-python",
   "name": "python",
   "nbconvert_exporter": "python",
   "pygments_lexer": "ipython3",
   "version": "3.8.3"
  }
 },
 "nbformat": 4,
 "nbformat_minor": 2
}
