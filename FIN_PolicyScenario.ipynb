{
 "cells": [
  {
   "cell_type": "markdown",
   "metadata": {},
   "source": [
    "# Multiforest optimization notebook"
   ]
  },
  {
   "cell_type": "markdown",
   "metadata": {},
   "source": [
    "Above the code cells, there are short instructions how the users can modify the codes in the cells. If there are no instructions, no changes should be needed for the cell by default.\n",
    "\n",
    "A detailed description is provided in the <b>README.md</b>."
   ]
  },
  {
   "cell_type": "markdown",
   "metadata": {},
   "source": [
    "## Basic definitions"
   ]
  },
  {
   "cell_type": "markdown",
   "metadata": {},
   "source": [
    "Simulated forest data - name and climate scenario"
   ]
  },
  {
   "cell_type": "code",
   "execution_count": 1,
   "metadata": {},
   "outputs": [],
   "source": [
    "RCP = \"RCP0\" # no climate change\n",
    "filename = \"rslt_\"+RCP+\"_keskisuomi_V11_smooth.zip\" # Test data from Central Finland with 2925 forest stands "
   ]
  },
  {
   "cell_type": "markdown",
   "metadata": {},
   "source": [
    "Specify policy scenario: \n",
    "* \"NFS\" - National Forest Strategy\n",
    "* \"BDS\" - Biodiversity Strategy\n",
    "* \"BES\" - Bioeconomy Strategy"
   ]
  },
  {
   "cell_type": "code",
   "execution_count": 2,
   "metadata": {},
   "outputs": [],
   "source": [
    "scenario = \"BES\" "
   ]
  },
  {
   "cell_type": "markdown",
   "metadata": {},
   "source": [
    "Name definition for saved output, rule: _scenario_RCP_extension"
   ]
  },
  {
   "cell_type": "code",
   "execution_count": 3,
   "metadata": {},
   "outputs": [],
   "source": [
    "extension = \"test\" # some additional info to the saved output "
   ]
  },
  {
   "cell_type": "markdown",
   "metadata": {},
   "source": [
    "## Read the data"
   ]
  },
  {
   "cell_type": "code",
   "execution_count": 4,
   "metadata": {},
   "outputs": [],
   "source": [
    "import multiFunctionalOptimization as MFO"
   ]
  },
  {
   "cell_type": "code",
   "execution_count": 5,
   "metadata": {},
   "outputs": [
    {
     "data": {
      "text/plain": [
       "<module 'multiFunctionalOptimization' from '/home/ubuntu/workspace/mf_optimization_demo/multiFunctionalOptimization.py'>"
      ]
     },
     "execution_count": 5,
     "metadata": {},
     "output_type": "execute_result"
    }
   ],
   "source": [
    "from importlib import reload\n",
    "reload(MFO)"
   ]
  },
  {
   "cell_type": "markdown",
   "metadata": {},
   "source": [
    "If no solver is specified, the open source solver CLP is used"
   ]
  },
  {
   "cell_type": "code",
   "execution_count": 6,
   "metadata": {},
   "outputs": [
    {
     "data": {
      "text/plain": [
       "'Using CPLEX'"
      ]
     },
     "metadata": {},
     "output_type": "display_data"
    }
   ],
   "source": [
    "mfo = MFO.MultiFunctionalOptimization(solver = 'CPLEX') "
   ]
  },
  {
   "cell_type": "code",
   "execution_count": 7,
   "metadata": {},
   "outputs": [],
   "source": [
    "import wget\n",
    "import os\n",
    "import pandas as pd"
   ]
  },
  {
   "cell_type": "markdown",
   "metadata": {},
   "source": [
    "Data will be automatically downloaded at the first use!"
   ]
  },
  {
   "cell_type": "code",
   "execution_count": 8,
   "metadata": {},
   "outputs": [],
   "source": [
    "if not filename in os.listdir(\".\"):\n",
    "    wget.download(\"https://a3s.fi/swift/v1/AUTH_9d5edfac7197434ab0e9b60b9f62c600/keskisuomi/\"+filename)"
   ]
  },
  {
   "cell_type": "code",
   "execution_count": 9,
   "metadata": {},
   "outputs": [
    {
     "data": {
      "text/plain": [
       "'sample size 1462/2925(49%)'"
      ]
     },
     "metadata": {},
     "output_type": "display_data"
    },
    {
     "name": "stdout",
     "output_type": "stream",
     "text": [
      "CPU times: user 2.29 s, sys: 1.61 s, total: 3.89 s\n",
      "Wall time: 3.89 s\n"
     ]
    }
   ],
   "source": [
    "%%time\n",
    "mfo.readData(filename,\n",
    "             sampleRatio=0.5 #If no sample ratio given, the ratio is assumed to be 1.\n",
    "            )                "
   ]
  },
  {
   "cell_type": "markdown",
   "metadata": {},
   "source": [
    "## Create some new variables in the data"
   ]
  },
  {
   "cell_type": "markdown",
   "metadata": {},
   "source": [
    "Calculate total (per stand) values from relative values:\n",
    "* \"Relative to Area\" = simulated indicator value relate to one hectar -> scaled to represented area of NFI plot <br>\n",
    "* (\"Relative to volume\" = indicator relates to standing Volume -> scaled to the represented volume of the plot) <br>\n",
    "* (\"Absolute Value\" = takes the inticator value as it is)"
   ]
  },
  {
   "cell_type": "code",
   "execution_count": 10,
   "metadata": {},
   "outputs": [],
   "source": [
    "columnTypes = {\n",
    "    'i_Vm3':(float,\"Relative to Area\"),\n",
    "    'Harvested_V':(float,\"Relative to Area\"),\n",
    "    'Harvested_V_log_under_bark':(float,\"Relative to Area\"), \n",
    "    'Harvested_V_pulp_under_bark':(float,\"Relative to Area\"),\n",
    "    'Harvested_V_under_bark':(float,\"Relative to Area\"), \n",
    "    'Biomass':(float,\"Relative to Area\"),\n",
    "    'ALL_MARKETED_MUSHROOMS':(float,\"Relative to Area\"), \n",
    "    'BILBERRY':(float,\"Relative to Area\"), \n",
    "    'COWBERRY':(float,\"Relative to Area\"),\n",
    "    'HSI_MOOSE':(float,\"Relative to Area\"),\n",
    "    'CAPERCAILLIE':(float,\"Relative to Area\"), \n",
    "    'HAZEL_GROUSE':(float,\"Relative to Area\"), \n",
    "    'V_total_deadwood':(float,\"Relative to Area\"), \n",
    "    'N_where_D_gt_40':(float,\"Relative to Area\"),\n",
    "    'prc_V_deciduous':(float,\"Relative to Area\"),\n",
    "    'CARBON_SINK':(float,\"Relative to Area\"), \n",
    "    'Recreation':(float,\"Relative to Area\"),\n",
    "    'Scenic':(float,\"Relative to Area\")\n",
    "}"
   ]
  },
  {
   "cell_type": "code",
   "execution_count": 11,
   "metadata": {},
   "outputs": [],
   "source": [
    "mfo.calculateTotalValuesFromRelativeValues(columnTypes=columnTypes)"
   ]
  },
  {
   "cell_type": "markdown",
   "metadata": {},
   "source": [
    "List the new created columns: <br>\n",
    "* Total_... hectare value multiplied by represented area (or volume)"
   ]
  },
  {
   "cell_type": "code",
   "execution_count": 12,
   "metadata": {},
   "outputs": [
    {
     "data": {
      "text/plain": [
       "['Total_i_Vm3',\n",
       " 'Total_Harvested_V',\n",
       " 'Total_Harvested_V_log_under_bark',\n",
       " 'Total_Harvested_V_pulp_under_bark',\n",
       " 'Total_Harvested_V_under_bark',\n",
       " 'Total_Biomass',\n",
       " 'Total_ALL_MARKETED_MUSHROOMS',\n",
       " 'Total_BILBERRY',\n",
       " 'Total_COWBERRY',\n",
       " 'Total_HSI_MOOSE',\n",
       " 'Total_CAPERCAILLIE',\n",
       " 'Total_HAZEL_GROUSE',\n",
       " 'Total_V_total_deadwood',\n",
       " 'Total_N_where_D_gt_40',\n",
       " 'Total_prc_V_deciduous',\n",
       " 'Total_CARBON_SINK',\n",
       " 'Total_Recreation',\n",
       " 'Total_Scenic']"
      ]
     },
     "execution_count": 12,
     "metadata": {},
     "output_type": "execute_result"
    }
   ],
   "source": [
    "[name for name in mfo.data.columns if \"Total_\" in name and \"Relative\" not in name]"
   ]
  },
  {
   "cell_type": "markdown",
   "metadata": {},
   "source": [
    "## Create new column\n",
    "1) Column indicating if regime is \"CCF_3, CCF_4, BAUwGTR\" (TRUE/FLASE) <br>\n",
    "Important for FES Biodiversity, allowed regimes for conservation sites.\n",
    "\n",
    "2) Column indicating if regime is \"SA\" (TRUE/FALSE)<br>\n",
    "Important for FES Biodiversity, allowed regimes for statutory protection sites.\n",
    "\n",
    "3) Column indicating if regime is \"BAUwT_B, BAUwT_5_B, BAUwT_15_B, BAUwT_30_B, BAUwT_GTR_B\" <br>\n",
    "Important for FES Resillience, allowed regimes for climate change adaption."
   ]
  },
  {
   "cell_type": "code",
   "execution_count": 13,
   "metadata": {},
   "outputs": [],
   "source": [
    "regimeClassNames = {\"regimeClass0name\":\"CCF\",\"regimeClass1name\":\"SA\",\"regimeClass2name\":\"Broadleave\"}\n",
    "regimeClassregimes = {\"regimeClass0regimes\":[\"CCF_3\",\"CCF_4\",\"BAUwGTR\"],\"regimeClass1regimes\":[\"SA\"],\"regimeClass2regimes\":[\"BAUwT_B\", \"BAUwT_5_B\", \"BAUwT_15_B\", \"BAUwT_30_B\", \"BAUwT_GTR_B\"]}"
   ]
  },
  {
   "cell_type": "code",
   "execution_count": 14,
   "metadata": {},
   "outputs": [],
   "source": [
    "mfo.addRegimeClassifications(regimeClassNames = regimeClassNames,regimeClassregimes=regimeClassregimes)"
   ]
  },
  {
   "cell_type": "markdown",
   "metadata": {},
   "source": [
    "## Define initial value\n",
    "1) Define initial values, recognized by the regime \"initial_state\", which only occurs at the first year (here 2016)\n",
    "\n",
    "2) Create new variables that describe the <b>relative change to initial situation (start year) \"Relative_\"</b>:"
   ]
  },
  {
   "cell_type": "code",
   "execution_count": 15,
   "metadata": {},
   "outputs": [],
   "source": [
    "mfo.finalizeData(initialRegime=\"initial_state\")"
   ]
  },
  {
   "cell_type": "markdown",
   "metadata": {},
   "source": [
    "New variables created:"
   ]
  },
  {
   "cell_type": "code",
   "execution_count": 16,
   "metadata": {},
   "outputs": [
    {
     "data": {
      "text/plain": [
       "['Relative_V',\n",
       " 'Relative_ALL_MARKETED_MUSHROOMS',\n",
       " 'Relative_BILBERRY',\n",
       " 'Relative_COWBERRY',\n",
       " 'Relative_HSI_MOOSE',\n",
       " 'Relative_CAPERCAILLIE',\n",
       " 'Relative_HAZEL_GROUSE',\n",
       " 'Relative_V_total_deadwood',\n",
       " 'Relative_N_where_D_gt_40',\n",
       " 'Relative_prc_V_deciduous',\n",
       " 'Relative_Recreation',\n",
       " 'Relative_Scenic',\n",
       " 'Relative_CARBON_STORAGE',\n",
       " 'Relative_Total_ALL_MARKETED_MUSHROOMS',\n",
       " 'Relative_Total_BILBERRY',\n",
       " 'Relative_Total_COWBERRY',\n",
       " 'Relative_Total_HSI_MOOSE',\n",
       " 'Relative_Total_CAPERCAILLIE',\n",
       " 'Relative_Total_HAZEL_GROUSE',\n",
       " 'Relative_Total_V_total_deadwood',\n",
       " 'Relative_Total_N_where_D_gt_40',\n",
       " 'Relative_Total_prc_V_deciduous',\n",
       " 'Relative_Total_Recreation',\n",
       " 'Relative_Total_Scenic']"
      ]
     },
     "execution_count": 16,
     "metadata": {},
     "output_type": "execute_result"
    }
   ],
   "source": [
    "[name for name in mfo.data.columns if \"Relative_\" in name]"
   ]
  },
  {
   "cell_type": "code",
   "execution_count": 17,
   "metadata": {},
   "outputs": [
    {
     "data": {
      "text/html": [
       "<div>\n",
       "<style scoped>\n",
       "    .dataframe tbody tr th:only-of-type {\n",
       "        vertical-align: middle;\n",
       "    }\n",
       "\n",
       "    .dataframe tbody tr th {\n",
       "        vertical-align: top;\n",
       "    }\n",
       "\n",
       "    .dataframe thead th {\n",
       "        text-align: right;\n",
       "    }\n",
       "</style>\n",
       "<table border=\"1\" class=\"dataframe\">\n",
       "  <thead>\n",
       "    <tr style=\"text-align: right;\">\n",
       "      <th></th>\n",
       "      <th></th>\n",
       "      <th></th>\n",
       "      <th>V</th>\n",
       "      <th>i_Vm3</th>\n",
       "      <th>Harvested_V</th>\n",
       "      <th>Harvested_V_log_under_bark</th>\n",
       "      <th>Harvested_V_pulp_under_bark</th>\n",
       "      <th>Harvested_V_under_bark</th>\n",
       "      <th>DEVEL_CLASS</th>\n",
       "      <th>Biomass</th>\n",
       "      <th>ALL_MARKETED_MUSHROOMS</th>\n",
       "      <th>BILBERRY</th>\n",
       "      <th>...</th>\n",
       "      <th>Relative_Total_BILBERRY</th>\n",
       "      <th>Relative_Total_COWBERRY</th>\n",
       "      <th>Relative_Total_HSI_MOOSE</th>\n",
       "      <th>Relative_Total_CAPERCAILLIE</th>\n",
       "      <th>Relative_Total_HAZEL_GROUSE</th>\n",
       "      <th>Relative_Total_V_total_deadwood</th>\n",
       "      <th>Relative_Total_N_where_D_gt_40</th>\n",
       "      <th>Relative_Total_prc_V_deciduous</th>\n",
       "      <th>Relative_Total_Recreation</th>\n",
       "      <th>Relative_Total_Scenic</th>\n",
       "    </tr>\n",
       "    <tr>\n",
       "      <th>id</th>\n",
       "      <th>year</th>\n",
       "      <th>regime</th>\n",
       "      <th></th>\n",
       "      <th></th>\n",
       "      <th></th>\n",
       "      <th></th>\n",
       "      <th></th>\n",
       "      <th></th>\n",
       "      <th></th>\n",
       "      <th></th>\n",
       "      <th></th>\n",
       "      <th></th>\n",
       "      <th></th>\n",
       "      <th></th>\n",
       "      <th></th>\n",
       "      <th></th>\n",
       "      <th></th>\n",
       "      <th></th>\n",
       "      <th></th>\n",
       "      <th></th>\n",
       "      <th></th>\n",
       "      <th></th>\n",
       "      <th></th>\n",
       "    </tr>\n",
       "  </thead>\n",
       "  <tbody>\n",
       "    <tr>\n",
       "      <th rowspan=\"5\" valign=\"top\">99011012</th>\n",
       "      <th rowspan=\"5\" valign=\"top\">2021</th>\n",
       "      <th>BAU</th>\n",
       "      <td>113.94</td>\n",
       "      <td>10.59</td>\n",
       "      <td>0.0</td>\n",
       "      <td>0.0</td>\n",
       "      <td>0.0</td>\n",
       "      <td>0.0</td>\n",
       "      <td>4</td>\n",
       "      <td>0.0</td>\n",
       "      <td>28.23</td>\n",
       "      <td>3.114</td>\n",
       "      <td>...</td>\n",
       "      <td>0.000313</td>\n",
       "      <td>0.000549</td>\n",
       "      <td>0.0</td>\n",
       "      <td>0.0</td>\n",
       "      <td>0.0</td>\n",
       "      <td>0.000634</td>\n",
       "      <td>0.0</td>\n",
       "      <td>0.001963</td>\n",
       "      <td>0.000582</td>\n",
       "      <td>0.000486</td>\n",
       "    </tr>\n",
       "    <tr>\n",
       "      <th>BAU_10</th>\n",
       "      <td>113.94</td>\n",
       "      <td>10.59</td>\n",
       "      <td>0.0</td>\n",
       "      <td>0.0</td>\n",
       "      <td>0.0</td>\n",
       "      <td>0.0</td>\n",
       "      <td>4</td>\n",
       "      <td>0.0</td>\n",
       "      <td>28.23</td>\n",
       "      <td>3.114</td>\n",
       "      <td>...</td>\n",
       "      <td>0.000313</td>\n",
       "      <td>0.000549</td>\n",
       "      <td>0.0</td>\n",
       "      <td>0.0</td>\n",
       "      <td>0.0</td>\n",
       "      <td>0.000634</td>\n",
       "      <td>0.0</td>\n",
       "      <td>0.001963</td>\n",
       "      <td>0.000582</td>\n",
       "      <td>0.000486</td>\n",
       "    </tr>\n",
       "    <tr>\n",
       "      <th>BAU_15</th>\n",
       "      <td>113.94</td>\n",
       "      <td>10.59</td>\n",
       "      <td>0.0</td>\n",
       "      <td>0.0</td>\n",
       "      <td>0.0</td>\n",
       "      <td>0.0</td>\n",
       "      <td>4</td>\n",
       "      <td>0.0</td>\n",
       "      <td>28.23</td>\n",
       "      <td>3.114</td>\n",
       "      <td>...</td>\n",
       "      <td>0.000313</td>\n",
       "      <td>0.000549</td>\n",
       "      <td>0.0</td>\n",
       "      <td>0.0</td>\n",
       "      <td>0.0</td>\n",
       "      <td>0.000634</td>\n",
       "      <td>0.0</td>\n",
       "      <td>0.001963</td>\n",
       "      <td>0.000582</td>\n",
       "      <td>0.000486</td>\n",
       "    </tr>\n",
       "    <tr>\n",
       "      <th>BAU_30</th>\n",
       "      <td>113.94</td>\n",
       "      <td>10.59</td>\n",
       "      <td>0.0</td>\n",
       "      <td>0.0</td>\n",
       "      <td>0.0</td>\n",
       "      <td>0.0</td>\n",
       "      <td>4</td>\n",
       "      <td>0.0</td>\n",
       "      <td>28.23</td>\n",
       "      <td>3.114</td>\n",
       "      <td>...</td>\n",
       "      <td>0.000313</td>\n",
       "      <td>0.000549</td>\n",
       "      <td>0.0</td>\n",
       "      <td>0.0</td>\n",
       "      <td>0.0</td>\n",
       "      <td>0.000634</td>\n",
       "      <td>0.0</td>\n",
       "      <td>0.001963</td>\n",
       "      <td>0.000582</td>\n",
       "      <td>0.000486</td>\n",
       "    </tr>\n",
       "    <tr>\n",
       "      <th>BAU_5</th>\n",
       "      <td>113.94</td>\n",
       "      <td>10.59</td>\n",
       "      <td>0.0</td>\n",
       "      <td>0.0</td>\n",
       "      <td>0.0</td>\n",
       "      <td>0.0</td>\n",
       "      <td>4</td>\n",
       "      <td>0.0</td>\n",
       "      <td>28.23</td>\n",
       "      <td>3.114</td>\n",
       "      <td>...</td>\n",
       "      <td>0.000313</td>\n",
       "      <td>0.000549</td>\n",
       "      <td>0.0</td>\n",
       "      <td>0.0</td>\n",
       "      <td>0.0</td>\n",
       "      <td>0.000634</td>\n",
       "      <td>0.0</td>\n",
       "      <td>0.001963</td>\n",
       "      <td>0.000582</td>\n",
       "      <td>0.000486</td>\n",
       "    </tr>\n",
       "  </tbody>\n",
       "</table>\n",
       "<p>5 rows × 75 columns</p>\n",
       "</div>"
      ],
      "text/plain": [
       "                           V  i_Vm3  Harvested_V  Harvested_V_log_under_bark  \\\n",
       "id       year regime                                                           \n",
       "99011012 2021 BAU     113.94  10.59          0.0                         0.0   \n",
       "              BAU_10  113.94  10.59          0.0                         0.0   \n",
       "              BAU_15  113.94  10.59          0.0                         0.0   \n",
       "              BAU_30  113.94  10.59          0.0                         0.0   \n",
       "              BAU_5   113.94  10.59          0.0                         0.0   \n",
       "\n",
       "                      Harvested_V_pulp_under_bark  Harvested_V_under_bark  \\\n",
       "id       year regime                                                        \n",
       "99011012 2021 BAU                             0.0                     0.0   \n",
       "              BAU_10                          0.0                     0.0   \n",
       "              BAU_15                          0.0                     0.0   \n",
       "              BAU_30                          0.0                     0.0   \n",
       "              BAU_5                           0.0                     0.0   \n",
       "\n",
       "                      DEVEL_CLASS  Biomass  ALL_MARKETED_MUSHROOMS  BILBERRY  \\\n",
       "id       year regime                                                           \n",
       "99011012 2021 BAU               4      0.0                   28.23     3.114   \n",
       "              BAU_10            4      0.0                   28.23     3.114   \n",
       "              BAU_15            4      0.0                   28.23     3.114   \n",
       "              BAU_30            4      0.0                   28.23     3.114   \n",
       "              BAU_5             4      0.0                   28.23     3.114   \n",
       "\n",
       "                      ...  Relative_Total_BILBERRY  Relative_Total_COWBERRY  \\\n",
       "id       year regime  ...                                                     \n",
       "99011012 2021 BAU     ...                 0.000313                 0.000549   \n",
       "              BAU_10  ...                 0.000313                 0.000549   \n",
       "              BAU_15  ...                 0.000313                 0.000549   \n",
       "              BAU_30  ...                 0.000313                 0.000549   \n",
       "              BAU_5   ...                 0.000313                 0.000549   \n",
       "\n",
       "                      Relative_Total_HSI_MOOSE  Relative_Total_CAPERCAILLIE  \\\n",
       "id       year regime                                                          \n",
       "99011012 2021 BAU                          0.0                          0.0   \n",
       "              BAU_10                       0.0                          0.0   \n",
       "              BAU_15                       0.0                          0.0   \n",
       "              BAU_30                       0.0                          0.0   \n",
       "              BAU_5                        0.0                          0.0   \n",
       "\n",
       "                      Relative_Total_HAZEL_GROUSE  \\\n",
       "id       year regime                                \n",
       "99011012 2021 BAU                             0.0   \n",
       "              BAU_10                          0.0   \n",
       "              BAU_15                          0.0   \n",
       "              BAU_30                          0.0   \n",
       "              BAU_5                           0.0   \n",
       "\n",
       "                      Relative_Total_V_total_deadwood  \\\n",
       "id       year regime                                    \n",
       "99011012 2021 BAU                            0.000634   \n",
       "              BAU_10                         0.000634   \n",
       "              BAU_15                         0.000634   \n",
       "              BAU_30                         0.000634   \n",
       "              BAU_5                          0.000634   \n",
       "\n",
       "                      Relative_Total_N_where_D_gt_40  \\\n",
       "id       year regime                                   \n",
       "99011012 2021 BAU                                0.0   \n",
       "              BAU_10                             0.0   \n",
       "              BAU_15                             0.0   \n",
       "              BAU_30                             0.0   \n",
       "              BAU_5                              0.0   \n",
       "\n",
       "                      Relative_Total_prc_V_deciduous  \\\n",
       "id       year regime                                   \n",
       "99011012 2021 BAU                           0.001963   \n",
       "              BAU_10                        0.001963   \n",
       "              BAU_15                        0.001963   \n",
       "              BAU_30                        0.001963   \n",
       "              BAU_5                         0.001963   \n",
       "\n",
       "                      Relative_Total_Recreation  Relative_Total_Scenic  \n",
       "id       year regime                                                    \n",
       "99011012 2021 BAU                      0.000582               0.000486  \n",
       "              BAU_10                   0.000582               0.000486  \n",
       "              BAU_15                   0.000582               0.000486  \n",
       "              BAU_30                   0.000582               0.000486  \n",
       "              BAU_5                    0.000582               0.000486  \n",
       "\n",
       "[5 rows x 75 columns]"
      ]
     },
     "execution_count": 17,
     "metadata": {},
     "output_type": "execute_result"
    }
   ],
   "source": [
    "mfo.data.head()"
   ]
  },
  {
   "cell_type": "code",
   "execution_count": 18,
   "metadata": {},
   "outputs": [
    {
     "data": {
      "text/html": [
       "<div>\n",
       "<style scoped>\n",
       "    .dataframe tbody tr th:only-of-type {\n",
       "        vertical-align: middle;\n",
       "    }\n",
       "\n",
       "    .dataframe tbody tr th {\n",
       "        vertical-align: top;\n",
       "    }\n",
       "\n",
       "    .dataframe thead th {\n",
       "        text-align: right;\n",
       "    }\n",
       "</style>\n",
       "<table border=\"1\" class=\"dataframe\">\n",
       "  <thead>\n",
       "    <tr style=\"text-align: right;\">\n",
       "      <th></th>\n",
       "      <th></th>\n",
       "      <th></th>\n",
       "      <th>V</th>\n",
       "      <th>i_Vm3</th>\n",
       "      <th>Harvested_V</th>\n",
       "      <th>Harvested_V_log_under_bark</th>\n",
       "      <th>Harvested_V_pulp_under_bark</th>\n",
       "      <th>Harvested_V_under_bark</th>\n",
       "      <th>DEVEL_CLASS</th>\n",
       "      <th>Biomass</th>\n",
       "      <th>ALL_MARKETED_MUSHROOMS</th>\n",
       "      <th>BILBERRY</th>\n",
       "      <th>...</th>\n",
       "      <th>Total_HAZEL_GROUSE</th>\n",
       "      <th>Total_V_total_deadwood</th>\n",
       "      <th>Total_N_where_D_gt_40</th>\n",
       "      <th>Total_prc_V_deciduous</th>\n",
       "      <th>Total_CARBON_SINK</th>\n",
       "      <th>Total_Recreation</th>\n",
       "      <th>Total_Scenic</th>\n",
       "      <th>CCF_forests</th>\n",
       "      <th>SA_forests</th>\n",
       "      <th>Broadleave_forests</th>\n",
       "    </tr>\n",
       "    <tr>\n",
       "      <th>id</th>\n",
       "      <th>year</th>\n",
       "      <th>regime</th>\n",
       "      <th></th>\n",
       "      <th></th>\n",
       "      <th></th>\n",
       "      <th></th>\n",
       "      <th></th>\n",
       "      <th></th>\n",
       "      <th></th>\n",
       "      <th></th>\n",
       "      <th></th>\n",
       "      <th></th>\n",
       "      <th></th>\n",
       "      <th></th>\n",
       "      <th></th>\n",
       "      <th></th>\n",
       "      <th></th>\n",
       "      <th></th>\n",
       "      <th></th>\n",
       "      <th></th>\n",
       "      <th></th>\n",
       "      <th></th>\n",
       "      <th></th>\n",
       "    </tr>\n",
       "  </thead>\n",
       "  <tbody>\n",
       "    <tr>\n",
       "      <th>99011012</th>\n",
       "      <th>2016</th>\n",
       "      <th>initial_state</th>\n",
       "      <td>64.50</td>\n",
       "      <td>0.0</td>\n",
       "      <td>0.0</td>\n",
       "      <td>0.0</td>\n",
       "      <td>0.0</td>\n",
       "      <td>0.0</td>\n",
       "      <td>4</td>\n",
       "      <td>0.0</td>\n",
       "      <td>27.66</td>\n",
       "      <td>2.654</td>\n",
       "      <td>...</td>\n",
       "      <td>0.00</td>\n",
       "      <td>1775.10</td>\n",
       "      <td>0.0</td>\n",
       "      <td>32980.0</td>\n",
       "      <td>0.0</td>\n",
       "      <td>2347.40</td>\n",
       "      <td>1746.485</td>\n",
       "      <td>False</td>\n",
       "      <td>False</td>\n",
       "      <td>False</td>\n",
       "    </tr>\n",
       "    <tr>\n",
       "      <th>99011013</th>\n",
       "      <th>2016</th>\n",
       "      <th>initial_state</th>\n",
       "      <td>27.08</td>\n",
       "      <td>0.0</td>\n",
       "      <td>0.0</td>\n",
       "      <td>0.0</td>\n",
       "      <td>0.0</td>\n",
       "      <td>0.0</td>\n",
       "      <td>3</td>\n",
       "      <td>0.0</td>\n",
       "      <td>23.37</td>\n",
       "      <td>1.223</td>\n",
       "      <td>...</td>\n",
       "      <td>0.00</td>\n",
       "      <td>1712.05</td>\n",
       "      <td>0.0</td>\n",
       "      <td>5820.0</td>\n",
       "      <td>0.0</td>\n",
       "      <td>2222.27</td>\n",
       "      <td>1745.515</td>\n",
       "      <td>False</td>\n",
       "      <td>False</td>\n",
       "      <td>False</td>\n",
       "    </tr>\n",
       "    <tr>\n",
       "      <th>99011016</th>\n",
       "      <th>2016</th>\n",
       "      <th>initial_state</th>\n",
       "      <td>141.79</td>\n",
       "      <td>0.0</td>\n",
       "      <td>0.0</td>\n",
       "      <td>0.0</td>\n",
       "      <td>0.0</td>\n",
       "      <td>0.0</td>\n",
       "      <td>5</td>\n",
       "      <td>0.0</td>\n",
       "      <td>14.38</td>\n",
       "      <td>8.031</td>\n",
       "      <td>...</td>\n",
       "      <td>315.25</td>\n",
       "      <td>2328.00</td>\n",
       "      <td>0.0</td>\n",
       "      <td>6305.0</td>\n",
       "      <td>0.0</td>\n",
       "      <td>2901.27</td>\n",
       "      <td>2972.080</td>\n",
       "      <td>False</td>\n",
       "      <td>False</td>\n",
       "      <td>False</td>\n",
       "    </tr>\n",
       "    <tr>\n",
       "      <th>99011017</th>\n",
       "      <th>2016</th>\n",
       "      <th>initial_state</th>\n",
       "      <td>66.77</td>\n",
       "      <td>0.0</td>\n",
       "      <td>0.0</td>\n",
       "      <td>0.0</td>\n",
       "      <td>0.0</td>\n",
       "      <td>0.0</td>\n",
       "      <td>4</td>\n",
       "      <td>0.0</td>\n",
       "      <td>21.43</td>\n",
       "      <td>2.618</td>\n",
       "      <td>...</td>\n",
       "      <td>0.00</td>\n",
       "      <td>1784.80</td>\n",
       "      <td>0.0</td>\n",
       "      <td>17460.0</td>\n",
       "      <td>0.0</td>\n",
       "      <td>2426.94</td>\n",
       "      <td>1959.400</td>\n",
       "      <td>False</td>\n",
       "      <td>False</td>\n",
       "      <td>False</td>\n",
       "    </tr>\n",
       "    <tr>\n",
       "      <th>99011018</th>\n",
       "      <th>2016</th>\n",
       "      <th>initial_state</th>\n",
       "      <td>49.15</td>\n",
       "      <td>0.0</td>\n",
       "      <td>0.0</td>\n",
       "      <td>0.0</td>\n",
       "      <td>0.0</td>\n",
       "      <td>0.0</td>\n",
       "      <td>4</td>\n",
       "      <td>0.0</td>\n",
       "      <td>22.75</td>\n",
       "      <td>2.398</td>\n",
       "      <td>...</td>\n",
       "      <td>0.00</td>\n",
       "      <td>1881.80</td>\n",
       "      <td>0.0</td>\n",
       "      <td>21340.0</td>\n",
       "      <td>0.0</td>\n",
       "      <td>2386.20</td>\n",
       "      <td>1828.450</td>\n",
       "      <td>False</td>\n",
       "      <td>False</td>\n",
       "      <td>False</td>\n",
       "    </tr>\n",
       "  </tbody>\n",
       "</table>\n",
       "<p>5 rows × 51 columns</p>\n",
       "</div>"
      ],
      "text/plain": [
       "                                  V  i_Vm3  Harvested_V  \\\n",
       "id       year regime                                      \n",
       "99011012 2016 initial_state   64.50    0.0          0.0   \n",
       "99011013 2016 initial_state   27.08    0.0          0.0   \n",
       "99011016 2016 initial_state  141.79    0.0          0.0   \n",
       "99011017 2016 initial_state   66.77    0.0          0.0   \n",
       "99011018 2016 initial_state   49.15    0.0          0.0   \n",
       "\n",
       "                             Harvested_V_log_under_bark  \\\n",
       "id       year regime                                      \n",
       "99011012 2016 initial_state                         0.0   \n",
       "99011013 2016 initial_state                         0.0   \n",
       "99011016 2016 initial_state                         0.0   \n",
       "99011017 2016 initial_state                         0.0   \n",
       "99011018 2016 initial_state                         0.0   \n",
       "\n",
       "                             Harvested_V_pulp_under_bark  \\\n",
       "id       year regime                                       \n",
       "99011012 2016 initial_state                          0.0   \n",
       "99011013 2016 initial_state                          0.0   \n",
       "99011016 2016 initial_state                          0.0   \n",
       "99011017 2016 initial_state                          0.0   \n",
       "99011018 2016 initial_state                          0.0   \n",
       "\n",
       "                             Harvested_V_under_bark  DEVEL_CLASS  Biomass  \\\n",
       "id       year regime                                                        \n",
       "99011012 2016 initial_state                     0.0            4      0.0   \n",
       "99011013 2016 initial_state                     0.0            3      0.0   \n",
       "99011016 2016 initial_state                     0.0            5      0.0   \n",
       "99011017 2016 initial_state                     0.0            4      0.0   \n",
       "99011018 2016 initial_state                     0.0            4      0.0   \n",
       "\n",
       "                             ALL_MARKETED_MUSHROOMS  BILBERRY  ...  \\\n",
       "id       year regime                                           ...   \n",
       "99011012 2016 initial_state                   27.66     2.654  ...   \n",
       "99011013 2016 initial_state                   23.37     1.223  ...   \n",
       "99011016 2016 initial_state                   14.38     8.031  ...   \n",
       "99011017 2016 initial_state                   21.43     2.618  ...   \n",
       "99011018 2016 initial_state                   22.75     2.398  ...   \n",
       "\n",
       "                             Total_HAZEL_GROUSE  Total_V_total_deadwood  \\\n",
       "id       year regime                                                      \n",
       "99011012 2016 initial_state                0.00                 1775.10   \n",
       "99011013 2016 initial_state                0.00                 1712.05   \n",
       "99011016 2016 initial_state              315.25                 2328.00   \n",
       "99011017 2016 initial_state                0.00                 1784.80   \n",
       "99011018 2016 initial_state                0.00                 1881.80   \n",
       "\n",
       "                             Total_N_where_D_gt_40  Total_prc_V_deciduous  \\\n",
       "id       year regime                                                        \n",
       "99011012 2016 initial_state                    0.0                32980.0   \n",
       "99011013 2016 initial_state                    0.0                 5820.0   \n",
       "99011016 2016 initial_state                    0.0                 6305.0   \n",
       "99011017 2016 initial_state                    0.0                17460.0   \n",
       "99011018 2016 initial_state                    0.0                21340.0   \n",
       "\n",
       "                             Total_CARBON_SINK  Total_Recreation  \\\n",
       "id       year regime                                               \n",
       "99011012 2016 initial_state                0.0           2347.40   \n",
       "99011013 2016 initial_state                0.0           2222.27   \n",
       "99011016 2016 initial_state                0.0           2901.27   \n",
       "99011017 2016 initial_state                0.0           2426.94   \n",
       "99011018 2016 initial_state                0.0           2386.20   \n",
       "\n",
       "                             Total_Scenic  CCF_forests  SA_forests  \\\n",
       "id       year regime                                                 \n",
       "99011012 2016 initial_state      1746.485        False       False   \n",
       "99011013 2016 initial_state      1745.515        False       False   \n",
       "99011016 2016 initial_state      2972.080        False       False   \n",
       "99011017 2016 initial_state      1959.400        False       False   \n",
       "99011018 2016 initial_state      1828.450        False       False   \n",
       "\n",
       "                             Broadleave_forests  \n",
       "id       year regime                             \n",
       "99011012 2016 initial_state               False  \n",
       "99011013 2016 initial_state               False  \n",
       "99011016 2016 initial_state               False  \n",
       "99011017 2016 initial_state               False  \n",
       "99011018 2016 initial_state               False  \n",
       "\n",
       "[5 rows x 51 columns]"
      ]
     },
     "execution_count": 18,
     "metadata": {},
     "output_type": "execute_result"
    }
   ],
   "source": [
    "mfo.initialData.head()"
   ]
  },
  {
   "cell_type": "markdown",
   "metadata": {},
   "source": [
    "## Define the optimization problem for policy scenarios\n",
    "See README.md for details.\n",
    "\n",
    "<b>Objective format:</b>\n",
    "\n",
    "Unique_key :[Long human readable name, column name in data, max/min objective, year wise aggregation, stand wise aggregation (, target year )]\n",
    "\n",
    "1) \"Unique_key\" : [ (2) \"Long human readable name\", (3) \"column name\", (4) \"max/min objective\", (5) \"year wise aggregation\", (6) \"stand wise aggregation\" (, (7) target year ) ]\n",
    "\n",
    "<b>Options for \"objective\":</b> \"max\"imise or \"min\"imise it <br>\n",
    "<b>year wise aggregation:</b> \"min\" (minimum value), \"average\", \"firstYear\", \"targetYearWithSlope\",\"targetYear\",\"lastYear\" <br>\n",
    "<b>stand wise aggregation:</b> \"sum\", \"areaWeightedAverage\", \"areaWeightedSum\" <br>\n",
    "<b>targe yeart:</b> any year except the first one"
   ]
  },
  {
   "cell_type": "markdown",
   "metadata": {},
   "source": [
    "### NFS - National Forest Strategy"
   ]
  },
  {
   "cell_type": "code",
   "execution_count": 19,
   "metadata": {},
   "outputs": [],
   "source": [
    "if scenario == 'NFS':\n",
    "    \n",
    "    wood_production_bioenergy = { \n",
    "    # Increment - target 2025\n",
    "    \"Total_i_Vm3_2025\": [\"Total annual timber volume increment by 2025 (m3)\",\n",
    "                         \"Total_i_Vm3\",\n",
    "                         \"max\",\"targetYearWithSlope\",\"sum\",2025], \n",
    "    # Increment - target 2050\n",
    "    \"Total_i_Vm3_2050\": [\"Total annual timber volume increment by 2050 (m3)\",\n",
    "                         \"Total_i_Vm3\",\n",
    "                         \"max\",\"targetYearWithSlope\",\"sum\",2050], \n",
    "    # Harvested roundwood - target 2025\n",
    "    \"Total_Harvested_V_2025\" :[\"Total annual harvested timber volume by 2025 (log & pulp) (m3)\",\n",
    "                               \"Total_Harvested_V\",\n",
    "                               \"max\",\"targetYearWithSlope\",\"sum\",2025], \n",
    "    # Harvested biomass - target 2025\n",
    "    \"Total_Biomass_2025\": [\"Total annual harvested biomass volume by 2025 (m3)\",\n",
    "                           \"Total_Biomass\",\n",
    "                           \"max\",\"targetYearWithSlope\",\"sum\",2025]\n",
    "    }\n",
    "    \n",
    "    nonwood = { \n",
    "    # Bilberry - no decline, maximise it\n",
    "    \"Relative_BILBERRY\": [\"Bilberry yield (relative to 2016, max minimum over yrs)\",\n",
    "                          \"Relative_Total_BILBERRY\",\n",
    "                          \"max\",\"min\",\"sum\"],\n",
    "    # Cowberry - no decline, maximise it\n",
    "    \"Relative_COWBERRY\": [\"Cowberry yield (relative to 2016, max minimum over yrs)\",\n",
    "                          \"Relative_Total_COWBERRY\",\n",
    "                          \"max\",\"min\",\"sum\"],\n",
    "    # Mushrooms - no decline, maximise it\n",
    "    \"Relative_ALL_MARKETED_MUSHROOMS\": [\"All marketed mushroom yield (relative to 2016, max minimum over yrs)\",\n",
    "                         \"Relative_Total_ALL_MARKETED_MUSHROOMS\",\n",
    "                         \"max\",\"min\",\"sum\"]    \n",
    "    }\n",
    "    \n",
    "    game = {\n",
    "    # HSI moose - maximise  \n",
    "    \"Sum_Total_HSI_MOOSE\": [\"Total habitat index for MOOSE (max average over all years)\",\n",
    "                           \"Total_HSI_MOOSE\",\n",
    "                           \"max\",\"average\",\"sum\"],\n",
    "    # HSI hazel grouse - maximise\n",
    "    \"Sum_Total_HAZEL_GROUSE\": [\"Total habitat index for HAZEL_GROUSE (max average over yrs)\",\n",
    "                           \"Total_HAZEL_GROUSE\",\n",
    "                           \"max\",\"average\",\"sum\"],\n",
    "    # HSI capercaillie - maximise\n",
    "    \"Sum_Total_CAPERCAILLIE\": [\"Total habitat index for CAPERCAILLIE (max average over yrs)\",\n",
    "                           \"Total_CAPERCAILLIE\",\n",
    "                           \"max\",\"average\",\"sum\"]    \n",
    "    }\n",
    "    \n",
    "    biodiversity = {\n",
    "    # Dearwood - target 2025\n",
    "    \"Average_Deadwood_V_2025\": [\"Average Deadwood volume by 2025 (m3/ha)\", \n",
    "                                \"V_total_deadwood\",\n",
    "                                \"max\", \"targetYear\", \"areaWeightedAverage\", 2025], \n",
    "    # Large trees (>40 cm) - maximise\n",
    "    \"Total_N_where_D_gt_40\": [\"Total No. of trees diameter >= 40 cm  (max end value)\",\n",
    "                              \"Total_N_where_D_gt_40\",\n",
    "                              \"max\",\"lastYear\",\"sum\"],    \n",
    "    # Deciduous tree volume - maximise\n",
    "    \"Total_prc_V_deciduous\":  [\"Total %-share of deciduous trees (related to V) (max end value)\", \n",
    "                               \"Total_prc_V_deciduous\",\n",
    "                               \"max\", \"lastYear\",\"sum\"],\n",
    "    # Conservation regime - target\n",
    "    \"Ratio_CCF_forests\": [\"Ratio of BC sites in commercial forests (%, CCF_3, CCF_4 and BAUwGTR)\",\n",
    "                          \"CCF_forests\",\n",
    "                          \"max\",\"firstYear\",\"areaWeightedAverage\"]\n",
    "    }\n",
    "    \n",
    "    climate_regulation = {\n",
    "    # Carbon sink - target 2025\n",
    "    \"Total_CARBON_SINK_2025\": [\"Total sequestration in carbon dioxide by 2025 (t CO2)\",\n",
    "                               \"Total_CARBON_SINK\",\n",
    "                               \"max\",\"targetYearWithSlope\",\"sum\",2025] \n",
    "    }\n",
    "    \n",
    "    recreation = {\n",
    "    # Recreation index - maximise\n",
    "    \"Sum_Total_Recreation\" : [\"Total Recreation index (max minimum over yrs)\",\n",
    "                              \"Total_Recreation\",\n",
    "                              \"max\",\"min\",\"sum\"],\n",
    "    \n",
    "    # Scenic index - maximise\n",
    "    \"Sum_Total_Scenic\" : [\"Total Scenic index (max minimum over yrs)\",\n",
    "                          \"Total_Scenic\",\n",
    "                          \"max\",\"min\",\"sum\"]\n",
    "    }\n",
    "    \n",
    "    resilience = {\n",
    "    # CC adaption regimes - maximise\n",
    "    \"Ratio_Broadleave_forests\": [\"Ratio of adaptive management regimes (%, increasing broadleave share)\",\n",
    "                                 \"Broadleave_forests\",\n",
    "                                 \"max\",\"firstYear\",\"areaWeightedAverage\"]\n",
    "    }\n",
    "    \n",
    "    objectives = {\n",
    "              **wood_production_bioenergy,\n",
    "              **nonwood,\n",
    "              **game,\n",
    "              **biodiversity,\n",
    "              **climate_regulation,\n",
    "              **recreation,\n",
    "              **resilience\n",
    "    }\n",
    "    \n",
    "    print(\"objectives for NFS loaded\")"
   ]
  },
  {
   "cell_type": "markdown",
   "metadata": {},
   "source": [
    "### BDS - Biodiversity Strategy"
   ]
  },
  {
   "cell_type": "code",
   "execution_count": 20,
   "metadata": {},
   "outputs": [],
   "source": [
    "if scenario == 'BDS':\n",
    "    \n",
    "    wood_production_bioenergy = { \n",
    "    # Harvested roundwood - maximise (even flow)\n",
    "    \"Average_Harvested_V\" : [\"Average harvested timber volume (log & pulp) (m3/ha, evenflow)\",\n",
    "                             \"Harvested_V\",\n",
    "                             \"max\",\"min\",\"areaWeightedAverage\"]\n",
    "    }\n",
    "    \n",
    "    game = {\n",
    "    # HSI moose - maximise       \n",
    "    \"Sum_Total_HSI_MOOSE\": [\"Total habitat index for MOOSE (max average over all years)\",\n",
    "                           \"Total_HSI_MOOSE\",\n",
    "                           \"max\",\"average\",\"sum\"],\n",
    "    # HSI hazel grouse - maximise\n",
    "    \"Sum_Total_HAZEL_GROUSE\": [\"Total habitat index for HAZEL_GROUSE (max average over yrs)\",\n",
    "                           \"Total_HAZEL_GROUSE\",\n",
    "                           \"max\",\"average\",\"sum\"],\n",
    "    # HSI carpercaillie - maximise\n",
    "    \"Sum_Total_CAPERCAILLIE\": [\"Total habitat index for CAPERCAILLIE (max average over yrs)\",\n",
    "                           \"Total_CAPERCAILLIE\",\n",
    "                           \"max\",\"average\",\"sum\"]    \n",
    "    }\n",
    "    \n",
    "    biodiversity = {\n",
    "    # Deadwood - target 2050, increase by XX%\n",
    "    \"relative_Amount_Deadwood_2050\" : [\"Total Deadwood volume by 2050 (%, relative to 2016 values)\",\n",
    "                                       \"Relative_Total_V_total_deadwood\",\n",
    "                                       \"max\",\"targetYearWithSlope\",\"sum\",2050],\n",
    "    # Large trees - target 2050, increase by XX%\n",
    "    \"relative_N_where_D_gt_40_2050\": [\"Total No. of trees diameter >= 40 cm  by 2050 (%, relative to 2016 values)\",\n",
    "                                      \"Relative_Total_N_where_D_gt_40\",\n",
    "                                      \"max\",\"targetYear\",\"sum\",2050],\n",
    "    # Deciduous tree volume - target 2050, increase by XX% \n",
    "    \"relative_prc_V_deciduous_2050\": [\"Total share of deciduous trees by 2050 (related to V) (%, relative to 2016 values)\",\n",
    "                                      \"Relative_Total_prc_V_deciduous\",\n",
    "                                      \"max\",\"targetYearWithSlope\",\"sum\",2050],\n",
    "    # Regime SA - target\n",
    "    \"Ratio_CCF_forests\": [\"Ratio of BC sites in commercial forests (%, CCF_3, CCF_4 and BAUwGTR)\",\n",
    "                          \"CCF_forests\",\n",
    "                          \"max\",\"firstYear\",\"areaWeightedAverage\"],\n",
    "    # Conservation regimes - target\n",
    "    \"Ratio_SA_forests\": [\"Ratio of protected areas (%, SA forests)\",\n",
    "                         \"SA_forests\",\n",
    "                         \"max\",\"firstYear\",\"areaWeightedAverage\"]    \n",
    "    \n",
    "    }\n",
    "    \n",
    "    recreation = {\n",
    "    # Recreation index - maximise\n",
    "    \"Sum_Total_Recreation\" : [\"Total Recreation index (max minimum over yrs)\",\n",
    "                              \"Total_Recreation\",\n",
    "                              \"max\",\"min\",\"sum\"],\n",
    "    # Scenic indes - maximise\n",
    "    \"Sum_Total_Scenic\" : [\"Total Scenic index (max minimum over yrs)\",\n",
    "                          \"Total_Scenic\",\n",
    "                          \"max\",\"min\",\"sum\"]\n",
    "    }\n",
    "    \n",
    "    objectives = {\n",
    "              **wood_production_bioenergy,\n",
    "              **game,\n",
    "              **biodiversity,\n",
    "              **recreation\n",
    "    }\n",
    "    \n",
    "    print(\"objectives for BDS loaded\")"
   ]
  },
  {
   "cell_type": "markdown",
   "metadata": {},
   "source": [
    "### BES - Bioeconomy strategy"
   ]
  },
  {
   "cell_type": "code",
   "execution_count": 21,
   "metadata": {},
   "outputs": [
    {
     "name": "stdout",
     "output_type": "stream",
     "text": [
      "objectives for BDS loaded\n"
     ]
    }
   ],
   "source": [
    "if scenario == 'BES':\n",
    "    \n",
    "    wood_production_bioenergy = { \n",
    "    # Harvested roundwood - maximise even flow\n",
    "    \"Average_Harvested_V\" : [\"Average harvested timber volume (log & pulp) (m3/ha, evenflow)\",\n",
    "                             \"Harvested_V\",\n",
    "                             \"max\",\"min\",\"areaWeightedAverage\"],\n",
    "    # Harvested biomass - maximise even flow\n",
    "    \"Biomass_Evenflow\": [\"Average harvested biomass volume (m3/ha, evenflow)\",\n",
    "                         \"Biomass\",\n",
    "                         \"max\",\"min\",\"areaWeightedAverage\"]\n",
    "    }\n",
    "    \n",
    "    biodiversity = {\n",
    "    # Deadwood - no decline (no target value)\n",
    "    \"relative_Amount_Deadwood_2050\" : [\"Total Deadwood volume by 2050 (%, relative to 2016 values)\",\n",
    "                                       \"Relative_Total_V_total_deadwood\",\n",
    "                                       \"max\",\"targetYearWithSlope\",\"sum\",2050],\n",
    "    # Large trees - no decline (no target value)\n",
    "    \"relative_N_where_D_gt_40_2050\": [\"Total No. of trees diameter >= 40 cm  by 2050 (%, relative to 2016 values)\",\n",
    "                                      \"Relative_Total_N_where_D_gt_40\",\n",
    "                                      \"max\",\"targetYear\",\"sum\",2050],\n",
    "    # Deciduous tree volume - no decline (no target value)\n",
    "    \"relative_prc_V_deciduous_2050\": [\"Total share of deciduous trees by 2050 (related to V) (%, relative to 2016 values)\",\n",
    "                                      \"Relative_Total_prc_V_deciduous\",\n",
    "                                      \"max\",\"targetYearWithSlope\",\"sum\",2050]\n",
    "    }\n",
    "    \n",
    "    recreation = {\n",
    "    # Recreation index - maximise\n",
    "    \"Sum_Total_Recreation\" : [\"Total Recreation index (max minimum over all years)\",\n",
    "                              \"Total_Recreation\",\n",
    "                              \"max\",\"min\",\"sum\"],\n",
    "    # Scenic indes - maximise\n",
    "    \"Sum_Total_Scenic\" : [\"Total Scenic index (max minimum over all years)\",\n",
    "                          \"Total_Scenic\",\n",
    "                          \"max\",\"min\",\"sum\"]\n",
    "    }\n",
    "    \n",
    "    objectives = {\n",
    "              **wood_production_bioenergy,\n",
    "              **biodiversity,\n",
    "              **recreation,\n",
    "    }\n",
    "    \n",
    "    print(\"objectives for BDS loaded\")"
   ]
  },
  {
   "cell_type": "code",
   "execution_count": 22,
   "metadata": {},
   "outputs": [
    {
     "data": {
      "text/plain": [
       "7"
      ]
     },
     "execution_count": 22,
     "metadata": {},
     "output_type": "execute_result"
    }
   ],
   "source": [
    "len(objectives)"
   ]
  },
  {
   "cell_type": "code",
   "execution_count": 23,
   "metadata": {},
   "outputs": [
    {
     "data": {
      "text/plain": [
       "dict_keys(['Average_Harvested_V', 'Biomass_Evenflow', 'relative_Amount_Deadwood_2050', 'relative_N_where_D_gt_40_2050', 'relative_prc_V_deciduous_2050', 'Sum_Total_Recreation', 'Sum_Total_Scenic'])"
      ]
     },
     "execution_count": 23,
     "metadata": {},
     "output_type": "execute_result"
    }
   ],
   "source": [
    "objectives.keys()"
   ]
  },
  {
   "cell_type": "code",
   "execution_count": 24,
   "metadata": {},
   "outputs": [
    {
     "data": {
      "text/plain": [
       "Index(['V', 'i_Vm3', 'Harvested_V', 'Harvested_V_log_under_bark',\n",
       "       'Harvested_V_pulp_under_bark', 'Harvested_V_under_bark', 'DEVEL_CLASS',\n",
       "       'Biomass', 'ALL_MARKETED_MUSHROOMS', 'BILBERRY', 'COWBERRY',\n",
       "       'HSI_MOOSE', 'CAPERCAILLIE', 'HAZEL_GROUSE', 'V_total_deadwood',\n",
       "       'N_where_D_gt_40', 'prc_V_deciduous', 'PEAT', 'clearcut', 'CARBON_SINK',\n",
       "       'Recreation', 'Scenic', 'scenario', 'represented_area_by_NFIplot',\n",
       "       'region', 'NUTS2', 'protection', 'standid', 'CARBON_STORAGE', 'NFIGrid',\n",
       "       'Total_i_Vm3', 'Total_Harvested_V', 'Total_Harvested_V_log_under_bark',\n",
       "       'Total_Harvested_V_pulp_under_bark', 'Total_Harvested_V_under_bark',\n",
       "       'Total_Biomass', 'Total_ALL_MARKETED_MUSHROOMS', 'Total_BILBERRY',\n",
       "       'Total_COWBERRY', 'Total_HSI_MOOSE', 'Total_CAPERCAILLIE',\n",
       "       'Total_HAZEL_GROUSE', 'Total_V_total_deadwood', 'Total_N_where_D_gt_40',\n",
       "       'Total_prc_V_deciduous', 'Total_CARBON_SINK', 'Total_Recreation',\n",
       "       'Total_Scenic', 'CCF_forests', 'SA_forests', 'Broadleave_forests',\n",
       "       'Relative_V', 'Relative_ALL_MARKETED_MUSHROOMS', 'Relative_BILBERRY',\n",
       "       'Relative_COWBERRY', 'Relative_HSI_MOOSE', 'Relative_CAPERCAILLIE',\n",
       "       'Relative_HAZEL_GROUSE', 'Relative_V_total_deadwood',\n",
       "       'Relative_N_where_D_gt_40', 'Relative_prc_V_deciduous',\n",
       "       'Relative_Recreation', 'Relative_Scenic', 'Relative_CARBON_STORAGE',\n",
       "       'Relative_Total_ALL_MARKETED_MUSHROOMS', 'Relative_Total_BILBERRY',\n",
       "       'Relative_Total_COWBERRY', 'Relative_Total_HSI_MOOSE',\n",
       "       'Relative_Total_CAPERCAILLIE', 'Relative_Total_HAZEL_GROUSE',\n",
       "       'Relative_Total_V_total_deadwood', 'Relative_Total_N_where_D_gt_40',\n",
       "       'Relative_Total_prc_V_deciduous', 'Relative_Total_Recreation',\n",
       "       'Relative_Total_Scenic'],\n",
       "      dtype='object')"
      ]
     },
     "execution_count": 24,
     "metadata": {},
     "output_type": "execute_result"
    }
   ],
   "source": [
    "mfo.data.columns"
   ]
  },
  {
   "cell_type": "code",
   "execution_count": 25,
   "metadata": {},
   "outputs": [
    {
     "data": {
      "text/plain": [
       "[('prc_V_deciduous', dtype('float64')),\n",
       " ('Total_prc_V_deciduous', dtype('float64')),\n",
       " ('Relative_prc_V_deciduous', dtype('float64')),\n",
       " ('Relative_Total_prc_V_deciduous', dtype('float64'))]"
      ]
     },
     "execution_count": 25,
     "metadata": {},
     "output_type": "execute_result"
    }
   ],
   "source": [
    "[(col,mfo.data.dtypes[col]) for col in mfo.data.columns if \"prc\" in col]"
   ]
  },
  {
   "cell_type": "markdown",
   "metadata": {},
   "source": [
    "## Define initial values NOT available in data, but needed for objective\n",
    "\n",
    "Examples are increment, harvests, biomass and carbon sink. They are required for the \"targetYearWithSlope\" objective, but values only occur after the first simulation period. National values are taken from the policy or forest statistics. \n",
    "\n",
    "<b>For the Central Finland test data, national values are simply divided by 19 (number of considered provinces).</b> "
   ]
  },
  {
   "cell_type": "code",
   "execution_count": 26,
   "metadata": {},
   "outputs": [],
   "source": [
    "initialValues = {\"Total_i_Vm3\":107*10**6 / 19,               # from National Forest Policy            \n",
    "                 \"Total_Harvested_V\": 72.3*10**6 / 19,       # from National Forest Policy \n",
    "                 \"Total_Biomass\": 2.9*10**6 / 19,            # from National Forest Policy  \n",
    "                 \"Total_CARBON_SINK\" : 34.1*10**6 / 19,      # from National Forest Policy  \n",
    "                                            \n",
    "                 \"SA_forests\" : 0.106,     # from ForestStatistics 2018\n",
    "                 \"CCF_forests\" : 0.015,    # from ForestStatistics 2018\n",
    "                 \"BAUwGTR_forests\":0.015}  # from ForestStatistics 2018"
   ]
  },
  {
   "cell_type": "code",
   "execution_count": 27,
   "metadata": {
    "scrolled": true
   },
   "outputs": [
    {
     "data": {
      "text/plain": [
       "'Defining objectives'"
      ]
     },
     "metadata": {},
     "output_type": "display_data"
    },
    {
     "data": {
      "text/plain": [
       "'Aggregating stand wise'"
      ]
     },
     "metadata": {},
     "output_type": "display_data"
    },
    {
     "name": "stderr",
     "output_type": "stream",
     "text": [
      "100%|██████████| 7/7 [00:50<00:00,  7.24s/it]\n"
     ]
    },
    {
     "data": {
      "text/plain": [
       "'Aggregating year wise'"
      ]
     },
     "metadata": {},
     "output_type": "display_data"
    },
    {
     "name": "stdout",
     "output_type": "stream",
     "text": [
      "100%|██████████| 7/7 [00:00<00:00, 3229.23it/s]\n"
     ]
    },
    {
     "data": {
      "text/plain": [
       "'Objectives added'"
      ]
     },
     "metadata": {},
     "output_type": "display_data"
    }
   ],
   "source": [
    "mfo.defineObjectives(objectives,initialValues = initialValues)"
   ]
  },
  {
   "cell_type": "markdown",
   "metadata": {},
   "source": [
    "## Define enabled constraints"
   ]
  },
  {
   "cell_type": "code",
   "execution_count": 28,
   "metadata": {},
   "outputs": [],
   "source": [
    "CCFregimes = [regime for regime in mfo.regimes if \"CCF\" in regime] + [\"SA\"]"
   ]
  },
  {
   "cell_type": "code",
   "execution_count": 29,
   "metadata": {},
   "outputs": [
    {
     "data": {
      "text/plain": [
       "['CCF_1', 'CCF_2', 'CCF_3', 'CCF_4', 'SA']"
      ]
     },
     "execution_count": 29,
     "metadata": {},
     "output_type": "execute_result"
    }
   ],
   "source": [
    "CCFregimes"
   ]
  },
  {
   "cell_type": "markdown",
   "metadata": {},
   "source": [
    "Constraint format:\n",
    "- Shortname: \"constraint type\",\"allowed regimes\",\"human readable name\",(regimes),\"column in data\")"
   ]
  },
  {
   "cell_type": "code",
   "execution_count": 30,
   "metadata": {},
   "outputs": [],
   "source": [
    "constraintTypes = {\"CCFonPeat\":[\"Allowed regimes\",\"Only CCF on peat lands\",CCFregimes,\"PEAT\"]}"
   ]
  },
  {
   "cell_type": "code",
   "execution_count": 31,
   "metadata": {},
   "outputs": [],
   "source": [
    "mfo.defineConstraints(constraintTypes)"
   ]
  },
  {
   "cell_type": "markdown",
   "metadata": {},
   "source": [
    "## Calculate objective ranges\n",
    "The ideal and anti-ideal solution for the individual objective functions"
   ]
  },
  {
   "cell_type": "code",
   "execution_count": 32,
   "metadata": {},
   "outputs": [
    {
     "data": {
      "text/html": [
       "<div>\n",
       "<style scoped>\n",
       "    .dataframe tbody tr th:only-of-type {\n",
       "        vertical-align: middle;\n",
       "    }\n",
       "\n",
       "    .dataframe tbody tr th {\n",
       "        vertical-align: top;\n",
       "    }\n",
       "\n",
       "    .dataframe thead th {\n",
       "        text-align: right;\n",
       "    }\n",
       "</style>\n",
       "<table border=\"1\" class=\"dataframe\">\n",
       "  <thead>\n",
       "    <tr style=\"text-align: right;\">\n",
       "      <th></th>\n",
       "      <th></th>\n",
       "      <th></th>\n",
       "      <th>V</th>\n",
       "      <th>i_Vm3</th>\n",
       "      <th>Harvested_V</th>\n",
       "      <th>Harvested_V_log_under_bark</th>\n",
       "      <th>Harvested_V_pulp_under_bark</th>\n",
       "      <th>Harvested_V_under_bark</th>\n",
       "      <th>DEVEL_CLASS</th>\n",
       "      <th>Biomass</th>\n",
       "      <th>ALL_MARKETED_MUSHROOMS</th>\n",
       "      <th>BILBERRY</th>\n",
       "      <th>...</th>\n",
       "      <th>Relative_Total_BILBERRY</th>\n",
       "      <th>Relative_Total_COWBERRY</th>\n",
       "      <th>Relative_Total_HSI_MOOSE</th>\n",
       "      <th>Relative_Total_CAPERCAILLIE</th>\n",
       "      <th>Relative_Total_HAZEL_GROUSE</th>\n",
       "      <th>Relative_Total_V_total_deadwood</th>\n",
       "      <th>Relative_Total_N_where_D_gt_40</th>\n",
       "      <th>Relative_Total_prc_V_deciduous</th>\n",
       "      <th>Relative_Total_Recreation</th>\n",
       "      <th>Relative_Total_Scenic</th>\n",
       "    </tr>\n",
       "    <tr>\n",
       "      <th>id</th>\n",
       "      <th>year</th>\n",
       "      <th>regime</th>\n",
       "      <th></th>\n",
       "      <th></th>\n",
       "      <th></th>\n",
       "      <th></th>\n",
       "      <th></th>\n",
       "      <th></th>\n",
       "      <th></th>\n",
       "      <th></th>\n",
       "      <th></th>\n",
       "      <th></th>\n",
       "      <th></th>\n",
       "      <th></th>\n",
       "      <th></th>\n",
       "      <th></th>\n",
       "      <th></th>\n",
       "      <th></th>\n",
       "      <th></th>\n",
       "      <th></th>\n",
       "      <th></th>\n",
       "      <th></th>\n",
       "      <th></th>\n",
       "    </tr>\n",
       "  </thead>\n",
       "  <tbody>\n",
       "    <tr>\n",
       "      <th rowspan=\"5\" valign=\"top\">99011012</th>\n",
       "      <th rowspan=\"5\" valign=\"top\">2021</th>\n",
       "      <th>BAU</th>\n",
       "      <td>113.94</td>\n",
       "      <td>10.59</td>\n",
       "      <td>0.00</td>\n",
       "      <td>0.00</td>\n",
       "      <td>0.0</td>\n",
       "      <td>0.00</td>\n",
       "      <td>4</td>\n",
       "      <td>0.0</td>\n",
       "      <td>28.23</td>\n",
       "      <td>3.114</td>\n",
       "      <td>...</td>\n",
       "      <td>0.000313</td>\n",
       "      <td>0.000549</td>\n",
       "      <td>0.0</td>\n",
       "      <td>0.0</td>\n",
       "      <td>0.0</td>\n",
       "      <td>0.000634</td>\n",
       "      <td>0.000000</td>\n",
       "      <td>0.001963</td>\n",
       "      <td>0.000582</td>\n",
       "      <td>0.000486</td>\n",
       "    </tr>\n",
       "    <tr>\n",
       "      <th>BAU_10</th>\n",
       "      <td>113.94</td>\n",
       "      <td>10.59</td>\n",
       "      <td>0.00</td>\n",
       "      <td>0.00</td>\n",
       "      <td>0.0</td>\n",
       "      <td>0.00</td>\n",
       "      <td>4</td>\n",
       "      <td>0.0</td>\n",
       "      <td>28.23</td>\n",
       "      <td>3.114</td>\n",
       "      <td>...</td>\n",
       "      <td>0.000313</td>\n",
       "      <td>0.000549</td>\n",
       "      <td>0.0</td>\n",
       "      <td>0.0</td>\n",
       "      <td>0.0</td>\n",
       "      <td>0.000634</td>\n",
       "      <td>0.000000</td>\n",
       "      <td>0.001963</td>\n",
       "      <td>0.000582</td>\n",
       "      <td>0.000486</td>\n",
       "    </tr>\n",
       "    <tr>\n",
       "      <th>BAU_15</th>\n",
       "      <td>113.94</td>\n",
       "      <td>10.59</td>\n",
       "      <td>0.00</td>\n",
       "      <td>0.00</td>\n",
       "      <td>0.0</td>\n",
       "      <td>0.00</td>\n",
       "      <td>4</td>\n",
       "      <td>0.0</td>\n",
       "      <td>28.23</td>\n",
       "      <td>3.114</td>\n",
       "      <td>...</td>\n",
       "      <td>0.000313</td>\n",
       "      <td>0.000549</td>\n",
       "      <td>0.0</td>\n",
       "      <td>0.0</td>\n",
       "      <td>0.0</td>\n",
       "      <td>0.000634</td>\n",
       "      <td>0.000000</td>\n",
       "      <td>0.001963</td>\n",
       "      <td>0.000582</td>\n",
       "      <td>0.000486</td>\n",
       "    </tr>\n",
       "    <tr>\n",
       "      <th>BAU_30</th>\n",
       "      <td>113.94</td>\n",
       "      <td>10.59</td>\n",
       "      <td>0.00</td>\n",
       "      <td>0.00</td>\n",
       "      <td>0.0</td>\n",
       "      <td>0.00</td>\n",
       "      <td>4</td>\n",
       "      <td>0.0</td>\n",
       "      <td>28.23</td>\n",
       "      <td>3.114</td>\n",
       "      <td>...</td>\n",
       "      <td>0.000313</td>\n",
       "      <td>0.000549</td>\n",
       "      <td>0.0</td>\n",
       "      <td>0.0</td>\n",
       "      <td>0.0</td>\n",
       "      <td>0.000634</td>\n",
       "      <td>0.000000</td>\n",
       "      <td>0.001963</td>\n",
       "      <td>0.000582</td>\n",
       "      <td>0.000486</td>\n",
       "    </tr>\n",
       "    <tr>\n",
       "      <th>BAU_5</th>\n",
       "      <td>113.94</td>\n",
       "      <td>10.59</td>\n",
       "      <td>0.00</td>\n",
       "      <td>0.00</td>\n",
       "      <td>0.0</td>\n",
       "      <td>0.00</td>\n",
       "      <td>4</td>\n",
       "      <td>0.0</td>\n",
       "      <td>28.23</td>\n",
       "      <td>3.114</td>\n",
       "      <td>...</td>\n",
       "      <td>0.000313</td>\n",
       "      <td>0.000549</td>\n",
       "      <td>0.0</td>\n",
       "      <td>0.0</td>\n",
       "      <td>0.0</td>\n",
       "      <td>0.000634</td>\n",
       "      <td>0.000000</td>\n",
       "      <td>0.001963</td>\n",
       "      <td>0.000582</td>\n",
       "      <td>0.000486</td>\n",
       "    </tr>\n",
       "    <tr>\n",
       "      <th>...</th>\n",
       "      <th>...</th>\n",
       "      <th>...</th>\n",
       "      <td>...</td>\n",
       "      <td>...</td>\n",
       "      <td>...</td>\n",
       "      <td>...</td>\n",
       "      <td>...</td>\n",
       "      <td>...</td>\n",
       "      <td>...</td>\n",
       "      <td>...</td>\n",
       "      <td>...</td>\n",
       "      <td>...</td>\n",
       "      <td>...</td>\n",
       "      <td>...</td>\n",
       "      <td>...</td>\n",
       "      <td>...</td>\n",
       "      <td>...</td>\n",
       "      <td>...</td>\n",
       "      <td>...</td>\n",
       "      <td>...</td>\n",
       "      <td>...</td>\n",
       "      <td>...</td>\n",
       "      <td>...</td>\n",
       "    </tr>\n",
       "    <tr>\n",
       "      <th rowspan=\"5\" valign=\"top\">99013935</th>\n",
       "      <th rowspan=\"5\" valign=\"top\">2116</th>\n",
       "      <th>CCF_1</th>\n",
       "      <td>69.23</td>\n",
       "      <td>2.91</td>\n",
       "      <td>15.06</td>\n",
       "      <td>11.79</td>\n",
       "      <td>1.6</td>\n",
       "      <td>13.39</td>\n",
       "      <td>10</td>\n",
       "      <td>0.0</td>\n",
       "      <td>13.25</td>\n",
       "      <td>3.570</td>\n",
       "      <td>...</td>\n",
       "      <td>0.000359</td>\n",
       "      <td>0.000676</td>\n",
       "      <td>0.0</td>\n",
       "      <td>0.0</td>\n",
       "      <td>0.0</td>\n",
       "      <td>0.000923</td>\n",
       "      <td>0.000000</td>\n",
       "      <td>0.001033</td>\n",
       "      <td>0.000658</td>\n",
       "      <td>0.000999</td>\n",
       "    </tr>\n",
       "    <tr>\n",
       "      <th>CCF_2</th>\n",
       "      <td>69.23</td>\n",
       "      <td>2.91</td>\n",
       "      <td>15.06</td>\n",
       "      <td>11.79</td>\n",
       "      <td>1.6</td>\n",
       "      <td>13.39</td>\n",
       "      <td>10</td>\n",
       "      <td>0.0</td>\n",
       "      <td>13.25</td>\n",
       "      <td>3.570</td>\n",
       "      <td>...</td>\n",
       "      <td>0.000359</td>\n",
       "      <td>0.000676</td>\n",
       "      <td>0.0</td>\n",
       "      <td>0.0</td>\n",
       "      <td>0.0</td>\n",
       "      <td>0.000882</td>\n",
       "      <td>0.000000</td>\n",
       "      <td>0.001033</td>\n",
       "      <td>0.000658</td>\n",
       "      <td>0.000999</td>\n",
       "    </tr>\n",
       "    <tr>\n",
       "      <th>CCF_3</th>\n",
       "      <td>178.49</td>\n",
       "      <td>3.14</td>\n",
       "      <td>0.00</td>\n",
       "      <td>0.00</td>\n",
       "      <td>0.0</td>\n",
       "      <td>0.00</td>\n",
       "      <td>10</td>\n",
       "      <td>0.0</td>\n",
       "      <td>12.69</td>\n",
       "      <td>10.137</td>\n",
       "      <td>...</td>\n",
       "      <td>0.001019</td>\n",
       "      <td>0.000527</td>\n",
       "      <td>0.0</td>\n",
       "      <td>0.0</td>\n",
       "      <td>0.0</td>\n",
       "      <td>0.000783</td>\n",
       "      <td>1.298346</td>\n",
       "      <td>0.000827</td>\n",
       "      <td>0.000838</td>\n",
       "      <td>0.001172</td>\n",
       "    </tr>\n",
       "    <tr>\n",
       "      <th>CCF_4</th>\n",
       "      <td>168.33</td>\n",
       "      <td>3.54</td>\n",
       "      <td>0.00</td>\n",
       "      <td>0.00</td>\n",
       "      <td>0.0</td>\n",
       "      <td>0.00</td>\n",
       "      <td>10</td>\n",
       "      <td>0.0</td>\n",
       "      <td>12.72</td>\n",
       "      <td>11.035</td>\n",
       "      <td>...</td>\n",
       "      <td>0.001109</td>\n",
       "      <td>0.000533</td>\n",
       "      <td>0.0</td>\n",
       "      <td>0.0</td>\n",
       "      <td>0.0</td>\n",
       "      <td>0.000745</td>\n",
       "      <td>0.833121</td>\n",
       "      <td>0.000792</td>\n",
       "      <td>0.000738</td>\n",
       "      <td>0.001098</td>\n",
       "    </tr>\n",
       "    <tr>\n",
       "      <th>SA</th>\n",
       "      <td>299.30</td>\n",
       "      <td>0.57</td>\n",
       "      <td>0.00</td>\n",
       "      <td>0.00</td>\n",
       "      <td>0.0</td>\n",
       "      <td>0.00</td>\n",
       "      <td>6</td>\n",
       "      <td>0.0</td>\n",
       "      <td>12.41</td>\n",
       "      <td>10.433</td>\n",
       "      <td>...</td>\n",
       "      <td>0.001048</td>\n",
       "      <td>0.000490</td>\n",
       "      <td>0.0</td>\n",
       "      <td>0.0</td>\n",
       "      <td>0.0</td>\n",
       "      <td>0.005953</td>\n",
       "      <td>0.000000</td>\n",
       "      <td>0.000241</td>\n",
       "      <td>0.000792</td>\n",
       "      <td>0.001197</td>\n",
       "    </tr>\n",
       "  </tbody>\n",
       "</table>\n",
       "<p>728740 rows × 75 columns</p>\n",
       "</div>"
      ],
      "text/plain": [
       "                           V  i_Vm3  Harvested_V  Harvested_V_log_under_bark  \\\n",
       "id       year regime                                                           \n",
       "99011012 2021 BAU     113.94  10.59         0.00                        0.00   \n",
       "              BAU_10  113.94  10.59         0.00                        0.00   \n",
       "              BAU_15  113.94  10.59         0.00                        0.00   \n",
       "              BAU_30  113.94  10.59         0.00                        0.00   \n",
       "              BAU_5   113.94  10.59         0.00                        0.00   \n",
       "...                      ...    ...          ...                         ...   \n",
       "99013935 2116 CCF_1    69.23   2.91        15.06                       11.79   \n",
       "              CCF_2    69.23   2.91        15.06                       11.79   \n",
       "              CCF_3   178.49   3.14         0.00                        0.00   \n",
       "              CCF_4   168.33   3.54         0.00                        0.00   \n",
       "              SA      299.30   0.57         0.00                        0.00   \n",
       "\n",
       "                      Harvested_V_pulp_under_bark  Harvested_V_under_bark  \\\n",
       "id       year regime                                                        \n",
       "99011012 2021 BAU                             0.0                    0.00   \n",
       "              BAU_10                          0.0                    0.00   \n",
       "              BAU_15                          0.0                    0.00   \n",
       "              BAU_30                          0.0                    0.00   \n",
       "              BAU_5                           0.0                    0.00   \n",
       "...                                           ...                     ...   \n",
       "99013935 2116 CCF_1                           1.6                   13.39   \n",
       "              CCF_2                           1.6                   13.39   \n",
       "              CCF_3                           0.0                    0.00   \n",
       "              CCF_4                           0.0                    0.00   \n",
       "              SA                              0.0                    0.00   \n",
       "\n",
       "                      DEVEL_CLASS  Biomass  ALL_MARKETED_MUSHROOMS  BILBERRY  \\\n",
       "id       year regime                                                           \n",
       "99011012 2021 BAU               4      0.0                   28.23     3.114   \n",
       "              BAU_10            4      0.0                   28.23     3.114   \n",
       "              BAU_15            4      0.0                   28.23     3.114   \n",
       "              BAU_30            4      0.0                   28.23     3.114   \n",
       "              BAU_5             4      0.0                   28.23     3.114   \n",
       "...                           ...      ...                     ...       ...   \n",
       "99013935 2116 CCF_1            10      0.0                   13.25     3.570   \n",
       "              CCF_2            10      0.0                   13.25     3.570   \n",
       "              CCF_3            10      0.0                   12.69    10.137   \n",
       "              CCF_4            10      0.0                   12.72    11.035   \n",
       "              SA                6      0.0                   12.41    10.433   \n",
       "\n",
       "                      ...  Relative_Total_BILBERRY  Relative_Total_COWBERRY  \\\n",
       "id       year regime  ...                                                     \n",
       "99011012 2021 BAU     ...                 0.000313                 0.000549   \n",
       "              BAU_10  ...                 0.000313                 0.000549   \n",
       "              BAU_15  ...                 0.000313                 0.000549   \n",
       "              BAU_30  ...                 0.000313                 0.000549   \n",
       "              BAU_5   ...                 0.000313                 0.000549   \n",
       "...                   ...                      ...                      ...   \n",
       "99013935 2116 CCF_1   ...                 0.000359                 0.000676   \n",
       "              CCF_2   ...                 0.000359                 0.000676   \n",
       "              CCF_3   ...                 0.001019                 0.000527   \n",
       "              CCF_4   ...                 0.001109                 0.000533   \n",
       "              SA      ...                 0.001048                 0.000490   \n",
       "\n",
       "                      Relative_Total_HSI_MOOSE  Relative_Total_CAPERCAILLIE  \\\n",
       "id       year regime                                                          \n",
       "99011012 2021 BAU                          0.0                          0.0   \n",
       "              BAU_10                       0.0                          0.0   \n",
       "              BAU_15                       0.0                          0.0   \n",
       "              BAU_30                       0.0                          0.0   \n",
       "              BAU_5                        0.0                          0.0   \n",
       "...                                        ...                          ...   \n",
       "99013935 2116 CCF_1                        0.0                          0.0   \n",
       "              CCF_2                        0.0                          0.0   \n",
       "              CCF_3                        0.0                          0.0   \n",
       "              CCF_4                        0.0                          0.0   \n",
       "              SA                           0.0                          0.0   \n",
       "\n",
       "                      Relative_Total_HAZEL_GROUSE  \\\n",
       "id       year regime                                \n",
       "99011012 2021 BAU                             0.0   \n",
       "              BAU_10                          0.0   \n",
       "              BAU_15                          0.0   \n",
       "              BAU_30                          0.0   \n",
       "              BAU_5                           0.0   \n",
       "...                                           ...   \n",
       "99013935 2116 CCF_1                           0.0   \n",
       "              CCF_2                           0.0   \n",
       "              CCF_3                           0.0   \n",
       "              CCF_4                           0.0   \n",
       "              SA                              0.0   \n",
       "\n",
       "                      Relative_Total_V_total_deadwood  \\\n",
       "id       year regime                                    \n",
       "99011012 2021 BAU                            0.000634   \n",
       "              BAU_10                         0.000634   \n",
       "              BAU_15                         0.000634   \n",
       "              BAU_30                         0.000634   \n",
       "              BAU_5                          0.000634   \n",
       "...                                               ...   \n",
       "99013935 2116 CCF_1                          0.000923   \n",
       "              CCF_2                          0.000882   \n",
       "              CCF_3                          0.000783   \n",
       "              CCF_4                          0.000745   \n",
       "              SA                             0.005953   \n",
       "\n",
       "                      Relative_Total_N_where_D_gt_40  \\\n",
       "id       year regime                                   \n",
       "99011012 2021 BAU                           0.000000   \n",
       "              BAU_10                        0.000000   \n",
       "              BAU_15                        0.000000   \n",
       "              BAU_30                        0.000000   \n",
       "              BAU_5                         0.000000   \n",
       "...                                              ...   \n",
       "99013935 2116 CCF_1                         0.000000   \n",
       "              CCF_2                         0.000000   \n",
       "              CCF_3                         1.298346   \n",
       "              CCF_4                         0.833121   \n",
       "              SA                            0.000000   \n",
       "\n",
       "                      Relative_Total_prc_V_deciduous  \\\n",
       "id       year regime                                   \n",
       "99011012 2021 BAU                           0.001963   \n",
       "              BAU_10                        0.001963   \n",
       "              BAU_15                        0.001963   \n",
       "              BAU_30                        0.001963   \n",
       "              BAU_5                         0.001963   \n",
       "...                                              ...   \n",
       "99013935 2116 CCF_1                         0.001033   \n",
       "              CCF_2                         0.001033   \n",
       "              CCF_3                         0.000827   \n",
       "              CCF_4                         0.000792   \n",
       "              SA                            0.000241   \n",
       "\n",
       "                      Relative_Total_Recreation  Relative_Total_Scenic  \n",
       "id       year regime                                                    \n",
       "99011012 2021 BAU                      0.000582               0.000486  \n",
       "              BAU_10                   0.000582               0.000486  \n",
       "              BAU_15                   0.000582               0.000486  \n",
       "              BAU_30                   0.000582               0.000486  \n",
       "              BAU_5                    0.000582               0.000486  \n",
       "...                                         ...                    ...  \n",
       "99013935 2116 CCF_1                    0.000658               0.000999  \n",
       "              CCF_2                    0.000658               0.000999  \n",
       "              CCF_3                    0.000838               0.001172  \n",
       "              CCF_4                    0.000738               0.001098  \n",
       "              SA                       0.000792               0.001197  \n",
       "\n",
       "[728740 rows x 75 columns]"
      ]
     },
     "execution_count": 32,
     "metadata": {},
     "output_type": "execute_result"
    }
   ],
   "source": [
    "mfo.data"
   ]
  },
  {
   "cell_type": "code",
   "execution_count": 33,
   "metadata": {
    "scrolled": false
   },
   "outputs": [
    {
     "data": {
      "text/plain": [
       "'Calculating objective ranges'"
      ]
     },
     "metadata": {},
     "output_type": "display_data"
    },
    {
     "name": "stdout",
     "output_type": "stream",
     "text": [
      "\r",
      "  0%|          | 0/7 [00:00<?, ?it/s]"
     ]
    },
    {
     "data": {
      "text/plain": [
       "'Optimizing for Average harvested timber volume (log & pulp) (m3/ha, evenflow)'"
      ]
     },
     "metadata": {},
     "output_type": "display_data"
    },
    {
     "data": {
      "text/plain": [
       "'Found an optimal solution in 1 seconds'"
      ]
     },
     "metadata": {},
     "output_type": "display_data"
    },
    {
     "data": {
      "text/plain": [
       "'Objective values are:'"
      ]
     },
     "metadata": {},
     "output_type": "display_data"
    },
    {
     "data": {
      "text/plain": [
       "'Average harvested timber volume (log & pulp) (m3/ha, evenflow)'"
      ]
     },
     "metadata": {},
     "output_type": "display_data"
    },
    {
     "data": {
      "text/plain": [
       "5.167856718927907"
      ]
     },
     "metadata": {},
     "output_type": "display_data"
    },
    {
     "data": {
      "text/plain": [
       "'Average harvested biomass volume (m3/ha, evenflow)'"
      ]
     },
     "metadata": {},
     "output_type": "display_data"
    },
    {
     "data": {
      "text/plain": [
       "0.38568129862594713"
      ]
     },
     "metadata": {},
     "output_type": "display_data"
    },
    {
     "data": {
      "text/plain": [
       "'Total Deadwood volume by 2050 (%, relative to 2016 values)'"
      ]
     },
     "metadata": {},
     "output_type": "display_data"
    },
    {
     "data": {
      "text/plain": [
       "0.830848650707796"
      ]
     },
     "metadata": {},
     "output_type": "display_data"
    },
    {
     "data": {
      "text/plain": [
       "'Total No. of trees diameter >= 40 cm  by 2050 (%, relative to 2016 values)'"
      ]
     },
     "metadata": {},
     "output_type": "display_data"
    },
    {
     "data": {
      "text/plain": [
       "1.4249363867684481"
      ]
     },
     "metadata": {},
     "output_type": "display_data"
    },
    {
     "data": {
      "text/plain": [
       "'Total share of deciduous trees by 2050 (related to V) (%, relative to 2016 values)'"
      ]
     },
     "metadata": {},
     "output_type": "display_data"
    },
    {
     "data": {
      "text/plain": [
       "0.40602646319169633"
      ]
     },
     "metadata": {},
     "output_type": "display_data"
    },
    {
     "data": {
      "text/plain": [
       "'Total Recreation index (max minimum over all years)'"
      ]
     },
     "metadata": {},
     "output_type": "display_data"
    },
    {
     "data": {
      "text/plain": [
       "6845298.0432127705"
      ]
     },
     "metadata": {},
     "output_type": "display_data"
    },
    {
     "data": {
      "text/plain": [
       "'Total Scenic index (max minimum over all years)'"
      ]
     },
     "metadata": {},
     "output_type": "display_data"
    },
    {
     "data": {
      "text/plain": [
       "6142335.036554448"
      ]
     },
     "metadata": {},
     "output_type": "display_data"
    },
    {
     "name": "stdout",
     "output_type": "stream",
     "text": [
      "\r",
      " 14%|█▍        | 1/7 [00:04<00:25,  4.31s/it]"
     ]
    },
    {
     "data": {
      "text/plain": [
       "'Optimizing for Average harvested biomass volume (m3/ha, evenflow)'"
      ]
     },
     "metadata": {},
     "output_type": "display_data"
    },
    {
     "data": {
      "text/plain": [
       "'Found an optimal solution in 0 seconds'"
      ]
     },
     "metadata": {},
     "output_type": "display_data"
    },
    {
     "data": {
      "text/plain": [
       "'Objective values are:'"
      ]
     },
     "metadata": {},
     "output_type": "display_data"
    },
    {
     "data": {
      "text/plain": [
       "'Average harvested timber volume (log & pulp) (m3/ha, evenflow)'"
      ]
     },
     "metadata": {},
     "output_type": "display_data"
    },
    {
     "data": {
      "text/plain": [
       "3.5531686864358525"
      ]
     },
     "metadata": {},
     "output_type": "display_data"
    },
    {
     "data": {
      "text/plain": [
       "'Average harvested biomass volume (m3/ha, evenflow)'"
      ]
     },
     "metadata": {},
     "output_type": "display_data"
    },
    {
     "data": {
      "text/plain": [
       "0.667495280922607"
      ]
     },
     "metadata": {},
     "output_type": "display_data"
    },
    {
     "data": {
      "text/plain": [
       "'Total Deadwood volume by 2050 (%, relative to 2016 values)'"
      ]
     },
     "metadata": {},
     "output_type": "display_data"
    },
    {
     "data": {
      "text/plain": [
       "0.792273229810413"
      ]
     },
     "metadata": {},
     "output_type": "display_data"
    },
    {
     "data": {
      "text/plain": [
       "'Total No. of trees diameter >= 40 cm  by 2050 (%, relative to 2016 values)'"
      ]
     },
     "metadata": {},
     "output_type": "display_data"
    },
    {
     "data": {
      "text/plain": [
       "6.2826547921967775"
      ]
     },
     "metadata": {},
     "output_type": "display_data"
    },
    {
     "data": {
      "text/plain": [
       "'Total share of deciduous trees by 2050 (related to V) (%, relative to 2016 values)'"
      ]
     },
     "metadata": {},
     "output_type": "display_data"
    },
    {
     "data": {
      "text/plain": [
       "-0.06253315726367425"
      ]
     },
     "metadata": {},
     "output_type": "display_data"
    },
    {
     "data": {
      "text/plain": [
       "'Total Recreation index (max minimum over all years)'"
      ]
     },
     "metadata": {},
     "output_type": "display_data"
    },
    {
     "data": {
      "text/plain": [
       "6683259.113309236"
      ]
     },
     "metadata": {},
     "output_type": "display_data"
    },
    {
     "data": {
      "text/plain": [
       "'Total Scenic index (max minimum over all years)'"
      ]
     },
     "metadata": {},
     "output_type": "display_data"
    },
    {
     "data": {
      "text/plain": [
       "5970325.560111748"
      ]
     },
     "metadata": {},
     "output_type": "display_data"
    },
    {
     "name": "stdout",
     "output_type": "stream",
     "text": [
      "\r",
      " 29%|██▊       | 2/7 [00:08<00:21,  4.20s/it]"
     ]
    },
    {
     "data": {
      "text/plain": [
       "'Optimizing for Total Deadwood volume by 2050 (%, relative to 2016 values)'"
      ]
     },
     "metadata": {},
     "output_type": "display_data"
    },
    {
     "data": {
      "text/plain": [
       "'Found an optimal solution in 0 seconds'"
      ]
     },
     "metadata": {},
     "output_type": "display_data"
    },
    {
     "data": {
      "text/plain": [
       "'Objective values are:'"
      ]
     },
     "metadata": {},
     "output_type": "display_data"
    },
    {
     "data": {
      "text/plain": [
       "'Average harvested timber volume (log & pulp) (m3/ha, evenflow)'"
      ]
     },
     "metadata": {},
     "output_type": "display_data"
    },
    {
     "data": {
      "text/plain": [
       "0.014110807113543091"
      ]
     },
     "metadata": {},
     "output_type": "display_data"
    },
    {
     "data": {
      "text/plain": [
       "'Average harvested biomass volume (m3/ha, evenflow)'"
      ]
     },
     "metadata": {},
     "output_type": "display_data"
    },
    {
     "data": {
      "text/plain": [
       "0.0012722298221614226"
      ]
     },
     "metadata": {},
     "output_type": "display_data"
    },
    {
     "data": {
      "text/plain": [
       "'Total Deadwood volume by 2050 (%, relative to 2016 values)'"
      ]
     },
     "metadata": {},
     "output_type": "display_data"
    },
    {
     "data": {
      "text/plain": [
       "4.224602719518968"
      ]
     },
     "metadata": {},
     "output_type": "display_data"
    },
    {
     "data": {
      "text/plain": [
       "'Total No. of trees diameter >= 40 cm  by 2050 (%, relative to 2016 values)'"
      ]
     },
     "metadata": {},
     "output_type": "display_data"
    },
    {
     "data": {
      "text/plain": [
       "4.065521628498727"
      ]
     },
     "metadata": {},
     "output_type": "display_data"
    },
    {
     "data": {
      "text/plain": [
       "'Total share of deciduous trees by 2050 (related to V) (%, relative to 2016 values)'"
      ]
     },
     "metadata": {},
     "output_type": "display_data"
    },
    {
     "data": {
      "text/plain": [
       "0.4603092605985432"
      ]
     },
     "metadata": {},
     "output_type": "display_data"
    },
    {
     "data": {
      "text/plain": [
       "'Total Recreation index (max minimum over all years)'"
      ]
     },
     "metadata": {},
     "output_type": "display_data"
    },
    {
     "data": {
      "text/plain": [
       "7451719.450000016"
      ]
     },
     "metadata": {},
     "output_type": "display_data"
    },
    {
     "data": {
      "text/plain": [
       "'Total Scenic index (max minimum over all years)'"
      ]
     },
     "metadata": {},
     "output_type": "display_data"
    },
    {
     "data": {
      "text/plain": [
       "6833121.350000011"
      ]
     },
     "metadata": {},
     "output_type": "display_data"
    },
    {
     "name": "stdout",
     "output_type": "stream",
     "text": [
      "\r",
      " 43%|████▎     | 3/7 [00:14<00:19,  4.85s/it]"
     ]
    },
    {
     "data": {
      "text/plain": [
       "'Optimizing for Total No. of trees diameter >= 40 cm  by 2050 (%, relative to 2016 values)'"
      ]
     },
     "metadata": {},
     "output_type": "display_data"
    },
    {
     "data": {
      "text/plain": [
       "'Found an optimal solution in 0 seconds'"
      ]
     },
     "metadata": {},
     "output_type": "display_data"
    },
    {
     "data": {
      "text/plain": [
       "'Objective values are:'"
      ]
     },
     "metadata": {},
     "output_type": "display_data"
    },
    {
     "data": {
      "text/plain": [
       "'Average harvested timber volume (log & pulp) (m3/ha, evenflow)'"
      ]
     },
     "metadata": {},
     "output_type": "display_data"
    },
    {
     "data": {
      "text/plain": [
       "1.4283447332421337"
      ]
     },
     "metadata": {},
     "output_type": "display_data"
    },
    {
     "data": {
      "text/plain": [
       "'Average harvested biomass volume (m3/ha, evenflow)'"
      ]
     },
     "metadata": {},
     "output_type": "display_data"
    },
    {
     "data": {
      "text/plain": [
       "0.22615595075239397"
      ]
     },
     "metadata": {},
     "output_type": "display_data"
    },
    {
     "data": {
      "text/plain": [
       "'Total Deadwood volume by 2050 (%, relative to 2016 values)'"
      ]
     },
     "metadata": {},
     "output_type": "display_data"
    },
    {
     "data": {
      "text/plain": [
       "0.9045346303554437"
      ]
     },
     "metadata": {},
     "output_type": "display_data"
    },
    {
     "data": {
      "text/plain": [
       "'Total No. of trees diameter >= 40 cm  by 2050 (%, relative to 2016 values)'"
      ]
     },
     "metadata": {},
     "output_type": "display_data"
    },
    {
     "data": {
      "text/plain": [
       "20.495122985581006"
      ]
     },
     "metadata": {},
     "output_type": "display_data"
    },
    {
     "data": {
      "text/plain": [
       "'Total share of deciduous trees by 2050 (related to V) (%, relative to 2016 values)'"
      ]
     },
     "metadata": {},
     "output_type": "display_data"
    },
    {
     "data": {
      "text/plain": [
       "0.12088025622481603"
      ]
     },
     "metadata": {},
     "output_type": "display_data"
    },
    {
     "data": {
      "text/plain": [
       "'Total Recreation index (max minimum over all years)'"
      ]
     },
     "metadata": {},
     "output_type": "display_data"
    },
    {
     "data": {
      "text/plain": [
       "6536600.110000007"
      ]
     },
     "metadata": {},
     "output_type": "display_data"
    },
    {
     "data": {
      "text/plain": [
       "'Total Scenic index (max minimum over all years)'"
      ]
     },
     "metadata": {},
     "output_type": "display_data"
    },
    {
     "data": {
      "text/plain": [
       "5804641.020000011"
      ]
     },
     "metadata": {},
     "output_type": "display_data"
    },
    {
     "name": "stdout",
     "output_type": "stream",
     "text": [
      "\r",
      " 57%|█████▋    | 4/7 [00:18<00:13,  4.46s/it]"
     ]
    },
    {
     "data": {
      "text/plain": [
       "'Optimizing for Total share of deciduous trees by 2050 (related to V) (%, relative to 2016 values)'"
      ]
     },
     "metadata": {},
     "output_type": "display_data"
    },
    {
     "data": {
      "text/plain": [
       "'Found an optimal solution in 0 seconds'"
      ]
     },
     "metadata": {},
     "output_type": "display_data"
    },
    {
     "data": {
      "text/plain": [
       "'Objective values are:'"
      ]
     },
     "metadata": {},
     "output_type": "display_data"
    },
    {
     "data": {
      "text/plain": [
       "'Average harvested timber volume (log & pulp) (m3/ha, evenflow)'"
      ]
     },
     "metadata": {},
     "output_type": "display_data"
    },
    {
     "data": {
      "text/plain": [
       "2.008333587508061"
      ]
     },
     "metadata": {},
     "output_type": "display_data"
    },
    {
     "data": {
      "text/plain": [
       "'Average harvested biomass volume (m3/ha, evenflow)'"
      ]
     },
     "metadata": {},
     "output_type": "display_data"
    },
    {
     "data": {
      "text/plain": [
       "0.12852941176470586"
      ]
     },
     "metadata": {},
     "output_type": "display_data"
    },
    {
     "data": {
      "text/plain": [
       "'Total Deadwood volume by 2050 (%, relative to 2016 values)'"
      ]
     },
     "metadata": {},
     "output_type": "display_data"
    },
    {
     "data": {
      "text/plain": [
       "1.141141693398716"
      ]
     },
     "metadata": {},
     "output_type": "display_data"
    },
    {
     "data": {
      "text/plain": [
       "'Total No. of trees diameter >= 40 cm  by 2050 (%, relative to 2016 values)'"
      ]
     },
     "metadata": {},
     "output_type": "display_data"
    },
    {
     "data": {
      "text/plain": [
       "4.324639525021205"
      ]
     },
     "metadata": {},
     "output_type": "display_data"
    },
    {
     "data": {
      "text/plain": [
       "'Total share of deciduous trees by 2050 (related to V) (%, relative to 2016 values)'"
      ]
     },
     "metadata": {},
     "output_type": "display_data"
    },
    {
     "data": {
      "text/plain": [
       "1.3760999101792595"
      ]
     },
     "metadata": {},
     "output_type": "display_data"
    },
    {
     "data": {
      "text/plain": [
       "'Total Recreation index (max minimum over all years)'"
      ]
     },
     "metadata": {},
     "output_type": "display_data"
    },
    {
     "data": {
      "text/plain": [
       "6811827.269539361"
      ]
     },
     "metadata": {},
     "output_type": "display_data"
    },
    {
     "data": {
      "text/plain": [
       "'Total Scenic index (max minimum over all years)'"
      ]
     },
     "metadata": {},
     "output_type": "display_data"
    },
    {
     "data": {
      "text/plain": [
       "6238294.248523258"
      ]
     },
     "metadata": {},
     "output_type": "display_data"
    },
    {
     "name": "stdout",
     "output_type": "stream",
     "text": [
      "\r",
      " 71%|███████▏  | 5/7 [00:22<00:08,  4.40s/it]"
     ]
    },
    {
     "data": {
      "text/plain": [
       "'Optimizing for Total Recreation index (max minimum over all years)'"
      ]
     },
     "metadata": {},
     "output_type": "display_data"
    },
    {
     "data": {
      "text/plain": [
       "'Found an optimal solution in 0 seconds'"
      ]
     },
     "metadata": {},
     "output_type": "display_data"
    },
    {
     "data": {
      "text/plain": [
       "'Objective values are:'"
      ]
     },
     "metadata": {},
     "output_type": "display_data"
    },
    {
     "data": {
      "text/plain": [
       "'Average harvested timber volume (log & pulp) (m3/ha, evenflow)'"
      ]
     },
     "metadata": {},
     "output_type": "display_data"
    },
    {
     "data": {
      "text/plain": [
       "1.3885125301979169"
      ]
     },
     "metadata": {},
     "output_type": "display_data"
    },
    {
     "data": {
      "text/plain": [
       "'Average harvested biomass volume (m3/ha, evenflow)'"
      ]
     },
     "metadata": {},
     "output_type": "display_data"
    },
    {
     "data": {
      "text/plain": [
       "0.10359781121751026"
      ]
     },
     "metadata": {},
     "output_type": "display_data"
    },
    {
     "data": {
      "text/plain": [
       "'Total Deadwood volume by 2050 (%, relative to 2016 values)'"
      ]
     },
     "metadata": {},
     "output_type": "display_data"
    },
    {
     "data": {
      "text/plain": [
       "2.8601338404472605"
      ]
     },
     "metadata": {},
     "output_type": "display_data"
    },
    {
     "data": {
      "text/plain": [
       "'Total No. of trees diameter >= 40 cm  by 2050 (%, relative to 2016 values)'"
      ]
     },
     "metadata": {},
     "output_type": "display_data"
    },
    {
     "data": {
      "text/plain": [
       "6.683842239185751"
      ]
     },
     "metadata": {},
     "output_type": "display_data"
    },
    {
     "data": {
      "text/plain": [
       "'Total share of deciduous trees by 2050 (related to V) (%, relative to 2016 values)'"
      ]
     },
     "metadata": {},
     "output_type": "display_data"
    },
    {
     "data": {
      "text/plain": [
       "0.5410994336646177"
      ]
     },
     "metadata": {},
     "output_type": "display_data"
    },
    {
     "data": {
      "text/plain": [
       "'Total Recreation index (max minimum over all years)'"
      ]
     },
     "metadata": {},
     "output_type": "display_data"
    },
    {
     "data": {
      "text/plain": [
       "7655098.183936157"
      ]
     },
     "metadata": {},
     "output_type": "display_data"
    },
    {
     "data": {
      "text/plain": [
       "'Total Scenic index (max minimum over all years)'"
      ]
     },
     "metadata": {},
     "output_type": "display_data"
    },
    {
     "data": {
      "text/plain": [
       "6916768.092659556"
      ]
     },
     "metadata": {},
     "output_type": "display_data"
    },
    {
     "name": "stdout",
     "output_type": "stream",
     "text": [
      "\r",
      " 86%|████████▌ | 6/7 [00:26<00:04,  4.31s/it]"
     ]
    },
    {
     "data": {
      "text/plain": [
       "'Optimizing for Total Scenic index (max minimum over all years)'"
      ]
     },
     "metadata": {},
     "output_type": "display_data"
    },
    {
     "data": {
      "text/plain": [
       "'Found an optimal solution in 0 seconds'"
      ]
     },
     "metadata": {},
     "output_type": "display_data"
    },
    {
     "data": {
      "text/plain": [
       "'Objective values are:'"
      ]
     },
     "metadata": {},
     "output_type": "display_data"
    },
    {
     "data": {
      "text/plain": [
       "'Average harvested timber volume (log & pulp) (m3/ha, evenflow)'"
      ]
     },
     "metadata": {},
     "output_type": "display_data"
    },
    {
     "data": {
      "text/plain": [
       "1.0205534155581901"
      ]
     },
     "metadata": {},
     "output_type": "display_data"
    },
    {
     "data": {
      "text/plain": [
       "'Average harvested biomass volume (m3/ha, evenflow)'"
      ]
     },
     "metadata": {},
     "output_type": "display_data"
    },
    {
     "data": {
      "text/plain": [
       "0.07691518467852258"
      ]
     },
     "metadata": {},
     "output_type": "display_data"
    },
    {
     "data": {
      "text/plain": [
       "'Total Deadwood volume by 2050 (%, relative to 2016 values)'"
      ]
     },
     "metadata": {},
     "output_type": "display_data"
    },
    {
     "data": {
      "text/plain": [
       "2.98105299277324"
      ]
     },
     "metadata": {},
     "output_type": "display_data"
    },
    {
     "data": {
      "text/plain": [
       "'Total No. of trees diameter >= 40 cm  by 2050 (%, relative to 2016 values)'"
      ]
     },
     "metadata": {},
     "output_type": "display_data"
    },
    {
     "data": {
      "text/plain": [
       "5.216921119592875"
      ]
     },
     "metadata": {},
     "output_type": "display_data"
    },
    {
     "data": {
      "text/plain": [
       "'Total share of deciduous trees by 2050 (related to V) (%, relative to 2016 values)'"
      ]
     },
     "metadata": {},
     "output_type": "display_data"
    },
    {
     "data": {
      "text/plain": [
       "0.6352842862110142"
      ]
     },
     "metadata": {},
     "output_type": "display_data"
    },
    {
     "data": {
      "text/plain": [
       "'Total Recreation index (max minimum over all years)'"
      ]
     },
     "metadata": {},
     "output_type": "display_data"
    },
    {
     "data": {
      "text/plain": [
       "7616299.743205235"
      ]
     },
     "metadata": {},
     "output_type": "display_data"
    },
    {
     "data": {
      "text/plain": [
       "'Total Scenic index (max minimum over all years)'"
      ]
     },
     "metadata": {},
     "output_type": "display_data"
    },
    {
     "data": {
      "text/plain": [
       "6982128.039978245"
      ]
     },
     "metadata": {},
     "output_type": "display_data"
    },
    {
     "name": "stdout",
     "output_type": "stream",
     "text": [
      "100%|██████████| 7/7 [00:30<00:00,  4.35s/it]\n",
      "CPU times: user 27 s, sys: 13.9 s, total: 41 s\n",
      "Wall time: 30.5 s\n"
     ]
    }
   ],
   "source": [
    "%%time\n",
    "mfo.calculateObjectiveRanges(debug=True)"
   ]
  },
  {
   "cell_type": "code",
   "execution_count": 34,
   "metadata": {},
   "outputs": [
    {
     "data": {
      "text/plain": [
       "{'Average_Harvested_V': (0.014110807113543091, 5.167856718927907),\n",
       " 'Biomass_Evenflow': (0.0012722298221614226, 0.667495280922607),\n",
       " 'relative_Amount_Deadwood_2050': (0.792273229810413, 4.224602719518968),\n",
       " 'relative_N_where_D_gt_40_2050': (1.4249363867684481, 20.495122985581006),\n",
       " 'relative_prc_V_deciduous_2050': (-0.06253315726367425, 1.3760999101792595),\n",
       " 'Sum_Total_Recreation': (6536600.110000007, 7655098.183936157),\n",
       " 'Sum_Total_Scenic': (5804641.020000011, 6982128.039978245)}"
      ]
     },
     "execution_count": 34,
     "metadata": {},
     "output_type": "execute_result"
    }
   ],
   "source": [
    "mfo.objectiveRanges"
   ]
  },
  {
   "cell_type": "markdown",
   "metadata": {},
   "source": [
    "## Show GUI"
   ]
  },
  {
   "cell_type": "markdown",
   "metadata": {},
   "source": [
    "* If \"Enabled constraints\" should be considered, start with ticking box \"only CCF ...\" and push \"Change constraints\"\n",
    "* Epsilon constraints are only considered if sliders are moved and button \"Set epsilon constraints\" is pushed\n",
    "* By pushing \"OPTIMIZE\" an optimal solution under the given constraints and reference points is searched\n",
    "\n",
    "<b>SEE example figure below - scenario BES</b>"
   ]
  },
  {
   "cell_type": "markdown",
   "metadata": {},
   "source": [
    "![image](./MFGUIExample.png)"
   ]
  },
  {
   "cell_type": "code",
   "execution_count": 35,
   "metadata": {},
   "outputs": [
    {
     "data": {
      "text/html": [
       "<style>\n",
       "            .widget-label { min-width: 60% !important; }\n",
       "        </style>"
      ],
      "text/plain": [
       "<IPython.core.display.HTML object>"
      ]
     },
     "metadata": {},
     "output_type": "display_data"
    },
    {
     "data": {
      "text/html": [
       "<h2>Epsilon constraint values</h2>"
      ],
      "text/plain": [
       "<IPython.core.display.HTML object>"
      ]
     },
     "metadata": {},
     "output_type": "display_data"
    },
    {
     "data": {
      "application/vnd.jupyter.widget-view+json": {
       "model_id": "61127f2f64594cb69f4256577f7a28d3",
       "version_major": 2,
       "version_minor": 0
      },
      "text/plain": [
       "interactive(children=(FloatSlider(value=0.014110807113543091, description='Average harvested timber volume (lo…"
      ]
     },
     "metadata": {},
     "output_type": "display_data"
    },
    {
     "data": {
      "text/html": [
       "<h2>Reference point</h2>"
      ],
      "text/plain": [
       "<IPython.core.display.HTML object>"
      ]
     },
     "metadata": {},
     "output_type": "display_data"
    },
    {
     "data": {
      "application/vnd.jupyter.widget-view+json": {
       "model_id": "b6b8d12da916460fb1672947b4c23eb5",
       "version_major": 2,
       "version_minor": 0
      },
      "text/plain": [
       "interactive(children=(FloatSlider(value=2.5909837630207253, description='Average harvested timber volume (log …"
      ]
     },
     "metadata": {},
     "output_type": "display_data"
    },
    {
     "data": {
      "text/html": [
       "<h2>Enabled constraints</h2>"
      ],
      "text/plain": [
       "<IPython.core.display.HTML object>"
      ]
     },
     "metadata": {},
     "output_type": "display_data"
    },
    {
     "data": {
      "application/vnd.jupyter.widget-view+json": {
       "model_id": "7dfc55ce5af8416085066f24f2cdf5ab",
       "version_major": 2,
       "version_minor": 0
      },
      "text/plain": [
       "interactive(children=(Checkbox(value=False, description='Only CCF on peat lands'), Button(description='Change …"
      ]
     },
     "metadata": {},
     "output_type": "display_data"
    },
    {
     "data": {
      "application/vnd.jupyter.widget-view+json": {
       "model_id": "bd0da03b7a254e73a06077ae15983a89",
       "version_major": 2,
       "version_minor": 0
      },
      "text/plain": [
       "Button(description='Print solution', style=ButtonStyle())"
      ]
     },
     "metadata": {},
     "output_type": "display_data"
    }
   ],
   "source": [
    "mfo.showGUI(debug=True)"
   ]
  },
  {
   "cell_type": "markdown",
   "metadata": {},
   "source": [
    "## Visualization of optimal solution"
   ]
  },
  {
   "cell_type": "code",
   "execution_count": 36,
   "metadata": {},
   "outputs": [],
   "source": [
    "regimeAmounts = {regime:0 for regime in mfo.regimes}\n",
    "for key in mfo.regimesDecision.keys():\n",
    "    regimeAmounts[key[1]] +=mfo.regimesDecision[key].solution_value()*mfo.standAreas.loc[key[0],\"represented_area_by_NFIplot\"]/mfo.standAreas[\"represented_area_by_NFIplot\"].sum()"
   ]
  },
  {
   "cell_type": "code",
   "execution_count": 37,
   "metadata": {},
   "outputs": [
    {
     "name": "stdout",
     "output_type": "stream",
     "text": [
      "Populating the interactive namespace from numpy and matplotlib\n"
     ]
    }
   ],
   "source": [
    "%pylab notebook"
   ]
  },
  {
   "cell_type": "code",
   "execution_count": 38,
   "metadata": {},
   "outputs": [],
   "source": [
    "#[val for val in regimeAmounts.values()]"
   ]
  },
  {
   "cell_type": "code",
   "execution_count": 39,
   "metadata": {},
   "outputs": [
    {
     "data": {
      "application/javascript": [
       "/* Put everything inside the global mpl namespace */\n",
       "window.mpl = {};\n",
       "\n",
       "\n",
       "mpl.get_websocket_type = function() {\n",
       "    if (typeof(WebSocket) !== 'undefined') {\n",
       "        return WebSocket;\n",
       "    } else if (typeof(MozWebSocket) !== 'undefined') {\n",
       "        return MozWebSocket;\n",
       "    } else {\n",
       "        alert('Your browser does not have WebSocket support. ' +\n",
       "              'Please try Chrome, Safari or Firefox ≥ 6. ' +\n",
       "              'Firefox 4 and 5 are also supported but you ' +\n",
       "              'have to enable WebSockets in about:config.');\n",
       "    };\n",
       "}\n",
       "\n",
       "mpl.figure = function(figure_id, websocket, ondownload, parent_element) {\n",
       "    this.id = figure_id;\n",
       "\n",
       "    this.ws = websocket;\n",
       "\n",
       "    this.supports_binary = (this.ws.binaryType != undefined);\n",
       "\n",
       "    if (!this.supports_binary) {\n",
       "        var warnings = document.getElementById(\"mpl-warnings\");\n",
       "        if (warnings) {\n",
       "            warnings.style.display = 'block';\n",
       "            warnings.textContent = (\n",
       "                \"This browser does not support binary websocket messages. \" +\n",
       "                    \"Performance may be slow.\");\n",
       "        }\n",
       "    }\n",
       "\n",
       "    this.imageObj = new Image();\n",
       "\n",
       "    this.context = undefined;\n",
       "    this.message = undefined;\n",
       "    this.canvas = undefined;\n",
       "    this.rubberband_canvas = undefined;\n",
       "    this.rubberband_context = undefined;\n",
       "    this.format_dropdown = undefined;\n",
       "\n",
       "    this.image_mode = 'full';\n",
       "\n",
       "    this.root = $('<div/>');\n",
       "    this._root_extra_style(this.root)\n",
       "    this.root.attr('style', 'display: inline-block');\n",
       "\n",
       "    $(parent_element).append(this.root);\n",
       "\n",
       "    this._init_header(this);\n",
       "    this._init_canvas(this);\n",
       "    this._init_toolbar(this);\n",
       "\n",
       "    var fig = this;\n",
       "\n",
       "    this.waiting = false;\n",
       "\n",
       "    this.ws.onopen =  function () {\n",
       "            fig.send_message(\"supports_binary\", {value: fig.supports_binary});\n",
       "            fig.send_message(\"send_image_mode\", {});\n",
       "            if (mpl.ratio != 1) {\n",
       "                fig.send_message(\"set_dpi_ratio\", {'dpi_ratio': mpl.ratio});\n",
       "            }\n",
       "            fig.send_message(\"refresh\", {});\n",
       "        }\n",
       "\n",
       "    this.imageObj.onload = function() {\n",
       "            if (fig.image_mode == 'full') {\n",
       "                // Full images could contain transparency (where diff images\n",
       "                // almost always do), so we need to clear the canvas so that\n",
       "                // there is no ghosting.\n",
       "                fig.context.clearRect(0, 0, fig.canvas.width, fig.canvas.height);\n",
       "            }\n",
       "            fig.context.drawImage(fig.imageObj, 0, 0);\n",
       "        };\n",
       "\n",
       "    this.imageObj.onunload = function() {\n",
       "        fig.ws.close();\n",
       "    }\n",
       "\n",
       "    this.ws.onmessage = this._make_on_message_function(this);\n",
       "\n",
       "    this.ondownload = ondownload;\n",
       "}\n",
       "\n",
       "mpl.figure.prototype._init_header = function() {\n",
       "    var titlebar = $(\n",
       "        '<div class=\"ui-dialog-titlebar ui-widget-header ui-corner-all ' +\n",
       "        'ui-helper-clearfix\"/>');\n",
       "    var titletext = $(\n",
       "        '<div class=\"ui-dialog-title\" style=\"width: 100%; ' +\n",
       "        'text-align: center; padding: 3px;\"/>');\n",
       "    titlebar.append(titletext)\n",
       "    this.root.append(titlebar);\n",
       "    this.header = titletext[0];\n",
       "}\n",
       "\n",
       "\n",
       "\n",
       "mpl.figure.prototype._canvas_extra_style = function(canvas_div) {\n",
       "\n",
       "}\n",
       "\n",
       "\n",
       "mpl.figure.prototype._root_extra_style = function(canvas_div) {\n",
       "\n",
       "}\n",
       "\n",
       "mpl.figure.prototype._init_canvas = function() {\n",
       "    var fig = this;\n",
       "\n",
       "    var canvas_div = $('<div/>');\n",
       "\n",
       "    canvas_div.attr('style', 'position: relative; clear: both; outline: 0');\n",
       "\n",
       "    function canvas_keyboard_event(event) {\n",
       "        return fig.key_event(event, event['data']);\n",
       "    }\n",
       "\n",
       "    canvas_div.keydown('key_press', canvas_keyboard_event);\n",
       "    canvas_div.keyup('key_release', canvas_keyboard_event);\n",
       "    this.canvas_div = canvas_div\n",
       "    this._canvas_extra_style(canvas_div)\n",
       "    this.root.append(canvas_div);\n",
       "\n",
       "    var canvas = $('<canvas/>');\n",
       "    canvas.addClass('mpl-canvas');\n",
       "    canvas.attr('style', \"left: 0; top: 0; z-index: 0; outline: 0\")\n",
       "\n",
       "    this.canvas = canvas[0];\n",
       "    this.context = canvas[0].getContext(\"2d\");\n",
       "\n",
       "    var backingStore = this.context.backingStorePixelRatio ||\n",
       "\tthis.context.webkitBackingStorePixelRatio ||\n",
       "\tthis.context.mozBackingStorePixelRatio ||\n",
       "\tthis.context.msBackingStorePixelRatio ||\n",
       "\tthis.context.oBackingStorePixelRatio ||\n",
       "\tthis.context.backingStorePixelRatio || 1;\n",
       "\n",
       "    mpl.ratio = (window.devicePixelRatio || 1) / backingStore;\n",
       "\n",
       "    var rubberband = $('<canvas/>');\n",
       "    rubberband.attr('style', \"position: absolute; left: 0; top: 0; z-index: 1;\")\n",
       "\n",
       "    var pass_mouse_events = true;\n",
       "\n",
       "    canvas_div.resizable({\n",
       "        start: function(event, ui) {\n",
       "            pass_mouse_events = false;\n",
       "        },\n",
       "        resize: function(event, ui) {\n",
       "            fig.request_resize(ui.size.width, ui.size.height);\n",
       "        },\n",
       "        stop: function(event, ui) {\n",
       "            pass_mouse_events = true;\n",
       "            fig.request_resize(ui.size.width, ui.size.height);\n",
       "        },\n",
       "    });\n",
       "\n",
       "    function mouse_event_fn(event) {\n",
       "        if (pass_mouse_events)\n",
       "            return fig.mouse_event(event, event['data']);\n",
       "    }\n",
       "\n",
       "    rubberband.mousedown('button_press', mouse_event_fn);\n",
       "    rubberband.mouseup('button_release', mouse_event_fn);\n",
       "    // Throttle sequential mouse events to 1 every 20ms.\n",
       "    rubberband.mousemove('motion_notify', mouse_event_fn);\n",
       "\n",
       "    rubberband.mouseenter('figure_enter', mouse_event_fn);\n",
       "    rubberband.mouseleave('figure_leave', mouse_event_fn);\n",
       "\n",
       "    canvas_div.on(\"wheel\", function (event) {\n",
       "        event = event.originalEvent;\n",
       "        event['data'] = 'scroll'\n",
       "        if (event.deltaY < 0) {\n",
       "            event.step = 1;\n",
       "        } else {\n",
       "            event.step = -1;\n",
       "        }\n",
       "        mouse_event_fn(event);\n",
       "    });\n",
       "\n",
       "    canvas_div.append(canvas);\n",
       "    canvas_div.append(rubberband);\n",
       "\n",
       "    this.rubberband = rubberband;\n",
       "    this.rubberband_canvas = rubberband[0];\n",
       "    this.rubberband_context = rubberband[0].getContext(\"2d\");\n",
       "    this.rubberband_context.strokeStyle = \"#000000\";\n",
       "\n",
       "    this._resize_canvas = function(width, height) {\n",
       "        // Keep the size of the canvas, canvas container, and rubber band\n",
       "        // canvas in synch.\n",
       "        canvas_div.css('width', width)\n",
       "        canvas_div.css('height', height)\n",
       "\n",
       "        canvas.attr('width', width * mpl.ratio);\n",
       "        canvas.attr('height', height * mpl.ratio);\n",
       "        canvas.attr('style', 'width: ' + width + 'px; height: ' + height + 'px;');\n",
       "\n",
       "        rubberband.attr('width', width);\n",
       "        rubberband.attr('height', height);\n",
       "    }\n",
       "\n",
       "    // Set the figure to an initial 600x600px, this will subsequently be updated\n",
       "    // upon first draw.\n",
       "    this._resize_canvas(600, 600);\n",
       "\n",
       "    // Disable right mouse context menu.\n",
       "    $(this.rubberband_canvas).bind(\"contextmenu\",function(e){\n",
       "        return false;\n",
       "    });\n",
       "\n",
       "    function set_focus () {\n",
       "        canvas.focus();\n",
       "        canvas_div.focus();\n",
       "    }\n",
       "\n",
       "    window.setTimeout(set_focus, 100);\n",
       "}\n",
       "\n",
       "mpl.figure.prototype._init_toolbar = function() {\n",
       "    var fig = this;\n",
       "\n",
       "    var nav_element = $('<div/>');\n",
       "    nav_element.attr('style', 'width: 100%');\n",
       "    this.root.append(nav_element);\n",
       "\n",
       "    // Define a callback function for later on.\n",
       "    function toolbar_event(event) {\n",
       "        return fig.toolbar_button_onclick(event['data']);\n",
       "    }\n",
       "    function toolbar_mouse_event(event) {\n",
       "        return fig.toolbar_button_onmouseover(event['data']);\n",
       "    }\n",
       "\n",
       "    for(var toolbar_ind in mpl.toolbar_items) {\n",
       "        var name = mpl.toolbar_items[toolbar_ind][0];\n",
       "        var tooltip = mpl.toolbar_items[toolbar_ind][1];\n",
       "        var image = mpl.toolbar_items[toolbar_ind][2];\n",
       "        var method_name = mpl.toolbar_items[toolbar_ind][3];\n",
       "\n",
       "        if (!name) {\n",
       "            // put a spacer in here.\n",
       "            continue;\n",
       "        }\n",
       "        var button = $('<button/>');\n",
       "        button.addClass('ui-button ui-widget ui-state-default ui-corner-all ' +\n",
       "                        'ui-button-icon-only');\n",
       "        button.attr('role', 'button');\n",
       "        button.attr('aria-disabled', 'false');\n",
       "        button.click(method_name, toolbar_event);\n",
       "        button.mouseover(tooltip, toolbar_mouse_event);\n",
       "\n",
       "        var icon_img = $('<span/>');\n",
       "        icon_img.addClass('ui-button-icon-primary ui-icon');\n",
       "        icon_img.addClass(image);\n",
       "        icon_img.addClass('ui-corner-all');\n",
       "\n",
       "        var tooltip_span = $('<span/>');\n",
       "        tooltip_span.addClass('ui-button-text');\n",
       "        tooltip_span.html(tooltip);\n",
       "\n",
       "        button.append(icon_img);\n",
       "        button.append(tooltip_span);\n",
       "\n",
       "        nav_element.append(button);\n",
       "    }\n",
       "\n",
       "    var fmt_picker_span = $('<span/>');\n",
       "\n",
       "    var fmt_picker = $('<select/>');\n",
       "    fmt_picker.addClass('mpl-toolbar-option ui-widget ui-widget-content');\n",
       "    fmt_picker_span.append(fmt_picker);\n",
       "    nav_element.append(fmt_picker_span);\n",
       "    this.format_dropdown = fmt_picker[0];\n",
       "\n",
       "    for (var ind in mpl.extensions) {\n",
       "        var fmt = mpl.extensions[ind];\n",
       "        var option = $(\n",
       "            '<option/>', {selected: fmt === mpl.default_extension}).html(fmt);\n",
       "        fmt_picker.append(option);\n",
       "    }\n",
       "\n",
       "    // Add hover states to the ui-buttons\n",
       "    $( \".ui-button\" ).hover(\n",
       "        function() { $(this).addClass(\"ui-state-hover\");},\n",
       "        function() { $(this).removeClass(\"ui-state-hover\");}\n",
       "    );\n",
       "\n",
       "    var status_bar = $('<span class=\"mpl-message\"/>');\n",
       "    nav_element.append(status_bar);\n",
       "    this.message = status_bar[0];\n",
       "}\n",
       "\n",
       "mpl.figure.prototype.request_resize = function(x_pixels, y_pixels) {\n",
       "    // Request matplotlib to resize the figure. Matplotlib will then trigger a resize in the client,\n",
       "    // which will in turn request a refresh of the image.\n",
       "    this.send_message('resize', {'width': x_pixels, 'height': y_pixels});\n",
       "}\n",
       "\n",
       "mpl.figure.prototype.send_message = function(type, properties) {\n",
       "    properties['type'] = type;\n",
       "    properties['figure_id'] = this.id;\n",
       "    this.ws.send(JSON.stringify(properties));\n",
       "}\n",
       "\n",
       "mpl.figure.prototype.send_draw_message = function() {\n",
       "    if (!this.waiting) {\n",
       "        this.waiting = true;\n",
       "        this.ws.send(JSON.stringify({type: \"draw\", figure_id: this.id}));\n",
       "    }\n",
       "}\n",
       "\n",
       "\n",
       "mpl.figure.prototype.handle_save = function(fig, msg) {\n",
       "    var format_dropdown = fig.format_dropdown;\n",
       "    var format = format_dropdown.options[format_dropdown.selectedIndex].value;\n",
       "    fig.ondownload(fig, format);\n",
       "}\n",
       "\n",
       "\n",
       "mpl.figure.prototype.handle_resize = function(fig, msg) {\n",
       "    var size = msg['size'];\n",
       "    if (size[0] != fig.canvas.width || size[1] != fig.canvas.height) {\n",
       "        fig._resize_canvas(size[0], size[1]);\n",
       "        fig.send_message(\"refresh\", {});\n",
       "    };\n",
       "}\n",
       "\n",
       "mpl.figure.prototype.handle_rubberband = function(fig, msg) {\n",
       "    var x0 = msg['x0'] / mpl.ratio;\n",
       "    var y0 = (fig.canvas.height - msg['y0']) / mpl.ratio;\n",
       "    var x1 = msg['x1'] / mpl.ratio;\n",
       "    var y1 = (fig.canvas.height - msg['y1']) / mpl.ratio;\n",
       "    x0 = Math.floor(x0) + 0.5;\n",
       "    y0 = Math.floor(y0) + 0.5;\n",
       "    x1 = Math.floor(x1) + 0.5;\n",
       "    y1 = Math.floor(y1) + 0.5;\n",
       "    var min_x = Math.min(x0, x1);\n",
       "    var min_y = Math.min(y0, y1);\n",
       "    var width = Math.abs(x1 - x0);\n",
       "    var height = Math.abs(y1 - y0);\n",
       "\n",
       "    fig.rubberband_context.clearRect(\n",
       "        0, 0, fig.canvas.width / mpl.ratio, fig.canvas.height / mpl.ratio);\n",
       "\n",
       "    fig.rubberband_context.strokeRect(min_x, min_y, width, height);\n",
       "}\n",
       "\n",
       "mpl.figure.prototype.handle_figure_label = function(fig, msg) {\n",
       "    // Updates the figure title.\n",
       "    fig.header.textContent = msg['label'];\n",
       "}\n",
       "\n",
       "mpl.figure.prototype.handle_cursor = function(fig, msg) {\n",
       "    var cursor = msg['cursor'];\n",
       "    switch(cursor)\n",
       "    {\n",
       "    case 0:\n",
       "        cursor = 'pointer';\n",
       "        break;\n",
       "    case 1:\n",
       "        cursor = 'default';\n",
       "        break;\n",
       "    case 2:\n",
       "        cursor = 'crosshair';\n",
       "        break;\n",
       "    case 3:\n",
       "        cursor = 'move';\n",
       "        break;\n",
       "    }\n",
       "    fig.rubberband_canvas.style.cursor = cursor;\n",
       "}\n",
       "\n",
       "mpl.figure.prototype.handle_message = function(fig, msg) {\n",
       "    fig.message.textContent = msg['message'];\n",
       "}\n",
       "\n",
       "mpl.figure.prototype.handle_draw = function(fig, msg) {\n",
       "    // Request the server to send over a new figure.\n",
       "    fig.send_draw_message();\n",
       "}\n",
       "\n",
       "mpl.figure.prototype.handle_image_mode = function(fig, msg) {\n",
       "    fig.image_mode = msg['mode'];\n",
       "}\n",
       "\n",
       "mpl.figure.prototype.updated_canvas_event = function() {\n",
       "    // Called whenever the canvas gets updated.\n",
       "    this.send_message(\"ack\", {});\n",
       "}\n",
       "\n",
       "// A function to construct a web socket function for onmessage handling.\n",
       "// Called in the figure constructor.\n",
       "mpl.figure.prototype._make_on_message_function = function(fig) {\n",
       "    return function socket_on_message(evt) {\n",
       "        if (evt.data instanceof Blob) {\n",
       "            /* FIXME: We get \"Resource interpreted as Image but\n",
       "             * transferred with MIME type text/plain:\" errors on\n",
       "             * Chrome.  But how to set the MIME type?  It doesn't seem\n",
       "             * to be part of the websocket stream */\n",
       "            evt.data.type = \"image/png\";\n",
       "\n",
       "            /* Free the memory for the previous frames */\n",
       "            if (fig.imageObj.src) {\n",
       "                (window.URL || window.webkitURL).revokeObjectURL(\n",
       "                    fig.imageObj.src);\n",
       "            }\n",
       "\n",
       "            fig.imageObj.src = (window.URL || window.webkitURL).createObjectURL(\n",
       "                evt.data);\n",
       "            fig.updated_canvas_event();\n",
       "            fig.waiting = false;\n",
       "            return;\n",
       "        }\n",
       "        else if (typeof evt.data === 'string' && evt.data.slice(0, 21) == \"data:image/png;base64\") {\n",
       "            fig.imageObj.src = evt.data;\n",
       "            fig.updated_canvas_event();\n",
       "            fig.waiting = false;\n",
       "            return;\n",
       "        }\n",
       "\n",
       "        var msg = JSON.parse(evt.data);\n",
       "        var msg_type = msg['type'];\n",
       "\n",
       "        // Call the  \"handle_{type}\" callback, which takes\n",
       "        // the figure and JSON message as its only arguments.\n",
       "        try {\n",
       "            var callback = fig[\"handle_\" + msg_type];\n",
       "        } catch (e) {\n",
       "            console.log(\"No handler for the '\" + msg_type + \"' message type: \", msg);\n",
       "            return;\n",
       "        }\n",
       "\n",
       "        if (callback) {\n",
       "            try {\n",
       "                // console.log(\"Handling '\" + msg_type + \"' message: \", msg);\n",
       "                callback(fig, msg);\n",
       "            } catch (e) {\n",
       "                console.log(\"Exception inside the 'handler_\" + msg_type + \"' callback:\", e, e.stack, msg);\n",
       "            }\n",
       "        }\n",
       "    };\n",
       "}\n",
       "\n",
       "// from http://stackoverflow.com/questions/1114465/getting-mouse-location-in-canvas\n",
       "mpl.findpos = function(e) {\n",
       "    //this section is from http://www.quirksmode.org/js/events_properties.html\n",
       "    var targ;\n",
       "    if (!e)\n",
       "        e = window.event;\n",
       "    if (e.target)\n",
       "        targ = e.target;\n",
       "    else if (e.srcElement)\n",
       "        targ = e.srcElement;\n",
       "    if (targ.nodeType == 3) // defeat Safari bug\n",
       "        targ = targ.parentNode;\n",
       "\n",
       "    // jQuery normalizes the pageX and pageY\n",
       "    // pageX,Y are the mouse positions relative to the document\n",
       "    // offset() returns the position of the element relative to the document\n",
       "    var x = e.pageX - $(targ).offset().left;\n",
       "    var y = e.pageY - $(targ).offset().top;\n",
       "\n",
       "    return {\"x\": x, \"y\": y};\n",
       "};\n",
       "\n",
       "/*\n",
       " * return a copy of an object with only non-object keys\n",
       " * we need this to avoid circular references\n",
       " * http://stackoverflow.com/a/24161582/3208463\n",
       " */\n",
       "function simpleKeys (original) {\n",
       "  return Object.keys(original).reduce(function (obj, key) {\n",
       "    if (typeof original[key] !== 'object')\n",
       "        obj[key] = original[key]\n",
       "    return obj;\n",
       "  }, {});\n",
       "}\n",
       "\n",
       "mpl.figure.prototype.mouse_event = function(event, name) {\n",
       "    var canvas_pos = mpl.findpos(event)\n",
       "\n",
       "    if (name === 'button_press')\n",
       "    {\n",
       "        this.canvas.focus();\n",
       "        this.canvas_div.focus();\n",
       "    }\n",
       "\n",
       "    var x = canvas_pos.x * mpl.ratio;\n",
       "    var y = canvas_pos.y * mpl.ratio;\n",
       "\n",
       "    this.send_message(name, {x: x, y: y, button: event.button,\n",
       "                             step: event.step,\n",
       "                             guiEvent: simpleKeys(event)});\n",
       "\n",
       "    /* This prevents the web browser from automatically changing to\n",
       "     * the text insertion cursor when the button is pressed.  We want\n",
       "     * to control all of the cursor setting manually through the\n",
       "     * 'cursor' event from matplotlib */\n",
       "    event.preventDefault();\n",
       "    return false;\n",
       "}\n",
       "\n",
       "mpl.figure.prototype._key_event_extra = function(event, name) {\n",
       "    // Handle any extra behaviour associated with a key event\n",
       "}\n",
       "\n",
       "mpl.figure.prototype.key_event = function(event, name) {\n",
       "\n",
       "    // Prevent repeat events\n",
       "    if (name == 'key_press')\n",
       "    {\n",
       "        if (event.which === this._key)\n",
       "            return;\n",
       "        else\n",
       "            this._key = event.which;\n",
       "    }\n",
       "    if (name == 'key_release')\n",
       "        this._key = null;\n",
       "\n",
       "    var value = '';\n",
       "    if (event.ctrlKey && event.which != 17)\n",
       "        value += \"ctrl+\";\n",
       "    if (event.altKey && event.which != 18)\n",
       "        value += \"alt+\";\n",
       "    if (event.shiftKey && event.which != 16)\n",
       "        value += \"shift+\";\n",
       "\n",
       "    value += 'k';\n",
       "    value += event.which.toString();\n",
       "\n",
       "    this._key_event_extra(event, name);\n",
       "\n",
       "    this.send_message(name, {key: value,\n",
       "                             guiEvent: simpleKeys(event)});\n",
       "    return false;\n",
       "}\n",
       "\n",
       "mpl.figure.prototype.toolbar_button_onclick = function(name) {\n",
       "    if (name == 'download') {\n",
       "        this.handle_save(this, null);\n",
       "    } else {\n",
       "        this.send_message(\"toolbar_button\", {name: name});\n",
       "    }\n",
       "};\n",
       "\n",
       "mpl.figure.prototype.toolbar_button_onmouseover = function(tooltip) {\n",
       "    this.message.textContent = tooltip;\n",
       "};\n",
       "mpl.toolbar_items = [[\"Home\", \"Reset original view\", \"fa fa-home icon-home\", \"home\"], [\"Back\", \"Back to previous view\", \"fa fa-arrow-left icon-arrow-left\", \"back\"], [\"Forward\", \"Forward to next view\", \"fa fa-arrow-right icon-arrow-right\", \"forward\"], [\"\", \"\", \"\", \"\"], [\"Pan\", \"Pan axes with left mouse, zoom with right\", \"fa fa-arrows icon-move\", \"pan\"], [\"Zoom\", \"Zoom to rectangle\", \"fa fa-square-o icon-check-empty\", \"zoom\"], [\"\", \"\", \"\", \"\"], [\"Download\", \"Download plot\", \"fa fa-floppy-o icon-save\", \"download\"]];\n",
       "\n",
       "mpl.extensions = [\"eps\", \"pdf\", \"png\", \"ps\", \"raw\", \"svg\"];\n",
       "\n",
       "mpl.default_extension = \"png\";var comm_websocket_adapter = function(comm) {\n",
       "    // Create a \"websocket\"-like object which calls the given IPython comm\n",
       "    // object with the appropriate methods. Currently this is a non binary\n",
       "    // socket, so there is still some room for performance tuning.\n",
       "    var ws = {};\n",
       "\n",
       "    ws.close = function() {\n",
       "        comm.close()\n",
       "    };\n",
       "    ws.send = function(m) {\n",
       "        //console.log('sending', m);\n",
       "        comm.send(m);\n",
       "    };\n",
       "    // Register the callback with on_msg.\n",
       "    comm.on_msg(function(msg) {\n",
       "        //console.log('receiving', msg['content']['data'], msg);\n",
       "        // Pass the mpl event to the overridden (by mpl) onmessage function.\n",
       "        ws.onmessage(msg['content']['data'])\n",
       "    });\n",
       "    return ws;\n",
       "}\n",
       "\n",
       "mpl.mpl_figure_comm = function(comm, msg) {\n",
       "    // This is the function which gets called when the mpl process\n",
       "    // starts-up an IPython Comm through the \"matplotlib\" channel.\n",
       "\n",
       "    var id = msg.content.data.id;\n",
       "    // Get hold of the div created by the display call when the Comm\n",
       "    // socket was opened in Python.\n",
       "    var element = $(\"#\" + id);\n",
       "    var ws_proxy = comm_websocket_adapter(comm)\n",
       "\n",
       "    function ondownload(figure, format) {\n",
       "        window.open(figure.imageObj.src);\n",
       "    }\n",
       "\n",
       "    var fig = new mpl.figure(id, ws_proxy,\n",
       "                           ondownload,\n",
       "                           element.get(0));\n",
       "\n",
       "    // Call onopen now - mpl needs it, as it is assuming we've passed it a real\n",
       "    // web socket which is closed, not our websocket->open comm proxy.\n",
       "    ws_proxy.onopen();\n",
       "\n",
       "    fig.parent_element = element.get(0);\n",
       "    fig.cell_info = mpl.find_output_cell(\"<div id='\" + id + \"'></div>\");\n",
       "    if (!fig.cell_info) {\n",
       "        console.error(\"Failed to find cell for figure\", id, fig);\n",
       "        return;\n",
       "    }\n",
       "\n",
       "    var output_index = fig.cell_info[2]\n",
       "    var cell = fig.cell_info[0];\n",
       "\n",
       "};\n",
       "\n",
       "mpl.figure.prototype.handle_close = function(fig, msg) {\n",
       "    var width = fig.canvas.width/mpl.ratio\n",
       "    fig.root.unbind('remove')\n",
       "\n",
       "    // Update the output cell to use the data from the current canvas.\n",
       "    fig.push_to_output();\n",
       "    var dataURL = fig.canvas.toDataURL();\n",
       "    // Re-enable the keyboard manager in IPython - without this line, in FF,\n",
       "    // the notebook keyboard shortcuts fail.\n",
       "    IPython.keyboard_manager.enable()\n",
       "    $(fig.parent_element).html('<img src=\"' + dataURL + '\" width=\"' + width + '\">');\n",
       "    fig.close_ws(fig, msg);\n",
       "}\n",
       "\n",
       "mpl.figure.prototype.close_ws = function(fig, msg){\n",
       "    fig.send_message('closing', msg);\n",
       "    // fig.ws.close()\n",
       "}\n",
       "\n",
       "mpl.figure.prototype.push_to_output = function(remove_interactive) {\n",
       "    // Turn the data on the canvas into data in the output cell.\n",
       "    var width = this.canvas.width/mpl.ratio\n",
       "    var dataURL = this.canvas.toDataURL();\n",
       "    this.cell_info[1]['text/html'] = '<img src=\"' + dataURL + '\" width=\"' + width + '\">';\n",
       "}\n",
       "\n",
       "mpl.figure.prototype.updated_canvas_event = function() {\n",
       "    // Tell IPython that the notebook contents must change.\n",
       "    IPython.notebook.set_dirty(true);\n",
       "    this.send_message(\"ack\", {});\n",
       "    var fig = this;\n",
       "    // Wait a second, then push the new image to the DOM so\n",
       "    // that it is saved nicely (might be nice to debounce this).\n",
       "    setTimeout(function () { fig.push_to_output() }, 1000);\n",
       "}\n",
       "\n",
       "mpl.figure.prototype._init_toolbar = function() {\n",
       "    var fig = this;\n",
       "\n",
       "    var nav_element = $('<div/>');\n",
       "    nav_element.attr('style', 'width: 100%');\n",
       "    this.root.append(nav_element);\n",
       "\n",
       "    // Define a callback function for later on.\n",
       "    function toolbar_event(event) {\n",
       "        return fig.toolbar_button_onclick(event['data']);\n",
       "    }\n",
       "    function toolbar_mouse_event(event) {\n",
       "        return fig.toolbar_button_onmouseover(event['data']);\n",
       "    }\n",
       "\n",
       "    for(var toolbar_ind in mpl.toolbar_items){\n",
       "        var name = mpl.toolbar_items[toolbar_ind][0];\n",
       "        var tooltip = mpl.toolbar_items[toolbar_ind][1];\n",
       "        var image = mpl.toolbar_items[toolbar_ind][2];\n",
       "        var method_name = mpl.toolbar_items[toolbar_ind][3];\n",
       "\n",
       "        if (!name) { continue; };\n",
       "\n",
       "        var button = $('<button class=\"btn btn-default\" href=\"#\" title=\"' + name + '\"><i class=\"fa ' + image + ' fa-lg\"></i></button>');\n",
       "        button.click(method_name, toolbar_event);\n",
       "        button.mouseover(tooltip, toolbar_mouse_event);\n",
       "        nav_element.append(button);\n",
       "    }\n",
       "\n",
       "    // Add the status bar.\n",
       "    var status_bar = $('<span class=\"mpl-message\" style=\"text-align:right; float: right;\"/>');\n",
       "    nav_element.append(status_bar);\n",
       "    this.message = status_bar[0];\n",
       "\n",
       "    // Add the close button to the window.\n",
       "    var buttongrp = $('<div class=\"btn-group inline pull-right\"></div>');\n",
       "    var button = $('<button class=\"btn btn-mini btn-primary\" href=\"#\" title=\"Stop Interaction\"><i class=\"fa fa-power-off icon-remove icon-large\"></i></button>');\n",
       "    button.click(function (evt) { fig.handle_close(fig, {}); } );\n",
       "    button.mouseover('Stop Interaction', toolbar_mouse_event);\n",
       "    buttongrp.append(button);\n",
       "    var titlebar = this.root.find($('.ui-dialog-titlebar'));\n",
       "    titlebar.prepend(buttongrp);\n",
       "}\n",
       "\n",
       "mpl.figure.prototype._root_extra_style = function(el){\n",
       "    var fig = this\n",
       "    el.on(\"remove\", function(){\n",
       "\tfig.close_ws(fig, {});\n",
       "    });\n",
       "}\n",
       "\n",
       "mpl.figure.prototype._canvas_extra_style = function(el){\n",
       "    // this is important to make the div 'focusable\n",
       "    el.attr('tabindex', 0)\n",
       "    // reach out to IPython and tell the keyboard manager to turn it's self\n",
       "    // off when our div gets focus\n",
       "\n",
       "    // location in version 3\n",
       "    if (IPython.notebook.keyboard_manager) {\n",
       "        IPython.notebook.keyboard_manager.register_events(el);\n",
       "    }\n",
       "    else {\n",
       "        // location in version 2\n",
       "        IPython.keyboard_manager.register_events(el);\n",
       "    }\n",
       "\n",
       "}\n",
       "\n",
       "mpl.figure.prototype._key_event_extra = function(event, name) {\n",
       "    var manager = IPython.notebook.keyboard_manager;\n",
       "    if (!manager)\n",
       "        manager = IPython.keyboard_manager;\n",
       "\n",
       "    // Check for shift+enter\n",
       "    if (event.shiftKey && event.which == 13) {\n",
       "        this.canvas_div.blur();\n",
       "        // select the cell after this one\n",
       "        var index = IPython.notebook.find_cell_index(this.cell_info[0]);\n",
       "        IPython.notebook.select(index + 1);\n",
       "    }\n",
       "}\n",
       "\n",
       "mpl.figure.prototype.handle_save = function(fig, msg) {\n",
       "    fig.ondownload(fig, null);\n",
       "}\n",
       "\n",
       "\n",
       "mpl.find_output_cell = function(html_output) {\n",
       "    // Return the cell and output element which can be found *uniquely* in the notebook.\n",
       "    // Note - this is a bit hacky, but it is done because the \"notebook_saving.Notebook\"\n",
       "    // IPython event is triggered only after the cells have been serialised, which for\n",
       "    // our purposes (turning an active figure into a static one), is too late.\n",
       "    var cells = IPython.notebook.get_cells();\n",
       "    var ncells = cells.length;\n",
       "    for (var i=0; i<ncells; i++) {\n",
       "        var cell = cells[i];\n",
       "        if (cell.cell_type === 'code'){\n",
       "            for (var j=0; j<cell.output_area.outputs.length; j++) {\n",
       "                var data = cell.output_area.outputs[j];\n",
       "                if (data.data) {\n",
       "                    // IPython >= 3 moved mimebundle to data attribute of output\n",
       "                    data = data.data;\n",
       "                }\n",
       "                if (data['text/html'] == html_output) {\n",
       "                    return [cell, data, j];\n",
       "                }\n",
       "            }\n",
       "        }\n",
       "    }\n",
       "}\n",
       "\n",
       "// Register the function which deals with the matplotlib target/channel.\n",
       "// The kernel may be null if the page has been refreshed.\n",
       "if (IPython.notebook.kernel != null) {\n",
       "    IPython.notebook.kernel.comm_manager.register_target('matplotlib', mpl.mpl_figure_comm);\n",
       "}\n"
      ],
      "text/plain": [
       "<IPython.core.display.Javascript object>"
      ]
     },
     "metadata": {},
     "output_type": "display_data"
    },
    {
     "data": {
      "text/html": [
       "<img src=\"data:image/png;base64,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\" width=\"640\">"
      ],
      "text/plain": [
       "<IPython.core.display.HTML object>"
      ]
     },
     "metadata": {},
     "output_type": "display_data"
    },
    {
     "data": {
      "text/plain": [
       "[<matplotlib.lines.Line2D at 0x7fe46acf5bb0>]"
      ]
     },
     "execution_count": 39,
     "metadata": {},
     "output_type": "execute_result"
    }
   ],
   "source": [
    "plt.plot([key for key in regimeAmounts.keys()],[val for val in regimeAmounts.values()])"
   ]
  },
  {
   "cell_type": "code",
   "execution_count": 40,
   "metadata": {},
   "outputs": [
    {
     "data": {
      "text/plain": [
       "([<matplotlib.axis.XTick at 0x7fe46a9291c0>,\n",
       "  <matplotlib.axis.XTick at 0x7fe46a929190>,\n",
       "  <matplotlib.axis.XTick at 0x7fe46a922550>,\n",
       "  <matplotlib.axis.XTick at 0x7fe46a7ba4c0>,\n",
       "  <matplotlib.axis.XTick at 0x7fe46a7ba9d0>,\n",
       "  <matplotlib.axis.XTick at 0x7fe46a7baee0>,\n",
       "  <matplotlib.axis.XTick at 0x7fe46a7c1430>,\n",
       "  <matplotlib.axis.XTick at 0x7fe46a7c1940>,\n",
       "  <matplotlib.axis.XTick at 0x7fe46a7c1e50>,\n",
       "  <matplotlib.axis.XTick at 0x7fe46a7c83a0>,\n",
       "  <matplotlib.axis.XTick at 0x7fe46a7c88b0>,\n",
       "  <matplotlib.axis.XTick at 0x7fe46a7c1a30>,\n",
       "  <matplotlib.axis.XTick at 0x7fe46a7baa30>,\n",
       "  <matplotlib.axis.XTick at 0x7fe46a7c85b0>,\n",
       "  <matplotlib.axis.XTick at 0x7fe46a7c8f70>,\n",
       "  <matplotlib.axis.XTick at 0x7fe46a7cf4c0>,\n",
       "  <matplotlib.axis.XTick at 0x7fe46a7cf9d0>,\n",
       "  <matplotlib.axis.XTick at 0x7fe46a7cfee0>,\n",
       "  <matplotlib.axis.XTick at 0x7fe46a7d3430>,\n",
       "  <matplotlib.axis.XTick at 0x7fe46a7d3940>,\n",
       "  <matplotlib.axis.XTick at 0x7fe46a7d3e50>,\n",
       "  <matplotlib.axis.XTick at 0x7fe46a7d3610>,\n",
       "  <matplotlib.axis.XTick at 0x7fe46a7cf6a0>,\n",
       "  <matplotlib.axis.XTick at 0x7fe46a7ba5b0>,\n",
       "  <matplotlib.axis.XTick at 0x7fe46a7d93a0>,\n",
       "  <matplotlib.axis.XTick at 0x7fe46a7d98b0>,\n",
       "  <matplotlib.axis.XTick at 0x7fe46a7d9dc0>,\n",
       "  <matplotlib.axis.XTick at 0x7fe46a7e0310>,\n",
       "  <matplotlib.axis.XTick at 0x7fe46a7e0820>,\n",
       "  <matplotlib.axis.XTick at 0x7fe46a7e0d30>,\n",
       "  <matplotlib.axis.XTick at 0x7fe46a766280>,\n",
       "  <matplotlib.axis.XTick at 0x7fe46a7e0460>],\n",
       " [Text(0, 0, 'BAU'),\n",
       "  Text(0, 0, 'BAU_10'),\n",
       "  Text(0, 0, 'BAU_15'),\n",
       "  Text(0, 0, 'BAU_30'),\n",
       "  Text(0, 0, 'BAU_5'),\n",
       "  Text(0, 0, 'BAU_F'),\n",
       "  Text(0, 0, 'BAU_m5'),\n",
       "  Text(0, 0, 'BAU_m5_F'),\n",
       "  Text(0, 0, 'BAUwGTR'),\n",
       "  Text(0, 0, 'BAUwT'),\n",
       "  Text(0, 0, 'BAUwT_10'),\n",
       "  Text(0, 0, 'BAUwT_15'),\n",
       "  Text(0, 0, 'BAUwT_15_B'),\n",
       "  Text(0, 0, 'BAUwT_30'),\n",
       "  Text(0, 0, 'BAUwT_30_B'),\n",
       "  Text(0, 0, 'BAUwT_5'),\n",
       "  Text(0, 0, 'BAUwT_5_B'),\n",
       "  Text(0, 0, 'BAUwT_B'),\n",
       "  Text(0, 0, 'BAUwT_F'),\n",
       "  Text(0, 0, 'BAUwT_GTR'),\n",
       "  Text(0, 0, 'BAUwT_GTR_B'),\n",
       "  Text(0, 0, 'BAUwT_m5'),\n",
       "  Text(0, 0, 'BAUwT_m5_F'),\n",
       "  Text(0, 0, 'BAUwoT'),\n",
       "  Text(0, 0, 'BAUwoT_10'),\n",
       "  Text(0, 0, 'BAUwoT_m20'),\n",
       "  Text(0, 0, 'BAUwoT_m20_F'),\n",
       "  Text(0, 0, 'CCF_1'),\n",
       "  Text(0, 0, 'CCF_2'),\n",
       "  Text(0, 0, 'CCF_3'),\n",
       "  Text(0, 0, 'CCF_4'),\n",
       "  Text(0, 0, 'SA')])"
      ]
     },
     "execution_count": 40,
     "metadata": {},
     "output_type": "execute_result"
    }
   ],
   "source": [
    "plt.bar(range(len(regimeAmounts)), list(regimeAmounts.values()), align='center')\n",
    "plt.xticks(range(len(regimeAmounts)), list(regimeAmounts.keys()),rotation=\"vertical\")"
   ]
  },
  {
   "cell_type": "markdown",
   "metadata": {},
   "source": [
    "## Export data as csv\n",
    "\n",
    "- <b>Solution_alldata</b> contains the optimal regime per stand AND the timely development of indicator values plus all other input columns (represented_are_by_NFIplot, region, NUTS2)\n",
    "- <b>Solution</b> contains only the selected optimal regime and its share (if multiple regimes per stand are selected)\n"
   ]
  },
  {
   "cell_type": "code",
   "execution_count": 41,
   "metadata": {},
   "outputs": [],
   "source": [
    "try:\n",
    "    os.mkdir(\"results\")\n",
    "except FileExistsError:\n",
    "    pass\n",
    "b = []\n",
    "c = []\n",
    "for key in mfo.regimesDecision.keys():\n",
    "    if mfo.regimesDecision[key].solution_value() > 0:\n",
    "        b = b+ [(key[0],x*5+2016, key[1]) for x in range(0,21)]\n",
    "        c = c+ [(key[0],key[1],mfo.regimesDecision[key].solution_value())]\n",
    "data2b = mfo.data.iloc[mfo.data.index.isin(b)]\n",
    "data2b.to_csv(\"./results/solution_alldata_\"+scenario+\"_\"+RCP+\"_\"+extension+\".csv\")\n",
    "c1 = pd.DataFrame(c)\n",
    "c1.to_csv(\"./results/solution_\"+scenario+\"_\"+RCP+\"_\"+extension+\".csv\")"
   ]
  },
  {
   "cell_type": "markdown",
   "metadata": {},
   "source": [
    "## Export objective ranges "
   ]
  },
  {
   "cell_type": "markdown",
   "metadata": {},
   "source": [
    "Save as json file"
   ]
  },
  {
   "cell_type": "code",
   "execution_count": 42,
   "metadata": {},
   "outputs": [],
   "source": [
    "import json\n",
    "mfo.objectiveRanges\n",
    "\n",
    "with open('./results/objectiveRanges_'+scenario+'_'+RCP+'_'+extension+'.json', 'w') as json_file:\n",
    "  json.dump(mfo.objectiveRanges, json_file)"
   ]
  },
  {
   "cell_type": "markdown",
   "metadata": {},
   "source": [
    "Save as CSV."
   ]
  },
  {
   "cell_type": "code",
   "execution_count": 43,
   "metadata": {},
   "outputs": [],
   "source": [
    "df = pd.read_json('./results/objectiveRanges_'+scenario+'_'+RCP+'_'+extension+'.json')\n",
    "\n",
    "df.to_csv('./results/objectiveRanges_'+scenario+'_'+RCP+'_'+extension+'.csv')"
   ]
  },
  {
   "cell_type": "markdown",
   "metadata": {},
   "source": [
    "## Export objective values\n",
    "The optimal solution for each objective."
   ]
  },
  {
   "cell_type": "code",
   "execution_count": 44,
   "metadata": {},
   "outputs": [],
   "source": [
    "with open(\"./results/objectiveValues_\"+scenario+'_'+RCP+'_'+extension+\".csv\",\"w\") as file: \n",
    "    delim = \"\" \n",
    "    for objName in mfo.objectiveTypes.keys(): \n",
    "        file.write(delim+objName) \n",
    "        delim = \",\" \n",
    "    file.write(\"\\n\") \n",
    "    delim = \"\" \n",
    "    for objName in mfo.objectiveTypes.keys(): \n",
    "        file.write(delim+str(mfo.objective[objName].solution_value())) \n",
    "        delim = \",\" \n",
    "    file.write(\"\\n\")"
   ]
  },
  {
   "cell_type": "code",
   "execution_count": null,
   "metadata": {},
   "outputs": [],
   "source": []
  }
 ],
 "metadata": {
  "kernelspec": {
   "display_name": "Python 3",
   "language": "python",
   "name": "python3"
  },
  "language_info": {
   "codemirror_mode": {
    "name": "ipython",
    "version": 3
   },
   "file_extension": ".py",
   "mimetype": "text/x-python",
   "name": "python",
   "nbconvert_exporter": "python",
   "pygments_lexer": "ipython3",
   "version": "3.8.3"
  }
 },
 "nbformat": 4,
 "nbformat_minor": 2
}
