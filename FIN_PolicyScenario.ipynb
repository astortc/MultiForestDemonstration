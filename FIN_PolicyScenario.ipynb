{
 "cells": [
  {
   "cell_type": "markdown",
   "metadata": {},
   "source": [
    "# Multiforest optimization notebook"
   ]
  },
  {
   "cell_type": "markdown",
   "metadata": {},
   "source": [
    "Above the code cells, there are short instructions how the users can modify the codes in the cells. If there are no instructions, no changes should be needed for the cell by default.\n",
    "\n",
    "A detailed description is provided in the <b>README.md</b>."
   ]
  },
  {
   "cell_type": "markdown",
   "metadata": {},
   "source": [
    "## Basic definitions"
   ]
  },
  {
   "cell_type": "markdown",
   "metadata": {},
   "source": [
    "Simulated forest data - name and climate scenario"
   ]
  },
  {
   "cell_type": "code",
   "execution_count": null,
   "metadata": {},
   "outputs": [],
   "source": [
    "RCP = \"RCP0\" # no climate change\n",
    "filename = \"rslt_\"+RCP+\"_keskisuomi_V11_smooth.zip\" # Test data from Central Finland with 2925 forest stands "
   ]
  },
  {
   "cell_type": "markdown",
   "metadata": {},
   "source": [
    "Specify policy scenario: \n",
    "* \"NFS\" - National Forest Strategy\n",
    "* \"BDS\" - Biodiversity Strategy\n",
    "* \"BES\" - Bioeconomy Strategy"
   ]
  },
  {
   "cell_type": "code",
   "execution_count": null,
   "metadata": {},
   "outputs": [],
   "source": [
    "scenario = \"BES\" "
   ]
  },
  {
   "cell_type": "markdown",
   "metadata": {},
   "source": [
    "Name definition for saved output, rule: _scenario_RCP_extension"
   ]
  },
  {
   "cell_type": "code",
   "execution_count": null,
   "metadata": {},
   "outputs": [],
   "source": [
    "extension = \"test\" # some additional info to the saved output "
   ]
  },
  {
   "cell_type": "markdown",
   "metadata": {},
   "source": [
    "## Read the data"
   ]
  },
  {
   "cell_type": "code",
   "execution_count": null,
   "metadata": {},
   "outputs": [],
   "source": [
    "import multiFunctionalOptimization as MFO"
   ]
  },
  {
   "cell_type": "code",
   "execution_count": null,
   "metadata": {},
   "outputs": [],
   "source": [
    "from importlib import reload\n",
    "reload(MFO)"
   ]
  },
  {
   "cell_type": "markdown",
   "metadata": {},
   "source": [
    "If no solver is specified, the open source solver CLP is used"
   ]
  },
  {
   "cell_type": "code",
   "execution_count": null,
   "metadata": {},
   "outputs": [],
   "source": [
    "mfo = MFO.MultiFunctionalOptimization(solver = 'CPLEX') "
   ]
  },
  {
   "cell_type": "code",
   "execution_count": null,
   "metadata": {},
   "outputs": [],
   "source": [
    "import wget\n",
    "import os\n",
    "import pandas as pd"
   ]
  },
  {
   "cell_type": "markdown",
   "metadata": {},
   "source": [
    "Data will be automatically downloaded at the first use!"
   ]
  },
  {
   "cell_type": "code",
   "execution_count": null,
   "metadata": {},
   "outputs": [],
   "source": [
    "if not filename in os.listdir(\".\"):\n",
    "    wget.download(\"https://a3s.fi/swift/v1/AUTH_9d5edfac7197434ab0e9b60b9f62c600/keskisuomi/\"+filename)"
   ]
  },
  {
   "cell_type": "code",
   "execution_count": null,
   "metadata": {},
   "outputs": [],
   "source": [
    "%%time\n",
    "mfo.readData(filename,\n",
    "             sampleRatio=0.3 #If no sample ratio given, the ratio is assumed to be 1.\n",
    "            )                "
   ]
  },
  {
   "cell_type": "markdown",
   "metadata": {},
   "source": [
    "## Create some new variables in the data"
   ]
  },
  {
   "cell_type": "markdown",
   "metadata": {},
   "source": [
    "Calculate total (per stand) values from relative values:\n",
    "* \"Relative to Area\" = simulated indicator value relate to one hectar -> scaled to represented area of NFI plot <br>\n",
    "* (\"Relative to volume\" = indicator relates to standing Volume -> scaled to the represented volume of the plot) <br>\n",
    "* (\"Absolute Value\" = takes the inticator value as it is)"
   ]
  },
  {
   "cell_type": "code",
   "execution_count": null,
   "metadata": {},
   "outputs": [],
   "source": [
    "columnTypes = {\n",
    "    'i_Vm3':(float,\"Relative to Area\"),\n",
    "    'Harvested_V':(float,\"Relative to Area\"),\n",
    "    'Harvested_V_log_under_bark':(float,\"Relative to Area\"), \n",
    "    'Harvested_V_pulp_under_bark':(float,\"Relative to Area\"),\n",
    "    'Harvested_V_under_bark':(float,\"Relative to Area\"), \n",
    "    'Biomass':(float,\"Relative to Area\"),\n",
    "    'ALL_MARKETED_MUSHROOMS':(float,\"Relative to Area\"), \n",
    "    'BILBERRY':(float,\"Relative to Area\"), \n",
    "    'COWBERRY':(float,\"Relative to Area\"),\n",
    "    'HSI_MOOSE':(float,\"Relative to Area\"),\n",
    "    'CAPERCAILLIE':(float,\"Relative to Area\"), \n",
    "    'HAZEL_GROUSE':(float,\"Relative to Area\"), \n",
    "    'V_total_deadwood':(float,\"Relative to Area\"), \n",
    "    'N_where_D_gt_40':(float,\"Relative to Area\"),\n",
    "    'prc_V_deciduous':(float,\"Relative to Area\"),\n",
    "    'CARBON_SINK':(float,\"Relative to Area\"), \n",
    "    'Recreation':(float,\"Relative to Area\"),\n",
    "    'Scenic':(float,\"Relative to Area\")\n",
    "}"
   ]
  },
  {
   "cell_type": "code",
   "execution_count": null,
   "metadata": {},
   "outputs": [],
   "source": [
    "mfo.calculateTotalValuesFromRelativeValues(columnTypes=columnTypes)"
   ]
  },
  {
   "cell_type": "markdown",
   "metadata": {},
   "source": [
    "List the new created columns: <br>\n",
    "* Total_... hectare value multiplied by represented area (or volume)"
   ]
  },
  {
   "cell_type": "code",
   "execution_count": null,
   "metadata": {},
   "outputs": [],
   "source": [
    "[name for name in mfo.data.columns if \"Total_\" in name and \"Relative\" not in name]"
   ]
  },
  {
   "cell_type": "markdown",
   "metadata": {},
   "source": [
    "## Create new column\n",
    "1) Column indicating if regime is \"CCF_3, CCF_4, BAUwGTR\" (TRUE/FLASE) <br>\n",
    "Important for FES Biodiversity, allowed regimes for conservation sites.\n",
    "\n",
    "2) Column indicating if regime is \"SA\" (TRUE/FALSE)<br>\n",
    "Important for FES Biodiversity, allowed regimes for statutory protection sites.\n",
    "\n",
    "3) Column indicating if regime is \"BAUwT_B, BAUwT_5_B, BAUwT_15_B, BAUwT_30_B, BAUwT_GTR_B\" <br>\n",
    "Important for FES Resillience, allowed regimes for climate change adaption."
   ]
  },
  {
   "cell_type": "code",
   "execution_count": null,
   "metadata": {},
   "outputs": [],
   "source": [
    "regimeClassNames = {\"regimeClass0name\":\"CCF\",\"regimeClass1name\":\"SA\",\"regimeClass2name\":\"Broadleave\"}\n",
    "regimeClassregimes = {\"regimeClass0regimes\":[\"CCF_3\",\"CCF_4\",\"BAUwGTR\"],\"regimeClass1regimes\":[\"SA\"],\"regimeClass2regimes\":[\"BAUwT_B\", \"BAUwT_5_B\", \"BAUwT_15_B\", \"BAUwT_30_B\", \"BAUwT_GTR_B\"]}"
   ]
  },
  {
   "cell_type": "code",
   "execution_count": null,
   "metadata": {},
   "outputs": [],
   "source": [
    "mfo.addRegimeClassifications(regimeClassNames = regimeClassNames,regimeClassregimes=regimeClassregimes)"
   ]
  },
  {
   "cell_type": "markdown",
   "metadata": {},
   "source": [
    "## Define initial value\n",
    "1) Define initial values, recognized by the regime \"initial_state\", which only occurs at the first year (here 2016)\n",
    "\n",
    "2) Create new variables that describe the <b>relative change to initial situation (start year) \"Relative_\"</b>:"
   ]
  },
  {
   "cell_type": "code",
   "execution_count": null,
   "metadata": {},
   "outputs": [],
   "source": [
    "mfo.finalizeData(initialRegime=\"initial_state\")"
   ]
  },
  {
   "cell_type": "markdown",
   "metadata": {},
   "source": [
    "New variables created:"
   ]
  },
  {
   "cell_type": "code",
   "execution_count": null,
   "metadata": {},
   "outputs": [],
   "source": [
    "[name for name in mfo.data.columns if \"Relative_\" in name]"
   ]
  },
  {
   "cell_type": "code",
   "execution_count": null,
   "metadata": {},
   "outputs": [],
   "source": [
    "mfo.data.head()"
   ]
  },
  {
   "cell_type": "code",
   "execution_count": null,
   "metadata": {},
   "outputs": [],
   "source": [
    "mfo.initialData.head()"
   ]
  },
  {
   "cell_type": "markdown",
   "metadata": {},
   "source": [
    "## Define the optimization problem for policy scenarios\n",
    "See README.md for details.\n",
    "\n",
    "<b>Objective format:</b>\n",
    "\n",
    "Unique_key :[Long human readable name, column name in data, max/min objective, year wise aggregation, stand wise aggregation (, target year )]\n",
    "\n",
    "1) \"Unique_key\" : [ (2) \"Long human readable name\", (3) \"column name\", (4) \"max/min objective\", (5) \"year wise aggregation\", (6) \"stand wise aggregation\" (, (7) target year ) ]\n",
    "\n",
    "<b>Options for \"objective\":</b> \"max\"imise or \"min\"imise it <br>\n",
    "<b>year wise aggregation:</b> \"min\" (minimum value), \"average\", \"firstYear\", \"targetYearWithSlope\",\"targetYear\",\"lastYear\" <br>\n",
    "<b>stand wise aggregation:</b> \"sum\", \"areaWeightedAverage\", \"areaWeightedSum\" <br>\n",
    "<b>targe yeart:</b> any year except the first one"
   ]
  },
  {
   "cell_type": "markdown",
   "metadata": {},
   "source": [
    "### NFS - National Forest Strategy"
   ]
  },
  {
   "cell_type": "code",
   "execution_count": null,
   "metadata": {},
   "outputs": [],
   "source": [
    "if scenario == 'NFS':\n",
    "    \n",
    "    wood_production_bioenergy = { \n",
    "    # Increment - target 2025\n",
    "    \"Total_i_Vm3_2025\": [\"Total annual timber volume increment by 2025 (m3)\",\n",
    "                         \"Total_i_Vm3\",\n",
    "                         \"max\",\"targetYearWithSlope\",\"sum\",2025], \n",
    "    # Increment - target 2050\n",
    "    \"Total_i_Vm3_2050\": [\"Total annual timber volume increment by 2050 (m3)\",\n",
    "                         \"Total_i_Vm3\",\n",
    "                         \"max\",\"targetYearWithSlope\",\"sum\",2050], \n",
    "    # Harvested roundwood - target 2025\n",
    "    \"Total_Harvested_V_2025\" :[\"Total annual harvested timber volume by 2025 (log & pulp) (m3)\",\n",
    "                               \"Total_Harvested_V\",\n",
    "                               \"max\",\"targetYearWithSlope\",\"sum\",2025], \n",
    "    # Harvested biomass - target 2025\n",
    "    \"Total_Biomass_2025\": [\"Total annual harvested biomass volume by 2025 (m3)\",\n",
    "                           \"Total_Biomass\",\n",
    "                           \"max\",\"targetYearWithSlope\",\"sum\",2025]\n",
    "    }\n",
    "    \n",
    "    nonwood = { \n",
    "    # Bilberry - no decline, maximise it\n",
    "    \"Relative_BILBERRY\": [\"Bilberry yield (relative to 2016, max minimum over yrs)\",\n",
    "                          \"Relative_Total_BILBERRY\",\n",
    "                          \"max\",\"min\",\"sum\"],\n",
    "    # Cowberry - no decline, maximise it\n",
    "    \"Relative_COWBERRY\": [\"Cowberry yield (relative to 2016, max minimum over yrs)\",\n",
    "                          \"Relative_Total_COWBERRY\",\n",
    "                          \"max\",\"min\",\"sum\"],\n",
    "    # Mushrooms - no decline, maximise it\n",
    "    \"Relative_ALL_MARKETED_MUSHROOMS\": [\"All marketed mushroom yield (relative to 2016, max minimum over yrs)\",\n",
    "                         \"Relative_Total_ALL_MARKETED_MUSHROOMS\",\n",
    "                         \"max\",\"min\",\"sum\"]    \n",
    "    }\n",
    "    \n",
    "    game = {\n",
    "    # HSI moose - maximise  \n",
    "    \"Sum_Total_HSI_MOOSE\": [\"Total habitat index for MOOSE (max average over all years)\",\n",
    "                           \"Total_HSI_MOOSE\",\n",
    "                           \"max\",\"average\",\"sum\"],\n",
    "    # HSI hazel grouse - maximise\n",
    "    \"Sum_Total_HAZEL_GROUSE\": [\"Total habitat index for HAZEL_GROUSE (max average over yrs)\",\n",
    "                           \"Total_HAZEL_GROUSE\",\n",
    "                           \"max\",\"average\",\"sum\"],\n",
    "    # HSI capercaillie - maximise\n",
    "    \"Sum_Total_CAPERCAILLIE\": [\"Total habitat index for CAPERCAILLIE (max average over yrs)\",\n",
    "                           \"Total_CAPERCAILLIE\",\n",
    "                           \"max\",\"average\",\"sum\"]    \n",
    "    }\n",
    "    \n",
    "    biodiversity = {\n",
    "    # Dearwood - target 2025\n",
    "    \"Average_Deadwood_V_2025\": [\"Average Deadwood volume by 2025 (m3/ha)\", \n",
    "                                \"V_total_deadwood\",\n",
    "                                \"max\", \"targetYear\", \"areaWeightedAverage\", 2025], \n",
    "    # Large trees (>40 cm) - maximise\n",
    "    \"Total_N_where_D_gt_40\": [\"Total No. of trees diameter >= 40 cm  (max end value)\",\n",
    "                              \"Total_N_where_D_gt_40\",\n",
    "                              \"max\",\"lastYear\",\"sum\"],    \n",
    "    # Deciduous tree volume - maximise\n",
    "    \"Total_prc_V_deciduous\":  [\"Total %-share of deciduous trees (related to V) (max end value)\", \n",
    "                               \"Total_prc_V_deciduous\",\n",
    "                               \"max\", \"lastYear\",\"sum\"],\n",
    "    # Conservation regime - target\n",
    "    \"Ratio_CCF_forests\": [\"Ratio of BC sites in commercial forests (%, CCF_3, CCF_4 and BAUwGTR)\",\n",
    "                          \"CCF_forests\",\n",
    "                          \"max\",\"firstYear\",\"areaWeightedAverage\"]\n",
    "    }\n",
    "    \n",
    "    climate_regulation = {\n",
    "    # Carbon sink - target 2025\n",
    "    \"Total_CARBON_SINK_2025\": [\"Total sequestration in carbon dioxide by 2025 (t CO2)\",\n",
    "                               \"Total_CARBON_SINK\",\n",
    "                               \"max\",\"targetYearWithSlope\",\"sum\",2025] \n",
    "    }\n",
    "    \n",
    "    recreation = {\n",
    "    # Recreation index - maximise\n",
    "    \"Sum_Total_Recreation\" : [\"Total Recreation index (max minimum over yrs)\",\n",
    "                              \"Total_Recreation\",\n",
    "                              \"max\",\"min\",\"sum\"],\n",
    "    \n",
    "    # Scenic index - maximise\n",
    "    \"Sum_Total_Scenic\" : [\"Total Scenic index (max minimum over yrs)\",\n",
    "                          \"Total_Scenic\",\n",
    "                          \"max\",\"min\",\"sum\"]\n",
    "    }\n",
    "    \n",
    "    resilience = {\n",
    "    # CC adaption regimes - maximise\n",
    "    \"Ratio_Broadleave_forests\": [\"Ratio of adaptive management regimes (%, increasing broadleave share)\",\n",
    "                                 \"Broadleave_forests\",\n",
    "                                 \"max\",\"firstYear\",\"areaWeightedAverage\"]\n",
    "    }\n",
    "    \n",
    "    objectives = {\n",
    "              **wood_production_bioenergy,\n",
    "              **nonwood,\n",
    "              **game,\n",
    "              **biodiversity,\n",
    "              **climate_regulation,\n",
    "              **recreation,\n",
    "              **resilience\n",
    "    }\n",
    "    \n",
    "    print(\"objectives for NFS loaded\")"
   ]
  },
  {
   "cell_type": "markdown",
   "metadata": {},
   "source": [
    "### BDS - Biodiversity Strategy"
   ]
  },
  {
   "cell_type": "code",
   "execution_count": null,
   "metadata": {},
   "outputs": [],
   "source": [
    "if scenario == 'BDS':\n",
    "    \n",
    "    wood_production_bioenergy = { \n",
    "    # Harvested roundwood - maximise (even flow)\n",
    "    \"Average_Harvested_V\" : [\"Average harvested timber volume (log & pulp) (m3/ha, evenflow)\",\n",
    "                             \"Harvested_V\",\n",
    "                             \"max\",\"min\",\"areaWeightedAverage\"]\n",
    "    }\n",
    "    \n",
    "    game = {\n",
    "    # HSI moose - maximise       \n",
    "    \"Sum_Total_HSI_MOOSE\": [\"Total habitat index for MOOSE (max average over all years)\",\n",
    "                           \"Total_HSI_MOOSE\",\n",
    "                           \"max\",\"average\",\"sum\"],\n",
    "    # HSI hazel grouse - maximise\n",
    "    \"Sum_Total_HAZEL_GROUSE\": [\"Total habitat index for HAZEL_GROUSE (max average over yrs)\",\n",
    "                           \"Total_HAZEL_GROUSE\",\n",
    "                           \"max\",\"average\",\"sum\"],\n",
    "    # HSI carpercaillie - maximise\n",
    "    \"Sum_Total_CAPERCAILLIE\": [\"Total habitat index for CAPERCAILLIE (max average over yrs)\",\n",
    "                           \"Total_CAPERCAILLIE\",\n",
    "                           \"max\",\"average\",\"sum\"]    \n",
    "    }\n",
    "    \n",
    "    biodiversity = {\n",
    "    # Deadwood - target 2050, increase by XX%\n",
    "    \"relative_Amount_Deadwood_2050\" : [\"Total Deadwood volume by 2050 (%, relative to 2016 values)\",\n",
    "                                       \"Relative_Total_V_total_deadwood\",\n",
    "                                       \"max\",\"targetYearWithSlope\",\"sum\",2050],\n",
    "    # Large trees - target 2050, increase by XX%\n",
    "    \"relative_N_where_D_gt_40_2050\": [\"Total No. of trees diameter >= 40 cm  by 2050 (%, relative to 2016 values)\",\n",
    "                                      \"Relative_Total_N_where_D_gt_40\",\n",
    "                                      \"max\",\"targetYear\",\"sum\",2050],\n",
    "    # Deciduous tree volume - target 2050, increase by XX% \n",
    "    \"relative_prc_V_deciduous_2050\": [\"Total share of deciduous trees by 2050 (related to V) (%, relative to 2016 values)\",\n",
    "                                      \"Relative_Total_prc_V_deciduous\",\n",
    "                                      \"max\",\"targetYearWithSlope\",\"sum\",2050],\n",
    "    # Regime SA - target\n",
    "    \"Ratio_CCF_forests\": [\"Ratio of BC sites in commercial forests (%, CCF_3, CCF_4 and BAUwGTR)\",\n",
    "                          \"CCF_forests\",\n",
    "                          \"max\",\"firstYear\",\"areaWeightedAverage\"],\n",
    "    # Conservation regimes - target\n",
    "    \"Ratio_SA_forests\": [\"Ratio of protected areas (%, SA forests)\",\n",
    "                         \"SA_forests\",\n",
    "                         \"max\",\"firstYear\",\"areaWeightedAverage\"]    \n",
    "    \n",
    "    }\n",
    "    \n",
    "    recreation = {\n",
    "    # Recreation index - maximise\n",
    "    \"Sum_Total_Recreation\" : [\"Total Recreation index (max minimum over yrs)\",\n",
    "                              \"Total_Recreation\",\n",
    "                              \"max\",\"min\",\"sum\"],\n",
    "    # Scenic indes - maximise\n",
    "    \"Sum_Total_Scenic\" : [\"Total Scenic index (max minimum over yrs)\",\n",
    "                          \"Total_Scenic\",\n",
    "                          \"max\",\"min\",\"sum\"]\n",
    "    }\n",
    "    \n",
    "    objectives = {\n",
    "              **wood_production_bioenergy,\n",
    "              **game,\n",
    "              **biodiversity,\n",
    "              **recreation\n",
    "    }\n",
    "    \n",
    "    print(\"objectives for BDS loaded\")"
   ]
  },
  {
   "cell_type": "markdown",
   "metadata": {},
   "source": [
    "### BES - Bioeconomy strategy"
   ]
  },
  {
   "cell_type": "code",
   "execution_count": null,
   "metadata": {},
   "outputs": [],
   "source": [
    "if scenario == 'BES':\n",
    "    \n",
    "    wood_production_bioenergy = { \n",
    "    # Harvested roundwood - maximise even flow\n",
    "    \"Average_Harvested_V\" : [\"Average harvested timber volume (log & pulp) (m3/ha, evenflow)\",\n",
    "                             \"Harvested_V\",\n",
    "                             \"max\",\"min\",\"areaWeightedAverage\"],\n",
    "    # Harvested biomass - maximise even flow\n",
    "    \"Biomass_Evenflow\": [\"Average harvested biomass volume (m3/ha, evenflow)\",\n",
    "                         \"Biomass\",\n",
    "                         \"max\",\"min\",\"areaWeightedAverage\"]\n",
    "    }\n",
    "    \n",
    "    biodiversity = {\n",
    "    # Deadwood - no decline (no target value)\n",
    "    \"relative_Amount_Deadwood_2050\" : [\"Total Deadwood volume by 2050 (%, relative to 2016 values)\",\n",
    "                                       \"Relative_Total_V_total_deadwood\",\n",
    "                                       \"max\",\"targetYearWithSlope\",\"sum\",2050],\n",
    "    # Large trees - no decline (no target value)\n",
    "    \"relative_N_where_D_gt_40_2050\": [\"Total No. of trees diameter >= 40 cm  by 2050 (%, relative to 2016 values)\",\n",
    "                                      \"Relative_Total_N_where_D_gt_40\",\n",
    "                                      \"max\",\"targetYear\",\"sum\",2050],\n",
    "    # Deciduous tree volume - no decline (no target value)\n",
    "    \"relative_prc_V_deciduous_2050\": [\"Total share of deciduous trees by 2050 (related to V) (%, relative to 2016 values)\",\n",
    "                                      \"Relative_Total_prc_V_deciduous\",\n",
    "                                      \"max\",\"targetYearWithSlope\",\"sum\",2050]\n",
    "    }\n",
    "    \n",
    "    recreation = {\n",
    "    # Recreation index - maximise\n",
    "    \"Sum_Total_Recreation\" : [\"Total Recreation index (max minimum over all years)\",\n",
    "                              \"Total_Recreation\",\n",
    "                              \"max\",\"min\",\"sum\"],\n",
    "    # Scenic indes - maximise\n",
    "    \"Sum_Total_Scenic\" : [\"Total Scenic index (max minimum over all years)\",\n",
    "                          \"Total_Scenic\",\n",
    "                          \"max\",\"min\",\"sum\"]\n",
    "    }\n",
    "    \n",
    "    objectives = {\n",
    "              **wood_production_bioenergy,\n",
    "              **biodiversity,\n",
    "              **recreation,\n",
    "    }\n",
    "    \n",
    "    print(\"objectives for BDS loaded\")"
   ]
  },
  {
   "cell_type": "code",
   "execution_count": null,
   "metadata": {},
   "outputs": [],
   "source": [
    "len(objectives)"
   ]
  },
  {
   "cell_type": "code",
   "execution_count": null,
   "metadata": {},
   "outputs": [],
   "source": [
    "objectives.keys()"
   ]
  },
  {
   "cell_type": "code",
   "execution_count": null,
   "metadata": {},
   "outputs": [],
   "source": [
    "mfo.data.columns"
   ]
  },
  {
   "cell_type": "code",
   "execution_count": null,
   "metadata": {},
   "outputs": [],
   "source": [
    "[(col,mfo.data.dtypes[col]) for col in mfo.data.columns if \"prc\" in col]"
   ]
  },
  {
   "cell_type": "markdown",
   "metadata": {},
   "source": [
    "## Define initial values NOT available in data, but needed for objective\n",
    "\n",
    "Examples are increment, harvests, biomass and carbon sink. They are required for the \"targetYearWithSlope\" objective, but values only occur after the first simulation period. National values are taken from the policy or forest statistics. \n",
    "\n",
    "<b>For the Central Finland test data, national values are simply divided by 19 (number of considered provinces).</b> "
   ]
  },
  {
   "cell_type": "code",
   "execution_count": null,
   "metadata": {},
   "outputs": [],
   "source": [
    "initialValues = {\"Total_i_Vm3\":107*10**6 / 19,               # from National Forest Policy            \n",
    "                 \"Total_Harvested_V\": 72.3*10**6 / 19,       # from National Forest Policy \n",
    "                 \"Total_Biomass\": 2.9*10**6 / 19,            # from National Forest Policy  \n",
    "                 \"Total_CARBON_SINK\" : 34.1*10**6 / 19,      # from National Forest Policy  \n",
    "                                            \n",
    "                 \"SA_forests\" : 0.106,     # from ForestStatistics 2018\n",
    "                 \"CCF_forests\" : 0.015,    # from ForestStatistics 2018\n",
    "                 \"BAUwGTR_forests\":0.015}  # from ForestStatistics 2018"
   ]
  },
  {
   "cell_type": "code",
   "execution_count": null,
   "metadata": {
    "scrolled": true
   },
   "outputs": [],
   "source": [
    "mfo.defineObjectives(objectives,initialValues = initialValues)"
   ]
  },
  {
   "cell_type": "markdown",
   "metadata": {},
   "source": [
    "## Define enabled constraints"
   ]
  },
  {
   "cell_type": "code",
   "execution_count": null,
   "metadata": {},
   "outputs": [],
   "source": [
    "CCFregimes = [regime for regime in mfo.regimes if \"CCF\" in regime] + [\"SA\"]"
   ]
  },
  {
   "cell_type": "code",
   "execution_count": null,
   "metadata": {},
   "outputs": [],
   "source": [
    "CCFregimes"
   ]
  },
  {
   "cell_type": "markdown",
   "metadata": {},
   "source": [
    "Constraint format:\n",
    "- Shortname: \"constraint type\",\"allowed regimes\",\"human readable name\",(regimes),\"column in data\")"
   ]
  },
  {
   "cell_type": "code",
   "execution_count": null,
   "metadata": {},
   "outputs": [],
   "source": [
    "constraintTypes = {\"CCFonPeat\":[\"Allowed regimes\",\"Only CCF on peat lands\",CCFregimes,\"PEAT\"]}"
   ]
  },
  {
   "cell_type": "code",
   "execution_count": null,
   "metadata": {},
   "outputs": [],
   "source": [
    "mfo.defineConstraints(constraintTypes)"
   ]
  },
  {
   "cell_type": "markdown",
   "metadata": {},
   "source": [
    "## Calculate objective ranges\n",
    "The ideal and anti-ideal solution for the individual objective functions"
   ]
  },
  {
   "cell_type": "code",
   "execution_count": null,
   "metadata": {},
   "outputs": [],
   "source": [
    "mfo.data"
   ]
  },
  {
   "cell_type": "code",
   "execution_count": null,
   "metadata": {
    "scrolled": false
   },
   "outputs": [],
   "source": [
    "%%time\n",
    "mfo.calculateObjectiveRanges(debug=True)"
   ]
  },
  {
   "cell_type": "code",
   "execution_count": null,
   "metadata": {},
   "outputs": [],
   "source": [
    "mfo.objectiveRanges"
   ]
  },
  {
   "cell_type": "markdown",
   "metadata": {},
   "source": [
    "## Show GUI"
   ]
  },
  {
   "cell_type": "markdown",
   "metadata": {},
   "source": [
    "* If \"Enabled constraints\" should be considered, start with ticking box \"only CCF ...\" and push \"Change constraints\"\n",
    "* Epsilon constraints are only considered if sliders are moved and button \"Set epsilon constraints\" is pushed\n",
    "* By pushing \"OPTIMIZE\" an optimal solution under the given constraints and reference points is searched"
   ]
  },
  {
   "cell_type": "code",
   "execution_count": null,
   "metadata": {},
   "outputs": [],
   "source": [
    "mfo.showGUI(debug=True)"
   ]
  },
  {
   "cell_type": "markdown",
   "metadata": {},
   "source": [
    "## Visualization of optimal solution"
   ]
  },
  {
   "cell_type": "code",
   "execution_count": null,
   "metadata": {},
   "outputs": [],
   "source": [
    "regimeAmounts = {regime:0 for regime in mfo.regimes}\n",
    "for key in mfo.regimesDecision.keys():\n",
    "    regimeAmounts[key[1]] +=mfo.regimesDecision[key].solution_value()*mfo.standAreas.loc[key[0],\"represented_area_by_NFIplot\"]/mfo.standAreas[\"represented_area_by_NFIplot\"].sum()"
   ]
  },
  {
   "cell_type": "code",
   "execution_count": null,
   "metadata": {},
   "outputs": [],
   "source": [
    "%pylab notebook"
   ]
  },
  {
   "cell_type": "code",
   "execution_count": null,
   "metadata": {},
   "outputs": [],
   "source": [
    "#[val for val in regimeAmounts.values()]"
   ]
  },
  {
   "cell_type": "code",
   "execution_count": null,
   "metadata": {},
   "outputs": [],
   "source": [
    "plt.plot([key for key in regimeAmounts.keys()],[val for val in regimeAmounts.values()])"
   ]
  },
  {
   "cell_type": "code",
   "execution_count": null,
   "metadata": {},
   "outputs": [],
   "source": [
    "plt.bar(range(len(regimeAmounts)), list(regimeAmounts.values()), align='center')\n",
    "plt.xticks(range(len(regimeAmounts)), list(regimeAmounts.keys()),rotation=\"vertical\")"
   ]
  },
  {
   "cell_type": "markdown",
   "metadata": {},
   "source": [
    "## Export data as csv\n",
    "\n",
    "- <b>Solution_alldata</b> contains the optimal regime per stand AND the timely development of indicator values plus all other input columns (represented_are_by_NFIplot, region, NUTS2)\n",
    "- <b>Solution</b> contains only the selected optimal regime and its share (if multiple regimes per stand are selected)\n"
   ]
  },
  {
   "cell_type": "code",
   "execution_count": null,
   "metadata": {},
   "outputs": [],
   "source": [
    "try:\n",
    "    os.mkdir(\"results\")\n",
    "except FileExistsError:\n",
    "    pass\n",
    "b = []\n",
    "c = []\n",
    "for key in mfo.regimesDecision.keys():\n",
    "    if mfo.regimesDecision[key].solution_value() > 0:\n",
    "        b = b+ [(key[0],x*5+2016, key[1]) for x in range(0,21)]\n",
    "        c = c+ [(key[0],key[1],mfo.regimesDecision[key].solution_value())]\n",
    "data2b = mfo.data.iloc[mfo.data.index.isin(b)]\n",
    "data2b.to_csv(\"./results/solution_alldata_\"+scenario+\"_\"+RCP+\"_\"+extension+\".csv\")\n",
    "c1 = pd.DataFrame(c)\n",
    "c1.to_csv(\"./results/solution_\"+scenario+\"_\"+RCP+\"_\"+extension+\".csv\")"
   ]
  },
  {
   "cell_type": "markdown",
   "metadata": {},
   "source": [
    "## Export objective ranges "
   ]
  },
  {
   "cell_type": "markdown",
   "metadata": {},
   "source": [
    "Save as json file"
   ]
  },
  {
   "cell_type": "code",
   "execution_count": null,
   "metadata": {},
   "outputs": [],
   "source": [
    "import json\n",
    "mfo.objectiveRanges\n",
    "\n",
    "with open('./results/objectiveRanges_'+scenario+'_'+RCP+'_'+extension+'.json', 'w') as json_file:\n",
    "  json.dump(mfo.objectiveRanges, json_file)"
   ]
  },
  {
   "cell_type": "markdown",
   "metadata": {},
   "source": [
    "Save as CSV."
   ]
  },
  {
   "cell_type": "code",
   "execution_count": null,
   "metadata": {},
   "outputs": [],
   "source": [
    "df = pd.read_json('./results/objectiveRanges_'+scenario+'_'+RCP+'_'+extension+'.json')\n",
    "\n",
    "df.to_csv('./results/objectiveRanges_'+scenario+'_'+RCP+'_'+extension+'.csv')"
   ]
  },
  {
   "cell_type": "markdown",
   "metadata": {},
   "source": [
    "## Export objective values\n",
    "The optimal solution for each objective."
   ]
  },
  {
   "cell_type": "code",
   "execution_count": null,
   "metadata": {},
   "outputs": [],
   "source": [
    "with open(\"./results/objectiveValues_\"+scenario+'_'+RCP+'_'+extension+\".csv\",\"w\") as file: \n",
    "    delim = \"\" \n",
    "    for objName in mfo.objectiveTypes.keys(): \n",
    "        file.write(delim+objName) \n",
    "        delim = \",\" \n",
    "    file.write(\"\\n\") \n",
    "    delim = \"\" \n",
    "    for objName in mfo.objectiveTypes.keys(): \n",
    "        file.write(delim+str(mfo.objective[objName].solution_value())) \n",
    "        delim = \",\" \n",
    "    file.write(\"\\n\")"
   ]
  },
  {
   "cell_type": "code",
   "execution_count": null,
   "metadata": {},
   "outputs": [],
   "source": []
  }
 ],
 "metadata": {
  "kernelspec": {
   "display_name": "Python 3",
   "language": "python",
   "name": "python3"
  },
  "language_info": {
   "codemirror_mode": {
    "name": "ipython",
    "version": 3
   },
   "file_extension": ".py",
   "mimetype": "text/x-python",
   "name": "python",
   "nbconvert_exporter": "python",
   "pygments_lexer": "ipython3",
   "version": "3.9.1"
  }
 },
 "nbformat": 4,
 "nbformat_minor": 2
}
