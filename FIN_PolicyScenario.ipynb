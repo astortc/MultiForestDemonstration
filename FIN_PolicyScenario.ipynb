{
 "cells": [
  {
   "cell_type": "markdown",
   "metadata": {},
   "source": [
    "# Multiforest optimization notebook"
   ]
  },
  {
   "cell_type": "markdown",
   "metadata": {},
   "source": [
    "Above the code cells, there are short instructions how the users can modify the codes in the cells. If there are no instructions, no changes should be needed for the cell by default.\n",
    "\n",
    "A detailed description is provided in the <b>README.md</b>."
   ]
  },
  {
   "cell_type": "markdown",
   "metadata": {},
   "source": [
    "## Basic definitions"
   ]
  },
  {
   "cell_type": "markdown",
   "metadata": {},
   "source": [
    "Simulated forest data - name and climate scenario"
   ]
  },
  {
   "cell_type": "code",
   "execution_count": 1,
   "metadata": {},
   "outputs": [],
   "source": [
    "RCP = \"RCP0\" # no climate change\n",
    "filename = \"rslt_\"+RCP+\"_keskisuomi_V11_smooth.zip\" # Test data from Central Finland with 2925 forest stands "
   ]
  },
  {
   "cell_type": "markdown",
   "metadata": {},
   "source": [
    "Specify policy scenario: \n",
    "* \"NFS\" - National Forest Strategy\n",
    "* \"BDS\" - Biodiversity Strategy\n",
    "* \"BES\" - Bioeconomy Strategy"
   ]
  },
  {
   "cell_type": "code",
   "execution_count": 2,
   "metadata": {},
   "outputs": [],
   "source": [
    "scenario = \"BES\" "
   ]
  },
  {
   "cell_type": "markdown",
   "metadata": {},
   "source": [
    "Name definition for saved output, rule: _scenario_RCP_extension"
   ]
  },
  {
   "cell_type": "code",
   "execution_count": 3,
   "metadata": {},
   "outputs": [],
   "source": [
    "extension = \"test\" # some additional info to the saved output "
   ]
  },
  {
   "cell_type": "markdown",
   "metadata": {},
   "source": [
    "## Read the data"
   ]
  },
  {
   "cell_type": "code",
   "execution_count": 4,
   "metadata": {},
   "outputs": [],
   "source": [
    "import multiFunctionalOptimization as MFO"
   ]
  },
  {
   "cell_type": "code",
   "execution_count": 5,
   "metadata": {},
   "outputs": [
    {
     "data": {
      "text/plain": [
       "<module 'multiFunctionalOptimization' from '/home/markus/dev/MultiForestDemonstration/multiFunctionalOptimization.py'>"
      ]
     },
     "execution_count": 5,
     "metadata": {},
     "output_type": "execute_result"
    }
   ],
   "source": [
    "from importlib import reload\n",
    "reload(MFO)"
   ]
  },
  {
   "cell_type": "markdown",
   "metadata": {},
   "source": [
    "If no solver is specified, the open source solver CLP is used"
   ]
  },
  {
   "cell_type": "code",
   "execution_count": 6,
   "metadata": {},
   "outputs": [
    {
     "data": {
      "text/plain": [
       "'Using CLP'"
      ]
     },
     "metadata": {},
     "output_type": "display_data"
    }
   ],
   "source": [
    "mfo = MFO.MultiFunctionalOptimization() "
   ]
  },
  {
   "cell_type": "code",
   "execution_count": 7,
   "metadata": {},
   "outputs": [],
   "source": [
    "import wget\n",
    "import os\n",
    "import pandas as pd"
   ]
  },
  {
   "cell_type": "markdown",
   "metadata": {},
   "source": [
    "Data will be automatically downloaded at the first use!"
   ]
  },
  {
   "cell_type": "code",
   "execution_count": 8,
   "metadata": {},
   "outputs": [],
   "source": [
    "if not filename in os.listdir(\".\"):\n",
    "    wget.download(\"https://a3s.fi/swift/v1/AUTH_9d5edfac7197434ab0e9b60b9f62c600/keskisuomi/\"+filename)"
   ]
  },
  {
   "cell_type": "code",
   "execution_count": 9,
   "metadata": {},
   "outputs": [
    {
     "data": {
      "text/plain": [
       "'sample size 29/2925(0%)'"
      ]
     },
     "metadata": {},
     "output_type": "display_data"
    },
    {
     "name": "stdout",
     "output_type": "stream",
     "text": [
      "CPU times: user 1.08 s, sys: 212 ms, total: 1.3 s\n",
      "Wall time: 1.29 s\n"
     ]
    }
   ],
   "source": [
    "%%time\n",
    "mfo.readData(filename,\n",
    "             sampleRatio=0.01 #If no sample ratio given, the ratio is assumed to be 1.\n",
    "            )                "
   ]
  },
  {
   "cell_type": "markdown",
   "metadata": {},
   "source": [
    "## Create some new variables in the data"
   ]
  },
  {
   "cell_type": "markdown",
   "metadata": {},
   "source": [
    "Calculate total (per stand) values from relative values:\n",
    "* \"Relative to Area\" = simulated indicator value relate to one hectar -> scaled to represented area of NFI plot <br>\n",
    "* (\"Relative to volume\" = indicator relates to standing Volume -> scaled to the represented volume of the plot) <br>\n",
    "* (\"Absolute Value\" = takes the inticator value as it is)"
   ]
  },
  {
   "cell_type": "code",
   "execution_count": 10,
   "metadata": {},
   "outputs": [],
   "source": [
    "columnTypes = {\n",
    "    'i_Vm3':(float,\"Relative to Area\"),\n",
    "    'Harvested_V':(float,\"Relative to Area\"),\n",
    "    'Harvested_V_log_under_bark':(float,\"Relative to Area\"), \n",
    "    'Harvested_V_pulp_under_bark':(float,\"Relative to Area\"),\n",
    "    'Harvested_V_under_bark':(float,\"Relative to Area\"), \n",
    "    'Biomass':(float,\"Relative to Area\"),\n",
    "    'ALL_MARKETED_MUSHROOMS':(float,\"Relative to Area\"), \n",
    "    'BILBERRY':(float,\"Relative to Area\"), \n",
    "    'COWBERRY':(float,\"Relative to Area\"),\n",
    "    'HSI_MOOSE':(float,\"Relative to Area\"),\n",
    "    'CAPERCAILLIE':(float,\"Relative to Area\"), \n",
    "    'HAZEL_GROUSE':(float,\"Relative to Area\"), \n",
    "    'V_total_deadwood':(float,\"Relative to Area\"), \n",
    "    'N_where_D_gt_40':(float,\"Relative to Area\"),\n",
    "    'prc_V_deciduous':(float,\"Relative to Area\"),\n",
    "    'CARBON_SINK':(float,\"Relative to Area\"), \n",
    "    'Recreation':(float,\"Relative to Area\"),\n",
    "    'Scenic':(float,\"Relative to Area\")\n",
    "}"
   ]
  },
  {
   "cell_type": "code",
   "execution_count": 11,
   "metadata": {},
   "outputs": [],
   "source": [
    "mfo.calculateTotalValuesFromRelativeValues(columnTypes=columnTypes)"
   ]
  },
  {
   "cell_type": "markdown",
   "metadata": {},
   "source": [
    "List the new created columns: <br>\n",
    "* Total_... hectare value multiplied by represented area (or volume)"
   ]
  },
  {
   "cell_type": "code",
   "execution_count": 12,
   "metadata": {},
   "outputs": [
    {
     "data": {
      "text/plain": [
       "['Total_i_Vm3',\n",
       " 'Total_Harvested_V',\n",
       " 'Total_Harvested_V_log_under_bark',\n",
       " 'Total_Harvested_V_pulp_under_bark',\n",
       " 'Total_Harvested_V_under_bark',\n",
       " 'Total_Biomass',\n",
       " 'Total_ALL_MARKETED_MUSHROOMS',\n",
       " 'Total_BILBERRY',\n",
       " 'Total_COWBERRY',\n",
       " 'Total_HSI_MOOSE',\n",
       " 'Total_CAPERCAILLIE',\n",
       " 'Total_HAZEL_GROUSE',\n",
       " 'Total_V_total_deadwood',\n",
       " 'Total_N_where_D_gt_40',\n",
       " 'Total_prc_V_deciduous',\n",
       " 'Total_CARBON_SINK',\n",
       " 'Total_Recreation',\n",
       " 'Total_Scenic']"
      ]
     },
     "execution_count": 12,
     "metadata": {},
     "output_type": "execute_result"
    }
   ],
   "source": [
    "[name for name in mfo.data.columns if \"Total_\" in name and \"Relative\" not in name]"
   ]
  },
  {
   "cell_type": "markdown",
   "metadata": {},
   "source": [
    "## Create new column\n",
    "1) Column indicating if regime is \"CCF_3, CCF_4, BAUwGTR\" (TRUE/FLASE) <br>\n",
    "Important for FES Biodiversity, allowed regimes for conservation sites.\n",
    "\n",
    "2) Column indicating if regime is \"SA\" (TRUE/FALSE)<br>\n",
    "Important for FES Biodiversity, allowed regimes for statutory protection sites.\n",
    "\n",
    "3) Column indicating if regime is \"BAUwT_B, BAUwT_5_B, BAUwT_15_B, BAUwT_30_B, BAUwT_GTR_B\" <br>\n",
    "Important for FES Resillience, allowed regimes for climate change adaption."
   ]
  },
  {
   "cell_type": "code",
   "execution_count": 13,
   "metadata": {},
   "outputs": [],
   "source": [
    "regimeClassNames = {\"regimeClass0name\":\"CCF\",\"regimeClass1name\":\"SA\",\"regimeClass2name\":\"Broadleave\"}\n",
    "regimeClassregimes = {\"regimeClass0regimes\":[\"CCF_3\",\"CCF_4\",\"BAUwGTR\"],\"regimeClass1regimes\":[\"SA\"],\"regimeClass2regimes\":[\"BAUwT_B\", \"BAUwT_5_B\", \"BAUwT_15_B\", \"BAUwT_30_B\", \"BAUwT_GTR_B\"]}"
   ]
  },
  {
   "cell_type": "code",
   "execution_count": 14,
   "metadata": {},
   "outputs": [],
   "source": [
    "mfo.addRegimeClassifications(regimeClassNames = regimeClassNames,regimeClassregimes=regimeClassregimes)"
   ]
  },
  {
   "cell_type": "markdown",
   "metadata": {},
   "source": [
    "## Define initial value\n",
    "1) Define initial values, recognized by the regime \"initial_state\", which only occurs at the first year (here 2016)\n",
    "\n",
    "2) Create new variables that describe the <b>relative change to initial situation (start year) \"Relative_\"</b>:"
   ]
  },
  {
   "cell_type": "code",
   "execution_count": 15,
   "metadata": {},
   "outputs": [],
   "source": [
    "mfo.finalizeData(initialRegime=\"initial_state\")"
   ]
  },
  {
   "cell_type": "markdown",
   "metadata": {},
   "source": [
    "New variables created:"
   ]
  },
  {
   "cell_type": "code",
   "execution_count": 16,
   "metadata": {},
   "outputs": [
    {
     "data": {
      "text/plain": [
       "['Relative_V',\n",
       " 'Relative_ALL_MARKETED_MUSHROOMS',\n",
       " 'Relative_BILBERRY',\n",
       " 'Relative_COWBERRY',\n",
       " 'Relative_HSI_MOOSE',\n",
       " 'Relative_CAPERCAILLIE',\n",
       " 'Relative_HAZEL_GROUSE',\n",
       " 'Relative_V_total_deadwood',\n",
       " 'Relative_prc_V_deciduous',\n",
       " 'Relative_Recreation',\n",
       " 'Relative_Scenic',\n",
       " 'Relative_CARBON_STORAGE',\n",
       " 'Relative_Total_ALL_MARKETED_MUSHROOMS',\n",
       " 'Relative_Total_BILBERRY',\n",
       " 'Relative_Total_COWBERRY',\n",
       " 'Relative_Total_HSI_MOOSE',\n",
       " 'Relative_Total_CAPERCAILLIE',\n",
       " 'Relative_Total_HAZEL_GROUSE',\n",
       " 'Relative_Total_V_total_deadwood',\n",
       " 'Relative_Total_prc_V_deciduous',\n",
       " 'Relative_Total_Recreation',\n",
       " 'Relative_Total_Scenic']"
      ]
     },
     "execution_count": 16,
     "metadata": {},
     "output_type": "execute_result"
    }
   ],
   "source": [
    "[name for name in mfo.data.columns if \"Relative_\" in name]"
   ]
  },
  {
   "cell_type": "code",
   "execution_count": 17,
   "metadata": {},
   "outputs": [
    {
     "data": {
      "text/html": [
       "<div>\n",
       "<style scoped>\n",
       "    .dataframe tbody tr th:only-of-type {\n",
       "        vertical-align: middle;\n",
       "    }\n",
       "\n",
       "    .dataframe tbody tr th {\n",
       "        vertical-align: top;\n",
       "    }\n",
       "\n",
       "    .dataframe thead th {\n",
       "        text-align: right;\n",
       "    }\n",
       "</style>\n",
       "<table border=\"1\" class=\"dataframe\">\n",
       "  <thead>\n",
       "    <tr style=\"text-align: right;\">\n",
       "      <th></th>\n",
       "      <th></th>\n",
       "      <th></th>\n",
       "      <th>V</th>\n",
       "      <th>i_Vm3</th>\n",
       "      <th>Harvested_V</th>\n",
       "      <th>Harvested_V_log_under_bark</th>\n",
       "      <th>Harvested_V_pulp_under_bark</th>\n",
       "      <th>Harvested_V_under_bark</th>\n",
       "      <th>DEVEL_CLASS</th>\n",
       "      <th>Biomass</th>\n",
       "      <th>ALL_MARKETED_MUSHROOMS</th>\n",
       "      <th>BILBERRY</th>\n",
       "      <th>...</th>\n",
       "      <th>Relative_Total_ALL_MARKETED_MUSHROOMS</th>\n",
       "      <th>Relative_Total_BILBERRY</th>\n",
       "      <th>Relative_Total_COWBERRY</th>\n",
       "      <th>Relative_Total_HSI_MOOSE</th>\n",
       "      <th>Relative_Total_CAPERCAILLIE</th>\n",
       "      <th>Relative_Total_HAZEL_GROUSE</th>\n",
       "      <th>Relative_Total_V_total_deadwood</th>\n",
       "      <th>Relative_Total_prc_V_deciduous</th>\n",
       "      <th>Relative_Total_Recreation</th>\n",
       "      <th>Relative_Total_Scenic</th>\n",
       "    </tr>\n",
       "    <tr>\n",
       "      <th>id</th>\n",
       "      <th>year</th>\n",
       "      <th>regime</th>\n",
       "      <th></th>\n",
       "      <th></th>\n",
       "      <th></th>\n",
       "      <th></th>\n",
       "      <th></th>\n",
       "      <th></th>\n",
       "      <th></th>\n",
       "      <th></th>\n",
       "      <th></th>\n",
       "      <th></th>\n",
       "      <th></th>\n",
       "      <th></th>\n",
       "      <th></th>\n",
       "      <th></th>\n",
       "      <th></th>\n",
       "      <th></th>\n",
       "      <th></th>\n",
       "      <th></th>\n",
       "      <th></th>\n",
       "      <th></th>\n",
       "      <th></th>\n",
       "    </tr>\n",
       "  </thead>\n",
       "  <tbody>\n",
       "    <tr>\n",
       "      <th rowspan=\"5\" valign=\"top\">99011328</th>\n",
       "      <th rowspan=\"5\" valign=\"top\">2021</th>\n",
       "      <th>BAU</th>\n",
       "      <td>1.55</td>\n",
       "      <td>3.19</td>\n",
       "      <td>0.0</td>\n",
       "      <td>0.0</td>\n",
       "      <td>0.0</td>\n",
       "      <td>0.0</td>\n",
       "      <td>3</td>\n",
       "      <td>0.0</td>\n",
       "      <td>13.99</td>\n",
       "      <td>1.301</td>\n",
       "      <td>...</td>\n",
       "      <td>0.027727</td>\n",
       "      <td>0.005609</td>\n",
       "      <td>0.07221</td>\n",
       "      <td>0.0</td>\n",
       "      <td>0.0</td>\n",
       "      <td>0.0</td>\n",
       "      <td>0.027941</td>\n",
       "      <td>0.061141</td>\n",
       "      <td>0.02897</td>\n",
       "      <td>0.02599</td>\n",
       "    </tr>\n",
       "    <tr>\n",
       "      <th>BAU_10</th>\n",
       "      <td>1.55</td>\n",
       "      <td>3.19</td>\n",
       "      <td>0.0</td>\n",
       "      <td>0.0</td>\n",
       "      <td>0.0</td>\n",
       "      <td>0.0</td>\n",
       "      <td>3</td>\n",
       "      <td>0.0</td>\n",
       "      <td>13.99</td>\n",
       "      <td>1.301</td>\n",
       "      <td>...</td>\n",
       "      <td>0.027727</td>\n",
       "      <td>0.005609</td>\n",
       "      <td>0.07221</td>\n",
       "      <td>0.0</td>\n",
       "      <td>0.0</td>\n",
       "      <td>0.0</td>\n",
       "      <td>0.027941</td>\n",
       "      <td>0.061141</td>\n",
       "      <td>0.02897</td>\n",
       "      <td>0.02599</td>\n",
       "    </tr>\n",
       "    <tr>\n",
       "      <th>BAU_15</th>\n",
       "      <td>1.55</td>\n",
       "      <td>3.19</td>\n",
       "      <td>0.0</td>\n",
       "      <td>0.0</td>\n",
       "      <td>0.0</td>\n",
       "      <td>0.0</td>\n",
       "      <td>3</td>\n",
       "      <td>0.0</td>\n",
       "      <td>13.99</td>\n",
       "      <td>1.301</td>\n",
       "      <td>...</td>\n",
       "      <td>0.027727</td>\n",
       "      <td>0.005609</td>\n",
       "      <td>0.07221</td>\n",
       "      <td>0.0</td>\n",
       "      <td>0.0</td>\n",
       "      <td>0.0</td>\n",
       "      <td>0.027941</td>\n",
       "      <td>0.061141</td>\n",
       "      <td>0.02897</td>\n",
       "      <td>0.02599</td>\n",
       "    </tr>\n",
       "    <tr>\n",
       "      <th>BAU_5</th>\n",
       "      <td>1.55</td>\n",
       "      <td>3.19</td>\n",
       "      <td>0.0</td>\n",
       "      <td>0.0</td>\n",
       "      <td>0.0</td>\n",
       "      <td>0.0</td>\n",
       "      <td>3</td>\n",
       "      <td>0.0</td>\n",
       "      <td>13.99</td>\n",
       "      <td>1.301</td>\n",
       "      <td>...</td>\n",
       "      <td>0.027727</td>\n",
       "      <td>0.005609</td>\n",
       "      <td>0.07221</td>\n",
       "      <td>0.0</td>\n",
       "      <td>0.0</td>\n",
       "      <td>0.0</td>\n",
       "      <td>0.027941</td>\n",
       "      <td>0.061141</td>\n",
       "      <td>0.02897</td>\n",
       "      <td>0.02599</td>\n",
       "    </tr>\n",
       "    <tr>\n",
       "      <th>BAU_F</th>\n",
       "      <td>1.55</td>\n",
       "      <td>3.19</td>\n",
       "      <td>0.0</td>\n",
       "      <td>0.0</td>\n",
       "      <td>0.0</td>\n",
       "      <td>0.0</td>\n",
       "      <td>3</td>\n",
       "      <td>0.0</td>\n",
       "      <td>13.99</td>\n",
       "      <td>1.301</td>\n",
       "      <td>...</td>\n",
       "      <td>0.027727</td>\n",
       "      <td>0.005609</td>\n",
       "      <td>0.07221</td>\n",
       "      <td>0.0</td>\n",
       "      <td>0.0</td>\n",
       "      <td>0.0</td>\n",
       "      <td>0.027114</td>\n",
       "      <td>0.061141</td>\n",
       "      <td>0.02897</td>\n",
       "      <td>0.02599</td>\n",
       "    </tr>\n",
       "  </tbody>\n",
       "</table>\n",
       "<p>5 rows × 73 columns</p>\n",
       "</div>"
      ],
      "text/plain": [
       "                         V  i_Vm3  Harvested_V  Harvested_V_log_under_bark  \\\n",
       "id       year regime                                                         \n",
       "99011328 2021 BAU     1.55   3.19          0.0                         0.0   \n",
       "              BAU_10  1.55   3.19          0.0                         0.0   \n",
       "              BAU_15  1.55   3.19          0.0                         0.0   \n",
       "              BAU_5   1.55   3.19          0.0                         0.0   \n",
       "              BAU_F   1.55   3.19          0.0                         0.0   \n",
       "\n",
       "                      Harvested_V_pulp_under_bark  Harvested_V_under_bark  \\\n",
       "id       year regime                                                        \n",
       "99011328 2021 BAU                             0.0                     0.0   \n",
       "              BAU_10                          0.0                     0.0   \n",
       "              BAU_15                          0.0                     0.0   \n",
       "              BAU_5                           0.0                     0.0   \n",
       "              BAU_F                           0.0                     0.0   \n",
       "\n",
       "                      DEVEL_CLASS  Biomass  ALL_MARKETED_MUSHROOMS  BILBERRY  \\\n",
       "id       year regime                                                           \n",
       "99011328 2021 BAU               3      0.0                   13.99     1.301   \n",
       "              BAU_10            3      0.0                   13.99     1.301   \n",
       "              BAU_15            3      0.0                   13.99     1.301   \n",
       "              BAU_5             3      0.0                   13.99     1.301   \n",
       "              BAU_F             3      0.0                   13.99     1.301   \n",
       "\n",
       "                      ...  Relative_Total_ALL_MARKETED_MUSHROOMS  \\\n",
       "id       year regime  ...                                          \n",
       "99011328 2021 BAU     ...                               0.027727   \n",
       "              BAU_10  ...                               0.027727   \n",
       "              BAU_15  ...                               0.027727   \n",
       "              BAU_5   ...                               0.027727   \n",
       "              BAU_F   ...                               0.027727   \n",
       "\n",
       "                      Relative_Total_BILBERRY  Relative_Total_COWBERRY  \\\n",
       "id       year regime                                                     \n",
       "99011328 2021 BAU                    0.005609                  0.07221   \n",
       "              BAU_10                 0.005609                  0.07221   \n",
       "              BAU_15                 0.005609                  0.07221   \n",
       "              BAU_5                  0.005609                  0.07221   \n",
       "              BAU_F                  0.005609                  0.07221   \n",
       "\n",
       "                      Relative_Total_HSI_MOOSE  Relative_Total_CAPERCAILLIE  \\\n",
       "id       year regime                                                          \n",
       "99011328 2021 BAU                          0.0                          0.0   \n",
       "              BAU_10                       0.0                          0.0   \n",
       "              BAU_15                       0.0                          0.0   \n",
       "              BAU_5                        0.0                          0.0   \n",
       "              BAU_F                        0.0                          0.0   \n",
       "\n",
       "                      Relative_Total_HAZEL_GROUSE  \\\n",
       "id       year regime                                \n",
       "99011328 2021 BAU                             0.0   \n",
       "              BAU_10                          0.0   \n",
       "              BAU_15                          0.0   \n",
       "              BAU_5                           0.0   \n",
       "              BAU_F                           0.0   \n",
       "\n",
       "                      Relative_Total_V_total_deadwood  \\\n",
       "id       year regime                                    \n",
       "99011328 2021 BAU                            0.027941   \n",
       "              BAU_10                         0.027941   \n",
       "              BAU_15                         0.027941   \n",
       "              BAU_5                          0.027941   \n",
       "              BAU_F                          0.027114   \n",
       "\n",
       "                      Relative_Total_prc_V_deciduous  \\\n",
       "id       year regime                                   \n",
       "99011328 2021 BAU                           0.061141   \n",
       "              BAU_10                        0.061141   \n",
       "              BAU_15                        0.061141   \n",
       "              BAU_5                         0.061141   \n",
       "              BAU_F                         0.061141   \n",
       "\n",
       "                      Relative_Total_Recreation  Relative_Total_Scenic  \n",
       "id       year regime                                                    \n",
       "99011328 2021 BAU                       0.02897                0.02599  \n",
       "              BAU_10                    0.02897                0.02599  \n",
       "              BAU_15                    0.02897                0.02599  \n",
       "              BAU_5                     0.02897                0.02599  \n",
       "              BAU_F                     0.02897                0.02599  \n",
       "\n",
       "[5 rows x 73 columns]"
      ]
     },
     "execution_count": 17,
     "metadata": {},
     "output_type": "execute_result"
    }
   ],
   "source": [
    "mfo.data.head()"
   ]
  },
  {
   "cell_type": "code",
   "execution_count": 18,
   "metadata": {},
   "outputs": [
    {
     "data": {
      "text/html": [
       "<div>\n",
       "<style scoped>\n",
       "    .dataframe tbody tr th:only-of-type {\n",
       "        vertical-align: middle;\n",
       "    }\n",
       "\n",
       "    .dataframe tbody tr th {\n",
       "        vertical-align: top;\n",
       "    }\n",
       "\n",
       "    .dataframe thead th {\n",
       "        text-align: right;\n",
       "    }\n",
       "</style>\n",
       "<table border=\"1\" class=\"dataframe\">\n",
       "  <thead>\n",
       "    <tr style=\"text-align: right;\">\n",
       "      <th></th>\n",
       "      <th></th>\n",
       "      <th></th>\n",
       "      <th>V</th>\n",
       "      <th>i_Vm3</th>\n",
       "      <th>Harvested_V</th>\n",
       "      <th>Harvested_V_log_under_bark</th>\n",
       "      <th>Harvested_V_pulp_under_bark</th>\n",
       "      <th>Harvested_V_under_bark</th>\n",
       "      <th>DEVEL_CLASS</th>\n",
       "      <th>Biomass</th>\n",
       "      <th>ALL_MARKETED_MUSHROOMS</th>\n",
       "      <th>BILBERRY</th>\n",
       "      <th>...</th>\n",
       "      <th>Total_HAZEL_GROUSE</th>\n",
       "      <th>Total_V_total_deadwood</th>\n",
       "      <th>Total_N_where_D_gt_40</th>\n",
       "      <th>Total_prc_V_deciduous</th>\n",
       "      <th>Total_CARBON_SINK</th>\n",
       "      <th>Total_Recreation</th>\n",
       "      <th>Total_Scenic</th>\n",
       "      <th>CCF_forests</th>\n",
       "      <th>SA_forests</th>\n",
       "      <th>Broadleave_forests</th>\n",
       "    </tr>\n",
       "    <tr>\n",
       "      <th>id</th>\n",
       "      <th>year</th>\n",
       "      <th>regime</th>\n",
       "      <th></th>\n",
       "      <th></th>\n",
       "      <th></th>\n",
       "      <th></th>\n",
       "      <th></th>\n",
       "      <th></th>\n",
       "      <th></th>\n",
       "      <th></th>\n",
       "      <th></th>\n",
       "      <th></th>\n",
       "      <th></th>\n",
       "      <th></th>\n",
       "      <th></th>\n",
       "      <th></th>\n",
       "      <th></th>\n",
       "      <th></th>\n",
       "      <th></th>\n",
       "      <th></th>\n",
       "      <th></th>\n",
       "      <th></th>\n",
       "      <th></th>\n",
       "    </tr>\n",
       "  </thead>\n",
       "  <tbody>\n",
       "    <tr>\n",
       "      <th>99011328</th>\n",
       "      <th>2016</th>\n",
       "      <th>initial_state</th>\n",
       "      <td>0.41</td>\n",
       "      <td>0.0</td>\n",
       "      <td>0.0</td>\n",
       "      <td>0.0</td>\n",
       "      <td>0.0</td>\n",
       "      <td>0.0</td>\n",
       "      <td>3</td>\n",
       "      <td>0.0</td>\n",
       "      <td>13.46</td>\n",
       "      <td>2.457</td>\n",
       "      <td>...</td>\n",
       "      <td>0.00</td>\n",
       "      <td>1697.50</td>\n",
       "      <td>0.0</td>\n",
       "      <td>48500.0</td>\n",
       "      <td>0.0</td>\n",
       "      <td>1581.585</td>\n",
       "      <td>1228.990</td>\n",
       "      <td>False</td>\n",
       "      <td>False</td>\n",
       "      <td>False</td>\n",
       "    </tr>\n",
       "    <tr>\n",
       "      <th>99011386</th>\n",
       "      <th>2016</th>\n",
       "      <th>initial_state</th>\n",
       "      <td>132.17</td>\n",
       "      <td>0.0</td>\n",
       "      <td>0.0</td>\n",
       "      <td>0.0</td>\n",
       "      <td>0.0</td>\n",
       "      <td>0.0</td>\n",
       "      <td>4</td>\n",
       "      <td>0.0</td>\n",
       "      <td>24.21</td>\n",
       "      <td>6.348</td>\n",
       "      <td>...</td>\n",
       "      <td>0.00</td>\n",
       "      <td>1770.25</td>\n",
       "      <td>0.0</td>\n",
       "      <td>31040.0</td>\n",
       "      <td>0.0</td>\n",
       "      <td>2452.645</td>\n",
       "      <td>2018.085</td>\n",
       "      <td>False</td>\n",
       "      <td>False</td>\n",
       "      <td>False</td>\n",
       "    </tr>\n",
       "    <tr>\n",
       "      <th>99011401</th>\n",
       "      <th>2016</th>\n",
       "      <th>initial_state</th>\n",
       "      <td>205.71</td>\n",
       "      <td>0.0</td>\n",
       "      <td>0.0</td>\n",
       "      <td>0.0</td>\n",
       "      <td>0.0</td>\n",
       "      <td>0.0</td>\n",
       "      <td>6</td>\n",
       "      <td>0.0</td>\n",
       "      <td>13.43</td>\n",
       "      <td>28.293</td>\n",
       "      <td>...</td>\n",
       "      <td>0.00</td>\n",
       "      <td>2764.50</td>\n",
       "      <td>0.0</td>\n",
       "      <td>24250.0</td>\n",
       "      <td>0.0</td>\n",
       "      <td>3017.185</td>\n",
       "      <td>3475.510</td>\n",
       "      <td>False</td>\n",
       "      <td>False</td>\n",
       "      <td>False</td>\n",
       "    </tr>\n",
       "    <tr>\n",
       "      <th>99011511</th>\n",
       "      <th>2016</th>\n",
       "      <th>initial_state</th>\n",
       "      <td>302.88</td>\n",
       "      <td>0.0</td>\n",
       "      <td>0.0</td>\n",
       "      <td>0.0</td>\n",
       "      <td>0.0</td>\n",
       "      <td>0.0</td>\n",
       "      <td>6</td>\n",
       "      <td>0.0</td>\n",
       "      <td>15.84</td>\n",
       "      <td>1.361</td>\n",
       "      <td>...</td>\n",
       "      <td>130.95</td>\n",
       "      <td>2827.55</td>\n",
       "      <td>0.0</td>\n",
       "      <td>12610.0</td>\n",
       "      <td>0.0</td>\n",
       "      <td>2994.390</td>\n",
       "      <td>2872.170</td>\n",
       "      <td>False</td>\n",
       "      <td>False</td>\n",
       "      <td>False</td>\n",
       "    </tr>\n",
       "    <tr>\n",
       "      <th>99011598</th>\n",
       "      <th>2016</th>\n",
       "      <th>initial_state</th>\n",
       "      <td>138.21</td>\n",
       "      <td>0.0</td>\n",
       "      <td>0.0</td>\n",
       "      <td>0.0</td>\n",
       "      <td>0.0</td>\n",
       "      <td>0.0</td>\n",
       "      <td>6</td>\n",
       "      <td>0.0</td>\n",
       "      <td>13.33</td>\n",
       "      <td>15.817</td>\n",
       "      <td>...</td>\n",
       "      <td>0.00</td>\n",
       "      <td>2716.00</td>\n",
       "      <td>0.0</td>\n",
       "      <td>18430.0</td>\n",
       "      <td>0.0</td>\n",
       "      <td>2829.975</td>\n",
       "      <td>3441.075</td>\n",
       "      <td>False</td>\n",
       "      <td>False</td>\n",
       "      <td>False</td>\n",
       "    </tr>\n",
       "  </tbody>\n",
       "</table>\n",
       "<p>5 rows × 51 columns</p>\n",
       "</div>"
      ],
      "text/plain": [
       "                                  V  i_Vm3  Harvested_V  \\\n",
       "id       year regime                                      \n",
       "99011328 2016 initial_state    0.41    0.0          0.0   \n",
       "99011386 2016 initial_state  132.17    0.0          0.0   \n",
       "99011401 2016 initial_state  205.71    0.0          0.0   \n",
       "99011511 2016 initial_state  302.88    0.0          0.0   \n",
       "99011598 2016 initial_state  138.21    0.0          0.0   \n",
       "\n",
       "                             Harvested_V_log_under_bark  \\\n",
       "id       year regime                                      \n",
       "99011328 2016 initial_state                         0.0   \n",
       "99011386 2016 initial_state                         0.0   \n",
       "99011401 2016 initial_state                         0.0   \n",
       "99011511 2016 initial_state                         0.0   \n",
       "99011598 2016 initial_state                         0.0   \n",
       "\n",
       "                             Harvested_V_pulp_under_bark  \\\n",
       "id       year regime                                       \n",
       "99011328 2016 initial_state                          0.0   \n",
       "99011386 2016 initial_state                          0.0   \n",
       "99011401 2016 initial_state                          0.0   \n",
       "99011511 2016 initial_state                          0.0   \n",
       "99011598 2016 initial_state                          0.0   \n",
       "\n",
       "                             Harvested_V_under_bark  DEVEL_CLASS  Biomass  \\\n",
       "id       year regime                                                        \n",
       "99011328 2016 initial_state                     0.0            3      0.0   \n",
       "99011386 2016 initial_state                     0.0            4      0.0   \n",
       "99011401 2016 initial_state                     0.0            6      0.0   \n",
       "99011511 2016 initial_state                     0.0            6      0.0   \n",
       "99011598 2016 initial_state                     0.0            6      0.0   \n",
       "\n",
       "                             ALL_MARKETED_MUSHROOMS  BILBERRY  ...  \\\n",
       "id       year regime                                           ...   \n",
       "99011328 2016 initial_state                   13.46     2.457  ...   \n",
       "99011386 2016 initial_state                   24.21     6.348  ...   \n",
       "99011401 2016 initial_state                   13.43    28.293  ...   \n",
       "99011511 2016 initial_state                   15.84     1.361  ...   \n",
       "99011598 2016 initial_state                   13.33    15.817  ...   \n",
       "\n",
       "                             Total_HAZEL_GROUSE  Total_V_total_deadwood  \\\n",
       "id       year regime                                                      \n",
       "99011328 2016 initial_state                0.00                 1697.50   \n",
       "99011386 2016 initial_state                0.00                 1770.25   \n",
       "99011401 2016 initial_state                0.00                 2764.50   \n",
       "99011511 2016 initial_state              130.95                 2827.55   \n",
       "99011598 2016 initial_state                0.00                 2716.00   \n",
       "\n",
       "                             Total_N_where_D_gt_40  Total_prc_V_deciduous  \\\n",
       "id       year regime                                                        \n",
       "99011328 2016 initial_state                    0.0                48500.0   \n",
       "99011386 2016 initial_state                    0.0                31040.0   \n",
       "99011401 2016 initial_state                    0.0                24250.0   \n",
       "99011511 2016 initial_state                    0.0                12610.0   \n",
       "99011598 2016 initial_state                    0.0                18430.0   \n",
       "\n",
       "                             Total_CARBON_SINK  Total_Recreation  \\\n",
       "id       year regime                                               \n",
       "99011328 2016 initial_state                0.0          1581.585   \n",
       "99011386 2016 initial_state                0.0          2452.645   \n",
       "99011401 2016 initial_state                0.0          3017.185   \n",
       "99011511 2016 initial_state                0.0          2994.390   \n",
       "99011598 2016 initial_state                0.0          2829.975   \n",
       "\n",
       "                             Total_Scenic  CCF_forests  SA_forests  \\\n",
       "id       year regime                                                 \n",
       "99011328 2016 initial_state      1228.990        False       False   \n",
       "99011386 2016 initial_state      2018.085        False       False   \n",
       "99011401 2016 initial_state      3475.510        False       False   \n",
       "99011511 2016 initial_state      2872.170        False       False   \n",
       "99011598 2016 initial_state      3441.075        False       False   \n",
       "\n",
       "                             Broadleave_forests  \n",
       "id       year regime                             \n",
       "99011328 2016 initial_state               False  \n",
       "99011386 2016 initial_state               False  \n",
       "99011401 2016 initial_state               False  \n",
       "99011511 2016 initial_state               False  \n",
       "99011598 2016 initial_state               False  \n",
       "\n",
       "[5 rows x 51 columns]"
      ]
     },
     "execution_count": 18,
     "metadata": {},
     "output_type": "execute_result"
    }
   ],
   "source": [
    "mfo.initialData.head()"
   ]
  },
  {
   "cell_type": "markdown",
   "metadata": {},
   "source": [
    "## Define the optimization problem for policy scenarios\n",
    "See README.md for details.\n",
    "\n",
    "<b>Objective format:</b>\n",
    "\n",
    "Unique_key :[Long human readable name, column name in data, max/min objective, year wise aggregation, stand wise aggregation (, target year )]\n",
    "\n",
    "1) \"Unique_key\" : [ (2) \"Long human readable name\", (3) \"column name\", (4) \"max/min objective\", (5) \"year wise aggregation\", (6) \"stand wise aggregation\" (, (7) target year ) ]\n",
    "\n",
    "<b>Options for \"objective\":</b> \"max\"imise or \"min\"imise it <br>\n",
    "<b>year wise aggregation:</b> \"min\" (minimum value), \"average\", \"firstYear\", \"targetYearWithSlope\",\"targetYear\",\"lastYear\" <br>\n",
    "<b>stand wise aggregation:</b> \"sum\", \"areaWeightedAverage\", \"areaWeightedSum\" <br>\n",
    "<b>targe yeart:</b> any year except the first one"
   ]
  },
  {
   "cell_type": "markdown",
   "metadata": {},
   "source": [
    "### NFS - National Forest Strategy"
   ]
  },
  {
   "cell_type": "code",
   "execution_count": 19,
   "metadata": {},
   "outputs": [],
   "source": [
    "if scenario == 'NFS':\n",
    "    \n",
    "    wood_production_bioenergy = { \n",
    "    # Increment - target 2025\n",
    "    \"Total_i_Vm3_2025\": [\"Total annual timber volume increment by 2025 (m3)\",\n",
    "                         \"Total_i_Vm3\",\n",
    "                         \"max\",\"targetYearWithSlope\",\"sum\",2025], \n",
    "    # Increment - target 2050\n",
    "    \"Total_i_Vm3_2050\": [\"Total annual timber volume increment by 2050 (m3)\",\n",
    "                         \"Total_i_Vm3\",\n",
    "                         \"max\",\"targetYearWithSlope\",\"sum\",2050], \n",
    "    # Harvested roundwood - target 2025\n",
    "    \"Total_Harvested_V_2025\" :[\"Total annual harvested timber volume by 2025 (log & pulp) (m3)\",\n",
    "                               \"Total_Harvested_V\",\n",
    "                               \"max\",\"targetYearWithSlope\",\"sum\",2025], \n",
    "    # Harvested biomass - target 2025\n",
    "    \"Total_Biomass_2025\": [\"Total annual harvested biomass volume by 2025 (m3)\",\n",
    "                           \"Total_Biomass\",\n",
    "                           \"max\",\"targetYearWithSlope\",\"sum\",2025]\n",
    "    }\n",
    "    \n",
    "    nonwood = { \n",
    "    # Bilberry - no decline, maximise it\n",
    "    \"Relative_BILBERRY\": [\"Bilberry yield (relative to 2016, max minimum over yrs)\",\n",
    "                          \"Relative_Total_BILBERRY\",\n",
    "                          \"max\",\"min\",\"sum\"],\n",
    "    # Cowberry - no decline, maximise it\n",
    "    \"Relative_COWBERRY\": [\"Cowberry yield (relative to 2016, max minimum over yrs)\",\n",
    "                          \"Relative_Total_COWBERRY\",\n",
    "                          \"max\",\"min\",\"sum\"],\n",
    "    # Mushrooms - no decline, maximise it\n",
    "    \"Relative_ALL_MARKETED_MUSHROOMS\": [\"All marketed mushroom yield (relative to 2016, max minimum over yrs)\",\n",
    "                         \"Relative_Total_ALL_MARKETED_MUSHROOMS\",\n",
    "                         \"max\",\"min\",\"sum\"]    \n",
    "    }\n",
    "    \n",
    "    game = {\n",
    "    # HSI moose - maximise  \n",
    "    \"Sum_Total_HSI_MOOSE\": [\"Total habitat index for MOOSE (max average over all years)\",\n",
    "                           \"Total_HSI_MOOSE\",\n",
    "                           \"max\",\"average\",\"sum\"],\n",
    "    # HSI hazel grouse - maximise\n",
    "    \"Sum_Total_HAZEL_GROUSE\": [\"Total habitat index for HAZEL_GROUSE (max average over yrs)\",\n",
    "                           \"Total_HAZEL_GROUSE\",\n",
    "                           \"max\",\"average\",\"sum\"],\n",
    "    # HSI capercaillie - maximise\n",
    "    \"Sum_Total_CAPERCAILLIE\": [\"Total habitat index for CAPERCAILLIE (max average over yrs)\",\n",
    "                           \"Total_CAPERCAILLIE\",\n",
    "                           \"max\",\"average\",\"sum\"]    \n",
    "    }\n",
    "    \n",
    "    biodiversity = {\n",
    "    # Dearwood - target 2025\n",
    "    \"Average_Deadwood_V_2025\": [\"Average Deadwood volume by 2025 (m3/ha)\", \n",
    "                                \"V_total_deadwood\",\n",
    "                                \"max\", \"targetYear\", \"areaWeightedAverage\", 2025], \n",
    "    # Large trees (>40 cm) - maximise\n",
    "    \"Total_N_where_D_gt_40\": [\"Total No. of trees diameter >= 40 cm  (max end value)\",\n",
    "                              \"Total_N_where_D_gt_40\",\n",
    "                              \"max\",\"lastYear\",\"sum\"],    \n",
    "    # Deciduous tree volume - maximise\n",
    "    \"Total_prc_V_deciduous\":  [\"Total %-share of deciduous trees (related to V) (max end value)\", \n",
    "                               \"Total_prc_V_deciduous\",\n",
    "                               \"max\", \"lastYear\",\"sum\"],\n",
    "    # Conservation regime - target\n",
    "    \"Ratio_CCF_forests\": [\"Ratio of BC sites in commercial forests (%, CCF_3, CCF_4 and BAUwGTR)\",\n",
    "                          \"CCF_forests\",\n",
    "                          \"max\",\"firstYear\",\"areaWeightedAverage\"]\n",
    "    }\n",
    "    \n",
    "    climate_regulation = {\n",
    "    # Carbon sink - target 2025\n",
    "    \"Total_CARBON_SINK_2025\": [\"Total sequestration in carbon dioxide by 2025 (t CO2)\",\n",
    "                               \"Total_CARBON_SINK\",\n",
    "                               \"max\",\"targetYearWithSlope\",\"sum\",2025] \n",
    "    }\n",
    "    \n",
    "    recreation = {\n",
    "    # Recreation index - maximise\n",
    "    \"Sum_Total_Recreation\" : [\"Total Recreation index (max minimum over yrs)\",\n",
    "                              \"Total_Recreation\",\n",
    "                              \"max\",\"min\",\"sum\"],\n",
    "    \n",
    "    # Scenic index - maximise\n",
    "    \"Sum_Total_Scenic\" : [\"Total Scenic index (max minimum over yrs)\",\n",
    "                          \"Total_Scenic\",\n",
    "                          \"max\",\"min\",\"sum\"]\n",
    "    }\n",
    "    \n",
    "    resilience = {\n",
    "    # CC adaption regimes - maximise\n",
    "    \"Ratio_Broadleave_forests\": [\"Ratio of adaptive management regimes (%, increasing broadleave share)\",\n",
    "                                 \"Broadleave_forests\",\n",
    "                                 \"max\",\"firstYear\",\"areaWeightedAverage\"]\n",
    "    }\n",
    "    \n",
    "    objectives = {\n",
    "              **wood_production_bioenergy,\n",
    "              **nonwood,\n",
    "              **game,\n",
    "              **biodiversity,\n",
    "              **climate_regulation,\n",
    "              **recreation,\n",
    "              **resilience\n",
    "    }\n",
    "    \n",
    "    print(\"objectives for NFS loaded\")"
   ]
  },
  {
   "cell_type": "markdown",
   "metadata": {},
   "source": [
    "### BDS - Biodiversity Strategy"
   ]
  },
  {
   "cell_type": "code",
   "execution_count": 20,
   "metadata": {},
   "outputs": [],
   "source": [
    "if scenario == 'BDS':\n",
    "    \n",
    "    wood_production_bioenergy = { \n",
    "    # Harvested roundwood - maximise (even flow)\n",
    "    \"Average_Harvested_V\" : [\"Average harvested timber volume (log & pulp) (m3/ha, evenflow)\",\n",
    "                             \"Harvested_V\",\n",
    "                             \"max\",\"min\",\"areaWeightedAverage\"]\n",
    "    }\n",
    "    \n",
    "    game = {\n",
    "    # HSI moose - maximise       \n",
    "    \"Sum_Total_HSI_MOOSE\": [\"Total habitat index for MOOSE (max average over all years)\",\n",
    "                           \"Total_HSI_MOOSE\",\n",
    "                           \"max\",\"average\",\"sum\"],\n",
    "    # HSI hazel grouse - maximise\n",
    "    \"Sum_Total_HAZEL_GROUSE\": [\"Total habitat index for HAZEL_GROUSE (max average over yrs)\",\n",
    "                           \"Total_HAZEL_GROUSE\",\n",
    "                           \"max\",\"average\",\"sum\"],\n",
    "    # HSI carpercaillie - maximise\n",
    "    \"Sum_Total_CAPERCAILLIE\": [\"Total habitat index for CAPERCAILLIE (max average over yrs)\",\n",
    "                           \"Total_CAPERCAILLIE\",\n",
    "                           \"max\",\"average\",\"sum\"]    \n",
    "    }\n",
    "    \n",
    "    biodiversity = {\n",
    "    # Deadwood - target 2050, increase by XX%\n",
    "    \"relative_Amount_Deadwood_2050\" : [\"Total Deadwood volume by 2050 (%, relative to 2016 values)\",\n",
    "                                       \"Relative_Total_V_total_deadwood\",\n",
    "                                       \"max\",\"targetYearWithSlope\",\"sum\",2050],\n",
    "    # Large trees - target 2050, increase by XX%\n",
    "    \"relative_N_where_D_gt_40_2050\": [\"Total No. of trees diameter >= 40 cm  by 2050 (%, relative to 2016 values)\",\n",
    "                                      \"Relative_Total_N_where_D_gt_40\",\n",
    "                                      \"max\",\"targetYear\",\"sum\",2050],\n",
    "    # Deciduous tree volume - target 2050, increase by XX% \n",
    "    \"relative_prc_V_deciduous_2050\": [\"Total share of deciduous trees by 2050 (related to V) (%, relative to 2016 values)\",\n",
    "                                      \"Relative_Total_prc_V_deciduous\",\n",
    "                                      \"max\",\"targetYearWithSlope\",\"sum\",2050],\n",
    "    # Regime SA - target\n",
    "    \"Ratio_CCF_forests\": [\"Ratio of BC sites in commercial forests (%, CCF_3, CCF_4 and BAUwGTR)\",\n",
    "                          \"CCF_forests\",\n",
    "                          \"max\",\"firstYear\",\"areaWeightedAverage\"],\n",
    "    # Conservation regimes - target\n",
    "    \"Ratio_SA_forests\": [\"Ratio of protected areas (%, SA forests)\",\n",
    "                         \"SA_forests\",\n",
    "                         \"max\",\"firstYear\",\"areaWeightedAverage\"]    \n",
    "    \n",
    "    }\n",
    "    \n",
    "    recreation = {\n",
    "    # Recreation index - maximise\n",
    "    \"Sum_Total_Recreation\" : [\"Total Recreation index (max minimum over yrs)\",\n",
    "                              \"Total_Recreation\",\n",
    "                              \"max\",\"min\",\"sum\"],\n",
    "    # Scenic indes - maximise\n",
    "    \"Sum_Total_Scenic\" : [\"Total Scenic index (max minimum over yrs)\",\n",
    "                          \"Total_Scenic\",\n",
    "                          \"max\",\"min\",\"sum\"]\n",
    "    }\n",
    "    \n",
    "    objectives = {\n",
    "              **wood_production_bioenergy,\n",
    "              **game,\n",
    "              **biodiversity,\n",
    "              **recreation\n",
    "    }\n",
    "    \n",
    "    print(\"objectives for BDS loaded\")"
   ]
  },
  {
   "cell_type": "markdown",
   "metadata": {},
   "source": [
    "### BES - Bioeconomy strategy"
   ]
  },
  {
   "cell_type": "code",
   "execution_count": 21,
   "metadata": {},
   "outputs": [
    {
     "name": "stdout",
     "output_type": "stream",
     "text": [
      "objectives for BDS loaded\n"
     ]
    }
   ],
   "source": [
    "if scenario == 'BES':\n",
    "    \n",
    "    wood_production_bioenergy = { \n",
    "    # Harvested roundwood - maximise even flow\n",
    "    \"Average_Harvested_V\" : [\"Average harvested timber volume (log & pulp) (m3/ha, evenflow)\",\n",
    "                             \"Harvested_V\",\n",
    "                             \"max\",\"min\",\"areaWeightedAverage\"],\n",
    "    # Harvested biomass - maximise even flow\n",
    "    \"Biomass_Evenflow\": [\"Average harvested biomass volume (m3/ha, evenflow)\",\n",
    "                         \"Biomass\",\n",
    "                         \"max\",\"min\",\"areaWeightedAverage\"]\n",
    "    }\n",
    "    \n",
    "    biodiversity = {\n",
    "    # Deadwood - no decline (no target value)\n",
    "    \"relative_Amount_Deadwood_2050\" : [\"Total Deadwood volume by 2050 (%, relative to 2016 values)\",\n",
    "                                       \"Relative_Total_V_total_deadwood\",\n",
    "                                       \"max\",\"targetYearWithSlope\",\"sum\",2050],\n",
    "    # Large trees - no decline (no target value)\n",
    "#    \"relative_N_where_D_gt_40_2050\": [\"Total No. of trees diameter >= 40 cm  by 2050 (%, relative to 2016 values)\",\n",
    "#                                      \"Relative_Total_N_where_D_gt_40\",\n",
    "#                                      \"max\",\"targetYear\",\"sum\",2050],\n",
    "    # Deciduous tree volume - no decline (no target value)\n",
    "    \"relative_prc_V_deciduous_2050\": [\"Total share of deciduous trees by 2050 (related to V) (%, relative to 2016 values)\",\n",
    "                                      \"Relative_Total_prc_V_deciduous\",\n",
    "                                      \"max\",\"targetYearWithSlope\",\"sum\",2050]\n",
    "    }\n",
    "    \n",
    "    recreation = {\n",
    "    # Recreation index - maximise\n",
    "    \"Sum_Total_Recreation\" : [\"Total Recreation index (max minimum over all years)\",\n",
    "                              \"Total_Recreation\",\n",
    "                              \"max\",\"min\",\"sum\"],\n",
    "    # Scenic indes - maximise\n",
    "    \"Sum_Total_Scenic\" : [\"Total Scenic index (max minimum over all years)\",\n",
    "                          \"Total_Scenic\",\n",
    "                          \"max\",\"min\",\"sum\"]\n",
    "    }\n",
    "    \n",
    "    objectives = {\n",
    "              **wood_production_bioenergy,\n",
    "              **biodiversity,\n",
    "              **recreation,\n",
    "    }\n",
    "    \n",
    "    print(\"objectives for BDS loaded\")"
   ]
  },
  {
   "cell_type": "code",
   "execution_count": 22,
   "metadata": {},
   "outputs": [
    {
     "data": {
      "text/plain": [
       "6"
      ]
     },
     "execution_count": 22,
     "metadata": {},
     "output_type": "execute_result"
    }
   ],
   "source": [
    "len(objectives)"
   ]
  },
  {
   "cell_type": "code",
   "execution_count": 23,
   "metadata": {},
   "outputs": [
    {
     "data": {
      "text/plain": [
       "dict_keys(['Average_Harvested_V', 'Biomass_Evenflow', 'relative_Amount_Deadwood_2050', 'relative_prc_V_deciduous_2050', 'Sum_Total_Recreation', 'Sum_Total_Scenic'])"
      ]
     },
     "execution_count": 23,
     "metadata": {},
     "output_type": "execute_result"
    }
   ],
   "source": [
    "objectives.keys()"
   ]
  },
  {
   "cell_type": "code",
   "execution_count": 24,
   "metadata": {},
   "outputs": [
    {
     "data": {
      "text/plain": [
       "Index(['V', 'i_Vm3', 'Harvested_V', 'Harvested_V_log_under_bark',\n",
       "       'Harvested_V_pulp_under_bark', 'Harvested_V_under_bark', 'DEVEL_CLASS',\n",
       "       'Biomass', 'ALL_MARKETED_MUSHROOMS', 'BILBERRY', 'COWBERRY',\n",
       "       'HSI_MOOSE', 'CAPERCAILLIE', 'HAZEL_GROUSE', 'V_total_deadwood',\n",
       "       'N_where_D_gt_40', 'prc_V_deciduous', 'PEAT', 'clearcut', 'CARBON_SINK',\n",
       "       'Recreation', 'Scenic', 'scenario', 'represented_area_by_NFIplot',\n",
       "       'region', 'NUTS2', 'protection', 'standid', 'CARBON_STORAGE', 'NFIGrid',\n",
       "       'Total_i_Vm3', 'Total_Harvested_V', 'Total_Harvested_V_log_under_bark',\n",
       "       'Total_Harvested_V_pulp_under_bark', 'Total_Harvested_V_under_bark',\n",
       "       'Total_Biomass', 'Total_ALL_MARKETED_MUSHROOMS', 'Total_BILBERRY',\n",
       "       'Total_COWBERRY', 'Total_HSI_MOOSE', 'Total_CAPERCAILLIE',\n",
       "       'Total_HAZEL_GROUSE', 'Total_V_total_deadwood', 'Total_N_where_D_gt_40',\n",
       "       'Total_prc_V_deciduous', 'Total_CARBON_SINK', 'Total_Recreation',\n",
       "       'Total_Scenic', 'CCF_forests', 'SA_forests', 'Broadleave_forests',\n",
       "       'Relative_V', 'Relative_ALL_MARKETED_MUSHROOMS', 'Relative_BILBERRY',\n",
       "       'Relative_COWBERRY', 'Relative_HSI_MOOSE', 'Relative_CAPERCAILLIE',\n",
       "       'Relative_HAZEL_GROUSE', 'Relative_V_total_deadwood',\n",
       "       'Relative_prc_V_deciduous', 'Relative_Recreation', 'Relative_Scenic',\n",
       "       'Relative_CARBON_STORAGE', 'Relative_Total_ALL_MARKETED_MUSHROOMS',\n",
       "       'Relative_Total_BILBERRY', 'Relative_Total_COWBERRY',\n",
       "       'Relative_Total_HSI_MOOSE', 'Relative_Total_CAPERCAILLIE',\n",
       "       'Relative_Total_HAZEL_GROUSE', 'Relative_Total_V_total_deadwood',\n",
       "       'Relative_Total_prc_V_deciduous', 'Relative_Total_Recreation',\n",
       "       'Relative_Total_Scenic'],\n",
       "      dtype='object')"
      ]
     },
     "execution_count": 24,
     "metadata": {},
     "output_type": "execute_result"
    }
   ],
   "source": [
    "mfo.data.columns"
   ]
  },
  {
   "cell_type": "code",
   "execution_count": 25,
   "metadata": {},
   "outputs": [
    {
     "data": {
      "text/plain": [
       "[('prc_V_deciduous', dtype('float64')),\n",
       " ('Total_prc_V_deciduous', dtype('float64')),\n",
       " ('Relative_prc_V_deciduous', dtype('float64')),\n",
       " ('Relative_Total_prc_V_deciduous', dtype('float64'))]"
      ]
     },
     "execution_count": 25,
     "metadata": {},
     "output_type": "execute_result"
    }
   ],
   "source": [
    "[(col,mfo.data.dtypes[col]) for col in mfo.data.columns if \"prc\" in col]"
   ]
  },
  {
   "cell_type": "markdown",
   "metadata": {},
   "source": [
    "## Define initial values NOT available in data, but needed for objective\n",
    "\n",
    "Examples are increment, harvests, biomass and carbon sink. They are required for the \"targetYearWithSlope\" objective, but values only occur after the first simulation period. National values are taken from the policy or forest statistics. \n",
    "\n",
    "<b>For the Central Finland test data, national values are simply divided by 19 (number of considered provinces).</b> "
   ]
  },
  {
   "cell_type": "code",
   "execution_count": 26,
   "metadata": {},
   "outputs": [],
   "source": [
    "initialValues = {\"Total_i_Vm3\":107*10**6 / 19,               # from National Forest Policy            \n",
    "                 \"Total_Harvested_V\": 72.3*10**6 / 19,       # from National Forest Policy \n",
    "                 \"Total_Biomass\": 2.9*10**6 / 19,            # from National Forest Policy  \n",
    "                 \"Total_CARBON_SINK\" : 34.1*10**6 / 19,      # from National Forest Policy  \n",
    "                                            \n",
    "                 \"SA_forests\" : 0.106,     # from ForestStatistics 2018\n",
    "                 \"CCF_forests\" : 0.015,    # from ForestStatistics 2018\n",
    "                 \"BAUwGTR_forests\":0.015}  # from ForestStatistics 2018"
   ]
  },
  {
   "cell_type": "code",
   "execution_count": 27,
   "metadata": {
    "scrolled": true
   },
   "outputs": [
    {
     "data": {
      "text/plain": [
       "'Defining objectives'"
      ]
     },
     "metadata": {},
     "output_type": "display_data"
    },
    {
     "data": {
      "text/plain": [
       "'Aggregating stand wise'"
      ]
     },
     "metadata": {},
     "output_type": "display_data"
    },
    {
     "name": "stderr",
     "output_type": "stream",
     "text": [
      "100%|██████████| 6/6 [00:00<00:00, 13.05it/s]\n"
     ]
    },
    {
     "data": {
      "text/plain": [
       "'Aggregating year wise'"
      ]
     },
     "metadata": {},
     "output_type": "display_data"
    },
    {
     "name": "stdout",
     "output_type": "stream",
     "text": [
      "100%|██████████| 6/6 [00:00<00:00, 5064.57it/s]\n"
     ]
    },
    {
     "data": {
      "text/plain": [
       "'Objectives added'"
      ]
     },
     "metadata": {},
     "output_type": "display_data"
    }
   ],
   "source": [
    "mfo.defineObjectives(objectives,initialValues = initialValues)"
   ]
  },
  {
   "cell_type": "markdown",
   "metadata": {},
   "source": [
    "## Define enabled constraints"
   ]
  },
  {
   "cell_type": "code",
   "execution_count": 28,
   "metadata": {},
   "outputs": [],
   "source": [
    "CCFregimes = [regime for regime in mfo.regimes if \"CCF\" in regime] + [\"SA\"]"
   ]
  },
  {
   "cell_type": "code",
   "execution_count": 29,
   "metadata": {},
   "outputs": [
    {
     "data": {
      "text/plain": [
       "['CCF_1', 'CCF_2', 'CCF_3', 'CCF_4', 'SA']"
      ]
     },
     "execution_count": 29,
     "metadata": {},
     "output_type": "execute_result"
    }
   ],
   "source": [
    "CCFregimes"
   ]
  },
  {
   "cell_type": "markdown",
   "metadata": {},
   "source": [
    "Constraint format:\n",
    "- Shortname: \"constraint type\",\"allowed regimes\",\"human readable name\",(regimes),\"column in data\")"
   ]
  },
  {
   "cell_type": "code",
   "execution_count": 30,
   "metadata": {},
   "outputs": [],
   "source": [
    "constraintTypes = {\"CCFonPeat\":[\"Allowed regimes\",\"Only CCF on peat lands\",CCFregimes,\"PEAT\"]}"
   ]
  },
  {
   "cell_type": "code",
   "execution_count": 31,
   "metadata": {},
   "outputs": [],
   "source": [
    "mfo.defineConstraints(constraintTypes)"
   ]
  },
  {
   "cell_type": "markdown",
   "metadata": {},
   "source": [
    "## Calculate objective ranges\n",
    "The ideal and anti-ideal solution for the individual objective functions"
   ]
  },
  {
   "cell_type": "code",
   "execution_count": 32,
   "metadata": {},
   "outputs": [
    {
     "data": {
      "text/html": [
       "<div>\n",
       "<style scoped>\n",
       "    .dataframe tbody tr th:only-of-type {\n",
       "        vertical-align: middle;\n",
       "    }\n",
       "\n",
       "    .dataframe tbody tr th {\n",
       "        vertical-align: top;\n",
       "    }\n",
       "\n",
       "    .dataframe thead th {\n",
       "        text-align: right;\n",
       "    }\n",
       "</style>\n",
       "<table border=\"1\" class=\"dataframe\">\n",
       "  <thead>\n",
       "    <tr style=\"text-align: right;\">\n",
       "      <th></th>\n",
       "      <th></th>\n",
       "      <th></th>\n",
       "      <th>V</th>\n",
       "      <th>i_Vm3</th>\n",
       "      <th>Harvested_V</th>\n",
       "      <th>Harvested_V_log_under_bark</th>\n",
       "      <th>Harvested_V_pulp_under_bark</th>\n",
       "      <th>Harvested_V_under_bark</th>\n",
       "      <th>DEVEL_CLASS</th>\n",
       "      <th>Biomass</th>\n",
       "      <th>ALL_MARKETED_MUSHROOMS</th>\n",
       "      <th>BILBERRY</th>\n",
       "      <th>...</th>\n",
       "      <th>Relative_Total_ALL_MARKETED_MUSHROOMS</th>\n",
       "      <th>Relative_Total_BILBERRY</th>\n",
       "      <th>Relative_Total_COWBERRY</th>\n",
       "      <th>Relative_Total_HSI_MOOSE</th>\n",
       "      <th>Relative_Total_CAPERCAILLIE</th>\n",
       "      <th>Relative_Total_HAZEL_GROUSE</th>\n",
       "      <th>Relative_Total_V_total_deadwood</th>\n",
       "      <th>Relative_Total_prc_V_deciduous</th>\n",
       "      <th>Relative_Total_Recreation</th>\n",
       "      <th>Relative_Total_Scenic</th>\n",
       "    </tr>\n",
       "    <tr>\n",
       "      <th>id</th>\n",
       "      <th>year</th>\n",
       "      <th>regime</th>\n",
       "      <th></th>\n",
       "      <th></th>\n",
       "      <th></th>\n",
       "      <th></th>\n",
       "      <th></th>\n",
       "      <th></th>\n",
       "      <th></th>\n",
       "      <th></th>\n",
       "      <th></th>\n",
       "      <th></th>\n",
       "      <th></th>\n",
       "      <th></th>\n",
       "      <th></th>\n",
       "      <th></th>\n",
       "      <th></th>\n",
       "      <th></th>\n",
       "      <th></th>\n",
       "      <th></th>\n",
       "      <th></th>\n",
       "      <th></th>\n",
       "      <th></th>\n",
       "    </tr>\n",
       "  </thead>\n",
       "  <tbody>\n",
       "    <tr>\n",
       "      <th rowspan=\"5\" valign=\"top\">99011328</th>\n",
       "      <th rowspan=\"5\" valign=\"top\">2021</th>\n",
       "      <th>BAU</th>\n",
       "      <td>1.55</td>\n",
       "      <td>3.19</td>\n",
       "      <td>0.00</td>\n",
       "      <td>0.00</td>\n",
       "      <td>0.00</td>\n",
       "      <td>0.00</td>\n",
       "      <td>3</td>\n",
       "      <td>0.0</td>\n",
       "      <td>13.99</td>\n",
       "      <td>1.301</td>\n",
       "      <td>...</td>\n",
       "      <td>0.027727</td>\n",
       "      <td>0.005609</td>\n",
       "      <td>0.072210</td>\n",
       "      <td>0.0</td>\n",
       "      <td>0.0</td>\n",
       "      <td>0.000000</td>\n",
       "      <td>0.027941</td>\n",
       "      <td>0.061141</td>\n",
       "      <td>0.028970</td>\n",
       "      <td>0.025990</td>\n",
       "    </tr>\n",
       "    <tr>\n",
       "      <th>BAU_10</th>\n",
       "      <td>1.55</td>\n",
       "      <td>3.19</td>\n",
       "      <td>0.00</td>\n",
       "      <td>0.00</td>\n",
       "      <td>0.00</td>\n",
       "      <td>0.00</td>\n",
       "      <td>3</td>\n",
       "      <td>0.0</td>\n",
       "      <td>13.99</td>\n",
       "      <td>1.301</td>\n",
       "      <td>...</td>\n",
       "      <td>0.027727</td>\n",
       "      <td>0.005609</td>\n",
       "      <td>0.072210</td>\n",
       "      <td>0.0</td>\n",
       "      <td>0.0</td>\n",
       "      <td>0.000000</td>\n",
       "      <td>0.027941</td>\n",
       "      <td>0.061141</td>\n",
       "      <td>0.028970</td>\n",
       "      <td>0.025990</td>\n",
       "    </tr>\n",
       "    <tr>\n",
       "      <th>BAU_15</th>\n",
       "      <td>1.55</td>\n",
       "      <td>3.19</td>\n",
       "      <td>0.00</td>\n",
       "      <td>0.00</td>\n",
       "      <td>0.00</td>\n",
       "      <td>0.00</td>\n",
       "      <td>3</td>\n",
       "      <td>0.0</td>\n",
       "      <td>13.99</td>\n",
       "      <td>1.301</td>\n",
       "      <td>...</td>\n",
       "      <td>0.027727</td>\n",
       "      <td>0.005609</td>\n",
       "      <td>0.072210</td>\n",
       "      <td>0.0</td>\n",
       "      <td>0.0</td>\n",
       "      <td>0.000000</td>\n",
       "      <td>0.027941</td>\n",
       "      <td>0.061141</td>\n",
       "      <td>0.028970</td>\n",
       "      <td>0.025990</td>\n",
       "    </tr>\n",
       "    <tr>\n",
       "      <th>BAU_5</th>\n",
       "      <td>1.55</td>\n",
       "      <td>3.19</td>\n",
       "      <td>0.00</td>\n",
       "      <td>0.00</td>\n",
       "      <td>0.00</td>\n",
       "      <td>0.00</td>\n",
       "      <td>3</td>\n",
       "      <td>0.0</td>\n",
       "      <td>13.99</td>\n",
       "      <td>1.301</td>\n",
       "      <td>...</td>\n",
       "      <td>0.027727</td>\n",
       "      <td>0.005609</td>\n",
       "      <td>0.072210</td>\n",
       "      <td>0.0</td>\n",
       "      <td>0.0</td>\n",
       "      <td>0.000000</td>\n",
       "      <td>0.027941</td>\n",
       "      <td>0.061141</td>\n",
       "      <td>0.028970</td>\n",
       "      <td>0.025990</td>\n",
       "    </tr>\n",
       "    <tr>\n",
       "      <th>BAU_F</th>\n",
       "      <td>1.55</td>\n",
       "      <td>3.19</td>\n",
       "      <td>0.00</td>\n",
       "      <td>0.00</td>\n",
       "      <td>0.00</td>\n",
       "      <td>0.00</td>\n",
       "      <td>3</td>\n",
       "      <td>0.0</td>\n",
       "      <td>13.99</td>\n",
       "      <td>1.301</td>\n",
       "      <td>...</td>\n",
       "      <td>0.027727</td>\n",
       "      <td>0.005609</td>\n",
       "      <td>0.072210</td>\n",
       "      <td>0.0</td>\n",
       "      <td>0.0</td>\n",
       "      <td>0.000000</td>\n",
       "      <td>0.027114</td>\n",
       "      <td>0.061141</td>\n",
       "      <td>0.028970</td>\n",
       "      <td>0.025990</td>\n",
       "    </tr>\n",
       "    <tr>\n",
       "      <th>...</th>\n",
       "      <th>...</th>\n",
       "      <th>...</th>\n",
       "      <td>...</td>\n",
       "      <td>...</td>\n",
       "      <td>...</td>\n",
       "      <td>...</td>\n",
       "      <td>...</td>\n",
       "      <td>...</td>\n",
       "      <td>...</td>\n",
       "      <td>...</td>\n",
       "      <td>...</td>\n",
       "      <td>...</td>\n",
       "      <td>...</td>\n",
       "      <td>...</td>\n",
       "      <td>...</td>\n",
       "      <td>...</td>\n",
       "      <td>...</td>\n",
       "      <td>...</td>\n",
       "      <td>...</td>\n",
       "      <td>...</td>\n",
       "      <td>...</td>\n",
       "      <td>...</td>\n",
       "      <td>...</td>\n",
       "    </tr>\n",
       "    <tr>\n",
       "      <th rowspan=\"5\" valign=\"top\">99013884</th>\n",
       "      <th rowspan=\"5\" valign=\"top\">2116</th>\n",
       "      <th>CCF_1</th>\n",
       "      <td>112.90</td>\n",
       "      <td>4.84</td>\n",
       "      <td>0.00</td>\n",
       "      <td>0.00</td>\n",
       "      <td>0.00</td>\n",
       "      <td>0.00</td>\n",
       "      <td>10</td>\n",
       "      <td>0.0</td>\n",
       "      <td>14.36</td>\n",
       "      <td>4.887</td>\n",
       "      <td>...</td>\n",
       "      <td>0.028460</td>\n",
       "      <td>0.021069</td>\n",
       "      <td>0.027068</td>\n",
       "      <td>0.0</td>\n",
       "      <td>0.0</td>\n",
       "      <td>0.030660</td>\n",
       "      <td>0.022733</td>\n",
       "      <td>0.042120</td>\n",
       "      <td>0.031097</td>\n",
       "      <td>0.038346</td>\n",
       "    </tr>\n",
       "    <tr>\n",
       "      <th>CCF_2</th>\n",
       "      <td>112.90</td>\n",
       "      <td>4.84</td>\n",
       "      <td>0.00</td>\n",
       "      <td>0.00</td>\n",
       "      <td>0.00</td>\n",
       "      <td>0.00</td>\n",
       "      <td>10</td>\n",
       "      <td>0.0</td>\n",
       "      <td>14.36</td>\n",
       "      <td>4.887</td>\n",
       "      <td>...</td>\n",
       "      <td>0.028460</td>\n",
       "      <td>0.021069</td>\n",
       "      <td>0.027068</td>\n",
       "      <td>0.0</td>\n",
       "      <td>0.0</td>\n",
       "      <td>0.030660</td>\n",
       "      <td>0.021328</td>\n",
       "      <td>0.042120</td>\n",
       "      <td>0.031097</td>\n",
       "      <td>0.038346</td>\n",
       "    </tr>\n",
       "    <tr>\n",
       "      <th>CCF_3</th>\n",
       "      <td>88.84</td>\n",
       "      <td>5.96</td>\n",
       "      <td>20.34</td>\n",
       "      <td>14.91</td>\n",
       "      <td>2.94</td>\n",
       "      <td>17.85</td>\n",
       "      <td>10</td>\n",
       "      <td>0.0</td>\n",
       "      <td>14.00</td>\n",
       "      <td>7.062</td>\n",
       "      <td>...</td>\n",
       "      <td>0.027747</td>\n",
       "      <td>0.030446</td>\n",
       "      <td>0.029599</td>\n",
       "      <td>0.0</td>\n",
       "      <td>0.0</td>\n",
       "      <td>0.136792</td>\n",
       "      <td>0.018682</td>\n",
       "      <td>0.016304</td>\n",
       "      <td>0.029326</td>\n",
       "      <td>0.037271</td>\n",
       "    </tr>\n",
       "    <tr>\n",
       "      <th>CCF_4</th>\n",
       "      <td>147.59</td>\n",
       "      <td>5.63</td>\n",
       "      <td>0.00</td>\n",
       "      <td>0.00</td>\n",
       "      <td>0.00</td>\n",
       "      <td>0.00</td>\n",
       "      <td>10</td>\n",
       "      <td>0.0</td>\n",
       "      <td>14.33</td>\n",
       "      <td>9.009</td>\n",
       "      <td>...</td>\n",
       "      <td>0.028401</td>\n",
       "      <td>0.038839</td>\n",
       "      <td>0.025611</td>\n",
       "      <td>0.0</td>\n",
       "      <td>0.0</td>\n",
       "      <td>0.000000</td>\n",
       "      <td>0.019013</td>\n",
       "      <td>0.006793</td>\n",
       "      <td>0.031711</td>\n",
       "      <td>0.039043</td>\n",
       "    </tr>\n",
       "    <tr>\n",
       "      <th>SA</th>\n",
       "      <td>275.35</td>\n",
       "      <td>0.45</td>\n",
       "      <td>0.00</td>\n",
       "      <td>0.00</td>\n",
       "      <td>0.00</td>\n",
       "      <td>0.00</td>\n",
       "      <td>6</td>\n",
       "      <td>0.0</td>\n",
       "      <td>12.70</td>\n",
       "      <td>10.793</td>\n",
       "      <td>...</td>\n",
       "      <td>0.025170</td>\n",
       "      <td>0.046531</td>\n",
       "      <td>0.022815</td>\n",
       "      <td>0.0</td>\n",
       "      <td>0.0</td>\n",
       "      <td>0.000000</td>\n",
       "      <td>0.091676</td>\n",
       "      <td>0.006793</td>\n",
       "      <td>0.040621</td>\n",
       "      <td>0.056190</td>\n",
       "    </tr>\n",
       "  </tbody>\n",
       "</table>\n",
       "<p>14700 rows × 73 columns</p>\n",
       "</div>"
      ],
      "text/plain": [
       "                           V  i_Vm3  Harvested_V  Harvested_V_log_under_bark  \\\n",
       "id       year regime                                                           \n",
       "99011328 2021 BAU       1.55   3.19         0.00                        0.00   \n",
       "              BAU_10    1.55   3.19         0.00                        0.00   \n",
       "              BAU_15    1.55   3.19         0.00                        0.00   \n",
       "              BAU_5     1.55   3.19         0.00                        0.00   \n",
       "              BAU_F     1.55   3.19         0.00                        0.00   \n",
       "...                      ...    ...          ...                         ...   \n",
       "99013884 2116 CCF_1   112.90   4.84         0.00                        0.00   \n",
       "              CCF_2   112.90   4.84         0.00                        0.00   \n",
       "              CCF_3    88.84   5.96        20.34                       14.91   \n",
       "              CCF_4   147.59   5.63         0.00                        0.00   \n",
       "              SA      275.35   0.45         0.00                        0.00   \n",
       "\n",
       "                      Harvested_V_pulp_under_bark  Harvested_V_under_bark  \\\n",
       "id       year regime                                                        \n",
       "99011328 2021 BAU                            0.00                    0.00   \n",
       "              BAU_10                         0.00                    0.00   \n",
       "              BAU_15                         0.00                    0.00   \n",
       "              BAU_5                          0.00                    0.00   \n",
       "              BAU_F                          0.00                    0.00   \n",
       "...                                           ...                     ...   \n",
       "99013884 2116 CCF_1                          0.00                    0.00   \n",
       "              CCF_2                          0.00                    0.00   \n",
       "              CCF_3                          2.94                   17.85   \n",
       "              CCF_4                          0.00                    0.00   \n",
       "              SA                             0.00                    0.00   \n",
       "\n",
       "                      DEVEL_CLASS  Biomass  ALL_MARKETED_MUSHROOMS  BILBERRY  \\\n",
       "id       year regime                                                           \n",
       "99011328 2021 BAU               3      0.0                   13.99     1.301   \n",
       "              BAU_10            3      0.0                   13.99     1.301   \n",
       "              BAU_15            3      0.0                   13.99     1.301   \n",
       "              BAU_5             3      0.0                   13.99     1.301   \n",
       "              BAU_F             3      0.0                   13.99     1.301   \n",
       "...                           ...      ...                     ...       ...   \n",
       "99013884 2116 CCF_1            10      0.0                   14.36     4.887   \n",
       "              CCF_2            10      0.0                   14.36     4.887   \n",
       "              CCF_3            10      0.0                   14.00     7.062   \n",
       "              CCF_4            10      0.0                   14.33     9.009   \n",
       "              SA                6      0.0                   12.70    10.793   \n",
       "\n",
       "                      ...  Relative_Total_ALL_MARKETED_MUSHROOMS  \\\n",
       "id       year regime  ...                                          \n",
       "99011328 2021 BAU     ...                               0.027727   \n",
       "              BAU_10  ...                               0.027727   \n",
       "              BAU_15  ...                               0.027727   \n",
       "              BAU_5   ...                               0.027727   \n",
       "              BAU_F   ...                               0.027727   \n",
       "...                   ...                                    ...   \n",
       "99013884 2116 CCF_1   ...                               0.028460   \n",
       "              CCF_2   ...                               0.028460   \n",
       "              CCF_3   ...                               0.027747   \n",
       "              CCF_4   ...                               0.028401   \n",
       "              SA      ...                               0.025170   \n",
       "\n",
       "                      Relative_Total_BILBERRY  Relative_Total_COWBERRY  \\\n",
       "id       year regime                                                     \n",
       "99011328 2021 BAU                    0.005609                 0.072210   \n",
       "              BAU_10                 0.005609                 0.072210   \n",
       "              BAU_15                 0.005609                 0.072210   \n",
       "              BAU_5                  0.005609                 0.072210   \n",
       "              BAU_F                  0.005609                 0.072210   \n",
       "...                                       ...                      ...   \n",
       "99013884 2116 CCF_1                  0.021069                 0.027068   \n",
       "              CCF_2                  0.021069                 0.027068   \n",
       "              CCF_3                  0.030446                 0.029599   \n",
       "              CCF_4                  0.038839                 0.025611   \n",
       "              SA                     0.046531                 0.022815   \n",
       "\n",
       "                      Relative_Total_HSI_MOOSE  Relative_Total_CAPERCAILLIE  \\\n",
       "id       year regime                                                          \n",
       "99011328 2021 BAU                          0.0                          0.0   \n",
       "              BAU_10                       0.0                          0.0   \n",
       "              BAU_15                       0.0                          0.0   \n",
       "              BAU_5                        0.0                          0.0   \n",
       "              BAU_F                        0.0                          0.0   \n",
       "...                                        ...                          ...   \n",
       "99013884 2116 CCF_1                        0.0                          0.0   \n",
       "              CCF_2                        0.0                          0.0   \n",
       "              CCF_3                        0.0                          0.0   \n",
       "              CCF_4                        0.0                          0.0   \n",
       "              SA                           0.0                          0.0   \n",
       "\n",
       "                      Relative_Total_HAZEL_GROUSE  \\\n",
       "id       year regime                                \n",
       "99011328 2021 BAU                        0.000000   \n",
       "              BAU_10                     0.000000   \n",
       "              BAU_15                     0.000000   \n",
       "              BAU_5                      0.000000   \n",
       "              BAU_F                      0.000000   \n",
       "...                                           ...   \n",
       "99013884 2116 CCF_1                      0.030660   \n",
       "              CCF_2                      0.030660   \n",
       "              CCF_3                      0.136792   \n",
       "              CCF_4                      0.000000   \n",
       "              SA                         0.000000   \n",
       "\n",
       "                      Relative_Total_V_total_deadwood  \\\n",
       "id       year regime                                    \n",
       "99011328 2021 BAU                            0.027941   \n",
       "              BAU_10                         0.027941   \n",
       "              BAU_15                         0.027941   \n",
       "              BAU_5                          0.027941   \n",
       "              BAU_F                          0.027114   \n",
       "...                                               ...   \n",
       "99013884 2116 CCF_1                          0.022733   \n",
       "              CCF_2                          0.021328   \n",
       "              CCF_3                          0.018682   \n",
       "              CCF_4                          0.019013   \n",
       "              SA                             0.091676   \n",
       "\n",
       "                      Relative_Total_prc_V_deciduous  \\\n",
       "id       year regime                                   \n",
       "99011328 2021 BAU                           0.061141   \n",
       "              BAU_10                        0.061141   \n",
       "              BAU_15                        0.061141   \n",
       "              BAU_5                         0.061141   \n",
       "              BAU_F                         0.061141   \n",
       "...                                              ...   \n",
       "99013884 2116 CCF_1                         0.042120   \n",
       "              CCF_2                         0.042120   \n",
       "              CCF_3                         0.016304   \n",
       "              CCF_4                         0.006793   \n",
       "              SA                            0.006793   \n",
       "\n",
       "                      Relative_Total_Recreation  Relative_Total_Scenic  \n",
       "id       year regime                                                    \n",
       "99011328 2021 BAU                      0.028970               0.025990  \n",
       "              BAU_10                   0.028970               0.025990  \n",
       "              BAU_15                   0.028970               0.025990  \n",
       "              BAU_5                    0.028970               0.025990  \n",
       "              BAU_F                    0.028970               0.025990  \n",
       "...                                         ...                    ...  \n",
       "99013884 2116 CCF_1                    0.031097               0.038346  \n",
       "              CCF_2                    0.031097               0.038346  \n",
       "              CCF_3                    0.029326               0.037271  \n",
       "              CCF_4                    0.031711               0.039043  \n",
       "              SA                       0.040621               0.056190  \n",
       "\n",
       "[14700 rows x 73 columns]"
      ]
     },
     "execution_count": 32,
     "metadata": {},
     "output_type": "execute_result"
    }
   ],
   "source": [
    "mfo.data"
   ]
  },
  {
   "cell_type": "code",
   "execution_count": 33,
   "metadata": {
    "scrolled": false
   },
   "outputs": [
    {
     "data": {
      "text/plain": [
       "'Calculating objective ranges'"
      ]
     },
     "metadata": {},
     "output_type": "display_data"
    },
    {
     "name": "stdout",
     "output_type": "stream",
     "text": [
      "\r",
      "  0%|          | 0/6 [00:00<?, ?it/s]"
     ]
    },
    {
     "data": {
      "text/plain": [
       "'Optimizing for Average harvested timber volume (log & pulp) (m3/ha, evenflow)'"
      ]
     },
     "metadata": {},
     "output_type": "display_data"
    },
    {
     "data": {
      "text/plain": [
       "'Found an optimal solution in 0 seconds'"
      ]
     },
     "metadata": {},
     "output_type": "display_data"
    },
    {
     "data": {
      "text/plain": [
       "'Objective values are:'"
      ]
     },
     "metadata": {},
     "output_type": "display_data"
    },
    {
     "data": {
      "text/plain": [
       "'Average harvested timber volume (log & pulp) (m3/ha, evenflow)'"
      ]
     },
     "metadata": {},
     "output_type": "display_data"
    },
    {
     "data": {
      "text/plain": [
       "4.784160772846508"
      ]
     },
     "metadata": {},
     "output_type": "display_data"
    },
    {
     "data": {
      "text/plain": [
       "'Average harvested biomass volume (m3/ha, evenflow)'"
      ]
     },
     "metadata": {},
     "output_type": "display_data"
    },
    {
     "data": {
      "text/plain": [
       "0.0"
      ]
     },
     "metadata": {},
     "output_type": "display_data"
    },
    {
     "data": {
      "text/plain": [
       "'Total Deadwood volume by 2050 (%, relative to 2016 values)'"
      ]
     },
     "metadata": {},
     "output_type": "display_data"
    },
    {
     "data": {
      "text/plain": [
       "0.0"
      ]
     },
     "metadata": {},
     "output_type": "display_data"
    },
    {
     "data": {
      "text/plain": [
       "'Total share of deciduous trees by 2050 (related to V) (%, relative to 2016 values)'"
      ]
     },
     "metadata": {},
     "output_type": "display_data"
    },
    {
     "data": {
      "text/plain": [
       "0.0"
      ]
     },
     "metadata": {},
     "output_type": "display_data"
    },
    {
     "data": {
      "text/plain": [
       "'Total Recreation index (max minimum over all years)'"
      ]
     },
     "metadata": {},
     "output_type": "display_data"
    },
    {
     "data": {
      "text/plain": [
       "0.0"
      ]
     },
     "metadata": {},
     "output_type": "display_data"
    },
    {
     "data": {
      "text/plain": [
       "'Total Scenic index (max minimum over all years)'"
      ]
     },
     "metadata": {},
     "output_type": "display_data"
    },
    {
     "data": {
      "text/plain": [
       "0.0"
      ]
     },
     "metadata": {},
     "output_type": "display_data"
    },
    {
     "data": {
      "text/plain": [
       "'Optimizing for Average harvested biomass volume (m3/ha, evenflow)'"
      ]
     },
     "metadata": {},
     "output_type": "display_data"
    },
    {
     "data": {
      "text/plain": [
       "'Found an optimal solution in 0 seconds'"
      ]
     },
     "metadata": {},
     "output_type": "display_data"
    },
    {
     "data": {
      "text/plain": [
       "'Objective values are:'"
      ]
     },
     "metadata": {},
     "output_type": "display_data"
    },
    {
     "data": {
      "text/plain": [
       "'Average harvested timber volume (log & pulp) (m3/ha, evenflow)'"
      ]
     },
     "metadata": {},
     "output_type": "display_data"
    },
    {
     "data": {
      "text/plain": [
       "0.0"
      ]
     },
     "metadata": {},
     "output_type": "display_data"
    },
    {
     "data": {
      "text/plain": [
       "'Average harvested biomass volume (m3/ha, evenflow)'"
      ]
     },
     "metadata": {},
     "output_type": "display_data"
    },
    {
     "data": {
      "text/plain": [
       "0.5998821263270511"
      ]
     },
     "metadata": {},
     "output_type": "display_data"
    },
    {
     "data": {
      "text/plain": [
       "'Total Deadwood volume by 2050 (%, relative to 2016 values)'"
      ]
     },
     "metadata": {},
     "output_type": "display_data"
    },
    {
     "data": {
      "text/plain": [
       "0.0"
      ]
     },
     "metadata": {},
     "output_type": "display_data"
    },
    {
     "data": {
      "text/plain": [
       "'Total share of deciduous trees by 2050 (related to V) (%, relative to 2016 values)'"
      ]
     },
     "metadata": {},
     "output_type": "display_data"
    },
    {
     "data": {
      "text/plain": [
       "-0.011558414889957147"
      ]
     },
     "metadata": {},
     "output_type": "display_data"
    },
    {
     "data": {
      "text/plain": [
       "'Total Recreation index (max minimum over all years)'"
      ]
     },
     "metadata": {},
     "output_type": "display_data"
    },
    {
     "data": {
      "text/plain": [
       "0.0"
      ]
     },
     "metadata": {},
     "output_type": "display_data"
    },
    {
     "data": {
      "text/plain": [
       "'Total Scenic index (max minimum over all years)'"
      ]
     },
     "metadata": {},
     "output_type": "display_data"
    },
    {
     "data": {
      "text/plain": [
       "0.0"
      ]
     },
     "metadata": {},
     "output_type": "display_data"
    },
    {
     "data": {
      "text/plain": [
       "'Optimizing for Total Deadwood volume by 2050 (%, relative to 2016 values)'"
      ]
     },
     "metadata": {},
     "output_type": "display_data"
    },
    {
     "data": {
      "text/plain": [
       "'Found an optimal solution in 0 seconds'"
      ]
     },
     "metadata": {},
     "output_type": "display_data"
    },
    {
     "data": {
      "text/plain": [
       "'Objective values are:'"
      ]
     },
     "metadata": {},
     "output_type": "display_data"
    },
    {
     "data": {
      "text/plain": [
       "'Average harvested timber volume (log & pulp) (m3/ha, evenflow)'"
      ]
     },
     "metadata": {},
     "output_type": "display_data"
    },
    {
     "data": {
      "text/plain": [
       "0.0"
      ]
     },
     "metadata": {},
     "output_type": "display_data"
    },
    {
     "data": {
      "text/plain": [
       "'Average harvested biomass volume (m3/ha, evenflow)'"
      ]
     },
     "metadata": {},
     "output_type": "display_data"
    },
    {
     "data": {
      "text/plain": [
       "0.0"
      ]
     },
     "metadata": {},
     "output_type": "display_data"
    },
    {
     "data": {
      "text/plain": [
       "'Total Deadwood volume by 2050 (%, relative to 2016 values)'"
      ]
     },
     "metadata": {},
     "output_type": "display_data"
    },
    {
     "data": {
      "text/plain": [
       "4.335168499076908"
      ]
     },
     "metadata": {},
     "output_type": "display_data"
    },
    {
     "data": {
      "text/plain": [
       "'Total share of deciduous trees by 2050 (related to V) (%, relative to 2016 values)'"
      ]
     },
     "metadata": {},
     "output_type": "display_data"
    },
    {
     "data": {
      "text/plain": [
       "0.0"
      ]
     },
     "metadata": {},
     "output_type": "display_data"
    },
    {
     "data": {
      "text/plain": [
       "'Total Recreation index (max minimum over all years)'"
      ]
     },
     "metadata": {},
     "output_type": "display_data"
    },
    {
     "data": {
      "text/plain": [
       "0.0"
      ]
     },
     "metadata": {},
     "output_type": "display_data"
    },
    {
     "data": {
      "text/plain": [
       "'Total Scenic index (max minimum over all years)'"
      ]
     },
     "metadata": {},
     "output_type": "display_data"
    },
    {
     "data": {
      "text/plain": [
       "0.0"
      ]
     },
     "metadata": {},
     "output_type": "display_data"
    },
    {
     "data": {
      "text/plain": [
       "'Optimizing for Total share of deciduous trees by 2050 (related to V) (%, relative to 2016 values)'"
      ]
     },
     "metadata": {},
     "output_type": "display_data"
    },
    {
     "data": {
      "text/plain": [
       "'Found an optimal solution in 0 seconds'"
      ]
     },
     "metadata": {},
     "output_type": "display_data"
    },
    {
     "data": {
      "text/plain": [
       "'Objective values are:'"
      ]
     },
     "metadata": {},
     "output_type": "display_data"
    },
    {
     "data": {
      "text/plain": [
       "'Average harvested timber volume (log & pulp) (m3/ha, evenflow)'"
      ]
     },
     "metadata": {},
     "output_type": "display_data"
    },
    {
     "data": {
      "text/plain": [
       "0.0"
      ]
     },
     "metadata": {},
     "output_type": "display_data"
    },
    {
     "data": {
      "text/plain": [
       "'Average harvested biomass volume (m3/ha, evenflow)'"
      ]
     },
     "metadata": {},
     "output_type": "display_data"
    },
    {
     "data": {
      "text/plain": [
       "0.0"
      ]
     },
     "metadata": {},
     "output_type": "display_data"
    },
    {
     "data": {
      "text/plain": [
       "'Total Deadwood volume by 2050 (%, relative to 2016 values)'"
      ]
     },
     "metadata": {},
     "output_type": "display_data"
    },
    {
     "data": {
      "text/plain": [
       "0.0"
      ]
     },
     "metadata": {},
     "output_type": "display_data"
    },
    {
     "data": {
      "text/plain": [
       "'Total share of deciduous trees by 2050 (related to V) (%, relative to 2016 values)'"
      ]
     },
     "metadata": {},
     "output_type": "display_data"
    },
    {
     "data": {
      "text/plain": [
       "1.2393648600691944"
      ]
     },
     "metadata": {},
     "output_type": "display_data"
    },
    {
     "data": {
      "text/plain": [
       "'Total Recreation index (max minimum over all years)'"
      ]
     },
     "metadata": {},
     "output_type": "display_data"
    },
    {
     "data": {
      "text/plain": [
       "0.0"
      ]
     },
     "metadata": {},
     "output_type": "display_data"
    },
    {
     "data": {
      "text/plain": [
       "'Total Scenic index (max minimum over all years)'"
      ]
     },
     "metadata": {},
     "output_type": "display_data"
    },
    {
     "data": {
      "text/plain": [
       "0.0"
      ]
     },
     "metadata": {},
     "output_type": "display_data"
    },
    {
     "name": "stdout",
     "output_type": "stream",
     "text": [
      "\r",
      " 67%|██████▋   | 4/6 [00:00<00:00, 30.81it/s]"
     ]
    },
    {
     "data": {
      "text/plain": [
       "'Optimizing for Total Recreation index (max minimum over all years)'"
      ]
     },
     "metadata": {},
     "output_type": "display_data"
    },
    {
     "data": {
      "text/plain": [
       "'Found an optimal solution in 0 seconds'"
      ]
     },
     "metadata": {},
     "output_type": "display_data"
    },
    {
     "data": {
      "text/plain": [
       "'Objective values are:'"
      ]
     },
     "metadata": {},
     "output_type": "display_data"
    },
    {
     "data": {
      "text/plain": [
       "'Average harvested timber volume (log & pulp) (m3/ha, evenflow)'"
      ]
     },
     "metadata": {},
     "output_type": "display_data"
    },
    {
     "data": {
      "text/plain": [
       "0.0"
      ]
     },
     "metadata": {},
     "output_type": "display_data"
    },
    {
     "data": {
      "text/plain": [
       "'Average harvested biomass volume (m3/ha, evenflow)'"
      ]
     },
     "metadata": {},
     "output_type": "display_data"
    },
    {
     "data": {
      "text/plain": [
       "0.0"
      ]
     },
     "metadata": {},
     "output_type": "display_data"
    },
    {
     "data": {
      "text/plain": [
       "'Total Deadwood volume by 2050 (%, relative to 2016 values)'"
      ]
     },
     "metadata": {},
     "output_type": "display_data"
    },
    {
     "data": {
      "text/plain": [
       "0.0"
      ]
     },
     "metadata": {},
     "output_type": "display_data"
    },
    {
     "data": {
      "text/plain": [
       "'Total share of deciduous trees by 2050 (related to V) (%, relative to 2016 values)'"
      ]
     },
     "metadata": {},
     "output_type": "display_data"
    },
    {
     "data": {
      "text/plain": [
       "0.0"
      ]
     },
     "metadata": {},
     "output_type": "display_data"
    },
    {
     "data": {
      "text/plain": [
       "'Total Recreation index (max minimum over all years)'"
      ]
     },
     "metadata": {},
     "output_type": "display_data"
    },
    {
     "data": {
      "text/plain": [
       "7706698.500000001"
      ]
     },
     "metadata": {},
     "output_type": "display_data"
    },
    {
     "data": {
      "text/plain": [
       "'Total Scenic index (max minimum over all years)'"
      ]
     },
     "metadata": {},
     "output_type": "display_data"
    },
    {
     "data": {
      "text/plain": [
       "0.0"
      ]
     },
     "metadata": {},
     "output_type": "display_data"
    },
    {
     "data": {
      "text/plain": [
       "'Optimizing for Total Scenic index (max minimum over all years)'"
      ]
     },
     "metadata": {},
     "output_type": "display_data"
    },
    {
     "data": {
      "text/plain": [
       "'Found an optimal solution in 0 seconds'"
      ]
     },
     "metadata": {},
     "output_type": "display_data"
    },
    {
     "data": {
      "text/plain": [
       "'Objective values are:'"
      ]
     },
     "metadata": {},
     "output_type": "display_data"
    },
    {
     "data": {
      "text/plain": [
       "'Average harvested timber volume (log & pulp) (m3/ha, evenflow)'"
      ]
     },
     "metadata": {},
     "output_type": "display_data"
    },
    {
     "data": {
      "text/plain": [
       "0.0"
      ]
     },
     "metadata": {},
     "output_type": "display_data"
    },
    {
     "data": {
      "text/plain": [
       "'Average harvested biomass volume (m3/ha, evenflow)'"
      ]
     },
     "metadata": {},
     "output_type": "display_data"
    },
    {
     "data": {
      "text/plain": [
       "0.0"
      ]
     },
     "metadata": {},
     "output_type": "display_data"
    },
    {
     "data": {
      "text/plain": [
       "'Total Deadwood volume by 2050 (%, relative to 2016 values)'"
      ]
     },
     "metadata": {},
     "output_type": "display_data"
    },
    {
     "data": {
      "text/plain": [
       "0.0"
      ]
     },
     "metadata": {},
     "output_type": "display_data"
    },
    {
     "data": {
      "text/plain": [
       "'Total share of deciduous trees by 2050 (related to V) (%, relative to 2016 values)'"
      ]
     },
     "metadata": {},
     "output_type": "display_data"
    },
    {
     "data": {
      "text/plain": [
       "0.0"
      ]
     },
     "metadata": {},
     "output_type": "display_data"
    },
    {
     "data": {
      "text/plain": [
       "'Total Recreation index (max minimum over all years)'"
      ]
     },
     "metadata": {},
     "output_type": "display_data"
    },
    {
     "data": {
      "text/plain": [
       "0.0"
      ]
     },
     "metadata": {},
     "output_type": "display_data"
    },
    {
     "data": {
      "text/plain": [
       "'Total Scenic index (max minimum over all years)'"
      ]
     },
     "metadata": {},
     "output_type": "display_data"
    },
    {
     "data": {
      "text/plain": [
       "7123485.999999999"
      ]
     },
     "metadata": {},
     "output_type": "display_data"
    },
    {
     "name": "stdout",
     "output_type": "stream",
     "text": [
      "100%|██████████| 6/6 [00:00<00:00, 26.81it/s]\n",
      "CPU times: user 209 ms, sys: 20.1 ms, total: 229 ms\n",
      "Wall time: 225 ms\n"
     ]
    }
   ],
   "source": [
    "%%time\n",
    "mfo.calculateObjectiveRanges(debug=True)"
   ]
  },
  {
   "cell_type": "code",
   "execution_count": 34,
   "metadata": {},
   "outputs": [
    {
     "data": {
      "text/plain": [
       "{'Average_Harvested_V': (0.0, 4.784160772846508),\n",
       " 'Biomass_Evenflow': (0.0, 0.5998821263270511),\n",
       " 'relative_Amount_Deadwood_2050': (0.0, 4.335168499076908),\n",
       " 'relative_prc_V_deciduous_2050': (-0.011558414889957147, 1.2393648600691944),\n",
       " 'Sum_Total_Recreation': (0.0, 7706698.500000001),\n",
       " 'Sum_Total_Scenic': (0.0, 7123485.999999999)}"
      ]
     },
     "execution_count": 34,
     "metadata": {},
     "output_type": "execute_result"
    }
   ],
   "source": [
    "mfo.objectiveRanges"
   ]
  },
  {
   "cell_type": "markdown",
   "metadata": {},
   "source": [
    "## Show GUI"
   ]
  },
  {
   "cell_type": "markdown",
   "metadata": {},
   "source": [
    "* If \"Enabled constraints\" should be considered, start with ticking box \"only CCF ...\" and push \"Change constraints\"\n",
    "* Epsilon constraints are only considered if sliders are moved and button \"Set epsilon constraints\" is pushed\n",
    "* By pushing \"OPTIMIZE\" an optimal solution under the given constraints and reference points is searched"
   ]
  },
  {
   "cell_type": "markdown",
   "metadata": {},
   "source": [
    "![image](./MFGUIExample.png)"
   ]
  },
  {
   "cell_type": "code",
   "execution_count": 35,
   "metadata": {},
   "outputs": [
    {
     "data": {
      "text/html": [
       "<style>\n",
       "            .widget-label { min-width: 60% !important; }\n",
       "        </style>"
      ],
      "text/plain": [
       "<IPython.core.display.HTML object>"
      ]
     },
     "metadata": {},
     "output_type": "display_data"
    },
    {
     "data": {
      "text/html": [
       "<h2>Epsilon constraint values</h2>"
      ],
      "text/plain": [
       "<IPython.core.display.HTML object>"
      ]
     },
     "metadata": {},
     "output_type": "display_data"
    },
    {
     "data": {
      "application/vnd.jupyter.widget-view+json": {
       "model_id": "0649d53cf8e349fc805c2d6ec72bf506",
       "version_major": 2,
       "version_minor": 0
      },
      "text/plain": [
       "interactive(children=(FloatSlider(value=0.0, description='Average harvested timber volume (log & pulp) (m3/ha,…"
      ]
     },
     "metadata": {},
     "output_type": "display_data"
    },
    {
     "data": {
      "text/html": [
       "<h2>Reference point</h2>"
      ],
      "text/plain": [
       "<IPython.core.display.HTML object>"
      ]
     },
     "metadata": {},
     "output_type": "display_data"
    },
    {
     "data": {
      "application/vnd.jupyter.widget-view+json": {
       "model_id": "93b6a8827bcb4af0b840e3f05aa2ba9a",
       "version_major": 2,
       "version_minor": 0
      },
      "text/plain": [
       "interactive(children=(FloatSlider(value=2.392080386423254, description='Average harvested timber volume (log &…"
      ]
     },
     "metadata": {},
     "output_type": "display_data"
    },
    {
     "data": {
      "text/html": [
       "<h2>Enabled constraints</h2>"
      ],
      "text/plain": [
       "<IPython.core.display.HTML object>"
      ]
     },
     "metadata": {},
     "output_type": "display_data"
    },
    {
     "data": {
      "application/vnd.jupyter.widget-view+json": {
       "model_id": "524591018c2d404db687aa8b75f8c915",
       "version_major": 2,
       "version_minor": 0
      },
      "text/plain": [
       "interactive(children=(Checkbox(value=False, description='Only CCF on peat lands'), Button(description='Change …"
      ]
     },
     "metadata": {},
     "output_type": "display_data"
    },
    {
     "data": {
      "application/vnd.jupyter.widget-view+json": {
       "model_id": "37eb1d78ec5845aca9e4b434cbe8bb6d",
       "version_major": 2,
       "version_minor": 0
      },
      "text/plain": [
       "Button(description='Print solution', style=ButtonStyle())"
      ]
     },
     "metadata": {},
     "output_type": "display_data"
    }
   ],
   "source": [
    "mfo.showGUI(debug=True)"
   ]
  },
  {
   "cell_type": "markdown",
   "metadata": {},
   "source": [
    "## Visualization of optimal solution"
   ]
  },
  {
   "cell_type": "code",
   "execution_count": 36,
   "metadata": {},
   "outputs": [],
   "source": [
    "regimeAmounts = {regime:0 for regime in mfo.regimes}\n",
    "for key in mfo.regimesDecision.keys():\n",
    "    regimeAmounts[key[1]] +=mfo.regimesDecision[key].solution_value()*mfo.standAreas.loc[key[0],\"represented_area_by_NFIplot\"]/mfo.standAreas[\"represented_area_by_NFIplot\"].sum()"
   ]
  },
  {
   "cell_type": "code",
   "execution_count": 37,
   "metadata": {},
   "outputs": [
    {
     "name": "stdout",
     "output_type": "stream",
     "text": [
      "Populating the interactive namespace from numpy and matplotlib\n"
     ]
    }
   ],
   "source": [
    "%pylab notebook"
   ]
  },
  {
   "cell_type": "code",
   "execution_count": 38,
   "metadata": {},
   "outputs": [],
   "source": [
    "#[val for val in regimeAmounts.values()]"
   ]
  },
  {
   "cell_type": "code",
   "execution_count": 39,
   "metadata": {},
   "outputs": [
    {
     "data": {
      "application/javascript": [
       "/* Put everything inside the global mpl namespace */\n",
       "/* global mpl */\n",
       "window.mpl = {};\n",
       "\n",
       "mpl.get_websocket_type = function () {\n",
       "    if (typeof WebSocket !== 'undefined') {\n",
       "        return WebSocket;\n",
       "    } else if (typeof MozWebSocket !== 'undefined') {\n",
       "        return MozWebSocket;\n",
       "    } else {\n",
       "        alert(\n",
       "            'Your browser does not have WebSocket support. ' +\n",
       "                'Please try Chrome, Safari or Firefox ≥ 6. ' +\n",
       "                'Firefox 4 and 5 are also supported but you ' +\n",
       "                'have to enable WebSockets in about:config.'\n",
       "        );\n",
       "    }\n",
       "};\n",
       "\n",
       "mpl.figure = function (figure_id, websocket, ondownload, parent_element) {\n",
       "    this.id = figure_id;\n",
       "\n",
       "    this.ws = websocket;\n",
       "\n",
       "    this.supports_binary = this.ws.binaryType !== undefined;\n",
       "\n",
       "    if (!this.supports_binary) {\n",
       "        var warnings = document.getElementById('mpl-warnings');\n",
       "        if (warnings) {\n",
       "            warnings.style.display = 'block';\n",
       "            warnings.textContent =\n",
       "                'This browser does not support binary websocket messages. ' +\n",
       "                'Performance may be slow.';\n",
       "        }\n",
       "    }\n",
       "\n",
       "    this.imageObj = new Image();\n",
       "\n",
       "    this.context = undefined;\n",
       "    this.message = undefined;\n",
       "    this.canvas = undefined;\n",
       "    this.rubberband_canvas = undefined;\n",
       "    this.rubberband_context = undefined;\n",
       "    this.format_dropdown = undefined;\n",
       "\n",
       "    this.image_mode = 'full';\n",
       "\n",
       "    this.root = document.createElement('div');\n",
       "    this.root.setAttribute('style', 'display: inline-block');\n",
       "    this._root_extra_style(this.root);\n",
       "\n",
       "    parent_element.appendChild(this.root);\n",
       "\n",
       "    this._init_header(this);\n",
       "    this._init_canvas(this);\n",
       "    this._init_toolbar(this);\n",
       "\n",
       "    var fig = this;\n",
       "\n",
       "    this.waiting = false;\n",
       "\n",
       "    this.ws.onopen = function () {\n",
       "        fig.send_message('supports_binary', { value: fig.supports_binary });\n",
       "        fig.send_message('send_image_mode', {});\n",
       "        if (fig.ratio !== 1) {\n",
       "            fig.send_message('set_dpi_ratio', { dpi_ratio: fig.ratio });\n",
       "        }\n",
       "        fig.send_message('refresh', {});\n",
       "    };\n",
       "\n",
       "    this.imageObj.onload = function () {\n",
       "        if (fig.image_mode === 'full') {\n",
       "            // Full images could contain transparency (where diff images\n",
       "            // almost always do), so we need to clear the canvas so that\n",
       "            // there is no ghosting.\n",
       "            fig.context.clearRect(0, 0, fig.canvas.width, fig.canvas.height);\n",
       "        }\n",
       "        fig.context.drawImage(fig.imageObj, 0, 0);\n",
       "    };\n",
       "\n",
       "    this.imageObj.onunload = function () {\n",
       "        fig.ws.close();\n",
       "    };\n",
       "\n",
       "    this.ws.onmessage = this._make_on_message_function(this);\n",
       "\n",
       "    this.ondownload = ondownload;\n",
       "};\n",
       "\n",
       "mpl.figure.prototype._init_header = function () {\n",
       "    var titlebar = document.createElement('div');\n",
       "    titlebar.classList =\n",
       "        'ui-dialog-titlebar ui-widget-header ui-corner-all ui-helper-clearfix';\n",
       "    var titletext = document.createElement('div');\n",
       "    titletext.classList = 'ui-dialog-title';\n",
       "    titletext.setAttribute(\n",
       "        'style',\n",
       "        'width: 100%; text-align: center; padding: 3px;'\n",
       "    );\n",
       "    titlebar.appendChild(titletext);\n",
       "    this.root.appendChild(titlebar);\n",
       "    this.header = titletext;\n",
       "};\n",
       "\n",
       "mpl.figure.prototype._canvas_extra_style = function (_canvas_div) {};\n",
       "\n",
       "mpl.figure.prototype._root_extra_style = function (_canvas_div) {};\n",
       "\n",
       "mpl.figure.prototype._init_canvas = function () {\n",
       "    var fig = this;\n",
       "\n",
       "    var canvas_div = (this.canvas_div = document.createElement('div'));\n",
       "    canvas_div.setAttribute(\n",
       "        'style',\n",
       "        'border: 1px solid #ddd;' +\n",
       "            'box-sizing: content-box;' +\n",
       "            'clear: both;' +\n",
       "            'min-height: 1px;' +\n",
       "            'min-width: 1px;' +\n",
       "            'outline: 0;' +\n",
       "            'overflow: hidden;' +\n",
       "            'position: relative;' +\n",
       "            'resize: both;'\n",
       "    );\n",
       "\n",
       "    function on_keyboard_event_closure(name) {\n",
       "        return function (event) {\n",
       "            return fig.key_event(event, name);\n",
       "        };\n",
       "    }\n",
       "\n",
       "    canvas_div.addEventListener(\n",
       "        'keydown',\n",
       "        on_keyboard_event_closure('key_press')\n",
       "    );\n",
       "    canvas_div.addEventListener(\n",
       "        'keyup',\n",
       "        on_keyboard_event_closure('key_release')\n",
       "    );\n",
       "\n",
       "    this._canvas_extra_style(canvas_div);\n",
       "    this.root.appendChild(canvas_div);\n",
       "\n",
       "    var canvas = (this.canvas = document.createElement('canvas'));\n",
       "    canvas.classList.add('mpl-canvas');\n",
       "    canvas.setAttribute('style', 'box-sizing: content-box;');\n",
       "\n",
       "    this.context = canvas.getContext('2d');\n",
       "\n",
       "    var backingStore =\n",
       "        this.context.backingStorePixelRatio ||\n",
       "        this.context.webkitBackingStorePixelRatio ||\n",
       "        this.context.mozBackingStorePixelRatio ||\n",
       "        this.context.msBackingStorePixelRatio ||\n",
       "        this.context.oBackingStorePixelRatio ||\n",
       "        this.context.backingStorePixelRatio ||\n",
       "        1;\n",
       "\n",
       "    this.ratio = (window.devicePixelRatio || 1) / backingStore;\n",
       "    if (this.ratio !== 1) {\n",
       "        fig.send_message('set_dpi_ratio', { dpi_ratio: this.ratio });\n",
       "    }\n",
       "\n",
       "    var rubberband_canvas = (this.rubberband_canvas = document.createElement(\n",
       "        'canvas'\n",
       "    ));\n",
       "    rubberband_canvas.setAttribute(\n",
       "        'style',\n",
       "        'box-sizing: content-box; position: absolute; left: 0; top: 0; z-index: 1;'\n",
       "    );\n",
       "\n",
       "    var resizeObserver = new ResizeObserver(function (entries) {\n",
       "        var nentries = entries.length;\n",
       "        for (var i = 0; i < nentries; i++) {\n",
       "            var entry = entries[i];\n",
       "            var width, height;\n",
       "            if (entry.contentBoxSize) {\n",
       "                if (entry.contentBoxSize instanceof Array) {\n",
       "                    // Chrome 84 implements new version of spec.\n",
       "                    width = entry.contentBoxSize[0].inlineSize;\n",
       "                    height = entry.contentBoxSize[0].blockSize;\n",
       "                } else {\n",
       "                    // Firefox implements old version of spec.\n",
       "                    width = entry.contentBoxSize.inlineSize;\n",
       "                    height = entry.contentBoxSize.blockSize;\n",
       "                }\n",
       "            } else {\n",
       "                // Chrome <84 implements even older version of spec.\n",
       "                width = entry.contentRect.width;\n",
       "                height = entry.contentRect.height;\n",
       "            }\n",
       "\n",
       "            // Keep the size of the canvas and rubber band canvas in sync with\n",
       "            // the canvas container.\n",
       "            if (entry.devicePixelContentBoxSize) {\n",
       "                // Chrome 84 implements new version of spec.\n",
       "                canvas.setAttribute(\n",
       "                    'width',\n",
       "                    entry.devicePixelContentBoxSize[0].inlineSize\n",
       "                );\n",
       "                canvas.setAttribute(\n",
       "                    'height',\n",
       "                    entry.devicePixelContentBoxSize[0].blockSize\n",
       "                );\n",
       "            } else {\n",
       "                canvas.setAttribute('width', width * fig.ratio);\n",
       "                canvas.setAttribute('height', height * fig.ratio);\n",
       "            }\n",
       "            canvas.setAttribute(\n",
       "                'style',\n",
       "                'width: ' + width + 'px; height: ' + height + 'px;'\n",
       "            );\n",
       "\n",
       "            rubberband_canvas.setAttribute('width', width);\n",
       "            rubberband_canvas.setAttribute('height', height);\n",
       "\n",
       "            // And update the size in Python. We ignore the initial 0/0 size\n",
       "            // that occurs as the element is placed into the DOM, which should\n",
       "            // otherwise not happen due to the minimum size styling.\n",
       "            if (width != 0 && height != 0) {\n",
       "                fig.request_resize(width, height);\n",
       "            }\n",
       "        }\n",
       "    });\n",
       "    resizeObserver.observe(canvas_div);\n",
       "\n",
       "    function on_mouse_event_closure(name) {\n",
       "        return function (event) {\n",
       "            return fig.mouse_event(event, name);\n",
       "        };\n",
       "    }\n",
       "\n",
       "    rubberband_canvas.addEventListener(\n",
       "        'mousedown',\n",
       "        on_mouse_event_closure('button_press')\n",
       "    );\n",
       "    rubberband_canvas.addEventListener(\n",
       "        'mouseup',\n",
       "        on_mouse_event_closure('button_release')\n",
       "    );\n",
       "    // Throttle sequential mouse events to 1 every 20ms.\n",
       "    rubberband_canvas.addEventListener(\n",
       "        'mousemove',\n",
       "        on_mouse_event_closure('motion_notify')\n",
       "    );\n",
       "\n",
       "    rubberband_canvas.addEventListener(\n",
       "        'mouseenter',\n",
       "        on_mouse_event_closure('figure_enter')\n",
       "    );\n",
       "    rubberband_canvas.addEventListener(\n",
       "        'mouseleave',\n",
       "        on_mouse_event_closure('figure_leave')\n",
       "    );\n",
       "\n",
       "    canvas_div.addEventListener('wheel', function (event) {\n",
       "        if (event.deltaY < 0) {\n",
       "            event.step = 1;\n",
       "        } else {\n",
       "            event.step = -1;\n",
       "        }\n",
       "        on_mouse_event_closure('scroll')(event);\n",
       "    });\n",
       "\n",
       "    canvas_div.appendChild(canvas);\n",
       "    canvas_div.appendChild(rubberband_canvas);\n",
       "\n",
       "    this.rubberband_context = rubberband_canvas.getContext('2d');\n",
       "    this.rubberband_context.strokeStyle = '#000000';\n",
       "\n",
       "    this._resize_canvas = function (width, height, forward) {\n",
       "        if (forward) {\n",
       "            canvas_div.style.width = width + 'px';\n",
       "            canvas_div.style.height = height + 'px';\n",
       "        }\n",
       "    };\n",
       "\n",
       "    // Disable right mouse context menu.\n",
       "    this.rubberband_canvas.addEventListener('contextmenu', function (_e) {\n",
       "        event.preventDefault();\n",
       "        return false;\n",
       "    });\n",
       "\n",
       "    function set_focus() {\n",
       "        canvas.focus();\n",
       "        canvas_div.focus();\n",
       "    }\n",
       "\n",
       "    window.setTimeout(set_focus, 100);\n",
       "};\n",
       "\n",
       "mpl.figure.prototype._init_toolbar = function () {\n",
       "    var fig = this;\n",
       "\n",
       "    var toolbar = document.createElement('div');\n",
       "    toolbar.classList = 'mpl-toolbar';\n",
       "    this.root.appendChild(toolbar);\n",
       "\n",
       "    function on_click_closure(name) {\n",
       "        return function (_event) {\n",
       "            return fig.toolbar_button_onclick(name);\n",
       "        };\n",
       "    }\n",
       "\n",
       "    function on_mouseover_closure(tooltip) {\n",
       "        return function (event) {\n",
       "            if (!event.currentTarget.disabled) {\n",
       "                return fig.toolbar_button_onmouseover(tooltip);\n",
       "            }\n",
       "        };\n",
       "    }\n",
       "\n",
       "    fig.buttons = {};\n",
       "    var buttonGroup = document.createElement('div');\n",
       "    buttonGroup.classList = 'mpl-button-group';\n",
       "    for (var toolbar_ind in mpl.toolbar_items) {\n",
       "        var name = mpl.toolbar_items[toolbar_ind][0];\n",
       "        var tooltip = mpl.toolbar_items[toolbar_ind][1];\n",
       "        var image = mpl.toolbar_items[toolbar_ind][2];\n",
       "        var method_name = mpl.toolbar_items[toolbar_ind][3];\n",
       "\n",
       "        if (!name) {\n",
       "            /* Instead of a spacer, we start a new button group. */\n",
       "            if (buttonGroup.hasChildNodes()) {\n",
       "                toolbar.appendChild(buttonGroup);\n",
       "            }\n",
       "            buttonGroup = document.createElement('div');\n",
       "            buttonGroup.classList = 'mpl-button-group';\n",
       "            continue;\n",
       "        }\n",
       "\n",
       "        var button = (fig.buttons[name] = document.createElement('button'));\n",
       "        button.classList = 'mpl-widget';\n",
       "        button.setAttribute('role', 'button');\n",
       "        button.setAttribute('aria-disabled', 'false');\n",
       "        button.addEventListener('click', on_click_closure(method_name));\n",
       "        button.addEventListener('mouseover', on_mouseover_closure(tooltip));\n",
       "\n",
       "        var icon_img = document.createElement('img');\n",
       "        icon_img.src = '_images/' + image + '.png';\n",
       "        icon_img.srcset = '_images/' + image + '_large.png 2x';\n",
       "        icon_img.alt = tooltip;\n",
       "        button.appendChild(icon_img);\n",
       "\n",
       "        buttonGroup.appendChild(button);\n",
       "    }\n",
       "\n",
       "    if (buttonGroup.hasChildNodes()) {\n",
       "        toolbar.appendChild(buttonGroup);\n",
       "    }\n",
       "\n",
       "    var fmt_picker = document.createElement('select');\n",
       "    fmt_picker.classList = 'mpl-widget';\n",
       "    toolbar.appendChild(fmt_picker);\n",
       "    this.format_dropdown = fmt_picker;\n",
       "\n",
       "    for (var ind in mpl.extensions) {\n",
       "        var fmt = mpl.extensions[ind];\n",
       "        var option = document.createElement('option');\n",
       "        option.selected = fmt === mpl.default_extension;\n",
       "        option.innerHTML = fmt;\n",
       "        fmt_picker.appendChild(option);\n",
       "    }\n",
       "\n",
       "    var status_bar = document.createElement('span');\n",
       "    status_bar.classList = 'mpl-message';\n",
       "    toolbar.appendChild(status_bar);\n",
       "    this.message = status_bar;\n",
       "};\n",
       "\n",
       "mpl.figure.prototype.request_resize = function (x_pixels, y_pixels) {\n",
       "    // Request matplotlib to resize the figure. Matplotlib will then trigger a resize in the client,\n",
       "    // which will in turn request a refresh of the image.\n",
       "    this.send_message('resize', { width: x_pixels, height: y_pixels });\n",
       "};\n",
       "\n",
       "mpl.figure.prototype.send_message = function (type, properties) {\n",
       "    properties['type'] = type;\n",
       "    properties['figure_id'] = this.id;\n",
       "    this.ws.send(JSON.stringify(properties));\n",
       "};\n",
       "\n",
       "mpl.figure.prototype.send_draw_message = function () {\n",
       "    if (!this.waiting) {\n",
       "        this.waiting = true;\n",
       "        this.ws.send(JSON.stringify({ type: 'draw', figure_id: this.id }));\n",
       "    }\n",
       "};\n",
       "\n",
       "mpl.figure.prototype.handle_save = function (fig, _msg) {\n",
       "    var format_dropdown = fig.format_dropdown;\n",
       "    var format = format_dropdown.options[format_dropdown.selectedIndex].value;\n",
       "    fig.ondownload(fig, format);\n",
       "};\n",
       "\n",
       "mpl.figure.prototype.handle_resize = function (fig, msg) {\n",
       "    var size = msg['size'];\n",
       "    if (size[0] !== fig.canvas.width || size[1] !== fig.canvas.height) {\n",
       "        fig._resize_canvas(size[0], size[1], msg['forward']);\n",
       "        fig.send_message('refresh', {});\n",
       "    }\n",
       "};\n",
       "\n",
       "mpl.figure.prototype.handle_rubberband = function (fig, msg) {\n",
       "    var x0 = msg['x0'] / fig.ratio;\n",
       "    var y0 = (fig.canvas.height - msg['y0']) / fig.ratio;\n",
       "    var x1 = msg['x1'] / fig.ratio;\n",
       "    var y1 = (fig.canvas.height - msg['y1']) / fig.ratio;\n",
       "    x0 = Math.floor(x0) + 0.5;\n",
       "    y0 = Math.floor(y0) + 0.5;\n",
       "    x1 = Math.floor(x1) + 0.5;\n",
       "    y1 = Math.floor(y1) + 0.5;\n",
       "    var min_x = Math.min(x0, x1);\n",
       "    var min_y = Math.min(y0, y1);\n",
       "    var width = Math.abs(x1 - x0);\n",
       "    var height = Math.abs(y1 - y0);\n",
       "\n",
       "    fig.rubberband_context.clearRect(\n",
       "        0,\n",
       "        0,\n",
       "        fig.canvas.width / fig.ratio,\n",
       "        fig.canvas.height / fig.ratio\n",
       "    );\n",
       "\n",
       "    fig.rubberband_context.strokeRect(min_x, min_y, width, height);\n",
       "};\n",
       "\n",
       "mpl.figure.prototype.handle_figure_label = function (fig, msg) {\n",
       "    // Updates the figure title.\n",
       "    fig.header.textContent = msg['label'];\n",
       "};\n",
       "\n",
       "mpl.figure.prototype.handle_cursor = function (fig, msg) {\n",
       "    var cursor = msg['cursor'];\n",
       "    switch (cursor) {\n",
       "        case 0:\n",
       "            cursor = 'pointer';\n",
       "            break;\n",
       "        case 1:\n",
       "            cursor = 'default';\n",
       "            break;\n",
       "        case 2:\n",
       "            cursor = 'crosshair';\n",
       "            break;\n",
       "        case 3:\n",
       "            cursor = 'move';\n",
       "            break;\n",
       "    }\n",
       "    fig.rubberband_canvas.style.cursor = cursor;\n",
       "};\n",
       "\n",
       "mpl.figure.prototype.handle_message = function (fig, msg) {\n",
       "    fig.message.textContent = msg['message'];\n",
       "};\n",
       "\n",
       "mpl.figure.prototype.handle_draw = function (fig, _msg) {\n",
       "    // Request the server to send over a new figure.\n",
       "    fig.send_draw_message();\n",
       "};\n",
       "\n",
       "mpl.figure.prototype.handle_image_mode = function (fig, msg) {\n",
       "    fig.image_mode = msg['mode'];\n",
       "};\n",
       "\n",
       "mpl.figure.prototype.handle_history_buttons = function (fig, msg) {\n",
       "    for (var key in msg) {\n",
       "        if (!(key in fig.buttons)) {\n",
       "            continue;\n",
       "        }\n",
       "        fig.buttons[key].disabled = !msg[key];\n",
       "        fig.buttons[key].setAttribute('aria-disabled', !msg[key]);\n",
       "    }\n",
       "};\n",
       "\n",
       "mpl.figure.prototype.handle_navigate_mode = function (fig, msg) {\n",
       "    if (msg['mode'] === 'PAN') {\n",
       "        fig.buttons['Pan'].classList.add('active');\n",
       "        fig.buttons['Zoom'].classList.remove('active');\n",
       "    } else if (msg['mode'] === 'ZOOM') {\n",
       "        fig.buttons['Pan'].classList.remove('active');\n",
       "        fig.buttons['Zoom'].classList.add('active');\n",
       "    } else {\n",
       "        fig.buttons['Pan'].classList.remove('active');\n",
       "        fig.buttons['Zoom'].classList.remove('active');\n",
       "    }\n",
       "};\n",
       "\n",
       "mpl.figure.prototype.updated_canvas_event = function () {\n",
       "    // Called whenever the canvas gets updated.\n",
       "    this.send_message('ack', {});\n",
       "};\n",
       "\n",
       "// A function to construct a web socket function for onmessage handling.\n",
       "// Called in the figure constructor.\n",
       "mpl.figure.prototype._make_on_message_function = function (fig) {\n",
       "    return function socket_on_message(evt) {\n",
       "        if (evt.data instanceof Blob) {\n",
       "            /* FIXME: We get \"Resource interpreted as Image but\n",
       "             * transferred with MIME type text/plain:\" errors on\n",
       "             * Chrome.  But how to set the MIME type?  It doesn't seem\n",
       "             * to be part of the websocket stream */\n",
       "            evt.data.type = 'image/png';\n",
       "\n",
       "            /* Free the memory for the previous frames */\n",
       "            if (fig.imageObj.src) {\n",
       "                (window.URL || window.webkitURL).revokeObjectURL(\n",
       "                    fig.imageObj.src\n",
       "                );\n",
       "            }\n",
       "\n",
       "            fig.imageObj.src = (window.URL || window.webkitURL).createObjectURL(\n",
       "                evt.data\n",
       "            );\n",
       "            fig.updated_canvas_event();\n",
       "            fig.waiting = false;\n",
       "            return;\n",
       "        } else if (\n",
       "            typeof evt.data === 'string' &&\n",
       "            evt.data.slice(0, 21) === 'data:image/png;base64'\n",
       "        ) {\n",
       "            fig.imageObj.src = evt.data;\n",
       "            fig.updated_canvas_event();\n",
       "            fig.waiting = false;\n",
       "            return;\n",
       "        }\n",
       "\n",
       "        var msg = JSON.parse(evt.data);\n",
       "        var msg_type = msg['type'];\n",
       "\n",
       "        // Call the  \"handle_{type}\" callback, which takes\n",
       "        // the figure and JSON message as its only arguments.\n",
       "        try {\n",
       "            var callback = fig['handle_' + msg_type];\n",
       "        } catch (e) {\n",
       "            console.log(\n",
       "                \"No handler for the '\" + msg_type + \"' message type: \",\n",
       "                msg\n",
       "            );\n",
       "            return;\n",
       "        }\n",
       "\n",
       "        if (callback) {\n",
       "            try {\n",
       "                // console.log(\"Handling '\" + msg_type + \"' message: \", msg);\n",
       "                callback(fig, msg);\n",
       "            } catch (e) {\n",
       "                console.log(\n",
       "                    \"Exception inside the 'handler_\" + msg_type + \"' callback:\",\n",
       "                    e,\n",
       "                    e.stack,\n",
       "                    msg\n",
       "                );\n",
       "            }\n",
       "        }\n",
       "    };\n",
       "};\n",
       "\n",
       "// from http://stackoverflow.com/questions/1114465/getting-mouse-location-in-canvas\n",
       "mpl.findpos = function (e) {\n",
       "    //this section is from http://www.quirksmode.org/js/events_properties.html\n",
       "    var targ;\n",
       "    if (!e) {\n",
       "        e = window.event;\n",
       "    }\n",
       "    if (e.target) {\n",
       "        targ = e.target;\n",
       "    } else if (e.srcElement) {\n",
       "        targ = e.srcElement;\n",
       "    }\n",
       "    if (targ.nodeType === 3) {\n",
       "        // defeat Safari bug\n",
       "        targ = targ.parentNode;\n",
       "    }\n",
       "\n",
       "    // pageX,Y are the mouse positions relative to the document\n",
       "    var boundingRect = targ.getBoundingClientRect();\n",
       "    var x = e.pageX - (boundingRect.left + document.body.scrollLeft);\n",
       "    var y = e.pageY - (boundingRect.top + document.body.scrollTop);\n",
       "\n",
       "    return { x: x, y: y };\n",
       "};\n",
       "\n",
       "/*\n",
       " * return a copy of an object with only non-object keys\n",
       " * we need this to avoid circular references\n",
       " * http://stackoverflow.com/a/24161582/3208463\n",
       " */\n",
       "function simpleKeys(original) {\n",
       "    return Object.keys(original).reduce(function (obj, key) {\n",
       "        if (typeof original[key] !== 'object') {\n",
       "            obj[key] = original[key];\n",
       "        }\n",
       "        return obj;\n",
       "    }, {});\n",
       "}\n",
       "\n",
       "mpl.figure.prototype.mouse_event = function (event, name) {\n",
       "    var canvas_pos = mpl.findpos(event);\n",
       "\n",
       "    if (name === 'button_press') {\n",
       "        this.canvas.focus();\n",
       "        this.canvas_div.focus();\n",
       "    }\n",
       "\n",
       "    var x = canvas_pos.x * this.ratio;\n",
       "    var y = canvas_pos.y * this.ratio;\n",
       "\n",
       "    this.send_message(name, {\n",
       "        x: x,\n",
       "        y: y,\n",
       "        button: event.button,\n",
       "        step: event.step,\n",
       "        guiEvent: simpleKeys(event),\n",
       "    });\n",
       "\n",
       "    /* This prevents the web browser from automatically changing to\n",
       "     * the text insertion cursor when the button is pressed.  We want\n",
       "     * to control all of the cursor setting manually through the\n",
       "     * 'cursor' event from matplotlib */\n",
       "    event.preventDefault();\n",
       "    return false;\n",
       "};\n",
       "\n",
       "mpl.figure.prototype._key_event_extra = function (_event, _name) {\n",
       "    // Handle any extra behaviour associated with a key event\n",
       "};\n",
       "\n",
       "mpl.figure.prototype.key_event = function (event, name) {\n",
       "    // Prevent repeat events\n",
       "    if (name === 'key_press') {\n",
       "        if (event.which === this._key) {\n",
       "            return;\n",
       "        } else {\n",
       "            this._key = event.which;\n",
       "        }\n",
       "    }\n",
       "    if (name === 'key_release') {\n",
       "        this._key = null;\n",
       "    }\n",
       "\n",
       "    var value = '';\n",
       "    if (event.ctrlKey && event.which !== 17) {\n",
       "        value += 'ctrl+';\n",
       "    }\n",
       "    if (event.altKey && event.which !== 18) {\n",
       "        value += 'alt+';\n",
       "    }\n",
       "    if (event.shiftKey && event.which !== 16) {\n",
       "        value += 'shift+';\n",
       "    }\n",
       "\n",
       "    value += 'k';\n",
       "    value += event.which.toString();\n",
       "\n",
       "    this._key_event_extra(event, name);\n",
       "\n",
       "    this.send_message(name, { key: value, guiEvent: simpleKeys(event) });\n",
       "    return false;\n",
       "};\n",
       "\n",
       "mpl.figure.prototype.toolbar_button_onclick = function (name) {\n",
       "    if (name === 'download') {\n",
       "        this.handle_save(this, null);\n",
       "    } else {\n",
       "        this.send_message('toolbar_button', { name: name });\n",
       "    }\n",
       "};\n",
       "\n",
       "mpl.figure.prototype.toolbar_button_onmouseover = function (tooltip) {\n",
       "    this.message.textContent = tooltip;\n",
       "};\n",
       "mpl.toolbar_items = [[\"Home\", \"Reset original view\", \"fa fa-home icon-home\", \"home\"], [\"Back\", \"Back to previous view\", \"fa fa-arrow-left icon-arrow-left\", \"back\"], [\"Forward\", \"Forward to next view\", \"fa fa-arrow-right icon-arrow-right\", \"forward\"], [\"\", \"\", \"\", \"\"], [\"Pan\", \"Left button pans, Right button zooms\\nx/y fixes axis, CTRL fixes aspect\", \"fa fa-arrows icon-move\", \"pan\"], [\"Zoom\", \"Zoom to rectangle\\nx/y fixes axis, CTRL fixes aspect\", \"fa fa-square-o icon-check-empty\", \"zoom\"], [\"\", \"\", \"\", \"\"], [\"Download\", \"Download plot\", \"fa fa-floppy-o icon-save\", \"download\"]];\n",
       "\n",
       "mpl.extensions = [\"eps\", \"jpeg\", \"pdf\", \"png\", \"ps\", \"raw\", \"svg\", \"tif\"];\n",
       "\n",
       "mpl.default_extension = \"png\";/* global mpl */\n",
       "\n",
       "var comm_websocket_adapter = function (comm) {\n",
       "    // Create a \"websocket\"-like object which calls the given IPython comm\n",
       "    // object with the appropriate methods. Currently this is a non binary\n",
       "    // socket, so there is still some room for performance tuning.\n",
       "    var ws = {};\n",
       "\n",
       "    ws.close = function () {\n",
       "        comm.close();\n",
       "    };\n",
       "    ws.send = function (m) {\n",
       "        //console.log('sending', m);\n",
       "        comm.send(m);\n",
       "    };\n",
       "    // Register the callback with on_msg.\n",
       "    comm.on_msg(function (msg) {\n",
       "        //console.log('receiving', msg['content']['data'], msg);\n",
       "        // Pass the mpl event to the overridden (by mpl) onmessage function.\n",
       "        ws.onmessage(msg['content']['data']);\n",
       "    });\n",
       "    return ws;\n",
       "};\n",
       "\n",
       "mpl.mpl_figure_comm = function (comm, msg) {\n",
       "    // This is the function which gets called when the mpl process\n",
       "    // starts-up an IPython Comm through the \"matplotlib\" channel.\n",
       "\n",
       "    var id = msg.content.data.id;\n",
       "    // Get hold of the div created by the display call when the Comm\n",
       "    // socket was opened in Python.\n",
       "    var element = document.getElementById(id);\n",
       "    var ws_proxy = comm_websocket_adapter(comm);\n",
       "\n",
       "    function ondownload(figure, _format) {\n",
       "        window.open(figure.canvas.toDataURL());\n",
       "    }\n",
       "\n",
       "    var fig = new mpl.figure(id, ws_proxy, ondownload, element);\n",
       "\n",
       "    // Call onopen now - mpl needs it, as it is assuming we've passed it a real\n",
       "    // web socket which is closed, not our websocket->open comm proxy.\n",
       "    ws_proxy.onopen();\n",
       "\n",
       "    fig.parent_element = element;\n",
       "    fig.cell_info = mpl.find_output_cell(\"<div id='\" + id + \"'></div>\");\n",
       "    if (!fig.cell_info) {\n",
       "        console.error('Failed to find cell for figure', id, fig);\n",
       "        return;\n",
       "    }\n",
       "    fig.cell_info[0].output_area.element.one(\n",
       "        'cleared',\n",
       "        { fig: fig },\n",
       "        fig._remove_fig_handler\n",
       "    );\n",
       "};\n",
       "\n",
       "mpl.figure.prototype.handle_close = function (fig, msg) {\n",
       "    var width = fig.canvas.width / fig.ratio;\n",
       "    fig.cell_info[0].output_area.element.off(\n",
       "        'cleared',\n",
       "        fig._remove_fig_handler\n",
       "    );\n",
       "\n",
       "    // Update the output cell to use the data from the current canvas.\n",
       "    fig.push_to_output();\n",
       "    var dataURL = fig.canvas.toDataURL();\n",
       "    // Re-enable the keyboard manager in IPython - without this line, in FF,\n",
       "    // the notebook keyboard shortcuts fail.\n",
       "    IPython.keyboard_manager.enable();\n",
       "    fig.parent_element.innerHTML =\n",
       "        '<img src=\"' + dataURL + '\" width=\"' + width + '\">';\n",
       "    fig.close_ws(fig, msg);\n",
       "};\n",
       "\n",
       "mpl.figure.prototype.close_ws = function (fig, msg) {\n",
       "    fig.send_message('closing', msg);\n",
       "    // fig.ws.close()\n",
       "};\n",
       "\n",
       "mpl.figure.prototype.push_to_output = function (_remove_interactive) {\n",
       "    // Turn the data on the canvas into data in the output cell.\n",
       "    var width = this.canvas.width / this.ratio;\n",
       "    var dataURL = this.canvas.toDataURL();\n",
       "    this.cell_info[1]['text/html'] =\n",
       "        '<img src=\"' + dataURL + '\" width=\"' + width + '\">';\n",
       "};\n",
       "\n",
       "mpl.figure.prototype.updated_canvas_event = function () {\n",
       "    // Tell IPython that the notebook contents must change.\n",
       "    IPython.notebook.set_dirty(true);\n",
       "    this.send_message('ack', {});\n",
       "    var fig = this;\n",
       "    // Wait a second, then push the new image to the DOM so\n",
       "    // that it is saved nicely (might be nice to debounce this).\n",
       "    setTimeout(function () {\n",
       "        fig.push_to_output();\n",
       "    }, 1000);\n",
       "};\n",
       "\n",
       "mpl.figure.prototype._init_toolbar = function () {\n",
       "    var fig = this;\n",
       "\n",
       "    var toolbar = document.createElement('div');\n",
       "    toolbar.classList = 'btn-toolbar';\n",
       "    this.root.appendChild(toolbar);\n",
       "\n",
       "    function on_click_closure(name) {\n",
       "        return function (_event) {\n",
       "            return fig.toolbar_button_onclick(name);\n",
       "        };\n",
       "    }\n",
       "\n",
       "    function on_mouseover_closure(tooltip) {\n",
       "        return function (event) {\n",
       "            if (!event.currentTarget.disabled) {\n",
       "                return fig.toolbar_button_onmouseover(tooltip);\n",
       "            }\n",
       "        };\n",
       "    }\n",
       "\n",
       "    fig.buttons = {};\n",
       "    var buttonGroup = document.createElement('div');\n",
       "    buttonGroup.classList = 'btn-group';\n",
       "    var button;\n",
       "    for (var toolbar_ind in mpl.toolbar_items) {\n",
       "        var name = mpl.toolbar_items[toolbar_ind][0];\n",
       "        var tooltip = mpl.toolbar_items[toolbar_ind][1];\n",
       "        var image = mpl.toolbar_items[toolbar_ind][2];\n",
       "        var method_name = mpl.toolbar_items[toolbar_ind][3];\n",
       "\n",
       "        if (!name) {\n",
       "            /* Instead of a spacer, we start a new button group. */\n",
       "            if (buttonGroup.hasChildNodes()) {\n",
       "                toolbar.appendChild(buttonGroup);\n",
       "            }\n",
       "            buttonGroup = document.createElement('div');\n",
       "            buttonGroup.classList = 'btn-group';\n",
       "            continue;\n",
       "        }\n",
       "\n",
       "        button = fig.buttons[name] = document.createElement('button');\n",
       "        button.classList = 'btn btn-default';\n",
       "        button.href = '#';\n",
       "        button.title = name;\n",
       "        button.innerHTML = '<i class=\"fa ' + image + ' fa-lg\"></i>';\n",
       "        button.addEventListener('click', on_click_closure(method_name));\n",
       "        button.addEventListener('mouseover', on_mouseover_closure(tooltip));\n",
       "        buttonGroup.appendChild(button);\n",
       "    }\n",
       "\n",
       "    if (buttonGroup.hasChildNodes()) {\n",
       "        toolbar.appendChild(buttonGroup);\n",
       "    }\n",
       "\n",
       "    // Add the status bar.\n",
       "    var status_bar = document.createElement('span');\n",
       "    status_bar.classList = 'mpl-message pull-right';\n",
       "    toolbar.appendChild(status_bar);\n",
       "    this.message = status_bar;\n",
       "\n",
       "    // Add the close button to the window.\n",
       "    var buttongrp = document.createElement('div');\n",
       "    buttongrp.classList = 'btn-group inline pull-right';\n",
       "    button = document.createElement('button');\n",
       "    button.classList = 'btn btn-mini btn-primary';\n",
       "    button.href = '#';\n",
       "    button.title = 'Stop Interaction';\n",
       "    button.innerHTML = '<i class=\"fa fa-power-off icon-remove icon-large\"></i>';\n",
       "    button.addEventListener('click', function (_evt) {\n",
       "        fig.handle_close(fig, {});\n",
       "    });\n",
       "    button.addEventListener(\n",
       "        'mouseover',\n",
       "        on_mouseover_closure('Stop Interaction')\n",
       "    );\n",
       "    buttongrp.appendChild(button);\n",
       "    var titlebar = this.root.querySelector('.ui-dialog-titlebar');\n",
       "    titlebar.insertBefore(buttongrp, titlebar.firstChild);\n",
       "};\n",
       "\n",
       "mpl.figure.prototype._remove_fig_handler = function (event) {\n",
       "    var fig = event.data.fig;\n",
       "    fig.close_ws(fig, {});\n",
       "};\n",
       "\n",
       "mpl.figure.prototype._root_extra_style = function (el) {\n",
       "    el.style.boxSizing = 'content-box'; // override notebook setting of border-box.\n",
       "};\n",
       "\n",
       "mpl.figure.prototype._canvas_extra_style = function (el) {\n",
       "    // this is important to make the div 'focusable\n",
       "    el.setAttribute('tabindex', 0);\n",
       "    // reach out to IPython and tell the keyboard manager to turn it's self\n",
       "    // off when our div gets focus\n",
       "\n",
       "    // location in version 3\n",
       "    if (IPython.notebook.keyboard_manager) {\n",
       "        IPython.notebook.keyboard_manager.register_events(el);\n",
       "    } else {\n",
       "        // location in version 2\n",
       "        IPython.keyboard_manager.register_events(el);\n",
       "    }\n",
       "};\n",
       "\n",
       "mpl.figure.prototype._key_event_extra = function (event, _name) {\n",
       "    var manager = IPython.notebook.keyboard_manager;\n",
       "    if (!manager) {\n",
       "        manager = IPython.keyboard_manager;\n",
       "    }\n",
       "\n",
       "    // Check for shift+enter\n",
       "    if (event.shiftKey && event.which === 13) {\n",
       "        this.canvas_div.blur();\n",
       "        // select the cell after this one\n",
       "        var index = IPython.notebook.find_cell_index(this.cell_info[0]);\n",
       "        IPython.notebook.select(index + 1);\n",
       "    }\n",
       "};\n",
       "\n",
       "mpl.figure.prototype.handle_save = function (fig, _msg) {\n",
       "    fig.ondownload(fig, null);\n",
       "};\n",
       "\n",
       "mpl.find_output_cell = function (html_output) {\n",
       "    // Return the cell and output element which can be found *uniquely* in the notebook.\n",
       "    // Note - this is a bit hacky, but it is done because the \"notebook_saving.Notebook\"\n",
       "    // IPython event is triggered only after the cells have been serialised, which for\n",
       "    // our purposes (turning an active figure into a static one), is too late.\n",
       "    var cells = IPython.notebook.get_cells();\n",
       "    var ncells = cells.length;\n",
       "    for (var i = 0; i < ncells; i++) {\n",
       "        var cell = cells[i];\n",
       "        if (cell.cell_type === 'code') {\n",
       "            for (var j = 0; j < cell.output_area.outputs.length; j++) {\n",
       "                var data = cell.output_area.outputs[j];\n",
       "                if (data.data) {\n",
       "                    // IPython >= 3 moved mimebundle to data attribute of output\n",
       "                    data = data.data;\n",
       "                }\n",
       "                if (data['text/html'] === html_output) {\n",
       "                    return [cell, data, j];\n",
       "                }\n",
       "            }\n",
       "        }\n",
       "    }\n",
       "};\n",
       "\n",
       "// Register the function which deals with the matplotlib target/channel.\n",
       "// The kernel may be null if the page has been refreshed.\n",
       "if (IPython.notebook.kernel !== null) {\n",
       "    IPython.notebook.kernel.comm_manager.register_target(\n",
       "        'matplotlib',\n",
       "        mpl.mpl_figure_comm\n",
       "    );\n",
       "}\n"
      ],
      "text/plain": [
       "<IPython.core.display.Javascript object>"
      ]
     },
     "metadata": {},
     "output_type": "display_data"
    },
    {
     "data": {
      "text/html": [
       "<img src=\"data:image/png;base64,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\" width=\"640\">"
      ],
      "text/plain": [
       "<IPython.core.display.HTML object>"
      ]
     },
     "metadata": {},
     "output_type": "display_data"
    },
    {
     "data": {
      "text/plain": [
       "[<matplotlib.lines.Line2D at 0x7fa548dffbe0>]"
      ]
     },
     "execution_count": 39,
     "metadata": {},
     "output_type": "execute_result"
    }
   ],
   "source": [
    "plt.plot([key for key in regimeAmounts.keys()],[val for val in regimeAmounts.values()])"
   ]
  },
  {
   "cell_type": "code",
   "execution_count": 40,
   "metadata": {},
   "outputs": [
    {
     "data": {
      "text/plain": [
       "([<matplotlib.axis.XTick at 0x7fa548dda8b0>,\n",
       "  <matplotlib.axis.XTick at 0x7fa548dda880>,\n",
       "  <matplotlib.axis.XTick at 0x7fa548dcda30>,\n",
       "  <matplotlib.axis.XTick at 0x7fa548d771c0>,\n",
       "  <matplotlib.axis.XTick at 0x7fa548d776d0>,\n",
       "  <matplotlib.axis.XTick at 0x7fa548d77be0>,\n",
       "  <matplotlib.axis.XTick at 0x7fa548d7e130>,\n",
       "  <matplotlib.axis.XTick at 0x7fa548d7e640>,\n",
       "  <matplotlib.axis.XTick at 0x7fa548d7eb50>,\n",
       "  <matplotlib.axis.XTick at 0x7fa548d7c0a0>,\n",
       "  <matplotlib.axis.XTick at 0x7fa548d7e1c0>,\n",
       "  <matplotlib.axis.XTick at 0x7fa548d77250>,\n",
       "  <matplotlib.axis.XTick at 0x7fa548d7c400>,\n",
       "  <matplotlib.axis.XTick at 0x7fa548d7c910>,\n",
       "  <matplotlib.axis.XTick at 0x7fa548d7ce20>,\n",
       "  <matplotlib.axis.XTick at 0x7fa548d0b370>,\n",
       "  <matplotlib.axis.XTick at 0x7fa548d0b880>,\n",
       "  <matplotlib.axis.XTick at 0x7fa548d0bd90>,\n",
       "  <matplotlib.axis.XTick at 0x7fa548d0b5b0>,\n",
       "  <matplotlib.axis.XTick at 0x7fa548d7c640>,\n",
       "  <matplotlib.axis.XTick at 0x7fa548d7ebb0>,\n",
       "  <matplotlib.axis.XTick at 0x7fa548d10520>,\n",
       "  <matplotlib.axis.XTick at 0x7fa548d10a30>,\n",
       "  <matplotlib.axis.XTick at 0x7fa548d10f40>,\n",
       "  <matplotlib.axis.XTick at 0x7fa548d18490>,\n",
       "  <matplotlib.axis.XTick at 0x7fa548d189a0>,\n",
       "  <matplotlib.axis.XTick at 0x7fa548d18eb0>,\n",
       "  <matplotlib.axis.XTick at 0x7fa548d18610>,\n",
       "  <matplotlib.axis.XTick at 0x7fa548d10640>,\n",
       "  <matplotlib.axis.XTick at 0x7fa548d0b070>,\n",
       "  <matplotlib.axis.XTick at 0x7fa548d1e5b0>,\n",
       "  <matplotlib.axis.XTick at 0x7fa548d1eac0>],\n",
       " [Text(0, 0, 'BAU'),\n",
       "  Text(1, 0, 'BAU_10'),\n",
       "  Text(2, 0, 'BAU_15'),\n",
       "  Text(3, 0, 'BAU_5'),\n",
       "  Text(4, 0, 'BAU_F'),\n",
       "  Text(5, 0, 'BAU_m5'),\n",
       "  Text(6, 0, 'BAU_m5_F'),\n",
       "  Text(7, 0, 'BAUwGTR'),\n",
       "  Text(8, 0, 'BAUwT'),\n",
       "  Text(9, 0, 'BAUwT_10'),\n",
       "  Text(10, 0, 'BAUwT_15'),\n",
       "  Text(11, 0, 'BAUwT_15_B'),\n",
       "  Text(12, 0, 'BAUwT_30'),\n",
       "  Text(13, 0, 'BAUwT_30_B'),\n",
       "  Text(14, 0, 'BAUwT_5'),\n",
       "  Text(15, 0, 'BAUwT_5_B'),\n",
       "  Text(16, 0, 'BAUwT_B'),\n",
       "  Text(17, 0, 'BAUwT_F'),\n",
       "  Text(18, 0, 'BAUwT_GTR'),\n",
       "  Text(19, 0, 'BAUwT_GTR_B'),\n",
       "  Text(20, 0, 'BAUwT_m5'),\n",
       "  Text(21, 0, 'BAUwT_m5_F'),\n",
       "  Text(22, 0, 'BAUwoT'),\n",
       "  Text(23, 0, 'BAUwoT_10'),\n",
       "  Text(24, 0, 'BAUwoT_m20'),\n",
       "  Text(25, 0, 'BAUwoT_m20_F'),\n",
       "  Text(26, 0, 'CCF_1'),\n",
       "  Text(27, 0, 'CCF_2'),\n",
       "  Text(28, 0, 'CCF_3'),\n",
       "  Text(29, 0, 'CCF_4'),\n",
       "  Text(30, 0, 'SA'),\n",
       "  Text(31, 0, 'BAU_30')])"
      ]
     },
     "execution_count": 40,
     "metadata": {},
     "output_type": "execute_result"
    }
   ],
   "source": [
    "plt.bar(range(len(regimeAmounts)), list(regimeAmounts.values()), align='center')\n",
    "plt.xticks(range(len(regimeAmounts)), list(regimeAmounts.keys()),rotation=\"vertical\")"
   ]
  },
  {
   "cell_type": "markdown",
   "metadata": {},
   "source": [
    "## Export data as csv\n",
    "\n",
    "- <b>Solution_alldata</b> contains the optimal regime per stand AND the timely development of indicator values plus all other input columns (represented_are_by_NFIplot, region, NUTS2)\n",
    "- <b>Solution</b> contains only the selected optimal regime and its share (if multiple regimes per stand are selected)\n"
   ]
  },
  {
   "cell_type": "code",
   "execution_count": 41,
   "metadata": {},
   "outputs": [],
   "source": [
    "try:\n",
    "    os.mkdir(\"results\")\n",
    "except FileExistsError:\n",
    "    pass\n",
    "b = []\n",
    "c = []\n",
    "for key in mfo.regimesDecision.keys():\n",
    "    if mfo.regimesDecision[key].solution_value() > 0:\n",
    "        b = b+ [(key[0],x*5+2016, key[1]) for x in range(0,21)]\n",
    "        c = c+ [(key[0],key[1],mfo.regimesDecision[key].solution_value())]\n",
    "data2b = mfo.data.iloc[mfo.data.index.isin(b)]\n",
    "data2b.to_csv(\"./results/solution_alldata_\"+scenario+\"_\"+RCP+\"_\"+extension+\".csv\")\n",
    "c1 = pd.DataFrame(c)\n",
    "c1.to_csv(\"./results/solution_\"+scenario+\"_\"+RCP+\"_\"+extension+\".csv\")"
   ]
  },
  {
   "cell_type": "markdown",
   "metadata": {},
   "source": [
    "## Export objective ranges "
   ]
  },
  {
   "cell_type": "markdown",
   "metadata": {},
   "source": [
    "Save as json file"
   ]
  },
  {
   "cell_type": "code",
   "execution_count": 42,
   "metadata": {},
   "outputs": [],
   "source": [
    "import json\n",
    "mfo.objectiveRanges\n",
    "\n",
    "with open('./results/objectiveRanges_'+scenario+'_'+RCP+'_'+extension+'.json', 'w') as json_file:\n",
    "  json.dump(mfo.objectiveRanges, json_file)"
   ]
  },
  {
   "cell_type": "markdown",
   "metadata": {},
   "source": [
    "Save as CSV."
   ]
  },
  {
   "cell_type": "code",
   "execution_count": 43,
   "metadata": {},
   "outputs": [],
   "source": [
    "df = pd.read_json('./results/objectiveRanges_'+scenario+'_'+RCP+'_'+extension+'.json')\n",
    "\n",
    "df.to_csv('./results/objectiveRanges_'+scenario+'_'+RCP+'_'+extension+'.csv')"
   ]
  },
  {
   "cell_type": "markdown",
   "metadata": {},
   "source": [
    "## Export objective values\n",
    "The optimal solution for each objective."
   ]
  },
  {
   "cell_type": "code",
   "execution_count": 44,
   "metadata": {},
   "outputs": [],
   "source": [
    "with open(\"./results/objectiveValues_\"+scenario+'_'+RCP+'_'+extension+\".csv\",\"w\") as file: \n",
    "    delim = \"\" \n",
    "    for objName in mfo.objectiveTypes.keys(): \n",
    "        file.write(delim+objName) \n",
    "        delim = \",\" \n",
    "    file.write(\"\\n\") \n",
    "    delim = \"\" \n",
    "    for objName in mfo.objectiveTypes.keys(): \n",
    "        file.write(delim+str(mfo.objective[objName].solution_value())) \n",
    "        delim = \",\" \n",
    "    file.write(\"\\n\")"
   ]
  },
  {
   "cell_type": "code",
   "execution_count": null,
   "metadata": {},
   "outputs": [],
   "source": []
  }
 ],
 "metadata": {
  "kernelspec": {
   "display_name": "Python 3",
   "language": "python",
   "name": "python3"
  },
  "language_info": {
   "codemirror_mode": {
    "name": "ipython",
    "version": 3
   },
   "file_extension": ".py",
   "mimetype": "text/x-python",
   "name": "python",
   "nbconvert_exporter": "python",
   "pygments_lexer": "ipython3",
   "version": "3.9.1"
  }
 },
 "nbformat": 4,
 "nbformat_minor": 2
}
