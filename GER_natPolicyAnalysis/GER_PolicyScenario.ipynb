{
 "cells": [
  {
   "cell_type": "markdown",
   "metadata": {},
   "source": [
    "# MultiForest optimization notebook\n",
    "\n",
    "## GERMANY - national policy scenario optimization"
   ]
  },
  {
   "cell_type": "markdown",
   "metadata": {},
   "source": [
    "Above the code cells, there are short instructions how the users can modify the codes in the cells.<br>\n",
    "If there are no instructions, no changes should be needed for the cell by default.\n",
    "\n",
    "A detailed description is provided in the <b>README.md</b>.\n",
    "\n",
    "## Basic definitions\n",
    "Simulated forest data - name and climate scenario"
   ]
  },
  {
   "cell_type": "code",
   "execution_count": 1,
   "metadata": {},
   "outputs": [],
   "source": [
    "RCP = \"RCP0\" # no climate change"
   ]
  },
  {
   "cell_type": "markdown",
   "metadata": {},
   "source": [
    "Specify policy scenario:\n",
    "\n",
    "- \"FS\" -  National Forest Strategy\n",
    "- \"BDS\" - Biodiversity Strategy\n",
    "- \"BES\" - Bioeconomy Strategy"
   ]
  },
  {
   "cell_type": "code",
   "execution_count": 2,
   "metadata": {},
   "outputs": [],
   "source": [
    "scenario =\"BES\""
   ]
  },
  {
   "cell_type": "markdown",
   "metadata": {},
   "source": [
    "## Read the data"
   ]
  },
  {
   "cell_type": "code",
   "execution_count": 3,
   "metadata": {},
   "outputs": [],
   "source": [
    "import wget\n",
    "import os\n",
    "import numpy as np\n",
    "import pandas as pd\n",
    "import sys"
   ]
  },
  {
   "cell_type": "code",
   "execution_count": 4,
   "metadata": {
    "scrolled": true
   },
   "outputs": [],
   "source": [
    "module_path = os.path.abspath(os.path.join('..'))\n",
    "if module_path not in sys.path:\n",
    "    sys.path.append(module_path+\"/py_class\")\n",
    "\n",
    "import multiFunctionalOptimization as MFO"
   ]
  },
  {
   "cell_type": "code",
   "execution_count": 5,
   "metadata": {},
   "outputs": [
    {
     "data": {
      "text/plain": [
       "<module 'multiFunctionalOptimization' from '/home/ubuntu/workspace/mf_optimization_demo/py_class/multiFunctionalOptimization.py'>"
      ]
     },
     "execution_count": 5,
     "metadata": {},
     "output_type": "execute_result"
    }
   ],
   "source": [
    "from importlib import reload\n",
    "reload(MFO)"
   ]
  },
  {
   "cell_type": "code",
   "execution_count": 7,
   "metadata": {},
   "outputs": [
    {
     "data": {
      "text/plain": [
       "'Using CLP'"
      ]
     },
     "metadata": {},
     "output_type": "display_data"
    }
   ],
   "source": [
    "mfo = MFO.MultiFunctionalOptimization()"
   ]
  },
  {
   "cell_type": "code",
   "execution_count": 8,
   "metadata": {},
   "outputs": [
    {
     "data": {
      "text/plain": [
       "'rslt_RCP0_Bavaria_Germany_pause_2_V1.zip'"
      ]
     },
     "execution_count": 8,
     "metadata": {},
     "output_type": "execute_result"
    }
   ],
   "source": [
    "filename = \"rslt_\"+RCP+\"_Bavaria_Germany_pause_2_V1.zip\" # test data for Bavaria with no CC\n",
    "filename"
   ]
  },
  {
   "cell_type": "code",
   "execution_count": 9,
   "metadata": {},
   "outputs": [
    {
     "data": {
      "text/plain": [
       "'rslt_RCP0_Bavaria_Germany_pause_2_V1.zip'"
      ]
     },
     "execution_count": 9,
     "metadata": {},
     "output_type": "execute_result"
    }
   ],
   "source": [
    "filename"
   ]
  },
  {
   "cell_type": "code",
   "execution_count": 10,
   "metadata": {},
   "outputs": [],
   "source": [
    "if not filename in os.listdir(\".\"):\n",
    "    wget.download(\"https://syncandshare.lrz.de/download/MktBZ3hBbzR2UnhwcWk4YXYxcVFj/Data/\"+filename)"
   ]
  },
  {
   "cell_type": "code",
   "execution_count": 44,
   "metadata": {},
   "outputs": [
    {
     "data": {
      "text/plain": [
       "'sample size 745/3725(20%)'"
      ]
     },
     "metadata": {},
     "output_type": "display_data"
    },
    {
     "name": "stdout",
     "output_type": "stream",
     "text": [
      "CPU times: user 3 s, sys: 1.17 s, total: 4.17 s\n",
      "Wall time: 4.17 s\n"
     ]
    }
   ],
   "source": [
    "%%time\n",
    "mfo.readData(filename,\n",
    "             sampleRatio=0.2 #If no sample ratio given, the ratio is assumed to be 1\n",
    "                             #0.2 means 20% of the data\n",
    "            ) "
   ]
  },
  {
   "cell_type": "code",
   "execution_count": 45,
   "metadata": {},
   "outputs": [
    {
     "data": {
      "text/plain": [
       "Index(['id', 'regime', 'year', 'ecoregion', 'V_strat', 'V_strat_reg',\n",
       "       'Ve_strat', 'Vm_strat', 'iV_strat', 'pct_coni', 'pct_reg_coni',\n",
       "       'pct_deci', 'pct_reg_deci', 'spruce_pct', 'spruce_reg_pct', 'fir_pct',\n",
       "       'fir_reg_pct', 'pine_pct', 'pine_reg_pct', 'larch_pct', 'larch_reg_pct',\n",
       "       'beech_pct', 'beech_reg_pct', 'oak_pct', 'oak_reg_pct',\n",
       "       'douglasfir_pct', 'douglasfir_reg_pct', 'hardbrl_pct',\n",
       "       'hardbrl_reg_pct', 'softbrl_pct', 'softbrl_reg_pct', 'spi', 'spi_reg',\n",
       "       'maxh', 'maxh_reg', 'spint', 'freq_h_0_50', 'freq_h_50_80',\n",
       "       'freq_h_80_100', 'cntlayers', 'shan_species', 'shan_species_reg',\n",
       "       'shan_height', 'volHa_dbhGR10', 'volHa_dbhGR20', 'volHa_dbhGR30',\n",
       "       'volHa_dbhGR40', 'volHa_dbhGR50', 'volHa_dbhGR60', 'volHa_dead_dbhGR30',\n",
       "       'volHa_dead_dbhGR40', 'volHa_dead_dbhGR50', 'volHa_dead_dbhGR60',\n",
       "       'sawntimber', 'industrywood', 'yieldloss', 'remaininstand',\n",
       "       'represented_area_by_NFIplot', 'region', 'NUTS2', 'clear_cut',\n",
       "       'protected', 'pnv_beech', 'pnv_spruce', 'pnv_pine', 'pnv_fir',\n",
       "       'pnv_oak', 'pnv_hardbrl', 'landtenure', 'ffh', 'V (gross harvest)',\n",
       "       'CSagbDeadMerchWood', 'CFagbHarvestResidToDeadWood', 'V (remain)',\n",
       "       'stormBBRisk', 'Biodiversity', 'RandA.ASP1.Diversity',\n",
       "       'RandA.ASP2.Deadwood', 'RandA.ASP3.DensityIntensity',\n",
       "       'RecreationAndAesthetics', 'V Sawlogs', 'V PulpWood', 'V RemainWood',\n",
       "       'V HarvestResidues', 'CFpulpWoodToEnergy', 'CFsawlogsToEnergy',\n",
       "       'CSagbLivingTotal', 'CSbgbLivingTotal', 'BalanceCarbonTotalYear',\n",
       "       'covered_area_per', 'relative_Volume', 'fuelwood'],\n",
       "      dtype='object')"
      ]
     },
     "execution_count": 45,
     "metadata": {},
     "output_type": "execute_result"
    }
   ],
   "source": [
    "mfo.data.columns"
   ]
  },
  {
   "cell_type": "markdown",
   "metadata": {},
   "source": [
    "## Create new columns"
   ]
  },
  {
   "cell_type": "code",
   "execution_count": 46,
   "metadata": {},
   "outputs": [],
   "source": [
    "mfo.data[\"HarvestedVolume\"] = (mfo.data[\"Ve_strat\"].values)*mfo.data[\"represented_area_by_NFIplot\"].values"
   ]
  },
  {
   "cell_type": "code",
   "execution_count": 47,
   "metadata": {},
   "outputs": [],
   "source": [
    "mfo.data[\"CarbonBalance\"] = (mfo.data[\"BalanceCarbonTotalYear\"].values)*mfo.data[\"represented_area_by_NFIplot\"].values"
   ]
  },
  {
   "cell_type": "code",
   "execution_count": 48,
   "metadata": {},
   "outputs": [],
   "source": [
    "mfo.data[\"AnnualIncrement\"] = mfo.data[\"iV_strat\"].values*mfo.data[\"represented_area_by_NFIplot\"].values"
   ]
  },
  {
   "cell_type": "code",
   "execution_count": 49,
   "metadata": {},
   "outputs": [],
   "source": [
    "mfo.data[\"speciesProfileIndex\"] = mfo.data[\"spi\"].values "
   ]
  },
  {
   "cell_type": "code",
   "execution_count": 50,
   "metadata": {},
   "outputs": [],
   "source": [
    "mfo.data[\"VolumeLargeTrees\"] = mfo.data[\"volHa_dbhGR60\"].values*mfo.data[\"represented_area_by_NFIplot\"].values"
   ]
  },
  {
   "cell_type": "code",
   "execution_count": 51,
   "metadata": {},
   "outputs": [],
   "source": [
    "mfo.data[\"speciesInterminglingIndex\"] = mfo.data[\"spint\"].values"
   ]
  },
  {
   "cell_type": "code",
   "execution_count": 52,
   "metadata": {},
   "outputs": [],
   "source": [
    "mfo.data[\"ShannonIndexSpecies\"] = mfo.data[\"shan_species\"].values"
   ]
  },
  {
   "cell_type": "code",
   "execution_count": 53,
   "metadata": {},
   "outputs": [],
   "source": [
    "mfo.data[\"ShannonIndexTreeHeight\"] = mfo.data[\"shan_height\"].values"
   ]
  },
  {
   "cell_type": "code",
   "execution_count": 54,
   "metadata": {},
   "outputs": [],
   "source": [
    "mfo.data[\"standingVolume\"] = mfo.data[\"V_strat\"]*mfo.data[\"represented_area_by_NFIplot\"].values"
   ]
  },
  {
   "cell_type": "code",
   "execution_count": 55,
   "metadata": {},
   "outputs": [],
   "source": [
    "mfo.data[\"noNaturalSpecies\"] = mfo.data.apply(lambda x: sum([x[name] for name in mfo.data.columns if \"pnv\" in name]),axis=1)"
   ]
  },
  {
   "cell_type": "code",
   "execution_count": 56,
   "metadata": {},
   "outputs": [],
   "source": [
    "mfo.data[\"stateForest\"] = mfo.data['landtenure'].apply(lambda x: 1 if x < 1000 else 0)"
   ]
  },
  {
   "cell_type": "code",
   "execution_count": 57,
   "metadata": {},
   "outputs": [],
   "source": [
    "mfo.data[\"SawTimber\"] = mfo.data[\"V Sawlogs\"].values*mfo.data[\"represented_area_by_NFIplot\"].values"
   ]
  },
  {
   "cell_type": "code",
   "execution_count": 58,
   "metadata": {},
   "outputs": [],
   "source": [
    "mfo.data[\"PulpWood\"] =mfo.data[\"V PulpWood\"].values*mfo.data[\"represented_area_by_NFIplot\"].values"
   ]
  },
  {
   "cell_type": "code",
   "execution_count": 59,
   "metadata": {},
   "outputs": [],
   "source": [
    "mfo.data[\"ForestResidues\"] =mfo.data[\"V HarvestResidues\"].values*mfo.data[\"represented_area_by_NFIplot\"].values"
   ]
  },
  {
   "cell_type": "code",
   "execution_count": 60,
   "metadata": {},
   "outputs": [],
   "source": [
    "mfo.data[\"Fuelwood\"] = mfo.data[\"fuelwood\"].values*mfo.data[\"represented_area_by_NFIplot\"].values"
   ]
  },
  {
   "cell_type": "code",
   "execution_count": 61,
   "metadata": {},
   "outputs": [],
   "source": [
    "mfo.data[\"energyProds\"] =mfo.data[\"CFsawlogsToEnergy\"].values*mfo.data[\"represented_area_by_NFIplot\"].values"
   ]
  },
  {
   "cell_type": "code",
   "execution_count": 62,
   "metadata": {},
   "outputs": [],
   "source": [
    "mfo.data[\"TotalLivingCarbon\"] = (mfo.data[\"CSagbLivingTotal\"].values + mfo.data[\"CSbgbLivingTotal\"].values )*mfo.data[\"represented_area_by_NFIplot\"].values"
   ]
  },
  {
   "cell_type": "code",
   "execution_count": 63,
   "metadata": {},
   "outputs": [
    {
     "name": "stderr",
     "output_type": "stream",
     "text": [
      "<ipython-input-63-a5a52783099c>:1: RuntimeWarning: invalid value encountered in true_divide\n",
      "  mfo.data[\"pnvDeviation\"] =((mfo.data[\"pnv_spruce\"].values*100/mfo.data[\"noNaturalSpecies\"].values - mfo.data[\"spruce_pct\"].values)**2 +\n",
      "<ipython-input-63-a5a52783099c>:2: RuntimeWarning: invalid value encountered in true_divide\n",
      "  (mfo.data[\"pnv_beech\"].values*100/mfo.data[\"noNaturalSpecies\"].values - mfo.data[\"beech_pct\"].values)**2 +\n",
      "<ipython-input-63-a5a52783099c>:3: RuntimeWarning: invalid value encountered in true_divide\n",
      "  (mfo.data[\"pnv_pine\"].values*100/mfo.data[\"noNaturalSpecies\"].values - mfo.data[\"pine_pct\"].values)**2+\n",
      "<ipython-input-63-a5a52783099c>:4: RuntimeWarning: invalid value encountered in true_divide\n",
      "  (mfo.data[\"pnv_fir\"].values*100/mfo.data[\"noNaturalSpecies\"].values - mfo.data[\"fir_pct\"].values)**2+\n",
      "<ipython-input-63-a5a52783099c>:5: RuntimeWarning: invalid value encountered in true_divide\n",
      "  (mfo.data[\"pnv_oak\"].values*100/mfo.data[\"noNaturalSpecies\"].values - mfo.data[\"oak_pct\"].values)**2)\n"
     ]
    }
   ],
   "source": [
    "mfo.data[\"pnvDeviation\"] =((mfo.data[\"pnv_spruce\"].values*100/mfo.data[\"noNaturalSpecies\"].values - mfo.data[\"spruce_pct\"].values)**2 + \n",
    "                      (mfo.data[\"pnv_beech\"].values*100/mfo.data[\"noNaturalSpecies\"].values - mfo.data[\"beech_pct\"].values)**2 +\n",
    "                      (mfo.data[\"pnv_pine\"].values*100/mfo.data[\"noNaturalSpecies\"].values - mfo.data[\"pine_pct\"].values)**2+\n",
    "                      (mfo.data[\"pnv_fir\"].values*100/mfo.data[\"noNaturalSpecies\"].values - mfo.data[\"fir_pct\"].values)**2+\n",
    "                      (mfo.data[\"pnv_oak\"].values*100/mfo.data[\"noNaturalSpecies\"].values - mfo.data[\"oak_pct\"].values)**2)"
   ]
  },
  {
   "cell_type": "code",
   "execution_count": 64,
   "metadata": {},
   "outputs": [],
   "source": [
    "mfo.data[\"pnvDeviation\"].replace(np.nan,0,inplace=True)"
   ]
  },
  {
   "cell_type": "code",
   "execution_count": 65,
   "metadata": {},
   "outputs": [
    {
     "data": {
      "text/plain": [
       "1506       2678.1940\n",
       "1507       1518.9525\n",
       "1508       1297.2125\n",
       "1509       1332.3605\n",
       "1510        990.3757\n",
       "             ...    \n",
       "1120920       0.0000\n",
       "1120921       0.0000\n",
       "1120922       0.0000\n",
       "1120923       0.0000\n",
       "1120924       0.0000\n",
       "Name: pnvDeviation, Length: 224245, dtype: float64"
      ]
     },
     "execution_count": 65,
     "metadata": {},
     "output_type": "execute_result"
    }
   ],
   "source": [
    "mfo.data[\"pnvDeviation\"]"
   ]
  },
  {
   "cell_type": "code",
   "execution_count": 66,
   "metadata": {},
   "outputs": [
    {
     "data": {
      "text/plain": [
       "BAU_0            14900\n",
       "CCF_P3_p1        14900\n",
       "BAU_1            14900\n",
       "BAU_RR_p1        14900\n",
       "CCF_P1           14900\n",
       "CCF_P2           14900\n",
       "BAU_0_p2         14900\n",
       "CCF_STATE        14900\n",
       "BAU_RR_p2        14900\n",
       "NOT              14900\n",
       "CCF_P3_p2        14900\n",
       "CCF_P3           14900\n",
       "BAU_RR           14900\n",
       "BAU_FS1          14900\n",
       "BAU_0_p1         14900\n",
       "initial_state      745\n",
       "Name: regime, dtype: int64"
      ]
     },
     "execution_count": 66,
     "metadata": {},
     "output_type": "execute_result"
    }
   ],
   "source": [
    "mfo.data[mfo.regimesEnu].value_counts()"
   ]
  },
  {
   "cell_type": "markdown",
   "metadata": {},
   "source": [
    "### add column to restrict SA¶"
   ]
  },
  {
   "cell_type": "code",
   "execution_count": 67,
   "metadata": {},
   "outputs": [],
   "source": [
    "regimeClassNames = {\"regimeClass0name\":\"CCF\",\"regimeClass1name\":\"SA\"}\n",
    "regimeClassregimes = {\"regimeClass0regimes\":[\"CCF_P3 \",\"CCF_P3_p1\",\"CCF_P3_p2\"],\"regimeClass1regimes\":[\"NOT\"]}"
   ]
  },
  {
   "cell_type": "code",
   "execution_count": 68,
   "metadata": {},
   "outputs": [],
   "source": [
    "mfo.addRegimeClassifications(regimeClassNames = regimeClassNames,regimeClassregimes=regimeClassregimes)"
   ]
  },
  {
   "cell_type": "code",
   "execution_count": 69,
   "metadata": {},
   "outputs": [],
   "source": [
    "mfo.finalizeData(initialRegime=\"initial_state\")"
   ]
  },
  {
   "cell_type": "code",
   "execution_count": 70,
   "metadata": {},
   "outputs": [
    {
     "data": {
      "text/html": [
       "<div>\n",
       "<style scoped>\n",
       "    .dataframe tbody tr th:only-of-type {\n",
       "        vertical-align: middle;\n",
       "    }\n",
       "\n",
       "    .dataframe tbody tr th {\n",
       "        vertical-align: top;\n",
       "    }\n",
       "\n",
       "    .dataframe thead th {\n",
       "        text-align: right;\n",
       "    }\n",
       "</style>\n",
       "<table border=\"1\" class=\"dataframe\">\n",
       "  <thead>\n",
       "    <tr style=\"text-align: right;\">\n",
       "      <th></th>\n",
       "      <th></th>\n",
       "      <th></th>\n",
       "      <th>ecoregion</th>\n",
       "      <th>V_strat</th>\n",
       "      <th>V_strat_reg</th>\n",
       "      <th>Ve_strat</th>\n",
       "      <th>Vm_strat</th>\n",
       "      <th>iV_strat</th>\n",
       "      <th>pct_coni</th>\n",
       "      <th>pct_reg_coni</th>\n",
       "      <th>pct_deci</th>\n",
       "      <th>pct_reg_deci</th>\n",
       "      <th>...</th>\n",
       "      <th>stateForest</th>\n",
       "      <th>SawTimber</th>\n",
       "      <th>PulpWood</th>\n",
       "      <th>ForestResidues</th>\n",
       "      <th>Fuelwood</th>\n",
       "      <th>energyProds</th>\n",
       "      <th>TotalLivingCarbon</th>\n",
       "      <th>pnvDeviation</th>\n",
       "      <th>CCF_forests</th>\n",
       "      <th>SA_forests</th>\n",
       "    </tr>\n",
       "    <tr>\n",
       "      <th>id</th>\n",
       "      <th>year</th>\n",
       "      <th>regime</th>\n",
       "      <th></th>\n",
       "      <th></th>\n",
       "      <th></th>\n",
       "      <th></th>\n",
       "      <th></th>\n",
       "      <th></th>\n",
       "      <th></th>\n",
       "      <th></th>\n",
       "      <th></th>\n",
       "      <th></th>\n",
       "      <th></th>\n",
       "      <th></th>\n",
       "      <th></th>\n",
       "      <th></th>\n",
       "      <th></th>\n",
       "      <th></th>\n",
       "      <th></th>\n",
       "      <th></th>\n",
       "      <th></th>\n",
       "      <th></th>\n",
       "      <th></th>\n",
       "    </tr>\n",
       "  </thead>\n",
       "  <tbody>\n",
       "    <tr>\n",
       "      <th>6</th>\n",
       "      <th>2012</th>\n",
       "      <th>initial_state</th>\n",
       "      <td>9.6.2</td>\n",
       "      <td>138.631058</td>\n",
       "      <td>0.0</td>\n",
       "      <td>0.0</td>\n",
       "      <td>0.0</td>\n",
       "      <td>138.631058</td>\n",
       "      <td>36.0</td>\n",
       "      <td>0.0</td>\n",
       "      <td>64.0</td>\n",
       "      <td>0.0</td>\n",
       "      <td>...</td>\n",
       "      <td>1</td>\n",
       "      <td>0.0</td>\n",
       "      <td>0.0</td>\n",
       "      <td>0.0</td>\n",
       "      <td>0.0</td>\n",
       "      <td>0.0</td>\n",
       "      <td>53294.405274</td>\n",
       "      <td>3532.1936</td>\n",
       "      <td>False</td>\n",
       "      <td>False</td>\n",
       "    </tr>\n",
       "    <tr>\n",
       "      <th>10</th>\n",
       "      <th>2012</th>\n",
       "      <th>initial_state</th>\n",
       "      <td>9.15.5</td>\n",
       "      <td>228.104820</td>\n",
       "      <td>0.0</td>\n",
       "      <td>0.0</td>\n",
       "      <td>0.0</td>\n",
       "      <td>228.104820</td>\n",
       "      <td>7.0</td>\n",
       "      <td>0.0</td>\n",
       "      <td>93.0</td>\n",
       "      <td>0.0</td>\n",
       "      <td>...</td>\n",
       "      <td>1</td>\n",
       "      <td>0.0</td>\n",
       "      <td>0.0</td>\n",
       "      <td>0.0</td>\n",
       "      <td>0.0</td>\n",
       "      <td>0.0</td>\n",
       "      <td>45645.839112</td>\n",
       "      <td>2788.2760</td>\n",
       "      <td>False</td>\n",
       "      <td>False</td>\n",
       "    </tr>\n",
       "    <tr>\n",
       "      <th>14</th>\n",
       "      <th>2012</th>\n",
       "      <th>initial_state</th>\n",
       "      <td>9.5.2</td>\n",
       "      <td>182.529020</td>\n",
       "      <td>0.0</td>\n",
       "      <td>0.0</td>\n",
       "      <td>0.0</td>\n",
       "      <td>182.529020</td>\n",
       "      <td>5.0</td>\n",
       "      <td>0.0</td>\n",
       "      <td>95.0</td>\n",
       "      <td>0.0</td>\n",
       "      <td>...</td>\n",
       "      <td>1</td>\n",
       "      <td>0.0</td>\n",
       "      <td>0.0</td>\n",
       "      <td>0.0</td>\n",
       "      <td>0.0</td>\n",
       "      <td>0.0</td>\n",
       "      <td>36610.808570</td>\n",
       "      <td>2207.9282</td>\n",
       "      <td>False</td>\n",
       "      <td>False</td>\n",
       "    </tr>\n",
       "    <tr>\n",
       "      <th>18</th>\n",
       "      <th>2012</th>\n",
       "      <th>initial_state</th>\n",
       "      <td>9.5.8</td>\n",
       "      <td>395.745146</td>\n",
       "      <td>0.0</td>\n",
       "      <td>0.0</td>\n",
       "      <td>0.0</td>\n",
       "      <td>395.745146</td>\n",
       "      <td>28.0</td>\n",
       "      <td>0.0</td>\n",
       "      <td>72.0</td>\n",
       "      <td>0.0</td>\n",
       "      <td>...</td>\n",
       "      <td>1</td>\n",
       "      <td>0.0</td>\n",
       "      <td>0.0</td>\n",
       "      <td>0.0</td>\n",
       "      <td>0.0</td>\n",
       "      <td>0.0</td>\n",
       "      <td>154026.328969</td>\n",
       "      <td>5271.9176</td>\n",
       "      <td>False</td>\n",
       "      <td>False</td>\n",
       "    </tr>\n",
       "    <tr>\n",
       "      <th>20</th>\n",
       "      <th>2012</th>\n",
       "      <th>initial_state</th>\n",
       "      <td>9.6.3</td>\n",
       "      <td>185.863275</td>\n",
       "      <td>0.0</td>\n",
       "      <td>0.0</td>\n",
       "      <td>0.0</td>\n",
       "      <td>185.863275</td>\n",
       "      <td>0.0</td>\n",
       "      <td>0.0</td>\n",
       "      <td>100.0</td>\n",
       "      <td>0.0</td>\n",
       "      <td>...</td>\n",
       "      <td>1</td>\n",
       "      <td>0.0</td>\n",
       "      <td>0.0</td>\n",
       "      <td>0.0</td>\n",
       "      <td>0.0</td>\n",
       "      <td>0.0</td>\n",
       "      <td>37487.865513</td>\n",
       "      <td>10000.0000</td>\n",
       "      <td>False</td>\n",
       "      <td>False</td>\n",
       "    </tr>\n",
       "  </tbody>\n",
       "</table>\n",
       "<p>5 rows × 109 columns</p>\n",
       "</div>"
      ],
      "text/plain": [
       "                      ecoregion     V_strat  V_strat_reg  Ve_strat  Vm_strat  \\\n",
       "id year regime                                                                 \n",
       "6  2012 initial_state     9.6.2  138.631058          0.0       0.0       0.0   \n",
       "10 2012 initial_state    9.15.5  228.104820          0.0       0.0       0.0   \n",
       "14 2012 initial_state     9.5.2  182.529020          0.0       0.0       0.0   \n",
       "18 2012 initial_state     9.5.8  395.745146          0.0       0.0       0.0   \n",
       "20 2012 initial_state     9.6.3  185.863275          0.0       0.0       0.0   \n",
       "\n",
       "                         iV_strat  pct_coni  pct_reg_coni  pct_deci  \\\n",
       "id year regime                                                        \n",
       "6  2012 initial_state  138.631058      36.0           0.0      64.0   \n",
       "10 2012 initial_state  228.104820       7.0           0.0      93.0   \n",
       "14 2012 initial_state  182.529020       5.0           0.0      95.0   \n",
       "18 2012 initial_state  395.745146      28.0           0.0      72.0   \n",
       "20 2012 initial_state  185.863275       0.0           0.0     100.0   \n",
       "\n",
       "                       pct_reg_deci  ...  stateForest  SawTimber  PulpWood  \\\n",
       "id year regime                       ...                                     \n",
       "6  2012 initial_state           0.0  ...            1        0.0       0.0   \n",
       "10 2012 initial_state           0.0  ...            1        0.0       0.0   \n",
       "14 2012 initial_state           0.0  ...            1        0.0       0.0   \n",
       "18 2012 initial_state           0.0  ...            1        0.0       0.0   \n",
       "20 2012 initial_state           0.0  ...            1        0.0       0.0   \n",
       "\n",
       "                       ForestResidues  Fuelwood  energyProds  \\\n",
       "id year regime                                                 \n",
       "6  2012 initial_state             0.0       0.0          0.0   \n",
       "10 2012 initial_state             0.0       0.0          0.0   \n",
       "14 2012 initial_state             0.0       0.0          0.0   \n",
       "18 2012 initial_state             0.0       0.0          0.0   \n",
       "20 2012 initial_state             0.0       0.0          0.0   \n",
       "\n",
       "                       TotalLivingCarbon  pnvDeviation  CCF_forests  \\\n",
       "id year regime                                                        \n",
       "6  2012 initial_state       53294.405274     3532.1936        False   \n",
       "10 2012 initial_state       45645.839112     2788.2760        False   \n",
       "14 2012 initial_state       36610.808570     2207.9282        False   \n",
       "18 2012 initial_state      154026.328969     5271.9176        False   \n",
       "20 2012 initial_state       37487.865513    10000.0000        False   \n",
       "\n",
       "                       SA_forests  \n",
       "id year regime                     \n",
       "6  2012 initial_state       False  \n",
       "10 2012 initial_state       False  \n",
       "14 2012 initial_state       False  \n",
       "18 2012 initial_state       False  \n",
       "20 2012 initial_state       False  \n",
       "\n",
       "[5 rows x 109 columns]"
      ]
     },
     "execution_count": 70,
     "metadata": {},
     "output_type": "execute_result"
    }
   ],
   "source": [
    "mfo.initialData.head()"
   ]
  },
  {
   "cell_type": "code",
   "execution_count": 71,
   "metadata": {},
   "outputs": [
    {
     "data": {
      "text/html": [
       "<div>\n",
       "<style scoped>\n",
       "    .dataframe tbody tr th:only-of-type {\n",
       "        vertical-align: middle;\n",
       "    }\n",
       "\n",
       "    .dataframe tbody tr th {\n",
       "        vertical-align: top;\n",
       "    }\n",
       "\n",
       "    .dataframe thead th {\n",
       "        text-align: right;\n",
       "    }\n",
       "</style>\n",
       "<table border=\"1\" class=\"dataframe\">\n",
       "  <thead>\n",
       "    <tr style=\"text-align: right;\">\n",
       "      <th></th>\n",
       "      <th></th>\n",
       "      <th></th>\n",
       "      <th>ecoregion</th>\n",
       "      <th>V_strat</th>\n",
       "      <th>V_strat_reg</th>\n",
       "      <th>Ve_strat</th>\n",
       "      <th>Vm_strat</th>\n",
       "      <th>iV_strat</th>\n",
       "      <th>pct_coni</th>\n",
       "      <th>pct_reg_coni</th>\n",
       "      <th>pct_deci</th>\n",
       "      <th>pct_reg_deci</th>\n",
       "      <th>...</th>\n",
       "      <th>Relative_relative_Volume</th>\n",
       "      <th>Relative_AnnualIncrement</th>\n",
       "      <th>Relative_speciesProfileIndex</th>\n",
       "      <th>Relative_VolumeLargeTrees</th>\n",
       "      <th>Relative_speciesInterminglingIndex</th>\n",
       "      <th>Relative_ShannonIndexSpecies</th>\n",
       "      <th>Relative_ShannonIndexTreeHeight</th>\n",
       "      <th>Relative_standingVolume</th>\n",
       "      <th>Relative_TotalLivingCarbon</th>\n",
       "      <th>Relative_pnvDeviation</th>\n",
       "    </tr>\n",
       "    <tr>\n",
       "      <th>id</th>\n",
       "      <th>year</th>\n",
       "      <th>regime</th>\n",
       "      <th></th>\n",
       "      <th></th>\n",
       "      <th></th>\n",
       "      <th></th>\n",
       "      <th></th>\n",
       "      <th></th>\n",
       "      <th></th>\n",
       "      <th></th>\n",
       "      <th></th>\n",
       "      <th></th>\n",
       "      <th></th>\n",
       "      <th></th>\n",
       "      <th></th>\n",
       "      <th></th>\n",
       "      <th></th>\n",
       "      <th></th>\n",
       "      <th></th>\n",
       "      <th></th>\n",
       "      <th></th>\n",
       "      <th></th>\n",
       "      <th></th>\n",
       "    </tr>\n",
       "  </thead>\n",
       "  <tbody>\n",
       "    <tr>\n",
       "      <th rowspan=\"5\" valign=\"top\">6</th>\n",
       "      <th rowspan=\"5\" valign=\"top\">2017</th>\n",
       "      <th>BAU_0</th>\n",
       "      <td>9.6.2</td>\n",
       "      <td>202.927642</td>\n",
       "      <td>0.614593</td>\n",
       "      <td>0.0</td>\n",
       "      <td>16.772962</td>\n",
       "      <td>81.069546</td>\n",
       "      <td>30.0</td>\n",
       "      <td>33.0</td>\n",
       "      <td>70.0</td>\n",
       "      <td>67.0</td>\n",
       "      <td>...</td>\n",
       "      <td>0.001342</td>\n",
       "      <td>0.000286</td>\n",
       "      <td>0.002338</td>\n",
       "      <td>0.0</td>\n",
       "      <td>0.002557</td>\n",
       "      <td>0.00262</td>\n",
       "      <td>0.005693</td>\n",
       "      <td>0.000715</td>\n",
       "      <td>0.000785</td>\n",
       "      <td>0.000421</td>\n",
       "    </tr>\n",
       "    <tr>\n",
       "      <th>BAU_0_p1</th>\n",
       "      <td>9.6.2</td>\n",
       "      <td>202.912150</td>\n",
       "      <td>0.588503</td>\n",
       "      <td>0.0</td>\n",
       "      <td>16.612431</td>\n",
       "      <td>80.893523</td>\n",
       "      <td>30.0</td>\n",
       "      <td>39.0</td>\n",
       "      <td>70.0</td>\n",
       "      <td>61.0</td>\n",
       "      <td>...</td>\n",
       "      <td>0.001342</td>\n",
       "      <td>0.000285</td>\n",
       "      <td>0.002346</td>\n",
       "      <td>0.0</td>\n",
       "      <td>0.002557</td>\n",
       "      <td>0.00262</td>\n",
       "      <td>0.005687</td>\n",
       "      <td>0.000715</td>\n",
       "      <td>0.000785</td>\n",
       "      <td>0.000420</td>\n",
       "    </tr>\n",
       "    <tr>\n",
       "      <th>BAU_0_p2</th>\n",
       "      <td>9.6.2</td>\n",
       "      <td>186.253553</td>\n",
       "      <td>0.992174</td>\n",
       "      <td>0.0</td>\n",
       "      <td>27.230879</td>\n",
       "      <td>74.853373</td>\n",
       "      <td>28.0</td>\n",
       "      <td>36.0</td>\n",
       "      <td>72.0</td>\n",
       "      <td>64.0</td>\n",
       "      <td>...</td>\n",
       "      <td>0.001342</td>\n",
       "      <td>0.000264</td>\n",
       "      <td>0.002333</td>\n",
       "      <td>0.0</td>\n",
       "      <td>0.002557</td>\n",
       "      <td>0.00262</td>\n",
       "      <td>0.005687</td>\n",
       "      <td>0.000656</td>\n",
       "      <td>0.000723</td>\n",
       "      <td>0.000363</td>\n",
       "    </tr>\n",
       "    <tr>\n",
       "      <th>BAU_1</th>\n",
       "      <td>9.6.2</td>\n",
       "      <td>203.502270</td>\n",
       "      <td>0.634451</td>\n",
       "      <td>0.0</td>\n",
       "      <td>16.233236</td>\n",
       "      <td>81.104448</td>\n",
       "      <td>31.0</td>\n",
       "      <td>45.0</td>\n",
       "      <td>69.0</td>\n",
       "      <td>55.0</td>\n",
       "      <td>...</td>\n",
       "      <td>0.001342</td>\n",
       "      <td>0.000286</td>\n",
       "      <td>0.002333</td>\n",
       "      <td>0.0</td>\n",
       "      <td>0.002557</td>\n",
       "      <td>0.00262</td>\n",
       "      <td>0.005683</td>\n",
       "      <td>0.000717</td>\n",
       "      <td>0.000786</td>\n",
       "      <td>0.000438</td>\n",
       "    </tr>\n",
       "    <tr>\n",
       "      <th>BAU_FS1</th>\n",
       "      <td>9.6.2</td>\n",
       "      <td>201.778571</td>\n",
       "      <td>0.645147</td>\n",
       "      <td>0.0</td>\n",
       "      <td>17.888440</td>\n",
       "      <td>81.035954</td>\n",
       "      <td>30.0</td>\n",
       "      <td>38.0</td>\n",
       "      <td>70.0</td>\n",
       "      <td>62.0</td>\n",
       "      <td>...</td>\n",
       "      <td>0.001342</td>\n",
       "      <td>0.000286</td>\n",
       "      <td>0.002338</td>\n",
       "      <td>0.0</td>\n",
       "      <td>0.002557</td>\n",
       "      <td>0.00262</td>\n",
       "      <td>0.005689</td>\n",
       "      <td>0.000711</td>\n",
       "      <td>0.000781</td>\n",
       "      <td>0.000418</td>\n",
       "    </tr>\n",
       "  </tbody>\n",
       "</table>\n",
       "<p>5 rows × 159 columns</p>\n",
       "</div>"
      ],
      "text/plain": [
       "                 ecoregion     V_strat  V_strat_reg  Ve_strat   Vm_strat  \\\n",
       "id year regime                                                             \n",
       "6  2017 BAU_0        9.6.2  202.927642     0.614593       0.0  16.772962   \n",
       "        BAU_0_p1     9.6.2  202.912150     0.588503       0.0  16.612431   \n",
       "        BAU_0_p2     9.6.2  186.253553     0.992174       0.0  27.230879   \n",
       "        BAU_1        9.6.2  203.502270     0.634451       0.0  16.233236   \n",
       "        BAU_FS1      9.6.2  201.778571     0.645147       0.0  17.888440   \n",
       "\n",
       "                   iV_strat  pct_coni  pct_reg_coni  pct_deci  pct_reg_deci  \\\n",
       "id year regime                                                                \n",
       "6  2017 BAU_0     81.069546      30.0          33.0      70.0          67.0   \n",
       "        BAU_0_p1  80.893523      30.0          39.0      70.0          61.0   \n",
       "        BAU_0_p2  74.853373      28.0          36.0      72.0          64.0   \n",
       "        BAU_1     81.104448      31.0          45.0      69.0          55.0   \n",
       "        BAU_FS1   81.035954      30.0          38.0      70.0          62.0   \n",
       "\n",
       "                  ...  Relative_relative_Volume  Relative_AnnualIncrement  \\\n",
       "id year regime    ...                                                       \n",
       "6  2017 BAU_0     ...                  0.001342                  0.000286   \n",
       "        BAU_0_p1  ...                  0.001342                  0.000285   \n",
       "        BAU_0_p2  ...                  0.001342                  0.000264   \n",
       "        BAU_1     ...                  0.001342                  0.000286   \n",
       "        BAU_FS1   ...                  0.001342                  0.000286   \n",
       "\n",
       "                  Relative_speciesProfileIndex  Relative_VolumeLargeTrees  \\\n",
       "id year regime                                                              \n",
       "6  2017 BAU_0                         0.002338                        0.0   \n",
       "        BAU_0_p1                      0.002346                        0.0   \n",
       "        BAU_0_p2                      0.002333                        0.0   \n",
       "        BAU_1                         0.002333                        0.0   \n",
       "        BAU_FS1                       0.002338                        0.0   \n",
       "\n",
       "                  Relative_speciesInterminglingIndex  \\\n",
       "id year regime                                         \n",
       "6  2017 BAU_0                               0.002557   \n",
       "        BAU_0_p1                            0.002557   \n",
       "        BAU_0_p2                            0.002557   \n",
       "        BAU_1                               0.002557   \n",
       "        BAU_FS1                             0.002557   \n",
       "\n",
       "                  Relative_ShannonIndexSpecies  \\\n",
       "id year regime                                   \n",
       "6  2017 BAU_0                          0.00262   \n",
       "        BAU_0_p1                       0.00262   \n",
       "        BAU_0_p2                       0.00262   \n",
       "        BAU_1                          0.00262   \n",
       "        BAU_FS1                        0.00262   \n",
       "\n",
       "                  Relative_ShannonIndexTreeHeight  Relative_standingVolume  \\\n",
       "id year regime                                                               \n",
       "6  2017 BAU_0                            0.005693                 0.000715   \n",
       "        BAU_0_p1                         0.005687                 0.000715   \n",
       "        BAU_0_p2                         0.005687                 0.000656   \n",
       "        BAU_1                            0.005683                 0.000717   \n",
       "        BAU_FS1                          0.005689                 0.000711   \n",
       "\n",
       "                  Relative_TotalLivingCarbon  Relative_pnvDeviation  \n",
       "id year regime                                                       \n",
       "6  2017 BAU_0                       0.000785               0.000421  \n",
       "        BAU_0_p1                    0.000785               0.000420  \n",
       "        BAU_0_p2                    0.000723               0.000363  \n",
       "        BAU_1                       0.000786               0.000438  \n",
       "        BAU_FS1                     0.000781               0.000418  \n",
       "\n",
       "[5 rows x 159 columns]"
      ]
     },
     "execution_count": 71,
     "metadata": {},
     "output_type": "execute_result"
    }
   ],
   "source": [
    "mfo.data.head()"
   ]
  },
  {
   "cell_type": "markdown",
   "metadata": {},
   "source": [
    "## Objectives"
   ]
  },
  {
   "cell_type": "markdown",
   "metadata": {},
   "source": [
    "### FS - Forest Strategy"
   ]
  },
  {
   "cell_type": "code",
   "execution_count": 72,
   "metadata": {},
   "outputs": [],
   "source": [
    "if scenario == 'FS':\n",
    "    \n",
    "    objectives_abs = {\n",
    "        \"HarvestedVolume\": [\"Sum of extracted volume (maximize, m3/ha) (4)\",\"HarvestedVolume\",\n",
    "                            \"max\",\"min\",\"areaWeightedAverage\"],\n",
    "        \"AnnualIncrement\": [\"Annual increment of standing volume (maximimze, m3/ha/year) (4)\",\"AnnualIncrement\",\n",
    "                            \"max\",\"min\",\"areaWeightedAverage\"],\n",
    "        \"CteStandingVolume\" : [\"Standing volume must be maintained ct. (4)\", \"Relative_standingVolume\",\n",
    "                             \"max\", \"minYearlyIncrease\", \"areaWeightedAverage\"],\n",
    "        \"EnergyWood\" : [\"Energy Wood for industry must be maintained ct. (3)\", \"energyProds\", \n",
    "                       \"max\", \"minYearlyIncrease\", \"sum\"],\n",
    "        \"totalCarbonBalance\" : [\"carbon balance must be constant or maximized (2)\", \"CarbonBalance\",\n",
    "                             \"max\", \"min\", \"sum\"]  \n",
    "    }\n",
    "    objectives_rel = {\n",
    "        \"speciesProfileIndex\": [\"Species profile index (Pretzsch) (maximize the mean) (2)\",\"speciesProfileIndex\",\n",
    "                             \"max\",\"average\",\"areaWeightedAverage\"],                           \n",
    "        \"ShannonIndexSpecies\": [\"Shannon index of species (maximize the mean) (2)\",\"ShannonIndexSpecies\",\n",
    "                            \"max\",\"average\",\"areaWeightedAverage\"],\n",
    "        \"RiskStormBB\" :[\"Risk of storms and Bark Beetel (minimize the maximum risk) (2)\", \"Relative_stormBBRisk\", \n",
    "                       \"min\", \"max\",\"areaWeightedAverage\"],\n",
    "        \"RecreationAsth\" : [\"Recreation and Aesthetics maximize the mean) (4)\", \"RecreationAndAesthetics\",\n",
    "                           \"max\", \"average\", \"areaWeightedAverage\"],\n",
    "        \"Biodiveristy\": [\"Biodiversity fuzzy indicator (mantain ct, evenflow) (4)\", \"Biodiversity\", \n",
    "                             \"max\", \"average\", \"areaWeightedAverage\"],\n",
    "        \"CrownCoverage\":[\"Mean Crown coverage must be maintened (minimize change, evenflow) (4)\",\"covered_area_per\",\n",
    "                         \"max\", \"min\", \"areaWeightedAverage\"],\n",
    "    }\n",
    "\n",
    "    objectives = {\n",
    "        **objectives_abs,\n",
    "        **objectives_rel,\n",
    "    }\n",
    "    "
   ]
  },
  {
   "cell_type": "markdown",
   "metadata": {},
   "source": [
    "### BDS - Biodiversity Strategy"
   ]
  },
  {
   "cell_type": "code",
   "execution_count": 73,
   "metadata": {},
   "outputs": [],
   "source": [
    "if scenario == 'BDS':\n",
    "    objectives_abs = {\n",
    "    \"totalCarbonBalance\" : [\"carbon balance must be constant or increase (4)\", \"CarbonBalance\",\n",
    "                         \"max\", \"average\", \"areaWeightedAverage\"]\n",
    "    }\n",
    "    objectives_rel = {\n",
    "    \"relative_LivingCarbon\": [\"Living carbon stored in Forests must increase by 5% by 2020 (10% relative to 2007 values) (4)\", \"Relative_TotalLivingCarbon\",\n",
    "                                \"max\",\"targetYearWithSlope\",\"sum\", 2020],\n",
    "    \"speciesProfileIndex\": [\"Species profile index (Pretzsch) (max over all years)  (4)\",\"speciesProfileIndex\",\n",
    "                         \"max\",\"average\",\"areaWeightedAverage\"],  \n",
    "    \"ShannonIndexSpecies\": [\"Shannon index of species (max over all years) (4)\",\"ShannonIndexSpecies\",\n",
    "                        \"max\",\"average\",\"areaWeightedAverage\"],\n",
    "    \"Biodiveristy\": [\"Biodiversity fuzzy indicator (maximum over all years) (4)\", \"Biodiversity\", \n",
    "                         \"max\", \"average\", \"areaWeightedAverage\"],\n",
    "\n",
    "    }\n",
    "    objectives_SA = {\n",
    " \n",
    "     \"Ratio_SA_forests\": [\"Ratio of protected areas (%, SA forests) (1)\",\n",
    "                         \"SA_forests\",\n",
    "                         \"max\",\"firstYear\",\"areaWeightedAverage\"]  \n",
    "    }\n",
    "    objectives = {\n",
    "        **objectives_SA,\n",
    "        **objectives_abs,\n",
    "        **objectives_rel,\n",
    "    }\n",
    "    objectives.update(\n",
    "        {\"pnvDeviation\": [\"deviation from potential natural vegetation (min over all years) (4)\",\"pnvDeviation\",\n",
    "        \"min\",\"max\",\"areaWeightedAverage\"],\n",
    "        }\n",
    "    )\n",
    "    "
   ]
  },
  {
   "cell_type": "markdown",
   "metadata": {},
   "source": [
    "### BES - Bioeconomy Strategy"
   ]
  },
  {
   "cell_type": "code",
   "execution_count": 74,
   "metadata": {},
   "outputs": [],
   "source": [
    "if scenario == 'BES':\n",
    "    \n",
    "    objectives_abs = {\n",
    "        \n",
    "    \"energyproducts\": [\"remaning products for energy use (maximize) (4)\", \"energyProds\",\n",
    "                        \"max\",\"min\",\"sum\"],\n",
    "    \"PulpWood\" : [\"wood products for industry (maximize)  (4)\", \"PulpWood\",\n",
    "                        \"max\",\"min\",\"sum\"],\n",
    "    \"totalCarbonBalance\" : [\"carbon balance must be constant or increase (2)\", \"CarbonBalance\",\n",
    "                         \"max\", \"average\", \"sum\"],\n",
    "    \"SawTimberProduction\" : [\"timber production max  (4)\", \"SawTimber\",\n",
    "                         \"max\", \"min\", \"sum\"],\n",
    "\n",
    "    }\n",
    "    objectives_rel = {\n",
    "        \n",
    "     \"Biodiversity\": [\"Biodiversity fuzzy indicator (maximum over all years) (1)\", \"Biodiversity\", \n",
    "                    \"max\", \"min\", \"areaWeightedAverage\"],\n",
    "     \"CrownCoverage\":[\"Mean Crown coverage must be maintened cte (1)\",\"covered_area_per\",\n",
    "                     \"max\", \"min\", \"areaWeightedAverage\"],\n",
    "    }\n",
    "    objectives = {\n",
    "        **objectives_abs,\n",
    "        **objectives_rel,\n",
    "    }\n",
    "    "
   ]
  },
  {
   "cell_type": "code",
   "execution_count": 75,
   "metadata": {},
   "outputs": [
    {
     "data": {
      "text/plain": [
       "{'energyproducts': ['remaning products for energy use (maximize) (4)',\n",
       "  'energyProds',\n",
       "  'max',\n",
       "  'min',\n",
       "  'sum'],\n",
       " 'PulpWood': ['wood products for industry (maximize)  (4)',\n",
       "  'PulpWood',\n",
       "  'max',\n",
       "  'min',\n",
       "  'sum'],\n",
       " 'totalCarbonBalance': ['carbon balance must be constant or increase (2)',\n",
       "  'CarbonBalance',\n",
       "  'max',\n",
       "  'average',\n",
       "  'sum'],\n",
       " 'SawTimberProduction': ['timber production max  (4)',\n",
       "  'SawTimber',\n",
       "  'max',\n",
       "  'min',\n",
       "  'sum'],\n",
       " 'Biodiversity': ['Biodiversity fuzzy indicator (maximum over all years) (1)',\n",
       "  'Biodiversity',\n",
       "  'max',\n",
       "  'min',\n",
       "  'areaWeightedAverage'],\n",
       " 'CrownCoverage': ['Mean Crown coverage must be maintened cte (1)',\n",
       "  'covered_area_per',\n",
       "  'max',\n",
       "  'min',\n",
       "  'areaWeightedAverage']}"
      ]
     },
     "execution_count": 75,
     "metadata": {},
     "output_type": "execute_result"
    }
   ],
   "source": [
    "objectives"
   ]
  },
  {
   "cell_type": "code",
   "execution_count": 76,
   "metadata": {
    "scrolled": true
   },
   "outputs": [
    {
     "data": {
      "text/plain": [
       "'Defining objectives'"
      ]
     },
     "metadata": {},
     "output_type": "display_data"
    },
    {
     "data": {
      "text/plain": [
       "'Aggregating stand wise'"
      ]
     },
     "metadata": {},
     "output_type": "display_data"
    },
    {
     "name": "stderr",
     "output_type": "stream",
     "text": [
      "100%|██████████| 6/6 [00:14<00:00,  2.43s/it]\n"
     ]
    },
    {
     "data": {
      "text/plain": [
       "'Aggregating year wise'"
      ]
     },
     "metadata": {},
     "output_type": "display_data"
    },
    {
     "name": "stdout",
     "output_type": "stream",
     "text": [
      "100%|██████████| 6/6 [00:00<00:00, 3171.10it/s]\n"
     ]
    },
    {
     "data": {
      "text/plain": [
       "'Objectives added'"
      ]
     },
     "metadata": {},
     "output_type": "display_data"
    }
   ],
   "source": [
    "mfo.defineObjectives(objectives)"
   ]
  },
  {
   "cell_type": "markdown",
   "metadata": {},
   "source": [
    "## Define Enabled Constrains\n"
   ]
  },
  {
   "cell_type": "code",
   "execution_count": 77,
   "metadata": {},
   "outputs": [],
   "source": [
    "NotCCregimes = [regime for regime in mfo.regimes if \"BAU\" not in regime] "
   ]
  },
  {
   "cell_type": "code",
   "execution_count": 78,
   "metadata": {},
   "outputs": [
    {
     "data": {
      "text/plain": [
       "['CCF_P1', 'CCF_P2', 'CCF_P3', 'CCF_P3_p1', 'CCF_P3_p2', 'CCF_STATE', 'NOT']"
      ]
     },
     "execution_count": 78,
     "metadata": {},
     "output_type": "execute_result"
    }
   ],
   "source": [
    "NotCCregimes"
   ]
  },
  {
   "cell_type": "markdown",
   "metadata": {},
   "source": [
    "Constraint format:\n",
    "\n",
    "- Shortname: \"constraint type\",\"allowed regimes\",\"human readable name\",(regimes),\"column in data\")"
   ]
  },
  {
   "cell_type": "code",
   "execution_count": 79,
   "metadata": {},
   "outputs": [],
   "source": [
    "constraintTypes = {\"NoCC_Prot\":[\"Allowed regimes\",\"NO CleatCut on protected land\",NotCCregimes,\"protected\"],\n",
    "                   \"NoCC_State\":[\"Allowed regimes\",\"NO CleatCut on state forest\",NotCCregimes,\"stateForest\"]}"
   ]
  },
  {
   "cell_type": "code",
   "execution_count": 80,
   "metadata": {},
   "outputs": [],
   "source": [
    "mfo.defineConstraints(constraintTypes)"
   ]
  },
  {
   "cell_type": "markdown",
   "metadata": {},
   "source": [
    "## Calculate objective ranges"
   ]
  },
  {
   "cell_type": "markdown",
   "metadata": {},
   "source": [
    "You can run the following function twice to improve ranges accuracy.\n",
    "\n",
    "Especially, if some objectives get as lowerbounds 0:s, then it makes sense to reoptimize"
   ]
  },
  {
   "cell_type": "code",
   "execution_count": 81,
   "metadata": {
    "scrolled": false
   },
   "outputs": [
    {
     "data": {
      "text/plain": [
       "'Calculating objective ranges'"
      ]
     },
     "metadata": {},
     "output_type": "display_data"
    },
    {
     "name": "stdout",
     "output_type": "stream",
     "text": [
      "\r",
      "  0%|          | 0/6 [00:00<?, ?it/s]"
     ]
    },
    {
     "data": {
      "text/plain": [
       "'Optimizing for remaning products for energy use (maximize) (4)'"
      ]
     },
     "metadata": {},
     "output_type": "display_data"
    },
    {
     "data": {
      "text/plain": [
       "'Found an optimal solution in 1 seconds'"
      ]
     },
     "metadata": {},
     "output_type": "display_data"
    },
    {
     "data": {
      "text/plain": [
       "'Objective values are:'"
      ]
     },
     "metadata": {},
     "output_type": "display_data"
    },
    {
     "data": {
      "text/plain": [
       "'remaning products for energy use (maximize) (4)'"
      ]
     },
     "metadata": {},
     "output_type": "display_data"
    },
    {
     "data": {
      "text/plain": [
       "2259951.243482453"
      ]
     },
     "metadata": {},
     "output_type": "display_data"
    },
    {
     "data": {
      "text/plain": [
       "'wood products for industry (maximize)  (4)'"
      ]
     },
     "metadata": {},
     "output_type": "display_data"
    },
    {
     "data": {
      "text/plain": [
       "0.0"
      ]
     },
     "metadata": {},
     "output_type": "display_data"
    },
    {
     "data": {
      "text/plain": [
       "'carbon balance must be constant or increase (2)'"
      ]
     },
     "metadata": {},
     "output_type": "display_data"
    },
    {
     "data": {
      "text/plain": [
       "1178599.3371496564"
      ]
     },
     "metadata": {},
     "output_type": "display_data"
    },
    {
     "data": {
      "text/plain": [
       "'timber production max  (4)'"
      ]
     },
     "metadata": {},
     "output_type": "display_data"
    },
    {
     "data": {
      "text/plain": [
       "0.0"
      ]
     },
     "metadata": {},
     "output_type": "display_data"
    },
    {
     "data": {
      "text/plain": [
       "'Biodiversity fuzzy indicator (maximum over all years) (1)'"
      ]
     },
     "metadata": {},
     "output_type": "display_data"
    },
    {
     "data": {
      "text/plain": [
       "0.0"
      ]
     },
     "metadata": {},
     "output_type": "display_data"
    },
    {
     "data": {
      "text/plain": [
       "'Mean Crown coverage must be maintened cte (1)'"
      ]
     },
     "metadata": {},
     "output_type": "display_data"
    },
    {
     "data": {
      "text/plain": [
       "0.0"
      ]
     },
     "metadata": {},
     "output_type": "display_data"
    },
    {
     "name": "stdout",
     "output_type": "stream",
     "text": [
      "\r",
      " 17%|█▋        | 1/6 [00:03<00:16,  3.39s/it]"
     ]
    },
    {
     "data": {
      "text/plain": [
       "'Optimizing for wood products for industry (maximize)  (4)'"
      ]
     },
     "metadata": {},
     "output_type": "display_data"
    },
    {
     "data": {
      "text/plain": [
       "'Found an optimal solution in 1 seconds'"
      ]
     },
     "metadata": {},
     "output_type": "display_data"
    },
    {
     "data": {
      "text/plain": [
       "'Objective values are:'"
      ]
     },
     "metadata": {},
     "output_type": "display_data"
    },
    {
     "data": {
      "text/plain": [
       "'remaning products for energy use (maximize) (4)'"
      ]
     },
     "metadata": {},
     "output_type": "display_data"
    },
    {
     "data": {
      "text/plain": [
       "0.0"
      ]
     },
     "metadata": {},
     "output_type": "display_data"
    },
    {
     "data": {
      "text/plain": [
       "'wood products for industry (maximize)  (4)'"
      ]
     },
     "metadata": {},
     "output_type": "display_data"
    },
    {
     "data": {
      "text/plain": [
       "29931405.605699956"
      ]
     },
     "metadata": {},
     "output_type": "display_data"
    },
    {
     "data": {
      "text/plain": [
       "'carbon balance must be constant or increase (2)'"
      ]
     },
     "metadata": {},
     "output_type": "display_data"
    },
    {
     "data": {
      "text/plain": [
       "-108121.49307903006"
      ]
     },
     "metadata": {},
     "output_type": "display_data"
    },
    {
     "data": {
      "text/plain": [
       "'timber production max  (4)'"
      ]
     },
     "metadata": {},
     "output_type": "display_data"
    },
    {
     "data": {
      "text/plain": [
       "0.0"
      ]
     },
     "metadata": {},
     "output_type": "display_data"
    },
    {
     "data": {
      "text/plain": [
       "'Biodiversity fuzzy indicator (maximum over all years) (1)'"
      ]
     },
     "metadata": {},
     "output_type": "display_data"
    },
    {
     "data": {
      "text/plain": [
       "0.0"
      ]
     },
     "metadata": {},
     "output_type": "display_data"
    },
    {
     "data": {
      "text/plain": [
       "'Mean Crown coverage must be maintened cte (1)'"
      ]
     },
     "metadata": {},
     "output_type": "display_data"
    },
    {
     "data": {
      "text/plain": [
       "0.0"
      ]
     },
     "metadata": {},
     "output_type": "display_data"
    },
    {
     "name": "stdout",
     "output_type": "stream",
     "text": [
      "\r",
      " 33%|███▎      | 2/6 [00:06<00:13,  3.31s/it]"
     ]
    },
    {
     "data": {
      "text/plain": [
       "'Optimizing for carbon balance must be constant or increase (2)'"
      ]
     },
     "metadata": {},
     "output_type": "display_data"
    },
    {
     "data": {
      "text/plain": [
       "'Found an optimal solution in 0 seconds'"
      ]
     },
     "metadata": {},
     "output_type": "display_data"
    },
    {
     "data": {
      "text/plain": [
       "'Objective values are:'"
      ]
     },
     "metadata": {},
     "output_type": "display_data"
    },
    {
     "data": {
      "text/plain": [
       "'remaning products for energy use (maximize) (4)'"
      ]
     },
     "metadata": {},
     "output_type": "display_data"
    },
    {
     "data": {
      "text/plain": [
       "0.0"
      ]
     },
     "metadata": {},
     "output_type": "display_data"
    },
    {
     "data": {
      "text/plain": [
       "'wood products for industry (maximize)  (4)'"
      ]
     },
     "metadata": {},
     "output_type": "display_data"
    },
    {
     "data": {
      "text/plain": [
       "0.0"
      ]
     },
     "metadata": {},
     "output_type": "display_data"
    },
    {
     "data": {
      "text/plain": [
       "'carbon balance must be constant or increase (2)'"
      ]
     },
     "metadata": {},
     "output_type": "display_data"
    },
    {
     "data": {
      "text/plain": [
       "2857444.936455887"
      ]
     },
     "metadata": {},
     "output_type": "display_data"
    },
    {
     "data": {
      "text/plain": [
       "'timber production max  (4)'"
      ]
     },
     "metadata": {},
     "output_type": "display_data"
    },
    {
     "data": {
      "text/plain": [
       "0.0"
      ]
     },
     "metadata": {},
     "output_type": "display_data"
    },
    {
     "data": {
      "text/plain": [
       "'Biodiversity fuzzy indicator (maximum over all years) (1)'"
      ]
     },
     "metadata": {},
     "output_type": "display_data"
    },
    {
     "data": {
      "text/plain": [
       "0.0"
      ]
     },
     "metadata": {},
     "output_type": "display_data"
    },
    {
     "data": {
      "text/plain": [
       "'Mean Crown coverage must be maintened cte (1)'"
      ]
     },
     "metadata": {},
     "output_type": "display_data"
    },
    {
     "data": {
      "text/plain": [
       "0.0"
      ]
     },
     "metadata": {},
     "output_type": "display_data"
    },
    {
     "name": "stdout",
     "output_type": "stream",
     "text": [
      "\r",
      " 50%|█████     | 3/6 [00:08<00:09,  3.03s/it]"
     ]
    },
    {
     "data": {
      "text/plain": [
       "'Optimizing for timber production max  (4)'"
      ]
     },
     "metadata": {},
     "output_type": "display_data"
    },
    {
     "data": {
      "text/plain": [
       "'Found an optimal solution in 1 seconds'"
      ]
     },
     "metadata": {},
     "output_type": "display_data"
    },
    {
     "data": {
      "text/plain": [
       "'Objective values are:'"
      ]
     },
     "metadata": {},
     "output_type": "display_data"
    },
    {
     "data": {
      "text/plain": [
       "'remaning products for energy use (maximize) (4)'"
      ]
     },
     "metadata": {},
     "output_type": "display_data"
    },
    {
     "data": {
      "text/plain": [
       "0.0"
      ]
     },
     "metadata": {},
     "output_type": "display_data"
    },
    {
     "data": {
      "text/plain": [
       "'wood products for industry (maximize)  (4)'"
      ]
     },
     "metadata": {},
     "output_type": "display_data"
    },
    {
     "data": {
      "text/plain": [
       "0.0"
      ]
     },
     "metadata": {},
     "output_type": "display_data"
    },
    {
     "data": {
      "text/plain": [
       "'carbon balance must be constant or increase (2)'"
      ]
     },
     "metadata": {},
     "output_type": "display_data"
    },
    {
     "data": {
      "text/plain": [
       "1126041.5583271564"
      ]
     },
     "metadata": {},
     "output_type": "display_data"
    },
    {
     "data": {
      "text/plain": [
       "'timber production max  (4)'"
      ]
     },
     "metadata": {},
     "output_type": "display_data"
    },
    {
     "data": {
      "text/plain": [
       "103769191.14001252"
      ]
     },
     "metadata": {},
     "output_type": "display_data"
    },
    {
     "data": {
      "text/plain": [
       "'Biodiversity fuzzy indicator (maximum over all years) (1)'"
      ]
     },
     "metadata": {},
     "output_type": "display_data"
    },
    {
     "data": {
      "text/plain": [
       "0.0"
      ]
     },
     "metadata": {},
     "output_type": "display_data"
    },
    {
     "data": {
      "text/plain": [
       "'Mean Crown coverage must be maintened cte (1)'"
      ]
     },
     "metadata": {},
     "output_type": "display_data"
    },
    {
     "data": {
      "text/plain": [
       "0.0"
      ]
     },
     "metadata": {},
     "output_type": "display_data"
    },
    {
     "name": "stdout",
     "output_type": "stream",
     "text": [
      "\r",
      " 67%|██████▋   | 4/6 [00:11<00:06,  3.03s/it]"
     ]
    },
    {
     "data": {
      "text/plain": [
       "'Optimizing for Biodiversity fuzzy indicator (maximum over all years) (1)'"
      ]
     },
     "metadata": {},
     "output_type": "display_data"
    },
    {
     "data": {
      "text/plain": [
       "'Found an optimal solution in 1 seconds'"
      ]
     },
     "metadata": {},
     "output_type": "display_data"
    },
    {
     "data": {
      "text/plain": [
       "'Objective values are:'"
      ]
     },
     "metadata": {},
     "output_type": "display_data"
    },
    {
     "data": {
      "text/plain": [
       "'remaning products for energy use (maximize) (4)'"
      ]
     },
     "metadata": {},
     "output_type": "display_data"
    },
    {
     "data": {
      "text/plain": [
       "0.0"
      ]
     },
     "metadata": {},
     "output_type": "display_data"
    },
    {
     "data": {
      "text/plain": [
       "'wood products for industry (maximize)  (4)'"
      ]
     },
     "metadata": {},
     "output_type": "display_data"
    },
    {
     "data": {
      "text/plain": [
       "0.0"
      ]
     },
     "metadata": {},
     "output_type": "display_data"
    },
    {
     "data": {
      "text/plain": [
       "'carbon balance must be constant or increase (2)'"
      ]
     },
     "metadata": {},
     "output_type": "display_data"
    },
    {
     "data": {
      "text/plain": [
       "970830.0468159852"
      ]
     },
     "metadata": {},
     "output_type": "display_data"
    },
    {
     "data": {
      "text/plain": [
       "'timber production max  (4)'"
      ]
     },
     "metadata": {},
     "output_type": "display_data"
    },
    {
     "data": {
      "text/plain": [
       "0.0"
      ]
     },
     "metadata": {},
     "output_type": "display_data"
    },
    {
     "data": {
      "text/plain": [
       "'Biodiversity fuzzy indicator (maximum over all years) (1)'"
      ]
     },
     "metadata": {},
     "output_type": "display_data"
    },
    {
     "data": {
      "text/plain": [
       "0.28342966189259555"
      ]
     },
     "metadata": {},
     "output_type": "display_data"
    },
    {
     "data": {
      "text/plain": [
       "'Mean Crown coverage must be maintened cte (1)'"
      ]
     },
     "metadata": {},
     "output_type": "display_data"
    },
    {
     "data": {
      "text/plain": [
       "0.0"
      ]
     },
     "metadata": {},
     "output_type": "display_data"
    },
    {
     "name": "stdout",
     "output_type": "stream",
     "text": [
      "\r",
      " 83%|████████▎ | 5/6 [00:14<00:02,  2.98s/it]"
     ]
    },
    {
     "data": {
      "text/plain": [
       "'Optimizing for Mean Crown coverage must be maintened cte (1)'"
      ]
     },
     "metadata": {},
     "output_type": "display_data"
    },
    {
     "data": {
      "text/plain": [
       "'Found an optimal solution in 0 seconds'"
      ]
     },
     "metadata": {},
     "output_type": "display_data"
    },
    {
     "data": {
      "text/plain": [
       "'Objective values are:'"
      ]
     },
     "metadata": {},
     "output_type": "display_data"
    },
    {
     "data": {
      "text/plain": [
       "'remaning products for energy use (maximize) (4)'"
      ]
     },
     "metadata": {},
     "output_type": "display_data"
    },
    {
     "data": {
      "text/plain": [
       "0.0"
      ]
     },
     "metadata": {},
     "output_type": "display_data"
    },
    {
     "data": {
      "text/plain": [
       "'wood products for industry (maximize)  (4)'"
      ]
     },
     "metadata": {},
     "output_type": "display_data"
    },
    {
     "data": {
      "text/plain": [
       "0.0"
      ]
     },
     "metadata": {},
     "output_type": "display_data"
    },
    {
     "data": {
      "text/plain": [
       "'carbon balance must be constant or increase (2)'"
      ]
     },
     "metadata": {},
     "output_type": "display_data"
    },
    {
     "data": {
      "text/plain": [
       "1316493.2821028403"
      ]
     },
     "metadata": {},
     "output_type": "display_data"
    },
    {
     "data": {
      "text/plain": [
       "'timber production max  (4)'"
      ]
     },
     "metadata": {},
     "output_type": "display_data"
    },
    {
     "data": {
      "text/plain": [
       "0.0"
      ]
     },
     "metadata": {},
     "output_type": "display_data"
    },
    {
     "data": {
      "text/plain": [
       "'Biodiversity fuzzy indicator (maximum over all years) (1)'"
      ]
     },
     "metadata": {},
     "output_type": "display_data"
    },
    {
     "data": {
      "text/plain": [
       "0.0"
      ]
     },
     "metadata": {},
     "output_type": "display_data"
    },
    {
     "data": {
      "text/plain": [
       "'Mean Crown coverage must be maintened cte (1)'"
      ]
     },
     "metadata": {},
     "output_type": "display_data"
    },
    {
     "data": {
      "text/plain": [
       "67.00483782730791"
      ]
     },
     "metadata": {},
     "output_type": "display_data"
    },
    {
     "name": "stdout",
     "output_type": "stream",
     "text": [
      "100%|██████████| 6/6 [00:17<00:00,  2.92s/it]\n",
      "CPU times: user 13.6 s, sys: 2.58 s, total: 16.2 s\n",
      "Wall time: 17.5 s\n"
     ]
    }
   ],
   "source": [
    "%%time\n",
    "mfo.calculateObjectiveRanges(debug=True)"
   ]
  },
  {
   "cell_type": "code",
   "execution_count": 82,
   "metadata": {},
   "outputs": [
    {
     "data": {
      "text/plain": [
       "{'energyproducts': (0.0, 2259951.243482453),\n",
       " 'PulpWood': (0.0, 29931405.605699956),\n",
       " 'totalCarbonBalance': (-108121.49307903006, 2857444.936455887),\n",
       " 'SawTimberProduction': (0.0, 103769191.14001252),\n",
       " 'Biodiversity': (0.0, 0.28342966189259555),\n",
       " 'CrownCoverage': (0.0, 67.00483782730791)}"
      ]
     },
     "execution_count": 82,
     "metadata": {},
     "output_type": "execute_result"
    }
   ],
   "source": [
    "mfo.objectiveRanges"
   ]
  },
  {
   "cell_type": "markdown",
   "metadata": {},
   "source": [
    "## Show GUI"
   ]
  },
  {
   "cell_type": "markdown",
   "metadata": {},
   "source": [
    "- If \"Enabled constraints\" should be considered, start with ticking box \"NO ClearCut on...\" and push \"Change constraints\"\n",
    "- Epsilon constraints are only considered if sliders are moved and button \"Set epsilon constraints\" is pushed\n",
    "- By pushing \"OPTIMIZE\" an optimal solution under the given constraints and reference points is searched\n",
    "\n",
    "<b>SEE example figure below for scenario BES</b>"
   ]
  },
  {
   "cell_type": "markdown",
   "metadata": {},
   "source": [
    "![image](./MFGUIExampleGER.PNG)"
   ]
  },
  {
   "cell_type": "code",
   "execution_count": 83,
   "metadata": {
    "scrolled": false
   },
   "outputs": [
    {
     "data": {
      "text/html": [
       "<style>\n",
       "            .widget-label { min-width: 60% !important; }\n",
       "        </style>"
      ],
      "text/plain": [
       "<IPython.core.display.HTML object>"
      ]
     },
     "metadata": {},
     "output_type": "display_data"
    },
    {
     "data": {
      "text/html": [
       "<h2>Epsilon constraint values</h2>"
      ],
      "text/plain": [
       "<IPython.core.display.HTML object>"
      ]
     },
     "metadata": {},
     "output_type": "display_data"
    },
    {
     "data": {
      "application/vnd.jupyter.widget-view+json": {
       "model_id": "f5ddcc16a8ca49b9a6b47e51d1dc30b1",
       "version_major": 2,
       "version_minor": 0
      },
      "text/plain": [
       "interactive(children=(FloatSlider(value=0.0, description='remaning products for energy use (maximize) (4)', la…"
      ]
     },
     "metadata": {},
     "output_type": "display_data"
    },
    {
     "data": {
      "text/html": [
       "<h2>Reference point</h2>"
      ],
      "text/plain": [
       "<IPython.core.display.HTML object>"
      ]
     },
     "metadata": {},
     "output_type": "display_data"
    },
    {
     "data": {
      "application/vnd.jupyter.widget-view+json": {
       "model_id": "9c076769002c4528a0334a7dd439c9f3",
       "version_major": 2,
       "version_minor": 0
      },
      "text/plain": [
       "interactive(children=(FloatSlider(value=1129975.6217412264, description='remaning products for energy use (max…"
      ]
     },
     "metadata": {},
     "output_type": "display_data"
    },
    {
     "data": {
      "text/html": [
       "<h2>Enabled constraints</h2>"
      ],
      "text/plain": [
       "<IPython.core.display.HTML object>"
      ]
     },
     "metadata": {},
     "output_type": "display_data"
    },
    {
     "data": {
      "application/vnd.jupyter.widget-view+json": {
       "model_id": "a79c90fa068b4e9e9660dbcc2019fbff",
       "version_major": 2,
       "version_minor": 0
      },
      "text/plain": [
       "interactive(children=(Checkbox(value=False, description='NO CleatCut on protected land'), Checkbox(value=False…"
      ]
     },
     "metadata": {},
     "output_type": "display_data"
    },
    {
     "data": {
      "application/vnd.jupyter.widget-view+json": {
       "model_id": "efeb1fdc619c4659ba3c832eb3ad1af6",
       "version_major": 2,
       "version_minor": 0
      },
      "text/plain": [
       "Button(description='Print solution', style=ButtonStyle())"
      ]
     },
     "metadata": {},
     "output_type": "display_data"
    }
   ],
   "source": [
    "mfo.showGUI(debug=True)"
   ]
  },
  {
   "cell_type": "markdown",
   "metadata": {},
   "source": [
    "## Visualization of optimal solution"
   ]
  },
  {
   "cell_type": "code",
   "execution_count": 84,
   "metadata": {},
   "outputs": [],
   "source": [
    "regimeAmounts = {regime:0 for regime in mfo.regimes}\n",
    "for key in mfo.regimesDecision.keys():\n",
    "    regimeAmounts[key[1]] +=mfo.regimesDecision[key].solution_value()*mfo.standAreas.loc[key[0],\"represented_area_by_NFIplot\"]/mfo.standAreas[\"represented_area_by_NFIplot\"].sum()"
   ]
  },
  {
   "cell_type": "code",
   "execution_count": 85,
   "metadata": {
    "scrolled": false
   },
   "outputs": [
    {
     "name": "stdout",
     "output_type": "stream",
     "text": [
      "Populating the interactive namespace from numpy and matplotlib\n"
     ]
    }
   ],
   "source": [
    "%pylab notebook"
   ]
  },
  {
   "cell_type": "code",
   "execution_count": 86,
   "metadata": {
    "scrolled": true
   },
   "outputs": [
    {
     "data": {
      "text/plain": [
       "[0.01044251339746329,\n",
       " 0.02711472013366212,\n",
       " 0.08323056088539131,\n",
       " 0.017320874744220012,\n",
       " 0.019097892167155156,\n",
       " 0.0077623507346813335,\n",
       " 0.009741177687797265,\n",
       " 0.08423266441125093,\n",
       " 0.002814572470542455,\n",
       " 0.009833500608451385,\n",
       " 0.007546267473156621,\n",
       " 0.11916557316556974,\n",
       " 0.285611271407242,\n",
       " 0.0,\n",
       " 0.31608606071341594]"
      ]
     },
     "execution_count": 86,
     "metadata": {},
     "output_type": "execute_result"
    }
   ],
   "source": [
    "[val for val in regimeAmounts.values()]"
   ]
  },
  {
   "cell_type": "code",
   "execution_count": 87,
   "metadata": {
    "scrolled": false
   },
   "outputs": [
    {
     "data": {
      "application/javascript": [
       "/* Put everything inside the global mpl namespace */\n",
       "window.mpl = {};\n",
       "\n",
       "\n",
       "mpl.get_websocket_type = function() {\n",
       "    if (typeof(WebSocket) !== 'undefined') {\n",
       "        return WebSocket;\n",
       "    } else if (typeof(MozWebSocket) !== 'undefined') {\n",
       "        return MozWebSocket;\n",
       "    } else {\n",
       "        alert('Your browser does not have WebSocket support. ' +\n",
       "              'Please try Chrome, Safari or Firefox ≥ 6. ' +\n",
       "              'Firefox 4 and 5 are also supported but you ' +\n",
       "              'have to enable WebSockets in about:config.');\n",
       "    };\n",
       "}\n",
       "\n",
       "mpl.figure = function(figure_id, websocket, ondownload, parent_element) {\n",
       "    this.id = figure_id;\n",
       "\n",
       "    this.ws = websocket;\n",
       "\n",
       "    this.supports_binary = (this.ws.binaryType != undefined);\n",
       "\n",
       "    if (!this.supports_binary) {\n",
       "        var warnings = document.getElementById(\"mpl-warnings\");\n",
       "        if (warnings) {\n",
       "            warnings.style.display = 'block';\n",
       "            warnings.textContent = (\n",
       "                \"This browser does not support binary websocket messages. \" +\n",
       "                    \"Performance may be slow.\");\n",
       "        }\n",
       "    }\n",
       "\n",
       "    this.imageObj = new Image();\n",
       "\n",
       "    this.context = undefined;\n",
       "    this.message = undefined;\n",
       "    this.canvas = undefined;\n",
       "    this.rubberband_canvas = undefined;\n",
       "    this.rubberband_context = undefined;\n",
       "    this.format_dropdown = undefined;\n",
       "\n",
       "    this.image_mode = 'full';\n",
       "\n",
       "    this.root = $('<div/>');\n",
       "    this._root_extra_style(this.root)\n",
       "    this.root.attr('style', 'display: inline-block');\n",
       "\n",
       "    $(parent_element).append(this.root);\n",
       "\n",
       "    this._init_header(this);\n",
       "    this._init_canvas(this);\n",
       "    this._init_toolbar(this);\n",
       "\n",
       "    var fig = this;\n",
       "\n",
       "    this.waiting = false;\n",
       "\n",
       "    this.ws.onopen =  function () {\n",
       "            fig.send_message(\"supports_binary\", {value: fig.supports_binary});\n",
       "            fig.send_message(\"send_image_mode\", {});\n",
       "            if (mpl.ratio != 1) {\n",
       "                fig.send_message(\"set_dpi_ratio\", {'dpi_ratio': mpl.ratio});\n",
       "            }\n",
       "            fig.send_message(\"refresh\", {});\n",
       "        }\n",
       "\n",
       "    this.imageObj.onload = function() {\n",
       "            if (fig.image_mode == 'full') {\n",
       "                // Full images could contain transparency (where diff images\n",
       "                // almost always do), so we need to clear the canvas so that\n",
       "                // there is no ghosting.\n",
       "                fig.context.clearRect(0, 0, fig.canvas.width, fig.canvas.height);\n",
       "            }\n",
       "            fig.context.drawImage(fig.imageObj, 0, 0);\n",
       "        };\n",
       "\n",
       "    this.imageObj.onunload = function() {\n",
       "        fig.ws.close();\n",
       "    }\n",
       "\n",
       "    this.ws.onmessage = this._make_on_message_function(this);\n",
       "\n",
       "    this.ondownload = ondownload;\n",
       "}\n",
       "\n",
       "mpl.figure.prototype._init_header = function() {\n",
       "    var titlebar = $(\n",
       "        '<div class=\"ui-dialog-titlebar ui-widget-header ui-corner-all ' +\n",
       "        'ui-helper-clearfix\"/>');\n",
       "    var titletext = $(\n",
       "        '<div class=\"ui-dialog-title\" style=\"width: 100%; ' +\n",
       "        'text-align: center; padding: 3px;\"/>');\n",
       "    titlebar.append(titletext)\n",
       "    this.root.append(titlebar);\n",
       "    this.header = titletext[0];\n",
       "}\n",
       "\n",
       "\n",
       "\n",
       "mpl.figure.prototype._canvas_extra_style = function(canvas_div) {\n",
       "\n",
       "}\n",
       "\n",
       "\n",
       "mpl.figure.prototype._root_extra_style = function(canvas_div) {\n",
       "\n",
       "}\n",
       "\n",
       "mpl.figure.prototype._init_canvas = function() {\n",
       "    var fig = this;\n",
       "\n",
       "    var canvas_div = $('<div/>');\n",
       "\n",
       "    canvas_div.attr('style', 'position: relative; clear: both; outline: 0');\n",
       "\n",
       "    function canvas_keyboard_event(event) {\n",
       "        return fig.key_event(event, event['data']);\n",
       "    }\n",
       "\n",
       "    canvas_div.keydown('key_press', canvas_keyboard_event);\n",
       "    canvas_div.keyup('key_release', canvas_keyboard_event);\n",
       "    this.canvas_div = canvas_div\n",
       "    this._canvas_extra_style(canvas_div)\n",
       "    this.root.append(canvas_div);\n",
       "\n",
       "    var canvas = $('<canvas/>');\n",
       "    canvas.addClass('mpl-canvas');\n",
       "    canvas.attr('style', \"left: 0; top: 0; z-index: 0; outline: 0\")\n",
       "\n",
       "    this.canvas = canvas[0];\n",
       "    this.context = canvas[0].getContext(\"2d\");\n",
       "\n",
       "    var backingStore = this.context.backingStorePixelRatio ||\n",
       "\tthis.context.webkitBackingStorePixelRatio ||\n",
       "\tthis.context.mozBackingStorePixelRatio ||\n",
       "\tthis.context.msBackingStorePixelRatio ||\n",
       "\tthis.context.oBackingStorePixelRatio ||\n",
       "\tthis.context.backingStorePixelRatio || 1;\n",
       "\n",
       "    mpl.ratio = (window.devicePixelRatio || 1) / backingStore;\n",
       "\n",
       "    var rubberband = $('<canvas/>');\n",
       "    rubberband.attr('style', \"position: absolute; left: 0; top: 0; z-index: 1;\")\n",
       "\n",
       "    var pass_mouse_events = true;\n",
       "\n",
       "    canvas_div.resizable({\n",
       "        start: function(event, ui) {\n",
       "            pass_mouse_events = false;\n",
       "        },\n",
       "        resize: function(event, ui) {\n",
       "            fig.request_resize(ui.size.width, ui.size.height);\n",
       "        },\n",
       "        stop: function(event, ui) {\n",
       "            pass_mouse_events = true;\n",
       "            fig.request_resize(ui.size.width, ui.size.height);\n",
       "        },\n",
       "    });\n",
       "\n",
       "    function mouse_event_fn(event) {\n",
       "        if (pass_mouse_events)\n",
       "            return fig.mouse_event(event, event['data']);\n",
       "    }\n",
       "\n",
       "    rubberband.mousedown('button_press', mouse_event_fn);\n",
       "    rubberband.mouseup('button_release', mouse_event_fn);\n",
       "    // Throttle sequential mouse events to 1 every 20ms.\n",
       "    rubberband.mousemove('motion_notify', mouse_event_fn);\n",
       "\n",
       "    rubberband.mouseenter('figure_enter', mouse_event_fn);\n",
       "    rubberband.mouseleave('figure_leave', mouse_event_fn);\n",
       "\n",
       "    canvas_div.on(\"wheel\", function (event) {\n",
       "        event = event.originalEvent;\n",
       "        event['data'] = 'scroll'\n",
       "        if (event.deltaY < 0) {\n",
       "            event.step = 1;\n",
       "        } else {\n",
       "            event.step = -1;\n",
       "        }\n",
       "        mouse_event_fn(event);\n",
       "    });\n",
       "\n",
       "    canvas_div.append(canvas);\n",
       "    canvas_div.append(rubberband);\n",
       "\n",
       "    this.rubberband = rubberband;\n",
       "    this.rubberband_canvas = rubberband[0];\n",
       "    this.rubberband_context = rubberband[0].getContext(\"2d\");\n",
       "    this.rubberband_context.strokeStyle = \"#000000\";\n",
       "\n",
       "    this._resize_canvas = function(width, height) {\n",
       "        // Keep the size of the canvas, canvas container, and rubber band\n",
       "        // canvas in synch.\n",
       "        canvas_div.css('width', width)\n",
       "        canvas_div.css('height', height)\n",
       "\n",
       "        canvas.attr('width', width * mpl.ratio);\n",
       "        canvas.attr('height', height * mpl.ratio);\n",
       "        canvas.attr('style', 'width: ' + width + 'px; height: ' + height + 'px;');\n",
       "\n",
       "        rubberband.attr('width', width);\n",
       "        rubberband.attr('height', height);\n",
       "    }\n",
       "\n",
       "    // Set the figure to an initial 600x600px, this will subsequently be updated\n",
       "    // upon first draw.\n",
       "    this._resize_canvas(600, 600);\n",
       "\n",
       "    // Disable right mouse context menu.\n",
       "    $(this.rubberband_canvas).bind(\"contextmenu\",function(e){\n",
       "        return false;\n",
       "    });\n",
       "\n",
       "    function set_focus () {\n",
       "        canvas.focus();\n",
       "        canvas_div.focus();\n",
       "    }\n",
       "\n",
       "    window.setTimeout(set_focus, 100);\n",
       "}\n",
       "\n",
       "mpl.figure.prototype._init_toolbar = function() {\n",
       "    var fig = this;\n",
       "\n",
       "    var nav_element = $('<div/>');\n",
       "    nav_element.attr('style', 'width: 100%');\n",
       "    this.root.append(nav_element);\n",
       "\n",
       "    // Define a callback function for later on.\n",
       "    function toolbar_event(event) {\n",
       "        return fig.toolbar_button_onclick(event['data']);\n",
       "    }\n",
       "    function toolbar_mouse_event(event) {\n",
       "        return fig.toolbar_button_onmouseover(event['data']);\n",
       "    }\n",
       "\n",
       "    for(var toolbar_ind in mpl.toolbar_items) {\n",
       "        var name = mpl.toolbar_items[toolbar_ind][0];\n",
       "        var tooltip = mpl.toolbar_items[toolbar_ind][1];\n",
       "        var image = mpl.toolbar_items[toolbar_ind][2];\n",
       "        var method_name = mpl.toolbar_items[toolbar_ind][3];\n",
       "\n",
       "        if (!name) {\n",
       "            // put a spacer in here.\n",
       "            continue;\n",
       "        }\n",
       "        var button = $('<button/>');\n",
       "        button.addClass('ui-button ui-widget ui-state-default ui-corner-all ' +\n",
       "                        'ui-button-icon-only');\n",
       "        button.attr('role', 'button');\n",
       "        button.attr('aria-disabled', 'false');\n",
       "        button.click(method_name, toolbar_event);\n",
       "        button.mouseover(tooltip, toolbar_mouse_event);\n",
       "\n",
       "        var icon_img = $('<span/>');\n",
       "        icon_img.addClass('ui-button-icon-primary ui-icon');\n",
       "        icon_img.addClass(image);\n",
       "        icon_img.addClass('ui-corner-all');\n",
       "\n",
       "        var tooltip_span = $('<span/>');\n",
       "        tooltip_span.addClass('ui-button-text');\n",
       "        tooltip_span.html(tooltip);\n",
       "\n",
       "        button.append(icon_img);\n",
       "        button.append(tooltip_span);\n",
       "\n",
       "        nav_element.append(button);\n",
       "    }\n",
       "\n",
       "    var fmt_picker_span = $('<span/>');\n",
       "\n",
       "    var fmt_picker = $('<select/>');\n",
       "    fmt_picker.addClass('mpl-toolbar-option ui-widget ui-widget-content');\n",
       "    fmt_picker_span.append(fmt_picker);\n",
       "    nav_element.append(fmt_picker_span);\n",
       "    this.format_dropdown = fmt_picker[0];\n",
       "\n",
       "    for (var ind in mpl.extensions) {\n",
       "        var fmt = mpl.extensions[ind];\n",
       "        var option = $(\n",
       "            '<option/>', {selected: fmt === mpl.default_extension}).html(fmt);\n",
       "        fmt_picker.append(option);\n",
       "    }\n",
       "\n",
       "    // Add hover states to the ui-buttons\n",
       "    $( \".ui-button\" ).hover(\n",
       "        function() { $(this).addClass(\"ui-state-hover\");},\n",
       "        function() { $(this).removeClass(\"ui-state-hover\");}\n",
       "    );\n",
       "\n",
       "    var status_bar = $('<span class=\"mpl-message\"/>');\n",
       "    nav_element.append(status_bar);\n",
       "    this.message = status_bar[0];\n",
       "}\n",
       "\n",
       "mpl.figure.prototype.request_resize = function(x_pixels, y_pixels) {\n",
       "    // Request matplotlib to resize the figure. Matplotlib will then trigger a resize in the client,\n",
       "    // which will in turn request a refresh of the image.\n",
       "    this.send_message('resize', {'width': x_pixels, 'height': y_pixels});\n",
       "}\n",
       "\n",
       "mpl.figure.prototype.send_message = function(type, properties) {\n",
       "    properties['type'] = type;\n",
       "    properties['figure_id'] = this.id;\n",
       "    this.ws.send(JSON.stringify(properties));\n",
       "}\n",
       "\n",
       "mpl.figure.prototype.send_draw_message = function() {\n",
       "    if (!this.waiting) {\n",
       "        this.waiting = true;\n",
       "        this.ws.send(JSON.stringify({type: \"draw\", figure_id: this.id}));\n",
       "    }\n",
       "}\n",
       "\n",
       "\n",
       "mpl.figure.prototype.handle_save = function(fig, msg) {\n",
       "    var format_dropdown = fig.format_dropdown;\n",
       "    var format = format_dropdown.options[format_dropdown.selectedIndex].value;\n",
       "    fig.ondownload(fig, format);\n",
       "}\n",
       "\n",
       "\n",
       "mpl.figure.prototype.handle_resize = function(fig, msg) {\n",
       "    var size = msg['size'];\n",
       "    if (size[0] != fig.canvas.width || size[1] != fig.canvas.height) {\n",
       "        fig._resize_canvas(size[0], size[1]);\n",
       "        fig.send_message(\"refresh\", {});\n",
       "    };\n",
       "}\n",
       "\n",
       "mpl.figure.prototype.handle_rubberband = function(fig, msg) {\n",
       "    var x0 = msg['x0'] / mpl.ratio;\n",
       "    var y0 = (fig.canvas.height - msg['y0']) / mpl.ratio;\n",
       "    var x1 = msg['x1'] / mpl.ratio;\n",
       "    var y1 = (fig.canvas.height - msg['y1']) / mpl.ratio;\n",
       "    x0 = Math.floor(x0) + 0.5;\n",
       "    y0 = Math.floor(y0) + 0.5;\n",
       "    x1 = Math.floor(x1) + 0.5;\n",
       "    y1 = Math.floor(y1) + 0.5;\n",
       "    var min_x = Math.min(x0, x1);\n",
       "    var min_y = Math.min(y0, y1);\n",
       "    var width = Math.abs(x1 - x0);\n",
       "    var height = Math.abs(y1 - y0);\n",
       "\n",
       "    fig.rubberband_context.clearRect(\n",
       "        0, 0, fig.canvas.width / mpl.ratio, fig.canvas.height / mpl.ratio);\n",
       "\n",
       "    fig.rubberband_context.strokeRect(min_x, min_y, width, height);\n",
       "}\n",
       "\n",
       "mpl.figure.prototype.handle_figure_label = function(fig, msg) {\n",
       "    // Updates the figure title.\n",
       "    fig.header.textContent = msg['label'];\n",
       "}\n",
       "\n",
       "mpl.figure.prototype.handle_cursor = function(fig, msg) {\n",
       "    var cursor = msg['cursor'];\n",
       "    switch(cursor)\n",
       "    {\n",
       "    case 0:\n",
       "        cursor = 'pointer';\n",
       "        break;\n",
       "    case 1:\n",
       "        cursor = 'default';\n",
       "        break;\n",
       "    case 2:\n",
       "        cursor = 'crosshair';\n",
       "        break;\n",
       "    case 3:\n",
       "        cursor = 'move';\n",
       "        break;\n",
       "    }\n",
       "    fig.rubberband_canvas.style.cursor = cursor;\n",
       "}\n",
       "\n",
       "mpl.figure.prototype.handle_message = function(fig, msg) {\n",
       "    fig.message.textContent = msg['message'];\n",
       "}\n",
       "\n",
       "mpl.figure.prototype.handle_draw = function(fig, msg) {\n",
       "    // Request the server to send over a new figure.\n",
       "    fig.send_draw_message();\n",
       "}\n",
       "\n",
       "mpl.figure.prototype.handle_image_mode = function(fig, msg) {\n",
       "    fig.image_mode = msg['mode'];\n",
       "}\n",
       "\n",
       "mpl.figure.prototype.updated_canvas_event = function() {\n",
       "    // Called whenever the canvas gets updated.\n",
       "    this.send_message(\"ack\", {});\n",
       "}\n",
       "\n",
       "// A function to construct a web socket function for onmessage handling.\n",
       "// Called in the figure constructor.\n",
       "mpl.figure.prototype._make_on_message_function = function(fig) {\n",
       "    return function socket_on_message(evt) {\n",
       "        if (evt.data instanceof Blob) {\n",
       "            /* FIXME: We get \"Resource interpreted as Image but\n",
       "             * transferred with MIME type text/plain:\" errors on\n",
       "             * Chrome.  But how to set the MIME type?  It doesn't seem\n",
       "             * to be part of the websocket stream */\n",
       "            evt.data.type = \"image/png\";\n",
       "\n",
       "            /* Free the memory for the previous frames */\n",
       "            if (fig.imageObj.src) {\n",
       "                (window.URL || window.webkitURL).revokeObjectURL(\n",
       "                    fig.imageObj.src);\n",
       "            }\n",
       "\n",
       "            fig.imageObj.src = (window.URL || window.webkitURL).createObjectURL(\n",
       "                evt.data);\n",
       "            fig.updated_canvas_event();\n",
       "            fig.waiting = false;\n",
       "            return;\n",
       "        }\n",
       "        else if (typeof evt.data === 'string' && evt.data.slice(0, 21) == \"data:image/png;base64\") {\n",
       "            fig.imageObj.src = evt.data;\n",
       "            fig.updated_canvas_event();\n",
       "            fig.waiting = false;\n",
       "            return;\n",
       "        }\n",
       "\n",
       "        var msg = JSON.parse(evt.data);\n",
       "        var msg_type = msg['type'];\n",
       "\n",
       "        // Call the  \"handle_{type}\" callback, which takes\n",
       "        // the figure and JSON message as its only arguments.\n",
       "        try {\n",
       "            var callback = fig[\"handle_\" + msg_type];\n",
       "        } catch (e) {\n",
       "            console.log(\"No handler for the '\" + msg_type + \"' message type: \", msg);\n",
       "            return;\n",
       "        }\n",
       "\n",
       "        if (callback) {\n",
       "            try {\n",
       "                // console.log(\"Handling '\" + msg_type + \"' message: \", msg);\n",
       "                callback(fig, msg);\n",
       "            } catch (e) {\n",
       "                console.log(\"Exception inside the 'handler_\" + msg_type + \"' callback:\", e, e.stack, msg);\n",
       "            }\n",
       "        }\n",
       "    };\n",
       "}\n",
       "\n",
       "// from http://stackoverflow.com/questions/1114465/getting-mouse-location-in-canvas\n",
       "mpl.findpos = function(e) {\n",
       "    //this section is from http://www.quirksmode.org/js/events_properties.html\n",
       "    var targ;\n",
       "    if (!e)\n",
       "        e = window.event;\n",
       "    if (e.target)\n",
       "        targ = e.target;\n",
       "    else if (e.srcElement)\n",
       "        targ = e.srcElement;\n",
       "    if (targ.nodeType == 3) // defeat Safari bug\n",
       "        targ = targ.parentNode;\n",
       "\n",
       "    // jQuery normalizes the pageX and pageY\n",
       "    // pageX,Y are the mouse positions relative to the document\n",
       "    // offset() returns the position of the element relative to the document\n",
       "    var x = e.pageX - $(targ).offset().left;\n",
       "    var y = e.pageY - $(targ).offset().top;\n",
       "\n",
       "    return {\"x\": x, \"y\": y};\n",
       "};\n",
       "\n",
       "/*\n",
       " * return a copy of an object with only non-object keys\n",
       " * we need this to avoid circular references\n",
       " * http://stackoverflow.com/a/24161582/3208463\n",
       " */\n",
       "function simpleKeys (original) {\n",
       "  return Object.keys(original).reduce(function (obj, key) {\n",
       "    if (typeof original[key] !== 'object')\n",
       "        obj[key] = original[key]\n",
       "    return obj;\n",
       "  }, {});\n",
       "}\n",
       "\n",
       "mpl.figure.prototype.mouse_event = function(event, name) {\n",
       "    var canvas_pos = mpl.findpos(event)\n",
       "\n",
       "    if (name === 'button_press')\n",
       "    {\n",
       "        this.canvas.focus();\n",
       "        this.canvas_div.focus();\n",
       "    }\n",
       "\n",
       "    var x = canvas_pos.x * mpl.ratio;\n",
       "    var y = canvas_pos.y * mpl.ratio;\n",
       "\n",
       "    this.send_message(name, {x: x, y: y, button: event.button,\n",
       "                             step: event.step,\n",
       "                             guiEvent: simpleKeys(event)});\n",
       "\n",
       "    /* This prevents the web browser from automatically changing to\n",
       "     * the text insertion cursor when the button is pressed.  We want\n",
       "     * to control all of the cursor setting manually through the\n",
       "     * 'cursor' event from matplotlib */\n",
       "    event.preventDefault();\n",
       "    return false;\n",
       "}\n",
       "\n",
       "mpl.figure.prototype._key_event_extra = function(event, name) {\n",
       "    // Handle any extra behaviour associated with a key event\n",
       "}\n",
       "\n",
       "mpl.figure.prototype.key_event = function(event, name) {\n",
       "\n",
       "    // Prevent repeat events\n",
       "    if (name == 'key_press')\n",
       "    {\n",
       "        if (event.which === this._key)\n",
       "            return;\n",
       "        else\n",
       "            this._key = event.which;\n",
       "    }\n",
       "    if (name == 'key_release')\n",
       "        this._key = null;\n",
       "\n",
       "    var value = '';\n",
       "    if (event.ctrlKey && event.which != 17)\n",
       "        value += \"ctrl+\";\n",
       "    if (event.altKey && event.which != 18)\n",
       "        value += \"alt+\";\n",
       "    if (event.shiftKey && event.which != 16)\n",
       "        value += \"shift+\";\n",
       "\n",
       "    value += 'k';\n",
       "    value += event.which.toString();\n",
       "\n",
       "    this._key_event_extra(event, name);\n",
       "\n",
       "    this.send_message(name, {key: value,\n",
       "                             guiEvent: simpleKeys(event)});\n",
       "    return false;\n",
       "}\n",
       "\n",
       "mpl.figure.prototype.toolbar_button_onclick = function(name) {\n",
       "    if (name == 'download') {\n",
       "        this.handle_save(this, null);\n",
       "    } else {\n",
       "        this.send_message(\"toolbar_button\", {name: name});\n",
       "    }\n",
       "};\n",
       "\n",
       "mpl.figure.prototype.toolbar_button_onmouseover = function(tooltip) {\n",
       "    this.message.textContent = tooltip;\n",
       "};\n",
       "mpl.toolbar_items = [[\"Home\", \"Reset original view\", \"fa fa-home icon-home\", \"home\"], [\"Back\", \"Back to previous view\", \"fa fa-arrow-left icon-arrow-left\", \"back\"], [\"Forward\", \"Forward to next view\", \"fa fa-arrow-right icon-arrow-right\", \"forward\"], [\"\", \"\", \"\", \"\"], [\"Pan\", \"Pan axes with left mouse, zoom with right\", \"fa fa-arrows icon-move\", \"pan\"], [\"Zoom\", \"Zoom to rectangle\", \"fa fa-square-o icon-check-empty\", \"zoom\"], [\"\", \"\", \"\", \"\"], [\"Download\", \"Download plot\", \"fa fa-floppy-o icon-save\", \"download\"]];\n",
       "\n",
       "mpl.extensions = [\"eps\", \"pdf\", \"png\", \"ps\", \"raw\", \"svg\"];\n",
       "\n",
       "mpl.default_extension = \"png\";var comm_websocket_adapter = function(comm) {\n",
       "    // Create a \"websocket\"-like object which calls the given IPython comm\n",
       "    // object with the appropriate methods. Currently this is a non binary\n",
       "    // socket, so there is still some room for performance tuning.\n",
       "    var ws = {};\n",
       "\n",
       "    ws.close = function() {\n",
       "        comm.close()\n",
       "    };\n",
       "    ws.send = function(m) {\n",
       "        //console.log('sending', m);\n",
       "        comm.send(m);\n",
       "    };\n",
       "    // Register the callback with on_msg.\n",
       "    comm.on_msg(function(msg) {\n",
       "        //console.log('receiving', msg['content']['data'], msg);\n",
       "        // Pass the mpl event to the overridden (by mpl) onmessage function.\n",
       "        ws.onmessage(msg['content']['data'])\n",
       "    });\n",
       "    return ws;\n",
       "}\n",
       "\n",
       "mpl.mpl_figure_comm = function(comm, msg) {\n",
       "    // This is the function which gets called when the mpl process\n",
       "    // starts-up an IPython Comm through the \"matplotlib\" channel.\n",
       "\n",
       "    var id = msg.content.data.id;\n",
       "    // Get hold of the div created by the display call when the Comm\n",
       "    // socket was opened in Python.\n",
       "    var element = $(\"#\" + id);\n",
       "    var ws_proxy = comm_websocket_adapter(comm)\n",
       "\n",
       "    function ondownload(figure, format) {\n",
       "        window.open(figure.imageObj.src);\n",
       "    }\n",
       "\n",
       "    var fig = new mpl.figure(id, ws_proxy,\n",
       "                           ondownload,\n",
       "                           element.get(0));\n",
       "\n",
       "    // Call onopen now - mpl needs it, as it is assuming we've passed it a real\n",
       "    // web socket which is closed, not our websocket->open comm proxy.\n",
       "    ws_proxy.onopen();\n",
       "\n",
       "    fig.parent_element = element.get(0);\n",
       "    fig.cell_info = mpl.find_output_cell(\"<div id='\" + id + \"'></div>\");\n",
       "    if (!fig.cell_info) {\n",
       "        console.error(\"Failed to find cell for figure\", id, fig);\n",
       "        return;\n",
       "    }\n",
       "\n",
       "    var output_index = fig.cell_info[2]\n",
       "    var cell = fig.cell_info[0];\n",
       "\n",
       "};\n",
       "\n",
       "mpl.figure.prototype.handle_close = function(fig, msg) {\n",
       "    var width = fig.canvas.width/mpl.ratio\n",
       "    fig.root.unbind('remove')\n",
       "\n",
       "    // Update the output cell to use the data from the current canvas.\n",
       "    fig.push_to_output();\n",
       "    var dataURL = fig.canvas.toDataURL();\n",
       "    // Re-enable the keyboard manager in IPython - without this line, in FF,\n",
       "    // the notebook keyboard shortcuts fail.\n",
       "    IPython.keyboard_manager.enable()\n",
       "    $(fig.parent_element).html('<img src=\"' + dataURL + '\" width=\"' + width + '\">');\n",
       "    fig.close_ws(fig, msg);\n",
       "}\n",
       "\n",
       "mpl.figure.prototype.close_ws = function(fig, msg){\n",
       "    fig.send_message('closing', msg);\n",
       "    // fig.ws.close()\n",
       "}\n",
       "\n",
       "mpl.figure.prototype.push_to_output = function(remove_interactive) {\n",
       "    // Turn the data on the canvas into data in the output cell.\n",
       "    var width = this.canvas.width/mpl.ratio\n",
       "    var dataURL = this.canvas.toDataURL();\n",
       "    this.cell_info[1]['text/html'] = '<img src=\"' + dataURL + '\" width=\"' + width + '\">';\n",
       "}\n",
       "\n",
       "mpl.figure.prototype.updated_canvas_event = function() {\n",
       "    // Tell IPython that the notebook contents must change.\n",
       "    IPython.notebook.set_dirty(true);\n",
       "    this.send_message(\"ack\", {});\n",
       "    var fig = this;\n",
       "    // Wait a second, then push the new image to the DOM so\n",
       "    // that it is saved nicely (might be nice to debounce this).\n",
       "    setTimeout(function () { fig.push_to_output() }, 1000);\n",
       "}\n",
       "\n",
       "mpl.figure.prototype._init_toolbar = function() {\n",
       "    var fig = this;\n",
       "\n",
       "    var nav_element = $('<div/>');\n",
       "    nav_element.attr('style', 'width: 100%');\n",
       "    this.root.append(nav_element);\n",
       "\n",
       "    // Define a callback function for later on.\n",
       "    function toolbar_event(event) {\n",
       "        return fig.toolbar_button_onclick(event['data']);\n",
       "    }\n",
       "    function toolbar_mouse_event(event) {\n",
       "        return fig.toolbar_button_onmouseover(event['data']);\n",
       "    }\n",
       "\n",
       "    for(var toolbar_ind in mpl.toolbar_items){\n",
       "        var name = mpl.toolbar_items[toolbar_ind][0];\n",
       "        var tooltip = mpl.toolbar_items[toolbar_ind][1];\n",
       "        var image = mpl.toolbar_items[toolbar_ind][2];\n",
       "        var method_name = mpl.toolbar_items[toolbar_ind][3];\n",
       "\n",
       "        if (!name) { continue; };\n",
       "\n",
       "        var button = $('<button class=\"btn btn-default\" href=\"#\" title=\"' + name + '\"><i class=\"fa ' + image + ' fa-lg\"></i></button>');\n",
       "        button.click(method_name, toolbar_event);\n",
       "        button.mouseover(tooltip, toolbar_mouse_event);\n",
       "        nav_element.append(button);\n",
       "    }\n",
       "\n",
       "    // Add the status bar.\n",
       "    var status_bar = $('<span class=\"mpl-message\" style=\"text-align:right; float: right;\"/>');\n",
       "    nav_element.append(status_bar);\n",
       "    this.message = status_bar[0];\n",
       "\n",
       "    // Add the close button to the window.\n",
       "    var buttongrp = $('<div class=\"btn-group inline pull-right\"></div>');\n",
       "    var button = $('<button class=\"btn btn-mini btn-primary\" href=\"#\" title=\"Stop Interaction\"><i class=\"fa fa-power-off icon-remove icon-large\"></i></button>');\n",
       "    button.click(function (evt) { fig.handle_close(fig, {}); } );\n",
       "    button.mouseover('Stop Interaction', toolbar_mouse_event);\n",
       "    buttongrp.append(button);\n",
       "    var titlebar = this.root.find($('.ui-dialog-titlebar'));\n",
       "    titlebar.prepend(buttongrp);\n",
       "}\n",
       "\n",
       "mpl.figure.prototype._root_extra_style = function(el){\n",
       "    var fig = this\n",
       "    el.on(\"remove\", function(){\n",
       "\tfig.close_ws(fig, {});\n",
       "    });\n",
       "}\n",
       "\n",
       "mpl.figure.prototype._canvas_extra_style = function(el){\n",
       "    // this is important to make the div 'focusable\n",
       "    el.attr('tabindex', 0)\n",
       "    // reach out to IPython and tell the keyboard manager to turn it's self\n",
       "    // off when our div gets focus\n",
       "\n",
       "    // location in version 3\n",
       "    if (IPython.notebook.keyboard_manager) {\n",
       "        IPython.notebook.keyboard_manager.register_events(el);\n",
       "    }\n",
       "    else {\n",
       "        // location in version 2\n",
       "        IPython.keyboard_manager.register_events(el);\n",
       "    }\n",
       "\n",
       "}\n",
       "\n",
       "mpl.figure.prototype._key_event_extra = function(event, name) {\n",
       "    var manager = IPython.notebook.keyboard_manager;\n",
       "    if (!manager)\n",
       "        manager = IPython.keyboard_manager;\n",
       "\n",
       "    // Check for shift+enter\n",
       "    if (event.shiftKey && event.which == 13) {\n",
       "        this.canvas_div.blur();\n",
       "        // select the cell after this one\n",
       "        var index = IPython.notebook.find_cell_index(this.cell_info[0]);\n",
       "        IPython.notebook.select(index + 1);\n",
       "    }\n",
       "}\n",
       "\n",
       "mpl.figure.prototype.handle_save = function(fig, msg) {\n",
       "    fig.ondownload(fig, null);\n",
       "}\n",
       "\n",
       "\n",
       "mpl.find_output_cell = function(html_output) {\n",
       "    // Return the cell and output element which can be found *uniquely* in the notebook.\n",
       "    // Note - this is a bit hacky, but it is done because the \"notebook_saving.Notebook\"\n",
       "    // IPython event is triggered only after the cells have been serialised, which for\n",
       "    // our purposes (turning an active figure into a static one), is too late.\n",
       "    var cells = IPython.notebook.get_cells();\n",
       "    var ncells = cells.length;\n",
       "    for (var i=0; i<ncells; i++) {\n",
       "        var cell = cells[i];\n",
       "        if (cell.cell_type === 'code'){\n",
       "            for (var j=0; j<cell.output_area.outputs.length; j++) {\n",
       "                var data = cell.output_area.outputs[j];\n",
       "                if (data.data) {\n",
       "                    // IPython >= 3 moved mimebundle to data attribute of output\n",
       "                    data = data.data;\n",
       "                }\n",
       "                if (data['text/html'] == html_output) {\n",
       "                    return [cell, data, j];\n",
       "                }\n",
       "            }\n",
       "        }\n",
       "    }\n",
       "}\n",
       "\n",
       "// Register the function which deals with the matplotlib target/channel.\n",
       "// The kernel may be null if the page has been refreshed.\n",
       "if (IPython.notebook.kernel != null) {\n",
       "    IPython.notebook.kernel.comm_manager.register_target('matplotlib', mpl.mpl_figure_comm);\n",
       "}\n"
      ],
      "text/plain": [
       "<IPython.core.display.Javascript object>"
      ]
     },
     "metadata": {},
     "output_type": "display_data"
    },
    {
     "data": {
      "text/html": [
       "<img src=\"data:image/png;base64,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\" width=\"640\">"
      ],
      "text/plain": [
       "<IPython.core.display.HTML object>"
      ]
     },
     "metadata": {},
     "output_type": "display_data"
    },
    {
     "data": {
      "text/plain": [
       "[<matplotlib.lines.Line2D at 0x7f5c2a5fe790>]"
      ]
     },
     "execution_count": 87,
     "metadata": {},
     "output_type": "execute_result"
    }
   ],
   "source": [
    "plt.plot([key for key in regimeAmounts.keys()],[val for val in regimeAmounts.values()])"
   ]
  },
  {
   "cell_type": "code",
   "execution_count": 88,
   "metadata": {
    "scrolled": false
   },
   "outputs": [
    {
     "data": {
      "text/plain": [
       "([<matplotlib.axis.XTick at 0x7f5c2a6176d0>,\n",
       "  <matplotlib.axis.XTick at 0x7f5c2a6176a0>,\n",
       "  <matplotlib.axis.XTick at 0x7f5c2a60ca60>,\n",
       "  <matplotlib.axis.XTick at 0x7f5c2a5f8910>,\n",
       "  <matplotlib.axis.XTick at 0x7f5c2a5f8e20>,\n",
       "  <matplotlib.axis.XTick at 0x7f5c2a587370>,\n",
       "  <matplotlib.axis.XTick at 0x7f5c2a587880>,\n",
       "  <matplotlib.axis.XTick at 0x7f5c2a587d90>,\n",
       "  <matplotlib.axis.XTick at 0x7f5c2a58c310>,\n",
       "  <matplotlib.axis.XTick at 0x7f5c2a587910>,\n",
       "  <matplotlib.axis.XTick at 0x7f5c2a5f89a0>,\n",
       "  <matplotlib.axis.XTick at 0x7f5c2a58c820>,\n",
       "  <matplotlib.axis.XTick at 0x7f5c2a58cd30>,\n",
       "  <matplotlib.axis.XTick at 0x7f5c2a591280>,\n",
       "  <matplotlib.axis.XTick at 0x7f5c2a591790>],\n",
       " [Text(0, 0, 'BAU_0'),\n",
       "  Text(0, 0, 'BAU_0_p1'),\n",
       "  Text(0, 0, 'BAU_0_p2'),\n",
       "  Text(0, 0, 'BAU_1'),\n",
       "  Text(0, 0, 'BAU_FS1'),\n",
       "  Text(0, 0, 'BAU_RR'),\n",
       "  Text(0, 0, 'BAU_RR_p1'),\n",
       "  Text(0, 0, 'BAU_RR_p2'),\n",
       "  Text(0, 0, 'CCF_P1'),\n",
       "  Text(0, 0, 'CCF_P2'),\n",
       "  Text(0, 0, 'CCF_P3'),\n",
       "  Text(0, 0, 'CCF_P3_p1'),\n",
       "  Text(0, 0, 'CCF_P3_p2'),\n",
       "  Text(0, 0, 'CCF_STATE'),\n",
       "  Text(0, 0, 'NOT')])"
      ]
     },
     "execution_count": 88,
     "metadata": {},
     "output_type": "execute_result"
    }
   ],
   "source": [
    "plt.bar(range(len(regimeAmounts)), list(regimeAmounts.values()), align='center')\n",
    "plt.xticks(range(len(regimeAmounts)), list(regimeAmounts.keys()),rotation=\"vertical\")"
   ]
  },
  {
   "cell_type": "markdown",
   "metadata": {},
   "source": [
    "## Export data as csv\n",
    "- Solution_alldata contains the optimal regime per stand AND the timely development of indicator values plus all other input columns (represented_are_by_NFIplot, region, NUTS2)\n",
    "- Solution contains only the selected optimal regime and its share (if multiple regimes per stand are selected)"
   ]
  },
  {
   "cell_type": "code",
   "execution_count": 89,
   "metadata": {},
   "outputs": [],
   "source": [
    "try:\n",
    "    os.mkdir(\"results\")\n",
    "except FileExistsError:\n",
    "    pass\n",
    "b = []\n",
    "c = []\n",
    "for key in mfo.regimesDecision.keys():\n",
    "    if mfo.regimesDecision[key].solution_value() > 0:\n",
    "        b = b+ [(key[0],x*5+2012, key[1]) for x in range(0,21)]\n",
    "        c = c+ [(key[0],key[1],mfo.regimesDecision[key].solution_value())]\n",
    "data2b = mfo.data.iloc[mfo.data.index.isin(b)]\n",
    "data2b.to_csv(\"./results/\"+scenario+\"_\"+RCP+\"_data.csv\")\n",
    "c1 = pd.DataFrame(c)\n",
    "c1.to_csv(\"./results/\"+scenario+\"_\"+RCP+\"_solutions.csv\")"
   ]
  },
  {
   "cell_type": "markdown",
   "metadata": {},
   "source": [
    "## Export objective ranges"
   ]
  },
  {
   "cell_type": "markdown",
   "metadata": {},
   "source": [
    "Save as json file"
   ]
  },
  {
   "cell_type": "code",
   "execution_count": 90,
   "metadata": {},
   "outputs": [],
   "source": [
    "import json\n",
    "mfo.objectiveRanges\n",
    "\n",
    "with open('./results/objectiveRanges_'+scenario+'_'+RCP+'.json', 'w') as json_file:\n",
    "  json.dump(mfo.objectiveRanges, json_file)"
   ]
  },
  {
   "cell_type": "markdown",
   "metadata": {},
   "source": [
    "Save as CSV."
   ]
  },
  {
   "cell_type": "code",
   "execution_count": 91,
   "metadata": {},
   "outputs": [],
   "source": [
    "import pandas\n",
    "df = pandas.read_json('./results/objectiveRanges_'+scenario+'_'+RCP+'.json')\n",
    "\n",
    "df.to_csv('./results/objectiveRanges_'+scenario+'_'+RCP+'.csv')"
   ]
  },
  {
   "cell_type": "markdown",
   "metadata": {},
   "source": [
    "## Export objective values\n",
    "The optimal solution for each objective."
   ]
  },
  {
   "cell_type": "code",
   "execution_count": 92,
   "metadata": {},
   "outputs": [],
   "source": [
    "import os\n",
    "with open(\"./results/objectiveValues_\"+scenario+\"_\"+RCP+\".csv\",\"w\") as file:\n",
    "    delim = \"\"\n",
    "    for objName in mfo.objectiveTypes.keys():\n",
    "        file.write(delim+objName)\n",
    "        delim = \",\"\n",
    "    file.write(\"\\n\")\n",
    "    delim = \"\"\n",
    "    for objName in mfo.objectiveTypes.keys():\n",
    "        file.write(delim+str(mfo.objective[objName].solution_value()))\n",
    "        delim = \",\"\n",
    "    file.write(\"\\n\")"
   ]
  },
  {
   "cell_type": "code",
   "execution_count": null,
   "metadata": {},
   "outputs": [],
   "source": []
  }
 ],
 "metadata": {
  "kernelspec": {
   "display_name": "Python 3",
   "language": "python",
   "name": "python3"
  },
  "language_info": {
   "codemirror_mode": {
    "name": "ipython",
    "version": 3
   },
   "file_extension": ".py",
   "mimetype": "text/x-python",
   "name": "python",
   "nbconvert_exporter": "python",
   "pygments_lexer": "ipython3",
   "version": "3.8.3"
  }
 },
 "nbformat": 4,
 "nbformat_minor": 2
}
